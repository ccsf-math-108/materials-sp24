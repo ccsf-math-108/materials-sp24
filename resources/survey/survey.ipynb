{
 "cells": [
  {
   "cell_type": "markdown",
   "id": "4cba739c-1c86-4638-a17f-a4686c90e7e0",
   "metadata": {},
   "source": [
    "# Spring 2024 Survey Analysis"
   ]
  },
  {
   "cell_type": "markdown",
   "id": "4f4e862b-145a-4d44-aaf7-7f1ebc092663",
   "metadata": {},
   "source": [
    "Run the following code cell to import the course tools."
   ]
  },
  {
   "cell_type": "code",
   "execution_count": null,
   "id": "04886564-18c8-4e63-ad2f-fff49fda55bf",
   "metadata": {},
   "outputs": [],
   "source": [
    "from datascience import *\n",
    "import numpy as np\n",
    "%matplotlib inline\n",
    "import matplotlib.pyplot as plt\n",
    "plt.style.use('fivethirtyeight')"
   ]
  },
  {
   "cell_type": "markdown",
   "id": "8f3a4292-81ba-4a68-91d8-6418a34f0a8e",
   "metadata": {},
   "source": [
    "## Data"
   ]
  },
  {
   "cell_type": "markdown",
   "id": "6d1f2bcb-6608-44c5-901b-c3d36f4676c4",
   "metadata": {},
   "source": [
    "Run the following cell to load the un-edited survey data into the table called `survey`."
   ]
  },
  {
   "cell_type": "code",
   "execution_count": null,
   "id": "3a1e1749-95fb-45a9-8000-cafc53b47e17",
   "metadata": {},
   "outputs": [],
   "source": [
    "data_url = 'https://raw.githubusercontent.com/ccsf-math-108/\\\n",
    "materials-sp24/main/resources/survey/survey.csv'\n",
    "survey = Table.read_table(data_url)\n",
    "survey.show(3)"
   ]
  },
  {
   "cell_type": "markdown",
   "id": "0532319f-602d-4f35-843c-5987c1a816fb",
   "metadata": {},
   "source": [
    "## Variables"
   ]
  },
  {
   "cell_type": "markdown",
   "id": "720ae5c2-9726-4d1f-abc5-6dc1b32648c8",
   "metadata": {},
   "source": [
    "Here are the variables and the related questions in [the survey](https://github.com/ccsf-math-108/materials-sp24/blob/main/resources/survey/survey.pdf).\n",
    "\n",
    "* `crn`:: Which section of MATH 108 are you in?\n",
    "* `age`:: How old are you?\n",
    "* `us`:: Where you born in the United States?\n",
    "* `zipcode`:: What zipcode do you currently associate with your main residence?\n",
    "* `da_cert`:: Are you planning to complete the CCSF [Data Analytics Fundamentals Certificate](https://www.ccsf.edu/degrees-certificates/data-analytics) requirements?\n",
    "* `ds_deg`:: Are you planning to complete the [CCSF Data Science AS Degree](https://www.ccsf.edu/degrees-certificates/data-science) requirements?\n",
    "* `career_change`:: Are you taking MATH 108 with the intention to change careers?\n",
    "* `moon`:: Do you think the US Apollo 11 moon landing was staged/fake?\n",
    "* `self_care`:: Which of the following forms of self-care do you intentionally focus at least once per week?\n",
    "* `study_groups`:: Do you want to work in small groups with other MATH 108 students outside of class meetings to complete assignments?\n",
    "* `ed_level`:: What category describes your highest education level prior to this semester?\n",
    "* `math_ed_exp`:: How would you generally describe your experience studying Mathematics in school?\n",
    "* `prior_python`:: Prior to the class, have you used the Python programming language in any way?\n",
    "* `prior_programming`:: Prior to starting this course, what is your experience with using programming languages?\n",
    "* `assignment_time`:: How many hours per week do you plan to spend on completing assignments and studying for this course?\n",
    "* `getting_help`:: On a scale of 0 to 10, how likely are you to ask for help in this class?\n",
    "* `commute_time`:: Approximately how long is your typical commute to class/CCSF?\n",
    "* `friends`:: How many friends do you communicate with at least weekly?\n",
    "* `work_hours`:: Approximately how many hours are you required to work per week?\n",
    "* `work_industry`:: What general industry to do you currently work in?\n",
    "* `seq_length`:: How long of a sequence can you remember? Go to [https://humanbenchmark.com/tests/sequence](https://humanbenchmark.com/tests/sequence) and complete the test twice. Respond with your best level number. Please, be honest :)\n",
    "* `num_countries`:: How many countries have you visited outside of the United States?\n",
    "* `movie_genres`:: What are your top 3 favorite movie genres?\n",
    "* `vet`:: Are you a military veteran?\n",
    "* `social`:: Do you prefer spending time alone or with a group of people?\n",
    "* `decision_intuition`:: When making decisions, are you more likely to rely on concrete facts and details or on your gut feelings and possibilities?\n",
    "* `decision_priority`:: When making decisions, do you tend to prioritize logic and objectivity, or do you consider the impact on people and emotions?\n",
    "* `daily_life`:: In your daily life, do you prefer having a structured and organized routine, or do you like to keep things flexible and adaptable?\n",
    "* `assignment_hours`:: What are the 2 major times of day (outside of class meetings) you plan to work on MATH 108 assignments?\n",
    "* `assignment_days`:: What top 2 days do you plan to work on MATH 108 assignments?\n",
    "* `frisco_perc`:: What approximate percentage of your life have you lived in San Francisco?\n",
    "* `prior_stats`:: Prior to starting this class, what is your experience working with college-level Statistics (Topics: hypothesis testing, confidence intervals, etc.)?\n",
    "* `course_units`:: How many course units are you taking this semester?\n",
    "* `se_status`:: Which of the following would you use to describe your socioeconomic status?\n",
    "* `course_support`:: What forms of course support to plan to utilize this semester?\n",
    "* `course_challenge`:: What do you anticipate is going to be the hardest thing about this course?\n",
    "* `remote_work`:: How do you feel about remote work?\n",
    "* `math_108_prep`:: Before the semester started, how prepared did you feel for this course?\n",
    "* `math_108_value`:: How valuable do you think this course will be for you? Interpret value in any meaningful way (personal/career growth, financial, etc.).\n",
    "* `math_108_value_inter`:: Completing this course holds some value for you. How do you personally interpret what value means in this context?\n",
    "* `first_semester`:: Is this your first semester in college?\n",
    "* `cert_degree`:: What degree or certificate are you working towards?\n",
    "* `study_space`:: Do you have a reliable place to study for this course?\n",
    "* `language_num`:: How many languages are you comfortable communicating in (Include non-verbal and technical languages such as American Sign Language, Java, etc.)\n",
    "* `wake_up_time`:: What time do you typically wake up?\n",
    "* `sleep_time`:: What time do you typically go to sleep?\n",
    "* `reaction_time_ms`:: How fast is your reaction time? Go to [https://humanbenchmark.com/tests/reactiontime](https://humanbenchmark.com/tests/reactiontime) and complete the test 5 times until it tells you to save your score. Respond with the time (ms) they show you on the save screen. Please, be honest :)\n",
    "* `finger_length_mm`:: How long is your index finger?\n",
    "* `ovd_length`:: How far is it between your chin and the bottom of your nose?\n",
    "* `bday`:: What is your birthday (Month/Day)?\n",
    "\n"
   ]
  },
  {
   "cell_type": "markdown",
   "id": "8e52874a-259f-42a9-9315-745c4fc25c4f",
   "metadata": {},
   "source": [
    "## Analysis"
   ]
  },
  {
   "cell_type": "code",
   "execution_count": null,
   "id": "0f88a600-0cde-4c81-9d6e-5f830f16485d",
   "metadata": {},
   "outputs": [],
   "source": []
  }
 ],
 "metadata": {
  "kernelspec": {
   "display_name": "Python 3 (ipykernel)",
   "language": "python",
   "name": "python3"
  },
  "language_info": {
   "codemirror_mode": {
    "name": "ipython",
    "version": 3
   },
   "file_extension": ".py",
   "mimetype": "text/x-python",
   "name": "python",
   "nbconvert_exporter": "python",
   "pygments_lexer": "ipython3",
   "version": "3.10.12"
  }
 },
 "nbformat": 4,
 "nbformat_minor": 5
}
