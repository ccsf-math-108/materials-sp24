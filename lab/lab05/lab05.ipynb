{
 "cells": [
  {
   "cell_type": "code",
   "execution_count": null,
   "id": "0075d6a3",
   "metadata": {
    "deletable": false,
    "editable": false
   },
   "outputs": [],
   "source": [
    "# Initialize Otter\n",
    "import otter\n",
    "grader = otter.Notebook(\"lab05.ipynb\")"
   ]
  },
  {
   "cell_type": "markdown",
   "id": "eb8a56d4-a66b-475e-823f-92dc6c234d28",
   "metadata": {},
   "source": [
    "<img style=\"display: block; margin-left: auto; margin-right: auto\" src=\"./ccsf-logo.png\" width=\"250rem;\" alt=\"The CCSF black and white logo\">"
   ]
  },
  {
   "cell_type": "markdown",
   "id": "107ac2c5-8ffc-411d-83d2-9d63b976305b",
   "metadata": {},
   "source": [
    "# Lab 05 - Simulation and Chance"
   ]
  },
  {
   "cell_type": "markdown",
   "id": "4874a705-fabe-435d-ae21-5d43f8b620d7",
   "metadata": {},
   "source": [
    "## References"
   ]
  },
  {
   "cell_type": "markdown",
   "id": "85ad32b6-8306-4c8c-9b9a-dd3280f17742",
   "metadata": {},
   "source": [
    "* [Sections 9.0 - 9.5 of the Textbook](https://inferentialthinking.com/chapters/09/Randomness.html)\n",
    "* [datascience Documentation](https://datascience.readthedocs.io/)\n",
    "* [Python Quick Reference](https://ccsf-math-108.github.io/materials-fa23/resources/quick_reference.html)"
   ]
  },
  {
   "cell_type": "markdown",
   "id": "b0793782-1afe-4025-a23c-52ee81cd305f",
   "metadata": {},
   "source": [
    "## Assignment Reminders"
   ]
  },
  {
   "cell_type": "markdown",
   "id": "6cc77812-1483-47c3-b029-ef0ba750d9e5",
   "metadata": {},
   "source": [
    "- Make sure to run the code cell at the top of this notebook that starts with `# Initialize Otter` to load the auto-grader.\n",
    "- For all tasks indicated with a 🔎 that you must write explanations and sentences for, provide your answer in the designated space.\n",
    "- Throughout this assignment and all future ones, please be sure to not re-assign variables throughout the notebook! _For example, if you use `max_temperature` in your answer to one question, do not reassign it later on. Otherwise, you will fail tests that you thought you were passing previously!_\n",
    "- Collaborating on labs is more than okay -- it's encouraged! You should rarely remain stuck for more than a few minutes on questions in labs, so ask an instructor or classmate for help. (Explaining things is beneficial, too -- the best way to solidify your knowledge of a subject is to explain it.) Please don't just share answers, though.\n",
    "- View the related <a href=\"https://ccsf.instructure.com\" target=\"_blank\">Canvas</a> Assignment page for additional details."
   ]
  },
  {
   "cell_type": "markdown",
   "id": "3dcf3873-2839-4a05-91f3-582e97e3376c",
   "metadata": {},
   "source": [
    "Run the following cell to set up the lab, and make sure you run the cell at the top of the notebook that initializes Otter."
   ]
  },
  {
   "cell_type": "code",
   "execution_count": null,
   "id": "d761985d-4ddd-44ed-8c9e-e06d1fe70aaa",
   "metadata": {},
   "outputs": [],
   "source": [
    "from datascience import *\n",
    "import numpy as np\n",
    "%matplotlib inline\n",
    "import matplotlib.pyplot as plt\n",
    "plt.style.use('fivethirtyeight')"
   ]
  },
  {
   "cell_type": "markdown",
   "id": "e696a44d-717d-4625-8478-cd946519b5f6",
   "metadata": {},
   "source": [
    "## Nachos and Conditionals"
   ]
  },
  {
   "cell_type": "markdown",
   "id": "7d9566c5-abbc-4389-96eb-50eb2dbf8f04",
   "metadata": {},
   "source": [
    "In Python, the boolean data type contains only two unique values:  `True` and `False`. Expressions containing comparison operators such as `<` (less than), `>` (greater than), and `==` (equal to) evaluate to Boolean values. A list of common comparison operators can be found below!\n",
    "\n",
    "| Comparison            | Operator | True example | False example |\n",
    "|-----------------------|----------|--------------|---------------|\n",
    "| Less than             | <        | 2 < 3        | 2 < 2         |\n",
    "| Great than            | >        | 3 > 2        | 3 > 3         |\n",
    "| Less than or equal    | <=       | 2 <= 2       | 3 <= 2        |\n",
    "| Greater than or equal | >=       | 3 >= 3       | 2 >= 3        |\n",
    "| Equal                 | ==       | 3 == 3       | 3 == 2        |\n",
    "| Not equal             | !=       | 3 != 2       | 2 != 2        |"
   ]
  },
  {
   "cell_type": "markdown",
   "id": "e9b3ab5a-78ce-4f09-97e0-a9588b08a872",
   "metadata": {},
   "source": [
    "Run the cell below to see an example of a comparison operator in action."
   ]
  },
  {
   "cell_type": "code",
   "execution_count": null,
   "id": "39d315f9-e554-4e21-83d8-76b3d673e325",
   "metadata": {},
   "outputs": [],
   "source": [
    "3 > 1 + 1"
   ]
  },
  {
   "cell_type": "markdown",
   "id": "bfd2fe9f-b764-4440-82e4-8bbde036ff13",
   "metadata": {},
   "source": [
    "We can even assign the result of a comparison operation to a variable."
   ]
  },
  {
   "cell_type": "code",
   "execution_count": null,
   "id": "468a16d3-715e-4ad1-b0f2-41a571469a8e",
   "metadata": {},
   "outputs": [],
   "source": [
    "result = 10 / 2 == 5\n",
    "result"
   ]
  },
  {
   "cell_type": "markdown",
   "id": "e4144786-6a12-4206-8ccb-d0b76b4ea6ed",
   "metadata": {},
   "source": [
    "Arrays are compatible with comparison operators. The output is an array of boolean values."
   ]
  },
  {
   "cell_type": "code",
   "execution_count": null,
   "id": "4dc96e9b-726f-4f9a-9892-6468e2f7cdb3",
   "metadata": {},
   "outputs": [],
   "source": [
    "make_array(1, 5, 7, 8, 3, -1) > 3"
   ]
  },
  {
   "cell_type": "markdown",
   "id": "83fb9273-e805-4e8f-83e5-94e0844e3136",
   "metadata": {},
   "source": [
    "One day, when you come home after a long week, you see a hot bowl of nachos waiting on the dining table! Let's say that whenever you take a nacho from the bowl, it will either have only **cheese**, only **salsa**, **both** cheese and salsa, or **neither** cheese nor salsa (a sad tortilla chip indeed). \n",
    "\n",
    "Let's try and simulate taking nachos from the bowl at random using the function, `np.random.choice(...)`."
   ]
  },
  {
   "cell_type": "markdown",
   "id": "6af5766a-9cfd-40c3-8f19-ca020dc6850d",
   "metadata": {},
   "source": [
    "### `np.random.choice`"
   ]
  },
  {
   "cell_type": "markdown",
   "id": "bdbd227b-6a0d-4cf3-9c34-4ef17da6d246",
   "metadata": {},
   "source": [
    "`np.random.choice` picks one item at random from the given array. It is equally likely to pick any of the items. Run the cell below several times, and observe how the results change."
   ]
  },
  {
   "cell_type": "code",
   "execution_count": null,
   "id": "48ddb0b5-893d-4751-985c-909d7d542de6",
   "metadata": {},
   "outputs": [],
   "source": [
    "nachos = make_array('cheese', 'salsa', 'both', 'neither')\n",
    "np.random.choice(nachos)"
   ]
  },
  {
   "cell_type": "markdown",
   "id": "61e8d752-47fb-48e8-8f31-75883b7991ee",
   "metadata": {},
   "source": [
    "To repeat this process multiple times, pass in an int `n` as the second argument to return `n` different random choices. By default, `np.random.choice` samples **with replacement** and returns an *array* of items. \n",
    "\n",
    "Run the next cell to see an example of sampling with replacement 10 times from the `nachos` array."
   ]
  },
  {
   "cell_type": "code",
   "execution_count": null,
   "id": "c02dd4fd-57af-498d-b7ef-68d93a8e9bfd",
   "metadata": {},
   "outputs": [],
   "source": [
    "np.random.choice(nachos, 10)"
   ]
  },
  {
   "cell_type": "markdown",
   "id": "64cfbecf-8316-4d69-9116-94e0af6f9e2a",
   "metadata": {},
   "source": [
    "To count the number of times a certain type of nacho is randomly chosen, we can use `np.count_nonzero`"
   ]
  },
  {
   "cell_type": "markdown",
   "id": "f12575c4-7854-44a6-837b-43b209e0fe9e",
   "metadata": {},
   "source": [
    "### `np.count_nonzero`"
   ]
  },
  {
   "cell_type": "markdown",
   "id": "b0a7b0e8-bf9e-4c9a-9246-80559c600712",
   "metadata": {},
   "source": [
    "`np.count_nonzero` counts the number of non-zero values that appear in an array. When an array of boolean values are passed through the function, it will count the number of `True` values (remember that in Python, `True` is coded as 1 and `False` is coded as 0.)\n",
    "\n",
    "Run the next cell to see an example that uses `np.count_nonzero`."
   ]
  },
  {
   "cell_type": "code",
   "execution_count": null,
   "id": "a21d9255-f0da-4362-bf91-8e4cd429e40d",
   "metadata": {},
   "outputs": [],
   "source": [
    "np.count_nonzero(make_array(True, False, False, True, True))"
   ]
  },
  {
   "cell_type": "markdown",
   "id": "44da874f-2c6c-450e-b513-540bdf17eb01",
   "metadata": {},
   "source": [
    "### Task 01 📍"
   ]
  },
  {
   "cell_type": "markdown",
   "id": "35ed944d-23f0-4f35-942d-4b1166b8ecff",
   "metadata": {
    "deletable": false,
    "editable": false
   },
   "source": [
    "Assume we took ten nachos at random, and stored the results in an array called `ten_nachos` as done below. Find the number of nachos with only cheese using code (do not hardcode the answer).  \n",
    "\n",
    "*Hint:* Our solution involves a comparison operator (e.g. `=`, `<`, ...) and the `np.count_nonzero` method.\n"
   ]
  },
  {
   "cell_type": "code",
   "execution_count": null,
   "id": "b5019bf7-0bd1-43ac-a94e-04b493051e9b",
   "metadata": {
    "tags": []
   },
   "outputs": [],
   "source": [
    "ten_nachos = make_array('neither', 'cheese', 'both', 'both', 'cheese', 'salsa', 'both', 'neither', 'cheese', 'both')\n",
    "number_cheese = ...\n",
    "number_cheese"
   ]
  },
  {
   "cell_type": "code",
   "execution_count": null,
   "id": "fac50bf9",
   "metadata": {
    "deletable": false,
    "editable": false
   },
   "outputs": [],
   "source": [
    "grader.check(\"task_01\")"
   ]
  },
  {
   "cell_type": "markdown",
   "id": "8a474c33-22d4-4e57-a5e8-37c66cfe9196",
   "metadata": {},
   "source": [
    "### Conditional Statements"
   ]
  },
  {
   "cell_type": "markdown",
   "id": "d47f80e1-8382-4cb4-ab01-a67f16f7722c",
   "metadata": {},
   "source": [
    "A conditional statement is a multi-line statement that allows Python to choose among different alternatives based on the truth value of an expression.\n",
    "\n",
    "Here is a basic example.\n",
    "\n",
    "```\n",
    "def sign(x):\n",
    "    if x > 0:\n",
    "        return 'Positive'\n",
    "    else:\n",
    "        return 'Negative'\n",
    "```\n",
    "\n",
    "If the input `x` is greater than `0`, we return the string `'Positive'`. Otherwise, we return `'Negative'`.\n",
    "\n",
    "If we want to test multiple conditions at once, we use the following general format.\n",
    "\n",
    "```\n",
    "if <if expression>:\n",
    "    <if body>\n",
    "elif <elif expression 0>:\n",
    "    <elif body 0>\n",
    "elif <elif expression 1>:\n",
    "    <elif body 1>\n",
    "...\n",
    "else:\n",
    "    <else body>\n",
    "```\n",
    "\n",
    "Only the body for the first conditional expression that is true will be evaluated. Each `if` and `elif` expression is evaluated and considered in order, starting at the top. As soon as a true value is found, the corresponding body is executed, and the rest of the conditional statement is skipped. If none of the `if` or `elif` expressions are true, then the `else body` is executed. \n",
    "\n",
    "For more examples and explanation, refer to the section on conditional statements [here](https://inferentialthinking.com/chapters/09/1/Conditional_Statements.html)."
   ]
  },
  {
   "cell_type": "markdown",
   "id": "c83357fb-4ae5-4f6e-b9fc-0c714128ca90",
   "metadata": {},
   "source": [
    "### Task 02 📍"
   ]
  },
  {
   "cell_type": "markdown",
   "id": "838bed22-67b4-485c-a7dd-1ff52f4235fd",
   "metadata": {
    "deletable": false,
    "editable": false
   },
   "source": [
    "Complete the following conditional statement so that the string `'More please'` is assigned to the variable `say_please` if the number of nachos with cheese in `ten_nachos` is less than `5`.\n",
    "\n",
    "*Hint*: You should be using `number_cheese` from Question 1.\n"
   ]
  },
  {
   "cell_type": "code",
   "execution_count": null,
   "id": "64515127-eb78-440a-9b65-58860228d8c6",
   "metadata": {
    "for_assignment_type": "student",
    "tags": []
   },
   "outputs": [],
   "source": [
    "say_please = '?'\n",
    "\n",
    "if ...:\n",
    "    say_please = 'More please' \n",
    "\n",
    "say_please"
   ]
  },
  {
   "cell_type": "code",
   "execution_count": null,
   "id": "f42631f1",
   "metadata": {
    "deletable": false,
    "editable": false
   },
   "outputs": [],
   "source": [
    "grader.check(\"task_02\")"
   ]
  },
  {
   "cell_type": "markdown",
   "id": "7d0abf09-badc-4ed0-ae98-fbc2f2e49083",
   "metadata": {},
   "source": [
    "### Task 03 📍"
   ]
  },
  {
   "cell_type": "markdown",
   "id": "c92caf00-88e6-4444-b49f-0c7835457be9",
   "metadata": {
    "deletable": false,
    "editable": false
   },
   "source": [
    "Write a function called `nacho_reaction` that returns a reaction (as a string) based on the type of nacho passed in as an argument. Use the table below to match the nacho type to the appropriate reaction.\n",
    "\n",
    "<img src=\"./nacho_reactions.png\">\n",
    "\n",
    "*Hint:* If you're failing the test, double check the spelling of your reactions.\n"
   ]
  },
  {
   "cell_type": "code",
   "execution_count": null,
   "id": "99c536b0-32f6-49b6-8e5a-d145b6aad81f",
   "metadata": {
    "for_assignment_type": "student",
    "tags": []
   },
   "outputs": [],
   "source": [
    "def nacho_reaction(nacho):\n",
    "    if nacho == \"cheese\":\n",
    "        ...\n",
    "    ... :\n",
    "        ...\n",
    "    ... :\n",
    "        ...\n",
    "    ... :\n",
    "        ...\n",
    "\n",
    "\n",
    "spicy_nacho = nacho_reaction('salsa')\n",
    "spicy_nacho"
   ]
  },
  {
   "cell_type": "code",
   "execution_count": null,
   "id": "644247e1",
   "metadata": {
    "deletable": false,
    "editable": false
   },
   "outputs": [],
   "source": [
    "grader.check(\"task_03\")"
   ]
  },
  {
   "cell_type": "markdown",
   "id": "94723d34-7c89-468b-9f8f-289393d7b204",
   "metadata": {},
   "source": [
    "### Task 04 📍"
   ]
  },
  {
   "cell_type": "markdown",
   "id": "e62124a8-8be6-413f-a1e4-ab62f17338be",
   "metadata": {
    "deletable": false,
    "editable": false
   },
   "source": [
    "Create a table `ten_nachos_reactions` that consists of the nachos in `ten_nachos` as well as the reactions for each of those nachos. The columns should be called `Nachos` and `Reactions`.\n",
    "\n",
    "*Hint:* Use the `apply` method. \n"
   ]
  },
  {
   "cell_type": "code",
   "execution_count": null,
   "id": "18b12148-25d2-4d32-8013-dca993fb6cc3",
   "metadata": {
    "for_assignment_type": "student",
    "tags": []
   },
   "outputs": [],
   "source": [
    "ten_nachos_tbl = Table().with_column('Nachos', ten_nachos)\n",
    "...\n",
    "ten_nachos_reactions"
   ]
  },
  {
   "cell_type": "code",
   "execution_count": null,
   "id": "30a20ef4",
   "metadata": {
    "deletable": false,
    "editable": false
   },
   "outputs": [],
   "source": [
    "grader.check(\"task_04\")"
   ]
  },
  {
   "cell_type": "markdown",
   "id": "6503694d-38b4-4ebb-b398-32072b75ce99",
   "metadata": {},
   "source": [
    "### Task 05 📍"
   ]
  },
  {
   "cell_type": "markdown",
   "id": "422378e0-f90e-4a93-a99a-5c43bab66b43",
   "metadata": {
    "deletable": false,
    "editable": false
   },
   "source": [
    "Using code, find the number of 'Wow!' reactions for the nachos in `ten_nachos_reactions`.\n"
   ]
  },
  {
   "cell_type": "code",
   "execution_count": null,
   "id": "96f81049-754d-48ff-8139-def063c0c645",
   "metadata": {
    "tags": []
   },
   "outputs": [],
   "source": [
    "number_wow_reactions = ...\n",
    "number_wow_reactions"
   ]
  },
  {
   "cell_type": "code",
   "execution_count": null,
   "id": "07ae2bb8",
   "metadata": {
    "deletable": false,
    "editable": false
   },
   "outputs": [],
   "source": [
    "grader.check(\"task_05\")"
   ]
  },
  {
   "cell_type": "markdown",
   "id": "f5d835a8-00d4-4709-9fac-99daf16426fe",
   "metadata": {},
   "source": [
    "## Simulations and For Loops"
   ]
  },
  {
   "cell_type": "markdown",
   "id": "4c347362-e1f0-4598-85b1-6930eb48f479",
   "metadata": {},
   "source": [
    "Using a `for` statement, we can perform a task multiple times. This is known as iteration."
   ]
  },
  {
   "cell_type": "markdown",
   "id": "0f42eb0b-393f-4db8-9ea1-6aa07fa393c1",
   "metadata": {},
   "source": [
    "One use of iteration is to loop through a set of values. For instance, we can print out all of the colors of the rainbow."
   ]
  },
  {
   "cell_type": "code",
   "execution_count": null,
   "id": "57970ec9-835c-410d-b2c6-a9f3a08d5380",
   "metadata": {},
   "outputs": [],
   "source": [
    "rainbow = make_array(\"red\", \"orange\", \"yellow\", \"green\", \"blue\", \"indigo\", \"violet\")\n",
    "\n",
    "for color in rainbow:\n",
    "    print(color)"
   ]
  },
  {
   "cell_type": "markdown",
   "id": "4c46dc3d-5a98-4155-b033-86b55b4be9bd",
   "metadata": {},
   "source": [
    "We can see that the indented part of the `for` loop, known as the body, is executed once for each item in `rainbow`. The name `color` is assigned to the next value in `rainbow` at the start of each iteration. Note that the name `color` is arbitrary; we could easily have named it something else. The important thing is we stay consistent throughout the `for` loop. "
   ]
  },
  {
   "cell_type": "code",
   "execution_count": null,
   "id": "18e18f49-deef-4a5b-a3ef-430e5da0635b",
   "metadata": {},
   "outputs": [],
   "source": [
    "for another_name in rainbow:\n",
    "    print(another_name)"
   ]
  },
  {
   "cell_type": "markdown",
   "id": "79ffad8f-935c-4690-8f38-ccc5d0fb0b08",
   "metadata": {},
   "source": [
    "In general, however, we would like the variable name to be somewhat informative. "
   ]
  },
  {
   "cell_type": "markdown",
   "id": "e2d32df4-130b-404e-9ea1-7d17c82f6862",
   "metadata": {},
   "source": [
    "### Task 06 📍"
   ]
  },
  {
   "cell_type": "markdown",
   "id": "5949229b-fa45-4d2a-ac93-8c2d01bf105e",
   "metadata": {
    "deletable": false,
    "editable": false
   },
   "source": [
    "In the following cell, we've loaded the text of _Pride and Prejudice_ by Jane Austen, split it into individual words, and stored these words in an array `p_and_p_words`. Using a `for` loop, assign `longer_than_five` to the number of words in the novel that are more than 5 characters long.\n",
    "\n",
    "*Hint*: You can find the number of letters in a word with the `len` function.\n",
    "\n",
    "*Note*: You should expect \"words\" like `\"About` to be included in this collection of words that are more than 5 characters long because the quotation mark is not removed with the `split` function.\n"
   ]
  },
  {
   "cell_type": "code",
   "execution_count": null,
   "id": "0e5dd3b3-3c75-44d8-90ee-e3f4525d9fe5",
   "metadata": {
    "for_assignment_type": "student",
    "tags": []
   },
   "outputs": [],
   "source": [
    "austen_string = open('Austen_PrideAndPrejudice.txt', encoding='utf-8').read()\n",
    "p_and_p_words = np.array(austen_string.split())\n",
    "\n",
    "longer_than_five = ...\n",
    "\n",
    "# a for loop would be useful here\n",
    "\n",
    "\n",
    "\n",
    "longer_than_five"
   ]
  },
  {
   "cell_type": "code",
   "execution_count": null,
   "id": "9fd60e43",
   "metadata": {
    "deletable": false,
    "editable": false
   },
   "outputs": [],
   "source": [
    "grader.check(\"task_06\")"
   ]
  },
  {
   "cell_type": "markdown",
   "id": "351c03bc-0ee9-4d8a-886c-5f795036e403",
   "metadata": {},
   "source": [
    "### Task 07 📍"
   ]
  },
  {
   "cell_type": "markdown",
   "id": "0c2675da-5b85-4162-bba8-aafd2f58d3b2",
   "metadata": {
    "deletable": false,
    "editable": false
   },
   "source": [
    "Using a simulation with 10,000 trials, assign num_different to the number of times, in 10,000 trials, that two words picked uniformly at random (with replacement) from Pride and Prejudice have different lengths. \n",
    "\n",
    "*Hint 1*: What function did we use in section 1 to sample at random with replacement from an array? \n",
    "\n",
    "*Hint 2*: Remember that `!=` checks for non-equality between two items.\n"
   ]
  },
  {
   "cell_type": "code",
   "execution_count": null,
   "id": "4a0209b8-0ac8-4b77-b7bc-7717d2ff22b9",
   "metadata": {
    "for_assignment_type": "student",
    "tags": []
   },
   "outputs": [],
   "source": [
    "trials = 10000\n",
    "num_different = ...\n",
    "\n",
    "for ... in ...:\n",
    "    ...\n",
    "\n",
    "num_different"
   ]
  },
  {
   "cell_type": "code",
   "execution_count": null,
   "id": "b65afedc",
   "metadata": {
    "deletable": false,
    "editable": false
   },
   "outputs": [],
   "source": [
    "grader.check(\"task_07\")"
   ]
  },
  {
   "cell_type": "markdown",
   "id": "f4c6af6d-2aac-40ea-bca2-36b1f94d6783",
   "metadata": {},
   "source": [
    "## Probability"
   ]
  },
  {
   "cell_type": "markdown",
   "id": "d11254f8-3cad-4a22-afba-a9b00968dd48",
   "metadata": {},
   "source": [
    "An electronic board with lights contains 10 equal-sized zones labeled with values from 1 to 10.\n",
    "\n",
    "<img src=\"./number_grid.png\" alt=\"a 2x5 grid of numbers 1 - 10\" width=40%></img>\n",
    "\n",
    "The board randomly illuminates a sequence of numbers at random. First, a number is lit up with a pink color, then a number is lit up with an orange color where the second number must be different than the first. For example, the following image shows 6 lit up with a pink color followed by 5 lit up with an orange color. \n",
    "\n",
    "<img src=\"./number_grid_color.png\" alt=\"a 2x5 grid of numbers 1 - 10 where 6 is pink and 5 is orange\" width=40%></img>\n",
    "\n",
    "After the sequence of two numbers is shown, the board resets.\n",
    "\n",
    "<img src=\"./number_grid.png\" alt=\"a 2x5 grid of numbers 1 - 10\" width=40%></img>\n",
    "\n",
    "Use this situation to practice with the basic ideas of probability that you've learned so far."
   ]
  },
  {
   "cell_type": "markdown",
   "id": "438c0fbf-c238-484f-aded-dad70379c680",
   "metadata": {},
   "source": [
    "### A Definition of Probability"
   ]
  },
  {
   "cell_type": "markdown",
   "id": "b81da76f-27a8-4e4f-818f-fbc9c1f0e792",
   "metadata": {},
   "source": [
    "The probability of some event where each outcome is equally likely to happen can be calculated by dividing the number of the event that can happen by the total number of possible outcomes."
   ]
  },
  {
   "cell_type": "markdown",
   "id": "0faf30f1-2258-4623-9cc6-b51cf19c2bef",
   "metadata": {
    "tags": []
   },
   "source": [
    "### Task 08 📍"
   ]
  },
  {
   "cell_type": "markdown",
   "id": "1315488a-ab7b-4307-9f02-899707043776",
   "metadata": {
    "deletable": false,
    "editable": false
   },
   "source": [
    "A sequence of two numbers is shown. What is the probability that the first number in the sequence of two numbers illuminated is a 6? \n",
    "\n",
    "Assign `chance_6` to a value or expression that represents this probability value. The value should be a number between `0` and `1`, inclusive."
   ]
  },
  {
   "cell_type": "code",
   "execution_count": null,
   "id": "2e94b1f7-e90f-4296-bcf9-9d404b53a0f9",
   "metadata": {
    "tags": []
   },
   "outputs": [],
   "source": [
    "chance_6 = ...\n",
    "chance_6"
   ]
  },
  {
   "cell_type": "code",
   "execution_count": null,
   "id": "25e8eca2",
   "metadata": {
    "deletable": false,
    "editable": false
   },
   "outputs": [],
   "source": [
    "grader.check(\"task_08\")"
   ]
  },
  {
   "cell_type": "markdown",
   "id": "fc3e755a-951e-4c54-8537-db67d6668fc0",
   "metadata": {},
   "source": [
    "### The Multiplication Rule"
   ]
  },
  {
   "cell_type": "markdown",
   "id": "35c4b39b-f0ea-49e5-9927-d352d8c5956e",
   "metadata": {},
   "source": [
    "If you want to calculate the probability of one event happening and another event happening, then multiply the chance of the first event times the chance of the second event considering that the first event has happened. This is generally referred to as the multiplication rule."
   ]
  },
  {
   "cell_type": "markdown",
   "id": "33f75c95-b24d-4f40-9f11-9e144b3242fc",
   "metadata": {
    "tags": []
   },
   "source": [
    "### Task 09 📍"
   ]
  },
  {
   "cell_type": "markdown",
   "id": "3f877526-428d-4bb9-883e-27b787ffec17",
   "metadata": {
    "deletable": false,
    "editable": false
   },
   "source": [
    "A sequence of two numbers is shown. What is the probability that the sequence (6, 5) is illuminated on the board? \n",
    "\n",
    "Assign `chance_65` to a value or expression that represents this probability value. The value should be a number between `0` and `1`, inclusive."
   ]
  },
  {
   "cell_type": "code",
   "execution_count": null,
   "id": "d3158c10-a335-4565-9d72-9b43b5253e6a",
   "metadata": {
    "tags": []
   },
   "outputs": [],
   "source": [
    "chance_65 = ...\n",
    "chance_65"
   ]
  },
  {
   "cell_type": "code",
   "execution_count": null,
   "id": "3f582760",
   "metadata": {
    "deletable": false,
    "editable": false
   },
   "outputs": [],
   "source": [
    "grader.check(\"task_09\")"
   ]
  },
  {
   "cell_type": "markdown",
   "id": "9df0d07d-96f5-492d-b6d6-368ff45a6fac",
   "metadata": {},
   "source": [
    "### The Additional Rule for Disjoint Events"
   ]
  },
  {
   "cell_type": "markdown",
   "id": "19cceb97-44b1-4efe-a295-ed6a44e52a18",
   "metadata": {},
   "source": [
    "If there are two distinct ways for an event to occur, calculate the chance of each way happening and add the values. This is called the addition rule for disjoint events."
   ]
  },
  {
   "cell_type": "markdown",
   "id": "a2dc929c-2b1c-4a84-a2c4-6c69ac08eb6c",
   "metadata": {
    "tags": []
   },
   "source": [
    "### Task 10 📍"
   ]
  },
  {
   "cell_type": "markdown",
   "id": "30c0e7d4-af74-487e-a343-3247ae03243a",
   "metadata": {
    "deletable": false,
    "editable": false
   },
   "source": [
    "A sequence of two numbers is shown. What is the probability that the sequence (6, 5) or the sequence (5, 6) is illuminated on the board? \n",
    "\n",
    "Assign `chance_65_56` to a value or expression that represents this probability value. The value should be a number between `0` and `1`, inclusive."
   ]
  },
  {
   "cell_type": "code",
   "execution_count": null,
   "id": "4d88d40e-3a8a-4712-8a6f-e26887291e49",
   "metadata": {
    "tags": []
   },
   "outputs": [],
   "source": [
    "chance_65_56 = ...\n",
    "chance_65_56"
   ]
  },
  {
   "cell_type": "code",
   "execution_count": null,
   "id": "6afa8ebc",
   "metadata": {
    "deletable": false,
    "editable": false
   },
   "outputs": [],
   "source": [
    "grader.check(\"task_10\")"
   ]
  },
  {
   "cell_type": "markdown",
   "id": "b8a23430-52ce-4a8d-8391-bcef23376d3f",
   "metadata": {},
   "source": [
    "### The Complement Rule"
   ]
  },
  {
   "cell_type": "markdown",
   "id": "b2ce4994-3c60-4954-824d-3ee7a7299223",
   "metadata": {},
   "source": [
    "The chance of an event not happening is one minus the chance that it will happen. This is generally referred to as the complement rule."
   ]
  },
  {
   "cell_type": "markdown",
   "id": "a75c109e-f700-4116-b8de-abc25bc5c76e",
   "metadata": {
    "tags": []
   },
   "source": [
    "### Task 11 📍"
   ]
  },
  {
   "cell_type": "markdown",
   "id": "b43464e5-4cfd-4129-8a1e-9a49d9a90cd3",
   "metadata": {
    "deletable": false,
    "editable": false
   },
   "source": [
    "Twenty sequences of two numbers are shown. What is the probability that at least one of the sequences is (5, 6)?\n",
    "\n",
    "Assign `chance_at_least_one_56` to a value or expression that represents this probability value. The value should be a number between `0` and `1`, inclusive."
   ]
  },
  {
   "cell_type": "code",
   "execution_count": null,
   "id": "dba04b57-bd29-479f-a1be-48d23eb94623",
   "metadata": {
    "tags": []
   },
   "outputs": [],
   "source": [
    "chance_at_least_one_56 = ...\n",
    "chance_at_least_one_56"
   ]
  },
  {
   "cell_type": "code",
   "execution_count": null,
   "id": "c363a996",
   "metadata": {
    "deletable": false,
    "editable": false
   },
   "outputs": [],
   "source": [
    "grader.check(\"task_11\")"
   ]
  },
  {
   "cell_type": "markdown",
   "id": "c8504080-6aeb-4089-99d7-9550a3f57ecb",
   "metadata": {},
   "source": [
    "## Submit your Lab to Canvas\n",
    "\n",
    "Once you have finished working on the lab questions, prepare to submit your work in Canvas by completing the following steps.\n",
    "\n",
    "1. In the related Canvas Assignment page, check the requirements for a Complete score for this lab assignment.\n",
    "2. Double-check that you have run the code cell near the end of the notebook that contains the command `grader.check_all()`. This command will run all of the run tests on all your responses to the auto-graded tasks marked with 📍.\n",
    "3. Double-check your responses to the manually graded tasks marked with 📍🔎.\n",
    "4. Select the menu items `File`, `Save and Export Notebook As...`, and `Html_embed` in the notebook's Toolbar to download an HTML version of this notebook file.\n",
    "5. In the related Canvas Assignment page, click Start Assignment or New Attempt to upload the downloaded HTML file."
   ]
  },
  {
   "cell_type": "markdown",
   "id": "70db6c99",
   "metadata": {
    "deletable": false,
    "editable": false
   },
   "source": [
    "---\n",
    "\n",
    "To double-check your work, the cell below will rerun all of the autograder tests."
   ]
  },
  {
   "cell_type": "code",
   "execution_count": null,
   "id": "64d97b2b",
   "metadata": {
    "deletable": false,
    "editable": false
   },
   "outputs": [],
   "source": [
    "grader.check_all()"
   ]
  }
 ],
 "metadata": {
  "kernelspec": {
   "display_name": "Python 3 (ipykernel)",
   "language": "python",
   "name": "python3"
  },
  "language_info": {
   "codemirror_mode": {
    "name": "ipython",
    "version": 3
   },
   "file_extension": ".py",
   "mimetype": "text/x-python",
   "name": "python",
   "nbconvert_exporter": "python",
   "pygments_lexer": "ipython3",
   "version": "3.10.12"
  },
  "otter": {
   "OK_FORMAT": true,
   "assignment_name": "lab05_sp24",
   "tests": {
    "task_01": {
     "name": "task_01",
     "points": null,
     "suites": [
      {
       "cases": [
        {
         "code": ">>> number_cheese == 3\nTrue",
         "failure_message": "❌ There are 3 nachos with only cheese. Try using np.count_nonzero.",
         "hidden": false,
         "locked": false,
         "points": 1,
         "success_message": "✅ There are 3 nachos with only cheese."
        }
       ],
       "scored": true,
       "setup": "",
       "teardown": "",
       "type": "doctest"
      }
     ]
    },
    "task_02": {
     "name": "task_02",
     "points": null,
     "suites": [
      {
       "cases": [
        {
         "code": ">>> say_please == 'More please'\nTrue",
         "failure_message": "❌ Since number_cheese < 5, say_please should be assigned to 'More please'. Check if number_cheese < 5.",
         "hidden": false,
         "locked": false,
         "points": 1,
         "success_message": "✅ say_please is assigned to 'More please'."
        }
       ],
       "scored": true,
       "setup": "",
       "teardown": "",
       "type": "doctest"
      }
     ]
    },
    "task_03": {
     "name": "task_03",
     "points": null,
     "suites": [
      {
       "cases": [
        {
         "code": ">>> nacho_reaction('salsa') == 'Spicy!'\nTrue",
         "failure_message": "❌ nacho_reaction('salsa') should display 'Spicy!' You might need to check your spelling/punctuation.",
         "hidden": false,
         "locked": false,
         "points": 1,
         "success_message": "✅ nacho_reaction('salsa') should display 'Spicy!'."
        },
        {
         "code": ">>> nacho_reaction('cheese') == 'Cheesy!'\nTrue",
         "failure_message": "❌ nacho_reaction('cheese') should display 'Cheesy!' You might need to check your spelling/punctuation.",
         "hidden": false,
         "locked": false,
         "points": 1,
         "success_message": "✅ nacho_reaction('cheese') should display 'Cheesy!'."
        },
        {
         "code": ">>> nacho_reaction('both') == 'Wow!'\nTrue",
         "failure_message": "❌ nacho_reaction('both') should display 'Wow!' You might need to check your spelling/punctuation.",
         "hidden": false,
         "locked": false,
         "points": 1,
         "success_message": "✅ nacho_reaction('both') should display 'Wow!'."
        },
        {
         "code": ">>> nacho_reaction('neither') == 'Meh.'\nTrue",
         "failure_message": "❌ nacho_reaction('neither') should display 'Meh.' You might need to check your spelling/punctuation.",
         "hidden": false,
         "locked": false,
         "points": 1,
         "success_message": "✅ nacho_reaction('neither') should display 'Meh.'."
        }
       ],
       "scored": true,
       "setup": "",
       "teardown": "",
       "type": "doctest"
      }
     ]
    },
    "task_04": {
     "name": "task_04",
     "points": null,
     "suites": [
      {
       "cases": [
        {
         "code": ">>> np.count_nonzero(ten_nachos_reactions.column('Reactions') == make_array('Meh.', 'Cheesy!', 'Wow!', 'Wow!', 'Cheesy!', 'Spicy!', 'Wow!', 'Meh.', 'Cheesy!', 'Wow!')) == 10\nTrue",
         "failure_message": "❌ It seems like one or more of the reaction results could be incorrect. To get the values for the table, trying using the apply method with the function you just made.",
         "hidden": false,
         "locked": false,
         "points": 1,
         "success_message": "✅ The reaction values in the table seem correct."
        }
       ],
       "scored": true,
       "setup": "",
       "teardown": "",
       "type": "doctest"
      }
     ]
    },
    "task_05": {
     "name": "task_05",
     "points": null,
     "suites": [
      {
       "cases": [
        {
         "code": ">>> 2 < number_wow_reactions < 6\nTrue",
         "failure_message": "❌ number_wow_reactions should be between 2 and 6, non-inclusive. Try using np.count_nonzero.",
         "hidden": false,
         "locked": false,
         "points": 1,
         "success_message": "✅ number_wow_reactions is between 2 and 6, non-inclusive."
        },
        {
         "code": ">>> number_wow_reactions == 4\nTrue",
         "failure_message": "❌ You have the incorrect value for number_wow_reactions.",
         "hidden": false,
         "locked": false,
         "points": 1,
         "success_message": "✅ You have the correct value for number_wow_reactions."
        }
       ],
       "scored": true,
       "setup": "",
       "teardown": "",
       "type": "doctest"
      }
     ]
    },
    "task_06": {
     "name": "task_06",
     "points": null,
     "suites": [
      {
       "cases": [
        {
         "code": ">>> longer_than_five == 35453\nTrue",
         "failure_message": "❌ The value assigned to longer_than_five is not correct. Make sure to initilalize longer_than_five to 0 and check if the length of the word is great than 5 as you loop through each word in p_and_p_words.",
         "hidden": false,
         "locked": false,
         "points": 1,
         "success_message": "✅ The value assigned to longer_than_five is correct."
        }
       ],
       "scored": true,
       "setup": "",
       "teardown": "",
       "type": "doctest"
      }
     ]
    },
    "task_07": {
     "name": "task_07",
     "points": null,
     "suites": [
      {
       "cases": [
        {
         "code": ">>> 8100 <= num_different <= 9100\nTrue",
         "failure_message": "❌ num_different should be between 8100 and 9100. Try initializing num_different to 0, iterating through the number of trials, randomly choosing 2 words from p_and_p_words, checking the length of the 2 words, and updating num_different depending on the results of that check.",
         "hidden": false,
         "locked": false,
         "points": 1,
         "success_message": "✅ num_different represents a value betwen 8100 and 9100."
        }
       ],
       "scored": true,
       "setup": "",
       "teardown": "",
       "type": "doctest"
      }
     ]
    },
    "task_08": {
     "name": "task_08",
     "points": null,
     "suites": [
      {
       "cases": [
        {
         "code": ">>> 0 <= chance_6 <= 1\nTrue",
         "failure_message": "❌ chance_6 should be a number between 0 and 1, inclusive.",
         "hidden": false,
         "locked": false,
         "points": 1,
         "success_message": "✅ chance_6 is a number between 0 and 1, inclusive."
        },
        {
         "code": ">>> import hashlib\n>>> \n>>> def get_hash(num):\n...     \"\"\"Helper function for assessing correctness.\"\"\"\n...     return hashlib.md5(str(num).encode()).hexdigest()\n>>> get_hash(chance_6)\n'cb5ae17636e975f9bf71ddf5bc542075'",
         "failure_message": "❌ Your value for chance_6 is not correct! How many squares are there? How many squares are a 6?",
         "hidden": false,
         "locked": false,
         "points": 1,
         "success_message": "✅ Your value for chance_6 is correct!"
        }
       ],
       "scored": true,
       "setup": "",
       "teardown": "",
       "type": "doctest"
      }
     ]
    },
    "task_09": {
     "name": "task_09",
     "points": null,
     "suites": [
      {
       "cases": [
        {
         "code": ">>> 0 <= chance_65 <= 1\nTrue",
         "failure_message": "❌ chance_65 should be a number between 0 and 1, inclusive.",
         "hidden": false,
         "locked": false,
         "points": 1,
         "success_message": "✅ chance_65 is a number between 0 and 1, inclusive."
        },
        {
         "code": ">>> import hashlib\n>>> \n>>> def get_hash(num):\n...     \"\"\"Helper function for assessing correctness.\"\"\"\n...     return hashlib.md5(str(num).encode()).hexdigest()\n>>> get_hash(chance_65)\n'b478fb30859e0eefd5d884b2cc897fe4'",
         "failure_message": "❌ Your value for chance_65 is not correct! What is the chance the first number is 6 AND the chance the second number is 5? Remember that the second number cannot be the same as the first.",
         "hidden": false,
         "locked": false,
         "points": 1,
         "success_message": "✅ Your value for chance_65 is correct!"
        }
       ],
       "scored": true,
       "setup": "",
       "teardown": "",
       "type": "doctest"
      }
     ]
    },
    "task_10": {
     "name": "task_10",
     "points": null,
     "suites": [
      {
       "cases": [
        {
         "code": ">>> 0 <= chance_65_56 <= 1\nTrue",
         "failure_message": "❌ chance_65_56 should be a number between 0 and 1, inclusive.",
         "hidden": false,
         "locked": false,
         "points": 1,
         "success_message": "✅ chance_65_56 is a number between 0 and 1, inclusive."
        },
        {
         "code": ">>> import hashlib\n>>> \n>>> def get_hash(num):\n...     \"\"\"Helper function for assessing correctness.\"\"\"\n...     return hashlib.md5(str(num).encode()).hexdigest()\n>>> get_hash(chance_65_56)\n'0b2f1a1ebd0f3a08f97a69e68cd1db74'",
         "failure_message": "❌ Your value for chance_65_56 is not correct! This is like the previous task, but there is another possible option for a sequence.",
         "hidden": false,
         "locked": false,
         "points": 1,
         "success_message": "✅ Your value for chance_65_56 is correct!"
        }
       ],
       "scored": true,
       "setup": "",
       "teardown": "",
       "type": "doctest"
      }
     ]
    },
    "task_11": {
     "name": "task_11",
     "points": null,
     "suites": [
      {
       "cases": [
        {
         "code": ">>> 0 <= chance_at_least_one_56 <= 1\nTrue",
         "failure_message": "❌ chance_at_least_one_56 should be a number between 0 and 1, inclusive.",
         "hidden": false,
         "locked": false,
         "points": 1,
         "success_message": "✅ chance_at_least_one_56 is a number between 0 and 1, inclusive."
        },
        {
         "code": ">>> np.isclose(chance_at_least_one_56, 0.2002579269307576)\nTrue",
         "failure_message": "❌ Your value for chance_at_least_one_56 is not correct! Consider the complementary event. First, try to determine the chance that (5, 6) will not be seen in one sequence.",
         "hidden": false,
         "locked": false,
         "points": 1,
         "success_message": "✅ Your value for chance_at_least_one_56 is correct!"
        }
       ],
       "scored": true,
       "setup": "",
       "teardown": "",
       "type": "doctest"
      }
     ]
    }
   }
  }
 },
 "nbformat": 4,
 "nbformat_minor": 5
}
