{
 "cells": [
  {
   "cell_type": "code",
   "execution_count": null,
   "id": "f999f6a4",
   "metadata": {
    "deletable": false,
    "editable": false
   },
   "outputs": [],
   "source": [
    "# Initialize Otter\n",
    "import otter\n",
    "grader = otter.Notebook(\"lab08.ipynb\")"
   ]
  },
  {
   "cell_type": "markdown",
   "id": "a72c2db8-19f4-43ee-a045-dfae37e935f9",
   "metadata": {},
   "source": [
    "<img style=\"display: block; margin-left: auto; margin-right: auto\" src=\"./ccsf-logo.png\" width=\"250rem;\" alt=\"The CCSF black and white logo\">"
   ]
  },
  {
   "cell_type": "markdown",
   "id": "2b683e93-ad82-4125-8778-95c8e40c5436",
   "metadata": {},
   "source": [
    "# Lab 08 - Confidence Intervals"
   ]
  },
  {
   "cell_type": "markdown",
   "id": "9055712c-4f89-402d-b488-b414c27fa2c2",
   "metadata": {},
   "source": [
    "## References"
   ]
  },
  {
   "cell_type": "markdown",
   "id": "54c18223-1828-4128-bc7d-fb97d02708db",
   "metadata": {},
   "source": [
    "* [Sections 13.0 - 13.4 of the Textbook](https://inferentialthinking.com/chapters/13/Estimation.html)\n",
    "* [datascience Documentation](https://datascience.readthedocs.io/)\n",
    "* [Python Quick Reference](https://ccsf-math-108.github.io/materials-sp24/resources/quick-reference.html)"
   ]
  },
  {
   "cell_type": "markdown",
   "id": "56e987e4-7ef0-4b4c-8bb5-24621789a3c1",
   "metadata": {},
   "source": [
    "## Assignment Reminders"
   ]
  },
  {
   "cell_type": "markdown",
   "id": "39079026-084d-442c-b555-84e7ec5fed3b",
   "metadata": {},
   "source": [
    "- Make sure to run the code cell at the top of this notebook that starts with `# Initialize Otter` to load the auto-grader.\n",
    "- For all tasks indicated with a 🔎 that you must write explanations and sentences for, provide your answer in the designated space.\n",
    "- Throughout this assignment and all future ones, please be sure to not re-assign variables throughout the notebook! _For example, if you use `max_temperature` in your answer to one question, do not reassign it later on. Otherwise, you will fail tests that you thought you were passing previously!_\n",
    "- Collaborating on labs is more than okay -- it's encouraged! You should rarely remain stuck for more than a few minutes on questions in labs, so ask an instructor or classmate for help. (Explaining things is beneficial, too -- the best way to solidify your knowledge of a subject is to explain it.) Please don't just share answers, though.\n",
    "- View the related <a href=\"https://ccsf.instructure.com\" target=\"_blank\">Canvas</a> Assignment page for additional details."
   ]
  },
  {
   "cell_type": "markdown",
   "id": "54209a88-2879-4fe4-83ff-cdb0aba20e5f",
   "metadata": {},
   "source": [
    "Run the following cell to set up the lab, and make sure you run the cell at the top of the notebook that initializes Otter."
   ]
  },
  {
   "cell_type": "code",
   "execution_count": null,
   "id": "b286c97c-9138-4537-a20c-908d021e5c8b",
   "metadata": {},
   "outputs": [],
   "source": [
    "from datascience import *\n",
    "import numpy as np\n",
    "%matplotlib inline\n",
    "import matplotlib.pyplot as plt\n",
    "plt.style.use('fivethirtyeight')"
   ]
  },
  {
   "cell_type": "markdown",
   "id": "476fb896-780c-434b-bf33-4c93c66fa737",
   "metadata": {},
   "source": [
    "## Allied Intelligence Preliminaries"
   ]
  },
  {
   "cell_type": "markdown",
   "id": "84e06e43-2748-4484-bb89-8185150ef0d5",
   "metadata": {},
   "source": [
    "In World War II, the Allies (led by the US, the UK, and the Soviet Union) wanted to know how many military tanks the Germans had produced. However, they didn't get to see every single tank produced by the Germans – rather, all they saw was a random **sample** of tanks, and they wanted to use this sample to estimate the total number of tanks produced by the Germans. This problem, known as the [German tank problem](https://en.wikipedia.org/wiki/German_tank_problem), is a famous application of statistical estimation in a real-world scenario.\n",
    "\n",
    "To frame the problem more precisely, consider that tanks were given serial numbers ranging from 1 to `N`, where `N` was the total number of tanks produced. The Allies were trying to estimate `N`, a **population parameter**, using the serial numbers of the tanks in their sample. We will assume that the Allies' sample is a simple random sample of the population (drawn without replacement).\n",
    "\n",
    "<br>\n",
    "\n",
    "<center><img src='./tank.jpg' alt='a tank' width=400></center>\n",
    "\n",
    "<br>\n",
    "\n",
    "\n",
    "In this lab, given **just** a random sample of serial numbers, we'll estimate `N`, and then we'll use simulation to find out how accurate our estimate likely is, without ever looking at the whole population. This is an example of **statistical inference** - inferring something about a population using just the information in a sample.\n",
    "\n",
    "**Note:** As you continue to learn about Data Science and other related subjects, it is important that you understand that a lot of advancements in technology related to these subjects have been funded through military budgets. In 2024, of the [United States Department of Defense's 841.4 billion dollar budget](https://www.defense.gov/News/Releases/Release/Article/3326875/department-of-defense-releases-the-presidents-fiscal-year-2024-defense-budget/#:~:text=The%20FY%202024%20budget%20request,credible%20forces%20across%20all%20domains.), 145 billion dollar were allocated for research, development, testing, and evaluation (the largest in history).  This awareness is important because there have been many times throughout history when those developing/learning about new technologies were unaware of their original intended use(s) or the context in which they were developed."
   ]
  },
  {
   "cell_type": "markdown",
   "id": "d34c83dc-ea18-46f5-82ba-2280afdeaa40",
   "metadata": {
    "tags": []
   },
   "source": [
    "### Task 01 📍"
   ]
  },
  {
   "cell_type": "markdown",
   "id": "3a4c144f-1240-4a60-98cb-0276890c6285",
   "metadata": {
    "deletable": false,
    "editable": false
   },
   "source": [
    "Is `N` a population parameter or a statistic?  If we compute a number using our random sample that's an estimate of `N`, is that a population parameter or a statistic?  \n",
    "\n",
    "Assign either 1, 2, 3, or 4 to the variable `task_01` below. \n",
    "\n",
    "1. `N` is a population parameter.  An estimate of `N` from our random sample is a population parameter.\n",
    "2. `N` is a population parameter.  An estimate of `N` from our random sample is a statistic.\n",
    "3. `N` is a statistic.  An estimate of `N` from our random sample is a population parameter.\n",
    "4. `N` is a statistic.  An estimate of `N` from our random sample is a statistic."
   ]
  },
  {
   "cell_type": "code",
   "execution_count": null,
   "id": "2b80de39-4572-47c2-8376-b20394f12440",
   "metadata": {
    "tags": []
   },
   "outputs": [],
   "source": [
    "task_01 = ..."
   ]
  },
  {
   "cell_type": "code",
   "execution_count": null,
   "id": "8682b12e",
   "metadata": {
    "deletable": false,
    "editable": false
   },
   "outputs": [],
   "source": [
    "grader.check(\"task_01\")"
   ]
  },
  {
   "cell_type": "markdown",
   "id": "5ad16317-ce16-4098-bdbb-7696c2416924",
   "metadata": {},
   "source": [
    "To make the situation realistic, we're going to hide the true number of tanks from you.  You'll have access only to this random sample:"
   ]
  },
  {
   "cell_type": "code",
   "execution_count": null,
   "id": "d453d169-dfa5-4707-b734-2331eebcb79a",
   "metadata": {},
   "outputs": [],
   "source": [
    "observations = Table.read_table(\"serial_numbers.csv\")\n",
    "num_observations = observations.num_rows\n",
    "display(observations)\n",
    "print(f'There are {num_observations} tank serial numbers in the sample data.')"
   ]
  },
  {
   "cell_type": "markdown",
   "id": "0cdb5b3a-d86f-4145-b103-ecb1fa35b9b7",
   "metadata": {
    "tags": []
   },
   "source": [
    "### Task 02 📍🔎"
   ]
  },
  {
   "cell_type": "markdown",
   "id": "331fed3a-ef64-4bbd-afe8-2f37d04fbd58",
   "metadata": {
    "deletable": false,
    "editable": false
   },
   "source": [
    "<!-- BEGIN QUESTION -->\n",
    "\n",
    "Complete the implementation of the function `plot_serial_numbers`, which draws a histogram of any `Table` (`serial_number_table`) of serial numbers like `observations`.  \n",
    "\n",
    "* The function should take one argument, a `Table` with a single column column called `'serial_number'` (like `observations`).\n",
    "* It should plot a histogram of the values in the `'serial_number'` column **using bins of width 1** ranging from **1 to 200 (inclusive)** but return nothing.\n",
    "\n",
    "Then, call that function to make a histogram of `observations`.\n",
    "\n",
    "**Note**: Your histogram should have bars that are all the same height and the x-axis should range from 0 to 200. It will almost look like a barcode. Check your histogram with a classmate, a tutor, or the instructor before moving on. "
   ]
  },
  {
   "cell_type": "code",
   "execution_count": null,
   "id": "3c23d42c-0baf-42e1-9982-6a018412d405",
   "metadata": {
    "tags": []
   },
   "outputs": [],
   "source": [
    "def plot_serial_numbers(serial_number_table):\n",
    "    bins = ...\n",
    "    ...\n",
    "    plt.title('Distribution of Sampled Serial Numbers')\n",
    "    plt.show()\n",
    "\n",
    "# Call your function.\n",
    "plot_serial_numbers(...)"
   ]
  },
  {
   "cell_type": "markdown",
   "id": "78c52838-4dd4-4225-85bd-d259cead2e7a",
   "metadata": {
    "deletable": false,
    "editable": false,
    "tags": []
   },
   "source": [
    "<!-- END QUESTION -->\n",
    "\n",
    "### Task 03 📍"
   ]
  },
  {
   "cell_type": "markdown",
   "id": "d67bb959-0a02-4631-86f8-bd62bc926d9d",
   "metadata": {
    "deletable": false,
    "editable": false
   },
   "source": [
    "Since we are trying to estimate the population maximum, `N`, a natural statistic to use is the sample **maximum**. In other words, we can estimate the total number of tanks using the biggest serial number in our sample.\n",
    "\n",
    "Below, complete the implementation of the function `calculate_max_based_estimate`, which computes that statistic on a given array of serial numbers. It should take as its argument an array of serial numbers (`nums`) and return their maximum.\n",
    "\n",
    "After that, use it to compute an estimate of `N` using the serial numbers in `observations`. Call the estimate `max_based_estimate`."
   ]
  },
  {
   "cell_type": "code",
   "execution_count": null,
   "id": "23dab7fa-73e7-4db6-b3f2-8fe30ab25122",
   "metadata": {
    "tags": []
   },
   "outputs": [],
   "source": [
    "def calculate_max_based_estimate(nums):\n",
    "    ...\n",
    "\n",
    "max_based_estimate = ...\n",
    "max_based_estimate"
   ]
  },
  {
   "cell_type": "code",
   "execution_count": null,
   "id": "65429ff2",
   "metadata": {
    "deletable": false,
    "editable": false
   },
   "outputs": [],
   "source": [
    "grader.check(\"task_03\")"
   ]
  },
  {
   "cell_type": "markdown",
   "id": "ccc9cc48-5337-4b03-b520-ac5e09645175",
   "metadata": {
    "tags": []
   },
   "source": [
    "### Task 04 📍"
   ]
  },
  {
   "cell_type": "markdown",
   "id": "eab08139-61f4-42ee-a75d-16d73b605da5",
   "metadata": {
    "deletable": false,
    "editable": false
   },
   "source": [
    "Another way to estimate `N` is to take **twice the mean** of the serial numbers in our sample. This is based on the idea that the mean of a random sample of the numbers `1` through `N` usually falls about halfway between `1` and `N`. So we can estimate `N` by doubling this mean.\n",
    "\n",
    "Below, write a function called `calculate_mean_based_estimate` that computes that statistic. It should take as its argument an array of serial numbers and return twice their mean.\n",
    "\n",
    "After that, use it to compute an estimate of `N` using the serial numbers in `observations`. Call the estimate `mean_based_estimate`."
   ]
  },
  {
   "cell_type": "code",
   "execution_count": null,
   "id": "ab720a89-166c-4f81-90ab-296f548264ec",
   "metadata": {
    "tags": []
   },
   "outputs": [],
   "source": [
    "def calculate_mean_based_estimate(nums):\n",
    "    ...\n",
    "\n",
    "mean_based_estimate = ...\n",
    "mean_based_estimate"
   ]
  },
  {
   "cell_type": "code",
   "execution_count": null,
   "id": "4947d83f",
   "metadata": {
    "deletable": false,
    "editable": false
   },
   "outputs": [],
   "source": [
    "grader.check(\"task_04\")"
   ]
  },
  {
   "cell_type": "markdown",
   "id": "1ff0279b-0e21-40b7-956e-34eb9bdefb7a",
   "metadata": {
    "tags": []
   },
   "source": [
    "### Task 05 📍"
   ]
  },
  {
   "cell_type": "markdown",
   "id": "68d32e83-b987-476d-aca5-41c086f0db63",
   "metadata": {
    "deletable": false,
    "editable": false
   },
   "source": [
    "Look at the values of `max_based_estimate` and `mean_based_estimate` that we happened to get for our dataset."
   ]
  },
  {
   "cell_type": "code",
   "execution_count": null,
   "id": "7b7ebd00-9bac-4901-8629-b7bd84947cc5",
   "metadata": {
    "deletable": false,
    "editable": false
   },
   "outputs": [],
   "source": [
    "max_based_estimate"
   ]
  },
  {
   "cell_type": "code",
   "execution_count": null,
   "id": "f37e5d1c-06f8-4b76-b883-a4141ee3b114",
   "metadata": {
    "deletable": false,
    "editable": false
   },
   "outputs": [],
   "source": [
    "mean_based_estimate"
   ]
  },
  {
   "cell_type": "markdown",
   "id": "4c998cc7-f583-49dd-b7d0-3007c0f3743e",
   "metadata": {
    "deletable": false,
    "editable": false
   },
   "source": [
    "`max_based_estimate` and `mean_based_estimate` give you two ways to estimate `N`.  Which of the following statements are true? \n",
    "\n",
    "Assign an array of integers to the variable `task_05` where the integers in the array correspond to the following statements that are true.\n",
    "\n",
    "1. The `max_based_estimate` could be smaller than `N`.\n",
    "2. The `max_based_estimate` could be equal to `N`.\n",
    "3. The `max_based_estimate` could be greater than `N`.\n",
    "4. The `mean_based_estimate` could be smaller than `N`.\n",
    "5. The `mean_based_estimate` could be equal to `N`.\n",
    "6. The `mean_based_estimate` could be greater than `N`."
   ]
  },
  {
   "cell_type": "code",
   "execution_count": null,
   "id": "916efd85-e473-4799-a2ea-2cbe799cc86a",
   "metadata": {
    "tags": []
   },
   "outputs": [],
   "source": [
    "task_05 = make_array(...)"
   ]
  },
  {
   "cell_type": "code",
   "execution_count": null,
   "id": "2d9ccffb",
   "metadata": {
    "deletable": false,
    "editable": false
   },
   "outputs": [],
   "source": [
    "grader.check(\"task_05\")"
   ]
  },
  {
   "cell_type": "markdown",
   "id": "12b3d00e-5fd5-473a-8b4b-f8ba933dc65b",
   "metadata": {},
   "source": [
    "The bias of an estimator refers to its tendency to consistently overestimate or underestimate the true parameter value across repeated sampling. When using/choosing an estimator, you want to consider its bias."
   ]
  },
  {
   "cell_type": "markdown",
   "id": "b4eb8252-b761-4aae-884c-0361ad886146",
   "metadata": {},
   "source": [
    "## Resampling"
   ]
  },
  {
   "cell_type": "markdown",
   "id": "323a0255-62a3-4781-b4f2-e09e679a925b",
   "metadata": {},
   "source": [
    "We can't just confidently proclaim that `max_based_estimate` or `mean_based_estimate` are equal to `N`, because we don't know what `N` actually is.  What if we're really far off? We want to get a sense of the accuracy of our estimates.\n",
    "\n",
    "If we had access to the entire population, we could repeatedly draw samples from the population and compute our estimate using each sample. This would give an empirical distribution of the estimate, which we could use to see how wrong our estimates tend to be.\n",
    "\n",
    "Unfortunately, we **don't** have access to the entire population (i.e. we don't know the value of `N`). All we have access to is a single sample of serial numbers. How do we tell how accurate our estimates are without being able to sample repeatedly from the population to create an empirical distribution? 🤔\n",
    "\n",
    "<br>\n",
    "\n",
    "One strategy is to repeatedly sample from our sample, or \"**resample**\", and use those resamples to compute an empirical distribution of our estimate. Let's talk about why this is a reasonable strategy. \n",
    "- When we tried to determine `N`, the number of tanks, we would have liked to use the whole population.  Since we had only a sample, we used that to estimate `N` instead.\n",
    "- Similarly, now we would like to use the population of serial numbers to **run a simulation** to help us understand how different estimates of `N` might have turned out. But we still only have our **sample**, so can we use that instead? **We can!** \n",
    "- Since large random samples tend to resemble the populations they are drawn from, and our sample is relatively large, we can treat our sample as if it is the population, and sample from it.\n",
    "\n",
    "When we resample from our original sample, we sample **uniformly at random with replacement** and create a resample **that has the same number of elements as the original sample**.\n",
    "\n",
    "Here's an analogy between estimating `N` and computing the empirical distribution of our estimates:\n",
    "\n",
    "$$\\text{computing }N\\text{ from the population}$$\n",
    "$$\\text{is to}$$\n",
    "$$\\text{computing an estimate of }N\\text{ from a sample}$$\n",
    "\n",
    "$$\\text{as}$$\n",
    "\n",
    "$$\\text{computing an empirical distribution of estimates of }N\\text{ using samples from the population}$$\n",
    "$$\\text{is to}$$\n",
    "$$\\text{computing an empirical distribution of estimates of }N\\text{ using resamples from a sample}$$\n",
    "\n",
    "The process of resampling from our original sample is known as **bootstrap resampling**."
   ]
  },
  {
   "cell_type": "markdown",
   "id": "59c6e040-15ff-47f9-adc7-bdaf98393d3d",
   "metadata": {
    "tags": []
   },
   "source": [
    "### Task 06 📍"
   ]
  },
  {
   "cell_type": "markdown",
   "id": "3e31606e-870a-457f-869f-8d3a0f7dfd54",
   "metadata": {
    "deletable": false,
    "editable": false
   },
   "source": [
    "Complete the implementation of the function `simulate_resample`.  \n",
    "- It should take no arguments.\n",
    "- It should generate a resample (again, **with replacement**) from the observed serial numbers in `observations` and return that resample.\n",
    "- The resample should be a Table like `observations`.\n",
    "\n",
    "***Hint:*** Use the `.sample` `Table` method."
   ]
  },
  {
   "cell_type": "code",
   "execution_count": null,
   "id": "1d4df280-ae6c-4b42-b99e-8142fac6099e",
   "metadata": {
    "tags": []
   },
   "outputs": [],
   "source": [
    "def simulate_resample():\n",
    "    ...\n",
    "\n",
    "# This is a little magic to make sure that you see the same results we did - don't change it.\n",
    "np.random.seed(123)\n",
    "\n",
    "# Don't change the line below!\n",
    "one_resample = simulate_resample()\n",
    "one_resample"
   ]
  },
  {
   "cell_type": "code",
   "execution_count": null,
   "id": "3d66cc5e",
   "metadata": {
    "deletable": false,
    "editable": false
   },
   "outputs": [],
   "source": [
    "grader.check(\"task_06\")"
   ]
  },
  {
   "cell_type": "markdown",
   "id": "5a20cb45-6e25-4ec2-8b99-8ce7da39fca8",
   "metadata": {},
   "source": [
    "Later, we'll use many resamples at once to see what estimates typically look like.  We don't often pay attention to single resamples, so it's easy to misunderstand them.  Let's examine some individual resamples before we start using them."
   ]
  },
  {
   "cell_type": "markdown",
   "id": "df348de4-93b3-4f11-a569-aa63c8c9c5ba",
   "metadata": {
    "tags": []
   },
   "source": [
    "### Task 07 📍🔎"
   ]
  },
  {
   "cell_type": "markdown",
   "id": "5304b440-461b-4107-8979-687886b85616",
   "metadata": {
    "deletable": false,
    "editable": false
   },
   "source": [
    "<!-- BEGIN QUESTION -->\n",
    "\n",
    "Make a histogram of your `one_resample` **and** a separate histogram of the original observations. Make sure to use the function `plot_serial_numbers` that you defined earlier in the lab.\n",
    "\n",
    "**Note:** Since this is a manually-scored task, check your histograms with a classmate, a tutor, or the instructor before moving on."
   ]
  },
  {
   "cell_type": "code",
   "execution_count": null,
   "id": "92d32f4a-4408-4335-831b-e0ec136c3c01",
   "metadata": {
    "tags": []
   },
   "outputs": [],
   "source": [
    "# Histogram of resample.\n",
    "plot_serial_numbers(one_resample)"
   ]
  },
  {
   "cell_type": "code",
   "execution_count": null,
   "id": "851a5d69-de12-49a6-8df5-fb84c40d4f62",
   "metadata": {
    "tags": []
   },
   "outputs": [],
   "source": [
    "# Histogram of original sample.\n",
    "plot_serial_numbers(observations)"
   ]
  },
  {
   "cell_type": "markdown",
   "id": "7cae7c0e-bfde-48dd-9889-63b4d8fa29bb",
   "metadata": {
    "deletable": false,
    "editable": false,
    "tags": []
   },
   "source": [
    "<!-- END QUESTION -->\n",
    "\n",
    "### Task 08 📍"
   ]
  },
  {
   "cell_type": "markdown",
   "id": "d86ea99c-cd2b-460f-9f16-a44b43b4427e",
   "metadata": {
    "deletable": false,
    "editable": false
   },
   "source": [
    "Which of the following are true:\n",
    "\n",
    "1. In the plot of the resample, there are no bars at locations that weren't there in the plot of the original observations.\n",
    "2. In the plot of the original observations, there are no bars at locations that weren't there in the plot of the resample.\n",
    "3. There are no duplicate serial numbers in the resample.\n",
    "4. There are no duplicate serial numbers in the original observations.\n",
    "\n",
    "Assign `task_08` to an array of the numbers corresponding to the correct statements"
   ]
  },
  {
   "cell_type": "code",
   "execution_count": null,
   "id": "2f1d1f50-00a0-4e85-aa2b-be60e930ac89",
   "metadata": {
    "tags": []
   },
   "outputs": [],
   "source": [
    "task_08 = make_array(...)"
   ]
  },
  {
   "cell_type": "code",
   "execution_count": null,
   "id": "970be191",
   "metadata": {
    "deletable": false,
    "editable": false
   },
   "outputs": [],
   "source": [
    "grader.check(\"task_08\")"
   ]
  },
  {
   "cell_type": "markdown",
   "id": "177f04df-c795-43b9-a81f-b011705c897f",
   "metadata": {
    "tags": []
   },
   "source": [
    "### Task 09 📍🔎"
   ]
  },
  {
   "cell_type": "markdown",
   "id": "4d9f5609-7576-473d-9f2a-f51f727f8e77",
   "metadata": {
    "deletable": false,
    "editable": false
   },
   "source": [
    "<!-- BEGIN QUESTION -->\n",
    "\n",
    "Create 2 more resamples. For each resample:\n",
    "\n",
    "1. Plot a histogram\n",
    "2. Compute the max-based and mean-based estimates using that resample.\n",
    "\n",
    "**Note:** This is a manually scored task, so check your results with a classmate, a tutor, or the instructor before moving on."
   ]
  },
  {
   "cell_type": "code",
   "execution_count": null,
   "id": "5e0ff8fa-312e-4588-bf13-16d7ae7da38b",
   "metadata": {
    "tags": []
   },
   "outputs": [],
   "source": [
    "# The template uses np.arange(2) because you need to create 2 resamples.\n",
    "for i in np.arange(2):\n",
    "    resample = ...\n",
    "    \n",
    "    # Plot a histogram of this resample.\n",
    "    ...\n",
    "    plt.show() # Don't change this line!\n",
    "    \n",
    "    # Calculate the mean-based and max-based estimates based on this resample.\n",
    "    mean_based_estimate_resample = ...\n",
    "    max_based_estimate_resample = ...\n",
    "    \n",
    "    # Don't change the following 3 lines:\n",
    "    print(f\"Mean-based estimate for resample {i+1}:\", mean_based_estimate_resample)\n",
    "    print(f\"Max-based estimate for resample {i+1}:\", max_based_estimate_resample)\n",
    "    print('\\n')"
   ]
  },
  {
   "cell_type": "markdown",
   "id": "230b4876-33f4-4ccb-ac49-14abf93fe791",
   "metadata": {
    "deletable": false,
    "editable": false
   },
   "source": [
    "<!-- END QUESTION -->\n",
    "\n",
    "There's a good chance that you'll find that the max-based estimates from the resamples are both exactly 135 (run the cell a few times and you'll almost surely see this happen). You'll also probably find that the two mean-based estimates differ from the sample mean-based estimate (and from each other)."
   ]
  },
  {
   "cell_type": "markdown",
   "id": "df87e04f-62dc-4b68-83c4-8698bd35ce67",
   "metadata": {
    "tags": []
   },
   "source": [
    "### Task 10 📍"
   ]
  },
  {
   "cell_type": "markdown",
   "id": "c9ff0a05-55dd-4233-aa44-cb5263a9bfee",
   "metadata": {
    "deletable": false,
    "editable": false
   },
   "source": [
    "Compute **the probability that a max-based estimate from one *resample* of our observations sample is 135** and assign it to the variable `task_10` below. It may be useful to recall that the size of `observations` is 17.\n",
    "\n",
    "Note that this is a **math** question, not a programming one. It may help to figure out your answer on paper and then assign `task_10` to an expression that evaluates to the right value (a number between 0 and 1, inclusive)."
   ]
  },
  {
   "cell_type": "code",
   "execution_count": null,
   "id": "edd0930d-56f3-4378-b1ee-557efe1a5546",
   "metadata": {
    "tags": []
   },
   "outputs": [],
   "source": [
    "task_10 = ..."
   ]
  },
  {
   "cell_type": "code",
   "execution_count": null,
   "id": "4a637182",
   "metadata": {
    "deletable": false,
    "editable": false
   },
   "outputs": [],
   "source": [
    "grader.check(\"task_10\")"
   ]
  },
  {
   "cell_type": "markdown",
   "id": "03299a0a-594f-42d5-9ff7-f47a9ab4ad4c",
   "metadata": {},
   "source": [
    "The correct answer is high, above 60%. Think about why a mean-based estimate from a resample is less likely to be exactly equal to the mean-based estimate from the original sample as compared to a max-based estimate."
   ]
  },
  {
   "cell_type": "markdown",
   "id": "9a8fc348-443f-47f6-9a87-38503ec6e840",
   "metadata": {},
   "source": [
    "## Resampling via Simulation"
   ]
  },
  {
   "cell_type": "markdown",
   "id": "d9b1d42c-59f7-4a15-8bd3-34a5347cf4d8",
   "metadata": {},
   "source": [
    "Since resampling from a large random sample looks just like sampling from a population, the code should look almost the same, too. That means we can write a function that simulates either sampling from a population or resampling from a sample.  If we pass it a population as its argument, it will do the former; if we pass it a sample, it will do the latter."
   ]
  },
  {
   "cell_type": "markdown",
   "id": "73c5d631-a315-43d4-b8be-e7572af0947b",
   "metadata": {
    "tags": []
   },
   "source": [
    "### Task 11 📍"
   ]
  },
  {
   "cell_type": "markdown",
   "id": "b393f696-39c0-4e6b-a587-d2a6cc34d51f",
   "metadata": {
    "deletable": false,
    "editable": false
   },
   "source": [
    "Complete the implementation of the function `simulate_estimates`. It should take 4 arguments:\n",
    "- `original_tbl`: A `Table` from which the data should be sampled, with a single column named `'serial_number'`.\n",
    "- `sample_size`: The size of each sample, an integer. (For example, to do resampling, we would pass the number of rows in `original_tbl` for this argument.)\n",
    "- `statistic`: A **function** that computes a statistic on a sample. This argument is the **name of a function** that takes an array of serial numbers as its argument and returns a number (e.g. `calculate_mean_based_estimate`).\n",
    "- `repetitions`: The number of repetitions to perform (i.e. the number of resamples to create).\n",
    "\n",
    "It should simulate `repetitions` samples **with replacement** from the given `Table`. For each of those samples, it should compute the statistic on that sample. Then it should return an array containing the value of that statistic for each sample (this means that the length of the returned array should be equal to `repetitions`).\n",
    "\n",
    "**Notes:**\n",
    "\n",
    "* The code below the function definition provides an example use of your function and describes how you can verify that you've written it correctly. Don't change that code since we check `example_estimates`.\n",
    "* We'll check a few things about your function, but check your histogram with a classmate, a tutor, or the instructor before moving on. The histogram you see should be a roughly bell-shaped curve centered at 1000 with most of its area in the interval [800, 1200].\n"
   ]
  },
  {
   "cell_type": "code",
   "execution_count": null,
   "id": "5756d898-99d4-4968-8b3a-8945055da745",
   "metadata": {
    "tags": []
   },
   "outputs": [],
   "source": [
    "def simulate_estimates(original_tbl, sample_size, statistic, repetitions):\n",
    "    stats = ...\n",
    "    for ...:\n",
    "        resample_col = ...\n",
    "        new_stat = ...\n",
    "        stats = ...\n",
    "    return stats\n",
    "\n",
    "# This should generate an empirical histogram of twice-mean estimates\n",
    "# of N from samples of size 50 if N is 1000.\n",
    "# Notice that the statistic argument is calculate_mean_based_estimate.\n",
    "# Don't change this code!\n",
    "example_estimates = simulate_estimates(\n",
    "    Table().with_column('serial_number', np.arange(1, 1000+1)),\n",
    "    50,\n",
    "    calculate_mean_based_estimate,\n",
    "    10_000)\n",
    "Table().with_column('mean_based_estimate', example_estimates).hist(0, bins=np.arange(500, 1500, 25))"
   ]
  },
  {
   "cell_type": "code",
   "execution_count": null,
   "id": "d7e0aca0",
   "metadata": {
    "deletable": false,
    "editable": false
   },
   "outputs": [],
   "source": [
    "grader.check(\"task_11\")"
   ]
  },
  {
   "cell_type": "markdown",
   "id": "f4e145ae-5509-49b6-9a87-f00f3af248e7",
   "metadata": {},
   "source": [
    "Now we can go back to the sample we actually observed (`observations`) and estimate how much our mean-based estimate of `N` would have varied from sample to sample."
   ]
  },
  {
   "cell_type": "markdown",
   "id": "3294ac18-09c3-4696-a30e-c74656cea853",
   "metadata": {
    "tags": []
   },
   "source": [
    "### Task 12 📍🔎"
   ]
  },
  {
   "cell_type": "markdown",
   "id": "080511e5-52cb-41a1-99e1-30f80da14fb6",
   "metadata": {
    "deletable": false,
    "editable": false
   },
   "source": [
    "<!-- BEGIN QUESTION -->\n",
    "\n",
    "Using the bootstrap procedure (`simulate_estimates`) and the sample `observations`, simulate the approximate distribution of **mean-based estimates** of `N`. Use 5,000 repetitions. Store the estimates in `bootstrap_estimates`. (Note that this only requires one line of code; call your `simulate_estimates` function.)\n",
    "\n",
    "**Note:** We have provided code that plots a histogram, allowing you to visualize the simulated estimates. Check your histogram with a classmate, a tutor, or the instructor before moving on."
   ]
  },
  {
   "cell_type": "code",
   "execution_count": null,
   "id": "062f48aa-24e0-4dfe-abda-1393fed0c152",
   "metadata": {
    "tags": []
   },
   "outputs": [],
   "source": [
    "bootstrap_estimates = ...\n",
    "Table().with_column('mean_based_estimate', bootstrap_estimates).hist('mean_based_estimate', bins=np.arange(0, 200, 4))"
   ]
  },
  {
   "cell_type": "markdown",
   "id": "c5c1f45c-8636-4865-af95-fe35d4e0c7ca",
   "metadata": {
    "deletable": false,
    "editable": false,
    "tags": []
   },
   "source": [
    "<!-- END QUESTION -->\n",
    "\n",
    "### Task 13 📍"
   ]
  },
  {
   "cell_type": "markdown",
   "id": "7f49e868-9c72-4456-a400-e3b9ce93a742",
   "metadata": {
    "deletable": false,
    "editable": false
   },
   "source": [
    "Compute an interval that covers the middle 95% of the bootstrap estimates in `bootstrap_estimates`.  Verify that your interval looks like it covers 95% of the area in the histogram above.\n",
    "\n",
    "**Note:** Since you create random samples, the auto-grader tests for this task are not perfect in assessing if your code is completely correct. This means you should check your results with a classmate, a tutor, or the instructor before moving on."
   ]
  },
  {
   "cell_type": "code",
   "execution_count": null,
   "id": "1f735c3a-4b46-485a-b479-b181507d1917",
   "metadata": {
    "tags": []
   },
   "outputs": [],
   "source": [
    "left_end = ...\n",
    "right_end = ...\n",
    "print(\"Middle 95% of bootstrap estimates: [{:f}, {:f}]\".format(left_end, right_end))"
   ]
  },
  {
   "cell_type": "code",
   "execution_count": null,
   "id": "e1dc7d6d-8f34-4a4f-a1a5-014df675e10d",
   "metadata": {
    "tags": []
   },
   "outputs": [],
   "source": [
    "percentile(5, bootstrap_estimates)"
   ]
  },
  {
   "cell_type": "code",
   "execution_count": null,
   "id": "e774ad10",
   "metadata": {
    "deletable": false,
    "editable": false
   },
   "outputs": [],
   "source": [
    "grader.check(\"task_13\")"
   ]
  },
  {
   "cell_type": "markdown",
   "id": "4788bc5f-bb7c-4bca-b0bf-cec1655754ce",
   "metadata": {
    "tags": []
   },
   "source": [
    "### Task 14 📍"
   ]
  },
  {
   "cell_type": "markdown",
   "id": "97b54745-9754-426e-95c0-9051a6cd1f98",
   "metadata": {
    "deletable": false,
    "editable": false
   },
   "source": [
    "Let's say that `N`, the population parameter we've been trying to estimate, is actually 150. Write code that simulates the sampling and bootstrapping process again, as follows:\n",
    "\n",
    "1. Generate a new set of random observations the Allies might have seen by sampling from the population `Table` we have created for you below. Take a sample of size 70 **without replacement**. Store the sample in the variable name `new_observations`\n",
    "2. Using only `new_observations` (not `population`) compute 5,000 bootstrapped mean-based estimates of `N`. To do this, call your `simulate_estimates` function.\n",
    "3. Compute an interval covering the middle 95% of these bootstrapped mean-based estimates.\n",
    "\n",
    "**Note:** Since you create random samples, the auto-grader tests for this task are not perfect in assessing if your code is completely correct. This means you should check your results with a classmate, a tutor, or the instructor before moving on."
   ]
  },
  {
   "cell_type": "code",
   "execution_count": null,
   "id": "d8e915b8-0edc-48c5-a9d7-7a6eeb7eb595",
   "metadata": {
    "tags": []
   },
   "outputs": [],
   "source": [
    "population = Table().with_column('serial_number', np.arange(1, 150+1))\n",
    "new_observations = ...\n",
    "new_bootstrap_estimates = ...\n",
    "\n",
    "new_left_end = ...\n",
    "new_right_end = ...\n",
    "\n",
    "print(f\"Middle 95% of bootstrap estimates: [{new_left_end:f}, {new_right_end:f}]\")"
   ]
  },
  {
   "cell_type": "code",
   "execution_count": null,
   "id": "0ec2ef0f",
   "metadata": {
    "deletable": false,
    "editable": false
   },
   "outputs": [],
   "source": [
    "grader.check(\"task_14\")"
   ]
  },
  {
   "cell_type": "markdown",
   "id": "aa882279-2d51-4bc2-8133-4b0a734b7de6",
   "metadata": {
    "tags": []
   },
   "source": [
    "### Task 15 📍"
   ]
  },
  {
   "cell_type": "markdown",
   "id": "56ea7f6f-3bc8-4186-802e-3e55420e15fd",
   "metadata": {
    "deletable": false,
    "editable": false
   },
   "source": [
    "If you ran your cell above many, many times, approximately what percentage of the intervals you created would include `N` (150 in this case)?  Assign either 1, 2, 3, 4, or 5 to the variable `task_15` below.\n",
    "\n",
    "1. 100%\n",
    "2. 97.5%\n",
    "3. 95%\n",
    "4. 5%\n",
    "5. It's impossible to tell."
   ]
  },
  {
   "cell_type": "code",
   "execution_count": null,
   "id": "8719b9fc-75b5-4ee3-94da-ddeb675c9d50",
   "metadata": {
    "tags": []
   },
   "outputs": [],
   "source": [
    "task_15 = ..."
   ]
  },
  {
   "cell_type": "code",
   "execution_count": null,
   "id": "cb0a90f1",
   "metadata": {
    "deletable": false,
    "editable": false
   },
   "outputs": [],
   "source": [
    "grader.check(\"task_15\")"
   ]
  },
  {
   "cell_type": "markdown",
   "id": "0e7945e4-463e-42bd-81fc-d602d6df4a63",
   "metadata": {
    "editable": true,
    "slideshow": {
     "slide_type": ""
    },
    "tags": []
   },
   "source": [
    "## Submit your Lab to Canvas\n",
    "\n",
    "Once you have finished working on the lab questions, prepare to submit your work in Canvas by completing the following steps.\n",
    "\n",
    "1. In the related Canvas Assignment page, check the requirements for a Complete score for this lab assignment.\n",
    "2. Double-check that you have run the code cell near the end of the notebook that contains the command `grader.check_all()`. This command will run all of the run tests on all your responses to the auto-graded tasks marked with 📍.\n",
    "3. Double-check your responses to the manually graded tasks marked with 📍🔎.\n",
    "4. Select the menu items `File`, `Save and Export Notebook As...`, and `Html_embed` in the notebook's Toolbar to download an HTML version of this notebook file.\n",
    "5. In the related Canvas Assignment page, click Start Assignment or New Attempt to upload the downloaded HTML file."
   ]
  },
  {
   "cell_type": "markdown",
   "id": "58572430-3efa-487d-a48f-bb13a8fc77ff",
   "metadata": {},
   "source": [
    "---"
   ]
  },
  {
   "cell_type": "markdown",
   "id": "7a1d38b5-d68f-4a93-8ee1-cb243869c351",
   "metadata": {
    "slideshow": {
     "slide_type": "notes"
    }
   },
   "source": [
    "<footer>\n",
    "    <p>Adopted from UC Berkeley DATA 8 and UC San Diego DSC 10 course materials.</p>\n",
    "    <p>This content is offered under a <a href=\"https://creativecommons.org/licenses/by-nc-sa/4.0/\">CC Attribution Non-Commercial Share Alike</a> license.</p>\n",
    "</footer>"
   ]
  },
  {
   "cell_type": "markdown",
   "id": "7d4e6ad7",
   "metadata": {
    "deletable": false,
    "editable": false
   },
   "source": [
    "---\n",
    "\n",
    "To double-check your work, the cell below will rerun all of the autograder tests."
   ]
  },
  {
   "cell_type": "code",
   "execution_count": null,
   "id": "384c9da4",
   "metadata": {
    "deletable": false,
    "editable": false
   },
   "outputs": [],
   "source": [
    "grader.check_all()"
   ]
  }
 ],
 "metadata": {
  "kernelspec": {
   "display_name": "Python 3 (ipykernel)",
   "language": "python",
   "name": "python3"
  },
  "language_info": {
   "codemirror_mode": {
    "name": "ipython",
    "version": 3
   },
   "file_extension": ".py",
   "mimetype": "text/x-python",
   "name": "python",
   "nbconvert_exporter": "python",
   "pygments_lexer": "ipython3",
   "version": "3.10.12"
  },
  "otter": {
   "OK_FORMAT": true,
   "assignment_name": "lab08_sp24",
   "tests": {
    "task_01": {
     "name": "task_01",
     "points": null,
     "suites": [
      {
       "cases": [
        {
         "code": ">>> task_01 in {1, 2, 3, 4}\nTrue",
         "failure_message": "❌ task_01 should be assigned to an integer 1, 2, 3, or 4.",
         "hidden": false,
         "locked": false,
         "success_message": "✅ task_01 was assigned to an integer 1, 2, 3, or 4."
        },
        {
         "code": ">>> import hashlib\n>>> \n>>> def get_hash(num):\n...     \"\"\"Helper function for assessing correctness.\"\"\"\n...     return hashlib.md5(str(num).encode()).hexdigest()\n>>> get_hash(task_01)\n'c81e728d9d4c2f636f067f89cc14862c'",
         "failure_message": "❌ task_01 was not assigned to the correct integer.",
         "hidden": false,
         "locked": false,
         "success_message": "✅ task_01 was assigned to the correct integer."
        }
       ],
       "scored": true,
       "setup": "",
       "teardown": "",
       "type": "doctest"
      }
     ]
    },
    "task_03": {
     "name": "task_03",
     "points": null,
     "suites": [
      {
       "cases": [
        {
         "code": ">>> test_max = calculate_max_based_estimate(np.array([1, 2, 3]))\n>>> test_max == 3\nTrue",
         "failure_message": "❌ calculate_max_based_estimate doesn't seem to be working. You should use the max function and return the max value from nums.",
         "hidden": false,
         "locked": false,
         "success_message": "✅ calculate_max_based_estimate seems to be working."
        },
        {
         "code": ">>> isinstance(max_based_estimate, (int, np.integer, float, np.float_))\nTrue",
         "failure_message": "❌ max_based_estimate. Make sure your function is returning the max of nums.",
         "hidden": false,
         "locked": false,
         "success_message": "✅ max_based_estimate is a number."
        },
        {
         "code": ">>> max_based_estimate in observations.column('serial_number')\nTrue",
         "failure_message": "❌ max_based_estimate should be a serial number in the sample. When calling the function, replace nums with an array of the sampled serial numbers.",
         "hidden": false,
         "locked": false,
         "success_message": "✅ max_based_estimate is a serial number in the sample."
        },
        {
         "code": ">>> import hashlib\n>>> \n>>> def get_hash(num):\n...     \"\"\"Helper function for assessing correctness.\"\"\"\n...     return hashlib.md5(str(num).encode()).hexdigest()\n>>> get_hash(max_based_estimate)\n'7f1de29e6da19d22b51c68001e7e0e54'",
         "failure_message": "❌ max_based_estimate does not seem correct. Call your function on the column 'serial_number' from the observations table.",
         "hidden": false,
         "locked": false,
         "success_message": "✅ max_based_estimate seems correct."
        }
       ],
       "scored": true,
       "setup": "",
       "teardown": "",
       "type": "doctest"
      }
     ]
    },
    "task_04": {
     "name": "task_04",
     "points": null,
     "suites": [
      {
       "cases": [
        {
         "code": ">>> isinstance(mean_based_estimate, (int, np.integer, float, np.float_))\nTrue",
         "failure_message": "❌ mean_based_estimate should be a number. Make sure your function is returning 2 times the mean of nums.",
         "hidden": false,
         "locked": false,
         "success_message": "✅ mean_based_estimate is a number."
        },
        {
         "code": ">>> np.isclose(mean_based_estimate, 122.47058823529412)\nTrue",
         "failure_message": "❌ ",
         "hidden": false,
         "locked": false,
         "success_message": "✅ "
        }
       ],
       "scored": true,
       "setup": "",
       "teardown": "",
       "type": "doctest"
      }
     ]
    },
    "task_05": {
     "name": "task_05",
     "points": null,
     "suites": [
      {
       "cases": [
        {
         "code": ">>> set(task_05).issubset({1, 2, 3, 4, 5, 6})\nTrue",
         "failure_message": "❌ task_05 should be assigned to an integer 1, 2, 3, 4, 5, or 6.",
         "hidden": false,
         "locked": false,
         "success_message": "✅ task_05 is assigned to an integer 1, 2, 3, 4, 5, or 6."
        },
        {
         "code": ">>> 3 not in task_05\nTrue",
         "failure_message": "❌ You should not select 3. If `N` is the max in the population, then it would be impossible for any sample from that population to have a value larger than the population max.",
         "hidden": false,
         "locked": false,
         "success_message": "✅ Good work not selecting 3."
        },
        {
         "code": ">>> import hashlib\n>>> \n>>> def get_hash(num):\n...     \"\"\"Helper function for assessing correctness.\"\"\"\n...     return hashlib.md5(str(num).encode()).hexdigest()\n>>> get_hash(sum(task_05)) == '6f4922f45568161a8cdf4ad2299f6d23' and len(task_05) == 5\nTrue",
         "failure_message": "❌ task_05 doesn't seem correct.",
         "hidden": false,
         "locked": false,
         "success_message": "✅ task_05 seems correct!"
        }
       ],
       "scored": true,
       "setup": "",
       "teardown": "",
       "type": "doctest"
      }
     ]
    },
    "task_06": {
     "name": "task_06",
     "points": null,
     "suites": [
      {
       "cases": [
        {
         "code": ">>> isinstance(simulate_resample(), Table)\nTrue",
         "failure_message": "❌ Your simulate_resample function should return a Table. Make sure you have a return statement.",
         "hidden": false,
         "locked": false,
         "success_message": "✅ Your simulate_resample function returns a Table."
        },
        {
         "code": ">>> one_resample\nserial_number\n108\n57\n57\n36\n41\n42\n47\n50\n135\n47\n... (7 rows omitted)",
         "failure_message": "❌ Your simulate_resample doesn't seem to be working correctly. You should be using .sample() with the observations table to create a bootstrap resample.",
         "hidden": false,
         "locked": false,
         "success_message": "✅ Your simulate_resample seems to be working correctly."
        }
       ],
       "scored": true,
       "setup": "",
       "teardown": "",
       "type": "doctest"
      }
     ]
    },
    "task_08": {
     "name": "task_08",
     "points": null,
     "suites": [
      {
       "cases": [
        {
         "code": ">>> isinstance(task_08, np.ndarray)\nTrue",
         "failure_message": "❌ task_08 should be an array.",
         "hidden": false,
         "locked": false,
         "success_message": "✅ task_08 is an array."
        },
        {
         "code": ">>> set(task_08).issubset({1, 2, 3, 4})\nTrue",
         "failure_message": "❌ task_08 should be an array of numbers 1, 2, 3, or 4.",
         "hidden": false,
         "locked": false,
         "success_message": "✅ task_08 is an array of numbers 1, 2, 3, or 4."
        },
        {
         "code": ">>> import hashlib\n>>> \n>>> def get_hash(num):\n...     \"\"\"Helper function for assessing correctness.\"\"\"\n...     return hashlib.md5(str(num).encode()).hexdigest()\n>>> np.sort(list([get_hash(item) for item in task_08]))\narray(['a87ff679a2f3e71d9181a67b7542122c',\n       'c4ca4238a0b923820dcc509a6f75849b'],\n      dtype='<U32')",
         "failure_message": "❌ task_08 doesn't seem correct. Check your reasoning with a classmate, a tutor, or the instructor.",
         "hidden": false,
         "locked": false,
         "success_message": "✅ task_08 seems correct."
        }
       ],
       "scored": true,
       "setup": "",
       "teardown": "",
       "type": "doctest"
      }
     ]
    },
    "task_10": {
     "name": "task_10",
     "points": null,
     "suites": [
      {
       "cases": [
        {
         "code": ">>> isinstance(task_10, (int, np.integer, float, np.float_))\nTrue",
         "failure_message": "❌ task_10 should be assigned to a number. You should create an arithmetic expression that evaluates to the requested probability.",
         "hidden": false,
         "locked": false,
         "success_message": "✅ task_10 is assigned to a number."
        },
        {
         "code": ">>> task_10 > 0.6\nTrue",
         "failure_message": "❌ task_10 should be above 60%. Consider the probability that at least one of the elements in our resample is equal to 135.",
         "hidden": false,
         "locked": false,
         "success_message": "✅ task_10 is above 60%."
        },
        {
         "code": ">>> import hashlib\n>>> \n>>> def get_hash(num):\n...     \"\"\"Helper function for assessing correctness.\"\"\"\n...     return hashlib.md5(str(num).encode()).hexdigest()\n>>> get_hash(round(task_10, 4))\n'a3242fb34ba60c6622307ace03134c74'",
         "failure_message": "❌ task_10 doesn't seem correct. If any one of the resampled values is 135, then the max of the resample will be 135.",
         "hidden": false,
         "locked": false,
         "success_message": "✅ task_10 seems correct."
        }
       ],
       "scored": true,
       "setup": "",
       "teardown": "",
       "type": "doctest"
      }
     ]
    },
    "task_11": {
     "name": "task_11",
     "points": null,
     "suites": [
      {
       "cases": [
        {
         "code": ">>> isinstance(example_estimates, np.ndarray) and len(example_estimates) == 10000\nTrue",
         "failure_message": "❌ example_estimates is not an array with the correct number of items. Your simulate_estimates function should return an array should have the same number of items as the value repetitions.",
         "hidden": false,
         "locked": false,
         "success_message": "✅ example_estimates is an array with the correct number of items."
        },
        {
         "code": ">>> np.random.seed(123)\n>>> og_tbl = Table().with_column('serial_number', np.arange(1, 1000 + 1))\n>>> samp_size = 50\n>>> reps = 1000\n>>> stat = calculate_mean_based_estimate\n>>> example_mean_estimates = simulate_estimates(og_tbl, samp_size, stat, reps)\n>>> np.isclose(np.sum(example_mean_estimates), 1000825.424)\nFalse",
         "failure_message": "❌ simulate_estimates doesn't seem to work correctly for the mean-based estimate function. Make sure your function accepts a function name (statistic) as an input and you use the name statistic to calculate the statistic of the resample.",
         "hidden": false,
         "locked": false,
         "success_message": "✅ simulate_estimates seems to work correctly for the mean-based estimate function."
        },
        {
         "code": ">>> np.random.seed(123)\n>>> og_tbl = Table().with_column('serial_number', np.arange(1, 1000 + 1))\n>>> samp_size = 50\n>>> reps = 1000\n>>> stat = calculate_max_based_estimate\n>>> example_max_estimates = simulate_estimates(og_tbl, samp_size, stat, reps)\n>>> np.isclose(np.sum(example_max_estimates), 999369.0)\nFalse",
         "failure_message": "❌ simulate_estimates doesn't seem to work correctly for the max-based estimate function. Make sure your function accepts a function name (statistic) as an input and you use the name statistic to calculate the statistic of the resample.",
         "hidden": false,
         "locked": false,
         "success_message": "✅ simulate_estimates seems to work correctly for the max-based estimate function."
        }
       ],
       "scored": true,
       "setup": "",
       "teardown": "",
       "type": "doctest"
      }
     ]
    },
    "task_13": {
     "name": "task_13",
     "points": null,
     "suites": [
      {
       "cases": [
        {
         "code": ">>> isinstance(left_end, (int, np.integer, float, np.float_)) and isinstance(right_end, (int, np.integer, float, np.float_))\nTrue",
         "failure_message": "❌ left_end and right_end should be numbers. Are you using the percentile function?",
         "hidden": false,
         "locked": false,
         "success_message": "✅ left_end and right_end are numbers."
        },
        {
         "code": ">>> 91 < left_end < 98\nTrue",
         "failure_message": "❌ left_end doesn't seem reasonable. If you find yourself using 5 and 95 as the arguments to `percentile`, try again - only 90% of the data is between the 5th and 95th percentiles!",
         "hidden": false,
         "locked": false,
         "success_message": "✅ left_end seems reasonable."
        },
        {
         "code": ">>> 148 < right_end < 156\nTrue",
         "failure_message": "❌ right_end doesn't seem reasonable. If you find yourself using 5 and 95 as the arguments to `percentile`, try again - only 90% of the data is between the 5th and 95th percentiles!",
         "hidden": false,
         "locked": false,
         "success_message": "✅ right_end seems reasonable."
        }
       ],
       "scored": true,
       "setup": "",
       "teardown": "",
       "type": "doctest"
      }
     ]
    },
    "task_14": {
     "name": "task_14",
     "points": null,
     "suites": [
      {
       "cases": [
        {
         "code": ">>> set(new_observations.column('serial_number')).issubset(set(population.column('serial_number')))\nTrue",
         "failure_message": "❌ new_observations should be a sample from population. Are you using population.sample(...)?",
         "hidden": false,
         "locked": false,
         "success_message": "✅ new_observations seems to be a sample from population."
        },
        {
         "code": ">>> new_observations.num_rows == 70\nTrue",
         "failure_message": "❌ new_observations should have 70 rows. Are you using a sample size of 70?",
         "hidden": false,
         "locked": false,
         "success_message": "✅ new_observations has 70 rows."
        },
        {
         "code": ">>> len(np.unique(new_observations.column('serial_number'))) == 70\nTrue",
         "failure_message": "❌ It doesn't seem like you are sampling without replacement. Make sure to use with_replacement = False.",
         "hidden": false,
         "locked": false,
         "success_message": "✅ It seems like you are sampling without replacement."
        },
        {
         "code": ">>> isinstance(bootstrap_estimates, np.ndarray) and len(bootstrap_estimates) == 5000\nTrue",
         "failure_message": "❌ bootstrap_estimates should be an array with 5,000 items. Are you calling simulate_estimates with 5,000 as the sample size?",
         "hidden": false,
         "locked": false,
         "success_message": "✅ bootstrap_estimates is an array with 5,000 items."
        },
        {
         "code": ">>> isinstance(new_left_end, (int, np.integer, float, np.float_)) and isinstance(new_right_end, (int, np.integer, float, np.float_))\nTrue",
         "failure_message": "❌ new_left_end and new_right_end should be numbers. Are you using the percentile function?",
         "hidden": false,
         "locked": false,
         "success_message": "✅ new_left_end and new_right_end are numbers."
        }
       ],
       "scored": true,
       "setup": "",
       "teardown": "",
       "type": "doctest"
      }
     ]
    },
    "task_15": {
     "name": "task_15",
     "points": null,
     "suites": [
      {
       "cases": [
        {
         "code": ">>> task_15 in {1, 2, 3, 4, 5}\nTrue",
         "failure_message": "❌ task_15 should be assigned to a number 1, 2, 3, 4, or 5.",
         "hidden": false,
         "locked": false,
         "success_message": "✅ task_15 is assigned to a number 1, 2, 3, 4, or 5."
        },
        {
         "code": ">>> import hashlib\n>>> \n>>> def get_hash(num):\n...     \"\"\"Helper function for assessing correctness.\"\"\"\n...     return hashlib.md5(str(num).encode()).hexdigest()\n>>> get_hash(task_15)\n'eccbc87e4b5ce2fe28308fd9f2a7baf3'",
         "failure_message": "❌ task_15 does not seem correct. How are you supposed to interpret 95% confidence?",
         "hidden": false,
         "locked": false,
         "success_message": "✅ task_15 seems correct."
        }
       ],
       "scored": true,
       "setup": "",
       "teardown": "",
       "type": "doctest"
      }
     ]
    }
   }
  }
 },
 "nbformat": 4,
 "nbformat_minor": 5
}
