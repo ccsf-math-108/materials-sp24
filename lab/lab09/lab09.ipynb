{
 "cells": [
  {
   "cell_type": "code",
   "execution_count": null,
   "id": "8f83f588",
   "metadata": {
    "deletable": false,
    "editable": false
   },
   "outputs": [],
   "source": [
    "# Initialize Otter\n",
    "import otter\n",
    "grader = otter.Notebook(\"lab09.ipynb\")"
   ]
  },
  {
   "cell_type": "markdown",
   "id": "01adf16b-8908-476d-b8ba-efc684041a81",
   "metadata": {},
   "source": [
    "<img style=\"display: block; margin-left: auto; margin-right: auto\" src=\"./ccsf-logo.png\" width=\"250rem;\" alt=\"The CCSF black and white logo\">"
   ]
  },
  {
   "cell_type": "markdown",
   "id": "b41cd2b3-48a7-482b-b83e-80cc47f234a4",
   "metadata": {},
   "source": [
    "# Lab 09: Regression"
   ]
  },
  {
   "cell_type": "markdown",
   "id": "b8273a26-dcea-4b4c-85d5-c644d7a057ce",
   "metadata": {},
   "source": [
    "## References"
   ]
  },
  {
   "cell_type": "markdown",
   "id": "6be0df17-c2ea-49d0-b509-934122b9f422",
   "metadata": {},
   "source": [
    "* [Sections 15.0 - 15.6 of the Textbook](https://inferentialthinking.com/chapters/15/Prediction.html)\n",
    "* [datascience Documentation](https://datascience.readthedocs.io/)\n",
    "* [Python Quick Reference](https://ccsf-math-108.github.io/materials-sp24/resources/quick-reference.html)"
   ]
  },
  {
   "cell_type": "markdown",
   "id": "abf06396-18f6-4e92-b5b6-33d0cfcb5ec7",
   "metadata": {},
   "source": [
    "## Assignment Reminders"
   ]
  },
  {
   "cell_type": "markdown",
   "id": "8390066e-2b58-4f3c-82b3-ccec1f48a939",
   "metadata": {},
   "source": [
    "- Make sure to run the code cell at the top of this notebook that starts with `# Initialize Otter` to load the auto-grader.\n",
    "- For all tasks indicated with a 🔎 that you must write explanations and sentences for, provide your answer in the designated space.\n",
    "- Throughout this assignment and all future ones, please be sure to not re-assign variables throughout the notebook! _For example, if you use `max_temperature` in your answer to one question, do not reassign it later on. Otherwise, you will fail tests that you thought you were passing previously!_\n",
    "- Collaborating on labs is more than okay -- it's encouraged! You should rarely remain stuck for more than a few minutes on questions in labs, so ask an instructor or classmate for help. (Explaining things is beneficial, too -- the best way to solidify your knowledge of a subject is to explain it.) Please don't just share answers, though.\n",
    "- View the related <a href=\"https://ccsf.instructure.com\" target=\"_blank\">Canvas</a> Assignment page for additional details."
   ]
  },
  {
   "cell_type": "markdown",
   "id": "7f936895-0111-4cb2-ad18-591a3bfe2cb1",
   "metadata": {},
   "source": [
    "Run the following cell to set up the lab, and make sure you run the cell at the top of the notebook that initializes Otter."
   ]
  },
  {
   "cell_type": "code",
   "execution_count": null,
   "id": "4f83f0d3-8617-4ab0-88c9-6ea0813064ad",
   "metadata": {},
   "outputs": [],
   "source": [
    "from datascience import *\n",
    "import numpy as np\n",
    "%matplotlib inline\n",
    "import matplotlib.pyplot as plt\n",
    "plt.style.use('fivethirtyeight')"
   ]
  },
  {
   "cell_type": "markdown",
   "id": "431671e0-9c80-4012-be3a-e25b8be2aa1a",
   "metadata": {},
   "source": [
    "## How Faithful is Old Faithful? "
   ]
  },
  {
   "cell_type": "markdown",
   "id": "4cf03484-062f-47b4-bcb7-8a1b0a8e6b95",
   "metadata": {},
   "source": [
    "Old Faithful is a geyser in Yellowstone National Park that is famous for eruption on a fairly regular schedule. Run the cell below to see Old Faithful in action!"
   ]
  },
  {
   "cell_type": "code",
   "execution_count": null,
   "id": "0704a618-71f4-4a01-99b4-43c8642b51f3",
   "metadata": {},
   "outputs": [],
   "source": [
    "from IPython.display import YouTubeVideo\n",
    "YouTubeVideo(\"wE8NDuzt8eg\")"
   ]
  },
  {
   "cell_type": "markdown",
   "id": "d159b597-a3eb-4498-b2f7-386b52374eea",
   "metadata": {},
   "source": [
    "Some of Old Faithful's eruptions last longer than others.  Whenever there is a long eruption, it is usually followed by an even longer wait before the next eruption. If you visit Yellowstone, you might want to predict when the next eruption will happen, so that you can see the rest of the park instead of waiting by the geyser.\n",
    " \n",
    "Today, we will use a dataset on eruption durations and waiting times to see if we can make such predictions accurately with linear regression.\n",
    "\n",
    "The dataset has one row for each observed eruption.  It includes the following columns:\n",
    "- `duration`: Eruption duration, in minutes\n",
    "- `wait`: Time between this eruption and the next, also in minutes\n",
    "\n",
    "Run the next cell to load the dataset."
   ]
  },
  {
   "cell_type": "code",
   "execution_count": null,
   "id": "dd56cbaa-40d8-4c20-b63c-4fb3b776d4ab",
   "metadata": {},
   "outputs": [],
   "source": [
    "faithful = Table.read_table(\"faithful.csv\")\n",
    "faithful"
   ]
  },
  {
   "cell_type": "markdown",
   "id": "2cb2bb93-8975-40a5-81ad-8a79e32acbbf",
   "metadata": {},
   "source": [
    "We would like to use linear regression to make predictions, but that won't work well if the data aren't roughly linearly related.  To check that, we should look at the data."
   ]
  },
  {
   "cell_type": "markdown",
   "id": "6d8f0f92-f053-46c5-89a9-a4dbc44ead4f",
   "metadata": {},
   "source": [
    "### Task 01 📍🔎"
   ]
  },
  {
   "cell_type": "markdown",
   "id": "71c9fc73-3d99-4177-bdf7-0850d0cf9d13",
   "metadata": {
    "deletable": false,
    "editable": false
   },
   "source": [
    "Make a scatter plot of the data.  It's conventional to put the column we want to predict on the vertical axis and the other column on the horizontal axis.\n"
   ]
  },
  {
   "cell_type": "code",
   "execution_count": null,
   "id": "d8f29947-afd8-4ef8-a47f-35fca8c3eaed",
   "metadata": {
    "tags": []
   },
   "outputs": [],
   "source": [
    "..."
   ]
  },
  {
   "cell_type": "markdown",
   "id": "cc1bb46e-344e-4ed9-9535-e5ed5986a7bc",
   "metadata": {},
   "source": [
    "### Task 02 📍🔎"
   ]
  },
  {
   "cell_type": "markdown",
   "id": "aff61413-1722-487a-87c0-82a838a25ffa",
   "metadata": {
    "deletable": false,
    "editable": false
   },
   "source": [
    "<!-- BEGIN QUESTION -->\n",
    "\n",
    "Are eruption duration and waiting time roughly linearly related based on the scatter plot above? Is this relationship positive?\n"
   ]
  },
  {
   "cell_type": "markdown",
   "id": "e022f6d6",
   "metadata": {},
   "source": [
    "_Type your answer here, replacing this text._"
   ]
  },
  {
   "cell_type": "markdown",
   "id": "ba32f93b-9951-47ca-b854-3ec0a3e8ecfd",
   "metadata": {
    "deletable": false,
    "editable": false
   },
   "source": [
    "<!-- END QUESTION -->\n",
    "\n",
    "We're going to continue with the assumption that they are linearly related, so it's reasonable to use linear regression to analyze this data.\n",
    "\n",
    "We'd next like to plot the data in standard units. If you don't remember the definition of standard units, textbook section [14.2](https://www.inferentialthinking.com/chapters/14/2/Variability.html#standard-units) might help!"
   ]
  },
  {
   "cell_type": "markdown",
   "id": "7e7d26a7-e32c-4779-b0bc-03f42acdb6f1",
   "metadata": {},
   "source": [
    "### Task 03 📍"
   ]
  },
  {
   "cell_type": "markdown",
   "id": "bb022021-8a22-4c57-9e84-9edc1b2f9bf1",
   "metadata": {
    "deletable": false,
    "editable": false
   },
   "source": [
    "Compute the mean and standard deviation of the eruption durations and waiting times.  **Then** create a table called `faithful_standard` containing the eruption durations and waiting times in standard units.  The columns should be named `duration (standard units)` and `wait (standard units)`.\n"
   ]
  },
  {
   "cell_type": "code",
   "execution_count": null,
   "id": "84689bc8-6692-41bb-ab08-720a32a3b1c5",
   "metadata": {
    "for_assignment_type": "solution",
    "tags": []
   },
   "outputs": [],
   "source": [
    "\n",
    "duration_mean = ...\n",
    "duration_std = ...\n",
    "wait_mean = ...\n",
    "wait_std = ...\n",
    "\n",
    "faithful_standard = Table().with_columns(\n",
    "    \"duration (standard units)\", ...,\n",
    "    \"wait (standard units)\", ...)\n",
    "faithful_standard\n"
   ]
  },
  {
   "cell_type": "code",
   "execution_count": null,
   "id": "09a0a02a",
   "metadata": {
    "deletable": false,
    "editable": false
   },
   "outputs": [],
   "source": [
    "grader.check(\"task_03\")"
   ]
  },
  {
   "cell_type": "markdown",
   "id": "61d6d084-4fd3-42cd-8379-966479542327",
   "metadata": {},
   "source": [
    "### Task 04 📍🔎"
   ]
  },
  {
   "cell_type": "markdown",
   "id": "f9b7d2f5-ba85-48c3-8c0a-9826966079a0",
   "metadata": {
    "deletable": false,
    "editable": false
   },
   "source": [
    "Plot the data again, but this time in standard units.\n"
   ]
  },
  {
   "cell_type": "code",
   "execution_count": null,
   "id": "2731c3f4-5535-4219-a377-7879c809b588",
   "metadata": {
    "tags": []
   },
   "outputs": [],
   "source": [
    "..."
   ]
  },
  {
   "cell_type": "markdown",
   "id": "b1e85d33-dec2-4f1a-9a7b-e743527818de",
   "metadata": {},
   "source": [
    "You'll notice that this plot looks the same as the last one!  However, the data and axes are scaled differently.  So it's important to read the ticks on the axes."
   ]
  },
  {
   "cell_type": "markdown",
   "id": "1e1d28a8-5efe-4ab7-bd98-51c48532adfb",
   "metadata": {},
   "source": [
    "### Task 05 📍"
   ]
  },
  {
   "cell_type": "markdown",
   "id": "b5e08605-2e7f-41df-a255-df03b9be9f34",
   "metadata": {
    "deletable": false,
    "editable": false
   },
   "source": [
    "Among the following numbers, which would you guess is closest to the correlation between eruption duration and waiting time in this dataset?\n",
    "\n",
    "1. -1\n",
    "2. 0\n",
    "3. 1\n",
    "\n",
    "Assign `correlation` to the number corresponding to your guess.\n"
   ]
  },
  {
   "cell_type": "code",
   "execution_count": null,
   "id": "a7c6c24b-b32b-4fa0-b3c3-fda16d602573",
   "metadata": {
    "tags": []
   },
   "outputs": [],
   "source": [
    "correlation = ..."
   ]
  },
  {
   "cell_type": "code",
   "execution_count": null,
   "id": "1f31f05f",
   "metadata": {
    "deletable": false,
    "editable": false
   },
   "outputs": [],
   "source": [
    "grader.check(\"task_05\")"
   ]
  },
  {
   "cell_type": "markdown",
   "id": "543ab31e-82d5-4791-b3ad-0caccd45a09f",
   "metadata": {},
   "source": [
    "### Task 06 📍"
   ]
  },
  {
   "cell_type": "markdown",
   "id": "1f2e926a-69dd-4d97-92dc-f9ea21043139",
   "metadata": {
    "deletable": false,
    "editable": false
   },
   "source": [
    "Compute the correlation `r`.  \n",
    "\n",
    "*Hint:* Use `faithful_standard`.  Section [15.1](https://www.inferentialthinking.com/chapters/15/1/Correlation.html#calculating-r) explains how to do this.\n",
    "\n"
   ]
  },
  {
   "cell_type": "code",
   "execution_count": null,
   "id": "107879f4-c7b8-4c96-94ca-a33a95c0d3e0",
   "metadata": {
    "tags": []
   },
   "outputs": [],
   "source": [
    "r = ...\n",
    "r"
   ]
  },
  {
   "cell_type": "code",
   "execution_count": null,
   "id": "c9058825",
   "metadata": {
    "deletable": false,
    "editable": false
   },
   "outputs": [],
   "source": [
    "grader.check(\"task_06\")"
   ]
  },
  {
   "cell_type": "markdown",
   "id": "0879711a-f630-4d57-8dce-6934fc097131",
   "metadata": {},
   "source": [
    "## The regression line"
   ]
  },
  {
   "cell_type": "markdown",
   "id": "6645c1ca-c209-4376-b063-fd63bad6465f",
   "metadata": {},
   "source": [
    "Recall that the correlation is the **slope of the regression line when the data are put in standard units**.\n",
    "\n",
    "The next cell plots the regression line in standard units:\n",
    "\n",
    "$$\\text{waiting time in standard units} = r \\times \\text{eruption duration in standard units}.$$\n",
    "\n",
    "Then, it plots the data in standard units again, for comparison."
   ]
  },
  {
   "cell_type": "code",
   "execution_count": null,
   "id": "fb211f0a-4d45-41fd-a2d2-767d3143d133",
   "metadata": {},
   "outputs": [],
   "source": [
    "def plot_data_and_line(dataset, x, y, point_0, point_1):\n",
    "    \"\"\"Makes a scatter plot of the dataset, along with a line passing through two points.\"\"\"\n",
    "    dataset.scatter(x, y, label=\"data\")\n",
    "    xs, ys = zip(point_0, point_1)\n",
    "    plt.plot(xs, ys, label=\"regression line\")\n",
    "    plt.legend(bbox_to_anchor=(1.5,.8))\n",
    "\n",
    "plot_data_and_line(faithful_standard, \n",
    "                   \"duration (standard units)\", \n",
    "                   \"wait (standard units)\", \n",
    "                   [-2, -2*r], \n",
    "                   [2, 2*r])"
   ]
  },
  {
   "cell_type": "markdown",
   "id": "bf5347cf-d0e0-4ebc-b4ce-7e420fb01cdc",
   "metadata": {},
   "source": [
    "How would you take a point in standard units and convert it back to original units?  We'd have to \"stretch\" its horizontal position by `duration_std` and its vertical position by `wait_std`. That means the same thing would happen to the slope of the line.\n",
    "\n",
    "Stretching a line horizontally makes it less steep, so we divide the slope by the stretching factor.  Stretching a line vertically makes it more steep, so we multiply the slope by the stretching factor."
   ]
  },
  {
   "cell_type": "markdown",
   "id": "273066d8-0462-4ef1-a3f7-36d36cc401df",
   "metadata": {},
   "source": [
    "### Task 07 📍"
   ]
  },
  {
   "cell_type": "markdown",
   "id": "1df40755-6658-45c9-8360-5e8f2f1aef6d",
   "metadata": {
    "deletable": false,
    "editable": false
   },
   "source": [
    "Calculate the slope of the regression line in original units, and assign it to `slope`.\n",
    "\n",
    "(If the \"stretching\" explanation is unintuitive, consult section [15.2](https://www.inferentialthinking.com/chapters/15/2/Regression_Line.html#the-equation-of-the-regression-line) in the textbook.)\n"
   ]
  },
  {
   "cell_type": "code",
   "execution_count": null,
   "id": "dd2fcb7d-4198-41a3-942c-36b913075c3d",
   "metadata": {
    "tags": []
   },
   "outputs": [],
   "source": [
    "slope = ...\n",
    "slope"
   ]
  },
  {
   "cell_type": "code",
   "execution_count": null,
   "id": "1d2011cb",
   "metadata": {
    "deletable": false,
    "editable": false
   },
   "outputs": [],
   "source": [
    "grader.check(\"task_07\")"
   ]
  },
  {
   "cell_type": "markdown",
   "id": "a6d93510-7941-4197-aa2f-eccad0146bc2",
   "metadata": {},
   "source": [
    "We know that the regression line passes through the point `(duration_mean, wait_mean)`.  You might recall from high-school algebra that the equation for the line is therefore:\n",
    "\n",
    "$$\\text{waiting time} - \\verb|wait_mean| = \\texttt{slope} \\times (\\text{eruption duration} - \\verb|duration_mean|)$$\n",
    "\n",
    "The rearranged equation becomes:\n",
    "\n",
    "$$\\text{waiting time} = \\texttt{slope} \\times \\text{eruption duration} + (- \\texttt{slope} \\times \\verb|duration_mean| + \\verb|wait_mean|)$$"
   ]
  },
  {
   "cell_type": "markdown",
   "id": "41de6777-82d3-423d-bb9a-3aedd311f4b7",
   "metadata": {},
   "source": [
    "### Task 08 📍"
   ]
  },
  {
   "cell_type": "markdown",
   "id": "313a91a2-11f2-48d4-bc9d-4750fbdb8485",
   "metadata": {
    "deletable": false,
    "editable": false
   },
   "source": [
    "Calculate the intercept in original units and assign it to `intercept`.\n"
   ]
  },
  {
   "cell_type": "code",
   "execution_count": null,
   "id": "846aaec1-4d9b-478a-99f3-adb727231e87",
   "metadata": {
    "tags": []
   },
   "outputs": [],
   "source": [
    "intercept = ...\n",
    "intercept"
   ]
  },
  {
   "cell_type": "code",
   "execution_count": null,
   "id": "e47f0404",
   "metadata": {
    "deletable": false,
    "editable": false
   },
   "outputs": [],
   "source": [
    "grader.check(\"task_08\")"
   ]
  },
  {
   "cell_type": "markdown",
   "id": "060a3cd7-f8f3-4c53-bd93-d1e4aed281a4",
   "metadata": {},
   "source": [
    "## Investigating the regression line"
   ]
  },
  {
   "cell_type": "markdown",
   "id": "c8674f82-4bc5-4aa9-a32b-1c7d970a4317",
   "metadata": {},
   "source": [
    "The slope and intercept tell you exactly what the regression line looks like.  To predict the waiting time for an eruption, multiply the eruption's duration by `slope` and then add `intercept`."
   ]
  },
  {
   "cell_type": "markdown",
   "id": "91fef6b6-63d0-46e6-aaec-115e8aafb617",
   "metadata": {},
   "source": [
    "### Task 09 📍🔎 "
   ]
  },
  {
   "cell_type": "markdown",
   "id": "ed41613d-6988-4f48-887b-b5cd15f25778",
   "metadata": {
    "deletable": false,
    "editable": false
   },
   "source": [
    "Compute the predicted waiting time for an eruption that lasts 2 minutes, and for an eruption that lasts 5 minutes.\n"
   ]
  },
  {
   "cell_type": "code",
   "execution_count": null,
   "id": "eff3c349-6306-4461-8b01-0a34f82e176b",
   "metadata": {
    "tags": []
   },
   "outputs": [],
   "source": [
    "two_minute_predicted_waiting_time = ...\n",
    "five_minute_predicted_waiting_time = ...\n",
    "\n",
    "# Here is a helper function to print out your predictions.\n",
    "# Don't modify the code below.\n",
    "def print_prediction(duration, predicted_waiting_time):\n",
    "    print(\"After an eruption lasting\", duration,\n",
    "          \"minutes, we predict you'll wait\", predicted_waiting_time,\n",
    "          \"minutes until the next eruption.\")\n",
    "\n",
    "print_prediction(2, two_minute_predicted_waiting_time)\n",
    "print_prediction(5, five_minute_predicted_waiting_time)"
   ]
  },
  {
   "cell_type": "markdown",
   "id": "213f0b46-7ab1-4844-a0c6-6da6ce36d306",
   "metadata": {},
   "source": [
    "The next cell plots the line that goes between those two points, which is (a segment of) the regression line."
   ]
  },
  {
   "cell_type": "code",
   "execution_count": null,
   "id": "8087d43e-6176-4f76-9b8f-ed5d1cf93161",
   "metadata": {},
   "outputs": [],
   "source": [
    "plot_data_and_line(faithful, \"duration\", \"wait\", \n",
    "                   [2, two_minute_predicted_waiting_time], \n",
    "                   [5, five_minute_predicted_waiting_time])"
   ]
  },
  {
   "cell_type": "markdown",
   "id": "6f1dfe40-eacf-4817-877e-e294a98bcf83",
   "metadata": {},
   "source": [
    "### Task 10 📍"
   ]
  },
  {
   "cell_type": "markdown",
   "id": "e82dfd9b-075c-49a1-83ee-0d98992bfc5d",
   "metadata": {
    "deletable": false,
    "editable": false
   },
   "source": [
    "Make predictions for the waiting time after each eruption in the `faithful` table.  (Of course, we know exactly what the waiting times were!  We are doing this so we can see how accurate our predictions are.)  Put these numbers into a column in a new table called `faithful_predictions`.  Its first row should look like this:\n",
    "\n",
    "|duration|wait|predicted wait|\n",
    "|-|-|-|\n",
    "|3.6|79|72.1011|\n",
    "\n",
    "*Hint:* Your answer can be just one line.  There is no need for a `for` loop; use array arithmetic instead.\n"
   ]
  },
  {
   "cell_type": "code",
   "execution_count": null,
   "id": "baff2d53-f8ea-43c3-80d7-67fabde24d34",
   "metadata": {
    "tags": []
   },
   "outputs": [],
   "source": [
    "faithful_predictions = ...\n",
    "faithful_predictions"
   ]
  },
  {
   "cell_type": "code",
   "execution_count": null,
   "id": "bdd727d1",
   "metadata": {
    "deletable": false,
    "editable": false
   },
   "outputs": [],
   "source": [
    "grader.check(\"task_10\")"
   ]
  },
  {
   "cell_type": "markdown",
   "id": "94b16092-87fa-4262-91ae-02d0abf26c42",
   "metadata": {},
   "source": [
    "### Task 11 📍"
   ]
  },
  {
   "cell_type": "markdown",
   "id": "64d3b59e-ed10-4aad-8011-ab01ee7e68ff",
   "metadata": {
    "deletable": false,
    "editable": false
   },
   "source": [
    "How close were we?  Compute the *residual* for each eruption in the dataset.  The residual is the actual waiting time minus the predicted waiting time.  Add the residuals to `faithful_predictions` as a new column called `residual` and name the resulting table `faithful_residuals`.\n",
    "\n",
    "*Hint:* Again, your code will be much simpler if you don't use a `for` loop.\n"
   ]
  },
  {
   "cell_type": "code",
   "execution_count": null,
   "id": "8ad0581d-2ae5-4066-b697-560a87b97a9c",
   "metadata": {
    "tags": []
   },
   "outputs": [],
   "source": [
    "faithful_residuals = ...\n",
    "faithful_residuals"
   ]
  },
  {
   "cell_type": "code",
   "execution_count": null,
   "id": "84a3f4e6",
   "metadata": {
    "deletable": false,
    "editable": false
   },
   "outputs": [],
   "source": [
    "grader.check(\"task_11\")"
   ]
  },
  {
   "cell_type": "markdown",
   "id": "9af5ed1f-6bcc-42c3-8479-58062fa9f177",
   "metadata": {},
   "source": [
    "Here is a plot of the residuals you computed.  Each point corresponds to one eruption.  It shows how much our prediction over- or under-estimated the waiting time."
   ]
  },
  {
   "cell_type": "code",
   "execution_count": null,
   "id": "d9fb5b40-c65a-477d-be93-d9f09bd6c064",
   "metadata": {},
   "outputs": [],
   "source": [
    "faithful_residuals.scatter(\"duration\", \"residual\", color=\"r\")"
   ]
  },
  {
   "cell_type": "markdown",
   "id": "e1e128a5-e601-4c17-9992-f7b09cccbfa4",
   "metadata": {},
   "source": [
    "There isn't really a pattern in the residuals, which confirms that it was reasonable to try linear regression.  It's true that there are two separate clouds; the eruption durations seemed to fall into two distinct clusters.  But that's just a pattern in the eruption durations, not a pattern in the relationship between eruption durations and waiting times."
   ]
  },
  {
   "cell_type": "markdown",
   "id": "be544ccb-892f-4bf6-abef-e4897e2fa557",
   "metadata": {},
   "source": [
    "## How accurate are different predictions?"
   ]
  },
  {
   "cell_type": "markdown",
   "id": "57edea8b-fbe8-49c1-a2a8-c3c6c950b82b",
   "metadata": {},
   "source": [
    "Earlier, you should have found that the correlation is fairly close to 1, so the line fits fairly well on the training data.  That means the residuals are overall small (close to 0) in comparison to the waiting times.\n",
    "\n",
    "We can see that visually by plotting the waiting times and residuals together:"
   ]
  },
  {
   "cell_type": "code",
   "execution_count": null,
   "id": "bb542d1d-3905-4fbb-b001-514078276cc3",
   "metadata": {},
   "outputs": [],
   "source": [
    "faithful_residuals.scatter(\"duration\", \"wait\", label=\"actual waiting time\", color=\"blue\")\n",
    "plt.scatter(faithful_residuals.column(\"duration\"), faithful_residuals.column(\"residual\"), label=\"residual\", color=\"r\")\n",
    "plt.plot([2, 5], [two_minute_predicted_waiting_time, five_minute_predicted_waiting_time], label=\"regression line\")\n",
    "plt.legend(bbox_to_anchor=(1.7,.8));"
   ]
  },
  {
   "cell_type": "markdown",
   "id": "79bce5e1-6d4c-4dc5-a368-ddb1fb5f5655",
   "metadata": {},
   "source": [
    "However, unless you have a strong reason to believe that the linear regression model is true, you should be wary of applying your prediction model to data that are very different from the training data."
   ]
  },
  {
   "cell_type": "markdown",
   "id": "a0de3925-c6ce-4014-84b3-b28ef44400f1",
   "metadata": {},
   "source": [
    "### Task 12 📍"
   ]
  },
  {
   "cell_type": "markdown",
   "id": "8a7a5bd4-7d24-4cd2-a457-30edf86f914a",
   "metadata": {
    "deletable": false,
    "editable": false
   },
   "source": [
    "In `faithful`, no eruption lasted exactly 0, 2.5, or 60 minutes.  Using this line, what is the predicted waiting time for an eruption that lasts 0 minutes?  2.5 minutes?  An hour?\n"
   ]
  },
  {
   "cell_type": "code",
   "execution_count": null,
   "id": "1a5fb167-0f68-406b-9fbe-6519417ae589",
   "metadata": {
    "tags": []
   },
   "outputs": [],
   "source": [
    "zero_minute_predicted_waiting_time = ...\n",
    "two_point_five_minute_predicted_waiting_time = ...\n",
    "hour_predicted_waiting_time = ...\n",
    "\n",
    "print_prediction(0, zero_minute_predicted_waiting_time)\n",
    "print_prediction(2.5, two_point_five_minute_predicted_waiting_time)\n",
    "print_prediction(60, hour_predicted_waiting_time)"
   ]
  },
  {
   "cell_type": "code",
   "execution_count": null,
   "id": "38417e3a",
   "metadata": {
    "deletable": false,
    "editable": false
   },
   "outputs": [],
   "source": [
    "grader.check(\"task_12\")"
   ]
  },
  {
   "cell_type": "markdown",
   "id": "ed7014c9-c017-41ef-8ca7-25a43869543b",
   "metadata": {},
   "source": [
    "### Task 13 📍🔎"
   ]
  },
  {
   "cell_type": "markdown",
   "id": "3c87da43-e10f-4a34-8253-04512b8af239",
   "metadata": {
    "deletable": false,
    "editable": false
   },
   "source": [
    "<!-- BEGIN QUESTION -->\n",
    "\n",
    "For each prediction, state whether you think it's reliable and explain your reasoning. \n"
   ]
  },
  {
   "cell_type": "markdown",
   "id": "4b765eb6",
   "metadata": {},
   "source": [
    "_Type your answer here, replacing this text._"
   ]
  },
  {
   "cell_type": "markdown",
   "id": "deac1bb7-75a9-4b54-835a-f7b6bf0a474d",
   "metadata": {
    "deletable": false,
    "editable": false
   },
   "source": [
    "<!-- END QUESTION -->\n",
    "\n",
    "## Divide and Conquer"
   ]
  },
  {
   "cell_type": "markdown",
   "id": "422a83bb-6fec-4434-9b9e-1b3f7dafba22",
   "metadata": {},
   "source": [
    "It appears from the scatter diagram that there are two clusters of points: one for durations around 2 and another for durations between 3.5 and 5. A vertical line at 3 divides the two clusters."
   ]
  },
  {
   "cell_type": "code",
   "execution_count": null,
   "id": "a77089d1-8101-4c86-9b69-49351aa25189",
   "metadata": {},
   "outputs": [],
   "source": [
    "faithful.scatter(\"duration\", \"wait\", label=\"actual waiting time\", color=\"blue\")\n",
    "plt.plot([3, 3], [40, 100]);"
   ]
  },
  {
   "cell_type": "markdown",
   "id": "362d7b3c-d450-4303-acc9-ff030f620804",
   "metadata": {},
   "source": [
    "The `standardize` function from lecture appears below, which takes in a table with numerical columns and returns the same table with each column converted into standard units."
   ]
  },
  {
   "cell_type": "code",
   "execution_count": null,
   "id": "0eb3135d-fc88-4d09-8c3c-bef1db8722a7",
   "metadata": {},
   "outputs": [],
   "source": [
    "def standard_units(any_numbers):\n",
    "    \"Convert any array of numbers to standard units.\"\n",
    "    return (any_numbers - np.mean(any_numbers)) / np.std(any_numbers)  \n",
    "\n",
    "def standardize(t):\n",
    "    \"\"\"Return a table in which all columns of t are converted to standard units.\"\"\"\n",
    "    t_su = Table()\n",
    "    for label in t.labels:\n",
    "        t_su = t_su.with_column(label + ' (su)', standard_units(t.column(label)))\n",
    "    return t_su"
   ]
  },
  {
   "cell_type": "markdown",
   "id": "128a3751-cc55-48ad-a045-a240b3e950b2",
   "metadata": {},
   "source": [
    "### Task 14 📍"
   ]
  },
  {
   "cell_type": "markdown",
   "id": "231079e2-7d00-4578-9af7-8e8a4033e610",
   "metadata": {
    "deletable": false,
    "editable": false
   },
   "source": [
    "Separately compute the regression coefficients *r* for all the points with a duration below 3 **and then** for all the points with a duration above 3. To do so, create a function that computes `r` from a table and pass it two different tables of points, `below_3` and `above_3`.\n"
   ]
  },
  {
   "cell_type": "code",
   "execution_count": null,
   "id": "661d0cf8-e298-4dc2-abd3-f998b8fa7548",
   "metadata": {
    "tags": []
   },
   "outputs": [],
   "source": [
    "def reg_coeff(t):\n",
    "    \"\"\"Return the regression coefficient for columns 0 & 1.\"\"\"\n",
    "    t_su = standardize(t)\n",
    "    ...\n",
    "\n",
    "below_3 = ...\n",
    "above_3 = ...\n",
    "below_3_r = reg_coeff(below_3)\n",
    "above_3_r = reg_coeff(above_3)\n",
    "print(\"For points below 3, r is\", below_3_r, \"; for points above 3, r is\", above_3_r)"
   ]
  },
  {
   "cell_type": "code",
   "execution_count": null,
   "id": "660ce8d6",
   "metadata": {
    "deletable": false,
    "editable": false
   },
   "outputs": [],
   "source": [
    "grader.check(\"task_14\")"
   ]
  },
  {
   "cell_type": "markdown",
   "id": "5646e5f7-40c1-4d62-ba5b-aacabcdb7cc2",
   "metadata": {},
   "source": [
    "### Task 15 📍"
   ]
  },
  {
   "cell_type": "markdown",
   "id": "6495d349-521e-435f-9220-d1135b33590a",
   "metadata": {
    "deletable": false,
    "editable": false
   },
   "source": [
    "Complete the functions `slope_of` and `intercept_of` below. \n",
    "\n",
    "When you're done, the functions `wait_below_3` and `wait_above_3` should each use a different regression line to predict a wait time for a duration. The first function should use the regression line for all points with duration below 3. The second function should use the regression line for all points with duration above 3.\n"
   ]
  },
  {
   "cell_type": "code",
   "execution_count": null,
   "id": "757d77d3-de71-47cf-8ba6-5483d8c760e9",
   "metadata": {
    "tags": []
   },
   "outputs": [],
   "source": [
    "def slope_of(t, r):\n",
    "    \"\"\"Return the slope of the regression line for t in original units.\n",
    "    \n",
    "    Assume that column 0 contains x values and column 1 contains y values.\n",
    "    r is the regression coefficient for x and y.\n",
    "    \"\"\"\n",
    "    ...\n",
    "\n",
    "def intercept_of(t, r):\n",
    "    \"\"\"Return the slope of the regression line for t in original units.\"\"\"\n",
    "    s = slope_of(t, r)\n",
    "    ...\n",
    "    \n",
    "below_3_a = slope_of(below_3, below_3_r)\n",
    "below_3_b = intercept_of(below_3, below_3_r)\n",
    "above_3_a = slope_of(above_3, above_3_r)\n",
    "above_3_b = intercept_of(above_3, above_3_r)\n",
    "\n",
    "def wait_below_3(duration):\n",
    "    return below_3_a * duration + below_3_b\n",
    "\n",
    "def wait_above_3(duration):\n",
    "    return above_3_a * duration + above_3_b"
   ]
  },
  {
   "cell_type": "code",
   "execution_count": null,
   "id": "e870b698",
   "metadata": {
    "deletable": false,
    "editable": false
   },
   "outputs": [],
   "source": [
    "grader.check(\"task_15\")"
   ]
  },
  {
   "cell_type": "markdown",
   "id": "13f2e952-7ec7-4b89-af7b-3282fe394e1e",
   "metadata": {},
   "source": [
    "The plot below shows two different regression lines, one for each cluster!"
   ]
  },
  {
   "cell_type": "code",
   "execution_count": null,
   "id": "206d7f39-a11f-4682-9619-c08dc4082c58",
   "metadata": {},
   "outputs": [],
   "source": [
    "faithful.scatter(0, 1)\n",
    "plt.plot([1, 3], [wait_below_3(1), wait_below_3(3)])\n",
    "plt.plot([3, 6], [wait_above_3(3), wait_above_3(6)]);"
   ]
  },
  {
   "cell_type": "markdown",
   "id": "5d22b994-7078-4c10-b7b9-47ef901cdbc7",
   "metadata": {},
   "source": [
    "### Task 16 📍"
   ]
  },
  {
   "cell_type": "markdown",
   "id": "203579f8-d895-4302-93b6-701087780da1",
   "metadata": {
    "deletable": false,
    "editable": false
   },
   "source": [
    "Write a function `predict_wait` that takes a `duration` and returns the predicted wait time using the appropriate regression line, depending on whether the duration is below 3 or greater than (or equal to) 3.\n"
   ]
  },
  {
   "cell_type": "code",
   "execution_count": null,
   "id": "dbe862ac-6364-44b8-9da9-b6e813ed1c8b",
   "metadata": {
    "for_assignment_type": "student",
    "tags": []
   },
   "outputs": [],
   "source": [
    "def predict_wait(duration):\n",
    "    \"\"\"Return the wait predicted by the appropriate one of the two regression lines above.\"\"\"\n",
    "    ..."
   ]
  },
  {
   "cell_type": "code",
   "execution_count": null,
   "id": "86187119",
   "metadata": {
    "deletable": false,
    "editable": false
   },
   "outputs": [],
   "source": [
    "grader.check(\"task_16\")"
   ]
  },
  {
   "cell_type": "markdown",
   "id": "50a50034-478d-4ad1-a801-4659b80fe1a6",
   "metadata": {},
   "source": [
    "The predicted wait times for each point appear below."
   ]
  },
  {
   "cell_type": "code",
   "execution_count": null,
   "id": "1e48f871-0b7f-4211-be79-d67bf5324476",
   "metadata": {},
   "outputs": [],
   "source": [
    "faithful.with_column('predicted', faithful.apply(predict_wait, 'duration')).scatter(0)"
   ]
  },
  {
   "cell_type": "markdown",
   "id": "04fbd827-c665-40a7-9ee8-aadb914b77bf",
   "metadata": {},
   "source": [
    "### Task 17 📍🔎"
   ]
  },
  {
   "cell_type": "markdown",
   "id": "51911d6a-156f-43d7-8350-11c8aff68071",
   "metadata": {
    "deletable": false,
    "editable": false
   },
   "source": [
    "<!-- BEGIN QUESTION -->\n",
    "\n",
    "Do you think the predictions produced by `predict_wait` would be more or less accurate than the predictions from the regression line you created in section 2? How could you tell?\n"
   ]
  },
  {
   "cell_type": "markdown",
   "id": "e551ba0c",
   "metadata": {},
   "source": [
    "_Type your answer here, replacing this text._"
   ]
  },
  {
   "cell_type": "markdown",
   "id": "8bd9934b-64e3-485c-a3a2-f6060bf650a6",
   "metadata": {
    "deletable": false,
    "editable": false,
    "jp-MarkdownHeadingCollapsed": true,
    "slideshow": {
     "slide_type": ""
    },
    "tags": []
   },
   "source": [
    "<!-- END QUESTION -->\n",
    "\n",
    "## Submit your Lab to Canvas\n",
    "\n",
    "Once you have finished working on the lab questions, prepare to submit your work in Canvas by completing the following steps.\n",
    "\n",
    "1. In the related Canvas Assignment page, check the requirements for a Complete score for this lab assignment.\n",
    "2. Double-check that you have run the code cell near the end of the notebook that contains the command `grader.check_all()`. This command will run all of the run tests on all your responses to the auto-graded tasks marked with 📍.\n",
    "3. Double-check your responses to the manually graded tasks marked with 📍🔎.\n",
    "4. Select the menu items `File`, `Save and Export Notebook As...`, and `Html_embed` in the notebook's Toolbar to download an HTML version of this notebook file.\n",
    "5. In the related Canvas Assignment page, click Start Assignment or New Attempt to upload the downloaded HTML file."
   ]
  },
  {
   "cell_type": "markdown",
   "id": "41dca682",
   "metadata": {
    "deletable": false,
    "editable": false
   },
   "source": [
    "---\n",
    "\n",
    "To double-check your work, the cell below will rerun all of the autograder tests."
   ]
  },
  {
   "cell_type": "code",
   "execution_count": null,
   "id": "5a73076c",
   "metadata": {
    "deletable": false,
    "editable": false
   },
   "outputs": [],
   "source": [
    "grader.check_all()"
   ]
  }
 ],
 "metadata": {
  "kernelspec": {
   "display_name": "Python 3 (ipykernel)",
   "language": "python",
   "name": "python3"
  },
  "language_info": {
   "codemirror_mode": {
    "name": "ipython",
    "version": 3
   },
   "file_extension": ".py",
   "mimetype": "text/x-python",
   "name": "python",
   "nbconvert_exporter": "python",
   "pygments_lexer": "ipython3",
   "version": "3.10.12"
  },
  "otter": {
   "OK_FORMAT": true,
   "assignment_name": "lab09_sp24",
   "tests": {
    "task_03": {
     "name": "task_03",
     "points": null,
     "suites": [
      {
       "cases": [
        {
         "code": ">>> abs(sum(faithful_standard.column(0))) <= 1e-08\nTrue",
         "failure_message": "❌ Your standardized durations don't seem correct. Try subracting all the durations form the average duration and dividing the result by the standard deviation of the durations.",
         "hidden": false,
         "locked": false,
         "points": 1,
         "success_message": "✅ Your standardized durations seem correct."
        },
        {
         "code": ">>> int(round(duration_std)) == 1\nTrue",
         "failure_message": "❌ Your duration_std value doesn't seem correct. Try using np.std on the duration column data.",
         "hidden": false,
         "locked": false,
         "points": 1,
         "success_message": "✅ Your duration_std value seems correct."
        },
        {
         "code": ">>> int(round(wait_std)) == 14\nTrue",
         "failure_message": "❌ Your wait_std value doesn't seem correct. Try using np.std on the wait column data.",
         "hidden": false,
         "locked": false,
         "points": 1,
         "success_message": "✅ Your wait_std value seems correct."
        }
       ],
       "scored": true,
       "setup": "",
       "teardown": "",
       "type": "doctest"
      }
     ]
    },
    "task_05": {
     "name": "task_05",
     "points": null,
     "suites": [
      {
       "cases": [
        {
         "code": ">>> correlation == 3\nTrue",
         "failure_message": "❌",
         "hidden": false,
         "locked": false,
         "points": 1,
         "success_message": "✅"
        }
       ],
       "scored": true,
       "setup": "",
       "teardown": "",
       "type": "doctest"
      }
     ]
    },
    "task_06": {
     "name": "task_06",
     "points": null,
     "suites": [
      {
       "cases": [
        {
         "code": ">>> '%.2f' % round(r, 2)\n'0.90'",
         "failure_message": "❌ Your r value doesn't seems correct. Try finding the mean of the product of the standarized durations and wait values.",
         "hidden": false,
         "locked": false,
         "points": 1,
         "success_message": "✅ Your r value seems correct."
        }
       ],
       "scored": true,
       "setup": "",
       "teardown": "",
       "type": "doctest"
      }
     ]
    },
    "task_07": {
     "name": "task_07",
     "points": null,
     "suites": [
      {
       "cases": [
        {
         "code": ">>> (slope * 13 - 100) / 98 <= 0.5\nTrue",
         "failure_message": "❌ Your slope value doesn't seem to be correct. Try multiplying the correlation coefficient and the standard deviation of the wait values divided by the standard deviation of the duration values.",
         "hidden": false,
         "locked": false,
         "points": 1,
         "success_message": "✅ Your slope value could be correct."
        },
        {
         "code": ">>> np.round(slope, 4) == 10.7296\nTrue",
         "failure_message": "❌ Your slope value doesn't seem to be correct. Make sure you are plugging in the SD_x and SD_y in the correct spots!",
         "hidden": false,
         "locked": false,
         "points": 1,
         "success_message": "✅ Your slope value seems to be correct."
        }
       ],
       "scored": true,
       "setup": "",
       "teardown": "",
       "type": "doctest"
      }
     ]
    },
    "task_08": {
     "name": "task_08",
     "points": null,
     "suites": [
      {
       "cases": [
        {
         "code": ">>> 33 < intercept < 34\nTrue",
         "failure_message": "❌ Your intercept is not within a reasonable interval. Try subtracting the product of the slope and duration mean from the wait mean.",
         "hidden": false,
         "locked": false,
         "points": 1,
         "success_message": "✅ Your intercept is within a reasonable interval."
        },
        {
         "code": ">>> np.round(intercept, 3) == 33.474\nTrue",
         "failure_message": "❌ Your intercept value doesn't correct. Try subtracting the product of the slope and duration mean from the wait mean.",
         "hidden": false,
         "locked": false,
         "points": 1,
         "success_message": "✅ Your intercept value seems correct."
        }
       ],
       "scored": true,
       "setup": "",
       "teardown": "",
       "type": "doctest"
      }
     ]
    },
    "task_10": {
     "name": "task_10",
     "points": null,
     "suites": [
      {
       "cases": [
        {
         "code": ">>> set(faithful_predictions.labels) == set(['duration', 'wait', 'predicted wait'])\nTrue",
         "failure_message": "❌ The labels in faithful_predictions should be 'duration', 'wait', and 'predicted wait'.",
         "hidden": false,
         "locked": false,
         "points": 1,
         "success_message": "✅ The labels in faithful_predictions are correct."
        },
        {
         "code": ">>> abs(1 - np.mean(faithful_predictions.column(2)) / 100) <= 0.35\nTrue",
         "failure_message": "❌ Your predicted values in faithful_predictions don't seem correct. Try multiplying the slope times the duration values and adding the intercept.",
         "hidden": false,
         "locked": false,
         "points": 1,
         "success_message": "✅ Your predicted values in faithful_predictions seem correct."
        }
       ],
       "scored": true,
       "setup": "",
       "teardown": "",
       "type": "doctest"
      }
     ]
    },
    "task_11": {
     "name": "task_11",
     "points": null,
     "suites": [
      {
       "cases": [
        {
         "code": ">>> abs(sum(faithful_residuals.column(3))) <= 1e-08\nTrue",
         "failure_message": "❌ The residuals in faithful_residuals don't seem correct. Make sure you are subtracting the predicted wait values from the actual wait values.",
         "hidden": false,
         "locked": false,
         "points": 1,
         "success_message": "✅ The residuals in faithful_residuals seem correct."
        }
       ],
       "scored": true,
       "setup": "",
       "teardown": "",
       "type": "doctest"
      }
     ]
    },
    "task_12": {
     "name": "task_12",
     "points": null,
     "suites": [
      {
       "cases": [
        {
         "code": ">>> 12 - zero_minute_predicted_waiting_time * 1.4 / 4 <= 0.35\nTrue",
         "failure_message": "❌ The zero_minute_predicted_waiting_time value doesn't seem correct. This should be the intercept.",
         "hidden": false,
         "locked": false,
         "points": 1,
         "success_message": "✅ The zero_minute_predicted_waiting_time value seems correct."
        },
        {
         "code": ">>> 2 - two_point_five_minute_predicted_waiting_time / 35 <= 0.4\nTrue",
         "failure_message": "❌ The two_point_five_minute_predicted_waiting_time value doesn't seem correct. Multiply the slope times 2.5 and add the intercept.",
         "hidden": false,
         "locked": false,
         "points": 1,
         "success_message": "✅ The two_point_five_minute_predicted_waiting_time value seems correct."
        },
        {
         "code": ">>> (26 - hour_predicted_waiting_time / 30) / 10 <= 0.43\nTrue",
         "failure_message": "❌ The hour_predicted_waiting_time value doesn't seem correct. Make sure you are using 60 mins!",
         "hidden": false,
         "locked": false,
         "points": 1,
         "success_message": "✅ The hour_predicted_waiting_time value seems correct."
        }
       ],
       "scored": true,
       "setup": "",
       "teardown": "",
       "type": "doctest"
      }
     ]
    },
    "task_14": {
     "name": "task_14",
     "points": null,
     "suites": [
      {
       "cases": [
        {
         "code": ">>> [below_3.num_rows, above_3.num_rows]\n[97, 175]",
         "failure_message": "❌ The correct number of values are not in below_3 and above_3. Use the where method on the faithful table to find where the duration values are below/above 3.",
         "hidden": false,
         "locked": false,
         "points": 1,
         "success_message": "✅ The correct number of values are in below_3 and above_3."
        },
        {
         "code": ">>> np.allclose([below_3_r, above_3_r], [0.290189526493, 0.372782225571])\nTrue",
         "failure_message": "❌ The values for below_3_r and above_3_r don't seem correct. Make sure the reg_coeff function returns the mean of the product of the standardized values in column 0 and 1.",
         "hidden": false,
         "locked": false,
         "points": 1,
         "success_message": "✅ The values for below_3_r and above_3_r seem correct."
        }
       ],
       "scored": true,
       "setup": "",
       "teardown": "",
       "type": "doctest"
      }
     ]
    },
    "task_15": {
     "name": "task_15",
     "points": null,
     "suites": [
      {
       "cases": [
        {
         "code": ">>> np.allclose([wait_below_3(1), wait_below_3(3), wait_above_3(3), wait_above_3(6)], [47.90215160574252, 60.60319718202381, 72.96541399053837, 89.2818591974495])\nTrue",
         "failure_message": "❌ wait_below_3 and wait_above_3 don't seem to be working correctly. Double check that your slope and intercept functions are using the right formulas for slope and intercept.",
         "hidden": false,
         "locked": false,
         "points": 1,
         "success_message": "✅ wait_below_3 and wait_above_3 seem to be working correctly."
        }
       ],
       "scored": true,
       "setup": "",
       "teardown": "",
       "type": "doctest"
      }
     ]
    },
    "task_16": {
     "name": "task_16",
     "points": null,
     "suites": [
      {
       "cases": [
        {
         "code": ">>> np.allclose([predict_wait(x) for x in [1.5, 2.5, 3.5, 4.5]], [51.077412999812836, 57.42793578795349, 75.68482152502355, 81.12363659399392])\nTrue",
         "failure_message": "❌ predict_wait doesn't seem to be working correctly. Try using a if statement to have the function respond differently depending on the duration value.",
         "hidden": false,
         "locked": false,
         "points": 1,
         "success_message": "✅ predict_wait seems to be working correctly."
        }
       ],
       "scored": true,
       "setup": "",
       "teardown": "",
       "type": "doctest"
      }
     ]
    }
   }
  }
 },
 "nbformat": 4,
 "nbformat_minor": 5
}
