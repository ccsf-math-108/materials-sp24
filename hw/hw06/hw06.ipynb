{
 "cells": [
  {
   "cell_type": "code",
   "execution_count": null,
   "id": "3e455700",
   "metadata": {
    "deletable": false,
    "editable": false
   },
   "outputs": [],
   "source": [
    "# Initialize Otter\n",
    "import otter\n",
    "grader = otter.Notebook(\"hw06.ipynb\")"
   ]
  },
  {
   "cell_type": "markdown",
   "id": "155d71b8-8d3c-46a9-822f-84b7b8d91a4f",
   "metadata": {},
   "source": [
    "<img style=\"display: block; margin-left: auto; margin-right: auto\" src=\"./ccsf-logo.png\" width=\"250rem;\" alt=\"The CCSF black and white logo\">"
   ]
  },
  {
   "cell_type": "markdown",
   "id": "8ad3b97a-57a9-40c2-9bd3-6951c897769d",
   "metadata": {},
   "source": [
    "# Homework 6: Simulation"
   ]
  },
  {
   "cell_type": "markdown",
   "id": "9610e495-83a0-4dac-9617-aed757fab155",
   "metadata": {},
   "source": [
    "## References\n",
    "\n",
    "* [Sections 10.1 - 10.4](https://inferentialthinking.com/chapters/10/1/Empirical_Distributions.html)\n",
    "* [`datascience` Documentation](https://datascience.readthedocs.io/)\n",
    "* [Python Quick Reference](https://ccsf-math-108.github.io/materials-fa23/resources/quick_reference.html)"
   ]
  },
  {
   "cell_type": "markdown",
   "id": "a81980da-75a9-416b-8d8e-ec7859f074d0",
   "metadata": {},
   "source": [
    "## Assignment Reminders"
   ]
  },
  {
   "cell_type": "markdown",
   "id": "58a2b68b-65c1-4235-af5e-e95c3ca0d757",
   "metadata": {},
   "source": [
    "- Make sure to run the code cell at the top of this notebook that starts with `# Initialize Otter` to load the auto-grader.\n",
    "- For all tasks indicated with a 🔎 that you must write explanations and sentences for, provide your answer in the designated space.\n",
    "- Throughout this assignment and all future ones, please be sure to not re-assign variables throughout the notebook! _For example, if you use `max_temperature` in your answer to one question, do not reassign it later on. Otherwise, you will fail tests that you thought you were passing previously!_\n",
    "- We encourage you to discuss this assignment with others but make sure to write and submit your own code. Refer to the syllabus to learn more about how to learn cooperatively.\n",
    "- Unless you are asked otherwise, use the non-interactive visualizations when asked to produce a visualization for a task.\n",
    "- View the related <a href=\"https://ccsf.instructure.com\" target=\"_blank\">Canvas</a> Assignment page for additional details.\n",
    "\n",
    "Run the following code cell to import the tools for this assignment."
   ]
  },
  {
   "cell_type": "code",
   "execution_count": null,
   "id": "d739f2bd-ba94-4585-b99b-4005e95a6af2",
   "metadata": {
    "tags": []
   },
   "outputs": [],
   "source": [
    "from datascience import *\n",
    "import numpy as np\n",
    "%matplotlib inline\n",
    "import matplotlib.pyplot as plt\n",
    "plt.style.use('fivethirtyeight')"
   ]
  },
  {
   "cell_type": "markdown",
   "id": "25b8df59-3064-4c58-b829-7b78cdaf1456",
   "metadata": {},
   "source": [
    "## Roulette Again"
   ]
  },
  {
   "cell_type": "markdown",
   "id": "e2bff38e-4f63-4042-8d3c-51a7704c1d79",
   "metadata": {},
   "source": [
    "A Nevada roulette wheel has 38 pockets and a small ball that rests on the wheel. When the wheel is spun, the ball comes to rest in one of the 38 pockets. That pocket is declared the winner. \n",
    "\n",
    "The pockets are labeled 0, 00, 1, 2, 3, 4, ... , 36. Pockets 0 and 00 are green, and the other pockets are alternately red and black. The table `wheel` is a representation of a Nevada roulette wheel. **Note that *both* columns consist of strings.** Below is an example of a roulette wheel!\n",
    "\n",
    "<img src=\"./roulette_wheel.jpeg\" alt=\"roulette wheel\" width=\"330px\">\n",
    "\n",
    "Run the cell below to load the `wheel` table."
   ]
  },
  {
   "cell_type": "code",
   "execution_count": null,
   "id": "712d234e-097b-4c42-ba7e-1ab7052da55c",
   "metadata": {},
   "outputs": [],
   "source": [
    "wheel = Table.read_table('roulette_wheel.csv', dtype=str)\n",
    "wheel"
   ]
  },
  {
   "cell_type": "markdown",
   "id": "953546b8-25e3-4b0f-8e2b-b0e33608ba90",
   "metadata": {},
   "source": [
    "### Betting on Red"
   ]
  },
  {
   "cell_type": "markdown",
   "id": "6cc69e67-300a-463b-a245-e51245ba3428",
   "metadata": {},
   "source": [
    "If you bet on *red*, you are betting that the winning pocket will be red. This bet *pays 1 to 1*. That means if you place a one-dollar bet on red, then:\n",
    "\n",
    "- If the winning pocket is red, you gain 1 dollar. That is, you get your original dollar back, plus one more dollar.\n",
    "- if the winning pocket is not red, you lose your dollar. In other words, you gain -1 dollars.\n",
    "\n",
    "Let's see if you can make money by betting on red at roulette."
   ]
  },
  {
   "cell_type": "markdown",
   "id": "0192eea3-1ae7-405f-a7e1-4dffdb6ac0c9",
   "metadata": {},
   "source": [
    "#### Task 01 📍"
   ]
  },
  {
   "cell_type": "markdown",
   "id": "a1e6829e-abd8-4989-b95a-6e680ad89210",
   "metadata": {
    "deletable": false,
    "editable": false
   },
   "source": [
    "Define a function `dollar_bet_on_red`. The function definition should:\n",
    "1. Have one argument `color` that is a `str` for the name of a color.\n",
    "2. Return your gain in dollars as an `int` if that color had won and you had placed a one-dollar bet on red. \n",
    "\n",
    "Consider the following as you work:\n",
    "* Remember that the gain can be negative.\n",
    "* Make sure your function returns an integer.\n",
    "* You can assume that the only colors that will be passed as arguments are `'red'`, `'black'`, and `'green'`. Your function doesn't have to check that the input is correct.\n",
    "\n",
    "_Points:_ 3"
   ]
  },
  {
   "cell_type": "code",
   "execution_count": null,
   "id": "e8cd4c21-a0fa-4a29-b61e-2482a059c9c1",
   "metadata": {
    "tags": []
   },
   "outputs": [],
   "source": [
    "def dollar_bet_on_red(...):\n",
    "    ..."
   ]
  },
  {
   "cell_type": "code",
   "execution_count": null,
   "id": "3aad61bd",
   "metadata": {
    "deletable": false,
    "editable": false
   },
   "outputs": [],
   "source": [
    "grader.check(\"task_01\")"
   ]
  },
  {
   "cell_type": "markdown",
   "id": "ad36021f-478a-4003-9fe9-db6c2f891446",
   "metadata": {},
   "source": [
    "Run the cell below to make sure your function is working."
   ]
  },
  {
   "cell_type": "code",
   "execution_count": null,
   "id": "df617a80-0108-4f84-a9bc-a615db25153d",
   "metadata": {},
   "outputs": [],
   "source": [
    "print(dollar_bet_on_red('green'))\n",
    "print(dollar_bet_on_red('black'))\n",
    "print(dollar_bet_on_red('red'))"
   ]
  },
  {
   "cell_type": "markdown",
   "id": "b382d9f3-44a6-4e6e-b5b1-c3350b3754d1",
   "metadata": {
    "tags": []
   },
   "source": [
    "#### Task 02 📍"
   ]
  },
  {
   "cell_type": "markdown",
   "id": "fec5faea-2cc3-4eac-9b3b-736c766f49e3",
   "metadata": {
    "deletable": false,
    "editable": false
   },
   "source": [
    "1. Add a column labeled `'Winnings: Red'` as the last column in the table `wheel` such that, for each pocket, the column should contain your gain in dollars if that pocket won and you had bet one dollar on red. \n",
    "2. Your code should apply the function `dollar_bet_on_red` on the `wheel` table to create an array `red_winnings`.\n",
    "\n",
    "_Points:_ 3"
   ]
  },
  {
   "cell_type": "code",
   "execution_count": null,
   "id": "2ea1097b-0e02-4f35-bc9e-902755722ddb",
   "metadata": {
    "tags": []
   },
   "outputs": [],
   "source": [
    "red_winnings = ...\n",
    "wheel = ...\n",
    "wheel"
   ]
  },
  {
   "cell_type": "code",
   "execution_count": null,
   "id": "bd485dc4",
   "metadata": {
    "deletable": false,
    "editable": false
   },
   "outputs": [],
   "source": [
    "grader.check(\"task_02\")"
   ]
  },
  {
   "cell_type": "markdown",
   "id": "a9761902-340b-474b-be81-c6a2a14053d8",
   "metadata": {},
   "source": [
    "### Simulating 10 Bets on Red"
   ]
  },
  {
   "cell_type": "markdown",
   "id": "1d1b67af-9dfc-4401-8e52-9abae8877f5b",
   "metadata": {},
   "source": [
    "Roulette wheels are set up so that each time they are spun, the winning pocket is equally likely to be any of the 38 pockets regardless of the results of all other spins. Let's see what would happen if we decided to bet one dollar on red each round."
   ]
  },
  {
   "cell_type": "markdown",
   "id": "4654fb0a-efe9-4ff5-9e90-4fdf69d165d0",
   "metadata": {},
   "source": [
    "#### Task 03 📍"
   ]
  },
  {
   "cell_type": "markdown",
   "id": "bda4edb4-7d78-4460-80d1-aaffa5373e66",
   "metadata": {
    "deletable": false,
    "editable": false
   },
   "source": [
    "1. Create a table `ten_bets` by sampling the table `wheel` to simulate 10 spins of the roulette wheel. \n",
    "2. Your table should have the same three column labels as in `wheel`. \n",
    "3. Once you've created that table, set `sum_bets` to your net gain, an integer, in all 10 bets, assuming that you bet one dollar on red each time.\n",
    "\n",
    "While you are working on this, it may be helpful to print out `ten_bets` after you create it!\n",
    "\n",
    "_Points:_ 5"
   ]
  },
  {
   "cell_type": "code",
   "execution_count": null,
   "id": "5bae1bc7-16f8-4f97-a0d7-d01bbbcb052c",
   "metadata": {
    "tags": []
   },
   "outputs": [],
   "source": [
    "ten_bets = ...\n",
    "sum_bets = ...(ten_bets.column('Winnings: Red'))\n",
    "sum_bets"
   ]
  },
  {
   "cell_type": "code",
   "execution_count": null,
   "id": "590889be",
   "metadata": {
    "deletable": false,
    "editable": false
   },
   "outputs": [],
   "source": [
    "grader.check(\"task_03\")"
   ]
  },
  {
   "cell_type": "markdown",
   "id": "d7b65453-d886-44c2-a339-fa69d80dbaa8",
   "metadata": {},
   "source": [
    "Run the cells above a few times to see how much money you would make if you made 10 one-dollar bets on red. Making a negative amount of money doesn't feel good, but it is a reality in gambling. Casinos are a business, and they make money when gamblers lose."
   ]
  },
  {
   "cell_type": "markdown",
   "id": "b3859152-fadf-47b3-b0e6-fbaba7c4f170",
   "metadata": {},
   "source": [
    "#### Task 04 📍"
   ]
  },
  {
   "cell_type": "markdown",
   "id": "e685b94d-ffad-467e-8ef3-9168197d97f1",
   "metadata": {
    "deletable": false,
    "editable": false
   },
   "source": [
    "Let's see what would happen if you made more bets. \n",
    "\n",
    "Define a function `net_gain_red` with one arguement that takes the number (`int`) of bets and returns the net gain (`int`) in that number of one-dollar bets on red.\n",
    "\n",
    "Reference the `wheel` table that you've defined in the notebook within your function.\n",
    "\n",
    "_Points:_ 2"
   ]
  },
  {
   "cell_type": "code",
   "execution_count": null,
   "id": "7ec229df-8cdd-4617-9112-2e0dbb14f44d",
   "metadata": {
    "tags": []
   },
   "outputs": [],
   "source": [
    "def net_gain_red(...):\n",
    "    ...\n",
    "    \n",
    "net_gain_red(10)"
   ]
  },
  {
   "cell_type": "code",
   "execution_count": null,
   "id": "53ffcc09",
   "metadata": {
    "deletable": false,
    "editable": false
   },
   "outputs": [],
   "source": [
    "grader.check(\"task_04\")"
   ]
  },
  {
   "cell_type": "markdown",
   "id": "25f286a9-d938-406c-810c-e1712d093bb6",
   "metadata": {},
   "source": [
    "#### Task 05 📍"
   ]
  },
  {
   "cell_type": "markdown",
   "id": "bddc7e28-96a5-45d5-b5fd-40382e20b9fc",
   "metadata": {
    "deletable": false,
    "editable": false
   },
   "source": [
    "1. Complete the cell below to simulate the net gain in 200 one-dollar bets on red, repeating the process 10,000 times. \n",
    "2. After the cell is run, `all_gains_red` should be an array with 10,000 entries, each of which is the net gain in 200 one-dollar bets on red.\n",
    "\n",
    "_Points:_ 2"
   ]
  },
  {
   "cell_type": "code",
   "execution_count": null,
   "id": "77daa6ee-b4d6-41b3-a39a-99e72f3c45ff",
   "metadata": {
    "tags": []
   },
   "outputs": [],
   "source": [
    "num_bets = ...\n",
    "repetitions = ...\n",
    "\n",
    "all_gains_red = ...\n",
    "...\n",
    "\n",
    "len(all_gains_red) # Do not change this line! Check that all_gains_red is length 10000."
   ]
  },
  {
   "cell_type": "code",
   "execution_count": null,
   "id": "2a953159",
   "metadata": {
    "deletable": false,
    "editable": false
   },
   "outputs": [],
   "source": [
    "grader.check(\"task_05\")"
   ]
  },
  {
   "cell_type": "markdown",
   "id": "9aff3fb7-cef1-4053-bd0d-5ecd3403b92c",
   "metadata": {
    "tags": []
   },
   "source": [
    "Run the cell below to visualize the results of your simulation."
   ]
  },
  {
   "cell_type": "code",
   "execution_count": null,
   "id": "d112b766-b012-4ea2-80f6-49d9fc452f31",
   "metadata": {},
   "outputs": [],
   "source": [
    "gains = Table().with_columns('Net Gain on Red', all_gains_red)\n",
    "gains.hist(bins = np.arange(-80, 41, 4))"
   ]
  },
  {
   "cell_type": "markdown",
   "id": "3faa0f49-e4f5-415c-9494-52ef5c08d4d2",
   "metadata": {},
   "source": [
    "#### Task 06 📍"
   ]
  },
  {
   "cell_type": "markdown",
   "id": "d9047a4e-efac-48f2-90c8-f68adfe6bf83",
   "metadata": {
    "deletable": false,
    "editable": false
   },
   "source": [
    "Using the histogram above, decide whether the following statement is true or false:\n",
    "\n",
    ">If you make 200 one-dollar bets on red, your chance of losing money is more than 50%.\n",
    "\n",
    "Assign `loss_more_than_50` to either `True` or `False` depending on your answer to the question.\n",
    "\n",
    "_Points:_ 2"
   ]
  },
  {
   "cell_type": "code",
   "execution_count": null,
   "id": "243458af-abf7-46a5-87d9-2c87384fb919",
   "metadata": {
    "tags": []
   },
   "outputs": [],
   "source": [
    "loss_more_than_50 = ..."
   ]
  },
  {
   "cell_type": "code",
   "execution_count": null,
   "id": "cb165d4a",
   "metadata": {
    "deletable": false,
    "editable": false
   },
   "outputs": [],
   "source": [
    "grader.check(\"task_06\")"
   ]
  },
  {
   "cell_type": "markdown",
   "id": "654d8236-a4bc-4050-b9da-265c5fa81b62",
   "metadata": {},
   "source": [
    "### Betting on a Split"
   ]
  },
  {
   "cell_type": "markdown",
   "id": "b5bd7b16-447d-41dc-b10f-9b5779c79656",
   "metadata": {},
   "source": [
    "If betting on red doesn't seem like a good idea, maybe a gambler might want to try a different bet. A bet on a *split* is a bet on two consecutive numbers such as 5 and 6. This bets pays 17 to 1. That means if you place a one-dollar bet on the split 5 and 6, then:\n",
    "\n",
    "- If the winning pocket is either 5 or 6, your gain is 17 dollars.\n",
    "- If any other pocket wins, you lose your dollar, so your gain is -1 dollars."
   ]
  },
  {
   "cell_type": "markdown",
   "id": "a67566b5-7ca5-41a1-b533-14e1bf663e9f",
   "metadata": {},
   "source": [
    "#### Task 07 📍"
   ]
  },
  {
   "cell_type": "markdown",
   "id": "0a501c65-95ab-409b-aa37-63625db7fdbb",
   "metadata": {
    "deletable": false,
    "editable": false
   },
   "source": [
    "Define a function `dollar_bet_on_5_6_split`.\n",
    "1. The function should have 1 argument (type `str`) that represents the pocket number\n",
    "2. The function should return the gain in dollars if that pocket won and they had bet one dollar on the 5-6 split.\n",
    "\n",
    "Remember that the pockets are represented as strings.\n",
    "\n",
    "_Points:_ 4"
   ]
  },
  {
   "cell_type": "code",
   "execution_count": null,
   "id": "372bd6b5-993c-4afb-ac56-8dd04b43dbc0",
   "metadata": {
    "tags": []
   },
   "outputs": [],
   "source": [
    "def dollar_bet_on_5_6_split(...):\n",
    "    ..."
   ]
  },
  {
   "cell_type": "code",
   "execution_count": null,
   "id": "0d3021c2",
   "metadata": {
    "deletable": false,
    "editable": false
   },
   "outputs": [],
   "source": [
    "grader.check(\"task_07\")"
   ]
  },
  {
   "cell_type": "markdown",
   "id": "bca71cad-26a2-4148-8237-95964bd49357",
   "metadata": {},
   "source": [
    "Run the cell below to check that your function is doing what it should."
   ]
  },
  {
   "cell_type": "code",
   "execution_count": null,
   "id": "da8fd5a0-780e-4078-8279-cae7e0008402",
   "metadata": {},
   "outputs": [],
   "source": [
    "print(dollar_bet_on_5_6_split('5'))\n",
    "print(dollar_bet_on_5_6_split('6'))\n",
    "print(dollar_bet_on_5_6_split('00'))\n",
    "print(dollar_bet_on_5_6_split('23'))"
   ]
  },
  {
   "cell_type": "markdown",
   "id": "d9822cfd-bc4a-42df-bba7-319d552e5ba2",
   "metadata": {},
   "source": [
    "#### Task 08 📍"
   ]
  },
  {
   "cell_type": "markdown",
   "id": "b8a4bde0-6a46-4a2e-bdd5-c8c6ddcfc45d",
   "metadata": {
    "deletable": false,
    "editable": false
   },
   "source": [
    "Add a column `'Winnings: 5-6 Split'` to the end of the `wheel` table. For each pocket, the column should contain your gain in dollars if that pocket won and you had bet one dollar on the 5-6 split.\n",
    "\n",
    "_Points:_ 3"
   ]
  },
  {
   "cell_type": "code",
   "execution_count": null,
   "id": "8e4e18a5-5d51-42d6-a22c-3a810f1b36c3",
   "metadata": {
    "tags": []
   },
   "outputs": [],
   "source": [
    "split_winnings = ...\n",
    "wheel = ..."
   ]
  },
  {
   "cell_type": "code",
   "execution_count": null,
   "id": "bc20149a",
   "metadata": {
    "deletable": false,
    "editable": false
   },
   "outputs": [],
   "source": [
    "grader.check(\"task_08\")"
   ]
  },
  {
   "cell_type": "markdown",
   "id": "d0416a77-9a6e-4d14-bfc8-87e6f1fd0e60",
   "metadata": {},
   "source": [
    "#### Task 09 📍"
   ]
  },
  {
   "cell_type": "markdown",
   "id": "323d864f-97a6-4577-a493-56b6599e59ad",
   "metadata": {
    "deletable": false,
    "editable": false
   },
   "source": [
    "1. Simulate the net gain in 200 one-dollar bets on the 5-6 split.\n",
    "2. Repeat the simulation for a total of 10,000 times.\n",
    "3. Store your gains in the array `all_gains_split`.\n",
    "\n",
    "_Points:_ 2"
   ]
  },
  {
   "cell_type": "code",
   "execution_count": null,
   "id": "fd02d2b4-b04e-41c0-a24b-b6a20cb6d8c8",
   "metadata": {
    "tags": []
   },
   "outputs": [],
   "source": [
    "all_gains_split = ...\n",
    "...\n",
    "\n",
    "# Do not change the two lines below\n",
    "gains = gains.with_columns('Net Gain on Split', all_gains_split)\n",
    "gains.hist(bins = np.arange(-200, 150, 20))"
   ]
  },
  {
   "cell_type": "code",
   "execution_count": null,
   "id": "dcf20698",
   "metadata": {
    "deletable": false,
    "editable": false
   },
   "outputs": [],
   "source": [
    "grader.check(\"task_09\")"
   ]
  },
  {
   "cell_type": "markdown",
   "id": "4e68a267-5106-4e22-be30-6eb0c26367c1",
   "metadata": {},
   "source": [
    "#### Task 10 📍"
   ]
  },
  {
   "cell_type": "markdown",
   "id": "19c02853-f5e0-4a9f-8e0a-99cfbfc06ecd",
   "metadata": {
    "deletable": false,
    "editable": false
   },
   "source": [
    "Look carefully at the visualization above, and assign `histogram_statements` to an array of the numbers of each statement below that can be correctly inferred from the overlaid histogram.\n",
    "\n",
    "1. If you bet one dollar 200 times on a split, your chance of losing money is more than 50%.\n",
    "2. If you bet one dollar 200 times in roulette, your chance of making more than 50 dollars is greater if you bet on a split each time than if you bet on red each time.\n",
    "3. If you bet one dollar 200 times in roulette, your chance of losing more than 50 dollars is greater if you bet on a split each time than if you bet on red each time.\n",
    "\n",
    "Notice that you've already seen one of these statements in a prior question.\n",
    "\n",
    "_Points:_ 5"
   ]
  },
  {
   "cell_type": "code",
   "execution_count": null,
   "id": "58a5b3fd-68c6-472c-8bb1-84110ccb63d7",
   "metadata": {
    "tags": []
   },
   "outputs": [],
   "source": [
    "histogram_statements = ..."
   ]
  },
  {
   "cell_type": "code",
   "execution_count": null,
   "id": "1a433428",
   "metadata": {
    "deletable": false,
    "editable": false
   },
   "outputs": [],
   "source": [
    "grader.check(\"task_10\")"
   ]
  },
  {
   "cell_type": "markdown",
   "id": "a4486226-63a4-4846-b181-bd0119b03051",
   "metadata": {},
   "source": [
    "If this exercise has put you off playing roulette, it has done its job. If you are still curious about other bets, [here](https://en.wikipedia.org/wiki/Roulette#Bet_odds_table) they all are, and [here](https://en.wikipedia.org/wiki/Roulette#House_edge) is the bad news. The house – that is, the casino – always has an edge over the gambler."
   ]
  },
  {
   "cell_type": "markdown",
   "id": "aca889b3-d9cb-4f3d-a4fe-8bde713cb99c",
   "metadata": {
    "tags": []
   },
   "source": [
    "## Simulating Jade's Game"
   ]
  },
  {
   "cell_type": "markdown",
   "id": "493ca22d-d08c-4e95-b95d-d7e732f953d8",
   "metadata": {
    "tags": []
   },
   "source": [
    "### Games with Jade"
   ]
  },
  {
   "cell_type": "markdown",
   "id": "61ce2924-0eeb-488d-887a-2f74df27b626",
   "metadata": {},
   "source": [
    "Our friend Jade comes over and asks us to play a game with her. The game works like this: \n",
    "\n",
    "> We will draw randomly with replacement from a simplified 13 card deck with 4 face cards (A, J, Q, K), and 9 numbered cards (2, 3, 4, 5, 6, 7, 8, 9, 10). If we draw cards with replacement 13 times and if the number of face cards is greater than or equal to 4, then we lose.\n",
    "> \n",
    "> Otherwise, Jade loses.\n",
    "\n",
    "Over the next few tasks, you will simulate this game and calculate a statistic of the number of face cards in 13 draws with replacement."
   ]
  },
  {
   "cell_type": "markdown",
   "id": "9dfd1c5f-6dac-4682-9e80-a126371ecc88",
   "metadata": {
    "tags": []
   },
   "source": [
    "#### Task 11 📍"
   ]
  },
  {
   "cell_type": "markdown",
   "id": "ca1dd718-6f2e-4097-9ae9-b3b71c7d3802",
   "metadata": {
    "deletable": false,
    "editable": false
   },
   "source": [
    "Assign `deck_probabilities` to a two-item array containing the chance of drawing a face card as the first element, and the chance of drawing a numbered card. Since we're working with probabilities, make sure your values are between 0 and 1. \n",
    "\n",
    "\n",
    "_Points:_ 4"
   ]
  },
  {
   "cell_type": "code",
   "execution_count": null,
   "id": "1f8d3316-6e30-4564-a30d-ec22670f370f",
   "metadata": {
    "tags": []
   },
   "outputs": [],
   "source": [
    "deck_probabilities = ...\n",
    "deck_probabilities"
   ]
  },
  {
   "cell_type": "code",
   "execution_count": null,
   "id": "cbd718d7",
   "metadata": {
    "deletable": false,
    "editable": false
   },
   "outputs": [],
   "source": [
    "grader.check(\"task_11\")"
   ]
  },
  {
   "cell_type": "markdown",
   "id": "330e3c34-9ab7-4b1c-ae73-01586a32282b",
   "metadata": {},
   "source": [
    "#### Task 12 📍"
   ]
  },
  {
   "cell_type": "markdown",
   "id": "e4859dd1-247a-41eb-a4e5-9c1fd68ca3d1",
   "metadata": {
    "deletable": false,
    "editable": false
   },
   "source": [
    "Define the function `deck_simulation_and_statistic`, which, given a sample size and an array of proportions (like the one you created in Task 11), returns the number of face cards in one simulation of drawing cards under the proportions in `pop_proportions`.\n",
    "\n",
    "**Hint**: Try using the function `sample_proportions`. \n",
    "\n",
    "_Points:_ 1"
   ]
  },
  {
   "cell_type": "code",
   "execution_count": null,
   "id": "c9bf5639-780a-4834-8aa7-01f27ae6d6e7",
   "metadata": {
    "tags": []
   },
   "outputs": [],
   "source": [
    "def deck_simulation_and_statistic(sample_size, pop_proportions):\n",
    "    simulation = ...\n",
    "    statistic = ...\n",
    "    return statistic\n",
    "\n",
    "deck_simulation_and_statistic(13, deck_probabilities)"
   ]
  },
  {
   "cell_type": "code",
   "execution_count": null,
   "id": "d684def3",
   "metadata": {
    "deletable": false,
    "editable": false
   },
   "outputs": [],
   "source": [
    "grader.check(\"task_12\")"
   ]
  },
  {
   "cell_type": "markdown",
   "id": "2705ccf7-d1cd-4b15-8418-e68ea3094fca",
   "metadata": {},
   "source": [
    "#### Task 13 📍"
   ]
  },
  {
   "cell_type": "markdown",
   "id": "e242a7d3-c216-4f08-acbb-ed63bb90a10d",
   "metadata": {
    "deletable": false,
    "editable": false
   },
   "source": [
    "Use your function from the previous task to simulate the drawing of 13 cards 5,000 times using the proportions that you specified in Task 11. Keep track of all of your statistics in `deck_statistics`. \n",
    "\n",
    "\n",
    "_Points:_ 2"
   ]
  },
  {
   "cell_type": "code",
   "execution_count": null,
   "id": "683adf0e-5157-4493-b400-e4bf5c1eea56",
   "metadata": {
    "tags": []
   },
   "outputs": [],
   "source": [
    "repetitions = 5000 \n",
    "...\n",
    "\n",
    "deck_statistics"
   ]
  },
  {
   "cell_type": "code",
   "execution_count": null,
   "id": "c9372a38",
   "metadata": {
    "deletable": false,
    "editable": false
   },
   "outputs": [],
   "source": [
    "grader.check(\"task_13\")"
   ]
  },
  {
   "cell_type": "markdown",
   "id": "f3086077-7aa4-4c70-b874-38ad9a785e2e",
   "metadata": {},
   "source": [
    "Finally, take a look at the distribution of simulated statistics."
   ]
  },
  {
   "cell_type": "code",
   "execution_count": null,
   "id": "5b61fcab-6d93-4e70-85ce-2160eab5c402",
   "metadata": {},
   "outputs": [],
   "source": [
    "#Draw a distribution of statistics \n",
    "Table().with_column('Deck Statistics', deck_statistics).hist()"
   ]
  },
  {
   "cell_type": "markdown",
   "id": "9417e08a-e823-489d-a4e2-819b7d5f93b4",
   "metadata": {},
   "source": [
    "#### Task 14 📍🔎"
   ]
  },
  {
   "cell_type": "markdown",
   "id": "8ee2a325-3432-4fac-b528-07484193bea2",
   "metadata": {
    "deletable": false,
    "editable": false
   },
   "source": [
    "<!-- BEGIN QUESTION -->\n",
    "\n",
    "We actually play the game once and we lose, observing 8 total face cards. Do you think it was very likely that we should have observed 8 total face cards in our play?\n",
    "\n",
    "Provide a yes/no response and an explanation for your conclusion. Make sure to reference the histogram in your explanation.\n",
    "\n",
    "_Points:_ 2"
   ]
  },
  {
   "cell_type": "markdown",
   "id": "2dbf3b09",
   "metadata": {},
   "source": [
    "_Type your answer here, replacing this text._"
   ]
  },
  {
   "cell_type": "markdown",
   "id": "f0d7bb4d-7a67-4885-a5a7-62f385c9cc73",
   "metadata": {
    "deletable": false,
    "editable": false
   },
   "source": [
    "<!-- END QUESTION -->\n",
    "\n",
    "## Submit your Homework to Canvas\n",
    "\n",
    "Once you have finished working on the homework tasks, prepare to submit your work in Canvas by completing the following steps.\n",
    "\n",
    "1. In the related Canvas Assignment page, check the rubric to know how you will be scored for this assignment.\n",
    "2. Double-check that you have run the code cell near the end of the notebook that contains the command `\"grader.check_all()\"`. This command will run all of the run tests on all your responses to the auto-graded tasks marked with 📍.\n",
    "3. Double-check your responses to the manually graded tasks marked with 📍🔎.\n",
    "3. Select the menu item \"File\" and \"Save Notebook\" in the notebook's Toolbar to save your work and create a specific checkpoint in the notebook's work history.\n",
    "4. Select the menu items \"File\", \"Download\" in the notebook's Toolbar to download the notebook (.ipynb) file. \n",
    "5. In the related Canvas Assignment page, click Start Assignment or New Attempt to upload the downloaded .ipynb file.\n",
    "\n",
    "**Keep in mind that the autograder does not always check for correctness. Sometimes it just checks for the format of your answer, so passing the autograder for a question does not mean you got the answer correct for that question.**"
   ]
  },
  {
   "cell_type": "markdown",
   "id": "b443c9ef",
   "metadata": {
    "deletable": false,
    "editable": false
   },
   "source": [
    "---\n",
    "\n",
    "To double-check your work, the cell below will rerun all of the autograder tests."
   ]
  },
  {
   "cell_type": "code",
   "execution_count": null,
   "id": "f36b8af8",
   "metadata": {
    "deletable": false,
    "editable": false
   },
   "outputs": [],
   "source": [
    "grader.check_all()"
   ]
  }
 ],
 "metadata": {
  "kernelspec": {
   "display_name": "Python 3 (ipykernel)",
   "language": "python",
   "name": "python3"
  },
  "language_info": {
   "codemirror_mode": {
    "name": "ipython",
    "version": 3
   },
   "file_extension": ".py",
   "mimetype": "text/x-python",
   "name": "python",
   "nbconvert_exporter": "python",
   "pygments_lexer": "ipython3",
   "version": "3.10.12"
  },
  "otter": {
   "OK_FORMAT": true,
   "assignment_name": "hw06_sp24",
   "tests": {
    "task_01": {
     "name": "task_01",
     "points": 3,
     "suites": [
      {
       "cases": [
        {
         "code": ">>> dollar_bet_on_red('red') == 1\nTrue",
         "failure_message": "❌ Your function should return 1 when it is called on 'red'.",
         "hidden": false,
         "locked": false,
         "points": 1,
         "success_message": "✅ Your function correctly returns 1 when it is called on 'red'."
        }
       ],
       "scored": true,
       "setup": "",
       "teardown": "",
       "type": "doctest"
      }
     ]
    },
    "task_02": {
     "name": "task_02",
     "points": 3,
     "suites": [
      {
       "cases": [
        {
         "code": ">>> isinstance(red_winnings, np.ndarray)\nTrue",
         "failure_message": "❌ red_winnings should be an array.",
         "hidden": false,
         "locked": false,
         "points": 1,
         "success_message": "✅ It seems that red_winnings is an array."
        },
        {
         "code": ">>> wheel.labels[2] == 'Winnings: Red'\nTrue",
         "failure_message": "❌ wheel is not a table with the correct labels.",
         "hidden": false,
         "locked": false,
         "points": 1,
         "success_message": "✅ wheel is a table with the correct labels."
        }
       ],
       "scored": true,
       "setup": "",
       "teardown": "",
       "type": "doctest"
      }
     ]
    },
    "task_03": {
     "name": "task_03",
     "points": 5,
     "suites": [
      {
       "cases": [
        {
         "code": ">>> ten_bets.num_rows == 10\nTrue",
         "failure_message": "❌ ten_bets should have 10 rows.",
         "hidden": false,
         "locked": false,
         "points": 1,
         "success_message": "✅ ten_bets has 10 rows."
        },
        {
         "code": ">>> set(['Pocket', 'Color', 'Winnings: Red']) == set(ten_bets.labels)\nTrue",
         "failure_message": "❌ ten_bets should have the same column labels as wheels.",
         "hidden": false,
         "locked": false,
         "points": 1,
         "success_message": "✅ ten_bets has the same column labels as wheels."
        },
        {
         "code": ">>> isinstance(sum_bets, int) or isinstance(sum_bets, np.int64)\nTrue",
         "failure_message": "❌ sum_bets should be an integer.",
         "hidden": false,
         "locked": false,
         "points": 1,
         "success_message": "✅ sum_bets is an integer."
        }
       ],
       "scored": true,
       "setup": "",
       "teardown": "",
       "type": "doctest"
      }
     ]
    },
    "task_04": {
     "name": "task_04",
     "points": 2,
     "suites": [
      {
       "cases": [
        {
         "code": ">>> net_gain_red(10000) != net_gain_red(10000)\nTrue",
         "failure_message": "❌ There is essentially no chance that the net gain for 2 rounds of 10,000 bets should the same.",
         "hidden": false,
         "locked": false,
         "points": 1,
         "success_message": "✅ There is essentially no chance that the net gain for 2 rounds of 10,000 bets should the same."
        }
       ],
       "scored": true,
       "setup": "",
       "teardown": "",
       "type": "doctest"
      }
     ]
    },
    "task_05": {
     "name": "task_05",
     "points": 2,
     "suites": [
      {
       "cases": [
        {
         "code": ">>> len(all_gains_red) == 10000\nTrue",
         "failure_message": "❌ all_gains_red should be an array with 10,000 items.",
         "hidden": false,
         "locked": false,
         "points": 1,
         "success_message": "✅ all_gains_red is an array with 10,000 items."
        }
       ],
       "scored": true,
       "setup": "",
       "teardown": "",
       "type": "doctest"
      }
     ]
    },
    "task_06": {
     "name": "task_06",
     "points": 2,
     "suites": [
      {
       "cases": [
        {
         "code": ">>> isinstance(loss_more_than_50, bool)\nTrue",
         "failure_message": "❌ loss_more_than_50 should be a bool value.",
         "hidden": false,
         "locked": false,
         "points": 1,
         "success_message": "✅ loss_more_than_50 is a bool value."
        }
       ],
       "scored": true,
       "setup": "",
       "teardown": "",
       "type": "doctest"
      }
     ]
    },
    "task_07": {
     "name": "task_07",
     "points": 4,
     "suites": [
      {
       "cases": [
        {
         "code": ">>> dollar_bet_on_5_6_split('5') == 17\nTrue",
         "failure_message": "❌ Your function didn't return the correct value for the 5 pocket.",
         "hidden": false,
         "locked": false,
         "points": 1,
         "success_message": "✅ Your function returned the correct value for the 5 pocket."
        },
        {
         "code": ">>> dollar_bet_on_5_6_split('00') == -1\nTrue",
         "failure_message": "❌ Your function didn't return the correct value for the 00 pocket.",
         "hidden": false,
         "locked": false,
         "points": 1,
         "success_message": "✅ Your function returned the correct value for the 00 pocket."
        }
       ],
       "scored": true,
       "setup": "",
       "teardown": "",
       "type": "doctest"
      }
     ]
    },
    "task_08": {
     "name": "task_08",
     "points": 3,
     "suites": [
      {
       "cases": [
        {
         "code": ">>> wheel.labels[3] == 'Winnings: 5-6 Split'\nTrue",
         "failure_message": "❌ Your last column label should be 'Winnings: 5-6 Split'.",
         "hidden": false,
         "locked": false,
         "points": 1,
         "success_message": "✅ Your last column label is 'Winnings: 5-6 Split'."
        },
        {
         "code": ">>> wheel.where('Pocket', '5').column('Winnings: 5-6 Split').item(0) == 17\nTrue",
         "failure_message": "❌ The added column value associated with the 5 pocket is not correct.",
         "hidden": false,
         "locked": false,
         "points": 1,
         "success_message": "✅ The added column value associated with the 5 pocket is correct."
        }
       ],
       "scored": true,
       "setup": "",
       "teardown": "",
       "type": "doctest"
      }
     ]
    },
    "task_09": {
     "name": "task_09",
     "points": 2,
     "suites": [
      {
       "cases": [
        {
         "code": ">>> len(all_gains_split) == 10000\nTrue",
         "failure_message": "❌ There should be 10,000 items in all_gains_split.",
         "hidden": false,
         "locked": false,
         "points": 1,
         "success_message": "✅ There are 10,000 items in all_gains_split."
        }
       ],
       "scored": true,
       "setup": "",
       "teardown": "",
       "type": "doctest"
      }
     ]
    },
    "task_10": {
     "name": "task_10",
     "points": 5,
     "suites": [
      {
       "cases": [
        {
         "code": ">>> isinstance(histogram_statements, np.ndarray)\nTrue",
         "failure_message": "❌ histogram_statements should be an array.",
         "hidden": false,
         "locked": false,
         "points": 1,
         "success_message": "✅ histogram_statements is an array."
        },
        {
         "code": ">>> isinstance(histogram_statements.item(0), int)\nTrue",
         "failure_message": "❌ histogram_statements should contain at least one integer.",
         "hidden": false,
         "locked": false,
         "points": 1,
         "success_message": "✅ histogram_statements contains at least one integer."
        }
       ],
       "scored": true,
       "setup": "",
       "teardown": "",
       "type": "doctest"
      }
     ]
    },
    "task_11": {
     "name": "task_11",
     "points": 4,
     "suites": [
      {
       "cases": [
        {
         "code": ">>> len(deck_probabilities) == 2\nTrue",
         "failure_message": "❌ deck_probabilities should have a length 2",
         "hidden": false,
         "locked": false,
         "points": 1,
         "success_message": "✅ deck_probabilities has length 2"
        },
        {
         "code": ">>> sum(deck_probabilities) == 1\nTrue",
         "failure_message": "❌ The sum of the values in deck_probabilities should be 1.",
         "hidden": false,
         "locked": false,
         "points": 1,
         "success_message": "✅ The sum of the values in deck_probabilities is 1."
        }
       ],
       "scored": true,
       "setup": "",
       "teardown": "",
       "type": "doctest"
      }
     ]
    },
    "task_12": {
     "name": "task_12",
     "points": 1,
     "suites": [
      {
       "cases": [
        {
         "code": ">>> num_face = deck_simulation_and_statistic(13, deck_probabilities)\n>>> 0 <= num_face <= 13\nTrue",
         "failure_message": "❌ The statistic should be between 0 and 13 face cards for a sample size of 13.",
         "hidden": false,
         "locked": false,
         "points": 1,
         "success_message": "✅ The calculated value of the statistic is a possible value."
        }
       ],
       "scored": true,
       "setup": "",
       "teardown": "",
       "type": "doctest"
      }
     ]
    },
    "task_13": {
     "name": "task_13",
     "points": 2,
     "suites": [
      {
       "cases": [
        {
         "code": ">>> len(deck_statistics) == repetitions\nTrue",
         "failure_message": "❌ There should be exactly as many elements in deck_statistics as the number 'repetitions'.",
         "hidden": false,
         "locked": false,
         "points": 1,
         "success_message": "✅ There is exactly as many elements in deck_statistics as the number 'repetitions'."
        },
        {
         "code": ">>> all([0 <= k <= 13 for k in deck_statistics])\nTrue",
         "failure_message": "❌ Each element of deck_statistics should be between 0 and 13 inclusive.",
         "hidden": false,
         "locked": false,
         "points": 1,
         "success_message": "✅ Each element of deck_statistics is between 0 and 13 inclusive"
        }
       ],
       "scored": true,
       "setup": "",
       "teardown": "",
       "type": "doctest"
      }
     ]
    }
   }
  }
 },
 "nbformat": 4,
 "nbformat_minor": 5
}
