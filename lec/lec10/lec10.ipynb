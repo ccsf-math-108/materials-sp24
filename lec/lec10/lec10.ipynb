{
 "cells": [
  {
   "cell_type": "markdown",
   "id": "a89ee254-b2a7-4634-88d6-77a7f9c2d11b",
   "metadata": {
    "slideshow": {
     "slide_type": "slide"
    }
   },
   "source": [
    "<div style=\"width: 38.5%;\">\n",
    "    <p><strong>City College of San Francisco</strong><p>\n",
    "    <hr>\n",
    "    <p>MATH 108 - Foundations of Data Science</p>\n",
    "</div>"
   ]
  },
  {
   "cell_type": "markdown",
   "id": "6cc42725-18a0-487f-a398-ea6a81fd303b",
   "metadata": {
    "slideshow": {
     "slide_type": "-"
    }
   },
   "source": [
    "# Lecture 10: Functions"
   ]
  },
  {
   "cell_type": "markdown",
   "id": "ec461ad9-e2a1-4d7c-8175-0f8ff4f3ed82",
   "metadata": {
    "slideshow": {
     "slide_type": "-"
    }
   },
   "source": [
    "Associated Textbook Sections: [8.0, 8.1](https://inferentialthinking.com/chapters/08/Functions_and_Tables.html)"
   ]
  },
  {
   "cell_type": "markdown",
   "id": "152b988f-493d-4ab6-84d9-39dc51c14be5",
   "metadata": {
    "slideshow": {
     "slide_type": "fragment"
    }
   },
   "source": [
    "---"
   ]
  },
  {
   "cell_type": "markdown",
   "id": "48375a99-8f22-4759-a108-fa57a3750a8d",
   "metadata": {
    "slideshow": {
     "slide_type": "slide"
    }
   },
   "source": [
    "## Overview"
   ]
  },
  {
   "cell_type": "markdown",
   "id": "89825372-6d33-4657-b2b8-2bffacdd28f5",
   "metadata": {
    "slideshow": {
     "slide_type": "-"
    }
   },
   "source": [
    "* [Defining Functions](#Defining-Functions)\n",
    "* [Apply](#Apply)"
   ]
  },
  {
   "cell_type": "markdown",
   "id": "0428067b-1d30-4552-8527-8cb17ada1343",
   "metadata": {
    "slideshow": {
     "slide_type": "fragment"
    }
   },
   "source": [
    "---"
   ]
  },
  {
   "cell_type": "markdown",
   "id": "69013478-8537-4ffb-a59a-4fa6eaf1c0c4",
   "metadata": {
    "slideshow": {
     "slide_type": "slide"
    }
   },
   "source": [
    "## Set Up the Notebook"
   ]
  },
  {
   "cell_type": "code",
   "execution_count": null,
   "id": "e30ba96f-ec2c-4bc3-9e4f-4b0abe134861",
   "metadata": {
    "slideshow": {
     "slide_type": "-"
    }
   },
   "outputs": [],
   "source": [
    "from datascience import *\n",
    "import numpy as np\n",
    "%matplotlib inline\n",
    "import matplotlib.pyplot as plt\n",
    "plt.style.use('fivethirtyeight')"
   ]
  },
  {
   "cell_type": "markdown",
   "id": "503320a6-2f88-4359-953f-3a1a8ea7e30a",
   "metadata": {
    "slideshow": {
     "slide_type": "fragment"
    }
   },
   "source": [
    "---"
   ]
  },
  {
   "cell_type": "markdown",
   "id": "b2025028-2711-4199-9f68-d039351bac28",
   "metadata": {
    "slideshow": {
     "slide_type": "slide"
    }
   },
   "source": [
    "## Defining Functions"
   ]
  },
  {
   "cell_type": "markdown",
   "id": "7457fd81-22ae-42a0-8d2f-e61b8a91f7b4",
   "metadata": {
    "slideshow": {
     "slide_type": "fragment"
    }
   },
   "source": [
    "---"
   ]
  },
  {
   "cell_type": "markdown",
   "id": "ff2ea2b5-a95c-4604-bc48-9b5221562dc5",
   "metadata": {
    "slideshow": {
     "slide_type": "subslide"
    }
   },
   "source": [
    "### `def` Statements"
   ]
  },
  {
   "cell_type": "markdown",
   "id": "2779e072-bf40-4c31-bee8-02ad2fd01199",
   "metadata": {},
   "source": [
    "User-defined functions give names to blocks of code.\n"
   ]
  },
  {
   "cell_type": "markdown",
   "id": "19bd0a91-f382-484a-8629-883cb305b52b",
   "metadata": {
    "slideshow": {
     "slide_type": "fragment"
    }
   },
   "source": [
    "``` python\n",
    "def spread(values):\n",
    "    \"\"\"Return the spread of the values.\n",
    "\n",
    "    Keyword argument:\n",
    "    values: an array-like object of numerical values\n",
    "    \"\"\"\n",
    "    value_spread = max(values) - min(values)\n",
    "    return value_spread\n",
    "```"
   ]
  },
  {
   "cell_type": "markdown",
   "id": "2667aabd-5887-453d-8a95-3172794d73d9",
   "metadata": {
    "slideshow": {
     "slide_type": "fragment"
    }
   },
   "source": [
    "---"
   ]
  },
  {
   "cell_type": "markdown",
   "id": "99d004bc-36bd-4cf0-8431-97eb416d9c72",
   "metadata": {
    "slideshow": {
     "slide_type": "subslide"
    }
   },
   "source": [
    "### The First Line"
   ]
  },
  {
   "cell_type": "markdown",
   "id": "c95847d3-9f7d-45fa-96ba-8bcc8633022f",
   "metadata": {
    "slideshow": {
     "slide_type": "-"
    }
   },
   "source": [
    "\n",
    "``` python\n",
    "def spread(values):\n",
    "\n",
    "```"
   ]
  },
  {
   "cell_type": "markdown",
   "id": "324fb281-7e94-4402-b2a2-09fc27ee7fa1",
   "metadata": {
    "slideshow": {
     "slide_type": "fragment"
    }
   },
   "source": [
    "* `def` is a Python keyword that indicates you are defining a function\n",
    "* `spread` is the name of the function. This is how the function can be referenced.\n",
    "* `values` is the function argument. \n",
    "    * _A function may have 0, 1, 2, ... arguments._\n",
    "    * `values` serves as a placeholder in the definition for whatever input you actually provide.\n",
    "    * You can set the default value for an argument with an assignment statement.\n",
    "* The `:` is required."
   ]
  },
  {
   "cell_type": "markdown",
   "id": "36aef8af-16d1-4e2a-8dd5-fd0186ab78e2",
   "metadata": {
    "slideshow": {
     "slide_type": "fragment"
    }
   },
   "source": [
    "---"
   ]
  },
  {
   "cell_type": "markdown",
   "id": "c562445b-a26d-45b6-ba18-ace9292669a4",
   "metadata": {
    "slideshow": {
     "slide_type": "subslide"
    }
   },
   "source": [
    "### The Docstring"
   ]
  },
  {
   "cell_type": "markdown",
   "id": "9ba04453-3660-49fa-824d-531aac9aff4f",
   "metadata": {
    "slideshow": {
     "slide_type": "-"
    }
   },
   "source": [
    "``` python\n",
    "    \"\"\"Return the spread of the values.\n",
    "\n",
    "    Keyword argument:\n",
    "    values: an array-like object of numerical values\n",
    "    \"\"\"\n",
    "```"
   ]
  },
  {
   "cell_type": "markdown",
   "id": "82ad697a-1f6c-4761-a356-c099b1b6e334",
   "metadata": {
    "slideshow": {
     "slide_type": "fragment"
    }
   },
   "source": [
    "* The docstring provides documentation on what the function does.\n",
    "* Everything between the triple double quotes is included in the docstring."
   ]
  },
  {
   "cell_type": "markdown",
   "id": "6bbe0ad0-0eac-4410-b443-6313cbed6ac9",
   "metadata": {
    "slideshow": {
     "slide_type": "fragment"
    }
   },
   "source": [
    "---"
   ]
  },
  {
   "cell_type": "markdown",
   "id": "45965744-40bd-4e66-a9cd-afcdc28a9d9b",
   "metadata": {
    "slideshow": {
     "slide_type": "subslide"
    }
   },
   "source": [
    "### The Body"
   ]
  },
  {
   "cell_type": "markdown",
   "id": "6060cff9-15ee-4a38-adb8-42e0616ee993",
   "metadata": {
    "slideshow": {
     "slide_type": "-"
    }
   },
   "source": [
    "\n",
    "``` python\n",
    "    value_spread = max(values) - min(values)\n",
    "    return value_spread\n",
    "    \n",
    "```"
   ]
  },
  {
   "cell_type": "markdown",
   "id": "58744e96-9332-49ea-80af-16d4550256d8",
   "metadata": {
    "slideshow": {
     "slide_type": "fragment"
    }
   },
   "source": [
    "* `value_spread = ...` and `return value_spread` are part of the body of the function. \n",
    "    * This is the code that you have named as `spread`.\n",
    "    * The spacing is important for identifying the body.\n",
    "* `return value_spread` is the return statement for the function. _A function does not need to have a return statement._"
   ]
  },
  {
   "cell_type": "markdown",
   "id": "4c5bc99f-3b5f-41e0-803f-b2c0cc210bd6",
   "metadata": {
    "slideshow": {
     "slide_type": "fragment"
    }
   },
   "source": [
    "---"
   ]
  },
  {
   "cell_type": "code",
   "execution_count": null,
   "id": "dd0c1705-ed21-4a02-acdd-dc62e3c5610c",
   "metadata": {
    "slideshow": {
     "slide_type": "subslide"
    }
   },
   "outputs": [],
   "source": [
    "def spread(values):\n",
    "    \"\"\"Return the spread of the values.\n",
    "\n",
    "    Keyword argument:\n",
    "    values: an array-like object of numerical values\n",
    "    \"\"\"\n",
    "    value_spread = max(values) - min(values)\n",
    "    return value_spread"
   ]
  },
  {
   "cell_type": "markdown",
   "id": "3fb50689-ed97-40b3-87d5-f7e27e4712a0",
   "metadata": {
    "slideshow": {
     "slide_type": "fragment"
    }
   },
   "source": [
    "---"
   ]
  },
  {
   "cell_type": "code",
   "execution_count": null,
   "id": "63f18c91-1787-4da4-87a6-bf015a406e52",
   "metadata": {
    "slideshow": {
     "slide_type": "fragment"
    },
    "tags": []
   },
   "outputs": [],
   "source": [
    "spread?"
   ]
  },
  {
   "cell_type": "markdown",
   "id": "d59576d0-9944-48ff-8db6-e1b415c8fa7b",
   "metadata": {
    "slideshow": {
     "slide_type": "fragment"
    }
   },
   "source": [
    "---"
   ]
  },
  {
   "cell_type": "markdown",
   "id": "204610f1-adf4-488a-a9a1-657159767708",
   "metadata": {
    "slideshow": {
     "slide_type": "subslide"
    }
   },
   "source": [
    "### Demo: Functions"
   ]
  },
  {
   "cell_type": "markdown",
   "id": "52debf56-70c2-4419-8242-d69585a105c4",
   "metadata": {
    "deletable": false,
    "editable": false,
    "slideshow": {
     "slide_type": "skip"
    }
   },
   "source": [
    "Create a simple function with one argument and demonstrate using it."
   ]
  },
  {
   "cell_type": "code",
   "execution_count": null,
   "id": "fbbe35f7-f855-4209-9216-8479b87fee85",
   "metadata": {
    "slideshow": {
     "slide_type": "-"
    },
    "tags": []
   },
   "outputs": [],
   "source": [
    "..."
   ]
  },
  {
   "cell_type": "code",
   "execution_count": null,
   "id": "822b6eab-dea0-426e-bf69-6f19af6c3dc5",
   "metadata": {
    "slideshow": {
     "slide_type": "fragment"
    },
    "tags": []
   },
   "outputs": [],
   "source": [
    "..."
   ]
  },
  {
   "cell_type": "code",
   "execution_count": null,
   "id": "7f630e3b-88c3-4052-b07b-1b67ad8ed8b3",
   "metadata": {
    "slideshow": {
     "slide_type": "subslide"
    },
    "tags": []
   },
   "outputs": [],
   "source": [
    "num = ..."
   ]
  },
  {
   "cell_type": "code",
   "execution_count": null,
   "id": "138856d1-eeec-448c-bcdc-56713456f89e",
   "metadata": {
    "slideshow": {
     "slide_type": "fragment"
    },
    "tags": []
   },
   "outputs": [],
   "source": [
    "..."
   ]
  },
  {
   "cell_type": "code",
   "execution_count": null,
   "id": "a97f817b-0b4e-40b8-86c4-db7f690a7e2f",
   "metadata": {
    "slideshow": {
     "slide_type": "fragment"
    },
    "tags": []
   },
   "outputs": [],
   "source": [
    "..."
   ]
  },
  {
   "cell_type": "code",
   "execution_count": null,
   "id": "d5994f13-aa6c-4c6e-b8f8-4a8cdde67c0b",
   "metadata": {
    "slideshow": {
     "slide_type": "fragment"
    },
    "tags": []
   },
   "outputs": [],
   "source": [
    "..."
   ]
  },
  {
   "cell_type": "markdown",
   "id": "2d74b1ec-3e83-43ee-9e6e-7fb076428a7d",
   "metadata": {
    "slideshow": {
     "slide_type": "fragment"
    }
   },
   "source": [
    "---"
   ]
  },
  {
   "cell_type": "markdown",
   "id": "27e4d11c-0039-4ff0-9174-6030db4bd63d",
   "metadata": {
    "slideshow": {
     "slide_type": "subslide"
    }
   },
   "source": [
    "### Demo: Scope"
   ]
  },
  {
   "cell_type": "markdown",
   "id": "ab6eeb90-f66b-4e82-add8-bff8615e6bde",
   "metadata": {
    "deletable": false,
    "editable": false,
    "slideshow": {
     "slide_type": "skip"
    }
   },
   "source": [
    "Illustrate the concept of scope using functions."
   ]
  },
  {
   "cell_type": "code",
   "execution_count": null,
   "id": "2341fc93-ee3d-418c-9b72-60068f3d9dd2",
   "metadata": {
    "scrolled": true,
    "slideshow": {
     "slide_type": "fragment"
    },
    "tags": []
   },
   "outputs": [],
   "source": [
    "#A NameError when some_number is referenced outside of the function body\n",
    "..."
   ]
  },
  {
   "cell_type": "code",
   "execution_count": null,
   "id": "e2f1d8a4-5a75-42be-aab1-3c3c15d3595c",
   "metadata": {
    "slideshow": {
     "slide_type": "subslide"
    },
    "tags": []
   },
   "outputs": [],
   "source": [
    "some_number = ..."
   ]
  },
  {
   "cell_type": "code",
   "execution_count": null,
   "id": "45b9789d-8489-4dfc-bcb7-582e813afd42",
   "metadata": {
    "slideshow": {
     "slide_type": "fragment"
    },
    "tags": []
   },
   "outputs": [],
   "source": [
    "..."
   ]
  },
  {
   "cell_type": "code",
   "execution_count": null,
   "id": "cfeede38-f78b-4969-9f1b-f21588696a2b",
   "metadata": {
    "slideshow": {
     "slide_type": "fragment"
    },
    "tags": []
   },
   "outputs": [],
   "source": [
    "..."
   ]
  },
  {
   "cell_type": "code",
   "execution_count": null,
   "id": "435357e9-af0e-47d1-925d-eb037e56a43b",
   "metadata": {
    "slideshow": {
     "slide_type": "subslide"
    },
    "tags": []
   },
   "outputs": [],
   "source": [
    "..."
   ]
  },
  {
   "cell_type": "code",
   "execution_count": null,
   "id": "19909882-47b4-4fcd-89cd-23b7b1cc86eb",
   "metadata": {
    "slideshow": {
     "slide_type": "fragment"
    },
    "tags": []
   },
   "outputs": [],
   "source": [
    "#A NameError when new_variable is referenced outside of the function body\n",
    "..."
   ]
  },
  {
   "cell_type": "code",
   "execution_count": null,
   "id": "352e83f7-686e-4013-8a35-5bd9a3496cdd",
   "metadata": {
    "slideshow": {
     "slide_type": "subslide"
    },
    "tags": []
   },
   "outputs": [],
   "source": [
    "an_input = ...\n",
    "..."
   ]
  },
  {
   "cell_type": "code",
   "execution_count": null,
   "id": "cfb9fe3c-4c48-4739-b0f7-95fe66ae37f5",
   "metadata": {
    "slideshow": {
     "slide_type": "fragment"
    },
    "tags": []
   },
   "outputs": [],
   "source": [
    "#A NameError when new_variable is referenced outside of the function body\n",
    "..."
   ]
  },
  {
   "cell_type": "markdown",
   "id": "6faaa511-41be-4dfb-90c0-fad961bb383b",
   "metadata": {
    "slideshow": {
     "slide_type": "fragment"
    }
   },
   "source": [
    "---"
   ]
  },
  {
   "cell_type": "markdown",
   "id": "2ee98177-b921-4b38-a483-ab2143bd49cb",
   "metadata": {
    "slideshow": {
     "slide_type": "subslide"
    }
   },
   "source": [
    "### Demo: Type Agnostic"
   ]
  },
  {
   "cell_type": "markdown",
   "id": "6d66a1d2-a0af-4f12-a4f9-6667ad8b4dfc",
   "metadata": {
    "deletable": false,
    "editable": false,
    "slideshow": {
     "slide_type": "skip"
    }
   },
   "source": [
    "Show that Python functions are type agnostic."
   ]
  },
  {
   "cell_type": "code",
   "execution_count": null,
   "id": "13d02b6a-c856-40a9-9026-118fcedca2c5",
   "metadata": {
    "slideshow": {
     "slide_type": "fragment"
    },
    "tags": []
   },
   "outputs": [],
   "source": [
    "..."
   ]
  },
  {
   "cell_type": "code",
   "execution_count": null,
   "id": "5435145c-72f6-4bc4-9fce-a6a87718ec73",
   "metadata": {
    "slideshow": {
     "slide_type": "fragment"
    },
    "tags": []
   },
   "outputs": [],
   "source": [
    "..."
   ]
  },
  {
   "cell_type": "markdown",
   "id": "e17725c9-df4a-428d-b49b-ac490e69af3e",
   "metadata": {
    "slideshow": {
     "slide_type": "fragment"
    }
   },
   "source": [
    "---"
   ]
  },
  {
   "cell_type": "markdown",
   "id": "e214692c-1089-4e2b-a9fe-d10297a81f53",
   "metadata": {
    "slideshow": {
     "slide_type": "subslide"
    }
   },
   "source": [
    "### Demo: Multiple Arguments"
   ]
  },
  {
   "cell_type": "markdown",
   "id": "32655b8d-3bff-4ccc-9268-b9fa5e938bcf",
   "metadata": {
    "deletable": false,
    "editable": false,
    "slideshow": {
     "slide_type": "skip"
    }
   },
   "source": [
    "Create a function that calculates the Hypotenuse Length of a Right Triangle using:\n",
    "\n",
    "Pythagoras's Theorem: If $x$ and $y$ denote the lengths of the right-angle sides, then the hypotenuse length satisfies:"
   ]
  },
  {
   "cell_type": "markdown",
   "id": "c7da8774-dfda-4290-a562-9b25c545fc06",
   "metadata": {
    "deletable": false,
    "editable": false,
    "slideshow": {
     "slide_type": "-"
    }
   },
   "source": [
    "$ h^2 = x^2 + y^2 \\hspace{20 pt} \\iff \\hspace{20 pt} h = \\sqrt{ x^2 + y^2 } $"
   ]
  },
  {
   "cell_type": "code",
   "execution_count": null,
   "id": "27daaf77-e6b4-4bf6-8ff4-b2ff24fc4a4e",
   "metadata": {
    "slideshow": {
     "slide_type": "fragment"
    },
    "tags": []
   },
   "outputs": [],
   "source": [
    "..."
   ]
  },
  {
   "cell_type": "code",
   "execution_count": null,
   "id": "e144bc06-f2bb-430e-9cb0-d866e0051931",
   "metadata": {
    "slideshow": {
     "slide_type": "fragment"
    },
    "tags": []
   },
   "outputs": [],
   "source": [
    "..."
   ]
  },
  {
   "cell_type": "markdown",
   "id": "f2bc38e2-b9f2-4a7c-ac9b-c79302d96c33",
   "metadata": {
    "slideshow": {
     "slide_type": "fragment"
    }
   },
   "source": [
    "---"
   ]
  },
  {
   "cell_type": "markdown",
   "id": "98360ba3-857a-4d64-9ba8-0380b30a7f86",
   "metadata": {
    "slideshow": {
     "slide_type": "subslide"
    },
    "tags": []
   },
   "source": [
    "### Demo: No Arguments"
   ]
  },
  {
   "cell_type": "markdown",
   "id": "e88d9bfd-da8d-48e1-a969-4e4c0a7b3c51",
   "metadata": {
    "deletable": false,
    "editable": false,
    "slideshow": {
     "slide_type": "skip"
    }
   },
   "source": [
    "Create and use a function that has no arguments."
   ]
  },
  {
   "cell_type": "code",
   "execution_count": null,
   "id": "8c768d65-926d-43cc-bc4f-39557cc5b9d4",
   "metadata": {
    "slideshow": {
     "slide_type": "-"
    },
    "tags": []
   },
   "outputs": [],
   "source": [
    "..."
   ]
  },
  {
   "cell_type": "code",
   "execution_count": null,
   "id": "45b7ab7a-f668-498f-8638-77d6779eea60",
   "metadata": {
    "slideshow": {
     "slide_type": "fragment"
    },
    "tags": []
   },
   "outputs": [],
   "source": [
    "..."
   ]
  },
  {
   "cell_type": "code",
   "execution_count": null,
   "id": "990f4540-bd7a-4792-81b0-f15e0a8f2020",
   "metadata": {
    "slideshow": {
     "slide_type": "fragment"
    },
    "tags": []
   },
   "outputs": [],
   "source": [
    "# You need to use the () for the function call\n",
    "..."
   ]
  },
  {
   "cell_type": "markdown",
   "id": "8e493b98-b91f-4580-a5c1-ccb6d8d2bb76",
   "metadata": {
    "slideshow": {
     "slide_type": "fragment"
    }
   },
   "source": [
    "---"
   ]
  },
  {
   "cell_type": "markdown",
   "id": "e6eed59f-284c-430b-8e33-8c45c8ae5639",
   "metadata": {
    "slideshow": {
     "slide_type": "slide"
    }
   },
   "source": [
    "## Apply"
   ]
  },
  {
   "cell_type": "markdown",
   "id": "065348cc-dec5-4304-ade0-83ea8199e9d3",
   "metadata": {
    "slideshow": {
     "slide_type": "fragment"
    }
   },
   "source": [
    "---"
   ]
  },
  {
   "cell_type": "markdown",
   "id": "87b859f3-0074-4dd5-a3e7-974f3184ff7e",
   "metadata": {
    "slideshow": {
     "slide_type": "subslide"
    }
   },
   "source": [
    "### Apply"
   ]
  },
  {
   "cell_type": "markdown",
   "id": "83640f4f-659a-47b8-b240-209062e177fc",
   "metadata": {
    "slideshow": {
     "slide_type": "-"
    }
   },
   "source": [
    "* The apply method creates an array by calling a function on every element in input column(s)\n",
    "    * First argument: The function to apply\n",
    "    * Other arguments: The input column(s)\n",
    "* Produces an array containing the output of the function on each input column element.\n",
    "* Example application: `table_name.apply(function_name, 'column_label')`\n"
   ]
  },
  {
   "cell_type": "markdown",
   "id": "c05b8190-929f-47c3-b15c-3d57f332464d",
   "metadata": {
    "slideshow": {
     "slide_type": "fragment"
    }
   },
   "source": [
    "---"
   ]
  },
  {
   "cell_type": "markdown",
   "id": "dc236879-bd5c-4c9b-b8bb-132ed0e9c6b2",
   "metadata": {
    "slideshow": {
     "slide_type": "subslide"
    }
   },
   "source": [
    "### Demo: Apply"
   ]
  },
  {
   "cell_type": "markdown",
   "id": "d74d05a4-324b-41f8-8f10-eb97c4befdc1",
   "metadata": {
    "deletable": false,
    "editable": false,
    "slideshow": {
     "slide_type": "skip"
    }
   },
   "source": [
    "Show how to apply a function to a table."
   ]
  },
  {
   "cell_type": "code",
   "execution_count": null,
   "id": "3c0eaca2-e66f-40f1-a66a-d57b16156e21",
   "metadata": {
    "slideshow": {
     "slide_type": "-"
    },
    "tags": []
   },
   "outputs": [],
   "source": [
    "charge_table = Table().with_columns(\n",
    "    'Item Number', np.arange(1, 5),\n",
    "    'Charge', make_array('$4.30', '$120.21', '$10.50', '$325.51')\n",
    ")\n",
    "charge_table"
   ]
  },
  {
   "cell_type": "code",
   "execution_count": null,
   "id": "89bb77c1-9e7c-492d-a74b-892c239e3878",
   "metadata": {
    "slideshow": {
     "slide_type": "subslide"
    },
    "tags": []
   },
   "outputs": [],
   "source": [
    "# The data type of the charges is causing an error\n",
    "..."
   ]
  },
  {
   "cell_type": "code",
   "execution_count": null,
   "id": "49e0cd22-7bbb-4fa2-baad-056d37004009",
   "metadata": {
    "slideshow": {
     "slide_type": "subslide"
    },
    "tags": []
   },
   "outputs": [],
   "source": [
    "..."
   ]
  },
  {
   "cell_type": "code",
   "execution_count": null,
   "id": "74634b71-6114-4412-9fc7-bd4795d1f083",
   "metadata": {
    "slideshow": {
     "slide_type": "subslide"
    },
    "tags": []
   },
   "outputs": [],
   "source": [
    "..."
   ]
  },
  {
   "cell_type": "code",
   "execution_count": null,
   "id": "63f4eef3-ecb9-4830-93c4-db782580edea",
   "metadata": {
    "slideshow": {
     "slide_type": "fragment"
    },
    "tags": []
   },
   "outputs": [],
   "source": [
    "..."
   ]
  },
  {
   "cell_type": "markdown",
   "id": "1416ef40-cb3b-4905-8fd6-e94d7b994d47",
   "metadata": {
    "slideshow": {
     "slide_type": "fragment"
    }
   },
   "source": [
    "---"
   ]
  },
  {
   "cell_type": "markdown",
   "id": "0b15e874-7ca9-44f9-a0c2-44300d38b7ca",
   "metadata": {
    "deletable": false,
    "editable": false,
    "slideshow": {
     "slide_type": "skip"
    }
   },
   "source": [
    "Use the `apply` method with a function with multiple arguments."
   ]
  },
  {
   "cell_type": "code",
   "execution_count": null,
   "id": "7bb4865a-0ce9-4b4f-9d9a-ae749b70aeac",
   "metadata": {
    "slideshow": {
     "slide_type": "subslide"
    },
    "tags": []
   },
   "outputs": [],
   "source": [
    "triangle_info = Table().with_columns(\n",
    "    'x', make_array(15, 7, 5, 21),\n",
    "    'y', make_array(1, 0, 2, 32)\n",
    ")\n",
    "triangle_info"
   ]
  },
  {
   "cell_type": "code",
   "execution_count": null,
   "id": "b649ae66-57ca-4369-b8eb-e7b94b0ecd5c",
   "metadata": {
    "slideshow": {
     "slide_type": "subslide"
    },
    "tags": []
   },
   "outputs": [],
   "source": [
    "hypotenuses = ...\n",
    "..."
   ]
  },
  {
   "cell_type": "markdown",
   "id": "f494e145-70a7-4b23-894d-3519e72c9670",
   "metadata": {
    "slideshow": {
     "slide_type": "fragment"
    }
   },
   "source": [
    "---"
   ]
  },
  {
   "cell_type": "markdown",
   "id": "c0119602-2105-4af3-852d-967dbb118a16",
   "metadata": {
    "slideshow": {
     "slide_type": "notes"
    }
   },
   "source": [
    "<footer>\n",
    "    <p>Adopted from UC Berkeley DATA 8 course materials.</p>\n",
    "    <p>This content is offered under a <a href=\"https://creativecommons.org/licenses/by-nc-sa/4.0/\">CC Attribution Non-Commercial Share Alike</a> license.</p>\n",
    "</footer>"
   ]
  }
 ],
 "metadata": {
  "kernelspec": {
   "display_name": "Python 3 (ipykernel)",
   "language": "python",
   "name": "python3"
  },
  "language_info": {
   "codemirror_mode": {
    "name": "ipython",
    "version": 3
   },
   "file_extension": ".py",
   "mimetype": "text/x-python",
   "name": "python",
   "nbconvert_exporter": "python",
   "pygments_lexer": "ipython3",
   "version": "3.10.12"
  },
  "otter": {
   "OK_FORMAT": true,
   "tests": {}
  }
 },
 "nbformat": 4,
 "nbformat_minor": 5
}
