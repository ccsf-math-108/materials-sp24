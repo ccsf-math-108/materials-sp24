{
 "cells": [
  {
   "cell_type": "markdown",
   "id": "9e6be0b1-04c6-492c-89e6-a78a8b8eb6da",
   "metadata": {
    "editable": true,
    "slideshow": {
     "slide_type": ""
    },
    "tags": []
   },
   "source": [
    "<div style=\"width: 38.5%;\">\n",
    "    <p><strong>City College of San Francisco</strong><p>\n",
    "    <hr>\n",
    "    <p>MATH 108 - Foundations of Data Science</p>\n",
    "</div>"
   ]
  },
  {
   "cell_type": "markdown",
   "id": "89b33451-9601-4387-9786-c7dddc8f3d98",
   "metadata": {
    "slideshow": {
     "slide_type": "-"
    }
   },
   "source": [
    "# Lecture 34: Regression Inference"
   ]
  },
  {
   "cell_type": "markdown",
   "id": "cc55a1c6-0f8e-4f0f-8568-c2c020574035",
   "metadata": {},
   "source": [
    "Associated Textbook Sections: [16.0 - 16.3](https://inferentialthinking.com/chapters/16/Inference_for_Regression.html)"
   ]
  },
  {
   "cell_type": "markdown",
   "id": "c490c123-88ae-4b11-abfc-23d8984d2489",
   "metadata": {
    "slideshow": {
     "slide_type": "fragment"
    }
   },
   "source": [
    "---"
   ]
  },
  {
   "cell_type": "markdown",
   "id": "e6ab33f8-e291-4fd7-9c27-ac42d375f7ad",
   "metadata": {
    "slideshow": {
     "slide_type": "slide"
    }
   },
   "source": [
    "## Outline"
   ]
  },
  {
   "cell_type": "markdown",
   "id": "6c9d4c6f-3aea-42c1-b12f-aa08af19c83a",
   "metadata": {
    "tags": []
   },
   "source": [
    "* [Regression Model](#Regression-Model)\n",
    "* [Prediction Variability](#Prediction-Variability)\n",
    "* [The True Slope](#The-True-Slope)"
   ]
  },
  {
   "cell_type": "markdown",
   "id": "09f79f38-867a-43fa-aac4-032e06fb5a11",
   "metadata": {
    "slideshow": {
     "slide_type": "fragment"
    }
   },
   "source": [
    "---"
   ]
  },
  {
   "cell_type": "markdown",
   "id": "71977e0a-4c1f-4c8a-be7c-55d68cd2c641",
   "metadata": {
    "slideshow": {
     "slide_type": "slide"
    }
   },
   "source": [
    "## Set Up the Notebook"
   ]
  },
  {
   "cell_type": "code",
   "execution_count": null,
   "id": "c3707069-6d0a-47f6-b46c-5bae2330871c",
   "metadata": {
    "slideshow": {
     "slide_type": "-"
    }
   },
   "outputs": [],
   "source": [
    "from datascience import *\n",
    "import numpy as np\n",
    "%matplotlib inline\n",
    "import matplotlib.pyplot as plt\n",
    "plt.style.use('fivethirtyeight')\n",
    "\n",
    "def draw_and_compare(true_slope, true_int, sample_size):\n",
    "    x = np.random.normal(50, 5, sample_size)\n",
    "    xlims = np.array([np.min(x), np.max(x)])\n",
    "    errors = np.random.normal(0, 6, sample_size)\n",
    "    y = (true_slope * x + true_int) + errors\n",
    "    sample = Table().with_columns('x', x, 'y', y)\n",
    "\n",
    "    sample.scatter('x', 'y')\n",
    "    plt.plot(xlims, true_slope*xlims + true_int, lw=2, color='green')\n",
    "    plt.title('True Line, and Points Created')\n",
    "\n",
    "    sample.scatter('x', 'y')\n",
    "    plt.title('What We Get to See')\n",
    "\n",
    "    sample.scatter('x', 'y', fit_line=True)\n",
    "    plt.title('Regression Line: Estimate of True Line')\n",
    "\n",
    "    sample.scatter('x', 'y', fit_line=True)\n",
    "    plt.plot(xlims, true_slope*xlims + true_int, lw=2, color='green')\n",
    "    plt.title(\"Regression Line and True Line\")\n",
    "    \n",
    "def standard_units(arr):\n",
    "    return (arr - np.average(arr))/np.std(arr)\n",
    "\n",
    "def correlation(t, x, y):\n",
    "    x_standard = standard_units(t.column(x))\n",
    "    y_standard = standard_units(t.column(y))\n",
    "    return np.average(x_standard * y_standard)\n",
    "\n",
    "def slope(t, x, y):\n",
    "    r = correlation(t, x, y)\n",
    "    y_sd = np.std(t.column(y))\n",
    "    x_sd = np.std(t.column(x))\n",
    "    return r * y_sd / x_sd\n",
    "\n",
    "def intercept(t, x, y):\n",
    "    x_mean = np.mean(t.column(x))\n",
    "    y_mean = np.mean(t.column(y))\n",
    "    return y_mean - slope(t, x, y)*x_mean\n",
    "\n",
    "def fitted_values(t, x, y):\n",
    "    \"\"\"Return an array of the regression estimates at all the x values\"\"\"\n",
    "    a = slope(t, x, y)\n",
    "    b = intercept(t, x, y)\n",
    "    return a*t.column(x) + b\n",
    "\n",
    "def residuals(t, x, y):\n",
    "    predictions = fitted_values(t, x, y)\n",
    "    return t.column(y) - predictions\n",
    "\n",
    "def add_regression_to_table(t, x, y):\n",
    "    \"\"\" Returns a new table with 'Fitted value' and 'Residual' columns added \"\"\"\n",
    "    t_with_extra_cols = t.with_columns(\n",
    "        'Fitted value', fitted_values(t, x, y),\n",
    "        'Residual', residuals(t, x, y)\n",
    "    )\n",
    "    return t_with_extra_cols"
   ]
  },
  {
   "cell_type": "markdown",
   "id": "7f46c8be-5d4c-419f-984d-dd6b9cced6e7",
   "metadata": {
    "slideshow": {
     "slide_type": "fragment"
    }
   },
   "source": [
    "---"
   ]
  },
  {
   "cell_type": "markdown",
   "id": "ca827db0-f991-45f5-b168-85694b448f42",
   "metadata": {
    "slideshow": {
     "slide_type": "slide"
    }
   },
   "source": [
    "## Regression Model"
   ]
  },
  {
   "cell_type": "markdown",
   "id": "d6038129-9de9-4c4f-89b2-269bd88a47e7",
   "metadata": {
    "slideshow": {
     "slide_type": "fragment"
    }
   },
   "source": [
    "---"
   ]
  },
  {
   "cell_type": "markdown",
   "id": "3a7fd9a4-37fc-4ce1-adc9-9066b160424b",
   "metadata": {
    "slideshow": {
     "slide_type": "subslide"
    },
    "tags": []
   },
   "source": [
    "### A \"Model\": Signal + Noise"
   ]
  },
  {
   "cell_type": "markdown",
   "id": "f743d245-bdb3-4080-a447-6a5de2fe8fbe",
   "metadata": {
    "slideshow": {
     "slide_type": "-"
    }
   },
   "source": [
    "<img src=\"./signal_noise.png\" width=80%>"
   ]
  },
  {
   "cell_type": "markdown",
   "id": "19abdc50-1410-4e5b-b7d4-ed9c2d86c651",
   "metadata": {
    "slideshow": {
     "slide_type": "fragment"
    }
   },
   "source": [
    "---"
   ]
  },
  {
   "cell_type": "markdown",
   "id": "29c26e85-85e5-40e7-9d4a-d0f469f9049d",
   "metadata": {
    "slideshow": {
     "slide_type": "subslide"
    },
    "tags": []
   },
   "source": [
    "### What We Get To See"
   ]
  },
  {
   "cell_type": "markdown",
   "id": "b010ca84-3e9e-45d9-8a40-1893dee14f0c",
   "metadata": {
    "slideshow": {
     "slide_type": "-"
    }
   },
   "source": [
    "<img src=\"./what_we_see.png\" width=50%>"
   ]
  },
  {
   "cell_type": "markdown",
   "id": "05355215-aca4-4e34-b954-1bb522524ce2",
   "metadata": {
    "slideshow": {
     "slide_type": "fragment"
    }
   },
   "source": [
    "---"
   ]
  },
  {
   "cell_type": "markdown",
   "id": "0cf35111-6a97-4325-90ab-8310a70b3e41",
   "metadata": {
    "slideshow": {
     "slide_type": "subslide"
    },
    "tags": []
   },
   "source": [
    "### Demo: Regression Model"
   ]
  },
  {
   "cell_type": "markdown",
   "id": "44259cfe-a927-4974-adad-db5c43644456",
   "metadata": {
    "slideshow": {
     "slide_type": "notes"
    },
    "tags": []
   },
   "source": [
    "Explore a few examples showing the true line, the points created, and the line produced from the sample."
   ]
  },
  {
   "cell_type": "code",
   "execution_count": null,
   "id": "75899f18-a336-43e2-83b5-b00c80fe4332",
   "metadata": {},
   "outputs": [],
   "source": [
    "draw_and_compare(2, -5, 10)"
   ]
  },
  {
   "cell_type": "code",
   "execution_count": null,
   "id": "fcdb9c6f-e9ca-4f35-9fd4-734ab8827712",
   "metadata": {},
   "outputs": [],
   "source": [
    "draw_and_compare(2, -5, 100)"
   ]
  },
  {
   "cell_type": "markdown",
   "id": "16e903da-f811-46c5-8d52-25feb4dae2c7",
   "metadata": {
    "slideshow": {
     "slide_type": "fragment"
    },
    "tags": []
   },
   "source": [
    "---"
   ]
  },
  {
   "cell_type": "markdown",
   "id": "fab421dc-70b6-41ba-ae86-7987b4bc0de4",
   "metadata": {
    "slideshow": {
     "slide_type": "slide"
    }
   },
   "source": [
    "## Prediction Variability"
   ]
  },
  {
   "cell_type": "markdown",
   "id": "7e3c0990-c316-4ea3-8256-3acaf92b79fb",
   "metadata": {
    "slideshow": {
     "slide_type": "fragment"
    }
   },
   "source": [
    "---"
   ]
  },
  {
   "cell_type": "markdown",
   "id": "f27a94d4-f836-44c0-9875-6d50ff47c8f8",
   "metadata": {
    "slideshow": {
     "slide_type": "subslide"
    },
    "tags": []
   },
   "source": [
    "### Regression Prediction"
   ]
  },
  {
   "cell_type": "markdown",
   "id": "afe13104-2e06-482f-a09a-70a7a8852279",
   "metadata": {
    "slideshow": {
     "slide_type": "-"
    }
   },
   "source": [
    "If the data come from the regression model:\n",
    "* The \"true value\" of the response $y$ at a given value of $x$ is the height of the true line at $x$\n",
    "* We can't see the true line, so we have to estimate this height\n",
    "* The regression line is most likely close to the true line\n",
    "* Given a new value of $x$, predict $y$ by finding the point on the regression line at that $x$."
   ]
  },
  {
   "cell_type": "markdown",
   "id": "e0d21a3b-0808-491d-89d5-82ce02254720",
   "metadata": {
    "slideshow": {
     "slide_type": "fragment"
    }
   },
   "source": [
    "---"
   ]
  },
  {
   "cell_type": "markdown",
   "id": "db8aacec-46d3-40d1-bb90-e83664901936",
   "metadata": {
    "slideshow": {
     "slide_type": "subslide"
    },
    "tags": []
   },
   "source": [
    "### Demo: Prediction"
   ]
  },
  {
   "cell_type": "markdown",
   "id": "cf32ef09-9f3a-4ed5-bdc5-14141db5826b",
   "metadata": {
    "deletable": false,
    "editable": false
   },
   "source": [
    "Explore the variability in the linear regression prediction of `Birth Weight` based on `Gestational Days` using the `baby.csv` dataset."
   ]
  },
  {
   "cell_type": "code",
   "execution_count": null,
   "id": "f64d7d31-1abd-4b7f-a8eb-fac89c56a990",
   "metadata": {
    "tags": []
   },
   "outputs": [],
   "source": [
    "births = Table.read_table('baby.csv')\n",
    "births.show(3)"
   ]
  },
  {
   "cell_type": "code",
   "execution_count": null,
   "id": "7d83e820-f8d7-45c8-a596-e152742429c1",
   "metadata": {
    "tags": []
   },
   "outputs": [],
   "source": [
    "births.scatter('Gestational Days', 'Birth Weight')"
   ]
  },
  {
   "cell_type": "code",
   "execution_count": null,
   "id": "88a584a2-e6f4-4537-89e6-f72ff1ef4d5f",
   "metadata": {
    "tags": []
   },
   "outputs": [],
   "source": [
    "# Define data in the top or bottom 2.5 percentile as outliers\n",
    "percentile_2_5 = percentile(2.5, births.column('Gestational Days'))\n",
    "percentile_97_5 = percentile(97.5, births.column('Gestational Days'))\n",
    "print(f'The middle 95% of the gestational days are \\\n",
    "between {percentile_2_5} days and {percentile_97_5} days.')"
   ]
  },
  {
   "cell_type": "code",
   "execution_count": null,
   "id": "96e0ba5b-4136-4b55-b085-018385a8a609",
   "metadata": {
    "tags": []
   },
   "outputs": [],
   "source": [
    "births = ..."
   ]
  },
  {
   "cell_type": "code",
   "execution_count": null,
   "id": "7c03a4f4-7102-4c03-b9fa-39964105addc",
   "metadata": {
    "tags": []
   },
   "outputs": [],
   "source": [
    "..."
   ]
  },
  {
   "cell_type": "code",
   "execution_count": null,
   "id": "42253266-1172-4dd9-997e-f52ce738ade0",
   "metadata": {
    "tags": []
   },
   "outputs": [],
   "source": [
    "def prediction_at(t, x, y, x_value):\n",
    "    '''\n",
    "    t - table\n",
    "    x - label of x column\n",
    "    y - label of y column\n",
    "    x_value - the x value for which we want to predict y\n",
    "    '''\n",
    "    return slope(t, x, y) * x_value + intercept(t, x, y)"
   ]
  },
  {
   "cell_type": "code",
   "execution_count": null,
   "id": "f1e89587-7b61-4de1-8824-d9ed01fe6e5a",
   "metadata": {
    "tags": []
   },
   "outputs": [],
   "source": [
    "prediction_at_300 = ...\n",
    "prediction_at_300"
   ]
  },
  {
   "cell_type": "code",
   "execution_count": null,
   "id": "ca37394a-f822-4e3c-90b9-01c3c143c383",
   "metadata": {
    "tags": []
   },
   "outputs": [],
   "source": [
    "x = 300\n",
    "births.scatter('Gestational Days', 'Birth Weight', fit_line=True)\n",
    "plt.plot([x, x], [40, prediction_at_300], color='gold', lw=2);"
   ]
  },
  {
   "cell_type": "markdown",
   "id": "8d6bf953-0a7e-46d7-9dfd-24f33fce0d5e",
   "metadata": {
    "slideshow": {
     "slide_type": "fragment"
    }
   },
   "source": [
    "---"
   ]
  },
  {
   "cell_type": "markdown",
   "id": "03af683c-33d2-4aa5-8657-59f81a914a03",
   "metadata": {
    "slideshow": {
     "slide_type": "subslide"
    },
    "tags": []
   },
   "source": [
    "### Confidence Interval for Prediction"
   ]
  },
  {
   "cell_type": "markdown",
   "id": "d9319983-7384-45a1-a27d-47ff948eb3ad",
   "metadata": {
    "slideshow": {
     "slide_type": "-"
    }
   },
   "source": [
    "* Bootstrap the scatter plot\n",
    "* Get a prediction for y using the regression line that goes through the resampled plot\n",
    "* Repeat the two steps above many times\n",
    "* Draw the empirical histogram of all the predictions.\n",
    "* Get the \"middle 95%\" interval.\n",
    "* That's an approximate 95% confidence interval for the height of the true line at y."
   ]
  },
  {
   "cell_type": "code",
   "execution_count": null,
   "id": "fef0e454-eb39-4913-9ddb-da7f3a21b382",
   "metadata": {},
   "outputs": [],
   "source": [
    "plt.figure(figsize=(6, 20))\n",
    "plt.subplot(5, 1, 1)\n",
    "plt.scatter(births[1], births[0], s=10)\n",
    "plt.xlim([200, 340])\n",
    "plt.title('Original sample')\n",
    "\n",
    "for i in np.arange(1, 5, 1):\n",
    "    plt.subplot(5,1,i+1)\n",
    "    rep = births.sample()\n",
    "    plt.scatter(rep[1], rep[0], s=10)\n",
    "    plt.xlim([200, 340])\n",
    "    plt.title('Bootstrap sample '+str(i))"
   ]
  },
  {
   "cell_type": "code",
   "execution_count": null,
   "id": "5bdeaa4b-3a13-4cdc-9e3d-aff0292a0304",
   "metadata": {},
   "outputs": [],
   "source": [
    "for i in np.arange(4):\n",
    "    resample = births.sample()\n",
    "    predicted_y = prediction_at(resample, 'Gestational Days', 'Birth Weight', 300)\n",
    "    print('Predicted y from bootstramp sample was', predicted_y)\n",
    "    resample.scatter('Gestational Days', 'Birth Weight', fit_line=True)\n",
    "    plt.scatter(300, predicted_y, color='gold', s=50, zorder=3);\n",
    "    plt.plot([x, x], [40, predicted_y], color='gold', lw=2);\n",
    "    plt.plot([200, x], [predicted_y, predicted_y], color='gold', lw=2);"
   ]
  },
  {
   "cell_type": "markdown",
   "id": "c47cd5cd-6f45-4063-b498-96ff4ec64f13",
   "metadata": {},
   "source": [
    "---"
   ]
  },
  {
   "cell_type": "markdown",
   "id": "9cdd4fdd-f4f5-4093-a9d4-b77fc41b42cf",
   "metadata": {},
   "source": [
    "Observe the variation in the regression lines made from each sample."
   ]
  },
  {
   "cell_type": "code",
   "execution_count": null,
   "id": "b869e559-535b-445d-a13b-4e0b1247dd36",
   "metadata": {},
   "outputs": [],
   "source": [
    "lines = Table(['slope','intercept', 'at 210', 'at 300', 'at 320'])\n",
    "\n",
    "for i in range(10):\n",
    "    resample = births.sample()\n",
    "    a = slope(resample, 'Gestational Days', 'Birth Weight')\n",
    "    b = intercept(resample, 'Gestational Days', 'Birth Weight')\n",
    "    lines.append([a, b, a * 210 + b, a * 300 + b, a * 320 + b])\n",
    "\n",
    "for i in np.arange(lines.num_rows):\n",
    "    line = lines.row(i)\n",
    "    plt.plot([210, 320], [line.item('at 210'), line.item('at 320')], lw=1)\n",
    "    plt.scatter(300, line.item('at 300'), s=30, zorder=3)"
   ]
  },
  {
   "cell_type": "code",
   "execution_count": null,
   "id": "98d0a221-4e1a-44e8-a144-325e175672d9",
   "metadata": {},
   "outputs": [],
   "source": [
    "lines = Table(['slope','intercept', 'at 291', 'at 300', 'at 309'])\n",
    "\n",
    "for i in range(10):\n",
    "    resample = births.sample()\n",
    "    a = slope(resample, 'Gestational Days', 'Birth Weight')\n",
    "    b = intercept(resample, 'Gestational Days', 'Birth Weight')\n",
    "    lines.append([a, b, a * 291 + b, a * 300 + b, a * 309 + b])\n",
    "\n",
    "for i in np.arange(lines.num_rows):\n",
    "    line = lines.row(i)\n",
    "    plt.plot([291, 309], [line.item('at 291'), line.item('at 309')], lw=1)\n",
    "    plt.scatter(300, line.item('at 300'), s=30, zorder=3)"
   ]
  },
  {
   "cell_type": "markdown",
   "id": "746f61cb-ce66-4d4e-aa55-adc205492530",
   "metadata": {
    "slideshow": {
     "slide_type": "fragment"
    }
   },
   "source": [
    "---"
   ]
  },
  {
   "cell_type": "markdown",
   "id": "6c2f820f-4e46-4e6d-955c-c74f0c837bb8",
   "metadata": {
    "slideshow": {
     "slide_type": "subslide"
    },
    "tags": []
   },
   "source": [
    "### Demo: Confidence Interval for Prediction"
   ]
  },
  {
   "cell_type": "markdown",
   "id": "8cd61f84-dc0e-4716-90f0-60005f402202",
   "metadata": {
    "deletable": false,
    "editable": false
   },
   "source": [
    "Construct a confidence interval for the height of the true line."
   ]
  },
  {
   "cell_type": "code",
   "execution_count": null,
   "id": "23f1eeb4-9793-4211-b39b-7e7d35c895ab",
   "metadata": {
    "tags": []
   },
   "outputs": [],
   "source": [
    "def bootstrap_prediction(t, x, y, new_x, repetitions=1000):\n",
    "\n",
    "    # Bootstrap the scatter, predict, collect\n",
    "    predictions = make_array()\n",
    "    for i in np.arange(repetitions):\n",
    "        resample = t.sample()\n",
    "        predicted_y = ...\n",
    "        predictions = ...\n",
    "\n",
    "    # Find the ends of the approximate 95% prediction interval\n",
    "    left = ...\n",
    "    right = ...\n",
    "\n",
    "    # Display results\n",
    "    Table().with_column('Prediction', predictions).hist(bins=20)\n",
    "    plt.xlabel('predictions at x='+str(new_x))\n",
    "    plt.plot([left, right], [0, 0], color='yellow', lw=8);\n",
    "    print('Approximate 95%-confidence interval for height of true line:')\n",
    "    print(left, right, '(width =', right - left, ')') "
   ]
  },
  {
   "cell_type": "code",
   "execution_count": null,
   "id": "5b73e63b-e901-4b8c-b878-ad96036df729",
   "metadata": {
    "scrolled": true,
    "tags": []
   },
   "outputs": [],
   "source": [
    "bootstrap_prediction(births, 'Gestational Days', 'Birth Weight', 300)"
   ]
  },
  {
   "cell_type": "markdown",
   "id": "61d75bab-51f4-4bfc-ba4e-7260f69ae675",
   "metadata": {
    "slideshow": {
     "slide_type": "fragment"
    }
   },
   "source": [
    "---"
   ]
  },
  {
   "cell_type": "markdown",
   "id": "05e9088c-2f86-4b7d-b15c-329dec99a312",
   "metadata": {
    "slideshow": {
     "slide_type": "subslide"
    },
    "tags": []
   },
   "source": [
    "### Predictions at Different Values of $x$"
   ]
  },
  {
   "cell_type": "markdown",
   "id": "ee9f6d2f-ef50-45f2-900c-bb62fd281484",
   "metadata": {
    "slideshow": {
     "slide_type": "-"
    }
   },
   "source": [
    "* Since $y$ is correlated with $x$, the predicted values of $y$ depend on the value of $x$.\n",
    "* The width of the prediction's CI also depends on $x$.\n",
    "* Typically, intervals are wider for values of $x$ that are further away from the mean of $x$."
   ]
  },
  {
   "cell_type": "markdown",
   "id": "33314cd6-d4ca-4bb0-b44d-d8fc3dd1f982",
   "metadata": {
    "slideshow": {
     "slide_type": "fragment"
    }
   },
   "source": [
    "---"
   ]
  },
  {
   "cell_type": "markdown",
   "id": "11d82c7c-10b0-4751-a422-e3dd3b01ce37",
   "metadata": {
    "slideshow": {
     "slide_type": "subslide"
    },
    "tags": []
   },
   "source": [
    "### Demo: Predictions at Different Values of $x$"
   ]
  },
  {
   "cell_type": "markdown",
   "id": "c0e300c7-c933-4002-a938-f453084e0f22",
   "metadata": {},
   "source": [
    "Explore predictions made for different values of $x$."
   ]
  },
  {
   "cell_type": "code",
   "execution_count": null,
   "id": "ec7c45df-571d-481e-9b86-56f71e8f1a11",
   "metadata": {},
   "outputs": [],
   "source": [
    "x = 300\n",
    "births.scatter('Gestational Days', 'Birth Weight', fit_line=True)\n",
    "plt.plot([x, x], [40, prediction_at_300], color='gold', lw=2);"
   ]
  },
  {
   "cell_type": "code",
   "execution_count": null,
   "id": "59ab2d3b-6480-4b1b-bfb6-6c1c4f64a123",
   "metadata": {},
   "outputs": [],
   "source": [
    "bootstrap_prediction(births, 'Gestational Days', 'Birth Weight', 210)"
   ]
  },
  {
   "cell_type": "code",
   "execution_count": null,
   "id": "f4142615-18ba-4963-855f-5ba47e0bd365",
   "metadata": {},
   "outputs": [],
   "source": [
    "bootstrap_prediction(births, 'Gestational Days', 'Birth Weight', 280)"
   ]
  },
  {
   "cell_type": "code",
   "execution_count": null,
   "id": "cc91fe18-46cb-4022-a187-944ee8c2436c",
   "metadata": {},
   "outputs": [],
   "source": [
    "np.mean(births.column('Gestational Days'))"
   ]
  },
  {
   "cell_type": "code",
   "execution_count": null,
   "id": "89618a65-af82-4c6d-a53f-c969dca5fa79",
   "metadata": {},
   "outputs": [],
   "source": [
    "lines = Table(['slope','intercept', 'at 210', 'at 300', 'at 320'])\n",
    "\n",
    "for i in range(10):\n",
    "    resample = births.sample()\n",
    "    a = slope(resample, 'Gestational Days', 'Birth Weight')\n",
    "    b = intercept(resample, 'Gestational Days', 'Birth Weight')\n",
    "    lines.append([a, b, a * 210 + b, a * 300 + b, a * 320 + b])\n",
    "\n",
    "for i in np.arange(lines.num_rows):\n",
    "    line = lines.row(i)\n",
    "    plt.plot([210, 320], [line.item('at 210'), line.item('at 320')], lw=1)\n",
    "    plt.scatter(300, line.item('at 300'), s=30, zorder=3)"
   ]
  },
  {
   "cell_type": "markdown",
   "id": "4f0c178b-ab6c-40b8-8bc8-3bde03d76600",
   "metadata": {
    "slideshow": {
     "slide_type": "fragment"
    },
    "tags": []
   },
   "source": [
    "---"
   ]
  },
  {
   "cell_type": "markdown",
   "id": "5e560ce0-94ed-428f-b62f-ea7d00a5af6c",
   "metadata": {
    "slideshow": {
     "slide_type": "slide"
    }
   },
   "source": [
    "## The True Slope"
   ]
  },
  {
   "cell_type": "markdown",
   "id": "e0bb57b1-d771-4d1d-b1be-98eb2b1f8a7a",
   "metadata": {
    "slideshow": {
     "slide_type": "fragment"
    }
   },
   "source": [
    "---"
   ]
  },
  {
   "cell_type": "markdown",
   "id": "d56a5329-d0df-4e38-92e2-f95ee509f6c3",
   "metadata": {
    "slideshow": {
     "slide_type": "subslide"
    },
    "tags": []
   },
   "source": [
    "### Confidence Interval for True Slope"
   ]
  },
  {
   "cell_type": "markdown",
   "id": "01e73715-7aff-4df4-9017-fce01018ad49",
   "metadata": {
    "slideshow": {
     "slide_type": "-"
    }
   },
   "source": [
    "* Bootstrap the scatter plot.\n",
    "* Find the slope of the regression line through the bootstrapped plot.\n",
    "* Repeat.\n",
    "* Draw the empirical histogram of all the generated slopes.\n",
    "* Get the \"middle 95%\" interval.\n",
    "* That's an approximate 95% confidence interval for the slope of the true line.\n"
   ]
  },
  {
   "cell_type": "markdown",
   "id": "aadeb2a7-78e1-46c9-af42-f72d57ae3fc1",
   "metadata": {
    "slideshow": {
     "slide_type": "fragment"
    }
   },
   "source": [
    "---"
   ]
  },
  {
   "cell_type": "markdown",
   "id": "94c7d9c5-0e83-43f0-b325-976ffc177e64",
   "metadata": {
    "slideshow": {
     "slide_type": "subslide"
    },
    "tags": []
   },
   "source": [
    "### Demo: Inference for the Slope"
   ]
  },
  {
   "cell_type": "markdown",
   "id": "ab7663a6-417f-4d3b-812b-c10751bea4c0",
   "metadata": {
    "deletable": false,
    "editable": false
   },
   "source": [
    "Provide a 95\\% confidence interval for the slope of the true regression line relating Gestational Days and Birth Weight."
   ]
  },
  {
   "cell_type": "code",
   "execution_count": null,
   "id": "42e43faf-2573-4c04-b20a-e23a2020141e",
   "metadata": {
    "tags": []
   },
   "outputs": [],
   "source": [
    "..."
   ]
  },
  {
   "cell_type": "code",
   "execution_count": null,
   "id": "ecc361b0-6e83-4cf6-b867-7181dc66339f",
   "metadata": {
    "tags": []
   },
   "outputs": [],
   "source": [
    "..."
   ]
  },
  {
   "cell_type": "code",
   "execution_count": null,
   "id": "9d04367f-bd54-4d6d-bdc0-b9efbdee4fa8",
   "metadata": {
    "tags": []
   },
   "outputs": [],
   "source": [
    "def bootstrap_slope(t, x, y, repetitions=5000):\n",
    "    \n",
    "    # Bootstrap the scatter, find the slope, collect\n",
    "    slopes = make_array()\n",
    "    for i in np.arange(repetitions):\n",
    "        bootstrap_sample = ...\n",
    "        bootstrap_slope = ...\n",
    "        slopes = np.append(slopes, bootstrap_slope)\n",
    "    \n",
    "    # Find the endpoints of the 95% confidence interval for the true slope\n",
    "    left = ...\n",
    "    right = ...\n",
    "    \n",
    "    # Slope of the regression line from the original sample\n",
    "    observed_slope = slope(t, x, y)\n",
    "    \n",
    "    # Display results\n",
    "    Table().with_column('Bootstrap Slopes', slopes).hist(bins=20)\n",
    "    plt.plot(make_array(left, right), make_array(0, 0), color='yellow', lw=8);\n",
    "    print('Slope of regression line:', observed_slope)\n",
    "    print('Approximate 95%-confidence interval for the slope of the true line:')\n",
    "    print(left, 'to', right)"
   ]
  },
  {
   "cell_type": "code",
   "execution_count": null,
   "id": "6be94d3a-56ca-4a6e-bc00-518986e13404",
   "metadata": {
    "tags": []
   },
   "outputs": [],
   "source": [
    "bootstrap_slope(births, 'Gestational Days', 'Birth Weight', 2500)"
   ]
  },
  {
   "cell_type": "markdown",
   "id": "4bcff4b4-2c9a-4b7b-a740-4c6318a3e1cc",
   "metadata": {
    "slideshow": {
     "slide_type": "fragment"
    }
   },
   "source": [
    "---"
   ]
  },
  {
   "cell_type": "markdown",
   "id": "b423524f-0425-4958-b278-f13c41850107",
   "metadata": {
    "slideshow": {
     "slide_type": "subslide"
    },
    "tags": []
   },
   "source": [
    "### Rain on the Regression Parade"
   ]
  },
  {
   "cell_type": "markdown",
   "id": "89289fd4-7975-43e1-9e41-a3964b061e0a",
   "metadata": {
    "slideshow": {
     "slide_type": "-"
    }
   },
   "source": [
    "<img src=\"./rain.png\" width=60%>"
   ]
  },
  {
   "cell_type": "markdown",
   "id": "aba71844-42f7-4921-9a0f-1d02a4c8043c",
   "metadata": {
    "slideshow": {
     "slide_type": "fragment"
    }
   },
   "source": [
    "---"
   ]
  },
  {
   "cell_type": "markdown",
   "id": "1baf41d7-9963-4b34-ace3-1582b5c58aac",
   "metadata": {
    "slideshow": {
     "slide_type": "subslide"
    },
    "tags": []
   },
   "source": [
    "### Demo: Rain on the Regression Parade"
   ]
  },
  {
   "cell_type": "code",
   "execution_count": null,
   "id": "d1898821-11e8-445d-af98-56994bccf705",
   "metadata": {},
   "outputs": [],
   "source": [
    "draw_and_compare(0, 10, 25)"
   ]
  },
  {
   "cell_type": "markdown",
   "id": "27bb51f3-e8c3-4c05-a758-172480460823",
   "metadata": {
    "slideshow": {
     "slide_type": "fragment"
    }
   },
   "source": [
    "---"
   ]
  },
  {
   "cell_type": "markdown",
   "id": "cbe23a03-8546-4c71-bde9-865405830e77",
   "metadata": {
    "slideshow": {
     "slide_type": "subslide"
    },
    "tags": []
   },
   "source": [
    "### Test Whether There Really is a Slope"
   ]
  },
  {
   "cell_type": "markdown",
   "id": "8c18a226-a624-43a0-9841-260cd48bf230",
   "metadata": {
    "slideshow": {
     "slide_type": "-"
    }
   },
   "source": [
    "* Null hypothesis: The slope of the true line is 0.\n",
    "* Alternative hypothesis: No, it's not.\n",
    "* Method:\n",
    "    * Construct a bootstrap confidence interval for the true slope.\n",
    "    * If the interval doesn't contain 0, the data are more consistent with the alternative\n",
    "    * If the interval does contain 0, the data are more consistent with the null\n"
   ]
  },
  {
   "cell_type": "markdown",
   "id": "6e29458c-bcf5-419c-8225-0c56ec476e5b",
   "metadata": {
    "slideshow": {
     "slide_type": "fragment"
    }
   },
   "source": [
    "---"
   ]
  },
  {
   "cell_type": "markdown",
   "id": "12e94925-55a2-45b9-a390-d4d4f5b1c957",
   "metadata": {
    "slideshow": {
     "slide_type": "subslide"
    },
    "tags": []
   },
   "source": [
    "### Demo: Test Whether There Really is a Slope"
   ]
  },
  {
   "cell_type": "markdown",
   "id": "5b491e07-ddfb-4d2d-9ed1-79f741d02125",
   "metadata": {
    "deletable": false,
    "editable": false
   },
   "source": [
    "Test whether Maternal Age and Birth Weight are correlated using the following hypotheses:\n",
    "\n",
    "**Null Hypothesis.** Slope of true line = 0.\n",
    "\n",
    "**Alternative Hypothesis.** Slope of true line is not 0."
   ]
  },
  {
   "cell_type": "code",
   "execution_count": null,
   "id": "bcfcc491-f9ad-4394-9ed2-1cc5c52606e3",
   "metadata": {
    "tags": []
   },
   "outputs": [],
   "source": [
    "..."
   ]
  },
  {
   "cell_type": "code",
   "execution_count": null,
   "id": "96e63f70-3d5a-4c92-b380-eddb2d72b16d",
   "metadata": {
    "tags": []
   },
   "outputs": [],
   "source": [
    "..."
   ]
  },
  {
   "cell_type": "code",
   "execution_count": null,
   "id": "e118e5a6-720a-45c1-9aed-2c85b58c1d41",
   "metadata": {
    "tags": []
   },
   "outputs": [],
   "source": [
    "..."
   ]
  },
  {
   "cell_type": "markdown",
   "id": "d0c520b6-bfdb-4e4e-a4dd-c9d3fa785633",
   "metadata": {
    "slideshow": {
     "slide_type": "fragment"
    }
   },
   "source": [
    "---"
   ]
  },
  {
   "cell_type": "markdown",
   "id": "77a0e9d3-c21a-4e12-abfe-1b8e9960af0a",
   "metadata": {
    "slideshow": {
     "slide_type": "notes"
    }
   },
   "source": [
    "<footer>\n",
    "    <p>Adopted from UC Berkeley DATA 8 course materials.</p>\n",
    "    <p>This content is offered under a <a href=\"https://creativecommons.org/licenses/by-nc-sa/4.0/\">CC Attribution Non-Commercial Share Alike</a> license.</p>\n",
    "</footer>"
   ]
  }
 ],
 "metadata": {
  "kernelspec": {
   "display_name": "Python 3 (ipykernel)",
   "language": "python",
   "name": "python3"
  },
  "language_info": {
   "codemirror_mode": {
    "name": "ipython",
    "version": 3
   },
   "file_extension": ".py",
   "mimetype": "text/x-python",
   "name": "python",
   "nbconvert_exporter": "python",
   "pygments_lexer": "ipython3",
   "version": "3.10.12"
  },
  "otter": {
   "OK_FORMAT": true,
   "tests": {}
  }
 },
 "nbformat": 4,
 "nbformat_minor": 5
}
