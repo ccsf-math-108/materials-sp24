{
 "cells": [
  {
   "cell_type": "markdown",
   "id": "2957c390-0943-400c-9704-fbee6ac23a8f",
   "metadata": {
    "slideshow": {
     "slide_type": "slide"
    }
   },
   "source": [
    "<div style=\"width: 38.5%;\">\n",
    "    <p><strong>City College of San Francisco</strong><p>\n",
    "    <hr>\n",
    "    <p>MATH 108 - Foundations of Data Science</p>\n",
    "</div>"
   ]
  },
  {
   "cell_type": "markdown",
   "id": "0ee91bff-6214-47b8-adfa-656ca779f69b",
   "metadata": {
    "slideshow": {
     "slide_type": "-"
    }
   },
   "source": [
    "# Lecture 16: Distributions"
   ]
  },
  {
   "cell_type": "markdown",
   "id": "31bf82e7-4bcb-4880-a546-ca88221e64b1",
   "metadata": {
    "slideshow": {
     "slide_type": "-"
    }
   },
   "source": [
    "Associated Textbook Sections: [10.1, 10.2, 10.3, and 10.4](https://inferentialthinking.com/chapters/10/1/Empirical_Distributions.html)"
   ]
  },
  {
   "cell_type": "markdown",
   "id": "03618476-a494-4f27-9980-06eabf14dd3e",
   "metadata": {
    "slideshow": {
     "slide_type": "slide"
    }
   },
   "source": [
    "<div style=\"width: 38.5%;\">\n",
    "    <p><strong>City College of San Francisco</strong><p>\n",
    "    <hr>\n",
    "    <p>MATH 108 - Foundations of Data Science</p>\n",
    "</div>"
   ]
  },
  {
   "cell_type": "markdown",
   "id": "b21f4a1b-b236-430f-8443-2cfea52568cf",
   "metadata": {
    "slideshow": {
     "slide_type": "fragment"
    }
   },
   "source": [
    "---"
   ]
  },
  {
   "cell_type": "markdown",
   "id": "4266f0e0-02c0-4ef1-a8a0-d312c2f24e7d",
   "metadata": {
    "slideshow": {
     "slide_type": "slide"
    }
   },
   "source": [
    "## Outline"
   ]
  },
  {
   "cell_type": "markdown",
   "id": "494d2c7d-98c6-4fa8-a10f-2963762332ce",
   "metadata": {
    "slideshow": {
     "slide_type": "-"
    }
   },
   "source": [
    "* [Distributions](#Distributions)\n",
    "* [Law of Large Numbers](#Law-of-Large-Numbers)\n",
    "* [A Statistic](#A-Statistic)"
   ]
  },
  {
   "cell_type": "markdown",
   "id": "7a44bce3-241b-49ca-a2c5-fa3f73c0c122",
   "metadata": {
    "slideshow": {
     "slide_type": "fragment"
    }
   },
   "source": [
    "---"
   ]
  },
  {
   "cell_type": "markdown",
   "id": "8e52a3f5-ce44-4961-8649-84b41d5e5576",
   "metadata": {
    "slideshow": {
     "slide_type": "slide"
    }
   },
   "source": [
    "## Set Up the Notebook"
   ]
  },
  {
   "cell_type": "code",
   "execution_count": null,
   "id": "ad73b07e-5851-4731-a5f8-adf0e4a68ba0",
   "metadata": {
    "slideshow": {
     "slide_type": "-"
    }
   },
   "outputs": [],
   "source": [
    "from datascience import *\n",
    "import numpy as np\n",
    "%matplotlib inline\n",
    "import matplotlib.pyplot as plt\n",
    "plt.style.use('fivethirtyeight')"
   ]
  },
  {
   "cell_type": "markdown",
   "id": "215ebdb1-1f26-4478-a710-a22a340ed0ae",
   "metadata": {
    "slideshow": {
     "slide_type": "fragment"
    }
   },
   "source": [
    "---"
   ]
  },
  {
   "cell_type": "markdown",
   "id": "114ebde8-26e3-45de-80a7-abfb0e59229d",
   "metadata": {
    "slideshow": {
     "slide_type": "slide"
    }
   },
   "source": [
    "## Distributions"
   ]
  },
  {
   "cell_type": "markdown",
   "id": "c978d81d-f441-46d7-b5cc-436070c2b4fb",
   "metadata": {
    "slideshow": {
     "slide_type": "fragment"
    }
   },
   "source": [
    "---"
   ]
  },
  {
   "cell_type": "markdown",
   "id": "7e647a3c-ca99-4349-aa43-ec0c41b2c91c",
   "metadata": {
    "slideshow": {
     "slide_type": "subslide"
    }
   },
   "source": [
    "### Probability Distribution"
   ]
  },
  {
   "cell_type": "markdown",
   "id": "cefd45bf-789f-41c8-947e-203c0b101cae",
   "metadata": {
    "slideshow": {
     "slide_type": "-"
    }
   },
   "source": [
    "* Random quantity with various possible values\n",
    "* Probability Distribution:\n",
    "    * All the possible values of the quantity\n",
    "    * The probability of each of those values\n",
    "* If you can do the math, you can work out the probability distribution without ever simulating it\n",
    "* But... simulation is often easier!\n"
   ]
  },
  {
   "cell_type": "markdown",
   "id": "e8542a16-3ef3-4391-9ff2-94b8c6dfec50",
   "metadata": {
    "slideshow": {
     "slide_type": "fragment"
    }
   },
   "source": [
    "---"
   ]
  },
  {
   "cell_type": "markdown",
   "id": "e04733fb-7f1c-484e-8cb3-cecb0c38c22f",
   "metadata": {
    "slideshow": {
     "slide_type": "subslide"
    }
   },
   "source": [
    "### Empirical Distribution"
   ]
  },
  {
   "cell_type": "markdown",
   "id": "8caa4c64-9df4-4094-b942-89d2cdef7ba3",
   "metadata": {
    "slideshow": {
     "slide_type": "-"
    }
   },
   "source": [
    "* Empirical: based on observations\n",
    "* Observations can be from repetitions of an experiment\n",
    "* Empirical Distribution:\n",
    "    * All observed values\n",
    "    * The proportion of times each value appears"
   ]
  },
  {
   "cell_type": "markdown",
   "id": "228fc46b-005c-49de-a514-19f9bf44cfca",
   "metadata": {
    "slideshow": {
     "slide_type": "fragment"
    }
   },
   "source": [
    "---"
   ]
  },
  {
   "cell_type": "markdown",
   "id": "048d75b5-3191-44c6-b139-bb176898355a",
   "metadata": {
    "slideshow": {
     "slide_type": "subslide"
    }
   },
   "source": [
    "### Demo: Distributions"
   ]
  },
  {
   "cell_type": "markdown",
   "id": "44d4d92c-3c80-43b5-b7bb-5ba3be3bd3f2",
   "metadata": {
    "deletable": false,
    "editable": false,
    "slideshow": {
     "slide_type": "notes"
    }
   },
   "source": [
    "Create a table with the face numbers of a six-sided die. Use that table with the `sample` method to simulate randomly rolling a die. Visualize the probability distribution."
   ]
  },
  {
   "cell_type": "code",
   "execution_count": null,
   "id": "f8a283b5-873c-4f08-af7d-be4d094ae2ba",
   "metadata": {
    "slideshow": {
     "slide_type": "-"
    },
    "tags": []
   },
   "outputs": [],
   "source": [
    "die = ...\n",
    "die"
   ]
  },
  {
   "cell_type": "code",
   "execution_count": null,
   "id": "884d6db7-3454-4b0b-973d-88baaf6fed4c",
   "metadata": {
    "slideshow": {
     "slide_type": "fragment"
    },
    "tags": []
   },
   "outputs": [],
   "source": [
    "..."
   ]
  },
  {
   "cell_type": "code",
   "execution_count": null,
   "id": "6ff0bb75-949d-49fb-b76d-e71cf57814db",
   "metadata": {
    "slideshow": {
     "slide_type": "subslide"
    },
    "tags": []
   },
   "outputs": [],
   "source": [
    "..."
   ]
  },
  {
   "cell_type": "code",
   "execution_count": null,
   "id": "6ea43fca-16a0-4fc7-bb3f-20c2e702b510",
   "metadata": {
    "slideshow": {
     "slide_type": "subslide"
    },
    "tags": []
   },
   "outputs": [],
   "source": [
    "roll_bins = np.arange(0.5, 7.5)\n",
    "..."
   ]
  },
  {
   "cell_type": "markdown",
   "id": "6a717c8e-8889-4585-ba39-23c04625cd5a",
   "metadata": {
    "slideshow": {
     "slide_type": "fragment"
    }
   },
   "source": [
    "---"
   ]
  },
  {
   "cell_type": "markdown",
   "id": "2281c0bf-5924-45ca-91d3-797016d8ae7b",
   "metadata": {
    "deletable": false,
    "editable": false,
    "slideshow": {
     "slide_type": "notes"
    }
   },
   "source": [
    "Randomly sample using a few different sample sizes and visualize the resulting empirical distributions."
   ]
  },
  {
   "cell_type": "code",
   "execution_count": null,
   "id": "c5f23d32-9b81-43c6-aafc-5689852daf1b",
   "metadata": {
    "slideshow": {
     "slide_type": "subslide"
    },
    "tags": []
   },
   "outputs": [],
   "source": [
    "..."
   ]
  },
  {
   "cell_type": "code",
   "execution_count": null,
   "id": "0d6d6baa-7496-44bc-a3ae-0ab4803c29c5",
   "metadata": {
    "slideshow": {
     "slide_type": "subslide"
    },
    "tags": []
   },
   "outputs": [],
   "source": [
    "..."
   ]
  },
  {
   "cell_type": "code",
   "execution_count": null,
   "id": "abdf832b-d937-4168-9f81-6cd5ac01f3f8",
   "metadata": {
    "slideshow": {
     "slide_type": "subslide"
    },
    "tags": []
   },
   "outputs": [],
   "source": [
    "..."
   ]
  },
  {
   "cell_type": "markdown",
   "id": "bc8236bd-4a2b-464a-8100-e71623181d57",
   "metadata": {
    "slideshow": {
     "slide_type": "fragment"
    }
   },
   "source": [
    "---"
   ]
  },
  {
   "cell_type": "markdown",
   "id": "b593e9d9-cbdf-45c3-b321-16ae0f052cf3",
   "metadata": {
    "slideshow": {
     "slide_type": "slide"
    }
   },
   "source": [
    "## Law of Large Numbers"
   ]
  },
  {
   "cell_type": "markdown",
   "id": "4f278f0c-c1e4-4ab4-9731-c106e6ce7859",
   "metadata": {
    "slideshow": {
     "slide_type": "fragment"
    }
   },
   "source": [
    "---"
   ]
  },
  {
   "cell_type": "markdown",
   "id": "ecb32833-3f38-4670-ac68-c23a5a8648d8",
   "metadata": {
    "slideshow": {
     "slide_type": "subslide"
    }
   },
   "source": [
    "### Law of Averages / Law of Large Numbers"
   ]
  },
  {
   "cell_type": "markdown",
   "id": "21f03416-ffec-473f-aa9e-faabc076f86b",
   "metadata": {
    "slideshow": {
     "slide_type": "-"
    }
   },
   "source": [
    "* If a chance experiment is repeated many times, independently and under the same conditions, then the proportion of times that an event occurs gets closer to the theoretical probability of the event\n",
    "* As you increase the number of rolls of a six-sided die, the proportion of times you see the face with five spots gets closer to 1/6\n"
   ]
  },
  {
   "cell_type": "markdown",
   "id": "be397e86-7bac-44e4-84be-7dad19085a41",
   "metadata": {
    "slideshow": {
     "slide_type": "fragment"
    }
   },
   "source": [
    "---"
   ]
  },
  {
   "cell_type": "markdown",
   "id": "47520f87-cb78-44f5-8dbc-2291121bc2ab",
   "metadata": {
    "slideshow": {
     "slide_type": "subslide"
    }
   },
   "source": [
    "### Empirical Distribution of a Sample"
   ]
  },
  {
   "cell_type": "markdown",
   "id": "acf97f33-17c0-49c8-b97e-82bcbe76cdf1",
   "metadata": {
    "slideshow": {
     "slide_type": "-"
    }
   },
   "source": [
    "If the sample size is large, then the empirical distribution of a uniform random sample resembles the distribution of the population, with high probability.\n"
   ]
  },
  {
   "cell_type": "markdown",
   "id": "37018bd0-3cfc-4f3d-ac47-908dbaac9de4",
   "metadata": {
    "slideshow": {
     "slide_type": "fragment"
    }
   },
   "source": [
    "---"
   ]
  },
  {
   "cell_type": "markdown",
   "id": "12afa4e3-99ce-4a68-8d0d-a184f7aa34e7",
   "metadata": {
    "slideshow": {
     "slide_type": "subslide"
    }
   },
   "source": [
    "### Demo: Large Random Samples"
   ]
  },
  {
   "cell_type": "markdown",
   "id": "ca9f1217-0d1d-41be-848f-7472ce25b01d",
   "metadata": {
    "slideshow": {
     "slide_type": "notes"
    }
   },
   "source": [
    "The following code loads the SFO November 2023 flight delay data in `delays.csv` sourced from the [Bureau of Transportation Statistic's Reporting Carrier On-Time Performance Data](https://www.transtats.bts.gov/DL_SelectFields.aspx?gnoyr_VQ=FGJ&QO_fu146_anzr=b0-gvzr). The variable `ARR_DELAY` contains the difference in minutes between scheduled and actual arrival time at the destination airport `DEST`. Early arrivals show negative numbers, and the airline code is expressed in the variable `OP_CARRIER`. (Additionally, rows with missing delay data were filtered out.)"
   ]
  },
  {
   "cell_type": "code",
   "execution_count": null,
   "id": "eec5157c-77f4-483e-98e2-256f01f9f49c",
   "metadata": {
    "slideshow": {
     "slide_type": "-"
    }
   },
   "outputs": [],
   "source": [
    "delays = Table.read_table('delays.csv')\n",
    "sfo_delays = delays.where('ORIGIN', 'SFO').drop(0,2).relabeled('ARR_DELAY', 'DELAY')\n",
    "nan_filter = np.invert(np.isnan(sfo_delays.column('DELAY')))\n",
    "sfo_delays = sfo_delays.where(nan_filter)\n",
    "sfo_delays"
   ]
  },
  {
   "cell_type": "markdown",
   "id": "fde96d6d-d7fd-4f7c-b1de-edcebcdadfcc",
   "metadata": {
    "slideshow": {
     "slide_type": "fragment"
    }
   },
   "source": [
    "---"
   ]
  },
  {
   "cell_type": "markdown",
   "id": "97a5adb8-141e-4b09-8621-f4e0dbfaf2b6",
   "metadata": {
    "deletable": false,
    "editable": false,
    "slideshow": {
     "slide_type": "notes"
    }
   },
   "source": [
    "Visualize the empirical distribution of flight delays in the delay data. You'll need to adjust the bins. Take note of the average and median flight delays."
   ]
  },
  {
   "cell_type": "code",
   "execution_count": null,
   "id": "6f1f5a4d-e43c-4b8d-b42c-a11bc2a2090b",
   "metadata": {
    "slideshow": {
     "slide_type": "subslide"
    },
    "tags": []
   },
   "outputs": [],
   "source": [
    "..."
   ]
  },
  {
   "cell_type": "code",
   "execution_count": null,
   "id": "69457d77-3dad-45be-8670-0aa6ca6bf988",
   "metadata": {
    "slideshow": {
     "slide_type": "subslide"
    },
    "tags": []
   },
   "outputs": [],
   "source": [
    "min_delay = min(sfo_delays.column('DELAY'))\n",
    "min_delay"
   ]
  },
  {
   "cell_type": "code",
   "execution_count": null,
   "id": "28192ca7-1f36-4168-bf15-9d61f409105d",
   "metadata": {
    "slideshow": {
     "slide_type": "fragment"
    },
    "tags": []
   },
   "outputs": [],
   "source": [
    "max_delay = max(sfo_delays.column('DELAY'))\n",
    "max_delay"
   ]
  },
  {
   "cell_type": "code",
   "execution_count": null,
   "id": "b705e0d0-fce4-47a0-83fb-80bab43452fa",
   "metadata": {
    "tags": []
   },
   "outputs": [],
   "source": [
    "# The percentile function will be introduced later in the course\n",
    "percentile_99 = percentile(99, sfo_delays.column('DELAY'))\n",
    "print(f'99% of the delays are most {percentile_99} mins.') "
   ]
  },
  {
   "cell_type": "code",
   "execution_count": null,
   "id": "edcc3597-e401-4394-896c-954e0a052b51",
   "metadata": {
    "slideshow": {
     "slide_type": "subslide"
    },
    "tags": []
   },
   "outputs": [],
   "source": [
    "bins = np.arange(min_delay, percentile_99, 5)\n",
    "..."
   ]
  },
  {
   "cell_type": "code",
   "execution_count": null,
   "id": "17f07127-3cbd-472e-bc9e-d140fc668ec4",
   "metadata": {
    "slideshow": {
     "slide_type": "subslide"
    },
    "tags": []
   },
   "outputs": [],
   "source": [
    "average_delay = ...\n",
    "average_delay"
   ]
  },
  {
   "cell_type": "code",
   "execution_count": null,
   "id": "ea09c681-23d3-442a-8608-8e4692be411d",
   "metadata": {
    "slideshow": {
     "slide_type": "fragment"
    },
    "tags": []
   },
   "outputs": [],
   "source": [
    "median_delay = ...\n",
    "median_delay"
   ]
  },
  {
   "cell_type": "markdown",
   "id": "a7ca8c75-fd74-4313-a39e-06d974c9af17",
   "metadata": {
    "slideshow": {
     "slide_type": "fragment"
    }
   },
   "source": [
    "---"
   ]
  },
  {
   "cell_type": "markdown",
   "id": "4ddfc071-590f-4194-988e-e556ca9a7cc1",
   "metadata": {
    "deletable": false,
    "editable": false,
    "slideshow": {
     "slide_type": "notes"
    }
   },
   "source": [
    "Randomly sample 10 and 1000 flights from the delay data and visualize the distributions of the samples."
   ]
  },
  {
   "cell_type": "code",
   "execution_count": null,
   "id": "f2071a73-5e87-4956-9204-a52712569c47",
   "metadata": {
    "slideshow": {
     "slide_type": "subslide"
    },
    "tags": []
   },
   "outputs": [],
   "source": [
    "sfo_delays.sample(...).hist('DELAY', bins = bins, unit='Minute') "
   ]
  },
  {
   "cell_type": "code",
   "execution_count": null,
   "id": "dba546d0-4ab5-4ca1-8f51-f8dba1df82b3",
   "metadata": {
    "slideshow": {
     "slide_type": "subslide"
    },
    "tags": []
   },
   "outputs": [],
   "source": [
    "sfo_delays.sample(...).hist('DELAY', bins = bins, unit='Minute') "
   ]
  },
  {
   "cell_type": "markdown",
   "id": "230ac872-003e-453e-9591-a01098dcd4d5",
   "metadata": {
    "slideshow": {
     "slide_type": "fragment"
    }
   },
   "source": [
    "---"
   ]
  },
  {
   "cell_type": "markdown",
   "id": "35a13840-214f-4d93-b808-b0d2650f4a36",
   "metadata": {
    "slideshow": {
     "slide_type": "slide"
    }
   },
   "source": [
    "## A Statistic"
   ]
  },
  {
   "cell_type": "markdown",
   "id": "bd42f26b-bc69-4bda-9b70-04dd4248d422",
   "metadata": {
    "slideshow": {
     "slide_type": "fragment"
    }
   },
   "source": [
    "---"
   ]
  },
  {
   "cell_type": "markdown",
   "id": "b224f338-f059-4c6f-ac83-158366e5a0c0",
   "metadata": {
    "slideshow": {
     "slide_type": "subslide"
    }
   },
   "source": [
    "### Inference"
   ]
  },
  {
   "cell_type": "markdown",
   "id": "69cf7e55-ac16-4bf3-a51d-762109b553b0",
   "metadata": {
    "slideshow": {
     "slide_type": "-"
    }
   },
   "source": [
    "* Statistical Inference: Making conclusions based on data in random samples\n",
    "* Example: Use the data to guess the value of an unknown and fixed number by creating an estimate of the unknown quantity that depends on the random sample.\n",
    "\n"
   ]
  },
  {
   "cell_type": "markdown",
   "id": "14c3d9e0-6636-4075-b187-af159262abed",
   "metadata": {
    "slideshow": {
     "slide_type": "fragment"
    }
   },
   "source": [
    "---"
   ]
  },
  {
   "cell_type": "markdown",
   "id": "fb45a7c2-c420-4bdd-bbaf-2b78fa087f2f",
   "metadata": {
    "slideshow": {
     "slide_type": "subslide"
    }
   },
   "source": [
    "### Terminology"
   ]
  },
  {
   "cell_type": "markdown",
   "id": "12bf98b7-aa99-461b-80b2-9385a6b70020",
   "metadata": {
    "slideshow": {
     "slide_type": "-"
    }
   },
   "source": [
    "* Parameter: A number associated with the population\n",
    "* Statistic: A number calculated from the sample\n",
    "* A statistic can be used as an estimate of a parameter"
   ]
  },
  {
   "cell_type": "markdown",
   "id": "768288d8-98c1-45c7-9bc8-8e10e17623ff",
   "metadata": {
    "slideshow": {
     "slide_type": "fragment"
    }
   },
   "source": [
    "---"
   ]
  },
  {
   "cell_type": "markdown",
   "id": "2b50a55e-4306-435b-8976-21290f5e4db3",
   "metadata": {
    "slideshow": {
     "slide_type": "subslide"
    }
   },
   "source": [
    "### Demo: Simulating Statistics"
   ]
  },
  {
   "cell_type": "markdown",
   "id": "77c370cf-91a7-43a5-b6a8-94ae74917509",
   "metadata": {
    "deletable": false,
    "editable": false,
    "slideshow": {
     "slide_type": "notes"
    }
   },
   "source": [
    "Recall the median for the flight delays (parameter) and compare it to the median statistic associated with a random sample of 10 flights."
   ]
  },
  {
   "cell_type": "code",
   "execution_count": null,
   "id": "71888aa3-73b2-49bd-9070-734d6101c7c3",
   "metadata": {
    "slideshow": {
     "slide_type": "-"
    },
    "tags": []
   },
   "outputs": [],
   "source": [
    "median_delay"
   ]
  },
  {
   "cell_type": "code",
   "execution_count": null,
   "id": "d3080569-6842-4e3a-a5c7-5c0cde3b9bc2",
   "metadata": {
    "slideshow": {
     "slide_type": "fragment"
    },
    "tags": []
   },
   "outputs": [],
   "source": [
    "..."
   ]
  },
  {
   "cell_type": "markdown",
   "id": "68762d1d-77e6-4bb0-a96c-a73c0bd53457",
   "metadata": {
    "slideshow": {
     "slide_type": "fragment"
    }
   },
   "source": [
    "---"
   ]
  },
  {
   "cell_type": "markdown",
   "id": "0d83c0ed-2e72-4d05-b515-acae5d7503b3",
   "metadata": {
    "deletable": false,
    "editable": false,
    "slideshow": {
     "slide_type": "notes"
    }
   },
   "source": [
    "Define a function that randomly samples delay data for an inputted sample size and returns the median delay for that sample."
   ]
  },
  {
   "cell_type": "code",
   "execution_count": null,
   "id": "52fd9080-e90a-4ded-8807-5a544423ef6b",
   "metadata": {
    "slideshow": {
     "slide_type": "subslide"
    },
    "tags": []
   },
   "outputs": [],
   "source": [
    "def sample_median(size):\n",
    "    ..."
   ]
  },
  {
   "cell_type": "code",
   "execution_count": null,
   "id": "2304daf0-0e80-4c9f-9ca1-866edac8f281",
   "metadata": {
    "slideshow": {
     "slide_type": "fragment"
    },
    "tags": []
   },
   "outputs": [],
   "source": [
    "sample_median(10)"
   ]
  },
  {
   "cell_type": "markdown",
   "id": "9a96fedf-4edd-4a09-be0a-a0d78962420f",
   "metadata": {
    "slideshow": {
     "slide_type": "fragment"
    }
   },
   "source": [
    "---"
   ]
  },
  {
   "cell_type": "markdown",
   "id": "22dff2bb-9db6-4a34-9e0d-bebcb948cd47",
   "metadata": {
    "deletable": false,
    "editable": false,
    "slideshow": {
     "slide_type": "notes"
    }
   },
   "source": [
    "Simulate randomly sampling 10 flights 1000 times and storing the sample delay medians for each iteration. Add the results to a table and visualize the sampling distribution."
   ]
  },
  {
   "cell_type": "code",
   "execution_count": null,
   "id": "d9f73dea-1223-4a0a-a0f5-a2e0e84b82da",
   "metadata": {
    "slideshow": {
     "slide_type": "subslide"
    },
    "tags": []
   },
   "outputs": [],
   "source": [
    "sample_medians = ...\n",
    "reps = ...\n",
    "sample_size = ...\n",
    "\n",
    "for ...:\n",
    "    new_median = ...\n",
    "    sample_medians = ..."
   ]
  },
  {
   "cell_type": "code",
   "execution_count": null,
   "id": "546cda52-e7bc-417f-80f2-90c721eb19d7",
   "metadata": {
    "slideshow": {
     "slide_type": "fragment"
    },
    "tags": []
   },
   "outputs": [],
   "source": [
    "Table().with_column('Sample Medians', sample_medians).hist(bins = np.arange(-30,20), unit='Minute')"
   ]
  },
  {
   "cell_type": "markdown",
   "id": "53215fc9-8572-45a0-91c3-dab1d52de9ba",
   "metadata": {
    "slideshow": {
     "slide_type": "fragment"
    }
   },
   "source": [
    "---"
   ]
  },
  {
   "cell_type": "markdown",
   "id": "738495fc-7f86-4708-8dd4-700642378d79",
   "metadata": {
    "deletable": false,
    "editable": false,
    "slideshow": {
     "slide_type": "notes"
    }
   },
   "source": [
    "Repeat the sample simulation except use a sample size of 1000, instead of 10."
   ]
  },
  {
   "cell_type": "code",
   "execution_count": null,
   "id": "35457f8b-0964-4567-ab2b-be3549e667ef",
   "metadata": {
    "slideshow": {
     "slide_type": "subslide"
    },
    "tags": []
   },
   "outputs": [],
   "source": [
    "sample_medians = ...\n",
    "reps = ...\n",
    "sample_size = ...\n",
    "\n",
    "for ...:\n",
    "    new_median = ...\n",
    "    sample_medians = ..."
   ]
  },
  {
   "cell_type": "code",
   "execution_count": null,
   "id": "0d5887fd-c48a-4663-ba5b-2493409a90bb",
   "metadata": {
    "slideshow": {
     "slide_type": "fragment"
    },
    "tags": []
   },
   "outputs": [],
   "source": [
    "Table().with_column('Sample Medians', sample_medians).hist(bins = np.arange(-30,20), unit='Minute')"
   ]
  },
  {
   "cell_type": "markdown",
   "id": "7510c83a-b93f-4888-8296-9021945bc8cf",
   "metadata": {
    "slideshow": {
     "slide_type": "fragment"
    }
   },
   "source": [
    "---"
   ]
  },
  {
   "cell_type": "markdown",
   "id": "c15ad8e7-ed4a-4e7f-b800-8cfe0e017733",
   "metadata": {
    "slideshow": {
     "slide_type": "subslide"
    }
   },
   "source": [
    "### Probability Distribution of a Statistic"
   ]
  },
  {
   "cell_type": "markdown",
   "id": "46613b78-e28e-48e1-89a9-caae6cd5b9e5",
   "metadata": {
    "slideshow": {
     "slide_type": "-"
    }
   },
   "source": [
    "* Values of a statistic vary because random samples vary\n",
    "* Sampling distribution (or probability distribution) of the statistic:\n",
    "    * All possible values of the statistic,\n",
    "    * and all the corresponding probabilities\n",
    "    * Can be hard to calculate\n",
    "        * Either have to do the math\n",
    "        * Or have to generate all possible samples and calculate the statistic based on each sample\n"
   ]
  },
  {
   "cell_type": "markdown",
   "id": "47f98b18-aaca-4bdf-b335-1bfa53e8a997",
   "metadata": {
    "slideshow": {
     "slide_type": "fragment"
    }
   },
   "source": [
    "---"
   ]
  },
  {
   "cell_type": "markdown",
   "id": "f2b271a8-10ad-4ae6-b0cb-0fd90891e9c7",
   "metadata": {
    "slideshow": {
     "slide_type": "subslide"
    }
   },
   "source": [
    "### Empirical Distribution of a Statistic"
   ]
  },
  {
   "cell_type": "markdown",
   "id": "0b631c9d-2fee-40f8-a61c-5c68ab96506d",
   "metadata": {
    "slideshow": {
     "slide_type": "-"
    }
   },
   "source": [
    "* Empirical distribution of the statistic:\n",
    "    * Based on simulated values of the statistic\n",
    "    * Consists of all the observed values of the statistic,\n",
    "    * and the proportion of times each value appeared\n",
    "* Good approximation to the probability distribution of the statistic if the number of repetitions in the simulation is large\n"
   ]
  },
  {
   "cell_type": "markdown",
   "id": "29a82f02-9cff-4c3d-9bf1-628b7900421c",
   "metadata": {
    "slideshow": {
     "slide_type": "fragment"
    }
   },
   "source": [
    "---"
   ]
  },
  {
   "cell_type": "markdown",
   "id": "81291e2e-1aae-49a8-8564-a7070cc702df",
   "metadata": {
    "slideshow": {
     "slide_type": "notes"
    }
   },
   "source": [
    "<footer>\n",
    "    <p>Adopted from UC Berkeley DATA 8 course materials.</p>\n",
    "    <p>This content is offered under a <a href=\"https://creativecommons.org/licenses/by-nc-sa/4.0/\">CC Attribution Non-Commercial Share Alike</a> license.</p>\n",
    "</footer>"
   ]
  }
 ],
 "metadata": {
  "kernelspec": {
   "display_name": "Python 3 (ipykernel)",
   "language": "python",
   "name": "python3"
  },
  "language_info": {
   "codemirror_mode": {
    "name": "ipython",
    "version": 3
   },
   "file_extension": ".py",
   "mimetype": "text/x-python",
   "name": "python",
   "nbconvert_exporter": "python",
   "pygments_lexer": "ipython3",
   "version": "3.10.12"
  },
  "otter": {
   "OK_FORMAT": true,
   "tests": {}
  }
 },
 "nbformat": 4,
 "nbformat_minor": 5
}
