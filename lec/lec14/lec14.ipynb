{
 "cells": [
  {
   "cell_type": "markdown",
   "id": "e328cd86-fd04-4d71-9e8a-6fa2b382a1cc",
   "metadata": {
    "slideshow": {
     "slide_type": "slide"
    }
   },
   "source": [
    "<div style=\"width: 38.5%;\">\n",
    "    <p><strong>City College of San Francisco</strong><p>\n",
    "    <hr>\n",
    "    <p>MATH 108 - Foundations of Data Science</p>\n",
    "</div>"
   ]
  },
  {
   "cell_type": "markdown",
   "id": "58125675-5ff5-4cbc-88c8-72861e0aca6f",
   "metadata": {
    "slideshow": {
     "slide_type": "-"
    }
   },
   "source": [
    "# Lecture 14: Chance"
   ]
  },
  {
   "cell_type": "markdown",
   "id": "99d25e6e-c00d-4011-9f1d-d747e0390ee6",
   "metadata": {
    "slideshow": {
     "slide_type": "-"
    }
   },
   "source": [
    "Associated Textbook Sections: [9.4, 9.5](https://inferentialthinking.com/chapters/09/4/Monty_Hall_Problem.html)"
   ]
  },
  {
   "cell_type": "markdown",
   "id": "4a37c742-2564-4433-9b84-7071c3f19f64",
   "metadata": {},
   "source": [
    "---"
   ]
  },
  {
   "cell_type": "markdown",
   "id": "9be6cab1-0c8f-4c44-81ad-e7792a253985",
   "metadata": {
    "slideshow": {
     "slide_type": "slide"
    }
   },
   "source": [
    "## Overview"
   ]
  },
  {
   "cell_type": "markdown",
   "id": "b7954bfc-3e8b-4701-9108-0d5e9336a395",
   "metadata": {
    "slideshow": {
     "slide_type": "-"
    }
   },
   "source": [
    "* [The Monty Hall Problem](#The-Monty-Hall-Problem)\n",
    "* [Probability](#Probability)\n",
    "* [Problem-Solving Method](#Problem-Solving-Method)"
   ]
  },
  {
   "cell_type": "markdown",
   "id": "dbf1d3b5-cd0f-4a34-a76d-cfbc5e8c0331",
   "metadata": {},
   "source": [
    "---"
   ]
  },
  {
   "cell_type": "markdown",
   "id": "8f0e6566-2be7-4586-96ff-9288d2574609",
   "metadata": {
    "slideshow": {
     "slide_type": "slide"
    }
   },
   "source": [
    "## Set Up the Notebook"
   ]
  },
  {
   "cell_type": "code",
   "execution_count": null,
   "id": "53426c94-b46e-4874-b8b2-82e2a73b9980",
   "metadata": {
    "slideshow": {
     "slide_type": "-"
    }
   },
   "outputs": [],
   "source": [
    "from datascience import *\n",
    "import numpy as np\n",
    "%matplotlib inline\n",
    "import matplotlib.pyplot as plt\n",
    "plt.style.use('fivethirtyeight')"
   ]
  },
  {
   "cell_type": "markdown",
   "id": "f6695baa-c1d6-4937-94a5-48e702fcdf3f",
   "metadata": {},
   "source": [
    "---"
   ]
  },
  {
   "cell_type": "markdown",
   "id": "e96af9bc-8f38-429d-97a8-8cd3be03e74d",
   "metadata": {
    "slideshow": {
     "slide_type": "slide"
    }
   },
   "source": [
    "## The Monty Hall Problem"
   ]
  },
  {
   "cell_type": "markdown",
   "id": "40b9a1c5-041d-42d4-afba-43873cb29272",
   "metadata": {},
   "source": [
    "---"
   ]
  },
  {
   "cell_type": "markdown",
   "id": "37a51420-6d24-40af-950e-a098dde1e7ac",
   "metadata": {
    "slideshow": {
     "slide_type": "slide"
    }
   },
   "source": [
    "### Monty Hall Problem"
   ]
  },
  {
   "cell_type": "markdown",
   "id": "793b59b9-e366-4f26-bb3e-ec7512de865e",
   "metadata": {
    "slideshow": {
     "slide_type": "-"
    }
   },
   "source": [
    "* There are 3 closed doors.\n",
    "* One door has a prize and two doors have what is considered not to be a prize.\n",
    "* The contestant selects a door.\n",
    "* The host reveals what is behind the remaining door that has not been selected without the prize.\n",
    "* The contestant has the chance to change doors.\n",
    "* Are the contestant's chance of winning improved by switching doors?\n",
    "\n",
    "<a href=\"https://en.wikipedia.org/wiki/Monty_Hall_problem\" title=\"Wikipedia - Monty Hall Problem\"><img src=\"./Monty_open_door.png\" width = 40%><a/>"
   ]
  },
  {
   "cell_type": "markdown",
   "id": "5bbc18fa-f542-4859-b810-a094c2de24be",
   "metadata": {},
   "source": [
    "---"
   ]
  },
  {
   "cell_type": "markdown",
   "id": "cb3876b1-54f3-4fe1-9021-12e99ec9d33d",
   "metadata": {
    "slideshow": {
     "slide_type": "slide"
    }
   },
   "source": [
    "### Demo: Monty Hall"
   ]
  },
  {
   "cell_type": "markdown",
   "id": "54476991-c472-4099-8349-06f0871b9512",
   "metadata": {
    "deletable": false,
    "editable": false,
    "slideshow": {
     "slide_type": "slide"
    }
   },
   "source": [
    "Create a simulation of the Monty Hall game."
   ]
  },
  {
   "cell_type": "code",
   "execution_count": null,
   "id": "d56c52e0-9105-41b5-9e36-a9b21405f201",
   "metadata": {
    "slideshow": {
     "slide_type": "fragment"
    },
    "tags": []
   },
   "outputs": [],
   "source": [
    "def other_goat(a_goat):\n",
    "    '''other_goat accepts either the string 'first goat' or the string 'second goat' and returns the other goat as a string.'''\n",
    "    if a_goat == 'first goat':\n",
    "        return 'second goat'\n",
    "    elif a_goat == 'second goat':\n",
    "        return 'first goat'\n",
    "    else:\n",
    "        print(\"a_goat should name 'first goat' or 'second goat'.\")"
   ]
  },
  {
   "cell_type": "code",
   "execution_count": null,
   "id": "e04ac84a-6645-4f72-8903-000ca340e8d2",
   "metadata": {
    "slideshow": {
     "slide_type": "fragment"
    },
    "tags": []
   },
   "outputs": [],
   "source": [
    "..."
   ]
  },
  {
   "cell_type": "code",
   "execution_count": null,
   "id": "b442139b-d0de-48fc-a924-f986c8d5fd8f",
   "metadata": {
    "slideshow": {
     "slide_type": "subslide"
    },
    "tags": []
   },
   "outputs": [],
   "source": [
    "def monty_hall():\n",
    "    '''\n",
    "    monty_hall runs a simulation of the monty hall problem \n",
    "    where the three doors are represented as the strings 'first goat',\n",
    "    'second goat', and 'car'. This function returns a list with random \n",
    "    choice from the contestant, the goat revealed by the host, and the remaining car/goat.\n",
    "    '''\n",
    "    doors = make_array('car', 'first goat', 'second goat')\n",
    "    goats = make_array('first goat', 'second goat')\n",
    "    contestant_choice = np.random.choice(doors)\n",
    "    \n",
    "    if contestant_choice == 'first goat':\n",
    "        monty_choice = 'second goat'\n",
    "        remaining_door = 'car'\n",
    "        \n",
    "    elif contestant_choice == 'second goat':\n",
    "        monty_choice = 'first goat'\n",
    "        remaining_door = 'car'\n",
    "        \n",
    "    elif contestant_choice == 'car':\n",
    "        monty_choice = np.random.choice(goats)\n",
    "        remaining_door = other_goat(monty_choice)\n",
    "        \n",
    "    return [contestant_choice, monty_choice, remaining_door]"
   ]
  },
  {
   "cell_type": "code",
   "execution_count": null,
   "id": "caa04727-b227-4278-8ad3-ad16a5deb11d",
   "metadata": {
    "slideshow": {
     "slide_type": "fragment"
    },
    "tags": []
   },
   "outputs": [],
   "source": [
    "..."
   ]
  },
  {
   "cell_type": "markdown",
   "id": "291399ce-9b2a-4389-bcdf-2f06c82caf15",
   "metadata": {},
   "source": [
    "---"
   ]
  },
  {
   "cell_type": "markdown",
   "id": "e103dfee-e7a3-4bbd-b8d7-502214e77b8c",
   "metadata": {
    "deletable": false,
    "editable": false,
    "slideshow": {
     "slide_type": "notes"
    }
   },
   "source": [
    "Store the results of several random simulations of the Monty Hall game in a Table."
   ]
  },
  {
   "cell_type": "code",
   "execution_count": null,
   "id": "d2df014a-2374-49a6-a224-7430d6d60a75",
   "metadata": {
    "slideshow": {
     "slide_type": "subslide"
    },
    "tags": []
   },
   "outputs": [],
   "source": [
    "games = Table(['Guess', 'Revealed', 'Remaining'])"
   ]
  },
  {
   "cell_type": "code",
   "execution_count": null,
   "id": "4bfee853-82a4-4bfe-95b7-2e0438bada74",
   "metadata": {
    "slideshow": {
     "slide_type": "fragment"
    },
    "tags": []
   },
   "outputs": [],
   "source": [
    "..."
   ]
  },
  {
   "cell_type": "code",
   "execution_count": null,
   "id": "e229372a-c552-4990-97fa-09840e0a9b0c",
   "metadata": {
    "slideshow": {
     "slide_type": "fragment"
    },
    "tags": []
   },
   "outputs": [],
   "source": [
    "games = Table(['Guess', 'Revealed', 'Remaining'])\n",
    "\n",
    "for _ in np.arange(3000):\n",
    "    games = games.with_row(monty_hall())\n",
    "    \n",
    "games"
   ]
  },
  {
   "cell_type": "markdown",
   "id": "9fb2a60a-7a77-4296-a0cd-6840c5e65960",
   "metadata": {},
   "source": [
    "---"
   ]
  },
  {
   "cell_type": "markdown",
   "id": "d5cc1702-7fb7-4d56-986e-8b367b5caddc",
   "metadata": {
    "deletable": false,
    "editable": false,
    "slideshow": {
     "slide_type": "notes"
    }
   },
   "source": [
    "Determine the proportion of times that the player would have won if they switched doors."
   ]
  },
  {
   "cell_type": "code",
   "execution_count": null,
   "id": "43ad32ab-4060-45c6-802e-cf772ed578e2",
   "metadata": {
    "slideshow": {
     "slide_type": "subslide"
    },
    "tags": []
   },
   "outputs": [],
   "source": [
    "def switch_to_win(remaining):\n",
    "    if remaining == 'car':\n",
    "        return True\n",
    "    else:\n",
    "        return False"
   ]
  },
  {
   "cell_type": "code",
   "execution_count": null,
   "id": "95eba4dc-ab1e-4c72-a66f-e0a2e8d57d7b",
   "metadata": {
    "slideshow": {
     "slide_type": "fragment"
    },
    "tags": []
   },
   "outputs": [],
   "source": [
    "games = games.with_column(\n",
    "    'Switch to Win', \n",
    "    games.apply(switch_to_win, 'Remaining')\n",
    ")\n",
    "games"
   ]
  },
  {
   "cell_type": "code",
   "execution_count": null,
   "id": "5abd500c-a454-4872-9419-f074701f3559",
   "metadata": {
    "slideshow": {
     "slide_type": "subslide"
    },
    "tags": []
   },
   "outputs": [],
   "source": [
    "switch_to_win_prob = ...\n",
    "switch_to_win_prob"
   ]
  },
  {
   "cell_type": "markdown",
   "id": "0c8de3b0-b6e8-4c62-8247-ec6b51688916",
   "metadata": {},
   "source": [
    "---"
   ]
  },
  {
   "cell_type": "markdown",
   "id": "3e0ae224-f4a7-4b11-93f7-3a0697c9da5c",
   "metadata": {
    "slideshow": {
     "slide_type": "slide"
    }
   },
   "source": [
    "## Probability"
   ]
  },
  {
   "cell_type": "markdown",
   "id": "5e3266f7-7f35-4915-968f-ff9c77ebc65c",
   "metadata": {},
   "source": [
    "---"
   ]
  },
  {
   "cell_type": "markdown",
   "id": "cfc66852-1db3-40c0-a41a-f7d062864c77",
   "metadata": {
    "slideshow": {
     "slide_type": "subslide"
    }
   },
   "source": [
    "### Basics"
   ]
  },
  {
   "cell_type": "markdown",
   "id": "f5fdc349-7ecd-443b-acd3-8c7b1631c078",
   "metadata": {
    "slideshow": {
     "slide_type": "-"
    }
   },
   "source": [
    "* Lowest value: 0 (or 0%) --- Chance of event that is impossible.\n",
    "* Highest value: 1 (or 100%) --- Chance of event that is certain.\n",
    "* Complement: If an event has chance 70%, then the chance that it doesn’t happen is:\n",
    "    * 100% - 70% = 30%\n",
    "    * 1 - 0.7 = 0.3\n"
   ]
  },
  {
   "cell_type": "markdown",
   "id": "6b6f1dd4-76db-4be4-bc72-1cd874c18e3f",
   "metadata": {},
   "source": [
    "---"
   ]
  },
  {
   "cell_type": "markdown",
   "id": "d5ad02a2-36c2-446a-800f-377ff31bf611",
   "metadata": {
    "slideshow": {
     "slide_type": "subslide"
    }
   },
   "source": [
    "### Equally Likely Outcomes"
   ]
  },
  {
   "cell_type": "markdown",
   "id": "677c8c7e-7538-4efd-94be-272e2e5316bb",
   "metadata": {
    "slideshow": {
     "slide_type": "-"
    }
   },
   "source": [
    "Assuming all outcomes are equally likely, the chance of an event $A$ is:\n",
    "                \n",
    "$$P(A) = \\frac{\\text{number of outcomes that make $A$ happen}}{\\text{total number of outcomes}}$$\n",
    "                             \n"
   ]
  },
  {
   "cell_type": "markdown",
   "id": "252c13c0-142a-4b9e-ac00-c13ba2a462af",
   "metadata": {},
   "source": [
    "---"
   ]
  },
  {
   "cell_type": "markdown",
   "id": "3d02834e-92c6-4e0e-8858-8eff8600348d",
   "metadata": {
    "slideshow": {
     "slide_type": "subslide"
    }
   },
   "source": [
    "### A Question"
   ]
  },
  {
   "cell_type": "markdown",
   "id": "b6b4b962-6998-4685-813a-c23884562c35",
   "metadata": {
    "slideshow": {
     "slide_type": "-"
    }
   },
   "source": [
    "Set Up:\n",
    "* There are three cards: ace of hearts, king of diamonds, and queen of spades.\n",
    "* The cards are shuffled and two cards are drawn at random without replacement."
   ]
  },
  {
   "cell_type": "markdown",
   "id": "ce1fb8cf-dda6-4c31-b822-52a4897f4725",
   "metadata": {
    "deletable": false,
    "editable": false
   },
   "source": [
    "What is the chance that I get the Queen followed by the King?"
   ]
  },
  {
   "cell_type": "code",
   "execution_count": null,
   "id": "7a14f86d-71c5-4a61-b571-a3cfdd468ea2",
   "metadata": {
    "slideshow": {
     "slide_type": "fragment"
    },
    "tags": []
   },
   "outputs": [],
   "source": [
    "prob_QK = ...\n",
    "prob_QK"
   ]
  },
  {
   "cell_type": "markdown",
   "id": "677193a1-b350-408a-9948-7e034aeff800",
   "metadata": {},
   "source": [
    "---"
   ]
  },
  {
   "cell_type": "markdown",
   "id": "ab7b28aa-3fdb-44b6-94a0-ff722e146d6b",
   "metadata": {
    "slideshow": {
     "slide_type": "subslide"
    }
   },
   "source": [
    "### An Interpretation"
   ]
  },
  {
   "cell_type": "markdown",
   "id": "aaec9848-74f1-4f02-8b33-17c18a26f072",
   "metadata": {
    "slideshow": {
     "slide_type": "-"
    }
   },
   "source": [
    "[One way](https://en.wikipedia.org/wiki/Frequentist_probability) to interpret that there is an approximately 16.67% chance of selecting a Queen followed by a King is to say that if the situation was repeated many many times, the calculated proportion of Queen-King outcomes narrows in on the value of 0.1667."
   ]
  },
  {
   "cell_type": "code",
   "execution_count": null,
   "id": "b9ae491d-dc5c-4d54-b4dc-90c0bca62621",
   "metadata": {
    "slideshow": {
     "slide_type": "subslide"
    }
   },
   "outputs": [],
   "source": [
    "# Simulation parameters\n",
    "cards = ['A', 'K', 'Q']\n",
    "max_reps = 2500\n",
    "steps = 25\n",
    "successes = make_array()\n",
    "\n",
    "# Simulate the situation -- Takes a few seconds to run\n",
    "for reps in np.arange(1, max_reps + 1, steps):\n",
    "    outcomes = make_array()\n",
    "    for _ in np.arange(reps - 1):\n",
    "        random_outcome = np.random.choice(cards, 2, replace=False)\n",
    "        first_card = random_outcome.item(0)\n",
    "        second_card = random_outcome.item(1)\n",
    "        if first_card == 'Q' and second_card == 'K':\n",
    "            outcomes = np.append(outcomes, True)\n",
    "        else:\n",
    "            outcomes = np.append(outcomes, False)\n",
    "    successes = np.append(successes, sum(outcomes) / reps)"
   ]
  },
  {
   "cell_type": "code",
   "execution_count": null,
   "id": "5d232c73-05a3-42fd-8847-05504ae04936",
   "metadata": {
    "slideshow": {
     "slide_type": "subslide"
    }
   },
   "outputs": [],
   "source": [
    "# Visualize the Results\n",
    "Table().with_columns('Repetitions', np.arange(1, max_reps + 1, steps),\n",
    "                     'Queen-King Proportion', successes).plot('Repetitions')\n",
    "plt.plot([0, max_reps], [0.167, 0.167], 'r--', linewidth=2, zorder=-1)\n",
    "plt.ylim(0, 0.5)\n",
    "plt.show()"
   ]
  },
  {
   "cell_type": "markdown",
   "id": "c6c17589-20c5-4eaa-84df-90beb7981f72",
   "metadata": {},
   "source": [
    "---"
   ]
  },
  {
   "cell_type": "markdown",
   "id": "6b61195a-8fba-40e6-83d7-dcef90216848",
   "metadata": {
    "slideshow": {
     "slide_type": "subslide"
    }
   },
   "source": [
    "### Multiplication Rule"
   ]
  },
  {
   "cell_type": "markdown",
   "id": "3b6618a2-a0d7-4c5a-8b59-7ca32448df6e",
   "metadata": {
    "slideshow": {
     "slide_type": "-"
    }
   },
   "source": [
    "* Chance that two events $A$ and $B$ both happen is $P(\\text{$A$ happens}) \\times P(\\text{$B$ happens given that $A$ has happened})$\n",
    "* The answer is less than or equal to each of the two chances being multiplied\n",
    "* The more conditions you have to satisfy, the less likely you are to satisfy them all\n"
   ]
  },
  {
   "cell_type": "markdown",
   "id": "98762fe7-4a0a-4e5c-841c-23ac1825d59a",
   "metadata": {},
   "source": [
    "---"
   ]
  },
  {
   "cell_type": "markdown",
   "id": "eabb17f4-3048-41a1-bf35-25412d4ae992",
   "metadata": {
    "slideshow": {
     "slide_type": "subslide"
    }
   },
   "source": [
    "### Another Question"
   ]
  },
  {
   "cell_type": "markdown",
   "id": "cd555c99-0444-4e3a-b48d-78792f707ca4",
   "metadata": {
    "slideshow": {
     "slide_type": "-"
    }
   },
   "source": [
    "* Set up:\n",
    "    * There are three cards: ace of hearts, king of diamonds, and queen of spades.\n",
    "    * The cards are shuffled and two cards are drawn at random without replacement.\n",
    "* What is the chance that one of the cards I draw is a King and the other is Queen?\n"
   ]
  },
  {
   "cell_type": "markdown",
   "id": "e8dd973a-2c6e-4f34-8a2b-4260b0c58efc",
   "metadata": {},
   "source": [
    "---"
   ]
  },
  {
   "cell_type": "markdown",
   "id": "652b6399-4c85-4570-beb7-db1adb760d9a",
   "metadata": {
    "slideshow": {
     "slide_type": "subslide"
    }
   },
   "source": [
    "### Demo: Addition Rule"
   ]
  },
  {
   "cell_type": "code",
   "execution_count": null,
   "id": "ba934322-3b71-4e62-86d2-66e5130adb53",
   "metadata": {
    "slideshow": {
     "slide_type": "fragment"
    },
    "tags": []
   },
   "outputs": [],
   "source": [
    "..."
   ]
  },
  {
   "cell_type": "code",
   "execution_count": null,
   "id": "e3b63c74-d7b1-4363-9563-257b7f0b1aaa",
   "metadata": {
    "scrolled": true,
    "slideshow": {
     "slide_type": "subslide"
    },
    "tags": []
   },
   "outputs": [],
   "source": [
    "outcomes = make_array('AK', 'AQ', 'KQ', 'KA', 'QA', 'QK')\n",
    "first_card = make_array('A', 'A', 'K', 'K', 'Q', 'Q')\n",
    "second_card = make_array('K', 'Q', 'Q', 'A', 'A', 'K')\n",
    "Table().with_columns('First Card', first_card,\n",
    "                     'First Card Chance', np.ones(6) / 3,\n",
    "                     'Second Card', second_card,\n",
    "                     'Second Card Chance', np.ones(6) / 2,\n",
    "                     'Outcome', outcomes,\n",
    "                     'Outcome Chance', np.ones(6) / 6\n",
    "                    )"
   ]
  },
  {
   "cell_type": "markdown",
   "id": "75f173f2-a0bf-49c2-afc4-5fbe8a75c940",
   "metadata": {},
   "source": [
    "---"
   ]
  },
  {
   "cell_type": "markdown",
   "id": "0b5ac276-78a3-408f-a857-8e7ca13468ea",
   "metadata": {
    "deletable": false,
    "editable": false,
    "slideshow": {
     "slide_type": "notes"
    }
   },
   "source": [
    "Notice that there are two rows (possibilities) with the outcome of interest."
   ]
  },
  {
   "cell_type": "code",
   "execution_count": null,
   "id": "29e6b43e-6372-49be-99b8-8905613992e5",
   "metadata": {
    "slideshow": {
     "slide_type": "subslide"
    },
    "tags": []
   },
   "outputs": [],
   "source": [
    "prob_KQ_QK = ...\n",
    "prob_KQ_QK"
   ]
  },
  {
   "cell_type": "markdown",
   "id": "a9cf6e9b-8ed5-4d89-ac81-400997236d6c",
   "metadata": {},
   "source": [
    "---"
   ]
  },
  {
   "cell_type": "markdown",
   "id": "04fe4237-02b5-4d7d-8a19-3fce3b778442",
   "metadata": {
    "slideshow": {
     "slide_type": "subslide"
    }
   },
   "source": [
    "### Addition Rule"
   ]
  },
  {
   "cell_type": "markdown",
   "id": "9e649751-5708-4056-8ea5-a06676cd04a7",
   "metadata": {
    "slideshow": {
     "slide_type": "-"
    }
   },
   "source": [
    "* If event $A$ can happen in exactly one of two ways, then $P(A)  =   P(\\text{first way})  +  P(\\text{second way})$\n",
    "* The answer is greater than or equal to the chance of each individual way"
   ]
  },
  {
   "cell_type": "markdown",
   "id": "91f149ba-8ce2-44d3-b73d-58bd867b67f0",
   "metadata": {},
   "source": [
    "---"
   ]
  },
  {
   "cell_type": "markdown",
   "id": "c16e9f55-3a79-42f8-a53c-9414df4ab817",
   "metadata": {
    "slideshow": {
     "slide_type": "subslide"
    }
   },
   "source": [
    "### Complement: At Least ..."
   ]
  },
  {
   "cell_type": "markdown",
   "id": "c830fe75-0db0-44c6-9124-d61d923ce5b1",
   "metadata": {
    "slideshow": {
     "slide_type": "-"
    }
   },
   "source": [
    "What is the chance of getting at least one head in a certain number of flips of a fair coin?\n",
    "* In 3 tosses:\n",
    "    At least one head means any outcome except $TTT$\n",
    "    * $P(TTT)  =  (1/2) \\times (1/2) \\times (1/2)  =  (1/2)^{3}$\n",
    "    * $P(\\text{at least one head}) = 1 - P(TTT) = 1 - (1/2)^{3} = 87.5\\% $                                           \n",
    "* In 10 tosses: $P(\\text{at least one head}) = 1 - (1/2)^{10} \\approx 99.9\\%$\n"
   ]
  },
  {
   "cell_type": "code",
   "execution_count": null,
   "id": "e246d27d-0550-43b8-bc5d-6c77e48c611e",
   "metadata": {
    "slideshow": {
     "slide_type": "fragment"
    },
    "tags": []
   },
   "outputs": [],
   "source": [
    "prob_at_least_one_head_in_ten = ...\n",
    "prob_at_least_one_head_in_ten "
   ]
  },
  {
   "cell_type": "markdown",
   "id": "22e7ef93-03d3-4b91-bdab-36262a5ad746",
   "metadata": {},
   "source": [
    "---"
   ]
  },
  {
   "cell_type": "markdown",
   "id": "008eb06f-d04a-453f-8856-5f4246d19aad",
   "metadata": {},
   "source": [
    "## Problem-Solving Method"
   ]
  },
  {
   "cell_type": "markdown",
   "id": "e6e80053-b2fe-4fae-8c8f-bccc2e00e331",
   "metadata": {},
   "source": [
    "---"
   ]
  },
  {
   "cell_type": "markdown",
   "id": "1b4a0076-6f95-4e02-8a60-8c9ff0ad9d90",
   "metadata": {},
   "source": [
    "Ask yourself what event must happen on the first trial. \n",
    "* If there's a clear answer (e.g. \"not a six\") whose probability you know, you can most likely use the **multiplication rule**.\n",
    "* If there's no clear answer (e.g. \"could be K or Q, but then the next one would have to be Q or K ...\"), list all the **distinct ways** your event could occur and **add up their chances**.\n",
    "* If the list above is long and complicated, look at the **complement**. If the complement is simpler (e.g. the complement of \"at least one\" is \"none\"), you can find its chance and subtract that from 1."
   ]
  },
  {
   "cell_type": "markdown",
   "id": "822ceb09-33ce-4bfe-9b75-aedec58df465",
   "metadata": {
    "slideshow": {
     "slide_type": "notes"
    }
   },
   "source": [
    "<footer>\n",
    "    <hr>\n",
    "    <p>Adopted from UC Berkeley DATA 8 course materials.</p>\n",
    "    <p>This content is offered under a <a href=\"https://creativecommons.org/licenses/by-nc-sa/4.0/\">CC Attribution Non-Commercial Share Alike</a> license.</p>\n",
    "</footer>"
   ]
  }
 ],
 "metadata": {
  "kernelspec": {
   "display_name": "Python 3 (ipykernel)",
   "language": "python",
   "name": "python3"
  },
  "language_info": {
   "codemirror_mode": {
    "name": "ipython",
    "version": 3
   },
   "file_extension": ".py",
   "mimetype": "text/x-python",
   "name": "python",
   "nbconvert_exporter": "python",
   "pygments_lexer": "ipython3",
   "version": "3.10.12"
  },
  "otter": {
   "OK_FORMAT": true,
   "tests": {}
  }
 },
 "nbformat": 4,
 "nbformat_minor": 5
}
