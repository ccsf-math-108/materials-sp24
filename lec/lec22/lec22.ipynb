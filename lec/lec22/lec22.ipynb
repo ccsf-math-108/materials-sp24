{
 "cells": [
  {
   "cell_type": "markdown",
   "id": "248bc99d-9d9b-4818-87f2-95f32d3a3100",
   "metadata": {
    "editable": true,
    "slideshow": {
     "slide_type": ""
    },
    "tags": []
   },
   "source": [
    "<div style=\"width: 38.5%;\">\n",
    "    <p><strong>City College of San Francisco</strong><p>\n",
    "    <hr>\n",
    "    <p>MATH 108 - Foundations of Data Science</p>\n",
    "</div>"
   ]
  },
  {
   "cell_type": "markdown",
   "id": "27f2a987-322c-4114-887b-eb3f4d37d6bf",
   "metadata": {
    "slideshow": {
     "slide_type": "-"
    }
   },
   "source": [
    "# Lecture 22: Hypothesis Testing Examples"
   ]
  },
  {
   "cell_type": "markdown",
   "id": "d08bf161-5535-404d-97ac-d7ae5a673257",
   "metadata": {
    "slideshow": {
     "slide_type": "-"
    }
   },
   "source": [
    "Associated Textbook Sections: [12.3](https://inferentialthinking.com/chapters/12/3/Deflategate.html)"
   ]
  },
  {
   "cell_type": "markdown",
   "id": "5c028e5f-02d6-43c0-897d-ff63c694857e",
   "metadata": {
    "slideshow": {
     "slide_type": "slide"
    }
   },
   "source": [
    "<div style=\"width: 38.5%;\">\n",
    "    <p><strong>City College of San Francisco</strong><p>\n",
    "    <hr>\n",
    "    <p>MATH 108 - Foundations of Data Science</p>\n",
    "</div>"
   ]
  },
  {
   "cell_type": "markdown",
   "id": "1d093a20-528b-4b64-b6f2-dd9ef180d9af",
   "metadata": {
    "slideshow": {
     "slide_type": "fragment"
    }
   },
   "source": [
    "---"
   ]
  },
  {
   "cell_type": "markdown",
   "id": "52b3cea8-2a99-4062-a7cb-9d564bc5e971",
   "metadata": {
    "slideshow": {
     "slide_type": "slide"
    }
   },
   "source": [
    "## Outline"
   ]
  },
  {
   "cell_type": "markdown",
   "id": "4ad13d31-79c8-4931-b822-986c87bf003c",
   "metadata": {
    "slideshow": {
     "slide_type": "-"
    }
   },
   "source": [
    "* [Benford's Law](#Benford's-Law)\n",
    "* [Reaction Time](#Reaction-Time)\n",
    "* [Zodiac Signs](#Zodiac-Signs)"
   ]
  },
  {
   "cell_type": "markdown",
   "id": "5b6181ed-f88f-4893-8d7a-7c8bfb45e03b",
   "metadata": {
    "slideshow": {
     "slide_type": "fragment"
    }
   },
   "source": [
    "---"
   ]
  },
  {
   "cell_type": "markdown",
   "id": "fca1350e-2331-4fa6-af86-2465960c95c9",
   "metadata": {
    "slideshow": {
     "slide_type": "slide"
    }
   },
   "source": [
    "## Set Up the Notebook"
   ]
  },
  {
   "cell_type": "code",
   "execution_count": null,
   "id": "3c0b49c4-c6ef-4861-a51e-5d803290a946",
   "metadata": {
    "slideshow": {
     "slide_type": "-"
    }
   },
   "outputs": [],
   "source": [
    "from datascience import *\n",
    "import numpy as np\n",
    "%matplotlib inline\n",
    "import matplotlib.pyplot as plt\n",
    "plt.style.use('fivethirtyeight')"
   ]
  },
  {
   "cell_type": "markdown",
   "id": "25c1f6b8-40d6-42b5-aad6-64d79cbbb155",
   "metadata": {
    "slideshow": {
     "slide_type": "fragment"
    }
   },
   "source": [
    "---"
   ]
  },
  {
   "cell_type": "markdown",
   "id": "885c2586-52d7-4412-901e-d2893d62114b",
   "metadata": {
    "slideshow": {
     "slide_type": "subslide"
    }
   },
   "source": [
    "## Benford's Law"
   ]
  },
  {
   "cell_type": "markdown",
   "id": "d572cd42-b5fa-4ab6-8ab6-ef2bc4077418",
   "metadata": {},
   "source": [
    "> [Benford's law](https://en.wikipedia.org/wiki/Benford%27s_law), also known as the Newcomb-Benford law, the law of anomalous numbers, or the first-digit law, is an observation that in many real-life sets of numerical data, the leading digit is likely to be small. Benford's law tends to apply most accurately to data that span several orders of magnitude. As a rule of thumb, the more orders of magnitude that the data evenly covers, the more accurately Benford's law applies."
   ]
  },
  {
   "cell_type": "markdown",
   "id": "cd1aeab1-56ea-410c-a6b6-d0ded40671b8",
   "metadata": {
    "slideshow": {
     "slide_type": "fragment"
    }
   },
   "source": [
    "---"
   ]
  },
  {
   "cell_type": "markdown",
   "id": "8c9a9e21-7140-44e0-94dc-de693168d3a5",
   "metadata": {
    "slideshow": {
     "slide_type": "notes"
    }
   },
   "source": [
    "Observe the distribution of the first digits of numbers according to Benford's model."
   ]
  },
  {
   "cell_type": "code",
   "execution_count": null,
   "id": "ae3e3fcb-96ef-4fe5-ba5b-a6af30116254",
   "metadata": {
    "slideshow": {
     "slide_type": "subslide"
    }
   },
   "outputs": [],
   "source": [
    "digits = np.arange(1, 10)\n",
    "benford_model = np.log10(1 + 1/digits)\n",
    "benford = Table().with_columns(\n",
    "    'First digit', digits,\n",
    "    'Benford model prob', benford_model)\n",
    "benford"
   ]
  },
  {
   "cell_type": "code",
   "execution_count": null,
   "id": "b3884695-1544-4a41-aab2-b8079b6ba1bd",
   "metadata": {
    "slideshow": {
     "slide_type": "subslide"
    },
    "tags": []
   },
   "outputs": [],
   "source": [
    "benford.barh('First digit')"
   ]
  },
  {
   "cell_type": "markdown",
   "id": "47dfd693-5be9-406b-954d-79ff2b31e711",
   "metadata": {
    "slideshow": {
     "slide_type": "fragment"
    }
   },
   "source": [
    "---"
   ]
  },
  {
   "cell_type": "markdown",
   "id": "fa735ef2-3044-45a0-83d9-c0f81b68047d",
   "metadata": {},
   "source": [
    "### Get First Digit"
   ]
  },
  {
   "cell_type": "markdown",
   "id": "47fedc69-ec87-470b-ba14-958237854048",
   "metadata": {
    "slideshow": {
     "slide_type": "notes"
    }
   },
   "source": [
    "Use bracket notation to get get the first character of a string. \n",
    "\n",
    "_The use of bracket notation here is just for an example. Bracket notation is a common way in Python to obtain information within a collection. This is similar to how we use `.item(0)` with arrays._"
   ]
  },
  {
   "cell_type": "code",
   "execution_count": null,
   "id": "e656ffa2-107e-4794-aa5d-bc1b1d6b669b",
   "metadata": {
    "slideshow": {
     "slide_type": "subslide"
    }
   },
   "outputs": [],
   "source": [
    "a_string = 'data science'\n",
    "a_string[0]"
   ]
  },
  {
   "cell_type": "markdown",
   "id": "ee5db3c4-476d-4052-8254-e143e882d781",
   "metadata": {
    "slideshow": {
     "slide_type": "notes"
    }
   },
   "source": [
    "Try the same thing with an integer."
   ]
  },
  {
   "cell_type": "code",
   "execution_count": null,
   "id": "145636dd-ebfc-4282-aadd-914850c56896",
   "metadata": {
    "slideshow": {
     "slide_type": "fragment"
    }
   },
   "outputs": [],
   "source": [
    "# Uncomment this to see a TypeError\n",
    "an_integer = 1234\n",
    "#an_integer[0]"
   ]
  },
  {
   "cell_type": "markdown",
   "id": "1db53c57-ebb3-4ff6-9e4f-e3c932ca5058",
   "metadata": {
    "slideshow": {
     "slide_type": "notes"
    }
   },
   "source": [
    "Explore the `first_digit` function."
   ]
  },
  {
   "cell_type": "code",
   "execution_count": null,
   "id": "798b40db-a12c-495f-8ac3-e02e0424e593",
   "metadata": {
    "slideshow": {
     "slide_type": "subslide"
    }
   },
   "outputs": [],
   "source": [
    "def first_digit(num):\n",
    "    \"\"\"Returns the first digit of the interger num.\"\"\"\n",
    "    return int(str(num)[0])"
   ]
  },
  {
   "cell_type": "code",
   "execution_count": null,
   "id": "9b16917c-ad46-494a-9152-0d26fe12b81f",
   "metadata": {
    "slideshow": {
     "slide_type": "fragment"
    }
   },
   "outputs": [],
   "source": [
    "first_digit(32)"
   ]
  },
  {
   "cell_type": "markdown",
   "id": "6e7a8458-d88c-4596-a756-8fab09b95e76",
   "metadata": {
    "slideshow": {
     "slide_type": "fragment"
    }
   },
   "source": [
    "---"
   ]
  },
  {
   "cell_type": "markdown",
   "id": "2b154960-8662-48ea-bd71-bf5dede9f290",
   "metadata": {},
   "source": [
    "### County Data"
   ]
  },
  {
   "cell_type": "markdown",
   "id": "c6487621-14b7-449f-a00f-a98adb49dc7d",
   "metadata": {
    "slideshow": {
     "slide_type": "notes"
    }
   },
   "source": [
    "Load the `counties.csv` data. This data contains county population sizes from the 2010 Census."
   ]
  },
  {
   "cell_type": "code",
   "execution_count": null,
   "id": "544ee9c3-67cb-4f58-82bb-606082c16d5e",
   "metadata": {
    "slideshow": {
     "slide_type": "subslide"
    }
   },
   "outputs": [],
   "source": [
    "counties = Table.read_table('counties.csv')\n",
    "counties = counties.where('SUMLEV', 50).select(5,6,9)\\\n",
    "                                       .relabeled(0,'State')\\\n",
    "                                       .relabeled(1,'County')\\\n",
    "                                       .relabeled(2,'Population')\n",
    "\n",
    "counties"
   ]
  },
  {
   "cell_type": "code",
   "execution_count": null,
   "id": "9b760b2a-e6d4-4910-bfb2-31789917b2e1",
   "metadata": {
    "slideshow": {
     "slide_type": "subslide"
    }
   },
   "outputs": [],
   "source": [
    "counties.where('County', 'San Francisco County')"
   ]
  },
  {
   "cell_type": "markdown",
   "id": "700cdd3d-955b-48e7-94a4-5fd06854f3ca",
   "metadata": {
    "slideshow": {
     "slide_type": "fragment"
    }
   },
   "source": [
    "---"
   ]
  },
  {
   "cell_type": "markdown",
   "id": "073260fd-de25-430f-a167-cc09ae4c65b0",
   "metadata": {},
   "source": [
    "### Demo: Benford's Law"
   ]
  },
  {
   "attachments": {},
   "cell_type": "markdown",
   "id": "3675e5bb-7f21-4e79-b56f-5556f0d5357d",
   "metadata": {
    "deletable": false,
    "editable": false,
    "slideshow": {
     "slide_type": "notes"
    }
   },
   "source": [
    "* Apply `first_digit` to add a column to the `counties` table that shows the first digit of the population sizes.\n",
    "* Visually compare the distribution of first digits from the `counties` data and Benford's proportions."
   ]
  },
  {
   "cell_type": "code",
   "execution_count": null,
   "id": "1fb60de6-7815-4f42-925d-f18e863f8112",
   "metadata": {
    "slideshow": {
     "slide_type": "fragment"
    },
    "tags": []
   },
   "outputs": [],
   "source": [
    "first_digits = ...\n",
    "counties = counties.with_column('First digit', first_digits)\n",
    "counties.show(3)"
   ]
  },
  {
   "cell_type": "code",
   "execution_count": null,
   "id": "55068323-30a3-4358-9f0d-18596b3ccfb7",
   "metadata": {
    "slideshow": {
     "slide_type": "subslide"
    },
    "tags": []
   },
   "outputs": [],
   "source": [
    "num_counties = ...\n",
    "by_digit = ...\n",
    "proportions = ...\n",
    "by_digit = by_digit.with_columns(\n",
    "    'Proportion', proportions,\n",
    "    'Benford proportion', benford_model\n",
    ")\n",
    "..."
   ]
  },
  {
   "cell_type": "markdown",
   "id": "1a23825b-3cf8-4a0b-92a8-c49662c3cbba",
   "metadata": {
    "slideshow": {
     "slide_type": "fragment"
    }
   },
   "source": [
    "---"
   ]
  },
  {
   "cell_type": "markdown",
   "id": "741963ec-de3c-4b6e-aee4-7a18fd8596a7",
   "metadata": {
    "slideshow": {
     "slide_type": "notes"
    }
   },
   "source": [
    "Test whether or not the distribution of proportions in `counties` is consistent with Benford's model."
   ]
  },
  {
   "attachments": {},
   "cell_type": "markdown",
   "id": "68c97a5f-fbb6-4b91-8248-8ae049fcbf23",
   "metadata": {
    "slideshow": {
     "slide_type": "subslide"
    }
   },
   "source": [
    "Null hypothesis: ...\n",
    "\n",
    "Alternative hypothesis: ...\n",
    "\n",
    "Test statistic: ...\n",
    "\n",
    "Fill in the ... with \"Bigger\" or \"Smaller\":\n",
    "\n",
    "... values of the test statistic favor the alternative"
   ]
  },
  {
   "cell_type": "markdown",
   "id": "ab28ec53-4210-4cd6-ae88-f91d299a6700",
   "metadata": {
    "slideshow": {
     "slide_type": "fragment"
    }
   },
   "source": [
    "---"
   ]
  },
  {
   "cell_type": "markdown",
   "id": "3123647d-28ad-418e-b709-a31bfb4bd18f",
   "metadata": {
    "deletable": false,
    "editable": false
   },
   "source": [
    "Calculate the observed TVD and create a distribution of simulated TVDs under the null hypothesis."
   ]
  },
  {
   "cell_type": "code",
   "execution_count": null,
   "id": "804a0c57-2dd3-4c92-a8b9-d37e991fd0ad",
   "metadata": {
    "tags": []
   },
   "outputs": [],
   "source": [
    "def tvd(arr1, arr2):\n",
    "    ..."
   ]
  },
  {
   "cell_type": "code",
   "execution_count": null,
   "id": "30b014d3-d49e-46dc-99db-cde4abb1ad31",
   "metadata": {
    "slideshow": {
     "slide_type": "subslide"
    },
    "tags": []
   },
   "outputs": [],
   "source": [
    "observed_tvd = ...\n",
    "observed_tvd"
   ]
  },
  {
   "cell_type": "code",
   "execution_count": null,
   "id": "f56a8690-3c7a-4c60-bdf5-b90f932f078d",
   "metadata": {
    "slideshow": {
     "slide_type": "subslide"
    },
    "tags": []
   },
   "outputs": [],
   "source": [
    "..."
   ]
  },
  {
   "cell_type": "code",
   "execution_count": null,
   "id": "c12dced6-2924-4a06-8967-8af3261b4c5a",
   "metadata": {
    "slideshow": {
     "slide_type": "subslide"
    },
    "tags": []
   },
   "outputs": [],
   "source": [
    "simulated_frequencies = sample_proportions(num_counties, benford_model)\n",
    "..."
   ]
  },
  {
   "cell_type": "code",
   "execution_count": null,
   "id": "fea5c2f4-9b0a-49f6-8bc4-05dc91f047e5",
   "metadata": {
    "slideshow": {
     "slide_type": "subslide"
    },
    "tags": []
   },
   "outputs": [],
   "source": [
    "def simulate_county_first_digits():\n",
    "    simulated_frequencies = ...\n",
    "    ..."
   ]
  },
  {
   "cell_type": "code",
   "execution_count": null,
   "id": "039d2210-eff9-4926-bed6-d18898183950",
   "metadata": {
    "slideshow": {
     "slide_type": "subslide"
    },
    "tags": []
   },
   "outputs": [],
   "source": [
    "simulated_tvds = make_array()\n",
    "reps = 10_000\n",
    "\n",
    "for __ in np.arange(reps):\n",
    "    simulated_tvds = ..."
   ]
  },
  {
   "cell_type": "code",
   "execution_count": null,
   "id": "b9b7d583-1bd7-470c-a0d5-aef96073df1b",
   "metadata": {
    "slideshow": {
     "slide_type": "subslide"
    },
    "tags": []
   },
   "outputs": [],
   "source": [
    "Table().with_column('Simulated TVD', simulated_tvds).hist(0)\n",
    "plt.scatter(observed_tvd, 0, color='red', s=60, zorder=3)\n",
    "plt.show()"
   ]
  },
  {
   "cell_type": "code",
   "execution_count": null,
   "id": "a1601e6e-e071-42f9-99ec-44874c913c88",
   "metadata": {
    "slideshow": {
     "slide_type": "fragment"
    },
    "tags": []
   },
   "outputs": [],
   "source": [
    "benfords_p_value = ...\n",
    "benfords_p_value"
   ]
  },
  {
   "cell_type": "markdown",
   "id": "854f7698-319a-40ca-94d9-52f3e602042f",
   "metadata": {
    "slideshow": {
     "slide_type": "fragment"
    }
   },
   "source": [
    "---"
   ]
  },
  {
   "cell_type": "markdown",
   "id": "132d8aa8-0353-41ca-b0aa-c08e36a56bc5",
   "metadata": {
    "slideshow": {
     "slide_type": "slide"
    }
   },
   "source": [
    "## Survey Observations"
   ]
  },
  {
   "cell_type": "markdown",
   "id": "b59198ad-3da9-4738-a990-ffd29e90a14f",
   "metadata": {
    "slideshow": {
     "slide_type": "fragment"
    }
   },
   "source": [
    "* _The following examples use a real data set (Class Survey) along with the hypothesis testing procedure to come to conclusions._\n",
    "* _Keep in mind that data is not from a random sample._\n",
    "* _The conclusions we reach should not be taken too seriously._"
   ]
  },
  {
   "cell_type": "markdown",
   "id": "3a7762d8-a31e-48d0-a481-e09c7f0b4fa1",
   "metadata": {
    "slideshow": {
     "slide_type": "fragment"
    }
   },
   "source": [
    "---"
   ]
  },
  {
   "cell_type": "markdown",
   "id": "907b66ef-7a88-4621-a1eb-435160bd142a",
   "metadata": {
    "slideshow": {
     "slide_type": "subslide"
    }
   },
   "source": [
    "### Demo: Reaction Time"
   ]
  },
  {
   "cell_type": "markdown",
   "id": "6328f42e-0570-434b-a642-7e8cfd5e84b2",
   "metadata": {
    "deletable": false,
    "editable": false,
    "slideshow": {
     "slide_type": "notes"
    }
   },
   "source": [
    "* Load our class survey data from `survey.csv`.\n",
    "* Explore the relationship between a person's reaction time and whether or not someone has at least a Bachelor's degree.\n",
    "* Remove the rows associated with missing or extreme data values for the relevant columns."
   ]
  },
  {
   "cell_type": "code",
   "execution_count": null,
   "id": "bf528c90-9419-45fa-92d0-7f0e170c863f",
   "metadata": {
    "slideshow": {
     "slide_type": "subslide"
    },
    "tags": []
   },
   "outputs": [],
   "source": [
    "survey = Table.read_table('survey.csv')\n",
    "survey.show(3)"
   ]
  },
  {
   "cell_type": "code",
   "execution_count": null,
   "id": "0ac93f8b-76bb-4261-bf1b-4e2fe5c14fcf",
   "metadata": {
    "slideshow": {
     "slide_type": "subslide"
    },
    "tags": []
   },
   "outputs": [],
   "source": [
    "def is_at_least_bachelors(degree):\n",
    "    ...\n",
    "\n",
    "ed_reaction = (survey.select('reaction_time_ms', 'ed_level')\n",
    "                     .where('reaction_time_ms', are.above_or_equal_to(0))\n",
    "                     .where('ed_level', are.not_equal_to('nan')))\n",
    "                           \n",
    "\n",
    "at_leaset_bachelors = ...\n",
    "ed_reaction = ed_reaction.with_column('at_least_BS', at_leaset_bachelors)\n",
    "\n",
    "ed_reaction = ed_reaction.drop('ed_level')\n",
    "ed_reaction"
   ]
  },
  {
   "cell_type": "code",
   "execution_count": null,
   "id": "43c1a787-d969-4c80-bf76-60b3e3c48ecf",
   "metadata": {
    "slideshow": {
     "slide_type": "fragment"
    },
    "tags": []
   },
   "outputs": [],
   "source": [
    "ed_reaction.group('at_least_BS')"
   ]
  },
  {
   "cell_type": "code",
   "execution_count": null,
   "id": "a8ffb4d4-cbf2-4d53-9970-aa632fc60b5e",
   "metadata": {
    "slideshow": {
     "slide_type": "subslide"
    },
    "tags": []
   },
   "outputs": [],
   "source": [
    "ed_reaction.hist('reaction_time_ms', group='at_least_BS')"
   ]
  },
  {
   "cell_type": "code",
   "execution_count": null,
   "id": "4d3b9c84-948a-42ae-a2bf-649719e197e7",
   "metadata": {
    "tags": []
   },
   "outputs": [],
   "source": [
    "ed_reaction.sort('reaction_time_ms', True)"
   ]
  },
  {
   "cell_type": "code",
   "execution_count": null,
   "id": "fe598616-3f52-48be-9943-1ede88630184",
   "metadata": {
    "tags": []
   },
   "outputs": [],
   "source": [
    "ed_reaction.sort('reaction_time_ms')"
   ]
  },
  {
   "cell_type": "code",
   "execution_count": null,
   "id": "304aa0fb-81f3-488c-9911-7755bb4eca13",
   "metadata": {
    "tags": []
   },
   "outputs": [],
   "source": [
    "ed_reaction = ed_reaction.where('reaction_time_ms', are.between(100, 600))\n",
    "ed_reaction.sort('reaction_time_ms', True)"
   ]
  },
  {
   "cell_type": "code",
   "execution_count": null,
   "id": "0e339965-2567-46b5-ba1c-08ea6cebfedc",
   "metadata": {
    "tags": []
   },
   "outputs": [],
   "source": [
    "ed_reaction.hist('reaction_time_ms', group='at_least_BS')"
   ]
  },
  {
   "cell_type": "code",
   "execution_count": null,
   "id": "915916e0-17bb-4720-821e-fa222a6e27f2",
   "metadata": {
    "slideshow": {
     "slide_type": "subslide"
    },
    "tags": []
   },
   "outputs": [],
   "source": [
    "ed_reaction.group('at_least_BS', np.average)"
   ]
  },
  {
   "cell_type": "markdown",
   "id": "17be00d6-e31a-41e4-a8be-7ba57ebe9368",
   "metadata": {
    "slideshow": {
     "slide_type": "fragment"
    }
   },
   "source": [
    "---"
   ]
  },
  {
   "cell_type": "markdown",
   "id": "f9e4687c-55ba-4380-8d11-88c1fe486d49",
   "metadata": {
    "deletable": false,
    "editable": false,
    "slideshow": {
     "slide_type": "notes"
    }
   },
   "source": [
    "Test whether or not there is a significant difference between the average reaction time for those who play sports or do not."
   ]
  },
  {
   "cell_type": "code",
   "execution_count": null,
   "id": "a67db84b-fb3b-4cd9-ae47-992408ce1bd3",
   "metadata": {
    "slideshow": {
     "slide_type": "subslide"
    },
    "tags": []
   },
   "outputs": [],
   "source": [
    "def compute_test_statistic(tbl):\n",
    "    grouped = ...\n",
    "    avgs = ...\n",
    "    ..."
   ]
  },
  {
   "cell_type": "code",
   "execution_count": null,
   "id": "eba3a427-5e5d-452e-8e72-26b98877dbeb",
   "metadata": {
    "slideshow": {
     "slide_type": "fragment"
    },
    "tags": []
   },
   "outputs": [],
   "source": [
    "obs_test_stat = ...\n",
    "obs_test_stat"
   ]
  },
  {
   "cell_type": "code",
   "execution_count": null,
   "id": "4d50a366-9a92-4959-ab4c-85a465259f95",
   "metadata": {
    "slideshow": {
     "slide_type": "subslide"
    },
    "tags": []
   },
   "outputs": [],
   "source": [
    "random_labels = ed_reaction.sample(with_replacement=False).column('at_least_BS')\n",
    "random_labels"
   ]
  },
  {
   "cell_type": "code",
   "execution_count": null,
   "id": "9c31d24f-cb03-4941-8b58-d379cad24b04",
   "metadata": {
    "slideshow": {
     "slide_type": "subslide"
    },
    "tags": []
   },
   "outputs": [],
   "source": [
    "def simulate_under_null():\n",
    "    random_labels = ...\n",
    "    relabeled_tbl = ...\n",
    "    ...\n"
   ]
  },
  {
   "cell_type": "code",
   "execution_count": null,
   "id": "cc950d74-2d54-4f23-aea0-1ddb0df28f07",
   "metadata": {
    "slideshow": {
     "slide_type": "subslide"
    },
    "tags": []
   },
   "outputs": [],
   "source": [
    "simulated_diffs = make_array()\n",
    "\n",
    "for __ in np.arange(1000):\n",
    "    null_stat = ...\n",
    "    simulated_diffs = np.append(simulated_diffs, null_stat)"
   ]
  },
  {
   "cell_type": "code",
   "execution_count": null,
   "id": "afaeddef-834c-4c3f-b2dc-e16f458b670c",
   "metadata": {
    "slideshow": {
     "slide_type": "subslide"
    },
    "tags": []
   },
   "outputs": [],
   "source": [
    "Table().with_column('Simulated difference', simulated_diffs).hist(0)\n",
    "plt.scatter(obs_test_stat, 0, color='red', s=60, zorder=3)\n",
    "plt.show()"
   ]
  },
  {
   "cell_type": "code",
   "execution_count": null,
   "id": "d2e00c15-244d-40f2-8896-9d4c0c7a10b7",
   "metadata": {
    "slideshow": {
     "slide_type": "fragment"
    },
    "tags": []
   },
   "outputs": [],
   "source": [
    "ed_react_p_value = np.mean(simulated_diffs >= obs_test_stat)\n",
    "ed_react_p_value"
   ]
  },
  {
   "cell_type": "markdown",
   "id": "051d255d-5084-4c6c-80b6-4a42c80c4ec1",
   "metadata": {
    "slideshow": {
     "slide_type": "fragment"
    }
   },
   "source": [
    "---"
   ]
  },
  {
   "cell_type": "markdown",
   "id": "56fd57bf-3a51-4b91-857e-82d1ee97f925",
   "metadata": {
    "slideshow": {
     "slide_type": "slide"
    }
   },
   "source": [
    "### Demo: Zodiac Signs"
   ]
  },
  {
   "cell_type": "markdown",
   "id": "60b2bf64-d7c8-4e4a-9041-85f8d364e7aa",
   "metadata": {
    "slideshow": {
     "slide_type": "fragment"
    }
   },
   "source": [
    "---"
   ]
  },
  {
   "cell_type": "markdown",
   "id": "15573da7-30b3-4146-8352-b1e187c3478d",
   "metadata": {
    "slideshow": {
     "slide_type": "notes"
    }
   },
   "source": [
    "Load the distribution of Zodiac signs in the United States (as found in 2018 from [statisticbrain.com](https://www.statisticbrain.com/zodiac-sign-statistic))."
   ]
  },
  {
   "cell_type": "code",
   "execution_count": null,
   "id": "5f454e65-cd13-4b2e-b72e-9107fa5e61e9",
   "metadata": {
    "slideshow": {
     "slide_type": "subslide"
    }
   },
   "outputs": [],
   "source": [
    "zodiac_distribution = Table.read_table('zodiac_distribution.csv')\n",
    "zodiac_distribution.show()"
   ]
  },
  {
   "cell_type": "code",
   "execution_count": null,
   "id": "2956897b-9ad5-4633-81a4-60e5668ee3fa",
   "metadata": {
    "slideshow": {
     "slide_type": "subslide"
    }
   },
   "outputs": [],
   "source": [
    "zodiac_distribution.barh('Zodiac Sign')"
   ]
  },
  {
   "cell_type": "markdown",
   "id": "c20a50f8-4c19-4166-ad3b-709395738afd",
   "metadata": {
    "slideshow": {
     "slide_type": "fragment"
    }
   },
   "source": [
    "---"
   ]
  },
  {
   "cell_type": "markdown",
   "id": "58ae68ef-5e00-4971-bf7d-b841a099c423",
   "metadata": {
    "deletable": false,
    "editable": false,
    "slideshow": {
     "slide_type": "notes"
    }
   },
   "source": [
    "* Get the birthdays from the survey data.\n",
    "* Remove rows with missing birth dates.\n",
    "* Convert the birthdays to Zodiac signs.\n",
    "* Compare the distribution of Zodiac signs in MATH 108 with the country's distribution."
   ]
  },
  {
   "cell_type": "code",
   "execution_count": null,
   "id": "048c65f8-81e6-4e90-9a92-f560d2ba14a4",
   "metadata": {
    "slideshow": {
     "slide_type": "subslide"
    },
    "tags": []
   },
   "outputs": [],
   "source": [
    "birthdays = survey.select('bday').where('bday', are.not_equal_to('nan'))"
   ]
  },
  {
   "cell_type": "code",
   "execution_count": null,
   "id": "c6a6a373-b959-4de6-92a1-25db8bd10e5e",
   "metadata": {
    "tags": []
   },
   "outputs": [],
   "source": [
    "sample_size = birthdays.num_rows\n",
    "sample_size"
   ]
  },
  {
   "cell_type": "code",
   "execution_count": null,
   "id": "3fcb2b26-b9c5-4208-8998-dd3853a38265",
   "metadata": {
    "tags": []
   },
   "outputs": [],
   "source": [
    "type(birthdays.column(0).item(0))"
   ]
  },
  {
   "cell_type": "code",
   "execution_count": null,
   "id": "7704c469-ef46-49f2-b53d-c7a0c049f571",
   "metadata": {
    "slideshow": {
     "slide_type": "subslide"
    },
    "tags": []
   },
   "outputs": [],
   "source": [
    "def get_zodiac_sign(birthday):\n",
    "    \"\"\"\n",
    "    Given a birthday in the format \"Month/Day\", \n",
    "    returns a string representing the corresponding zodiac sign.\n",
    "    \"\"\"\n",
    "\n",
    "    month, day = birthday.split('/')\n",
    "    month = int(month)\n",
    "    day = int(day)\n",
    "    \n",
    "    if month == 12:\n",
    "        # a more compact way of writing an if statement\n",
    "        astro_sign = 'Sagittarius' if (day < 22) else 'Capricorn' \n",
    "    elif month == 1:\n",
    "        astro_sign = 'Capricorn' if (day < 20) else 'Aquarius'\n",
    "    elif month == 2:\n",
    "        astro_sign = 'Aquarius' if (day < 19) else 'Pisces'\n",
    "    elif month == 3:\n",
    "        astro_sign = 'Pisces' if (day < 21) else 'Aries'\n",
    "    elif month == 4:\n",
    "        astro_sign = 'Aries' if (day < 20) else 'Taurus'\n",
    "    elif month == 5:\n",
    "        astro_sign = 'Taurus' if (day < 21) else 'Gemini'\n",
    "    elif month == 6:\n",
    "        astro_sign = 'Gemini' if (day < 21) else 'Cancer'\n",
    "    elif month == 7:\n",
    "        astro_sign = 'Cancer' if (day < 23) else 'Leo'\n",
    "    elif month == 8:\n",
    "        astro_sign = 'Leo' if (day < 23) else 'Virgo'\n",
    "    elif month == 9:\n",
    "        astro_sign = 'Virgo' if (day < 23) else 'Libra'\n",
    "    elif month == 10:\n",
    "        astro_sign = 'Libra' if (day < 23) else 'Scorpio'\n",
    "    elif month == 11:\n",
    "        astro_sign = 'Scorpio' if (day < 22) else 'Sagittarius'\n",
    "    else:\n",
    "        astro_sign = 'Invalid Date'\n",
    "    return astro_sign"
   ]
  },
  {
   "cell_type": "code",
   "execution_count": null,
   "id": "040dd6af-37e2-47b7-ac31-e72c46e107cd",
   "metadata": {
    "slideshow": {
     "slide_type": "subslide"
    },
    "tags": []
   },
   "outputs": [],
   "source": [
    "def prop_function(count):\n",
    "    \"\"\"Return the count provided as a proportion of the sample size.\"\"\"\n",
    "    return count / sample_size\n",
    "\n",
    "birthdays = birthdays.with_column(\n",
    "    'Zodiac Sign',\n",
    "    birthdays.apply(get_zodiac_sign, 'bday')\n",
    ")\n",
    "\n",
    "birthdays_by_sign = birthdays.group('Zodiac Sign')\n",
    "birthdays_by_sign = birthdays_by_sign.with_column(\n",
    "    'Proportion in MATH 108',\n",
    "    birthdays_by_sign.apply(prop_function, 'count')\n",
    ").drop('count').sort('Zodiac Sign')\n",
    "\n",
    "zodiac = birthdays_by_sign.join('Zodiac Sign', zodiac_distribution)\n",
    "zodiac.show()"
   ]
  },
  {
   "cell_type": "code",
   "execution_count": null,
   "id": "1e724510-99d8-42e6-89f8-e0242369d630",
   "metadata": {
    "tags": []
   },
   "outputs": [],
   "source": [
    "zodiac.barh('Zodiac Sign')"
   ]
  },
  {
   "cell_type": "markdown",
   "id": "8367cf77-1fba-4ff1-b901-f96a4e821fd6",
   "metadata": {
    "slideshow": {
     "slide_type": "fragment"
    }
   },
   "source": [
    "---"
   ]
  },
  {
   "cell_type": "markdown",
   "id": "82daed3a-5209-42d7-93e5-2dbc41b1b1c2",
   "metadata": {
    "deletable": false,
    "editable": false,
    "slideshow": {
     "slide_type": "notes"
    }
   },
   "source": [
    "Run a test to see if there is a significant difference between the distribution of Zodiac signs in the class and the nation."
   ]
  },
  {
   "cell_type": "code",
   "execution_count": null,
   "id": "c80e3c07-67ef-4e3a-ba33-02533d3299fd",
   "metadata": {
    "slideshow": {
     "slide_type": "subslide"
    },
    "tags": []
   },
   "outputs": [],
   "source": [
    "prop_in_108 = zodiac.column('Proportion in MATH 108')\n",
    "prop_in_US = zodiac.column('Proportion of US Population')\n",
    "observed_tvd_zodiac = ...\n",
    "observed_tvd_zodiac"
   ]
  },
  {
   "cell_type": "code",
   "execution_count": null,
   "id": "8e9c3a1e-2659-4a61-a268-c372584e267d",
   "metadata": {
    "slideshow": {
     "slide_type": "subslide"
    },
    "tags": []
   },
   "outputs": [],
   "source": [
    "def simulate_zodiac_proportions():\n",
    "    simulated_proportions = ...\n",
    "    ...\n",
    "\n",
    "simulated_tvds_zodiac = make_array()\n",
    "reps = 10_000\n",
    "\n",
    "for __ in np.arange(reps):\n",
    "    simulated_tvds_zodiac = np.append(simulated_tvds_zodiac, simulate_zodiac_proportions())\n",
    "    \n",
    "Table().with_column('Simulated TVD', simulated_tvds_zodiac).hist(0)\n",
    "plt.scatter(observed_tvd_zodiac, 0, color='red', s=60, zorder=3)\n",
    "plt.show()\n",
    "\n",
    "zodiac_p_value = ...\n",
    "zodiac_p_value"
   ]
  },
  {
   "cell_type": "markdown",
   "id": "8de6d8ad-289c-4906-bc4b-6559ba489f2b",
   "metadata": {
    "slideshow": {
     "slide_type": "fragment"
    }
   },
   "source": [
    "---"
   ]
  },
  {
   "cell_type": "markdown",
   "id": "77ed1105-b3f0-4277-81ca-d8f0ccabfb48",
   "metadata": {
    "slideshow": {
     "slide_type": "subslide"
    }
   },
   "source": [
    "## Test Reflection"
   ]
  },
  {
   "cell_type": "markdown",
   "id": "1d2691c8-0d0f-4961-9b8e-ee48f867de20",
   "metadata": {
    "slideshow": {
     "slide_type": "-"
    }
   },
   "source": [
    "* The p-value for the last test was approximately 68%. 😱\n",
    "* This means that our test results are NOT statistically significant. 🫣\n",
    "* The course Zodiac distribution looks wildly different from the population's distribution.\n",
    "* How can this be? \n",
    "    * Sample size has a pretty big impact. \n",
    "    * Try changing the sample size in `sample_proportions` to 450, instead of the actual sample size of 45."
   ]
  },
  {
   "cell_type": "markdown",
   "id": "39f71faf-c301-4d83-918f-5dcd84488b5e",
   "metadata": {
    "slideshow": {
     "slide_type": "fragment"
    }
   },
   "source": [
    "---"
   ]
  },
  {
   "cell_type": "markdown",
   "id": "aefd40c7-384e-47ad-821f-10c5fcca1add",
   "metadata": {
    "slideshow": {
     "slide_type": "slide"
    }
   },
   "source": [
    "### Hypothesis Test Concerns"
   ]
  },
  {
   "cell_type": "markdown",
   "id": "afe6bfba-3f05-44c9-a5c4-89cc2b53bf0b",
   "metadata": {},
   "source": [
    "The outcome of a hypothesis test can be affected by:\n",
    "* The hypotheses you investigate: \n",
    "    * How do you define your null distribution?\n",
    "* The test statistic you choose: \n",
    "    * How do you measure a difference between samples?\n",
    "* The empirical distribution of the statistic under the null:\n",
    "    * How many times do you simulate under the null distribution?\n",
    "* The data you collected:\n",
    "    * Did you happen to collect a sample that is similar to the population?\n",
    "* The truth:\n",
    "    * If the alternative hypothesis is true, how extreme is the difference?"
   ]
  },
  {
   "cell_type": "markdown",
   "id": "9540d2ba-b4c2-4975-bf5d-cd93770169d9",
   "metadata": {
    "slideshow": {
     "slide_type": "fragment"
    }
   },
   "source": [
    "---"
   ]
  },
  {
   "cell_type": "markdown",
   "id": "39027cf7-19ef-49c6-8189-1ef34184eeee",
   "metadata": {
    "slideshow": {
     "slide_type": "subslide"
    }
   },
   "source": [
    "### Hypothesis Test Effects"
   ]
  },
  {
   "cell_type": "markdown",
   "id": "2ac9577d-0e1b-43d3-ad2f-f6c34cffb707",
   "metadata": {},
   "source": [
    "* Number of simulations: \n",
    "    * large as possible: empirical distribution → true distribution\n",
    "    * No new data needs to be collected (yay!)\n",
    "* Number of observations: \n",
    "    * A larger sample will lead you to reject the null more reliably if the alternative is in fact true.\n",
    "* Difference from the null: \n",
    "    * If truth is similar to the null hypothesis, then even a large sample may not provide enough evidence to reject the null.\n"
   ]
  },
  {
   "cell_type": "markdown",
   "id": "b3839ba5-915b-48b2-bef6-9894c3d496d6",
   "metadata": {
    "slideshow": {
     "slide_type": "fragment"
    }
   },
   "source": [
    "---"
   ]
  },
  {
   "cell_type": "markdown",
   "id": "66b4c247-8755-49a1-8a6b-6852f59f233b",
   "metadata": {
    "slideshow": {
     "slide_type": "notes"
    }
   },
   "source": [
    "<footer>\n",
    "    <p>Adopted from UC Berkeley DATA 8 course materials.</p>\n",
    "    <p>This content is offered under a <a href=\"https://creativecommons.org/licenses/by-nc-sa/4.0/\">CC Attribution Non-Commercial Share Alike</a> license.</p>\n",
    "</footer>"
   ]
  }
 ],
 "metadata": {
  "kernelspec": {
   "display_name": "Python 3 (ipykernel)",
   "language": "python",
   "name": "python3"
  },
  "language_info": {
   "codemirror_mode": {
    "name": "ipython",
    "version": 3
   },
   "file_extension": ".py",
   "mimetype": "text/x-python",
   "name": "python",
   "nbconvert_exporter": "python",
   "pygments_lexer": "ipython3",
   "version": "3.10.12"
  },
  "otter": {
   "OK_FORMAT": true,
   "tests": {}
  }
 },
 "nbformat": 4,
 "nbformat_minor": 5
}
