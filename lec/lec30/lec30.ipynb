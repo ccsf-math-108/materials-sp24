{
 "cells": [
  {
   "cell_type": "markdown",
   "id": "474442ec-12ce-48a2-b6be-c30fde14676f",
   "metadata": {
    "editable": true,
    "slideshow": {
     "slide_type": ""
    },
    "tags": []
   },
   "source": [
    "<div style=\"width: 38.5%;\">\n",
    "    <p><strong>City College of San Francisco</strong><p>\n",
    "    <hr>\n",
    "    <p>MATH 108 - Foundations of Data Science</p>\n",
    "</div>"
   ]
  },
  {
   "cell_type": "markdown",
   "id": "e0975302-b53e-4f0b-a3b4-8125c74c5a61",
   "metadata": {
    "slideshow": {
     "slide_type": "-"
    }
   },
   "source": [
    "# Lecture 30: Correlation"
   ]
  },
  {
   "cell_type": "markdown",
   "id": "e0dba3cc-ccdf-4f2f-953b-311793b40249",
   "metadata": {},
   "source": [
    "Associated Textbook Sections: [15.0, 15.1](https://inferentialthinking.com/chapters/15/1/Correlation.html)"
   ]
  },
  {
   "cell_type": "markdown",
   "id": "c9332416-462c-4ddb-a15a-1f248a9133ed",
   "metadata": {},
   "source": [
    "---"
   ]
  },
  {
   "cell_type": "markdown",
   "id": "fb6372b0-7d83-46bf-ad74-94dcc7bb217f",
   "metadata": {
    "slideshow": {
     "slide_type": "slide"
    }
   },
   "source": [
    "## Outline"
   ]
  },
  {
   "cell_type": "markdown",
   "id": "8ced8da2-37c3-4277-8312-2014bd36d803",
   "metadata": {},
   "source": [
    "* [Prediction](#Prediction)\n",
    "* [Association](#Association)\n",
    "* [Correlation Coefficient](#Correlation-Coefficient)\n",
    "* [Care in Interpretation](#Care-in-Interpretation)"
   ]
  },
  {
   "cell_type": "markdown",
   "id": "e46381ca-1d6a-408f-be4d-67c961c5454d",
   "metadata": {
    "slideshow": {
     "slide_type": "slide"
    }
   },
   "source": [
    "## Set Up the Notebook"
   ]
  },
  {
   "cell_type": "code",
   "execution_count": null,
   "id": "b46b04ee-3d63-4104-b609-17e8ce35f20e",
   "metadata": {
    "slideshow": {
     "slide_type": "-"
    }
   },
   "outputs": [],
   "source": [
    "from datascience import *\n",
    "import numpy as np\n",
    "%matplotlib inline\n",
    "import matplotlib.pyplot as plt\n",
    "plt.style.use('fivethirtyeight')\n",
    "\n",
    "def r_scatter(r):\n",
    "    plt.figure(figsize=(5,5))\n",
    "    \"Generate a scatter plot with a correlation approximately r\"\n",
    "    x = np.random.normal(0, 1, 1000)\n",
    "    z = np.random.normal(0, 1, 1000)\n",
    "    y = r*x + (np.sqrt(1-r**2))*z\n",
    "    plt.scatter(x, y, color='darkblue', s=20)\n",
    "    plt.xlim(-4, 4)\n",
    "    plt.ylim(-4, 4)"
   ]
  },
  {
   "cell_type": "markdown",
   "id": "0000c613-681d-44dd-8fe7-0c673f68f85a",
   "metadata": {
    "slideshow": {
     "slide_type": "fragment"
    }
   },
   "source": [
    "---"
   ]
  },
  {
   "cell_type": "markdown",
   "id": "a7cd44ae-a711-4b02-ac28-2f4ad606931a",
   "metadata": {},
   "source": [
    "## Prediction"
   ]
  },
  {
   "cell_type": "markdown",
   "id": "8c36e6cc-9005-406b-aff8-b65cb11963c8",
   "metadata": {},
   "source": [
    "---"
   ]
  },
  {
   "cell_type": "markdown",
   "id": "f976b8c2-a7f9-4566-ac30-36b71a3d1405",
   "metadata": {},
   "source": [
    "### Guessing the Future"
   ]
  },
  {
   "cell_type": "markdown",
   "id": "67274608-8f0d-4904-a1ae-345af4ca3ac1",
   "metadata": {},
   "source": [
    "* Based on incomplete information\n",
    "* One way of making predictions: \n",
    "    * To predict an outcome for an individual, \n",
    "    * find others who are like that individual\n",
    "    * and whose outcomes you know. \n",
    "    * Use those outcomes as the basis of your prediction.\n"
   ]
  },
  {
   "cell_type": "markdown",
   "id": "33c87086-865e-4d05-9b63-6fbd00b6ca6a",
   "metadata": {},
   "source": [
    "---"
   ]
  },
  {
   "cell_type": "markdown",
   "id": "c17d3c5c-5da1-41f9-8f60-a56fea5d4c77",
   "metadata": {},
   "source": [
    "### Demo: Prediction"
   ]
  },
  {
   "attachments": {},
   "cell_type": "markdown",
   "id": "890428e6-bc18-4e22-9ca0-5fd9b7d229b0",
   "metadata": {
    "deletable": false,
    "editable": false
   },
   "source": [
    "* Load the `galton.csv` data, and visualize the `midparentHeight` and `childHeight` height relationship.\n",
    "* Use the `predict_child` function below to predict a child's height based on a midparent height, and visualize the relationship of these predictions with the `'midparentHeight'` and `'childHeight'` values."
   ]
  },
  {
   "cell_type": "code",
   "execution_count": null,
   "id": "66af344a-ad9f-4795-8e48-59f53463ca0f",
   "metadata": {
    "tags": []
   },
   "outputs": [],
   "source": [
    "heights = (Table.read_table('galton.csv')\n",
    "                .select('midparentHeight', 'childHeight'))\n",
    "heights"
   ]
  },
  {
   "cell_type": "code",
   "execution_count": null,
   "id": "ec54b68e-435f-47ce-8ca5-4f64b9e3e9dd",
   "metadata": {
    "tags": []
   },
   "outputs": [],
   "source": [
    "..."
   ]
  },
  {
   "cell_type": "code",
   "execution_count": null,
   "id": "96454780-4467-4361-a9a7-d7d294e52e2a",
   "metadata": {
    "tags": []
   },
   "outputs": [],
   "source": [
    "def predict_child(h):\n",
    "    \"\"\"Return a prediction of the height of a child \n",
    "    whose parents have a midparent height of h.\n",
    "    \n",
    "    The prediction is the average height of the children \n",
    "    whose midparent height is in the range h plus or minus 0.5 inches.\n",
    "    \"\"\"\n",
    "    \n",
    "    close_points = heights.where('midparentHeight', are.between(h-0.5, h + 0.5))\n",
    "    return close_points.column('childHeight').mean()   "
   ]
  },
  {
   "cell_type": "code",
   "execution_count": null,
   "id": "b51b9b8c-efd9-4632-897f-fbd13fead29a",
   "metadata": {
    "tags": []
   },
   "outputs": [],
   "source": [
    "predicted_child_heights = ...\n",
    "heights_with_predictions = heights.with_column(\n",
    "    'predicted_ChildHeight', predicted_child_heights)"
   ]
  },
  {
   "cell_type": "code",
   "execution_count": null,
   "id": "2517eb00-42ae-4173-9c3d-fce46e517bef",
   "metadata": {
    "tags": []
   },
   "outputs": [],
   "source": [
    "heights_with_predictions.scatter('midparentHeight')"
   ]
  },
  {
   "cell_type": "markdown",
   "id": "f3e58a2a-1def-46a6-a4a4-9b397085ad00",
   "metadata": {},
   "source": [
    "---"
   ]
  },
  {
   "cell_type": "markdown",
   "id": "98bdfc27-f7b6-4936-9fc9-1ac843786cde",
   "metadata": {},
   "source": [
    "## Association"
   ]
  },
  {
   "cell_type": "markdown",
   "id": "1b31e23f-b889-4c21-9d06-3b044f9b330d",
   "metadata": {},
   "source": [
    "---"
   ]
  },
  {
   "cell_type": "markdown",
   "id": "88b2efea-9315-4808-86aa-85e8ae4fb506",
   "metadata": {},
   "source": [
    "### Two Numerical Variables"
   ]
  },
  {
   "cell_type": "markdown",
   "id": "fdfbdb5b-5eec-45a8-b875-93ace066af74",
   "metadata": {},
   "source": [
    "* Trend\n",
    "    * Positive association\n",
    "    * Negative association\n",
    "* Pattern\n",
    "    * Any discernible \"shape\" in the scatter\n",
    "    * Linear vs. Non-linear\n",
    "* **Visualize, then quantify!**\n"
   ]
  },
  {
   "cell_type": "markdown",
   "id": "0d37fa16-9c31-4d48-b83f-f6f9dd549509",
   "metadata": {},
   "source": [
    "---"
   ]
  },
  {
   "cell_type": "markdown",
   "id": "297100ed-f7c4-4742-b8cb-c650eae71976",
   "metadata": {},
   "source": [
    "### Demo: Association"
   ]
  },
  {
   "attachments": {},
   "cell_type": "markdown",
   "id": "b6e2b3c0-8846-4b0e-bebc-807c7c383557",
   "metadata": {
    "deletable": false,
    "editable": false
   },
   "source": [
    "* Load the `hybrid.csv` data on several older hybrid cars.\n",
    "* Visualize the relationship between several of the numerical variables.\n",
    "* Use the `standard_units` function bellow to visualize the relationship between `mpg` and `msrp` in standard units.\n",
    "* Use the `standard_units` function bellow to visualize the relationship between `acceleration` and `msrp` in standard units."
   ]
  },
  {
   "cell_type": "code",
   "execution_count": null,
   "id": "a622f25c-d528-4079-ad27-f4bc258619f2",
   "metadata": {
    "tags": []
   },
   "outputs": [],
   "source": [
    "hybrid = Table.read_table('hybrid.csv')\n",
    "hybrid"
   ]
  },
  {
   "cell_type": "code",
   "execution_count": null,
   "id": "d173febf-bb49-4a35-81a1-cbc8219c9dbe",
   "metadata": {
    "tags": []
   },
   "outputs": [],
   "source": [
    "hybrid.sort('msrp', descending=True)"
   ]
  },
  {
   "cell_type": "code",
   "execution_count": null,
   "id": "5619cc92-0a10-4e22-b77f-bd398a9e1e0c",
   "metadata": {
    "tags": []
   },
   "outputs": [],
   "source": [
    "hybrid.scatter('mpg', 'msrp')"
   ]
  },
  {
   "cell_type": "code",
   "execution_count": null,
   "id": "f9e8947d-05e8-46ab-8f11-ef8d5d8c5fe0",
   "metadata": {
    "tags": []
   },
   "outputs": [],
   "source": [
    "hybrid.scatter('acceleration', 'msrp')"
   ]
  },
  {
   "cell_type": "code",
   "execution_count": null,
   "id": "3c9b3afd-61de-43a9-abfb-5f38cbcd77e6",
   "metadata": {
    "tags": []
   },
   "outputs": [],
   "source": [
    "suv = hybrid.where('class', 'SUV')\n",
    "print(f'There are {suv.num_rows} SUVs in this dataset.')"
   ]
  },
  {
   "cell_type": "code",
   "execution_count": null,
   "id": "2b420c7a-ef12-4b37-8f7a-75d4074bd473",
   "metadata": {
    "tags": []
   },
   "outputs": [],
   "source": [
    "suv.scatter('acceleration', 'msrp')"
   ]
  },
  {
   "cell_type": "code",
   "execution_count": null,
   "id": "a8803956-c715-4a8f-b5b4-63cd49bd3167",
   "metadata": {
    "tags": []
   },
   "outputs": [],
   "source": [
    "suv.scatter('mpg', 'msrp')"
   ]
  },
  {
   "cell_type": "code",
   "execution_count": null,
   "id": "00457429-f617-4fca-947f-a48d61626c23",
   "metadata": {
    "tags": []
   },
   "outputs": [],
   "source": [
    "def standard_units(x):\n",
    "    \"Convert any array of numbers to standard units.\"\n",
    "    ..."
   ]
  },
  {
   "cell_type": "code",
   "execution_count": null,
   "id": "a4fdd291-b0c9-435d-9c21-f634650a76ba",
   "metadata": {
    "tags": []
   },
   "outputs": [],
   "source": [
    "suv_standardized = suv\n",
    "for variable in ['msrp', 'acceleration', 'mpg']:\n",
    "    standardized_variable = standard_units(suv.column(variable))\n",
    "    suv_standardized = suv_standardized.with_column(variable, standardized_variable)\n",
    "suv_standardized"
   ]
  },
  {
   "cell_type": "code",
   "execution_count": null,
   "id": "45655aa6-a568-4833-b6af-48178aa2ee8b",
   "metadata": {
    "tags": []
   },
   "outputs": [],
   "source": [
    "suv.scatter('mpg', 'msrp')\n",
    "plt.title('Original Units')\n",
    "suv_standardized.scatter('mpg', 'msrp')\n",
    "plt.title('Standardized Units')\n",
    "plt.xlim(-3, 3)\n",
    "plt.ylim(-3, 3)\n",
    "plt.show()"
   ]
  },
  {
   "cell_type": "code",
   "execution_count": null,
   "id": "36995b60-ca81-4006-9dcf-eb6225e4acd7",
   "metadata": {
    "tags": []
   },
   "outputs": [],
   "source": [
    "suv.scatter('acceleration', 'msrp')\n",
    "plt.title('Original Units')\n",
    "suv_standardized.scatter('acceleration', 'msrp')\n",
    "plt.title('Standardized Units')\n",
    "plt.xlim(-3, 3)\n",
    "plt.ylim(-3, 3)\n",
    "plt.show()"
   ]
  },
  {
   "cell_type": "markdown",
   "id": "5c847eac-61cb-4ce5-9ed9-05baa2a460ce",
   "metadata": {},
   "source": [
    "---"
   ]
  },
  {
   "cell_type": "markdown",
   "id": "dc53bf3b-48e4-4868-b0b6-845a2be31a01",
   "metadata": {},
   "source": [
    "## Correlation Coefficient"
   ]
  },
  {
   "cell_type": "markdown",
   "id": "95c67a52-6a6d-4fb3-bec1-fa0af863e9e3",
   "metadata": {},
   "source": [
    "---"
   ]
  },
  {
   "cell_type": "markdown",
   "id": "0a55d66a-d25b-4887-94b2-3dc7ac73f2b1",
   "metadata": {},
   "source": [
    "### The Correlation Coefficient"
   ]
  },
  {
   "cell_type": "markdown",
   "id": "b8a64c35-907a-416b-81c9-f34e1b7cf897",
   "metadata": {},
   "source": [
    "* Measures linear association\n",
    "* Based on standard units\n",
    "* $-1 \\leq r \\leq 1$\n",
    "    * $r =  1$: scatter is perfect straight line sloping up\n",
    "    * $r = -1$: scatter is perfect straight line sloping down\n",
    "    * $r = 0$: No linear association; *uncorrelated*\n"
   ]
  },
  {
   "cell_type": "markdown",
   "id": "17ca8d2f-ddc3-4287-8a7f-d091fa1fa718",
   "metadata": {},
   "source": [
    "---"
   ]
  },
  {
   "cell_type": "markdown",
   "id": "2408bce9-1ed9-4e00-9f1c-818bacd10f22",
   "metadata": {},
   "source": [
    "### Definition of $r$"
   ]
  },
  {
   "cell_type": "markdown",
   "id": "b8fd52e9-c10a-4cb1-bca3-c435a7f2a88e",
   "metadata": {},
   "source": [
    "* Correlation Coefficient ($r$) = \n",
    "    * average of\n",
    "    * product of\n",
    "    * $x$ in standard units\n",
    "    * and\n",
    "    * $y$ in standard units\n",
    "* Measures how clustered the scatter is around a straight line"
   ]
  },
  {
   "cell_type": "markdown",
   "id": "0bee0d04-172e-4c88-95d2-30cfd8a9e6cd",
   "metadata": {},
   "source": [
    "---"
   ]
  },
  {
   "cell_type": "markdown",
   "id": "00b02cac-d1c4-44ee-b1f9-fe016c3a975c",
   "metadata": {},
   "source": [
    "### Demo: Correlation"
   ]
  },
  {
   "cell_type": "markdown",
   "id": "248b30be-48bd-4589-9548-c43e7950bb74",
   "metadata": {},
   "source": [
    "Demonstrate various scatter plots based on an inputted correlation coefficient using the `r_scatter` function."
   ]
  },
  {
   "cell_type": "code",
   "execution_count": null,
   "id": "7405f5db-3760-452a-9721-0090f5c179aa",
   "metadata": {
    "tags": []
   },
   "outputs": [],
   "source": [
    "..."
   ]
  },
  {
   "cell_type": "markdown",
   "id": "c0eb0849-9f96-4d8c-bd67-487e79dc003e",
   "metadata": {},
   "source": [
    "---"
   ]
  },
  {
   "cell_type": "markdown",
   "id": "7a4f95e7-e129-4ac8-83a9-bd6c5a161059",
   "metadata": {},
   "source": [
    "### Demo: Calculating $r$"
   ]
  },
  {
   "attachments": {},
   "cell_type": "markdown",
   "id": "955ad7e6-443e-4bc9-a082-d4c8af9bd494",
   "metadata": {
    "deletable": false,
    "editable": false
   },
   "source": [
    "* Explore the concept of calculating the $r$ value. \n",
    "* Notice that $r$ is the average of the products of the standard units\n",
    "* Define `correlation` as a function for a given table and x, y column labels."
   ]
  },
  {
   "cell_type": "code",
   "execution_count": null,
   "id": "f97fac09-398b-4d48-88bc-d8a419f63b05",
   "metadata": {
    "tags": []
   },
   "outputs": [],
   "source": [
    "x = np.arange(1, 7, 1)\n",
    "y = make_array(2, 3, 1, 5, 2, 7)\n",
    "t = Table().with_columns(\n",
    "        'x', x,\n",
    "        'y', y)\n",
    "t"
   ]
  },
  {
   "cell_type": "code",
   "execution_count": null,
   "id": "4842b229-e785-43bf-986e-7d5d07519cb7",
   "metadata": {
    "tags": []
   },
   "outputs": [],
   "source": [
    "t.scatter('x', 'y', s=30, color='red')"
   ]
  },
  {
   "cell_type": "code",
   "execution_count": null,
   "id": "c3df6192-63fc-40a0-9ac2-ba99d63c188d",
   "metadata": {
    "tags": []
   },
   "outputs": [],
   "source": [
    "t = t.with_columns(\n",
    "        'x (standard units)', ...,\n",
    "        'y (standard units)', ...)\n",
    "t"
   ]
  },
  {
   "cell_type": "code",
   "execution_count": null,
   "id": "6bf04ed8-eaa7-4d04-a2f3-fce387bf7b11",
   "metadata": {
    "tags": []
   },
   "outputs": [],
   "source": [
    "t = t.with_columns('product of standard units', \n",
    "                   ...)\n",
    "t"
   ]
  },
  {
   "cell_type": "code",
   "execution_count": null,
   "id": "545aef3e-4ae4-495a-bda9-9440002bdc7c",
   "metadata": {
    "tags": []
   },
   "outputs": [],
   "source": [
    "r = ...\n",
    "r"
   ]
  },
  {
   "cell_type": "code",
   "execution_count": null,
   "id": "ed4ffcc3-171a-4424-86cc-b47b599348be",
   "metadata": {
    "tags": []
   },
   "outputs": [],
   "source": [
    "def correlation(t, x, y):\n",
    "    '''t is a table; x and y are column labels'''\n",
    "    x_in_standard_units = ...\n",
    "    y_in_standard_units = ...\n",
    "    return ..."
   ]
  },
  {
   "cell_type": "code",
   "execution_count": null,
   "id": "618384c5-7295-40f4-823e-42ba0390297e",
   "metadata": {
    "tags": []
   },
   "outputs": [],
   "source": [
    "correlation(t, 'x', 'y')"
   ]
  },
  {
   "cell_type": "code",
   "execution_count": null,
   "id": "1718353f-0e5d-4632-ae69-d465a6701b44",
   "metadata": {
    "tags": []
   },
   "outputs": [],
   "source": [
    "correlation(suv, 'mpg', 'msrp')"
   ]
  },
  {
   "cell_type": "code",
   "execution_count": null,
   "id": "6012f247-99c7-486b-8741-a8de016b0b0a",
   "metadata": {
    "tags": []
   },
   "outputs": [],
   "source": [
    "correlation(suv, 'acceleration', 'msrp')"
   ]
  },
  {
   "cell_type": "markdown",
   "id": "3ff5ba3c-6b74-4640-b433-e3add72d0999",
   "metadata": {},
   "source": [
    "---"
   ]
  },
  {
   "cell_type": "markdown",
   "id": "914b8bad-34ba-4e00-8611-488b5e618bd6",
   "metadata": {},
   "source": [
    "## Care in Interpretation"
   ]
  },
  {
   "cell_type": "markdown",
   "id": "9c667cdf-6214-4e7a-993b-b7fad60e52d6",
   "metadata": {},
   "source": [
    "---"
   ]
  },
  {
   "cell_type": "markdown",
   "id": "f96e98a5-47c7-47fb-a3db-cf6f8ebff0d4",
   "metadata": {},
   "source": [
    "### Watch Out For ..."
   ]
  },
  {
   "cell_type": "markdown",
   "id": "6ba142d4-fadd-49d4-9755-a0f6fce4140e",
   "metadata": {},
   "source": [
    "* False conclusions of causation\n",
    "* Nonlinearity\n",
    "* Outliers\n",
    "* Ecological Correlations"
   ]
  },
  {
   "cell_type": "markdown",
   "id": "a7a8df04-a30c-4420-b31d-2275b06847e3",
   "metadata": {},
   "source": [
    "---"
   ]
  },
  {
   "cell_type": "markdown",
   "id": "b06daf0f-bfe9-4f2f-9536-3feab82b7b8e",
   "metadata": {},
   "source": [
    "### Demo: Switching Axes"
   ]
  },
  {
   "cell_type": "markdown",
   "id": "c27636b9-e2b4-4a25-a339-6e79ca274616",
   "metadata": {},
   "source": [
    "Notice that `correlation(t, 'x', 'y') == correlation(t, 'y', 'x')`. This can lead to a false conclusion of causation."
   ]
  },
  {
   "cell_type": "code",
   "execution_count": null,
   "id": "7e310718-f148-481e-94d1-ffcae243e5ab",
   "metadata": {},
   "outputs": [],
   "source": [
    "t.scatter('x', 'y', s=30, color='red')\n",
    "plt.title('y vs x')\n",
    "plt.show()"
   ]
  },
  {
   "cell_type": "code",
   "execution_count": null,
   "id": "c9e2b38a-8316-44cd-872c-c4f2e159d9c1",
   "metadata": {},
   "outputs": [],
   "source": [
    "correlation(t, 'x', 'y')"
   ]
  },
  {
   "cell_type": "code",
   "execution_count": null,
   "id": "bf322354-dc29-4240-a48c-a4cd2ed801a1",
   "metadata": {},
   "outputs": [],
   "source": [
    "t.scatter('y', 'x', s=30, color='red')\n",
    "plt.title('x vs y')\n",
    "plt.show()"
   ]
  },
  {
   "cell_type": "code",
   "execution_count": null,
   "id": "468593d7-0b38-4bd2-a0b7-d8fb70a9d41d",
   "metadata": {},
   "outputs": [],
   "source": [
    "correlation(t, 'y', 'x')"
   ]
  },
  {
   "cell_type": "markdown",
   "id": "1e079739-672b-4a7c-922c-801d2bc52932",
   "metadata": {},
   "source": [
    "---"
   ]
  },
  {
   "cell_type": "markdown",
   "id": "7d04c20f-bfc1-4995-b469-a5e636b9aa03",
   "metadata": {},
   "source": [
    "### Demo: Nonlinearity"
   ]
  },
  {
   "cell_type": "markdown",
   "id": "e4889e09-2d58-46d7-bc26-05a933c1a0a6",
   "metadata": {},
   "source": [
    "Explore the correlation calculation for symmetrical non-linear data."
   ]
  },
  {
   "cell_type": "code",
   "execution_count": null,
   "id": "cf3a5422-69e0-414f-be2d-9903bff247ab",
   "metadata": {},
   "outputs": [],
   "source": [
    "new_x = np.arange(-4, 4.1, 0.5)\n",
    "nonlinear = Table().with_columns(\n",
    "        'x', new_x,\n",
    "        'y', new_x**2)\n",
    "nonlinear.scatter('x', 'y', s=30, color='r')"
   ]
  },
  {
   "cell_type": "code",
   "execution_count": null,
   "id": "b248e7eb-0c71-417a-90de-a7ba9c946382",
   "metadata": {},
   "outputs": [],
   "source": [
    "correlation(nonlinear, 'x', 'y')"
   ]
  },
  {
   "cell_type": "markdown",
   "id": "8b807b2a-8140-4389-8130-44ea128bc4c4",
   "metadata": {},
   "source": [
    "---"
   ]
  },
  {
   "cell_type": "markdown",
   "id": "cb812c93-7fce-4f9e-8657-43781b9a2851",
   "metadata": {},
   "source": [
    "### Demo: Outliers"
   ]
  },
  {
   "cell_type": "markdown",
   "id": "0c7ab297-5fd6-4022-8fa8-0019248ba06c",
   "metadata": {},
   "source": [
    "Notice how 1 outlier can strengthen or weaken an $r$ value depending on its value."
   ]
  },
  {
   "cell_type": "code",
   "execution_count": null,
   "id": "9c732a12-bc41-4033-97f8-3953c9677d7a",
   "metadata": {},
   "outputs": [],
   "source": [
    "line = Table().with_columns(\n",
    "        'x', make_array(1, 2, 3, 4),\n",
    "        'y', make_array(1, 2, 3, 4))\n",
    "line.scatter('x', 'y', s=30, color='r')"
   ]
  },
  {
   "cell_type": "code",
   "execution_count": null,
   "id": "bc825fa6-2651-4996-bebd-7e804d645f5e",
   "metadata": {},
   "outputs": [],
   "source": [
    "correlation(line, 'x', 'y')"
   ]
  },
  {
   "cell_type": "code",
   "execution_count": null,
   "id": "e531c601-1f3c-492e-ad0f-b5ac2b8876e2",
   "metadata": {},
   "outputs": [],
   "source": [
    "outlier = Table().with_columns(\n",
    "        'x', make_array(1, 2, 3, 4, 5),\n",
    "        'y', make_array(1, 2, 3, 4, 0)\n",
    "    )\n",
    "outlier.scatter('x', 'y', s=30, color='r')"
   ]
  },
  {
   "cell_type": "code",
   "execution_count": null,
   "id": "1b00d0e5-b2c6-4b2a-ab79-7d3165b27866",
   "metadata": {},
   "outputs": [],
   "source": [
    "correlation(outlier, 'x', 'y')"
   ]
  },
  {
   "cell_type": "markdown",
   "id": "c0edf1ab-ffc9-479c-ae19-36384a8a08c1",
   "metadata": {},
   "source": [
    "---"
   ]
  },
  {
   "cell_type": "markdown",
   "id": "2340bdd4-f04a-47b0-afbd-17ab2f4bbf3c",
   "metadata": {},
   "source": [
    "### Demo: Ecological Correlations"
   ]
  },
  {
   "cell_type": "markdown",
   "id": "4def9233-a5d4-49e1-9bfc-dae69ce7cd36",
   "metadata": {},
   "source": [
    "Explore an example of SAT scores (`sat2014.csv`) in connection to ecological correlations."
   ]
  },
  {
   "cell_type": "code",
   "execution_count": null,
   "id": "7d4bc38c-30c7-4437-b9e1-11751ef77c0d",
   "metadata": {},
   "outputs": [],
   "source": [
    "sat2014 = Table.read_table('sat2014.csv').sort('State')\n",
    "sat2014"
   ]
  },
  {
   "cell_type": "code",
   "execution_count": null,
   "id": "8f88c1c9-102c-46fa-bc2e-851e7c957f49",
   "metadata": {},
   "outputs": [],
   "source": [
    "sat2014.scatter('Critical Reading', 'Math')"
   ]
  },
  {
   "cell_type": "code",
   "execution_count": null,
   "id": "fc90f61a-5086-48b3-9389-a998208db251",
   "metadata": {},
   "outputs": [],
   "source": [
    "correlation(sat2014, 'Critical Reading', 'Math')"
   ]
  },
  {
   "cell_type": "markdown",
   "id": "b0f922f1-902e-4c4e-af74-893677194a13",
   "metadata": {},
   "source": [
    "* The correlation between aggregated data (e.g., after grouping) may be much higher than the correlation between the underlying variables.\n",
    "* The correlation between these scores at the state level does not translate to the same correlation between the variables at the individual level.\n",
    "* You may see a linear pattern in your data, but you need to consider the factors contributing to the formation of that line."
   ]
  },
  {
   "cell_type": "code",
   "execution_count": null,
   "id": "6bf93f29-6204-46a0-b5f3-a49f2df1101e",
   "metadata": {},
   "outputs": [],
   "source": [
    "import plotly.express as px\n",
    "\n",
    "px.scatter(sat2014.to_df(), x = 'Critical Reading', y = 'Math', \n",
    "           hover_name = 'State', size = 'Participation Rate')"
   ]
  },
  {
   "cell_type": "markdown",
   "id": "49c6ca87-ad1a-4a62-be60-d037b417ba7e",
   "metadata": {
    "slideshow": {
     "slide_type": "fragment"
    }
   },
   "source": [
    "---"
   ]
  },
  {
   "cell_type": "markdown",
   "id": "d48a4394-699d-4ce8-8407-e8d814d19989",
   "metadata": {
    "slideshow": {
     "slide_type": "notes"
    }
   },
   "source": [
    "<footer>\n",
    "    <p>Adopted from UC Berkeley DATA 8 course materials.</p>\n",
    "    <p>This content is offered under a <a href=\"https://creativecommons.org/licenses/by-nc-sa/4.0/\">CC Attribution Non-Commercial Share Alike</a> license.</p>\n",
    "</footer>"
   ]
  }
 ],
 "metadata": {
  "kernelspec": {
   "display_name": "Python 3 (ipykernel)",
   "language": "python",
   "name": "python3"
  },
  "language_info": {
   "codemirror_mode": {
    "name": "ipython",
    "version": 3
   },
   "file_extension": ".py",
   "mimetype": "text/x-python",
   "name": "python",
   "nbconvert_exporter": "python",
   "pygments_lexer": "ipython3",
   "version": "3.10.12"
  },
  "otter": {
   "OK_FORMAT": true,
   "tests": {}
  }
 },
 "nbformat": 4,
 "nbformat_minor": 5
}
