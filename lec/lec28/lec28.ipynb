{
 "cells": [
  {
   "cell_type": "markdown",
   "id": "b440577b-89bb-49ef-b434-d7995ed3aae7",
   "metadata": {
    "editable": true,
    "slideshow": {
     "slide_type": ""
    },
    "tags": []
   },
   "source": [
    "<div style=\"width: 38.5%;\">\n",
    "    <p><strong>City College of San Francisco</strong><p>\n",
    "    <hr>\n",
    "    <p>MATH 108 - Foundations of Data Science</p>\n",
    "</div>"
   ]
  },
  {
   "cell_type": "markdown",
   "id": "f5c08580-3ae3-4068-9b4c-ef8e254ab6f6",
   "metadata": {
    "slideshow": {
     "slide_type": "-"
    }
   },
   "source": [
    "# Lecture 28: Sample Means"
   ]
  },
  {
   "cell_type": "markdown",
   "id": "934a9635-9d09-4e3c-95f8-24c5f0496853",
   "metadata": {
    "slideshow": {
     "slide_type": "-"
    }
   },
   "source": [
    "Associated Textbook Sections: [14.5](https://inferentialthinking.com/chapters/14/5/Variability_of_the_Sample_Mean.html)"
   ]
  },
  {
   "cell_type": "markdown",
   "id": "a142e857-0c8f-4456-bc22-c8602b0ee629",
   "metadata": {},
   "source": [
    "---"
   ]
  },
  {
   "cell_type": "markdown",
   "id": "36d7e206-2599-45d8-8307-6e77aba2f92e",
   "metadata": {
    "slideshow": {
     "slide_type": "slide"
    }
   },
   "source": [
    "## Outline"
   ]
  },
  {
   "cell_type": "markdown",
   "id": "e5f45228-a34c-4338-9b95-5ad3aaaf0cb5",
   "metadata": {},
   "source": [
    "* [Central Limit Theorem](#Central-Limit-Theorem)\n",
    "* [Distribution of the Sample Average](#Distribution-of-the-Sample-Average)\n",
    "* [Center of the Distribution](#Center-of-the-Distribution)\n",
    "* [Variability of the Sample Average](#Variability-of-the-Sample-Average)"
   ]
  },
  {
   "cell_type": "markdown",
   "id": "78e09e4b-cf02-4272-bf8f-4b76f4c56f1e",
   "metadata": {},
   "source": [
    "---"
   ]
  },
  {
   "cell_type": "markdown",
   "id": "b1684729-9e8b-421c-8d91-69f92bf87ac1",
   "metadata": {
    "slideshow": {
     "slide_type": "slide"
    }
   },
   "source": [
    "## Set Up the Notebook"
   ]
  },
  {
   "cell_type": "code",
   "execution_count": null,
   "id": "7191d9ed-efda-4254-a255-94b50920106b",
   "metadata": {
    "slideshow": {
     "slide_type": "-"
    }
   },
   "outputs": [],
   "source": [
    "from datascience import *\n",
    "import numpy as np\n",
    "%matplotlib inline\n",
    "import matplotlib.pyplot as plt\n",
    "plt.style.use('fivethirtyeight')\n",
    "\n",
    "# Re-define function from lec29\n",
    "def standard_units(x):\n",
    "    \"\"\"Convert array x to standard units.\"\"\"\n",
    "    return (x - np.mean(x)) / np.std(x)\n",
    "\n",
    "# To create normally distributed values\n",
    "from scipy.stats import norm"
   ]
  },
  {
   "cell_type": "markdown",
   "id": "637564c0-74d3-4f01-8689-feb9ee0a0bf4",
   "metadata": {
    "slideshow": {
     "slide_type": "fragment"
    }
   },
   "source": [
    "---"
   ]
  },
  {
   "cell_type": "markdown",
   "id": "2482f30c-9121-4452-bae5-77b936b57af7",
   "metadata": {
    "slideshow": {
     "slide_type": "slide"
    }
   },
   "source": [
    "## Central Limit Theorem"
   ]
  },
  {
   "cell_type": "markdown",
   "id": "08910143-8e0c-4fa5-86f9-a999e9e2cb23",
   "metadata": {},
   "source": [
    "---"
   ]
  },
  {
   "cell_type": "markdown",
   "id": "8dc317fa-5137-49e5-9386-1d076d249ebb",
   "metadata": {
    "slideshow": {
     "slide_type": "subslide"
    },
    "tags": []
   },
   "source": [
    "### Sample Averages"
   ]
  },
  {
   "cell_type": "markdown",
   "id": "e96b5a5f-c7ad-4e98-99cb-e4bfa9b4ed12",
   "metadata": {
    "slideshow": {
     "slide_type": "-"
    }
   },
   "source": [
    "* The Central Limit Theorem describes how the normal distribution (a bell-shaped curve) is connected to random sample averages.\n",
    "* We care about sample averages because they estimate population averages."
   ]
  },
  {
   "cell_type": "markdown",
   "id": "6846863b-27ae-4f68-b748-6d863cb45f1e",
   "metadata": {},
   "source": [
    "---"
   ]
  },
  {
   "cell_type": "markdown",
   "id": "41887e8c-3c7d-4182-a8b8-82a34d7549df",
   "metadata": {
    "slideshow": {
     "slide_type": "subslide"
    },
    "tags": []
   },
   "source": [
    "### Central Limit Theorem"
   ]
  },
  {
   "cell_type": "markdown",
   "id": "9c99d278-582f-4cc1-ab98-68289bc8398d",
   "metadata": {
    "slideshow": {
     "slide_type": "-"
    }
   },
   "source": [
    "> If the sample is large, and it is drawn at random with replacement, then regardless of the distribution of the population, the probability distribution of the sample sum (or the sample average) is roughly normal.\n",
    "\n"
   ]
  },
  {
   "cell_type": "markdown",
   "id": "1255e690-170f-4487-aa64-2047fcef6ba2",
   "metadata": {},
   "source": [
    "---"
   ]
  },
  {
   "cell_type": "markdown",
   "id": "e5034fc0-f9aa-4a9b-9c9f-cf7a42f76cdf",
   "metadata": {
    "slideshow": {
     "slide_type": "subslide"
    },
    "tags": []
   },
   "source": [
    "### Demo: Central Limit Theorem"
   ]
  },
  {
   "cell_type": "markdown",
   "id": "62cb27c5-d1f1-45b9-a73a-b8da910ab9a8",
   "metadata": {
    "slideshow": {
     "slide_type": "notes"
    },
    "tags": []
   },
   "source": [
    "* Load the November 2023 flight delay data in `delay.csv` sourced from the [Bureau of Transportation Statistic's Reporting Carrier On-Time Performance Data](https://www.transtats.bts.gov/DL_SelectFields.aspx?gnoyr_VQ=FGJ&QO_fu146_anzr=b0-gvzr). The variable `ARR_DELAY` contains the difference in minutes between scheduled and actual arrival time at the destination airport `DEST`. Early arrivals show negative numbers, and the airline code is expressed in the variable `OP_CARRIER`. \n",
    "* Demonstrate the Central Limit Theorem by showing how the distribution of sample means changes as the sample size increases."
   ]
  },
  {
   "cell_type": "code",
   "execution_count": null,
   "id": "1933e4ed-ae97-4fcf-81e7-2130f096fcbc",
   "metadata": {},
   "outputs": [],
   "source": [
    "sfo = (Table.read_table('delays.csv')\n",
    "            .where('ORIGIN', 'SFO'))\n",
    "nan_filter = np.invert(np.isnan(sfo.column('ARR_DELAY')))\n",
    "sfo = sfo.where(nan_filter)\n",
    "sfo"
   ]
  },
  {
   "cell_type": "code",
   "execution_count": null,
   "id": "daea24e5-3f1a-4bc5-8c2d-f369674b2ed9",
   "metadata": {
    "slideshow": {
     "slide_type": "subslide"
    },
    "tags": []
   },
   "outputs": [],
   "source": [
    "sfo.hist('ARR_DELAY', bins=np.arange(-30, 150, 10))"
   ]
  },
  {
   "cell_type": "code",
   "execution_count": null,
   "id": "9b9c2c7e-19ca-4008-9471-37f69f27a247",
   "metadata": {
    "slideshow": {
     "slide_type": "fragment"
    },
    "tags": []
   },
   "outputs": [],
   "source": [
    "delays = sfo.column('ARR_DELAY')\n",
    "delay_mean = np.mean(delays)\n",
    "delay_sd = np.std(delays)\n",
    "(print(f'The average flight delay was {delay_mean: .2f} \\\n",
    "mins with a standard deviation of {delay_sd:.2f} mins.'))"
   ]
  },
  {
   "cell_type": "code",
   "execution_count": null,
   "id": "5b8fd580-d532-4e26-ac1c-415014a4c5d2",
   "metadata": {
    "slideshow": {
     "slide_type": "subslide"
    },
    "tags": []
   },
   "outputs": [],
   "source": [
    "def one_sample_mean(sample_size):\n",
    "    \"\"\" Takes a sample from the population of flights and computes its mean\"\"\"\n",
    "    sampled_flights = sfo.sample(sample_size)\n",
    "    sampled_delays = sampled_flights.column('ARR_DELAY')\n",
    "    mean_delay = np.mean(sampled_delays)\n",
    "    return mean_delay"
   ]
  },
  {
   "cell_type": "code",
   "execution_count": null,
   "id": "9fa4c20a-6ba0-4577-a4ec-4d4da16ac246",
   "metadata": {
    "slideshow": {
     "slide_type": "fragment"
    },
    "tags": []
   },
   "outputs": [],
   "source": [
    "one_sample_mean(100)"
   ]
  },
  {
   "cell_type": "code",
   "execution_count": null,
   "id": "39126fb3-b069-410e-a90f-a552027580eb",
   "metadata": {
    "slideshow": {
     "slide_type": "subslide"
    },
    "tags": []
   },
   "outputs": [],
   "source": [
    "def ten_thousand_sample_means(sample_size):\n",
    "    means = make_array()\n",
    "    for i in np.arange(1_000):\n",
    "        one_mean = one_sample_mean(sample_size)\n",
    "        means = np.append(means, one_mean)\n",
    "    return means"
   ]
  },
  {
   "cell_type": "code",
   "execution_count": null,
   "id": "36e6d474-f8ee-4c26-9cc0-9f05f729098b",
   "metadata": {
    "slideshow": {
     "slide_type": "subslide"
    },
    "tags": []
   },
   "outputs": [],
   "source": [
    "sample_means_100 = ten_thousand_sample_means(100)\n",
    "Table().with_column('Mean of 100 flight delays', sample_means_100).hist(bins=20)\n",
    "print('Population Average:', delay_mean)"
   ]
  },
  {
   "cell_type": "code",
   "execution_count": null,
   "id": "36f9a826-a789-4fac-89fa-7ef9b1c417d2",
   "metadata": {
    "slideshow": {
     "slide_type": "subslide"
    },
    "tags": []
   },
   "outputs": [],
   "source": [
    "sample_means_400 = ten_thousand_sample_means(400)\n",
    "Table().with_column('Mean of 400 flight delays', sample_means_400).hist(bins=20)\n",
    "print('Population Average:', delay_mean)"
   ]
  },
  {
   "cell_type": "code",
   "execution_count": null,
   "id": "bb3c0525-8f5d-42da-b801-436528d8b551",
   "metadata": {
    "slideshow": {
     "slide_type": "subslide"
    },
    "tags": []
   },
   "outputs": [],
   "source": [
    "sample_means_900 = ten_thousand_sample_means(900)\n",
    "Table().with_column('Mean of 900 flight delays', sample_means_900).hist(bins=20)\n",
    "print('Population Average:', delay_mean)"
   ]
  },
  {
   "cell_type": "markdown",
   "id": "3535e2b0-2e2f-4cfb-99e0-b0203b621823",
   "metadata": {
    "slideshow": {
     "slide_type": "fragment"
    },
    "tags": []
   },
   "source": [
    "---"
   ]
  },
  {
   "cell_type": "markdown",
   "id": "ea88fc7f-e53d-429a-9c0f-896478cb3c01",
   "metadata": {
    "slideshow": {
     "slide_type": "slide"
    }
   },
   "source": [
    "## Distribution of the Sample Average"
   ]
  },
  {
   "cell_type": "markdown",
   "id": "903f895a-96a5-44ea-955b-8fd7e8248dd7",
   "metadata": {},
   "source": [
    "---"
   ]
  },
  {
   "cell_type": "markdown",
   "id": "ff703951-021c-4866-a1e0-2edf1ac4ed08",
   "metadata": {
    "slideshow": {
     "slide_type": "subslide"
    },
    "tags": []
   },
   "source": [
    "### Why is There a Distribution?"
   ]
  },
  {
   "cell_type": "markdown",
   "id": "b00881b0-f8c9-4a68-8c98-a6c21302fd03",
   "metadata": {
    "slideshow": {
     "slide_type": "-"
    }
   },
   "source": [
    "* You have only one random sample, and it has only one average. \n",
    "* But the sample could have come out differently.\n",
    "* And then the sample average might have been different.\n",
    "* So there are many possible sample averages.\n"
   ]
  },
  {
   "cell_type": "code",
   "execution_count": null,
   "id": "6e9fdaba-03c7-473c-84ce-688533d2ac55",
   "metadata": {
    "scrolled": true,
    "slideshow": {
     "slide_type": "fragment"
    },
    "tags": []
   },
   "outputs": [],
   "source": [
    "(print(f\"There are {sfo.num_rows * 400:,} possible \\\n",
    "sample averages for samples of size 400 from this data set.\"))"
   ]
  },
  {
   "cell_type": "markdown",
   "id": "c9916a57-4ad6-4e7b-af3f-648b9427f36d",
   "metadata": {},
   "source": [
    "---"
   ]
  },
  {
   "cell_type": "markdown",
   "id": "10e58a8c-385c-442f-930d-cac93c5a0599",
   "metadata": {
    "slideshow": {
     "slide_type": "subslide"
    },
    "tags": []
   },
   "source": [
    "### Distribution of the Sample Average "
   ]
  },
  {
   "cell_type": "markdown",
   "id": "881110eb-3aba-4e5a-8251-2f8aff1dd92a",
   "metadata": {
    "slideshow": {
     "slide_type": "-"
    }
   },
   "source": [
    "* Imagine all possible random samples of the same size as yours. There are lots of them.\n",
    "* Each of these samples has an average.\n",
    "* The distribution of the sample average is the distribution of the averages of all the possible samples."
   ]
  },
  {
   "cell_type": "markdown",
   "id": "5db4040e-6487-44bb-88b3-2078352e26cb",
   "metadata": {},
   "source": [
    "---"
   ]
  },
  {
   "cell_type": "markdown",
   "id": "8f6698fb-8e8b-48de-896e-b9ad59bffc01",
   "metadata": {
    "slideshow": {
     "slide_type": "subslide"
    },
    "tags": []
   },
   "source": [
    "### Demo: Distribution of the Sample Average"
   ]
  },
  {
   "cell_type": "markdown",
   "id": "13e49026-8ff7-4256-893a-09df452b24bb",
   "metadata": {
    "slideshow": {
     "slide_type": "notes"
    },
    "tags": []
   },
   "source": [
    "Compare the distribution of sample averages for a few different sample sizes."
   ]
  },
  {
   "cell_type": "code",
   "execution_count": null,
   "id": "70f4f4de-c1c8-4e6a-a6dd-89298f71f014",
   "metadata": {},
   "outputs": [],
   "source": [
    "means_tbl = Table().with_columns(\n",
    "    '400', sample_means_400,\n",
    "    '900', sample_means_900)"
   ]
  },
  {
   "cell_type": "code",
   "execution_count": null,
   "id": "1c04c373-5ffa-4643-902b-421b203be51c",
   "metadata": {
    "scrolled": true,
    "slideshow": {
     "slide_type": "subslide"
    },
    "tags": []
   },
   "outputs": [],
   "source": [
    "means_tbl.hist(bins = np.arange(-10, 15, 0.5))\n",
    "plt.title('Distribution of Sample Average')\n",
    "plt.show()"
   ]
  },
  {
   "cell_type": "markdown",
   "id": "bdaf0555-b6b8-41c3-91fd-32c36ef135e5",
   "metadata": {},
   "source": [
    "---"
   ]
  },
  {
   "cell_type": "markdown",
   "id": "3cc82728-8491-4130-9f54-695e6efdcc1e",
   "metadata": {
    "slideshow": {
     "slide_type": "subslide"
    },
    "tags": []
   },
   "source": [
    "### Specifying the Distribution"
   ]
  },
  {
   "cell_type": "markdown",
   "id": "e47728ba-bac0-4820-9be2-84ed90ac21e5",
   "metadata": {
    "slideshow": {
     "slide_type": "-"
    }
   },
   "source": [
    "* Suppose the random sample is large.\n",
    "    * We have seen that the distribution of the sample average is roughly bell shaped.\n",
    "* Important questions remain:\n",
    "    * Where is the center of that bell curve?\n",
    "    * How wide is that bell curve?"
   ]
  },
  {
   "cell_type": "markdown",
   "id": "f94740a1-f744-4282-abab-55263ad5fc9a",
   "metadata": {
    "slideshow": {
     "slide_type": "fragment"
    },
    "tags": []
   },
   "source": [
    "---"
   ]
  },
  {
   "cell_type": "markdown",
   "id": "023e3c6f-121d-43b8-b726-889348a6e616",
   "metadata": {
    "slideshow": {
     "slide_type": "slide"
    }
   },
   "source": [
    "## Center of the Distribution"
   ]
  },
  {
   "cell_type": "markdown",
   "id": "5b24c9e6-909c-415f-9edd-efef5e77656f",
   "metadata": {},
   "source": [
    "---"
   ]
  },
  {
   "cell_type": "markdown",
   "id": "0179a5cd-a784-43db-80ac-918c34b980d1",
   "metadata": {
    "slideshow": {
     "slide_type": "subslide"
    },
    "tags": []
   },
   "source": [
    "###  The Population Average"
   ]
  },
  {
   "cell_type": "markdown",
   "id": "d7d93e31-8b19-4eae-9622-b783275838c1",
   "metadata": {
    "slideshow": {
     "slide_type": "-"
    }
   },
   "source": [
    "The distribution of the sample average is roughly a bell curve centered at the population average."
   ]
  },
  {
   "cell_type": "markdown",
   "id": "eb74b624-a945-442b-aeab-35e9594dead7",
   "metadata": {
    "slideshow": {
     "slide_type": "fragment"
    },
    "tags": []
   },
   "source": [
    "---"
   ]
  },
  {
   "cell_type": "markdown",
   "id": "b1abcb44-6af4-4754-9dae-45b0969366fe",
   "metadata": {
    "slideshow": {
     "slide_type": "slide"
    }
   },
   "source": [
    "## Variability of the Sample Average"
   ]
  },
  {
   "cell_type": "markdown",
   "id": "c03c1350-126a-4fff-acbd-4f2d1e5e6690",
   "metadata": {},
   "source": [
    "---"
   ]
  },
  {
   "cell_type": "markdown",
   "id": "258cab06-3fb0-4809-a9ed-c862ef42541c",
   "metadata": {
    "slideshow": {
     "slide_type": "subslide"
    },
    "tags": []
   },
   "source": [
    "### Why Is This Important?"
   ]
  },
  {
   "cell_type": "markdown",
   "id": "2aff6004-56de-4fe9-9e82-bbdf9b63eeeb",
   "metadata": {
    "slideshow": {
     "slide_type": "-"
    }
   },
   "source": [
    "* Along with the center, the spread helps identify exactly which normal curve is the distribution of the sample average.\n",
    "* The variability of the sample average helps us measure how accurate the sample average is as an estimate of the population average.\n",
    "* If we want a specified level of accuracy, understanding the variability of the sample average helps us work out how large our sample has to be."
   ]
  },
  {
   "cell_type": "markdown",
   "id": "5f3a8a23-b556-4746-b68d-633a57dfd619",
   "metadata": {},
   "source": [
    "---"
   ]
  },
  {
   "cell_type": "markdown",
   "id": "b0c38557-9fed-4f29-9b13-ab31e5a5873b",
   "metadata": {
    "slideshow": {
     "slide_type": "subslide"
    },
    "tags": []
   },
   "source": [
    "### Two Histogram"
   ]
  },
  {
   "cell_type": "markdown",
   "id": "b22d250c-f78c-4f72-88d0-36dd560e65c6",
   "metadata": {},
   "source": [
    "<img src=\"./dist_sample_ave_update.png\" width = 50%>"
   ]
  },
  {
   "cell_type": "markdown",
   "id": "fe134614-9d9e-4330-8ce4-d04c491b4038",
   "metadata": {
    "slideshow": {
     "slide_type": "fragment"
    },
    "tags": []
   },
   "source": [
    "* The gold histogram shows the distribution of 10,000 values, each of which is an average of 900 randomly sampled flight delays.\n",
    "* The blue histogram shows the distribution of 10,000 values, each of which is an average of 400 randomly sampled flight delays.\n",
    "* Both are roughly bell shaped.\n",
    "* The larger the sample size, the narrower the bell."
   ]
  },
  {
   "cell_type": "markdown",
   "id": "9bd5ae8f-ae2f-4ac8-b764-d1d8335fe7c9",
   "metadata": {},
   "source": [
    "---"
   ]
  },
  {
   "cell_type": "markdown",
   "id": "b3aed166-ba07-465d-9291-991d0cd6ee67",
   "metadata": {
    "slideshow": {
     "slide_type": "subslide"
    },
    "tags": []
   },
   "source": [
    "### Demo: The Influence of Sample Size"
   ]
  },
  {
   "cell_type": "markdown",
   "id": "89c65682-6ed5-420a-8120-584ff51ab6be",
   "metadata": {},
   "source": [
    "Re-display the population mean and standard deviation."
   ]
  },
  {
   "cell_type": "code",
   "execution_count": null,
   "id": "4a34aa95-9478-45e2-92fe-cb66b9439bdc",
   "metadata": {
    "slideshow": {
     "slide_type": "fragment"
    },
    "tags": []
   },
   "outputs": [],
   "source": [
    "(print(f'The average flight delay was {delay_mean: .2f} \\\n",
    "mins with a standard deviation of {delay_sd:.2f} mins.'))"
   ]
  },
  {
   "cell_type": "markdown",
   "id": "f062c590-099e-4883-9072-492b9af38c70",
   "metadata": {
    "slideshow": {
     "slide_type": "notes"
    },
    "tags": []
   },
   "source": [
    "* Notice how the sample size impacts the distribution of sample averages.\n",
    "* Additionally, notice how the ratio of the population SD to the sample SD is approximately equal to the square root of the sample size."
   ]
  },
  {
   "cell_type": "code",
   "execution_count": null,
   "id": "66036437-7d9e-409a-860c-e69fb1d1c5c5",
   "metadata": {
    "slideshow": {
     "slide_type": "subslide"
    },
    "tags": []
   },
   "outputs": [],
   "source": [
    "def plot_and_summarize_sample_means(sample_size):\n",
    "    \"\"\"Empirical distribution of random sample means\"\"\"\n",
    "    sample_means = ten_thousand_sample_means(sample_size)\n",
    "    sample_means_tbl = Table().with_column('Sample Means', sample_means)\n",
    "    sample_mean = np.mean(sample_means)\n",
    "    sample_sd = np.std(sample_means)\n",
    "    \n",
    "    # Print some information about the distribution of the sample means\n",
    "    print(\"Sample size: \", sample_size)\n",
    "    print(\"Population mean:\", delay_mean)\n",
    "    print(\"Average of sample means: \", sample_mean)\n",
    "    print(\"Population SD:\", delay_sd)\n",
    "    print(\"SD of sample means:\", sample_sd)\n",
    "    print(\"Ratio of population SD to sample SD:\", delay_sd / sample_sd)\n",
    "    print(\"Square Root of the sample size:\", np.sqrt(sample_size))\n",
    "\n",
    "    # Plot a histogram of the sample means\n",
    "    sample_means_tbl.hist(bins=20)\n",
    "    plt.xlabel('Sample Means')\n",
    "    plt.title('Sample Size ' + str(sample_size))\n",
    "\n",
    "    # Overlay a curve representing the normal distribution\n",
    "    from scipy.stats import norm\n",
    "    x = np.linspace(np.min(sample_means), np.max(sample_means), 100)\n",
    "    y = norm.pdf(x, delay_mean, delay_sd/np.sqrt(sample_size))\n",
    "    plt.plot(x, y, linestyle='--', lw=5, label='Normal Distribution')\n",
    "\n",
    "    # Add a vertical dashed line showing the mean delay\n",
    "    plt.axvline(x=delay_mean, color='black', linestyle='--', lw=2, label='Population Mean')\n",
    "    plt.legend()"
   ]
  },
  {
   "cell_type": "code",
   "execution_count": null,
   "id": "219c03b7-ce3c-4538-8249-0ab4f916e049",
   "metadata": {
    "slideshow": {
     "slide_type": "subslide"
    },
    "tags": []
   },
   "outputs": [],
   "source": [
    "plot_and_summarize_sample_means(100)"
   ]
  },
  {
   "cell_type": "code",
   "execution_count": null,
   "id": "c4e0be07-fcac-4777-b18e-cd4d02bcdeba",
   "metadata": {
    "slideshow": {
     "slide_type": "subslide"
    },
    "tags": []
   },
   "outputs": [],
   "source": [
    "plot_and_summarize_sample_means(400)"
   ]
  },
  {
   "cell_type": "code",
   "execution_count": null,
   "id": "4e2e46b5-af51-47a2-aed8-3df7657d1821",
   "metadata": {
    "slideshow": {
     "slide_type": "subslide"
    },
    "tags": []
   },
   "outputs": [],
   "source": [
    "plot_and_summarize_sample_means(625)"
   ]
  },
  {
   "cell_type": "markdown",
   "id": "196b5abe-bf23-41fc-8928-7f0d8cb138fe",
   "metadata": {},
   "source": [
    "---"
   ]
  },
  {
   "cell_type": "markdown",
   "id": "c16c9dc7-4d10-4d0c-b386-a3e7befb5703",
   "metadata": {
    "slideshow": {
     "slide_type": "subslide"
    },
    "tags": []
   },
   "source": [
    "### Probability of Sample Average"
   ]
  },
  {
   "cell_type": "markdown",
   "id": "e8ef84fb-117a-4512-8f26-ab07c8b6333c",
   "metadata": {},
   "source": [
    "* The distribution of all possible sample averages of a given size is called the distribution of the sample average.\n",
    "* We approximate the distribution of sample averages by an empirical distribution."
   ]
  },
  {
   "cell_type": "markdown",
   "id": "b0e9d6ef-b8c1-4fef-8e9a-69d993701356",
   "metadata": {},
   "source": [
    "---"
   ]
  },
  {
   "cell_type": "markdown",
   "id": "c3756aff-8eeb-49b9-9986-c20eaf19eb9d",
   "metadata": {
    "slideshow": {
     "slide_type": "subslide"
    },
    "tags": []
   },
   "source": [
    "### The Central Limit Theorem"
   ]
  },
  {
   "cell_type": "markdown",
   "id": "f5aae6c2-e99c-4385-bc1f-435b045c1d81",
   "metadata": {
    "slideshow": {
     "slide_type": "-"
    }
   },
   "source": [
    "* If \n",
    "    * the sample is large and \n",
    "    * drawn at random with replacement, \n",
    "* Then, regardless of the distribution of the population, the probability distribution of the sample average:\n",
    "    * is roughly normal\n",
    "    * mean = population mean\n",
    "    * SD = (population SD) / the square root of the sample size\n",
    "    \n",
    "_Note: For this [theory](https://en.wikipedia.org/wiki/Central_limit_theorem), the results are more reliable when the data has been standardized._"
   ]
  },
  {
   "cell_type": "markdown",
   "id": "0fe115e5-a78b-431c-b030-8b2cf941d5db",
   "metadata": {
    "slideshow": {
     "slide_type": "fragment"
    }
   },
   "source": [
    "---"
   ]
  },
  {
   "cell_type": "markdown",
   "id": "6f8139e7-d0a3-4485-b44b-05e04252f4c4",
   "metadata": {
    "slideshow": {
     "slide_type": "notes"
    }
   },
   "source": [
    "<footer>\n",
    "    <p>Adopted from UC Berkeley DATA 8 course materials.</p>\n",
    "    <p>This content is offered under a <a href=\"https://creativecommons.org/licenses/by-nc-sa/4.0/\">CC Attribution Non-Commercial Share Alike</a> license.</p>\n",
    "</footer>"
   ]
  }
 ],
 "metadata": {
  "kernelspec": {
   "display_name": "Python 3 (ipykernel)",
   "language": "python",
   "name": "python3"
  },
  "language_info": {
   "codemirror_mode": {
    "name": "ipython",
    "version": 3
   },
   "file_extension": ".py",
   "mimetype": "text/x-python",
   "name": "python",
   "nbconvert_exporter": "python",
   "pygments_lexer": "ipython3",
   "version": "3.10.12"
  },
  "otter": {
   "OK_FORMAT": true,
   "tests": {}
  }
 },
 "nbformat": 4,
 "nbformat_minor": 5
}
