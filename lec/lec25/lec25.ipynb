{
 "cells": [
  {
   "cell_type": "markdown",
   "id": "03547608-4a0b-4886-851a-b235db2a70d6",
   "metadata": {
    "editable": true,
    "slideshow": {
     "slide_type": ""
    },
    "tags": []
   },
   "source": [
    "<div style=\"width: 38.5%;\">\n",
    "    <p><strong>City College of San Francisco</strong><p>\n",
    "    <hr>\n",
    "    <p>MATH 108 - Foundations of Data Science</p>\n",
    "</div>"
   ]
  },
  {
   "cell_type": "markdown",
   "id": "d4d5bd2f-4f8d-4064-ba72-17dac66c9724",
   "metadata": {
    "slideshow": {
     "slide_type": "-"
    }
   },
   "source": [
    "# Lecture 25: Interpreting Confidence"
   ]
  },
  {
   "cell_type": "markdown",
   "id": "2abaa367-4dd9-4771-a8fd-cd00e74f8be4",
   "metadata": {
    "slideshow": {
     "slide_type": "-"
    }
   },
   "source": [
    "Associated Textbook Sections: [13.3, 13.4](https://inferentialthinking.com/chapters/13/3/Confidence_Intervals.html)"
   ]
  },
  {
   "cell_type": "markdown",
   "id": "ecd77d7b-d88b-48f9-ab13-6703557b17b9",
   "metadata": {
    "slideshow": {
     "slide_type": "slide"
    }
   },
   "source": [
    "## Outline"
   ]
  },
  {
   "cell_type": "markdown",
   "id": "58c5770b-b562-48c1-a36a-d517d93162c9",
   "metadata": {},
   "source": [
    "* [Bootstrap Confidence Intervals](#Bootstrap-Confidence-Intervals)\n",
    "* [Visualizing Confidence](#Visualizing-Confidence)\n",
    "* [Use Methods Appropriately](#Use-Methods-Appropriately)\n",
    "* [Confidence Intervals For Testing](#Confidence-Intervals-For-Testing)"
   ]
  },
  {
   "cell_type": "markdown",
   "id": "0d94b017-57b7-4010-8925-3521135e4d1a",
   "metadata": {
    "slideshow": {
     "slide_type": "slide"
    }
   },
   "source": [
    "## Set Up the Notebook"
   ]
  },
  {
   "cell_type": "code",
   "execution_count": null,
   "id": "40c81017-b19c-494d-b6e1-344c92258440",
   "metadata": {
    "slideshow": {
     "slide_type": "-"
    }
   },
   "outputs": [],
   "source": [
    "from datascience import *\n",
    "import numpy as np\n",
    "%matplotlib inline\n",
    "import matplotlib.pyplot as plt\n",
    "plt.style.use('fivethirtyeight')"
   ]
  },
  {
   "cell_type": "markdown",
   "id": "1786ac78-6572-42cb-bc8d-baaa3b5f3c57",
   "metadata": {
    "slideshow": {
     "slide_type": "fragment"
    }
   },
   "source": [
    "---"
   ]
  },
  {
   "cell_type": "markdown",
   "id": "e0accbba-dabd-4614-8502-43d94f3a8c95",
   "metadata": {},
   "source": [
    "## Bootstrap Confidence Intervals"
   ]
  },
  {
   "cell_type": "markdown",
   "id": "2a44f332-3b7f-4623-839a-220a60601e41",
   "metadata": {
    "slideshow": {
     "slide_type": "fragment"
    }
   },
   "source": [
    "---"
   ]
  },
  {
   "cell_type": "markdown",
   "id": "d6aa5f58-285d-433c-9ed2-171bdac3a992",
   "metadata": {},
   "source": [
    "### Bootstrap the Distribution of a Statistic"
   ]
  },
  {
   "cell_type": "markdown",
   "id": "494c55b8-e320-430a-8c20-7b2ad0405622",
   "metadata": {},
   "source": [
    "Simulation method to estimate the sample distribution of your statistic.\n",
    "\n",
    "<img src=\"./bootstrap_from_pop.png\" alt=\"Creating bootstrap resamples from a random sample from a population.\" width=60%>"
   ]
  },
  {
   "cell_type": "markdown",
   "id": "aafba44b-64e0-40d8-bfaf-0c40170a1d97",
   "metadata": {},
   "source": [
    "<img src=\"./distribution_from_resamples.png\" alt=\"Creating a sampling distribution and confidence interval from the resampled statistics.\" width=60%>"
   ]
  },
  {
   "cell_type": "markdown",
   "id": "9d41af19-4bf4-4ad4-882c-41e6437bd3e5",
   "metadata": {
    "slideshow": {
     "slide_type": "fragment"
    }
   },
   "source": [
    "---"
   ]
  },
  {
   "cell_type": "markdown",
   "id": "84ba48fc-d3b5-435e-9582-68e689db16de",
   "metadata": {},
   "source": [
    "### A Bootstrap Confidence Interval"
   ]
  },
  {
   "cell_type": "markdown",
   "id": "1a38c208-e498-4c3f-9efe-b0fb2ca07976",
   "metadata": {},
   "source": [
    "Construct a 95% confidence interval by taking the 2.5% and (100 - 2.5)% percentiles:\n",
    "\n",
    "<img src=\"./95_ci.png\" alt=\"A 95% C.I. formed from the distribution of resampled statistics.\" width=40%>"
   ]
  },
  {
   "cell_type": "markdown",
   "id": "4b8bd669-9f9d-4c19-9b1c-c7bfd8fffadc",
   "metadata": {
    "slideshow": {
     "slide_type": "fragment"
    }
   },
   "source": [
    "---"
   ]
  },
  {
   "cell_type": "markdown",
   "id": "583f6fd1-372d-4012-910a-98707aac83c3",
   "metadata": {},
   "source": [
    "### The Bootstrap in Words"
   ]
  },
  {
   "cell_type": "markdown",
   "id": "da3ab7b9-c9df-40de-9b2b-ddb4b7ec4442",
   "metadata": {},
   "source": [
    "* From the original sample,\n",
    "    * draw at random\n",
    "    * **with replacement**\n",
    "        * Otherwise you would always get the same sample\n",
    "    * **Use the same sample size** as the original sample\n",
    "        * The size of the new sample has to be the same as the original one, so that estimates are comparable \n",
    "* For each sample, **compute the statistic**\n",
    "* Compute **empirical distribution of the statistics**\n"
   ]
  },
  {
   "cell_type": "markdown",
   "id": "38beb011-5f96-4dd8-aa43-88d02f8f8f69",
   "metadata": {
    "slideshow": {
     "slide_type": "fragment"
    }
   },
   "source": [
    "---"
   ]
  },
  {
   "cell_type": "markdown",
   "id": "8026417a-f383-495d-8cec-8be9a3bc1eef",
   "metadata": {
    "slideshow": {
     "slide_type": "slide"
    }
   },
   "source": [
    "## Visualizing Confidence"
   ]
  },
  {
   "cell_type": "markdown",
   "id": "0b843719-b5eb-430a-a881-9ea33a839645",
   "metadata": {
    "slideshow": {
     "slide_type": "fragment"
    }
   },
   "source": [
    "---"
   ]
  },
  {
   "cell_type": "markdown",
   "id": "5710036e-0165-47de-8961-02129a67d1bf",
   "metadata": {},
   "source": [
    "### 95% Confidence Interval"
   ]
  },
  {
   "cell_type": "markdown",
   "id": "114b2118-7216-49c0-932a-39fb88605bb2",
   "metadata": {},
   "source": [
    "* Interval of estimates of a parameter\n",
    "* Based on random sampling\n",
    "* 95% is called the confidence level\n",
    "    * Could be any percent between 0 and 100\n",
    "    * Higher level means wider intervals\n",
    "* A \"good\" interval is one that contains the parameter\n",
    "* The confidence is in the process that creates the interval:\n",
    "    * It generates a \"good\" interval about 95% of the time.\n"
   ]
  },
  {
   "cell_type": "markdown",
   "id": "ca721e48-fcf3-4c56-a1cc-cb71ee383ccc",
   "metadata": {
    "slideshow": {
     "slide_type": "fragment"
    }
   },
   "source": [
    "---"
   ]
  },
  {
   "cell_type": "markdown",
   "id": "e0f3b5be-d122-4227-b383-c84d939e5446",
   "metadata": {},
   "source": [
    "### The Meaning of 95% Confidence"
   ]
  },
  {
   "cell_type": "markdown",
   "id": "9d31b81e-6d92-404d-8acd-76e0dfd9af59",
   "metadata": {
    "slideshow": {
     "slide_type": "-"
    }
   },
   "source": [
    "> The confidence is in the process that gives the interval: It generates a \"good\" interval about 95% of the time."
   ]
  },
  {
   "cell_type": "markdown",
   "id": "f9968e81-c97e-4c4f-a6fd-3fb46dfcac62",
   "metadata": {
    "slideshow": {
     "slide_type": "subslide"
    }
   },
   "source": [
    "<img src=\"./visualizing_confidence.png\" width=30%>\n",
    "\n",
    "* Each yellow line in the visual represents a confidence interval from a fresh sample from the population.\n",
    "* The red line marks the parameter being estimated by the intervals.\n",
    "* Approximately 95% of the yellow lines intersect the red line."
   ]
  },
  {
   "cell_type": "markdown",
   "id": "527f094f-2e42-45f8-95ea-f347c250162c",
   "metadata": {
    "slideshow": {
     "slide_type": "fragment"
    }
   },
   "source": [
    "---"
   ]
  },
  {
   "cell_type": "markdown",
   "id": "f3605fb3-ec99-4b5d-8d56-808e0da565e8",
   "metadata": {},
   "source": [
    "### Visualizing Confidence"
   ]
  },
  {
   "cell_type": "markdown",
   "id": "eabe6f20-efad-49ad-a9e8-bfa17d63f01e",
   "metadata": {
    "slideshow": {
     "slide_type": "notes"
    }
   },
   "source": [
    "A similar/interactive tool to help visualize the meaning of a confidence interval: [Interpreting Confidence Intervals](https://rpsychologist.com/d3/ci/)\n",
    "\n",
    "* _The Greek letter $\\mu$ is used to symbolize the parameter._\n",
    "* In our class, the sampling distribution comes from the statistics we calculate using bootstrap resamples."
   ]
  },
  {
   "cell_type": "code",
   "execution_count": null,
   "id": "7d6501da-6cef-4c58-b096-f816e130e637",
   "metadata": {},
   "outputs": [],
   "source": [
    "%%html \n",
    "<iframe src=\"https://rpsychologist.com/d3/ci#settings\" width=\"800\" height=\"600\"></iframe>"
   ]
  },
  {
   "cell_type": "markdown",
   "id": "d3c983a6-eae9-4aae-92f8-52bfb6e76b42",
   "metadata": {
    "slideshow": {
     "slide_type": "fragment"
    }
   },
   "source": [
    "---"
   ]
  },
  {
   "cell_type": "markdown",
   "id": "6fb20529-04ea-4ebb-8c58-64b5210bb045",
   "metadata": {
    "slideshow": {
     "slide_type": "slide"
    }
   },
   "source": [
    "## Use Methods Appropriately"
   ]
  },
  {
   "cell_type": "markdown",
   "id": "a2323479-f261-44d6-a8db-b34b1e0b565d",
   "metadata": {
    "slideshow": {
     "slide_type": "fragment"
    }
   },
   "source": [
    "---"
   ]
  },
  {
   "cell_type": "markdown",
   "id": "2924fd40-5447-4870-b674-f1380d5cf442",
   "metadata": {
    "slideshow": {
     "slide_type": "subslide"
    }
   },
   "source": [
    "### When Not to Use Our Bootstrap Method"
   ]
  },
  {
   "cell_type": "markdown",
   "id": "e32b7988-8a13-477a-9e37-4d5729ef1f0f",
   "metadata": {},
   "source": [
    "* If you're trying to estimate any parameter that's greatly affected by rare elements of the population\n",
    "very high or very low percentiles, or min and max\n",
    "* If the probability distribution of your statistic is not roughly bell-shaped (the shape of the empirical distribution will be a clue)\n",
    "* If the original sample is very small"
   ]
  },
  {
   "cell_type": "markdown",
   "id": "f35f14bb-262e-41b5-85a7-e8751354bce1",
   "metadata": {
    "slideshow": {
     "slide_type": "fragment"
    }
   },
   "source": [
    "---"
   ]
  },
  {
   "cell_type": "markdown",
   "id": "c9a26a94-9aea-4b2f-8b93-a235144223e5",
   "metadata": {
    "slideshow": {
     "slide_type": "slide"
    }
   },
   "source": [
    "### Demo: Create a Confidence Interval for Unknown Population Mean"
   ]
  },
  {
   "attachments": {},
   "cell_type": "markdown",
   "id": "48bd37b1-8879-45da-9057-b63367fbb907",
   "metadata": {
    "deletable": false,
    "editable": false,
    "slideshow": {
     "slide_type": "notes"
    }
   },
   "source": [
    "* Load the `baby.csv` data from the Kaiser-supported study on the relationship between smoking during pregnancy and low-weight births.\n",
    "* Visualize the distribution of maternal ages.\n",
    "* Compute the mean age of mothers in the sample."
   ]
  },
  {
   "cell_type": "code",
   "execution_count": null,
   "id": "25b823c0-bf5e-41b0-8b7c-993b1a60a173",
   "metadata": {
    "slideshow": {
     "slide_type": "-"
    },
    "tags": []
   },
   "outputs": [],
   "source": [
    "births = Table.read_table('baby.csv')\n",
    "births"
   ]
  },
  {
   "cell_type": "code",
   "execution_count": null,
   "id": "3cf3bb52-789a-4309-bdc5-e230ff5e10fa",
   "metadata": {
    "slideshow": {
     "slide_type": "subslide"
    },
    "tags": []
   },
   "outputs": [],
   "source": [
    "births.hist('Maternal Age')"
   ]
  },
  {
   "cell_type": "code",
   "execution_count": null,
   "id": "97df250c-90ac-4e55-b81a-ee9ef24e597e",
   "metadata": {
    "slideshow": {
     "slide_type": "fragment"
    },
    "tags": []
   },
   "outputs": [],
   "source": [
    "np.mean(births.column('Maternal Age'))"
   ]
  },
  {
   "cell_type": "markdown",
   "id": "9195fb52-b553-4926-9fcd-2497f86fd182",
   "metadata": {
    "slideshow": {
     "slide_type": "fragment"
    }
   },
   "source": [
    "---"
   ]
  },
  {
   "cell_type": "markdown",
   "id": "e591dfeb-1d4d-47f9-8abf-806388ffe9ed",
   "metadata": {
    "deletable": false,
    "editable": false,
    "slideshow": {
     "slide_type": "subslide"
    }
   },
   "source": [
    "**Question**: What is the mean age of the mothers in the population?"
   ]
  },
  {
   "cell_type": "code",
   "execution_count": null,
   "id": "f8785934-cd34-4230-9377-9266e94637f3",
   "metadata": {
    "slideshow": {
     "slide_type": "subslide"
    },
    "tags": []
   },
   "outputs": [],
   "source": [
    "def one_bootstrap_mean():\n",
    "    resample = ...\n",
    "    ..."
   ]
  },
  {
   "cell_type": "code",
   "execution_count": null,
   "id": "08c268d2-c1a4-4074-b24b-580a5955365c",
   "metadata": {
    "slideshow": {
     "slide_type": "fragment"
    },
    "tags": []
   },
   "outputs": [],
   "source": [
    "num_repetitions = 3_000\n",
    "bstrap_means = make_array()\n",
    "for i in np.arange(num_repetitions):\n",
    "    bstrap_means = np.append(bstrap_means, ...)"
   ]
  },
  {
   "cell_type": "code",
   "execution_count": null,
   "id": "4a46a2a2-c034-453b-a6a2-58d0546b378f",
   "metadata": {
    "slideshow": {
     "slide_type": "fragment"
    },
    "tags": []
   },
   "outputs": [],
   "source": [
    "left = ...\n",
    "right = ...\n",
    "\n",
    "make_array(left, right)"
   ]
  },
  {
   "cell_type": "code",
   "execution_count": null,
   "id": "844034e0-771b-4b0c-af49-0360d20ab7b3",
   "metadata": {
    "slideshow": {
     "slide_type": "subslide"
    },
    "tags": []
   },
   "outputs": [],
   "source": [
    "resampled_means = Table().with_columns(\n",
    "    'Bootstrap Sample Mean', bstrap_means\n",
    ")\n",
    "resampled_means.hist(bins=15)\n",
    "plt.plot([left, right], [0, 0], color='yellow', lw=8)\n",
    "plt.show()\n",
    "print(f\"We are 95% confident that the mean age of the mothers in the population is between {left} and {right} years old.\")"
   ]
  },
  {
   "cell_type": "markdown",
   "id": "e7f57617-790a-4e3f-86de-341db11e9373",
   "metadata": {
    "slideshow": {
     "slide_type": "fragment"
    }
   },
   "source": [
    "---"
   ]
  },
  {
   "cell_type": "markdown",
   "id": "885a57ae-3492-4cfd-804f-2f961ce821bd",
   "metadata": {
    "slideshow": {
     "slide_type": "subslide"
    }
   },
   "source": [
    "### An Incorrect Use"
   ]
  },
  {
   "cell_type": "markdown",
   "id": "faf223b4-6d76-4330-93f7-44042bd157b9",
   "metadata": {},
   "source": [
    "#### Confidence Interval\n",
    "By our calculation, an approximate 95% confidence interval for the average age of the mothers in the population is (26.9, 27.6) years.\n",
    "\n",
    "#### Incorrect Statement\n",
    "About 95% of the mothers in the population were between 26.9 years and 27.6 years old.\n",
    "\n",
    "#### Reasoning\n",
    "We're estimating that their average age is in this interval."
   ]
  },
  {
   "cell_type": "code",
   "execution_count": null,
   "id": "8cda29a9-56a6-460d-8a9c-4f891882b89f",
   "metadata": {
    "slideshow": {
     "slide_type": "subslide"
    },
    "tags": []
   },
   "outputs": [],
   "source": [
    "births.hist('Maternal Age')\n",
    "plt.plot([left, right], [0, 0], color='yellow', lw=8);"
   ]
  },
  {
   "cell_type": "markdown",
   "id": "b0500b8e-af24-4627-b098-5ac599d2461d",
   "metadata": {
    "slideshow": {
     "slide_type": "fragment"
    }
   },
   "source": [
    "---"
   ]
  },
  {
   "cell_type": "markdown",
   "id": "5315d598-0963-4fe6-bc8c-5df420e829a7",
   "metadata": {
    "slideshow": {
     "slide_type": "subslide"
    }
   },
   "source": [
    "### An Incorrect Interpretation"
   ]
  },
  {
   "cell_type": "markdown",
   "id": "c06aebe3-e190-4282-ae2f-af1cf31ed141",
   "metadata": {},
   "source": [
    "#### Confidence Interval\n",
    "An approximate 95% confidence interval for the average age of the mothers in the population is (26.9, 27.6) years.\n",
    "\n",
    "#### Incorrect Statement\n",
    "There is a 0.95 probability that the average age of mothers in the population is in the range 26.9 to 27.6 years.\n",
    "\n",
    "#### Reasoning\n",
    "The parameter is fixed, and the interval (26.9, 27.2) is fixed. The parameter is either in that interval or not. Once you've picked an interval, there's no probability involved."
   ]
  },
  {
   "cell_type": "markdown",
   "id": "fc484c78-d3e3-434c-be08-6d63954d09b4",
   "metadata": {
    "slideshow": {
     "slide_type": "fragment"
    }
   },
   "source": [
    "---"
   ]
  },
  {
   "cell_type": "markdown",
   "id": "1866b70e-7964-4dec-ae51-cabefe7f7c55",
   "metadata": {
    "slideshow": {
     "slide_type": "subslide"
    }
   },
   "source": [
    "### A Correct Interpretation"
   ]
  },
  {
   "cell_type": "markdown",
   "id": "71ad3dc1-43db-487f-bf67-791341739f9d",
   "metadata": {},
   "source": [
    "#### Confidence Interval\n",
    "An approximate 95% confidence interval for the average age of the mothers in the population is (26.9, 27.6) years.\n",
    "\n",
    "#### Correct Statement\n",
    "If we generated confidence intervals in the same way many times, then approximately 95% of the intervals would contain the true average age of mothers in the population."
   ]
  },
  {
   "cell_type": "markdown",
   "id": "0b492202-c7cc-4249-b2ec-bdf248f6c977",
   "metadata": {
    "slideshow": {
     "slide_type": "fragment"
    }
   },
   "source": [
    "---"
   ]
  },
  {
   "cell_type": "markdown",
   "id": "0b8b93ab-8767-4240-9303-35aa5034a002",
   "metadata": {
    "slideshow": {
     "slide_type": "subslide"
    }
   },
   "source": [
    "### Another Correct Interpretation"
   ]
  },
  {
   "cell_type": "markdown",
   "id": "baf14d39-2ae7-44d2-8579-ce7d2741f489",
   "metadata": {},
   "source": [
    "#### Confidence Interval\n",
    "An approximate 95% confidence interval for the average age of the mothers in the population is (26.9, 27.6) years.\n",
    "\n",
    "#### Correct Statement\n",
    "There is a 95% chance the 95% confidence interval calculated from a given **future** sample will contain the average age of the mothers in the population."
   ]
  },
  {
   "cell_type": "markdown",
   "id": "46bc5326-7cbb-4b25-878b-1bede9abb9ed",
   "metadata": {
    "slideshow": {
     "slide_type": "fragment"
    }
   },
   "source": [
    "---"
   ]
  },
  {
   "cell_type": "markdown",
   "id": "05b6c2c0-4466-4f8a-b12f-909383383c10",
   "metadata": {
    "slideshow": {
     "slide_type": "subslide"
    },
    "tags": []
   },
   "source": [
    "### 95% Confidence"
   ]
  },
  {
   "cell_type": "markdown",
   "id": "2e52cabb-1542-40a1-b270-55d4fad7a546",
   "metadata": {},
   "source": [
    "* Interval of estimates of a parameter\n",
    "* Based on random sampling\n",
    "* The process results in a random interval\n",
    "* A \"good\" interval is one that contains the parameter\n",
    "* The confidence is in the process that creates the interval: It generates a \"good\" interval (approximately) 95% of the time.\n"
   ]
  },
  {
   "cell_type": "markdown",
   "id": "fe47af4f-02f2-4cf0-bf27-15302c07c5d6",
   "metadata": {
    "slideshow": {
     "slide_type": "fragment"
    }
   },
   "source": [
    "---"
   ]
  },
  {
   "cell_type": "markdown",
   "id": "be0461a2-5def-4e1a-906f-e2161aa6c640",
   "metadata": {
    "slideshow": {
     "slide_type": "slide"
    }
   },
   "source": [
    "## Confidence Intervals For Testing"
   ]
  },
  {
   "cell_type": "markdown",
   "id": "06159d7f-c1f5-4598-a86e-b40bbb23297a",
   "metadata": {
    "slideshow": {
     "slide_type": "fragment"
    }
   },
   "source": [
    "---"
   ]
  },
  {
   "cell_type": "markdown",
   "id": "312c94d1-f6de-4975-a8df-127043b4a3ca",
   "metadata": {
    "slideshow": {
     "slide_type": "subslide"
    }
   },
   "source": [
    "### Using a CI for Testing"
   ]
  },
  {
   "cell_type": "markdown",
   "id": "347f9ba8-59a1-4a0d-8f66-cc179a37e1b7",
   "metadata": {},
   "source": [
    "* Null hypothesis: $\\text{Population mean} = x$\n",
    "* Alternative hypothesis: $\\text{Population mean} \\neq x$\n",
    "* Cutoff for p-value: p%\n",
    "* Method:\n",
    "    * Construct a (100-p)% confidence interval for the population mean\n",
    "    * Make a decision:\n",
    "        * If x is not in the interval, reject the null\n",
    "        * If x is in the interval, can't reject the null\n"
   ]
  },
  {
   "cell_type": "markdown",
   "id": "a83ed8de-5737-4541-bccc-8c38b9031cbe",
   "metadata": {
    "slideshow": {
     "slide_type": "fragment"
    }
   },
   "source": [
    "---"
   ]
  },
  {
   "cell_type": "markdown",
   "id": "c34f9c47-3806-4fcf-a9d0-16b7527443ff",
   "metadata": {
    "slideshow": {
     "slide_type": "subslide"
    }
   },
   "source": [
    "### Using the Confidence Interval for Testing Hypotheses"
   ]
  },
  {
   "cell_type": "markdown",
   "id": "822ad087-2c6d-4fa3-a33d-b4418b3bc14f",
   "metadata": {},
   "source": [
    "* **Null Hypothesis:** The mean age of mothers in the population is 25 years; the random sample average is different due to chance.\n",
    "* **Alternative Hypothesis:** The mean age of the mothers in the population is not 25 years.\n",
    "* **Cutoff**: Suppose you use the 5% cutoff for the p-value.\n",
    "\n",
    "Since 25 is not in the constructed 95% confidence interval estimate for the mean age (26.9, 27.6), then reject the null hypothesis."
   ]
  },
  {
   "cell_type": "markdown",
   "id": "956cab97-1b8e-4d99-bf73-f74d1bdb6783",
   "metadata": {
    "slideshow": {
     "slide_type": "fragment"
    }
   },
   "source": [
    "---"
   ]
  },
  {
   "cell_type": "markdown",
   "id": "e87950d3-cb0b-4a13-92de-bbaf8263c2f1",
   "metadata": {
    "slideshow": {
     "slide_type": "notes"
    }
   },
   "source": [
    "<footer>\n",
    "    <p>Adopted from UC Berkeley DATA 8 course materials.</p>\n",
    "    <p>This content is offered under a <a href=\"https://creativecommons.org/licenses/by-nc-sa/4.0/\">CC Attribution Non-Commercial Share Alike</a> license.</p>\n",
    "</footer>"
   ]
  },
  {
   "cell_type": "markdown",
   "id": "d8e14bb6-2044-42fc-9abc-e285343666ac",
   "metadata": {
    "slideshow": {
     "slide_type": "fragment"
    }
   },
   "source": [
    "---"
   ]
  },
  {
   "cell_type": "markdown",
   "id": "961050a6-c1ca-4c76-97aa-7476b51bff1e",
   "metadata": {
    "slideshow": {
     "slide_type": "notes"
    }
   },
   "source": [
    "<footer>\n",
    "    <p>Adopted from UC Berkeley DATA 8 course materials.</p>\n",
    "    <p>This content is offered under a <a href=\"https://creativecommons.org/licenses/by-nc-sa/4.0/\">CC Attribution Non-Commercial Share Alike</a> license.</p>\n",
    "</footer>"
   ]
  }
 ],
 "metadata": {
  "kernelspec": {
   "display_name": "Python 3 (ipykernel)",
   "language": "python",
   "name": "python3"
  },
  "language_info": {
   "codemirror_mode": {
    "name": "ipython",
    "version": 3
   },
   "file_extension": ".py",
   "mimetype": "text/x-python",
   "name": "python",
   "nbconvert_exporter": "python",
   "pygments_lexer": "ipython3",
   "version": "3.10.12"
  },
  "otter": {
   "OK_FORMAT": true,
   "tests": {}
  }
 },
 "nbformat": 4,
 "nbformat_minor": 5
}
