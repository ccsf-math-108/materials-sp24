{
 "cells": [
  {
   "cell_type": "markdown",
   "id": "9baedb80-788d-45ef-9342-ed1a5cd307a5",
   "metadata": {
    "editable": true,
    "slideshow": {
     "slide_type": ""
    },
    "tags": []
   },
   "source": [
    "<div style=\"width: 38.5%;\">\n",
    "    <p><strong>City College of San Francisco</strong><p>\n",
    "    <hr>\n",
    "    <p>MATH 108 - Foundations of Data Science</p>\n",
    "</div>"
   ]
  },
  {
   "cell_type": "markdown",
   "id": "2d305cf5-3aaf-45e4-b965-892ee9d07e4e",
   "metadata": {
    "slideshow": {
     "slide_type": "-"
    }
   },
   "source": [
    "# Lecture 36: Classifiers"
   ]
  },
  {
   "cell_type": "markdown",
   "id": "9046670a-de1b-4354-a993-ca5163df5c4f",
   "metadata": {
    "slideshow": {
     "slide_type": "-"
    }
   },
   "source": [
    "Associated Textbook Sections: [17.4 - 17.6](https://inferentialthinking.com/chapters/17/4/Implementing_the_Classifier.html)"
   ]
  },
  {
   "cell_type": "markdown",
   "id": "848c8841-3185-48ac-a7b4-0d57711b986a",
   "metadata": {
    "slideshow": {
     "slide_type": "fragment"
    }
   },
   "source": [
    "---"
   ]
  },
  {
   "cell_type": "markdown",
   "id": "735f8077-60eb-4eb3-aa4a-e1ea424f623c",
   "metadata": {
    "slideshow": {
     "slide_type": "slide"
    }
   },
   "source": [
    "## Outline"
   ]
  },
  {
   "cell_type": "markdown",
   "id": "6eadb953-ebfa-4c89-977f-a28b5d50c0a1",
   "metadata": {},
   "source": [
    "* [Classifiers](#Classifiers)\n",
    "* [Rows](#Rows)\n",
    "* [Distance](#Distance)\n",
    "* [Nearest Neighbors](#Nearest-Neighbors)\n",
    "* [Evaluation](#Evaluation)\n",
    "* [Before Classifying](#Before-Classifying)"
   ]
  },
  {
   "cell_type": "markdown",
   "id": "0073fa5b-b4b3-4e76-ae33-6b0720d6cbb0",
   "metadata": {
    "slideshow": {
     "slide_type": "fragment"
    }
   },
   "source": [
    "---"
   ]
  },
  {
   "cell_type": "markdown",
   "id": "481ca149-5f15-4aed-84a4-3b4763f947db",
   "metadata": {
    "slideshow": {
     "slide_type": "slide"
    }
   },
   "source": [
    "## Set Up the Notebook"
   ]
  },
  {
   "cell_type": "code",
   "execution_count": null,
   "id": "9372da55-2ebd-4b07-89a0-307829163a44",
   "metadata": {},
   "outputs": [],
   "source": [
    "from datascience import *\n",
    "import numpy as np\n",
    "%matplotlib inline\n",
    "import matplotlib.pyplot as plt\n",
    "plt.style.use('fivethirtyeight')\n",
    "\n",
    "from mpl_toolkits.mplot3d import Axes3D\n",
    "\n",
    "ckd = Table.read_table('ckd.csv')\n",
    "ckd = (ckd.relabeled('Blood Glucose Random', 'Glucose')\n",
    "          .select('Glucose', 'Hemoglobin', \n",
    "                  'White Blood Cell Count', 'Class'))\n",
    "\n",
    "patients = Table.read_table('breast-cancer.csv').drop('ID')\n",
    "\n",
    "def randomize_column(a):\n",
    "    return a + np.random.normal(0.0, 0.09, size=len(a))\n",
    "\n",
    "jittered = Table().with_columns([\n",
    "    'Bland Chromatin (jittered)', \n",
    "    randomize_column(patients.column('Bland Chromatin')),\n",
    "    'Single Epithelial Cell Size (jittered)', \n",
    "    randomize_column(\n",
    "        patients.column('Single Epithelial Cell Size')),\n",
    "    'Class',\n",
    "    patients.column('Class')])"
   ]
  },
  {
   "cell_type": "markdown",
   "id": "0bacfffc-7871-4f83-b9d6-dd6b8d64fbff",
   "metadata": {
    "slideshow": {
     "slide_type": "fragment"
    }
   },
   "source": [
    "---"
   ]
  },
  {
   "cell_type": "markdown",
   "id": "344c9fdd-38c9-4f7e-88a3-936d4b8c8f4e",
   "metadata": {
    "slideshow": {
     "slide_type": "slide"
    }
   },
   "source": [
    "## Classifiers"
   ]
  },
  {
   "cell_type": "markdown",
   "id": "1dea4e06-ba5a-445b-8170-ceabcafe12c3",
   "metadata": {
    "slideshow": {
     "slide_type": "fragment"
    }
   },
   "source": [
    "---"
   ]
  },
  {
   "cell_type": "markdown",
   "id": "b9c52c49-504d-44ca-abeb-1bb21a679180",
   "metadata": {
    "slideshow": {
     "slide_type": "slide"
    }
   },
   "source": [
    "### Training a Classifier"
   ]
  },
  {
   "cell_type": "markdown",
   "id": "24b555bc-dcb9-4bac-858b-daa0f84cc112",
   "metadata": {
    "slideshow": {
     "slide_type": "-"
    }
   },
   "source": [
    "<img src=\"./training_classifier.png\" width=80%>"
   ]
  },
  {
   "cell_type": "markdown",
   "id": "dee23caa-42e9-4b4f-8eef-0a1c5a353491",
   "metadata": {
    "slideshow": {
     "slide_type": "slide"
    }
   },
   "source": [
    "### Nearest Neighbor Classifier"
   ]
  },
  {
   "cell_type": "markdown",
   "id": "e6e90c0c-b61a-4721-861b-2ad65e8f2d67",
   "metadata": {
    "slideshow": {
     "slide_type": "-"
    }
   },
   "source": [
    "<img src=\"./nn_classifier.png\" width=80%>"
   ]
  },
  {
   "cell_type": "markdown",
   "id": "c0b3d3c0-f732-417b-9942-1bb92a4fed4b",
   "metadata": {
    "slideshow": {
     "slide_type": "fragment"
    }
   },
   "source": [
    "---"
   ]
  },
  {
   "cell_type": "markdown",
   "id": "613242f3-ee45-4430-886e-df989c326684",
   "metadata": {
    "slideshow": {
     "slide_type": "slide"
    }
   },
   "source": [
    "### The Google Science Fair"
   ]
  },
  {
   "cell_type": "markdown",
   "id": "86083334-1664-4f99-933e-abd1ebc4ef79",
   "metadata": {
    "slideshow": {
     "slide_type": "-"
    }
   },
   "source": [
    "<img src=\"./google_fair.png\" width=60%>\n",
    "\n",
    "[Brittany Wenger](https://edu.google.com/case-studies/brittany-wenger/), a 17-year-old high school student in 2012 won by building a breast cancer classifier with 99% accuracy. \n"
   ]
  },
  {
   "cell_type": "markdown",
   "id": "7aa40146-a756-4bee-a594-208d0dacf8ae",
   "metadata": {
    "slideshow": {
     "slide_type": "fragment"
    }
   },
   "source": [
    "---"
   ]
  },
  {
   "cell_type": "markdown",
   "id": "20173884-3139-4cfa-9fa7-7f28d7f65532",
   "metadata": {},
   "source": [
    "### Demo: Google Science Fair"
   ]
  },
  {
   "attachments": {},
   "cell_type": "markdown",
   "id": "7583dc94-4959-4ac7-916c-1e34b42d25cc",
   "metadata": {
    "deletable": false,
    "editable": false
   },
   "source": [
    "* Load the `breast-cancer.csv` data set that contains various cell measurements and a Class labeling of benign `0` or malignant `1`. This data was manually produced by medical professionals that provided the values for each attribute based on visually inspecting images.\n",
    "* Visualize the relationship between `Bland Chromatin` and `Single Epithelial Cell Size` in order to try and classify the cell. Notice that it doesn't seem like there are hundreds of data points in the scatterplot.\n",
    "* An issue with the data is there are not very many numerical values (they are more like categories/rankings), so there are a lot of repeated data points. The `jittered` table adds some random measurement noise to those data points values."
   ]
  },
  {
   "cell_type": "code",
   "execution_count": null,
   "id": "5e694c92-da88-47e2-add1-cccca8e3d5fd",
   "metadata": {
    "tags": []
   },
   "outputs": [],
   "source": [
    "patients = (Table.read_table('breast-cancer.csv')\n",
    "                 .drop('ID'))\n",
    "patients.show(5)"
   ]
  },
  {
   "cell_type": "code",
   "execution_count": null,
   "id": "a01f3033-e10a-4c3a-9b48-d5cb3911b278",
   "metadata": {
    "tags": []
   },
   "outputs": [],
   "source": [
    "..."
   ]
  },
  {
   "cell_type": "code",
   "execution_count": null,
   "id": "28743685-e92c-4b8c-9238-769924a003aa",
   "metadata": {
    "tags": []
   },
   "outputs": [],
   "source": [
    "patients.scatter('Bland Chromatin', \n",
    "                 'Single Epithelial Cell Size', \n",
    "                 group='Class')"
   ]
  },
  {
   "cell_type": "code",
   "execution_count": null,
   "id": "e7b93561-3b46-48d6-af18-6c046c56637c",
   "metadata": {
    "tags": []
   },
   "outputs": [],
   "source": [
    "jittered.scatter('Bland Chromatin (jittered)', \n",
    "                 'Single Epithelial Cell Size (jittered)', \n",
    "                 group='Class')"
   ]
  },
  {
   "cell_type": "markdown",
   "id": "4d03a909-8880-4e68-b7eb-b46effb94411",
   "metadata": {
    "slideshow": {
     "slide_type": "fragment"
    }
   },
   "source": [
    "---"
   ]
  },
  {
   "cell_type": "markdown",
   "id": "2f3399f3-5e02-4c72-9155-932dc48b49b2",
   "metadata": {
    "slideshow": {
     "slide_type": "slide"
    }
   },
   "source": [
    "## Rows"
   ]
  },
  {
   "cell_type": "markdown",
   "id": "f26cbc0f-2711-463b-8208-169ba1ad80fc",
   "metadata": {
    "slideshow": {
     "slide_type": "fragment"
    }
   },
   "source": [
    "---"
   ]
  },
  {
   "cell_type": "markdown",
   "id": "9c64a825-cce8-4622-af2b-fb500c798851",
   "metadata": {
    "slideshow": {
     "slide_type": "slide"
    }
   },
   "source": [
    "### Rows of Tables"
   ]
  },
  {
   "cell_type": "markdown",
   "id": "10d2b933-a9ba-4fb6-a3ac-16d7d0502c53",
   "metadata": {
    "slideshow": {
     "slide_type": "-"
    }
   },
   "source": [
    "Each row contains all the data for one individual\n",
    "* `t.row(i)` evaluates to `i`th row of table `t`\n",
    "* `t.row(i).item(j)` is the value of column `j` in row `i`\n",
    "* If all values are numbers, then `np.array(t.row(i))` evaluates to an array of all the numbers in the row.  \n",
    "* To consider each row individually, use\n",
    "* `for row in t.rows:`\n",
    "    `... row.item(j) ...`\n",
    "* `t.exclude(i)` evaluates to the table `t` without its `i`th row\n"
   ]
  },
  {
   "cell_type": "markdown",
   "id": "9a303bc0-ad92-4984-9d8c-2db3c5731e48",
   "metadata": {
    "slideshow": {
     "slide_type": "fragment"
    }
   },
   "source": [
    "---"
   ]
  },
  {
   "cell_type": "markdown",
   "id": "53cbcd52-93f5-4ce5-8b48-a23090193d6e",
   "metadata": {
    "slideshow": {
     "slide_type": "slide"
    }
   },
   "source": [
    "## Distance"
   ]
  },
  {
   "cell_type": "markdown",
   "id": "be65f4f3-9ecb-492a-ba0e-a374222bd20b",
   "metadata": {
    "slideshow": {
     "slide_type": "fragment"
    }
   },
   "source": [
    "---"
   ]
  },
  {
   "cell_type": "markdown",
   "id": "59608f1d-2995-4b31-9e37-c2ec275a9585",
   "metadata": {
    "slideshow": {
     "slide_type": "slide"
    }
   },
   "source": [
    "### Pythagoras' Formula"
   ]
  },
  {
   "cell_type": "markdown",
   "id": "acfa1301-2bff-491d-a809-49593a2443d5",
   "metadata": {
    "slideshow": {
     "slide_type": "-"
    }
   },
   "source": [
    "<img src=\"./pyth.png\" width=20%>\n",
    "\n",
    "For a right triangle with legs $a, b$ and hypotenuse $c$, the following relationship is always true: $$a^2 + b^2 = c^2.$$\n"
   ]
  },
  {
   "cell_type": "markdown",
   "id": "f3f081ad-7aa9-4716-a6f9-34e093898367",
   "metadata": {
    "slideshow": {
     "slide_type": "fragment"
    }
   },
   "source": [
    "---"
   ]
  },
  {
   "cell_type": "markdown",
   "id": "be1d4675-c00b-455b-b914-eff0b14bd0b4",
   "metadata": {
    "slideshow": {
     "slide_type": "slide"
    }
   },
   "source": [
    "### Distance Between Two Points"
   ]
  },
  {
   "cell_type": "markdown",
   "id": "fde49f4b-c330-432b-a342-7ef59273849b",
   "metadata": {
    "slideshow": {
     "slide_type": "-"
    }
   },
   "source": [
    "One way to calculate the distance between two points utilizes a right triangle and depends on the number of attributes each point has.\n",
    "* If $D$ represents the distance between points $(x_0, y_0)$ and $(x_1, y_1)$, then $$D = \\sqrt{(x_0 - x_1)^2 + (y_0 - y_1)^2}$$\n",
    "* If $D$ represents the distance between points $(x_0, y_0, z_0)$ and $(x_1, y_1, z_1)$, then $$D = \\sqrt{(x_0 - x_1)^2 + (y_0 - y_1)^2 + (z_0 - z_1)^2}$$\n",
    "* etc.\n",
    "\n",
    "Array arithmetic simplifies this calculation for us!"
   ]
  },
  {
   "cell_type": "markdown",
   "id": "e98253ad-8034-470e-91a1-c313b95041f9",
   "metadata": {
    "slideshow": {
     "slide_type": "fragment"
    }
   },
   "source": [
    "---"
   ]
  },
  {
   "cell_type": "markdown",
   "id": "b7af03eb-24d9-4229-bd6e-078c833ff298",
   "metadata": {},
   "source": [
    "### Demo: Distance"
   ]
  },
  {
   "attachments": {},
   "cell_type": "markdown",
   "id": "88e987e1-e57a-4ae9-96e3-57155a6bd48f",
   "metadata": {
    "deletable": false,
    "editable": false
   },
   "source": [
    "* Create a function to calculate the distance between 2 points (represented as arrays). Use that function to calculate the distance between two rows of numeric data from a table.\n",
    "* Clean up the `patients` data to be able to apply the `row_distance` function to it."
   ]
  },
  {
   "cell_type": "code",
   "execution_count": null,
   "id": "3567d8a3-87f5-4027-bba4-905307c8eb5e",
   "metadata": {
    "tags": []
   },
   "outputs": [],
   "source": [
    "def distance(pt1, pt2):\n",
    "    \"\"\"Return the distance between two points, represented as arrays\"\"\"\n",
    "    ..."
   ]
  },
  {
   "cell_type": "code",
   "execution_count": null,
   "id": "b62cf137-d91b-4432-b01b-428de55ee49f",
   "metadata": {
    "tags": []
   },
   "outputs": [],
   "source": [
    "def row_distance(row1, row2):\n",
    "    \"\"\"Return the distance between two numerical rows of a table\"\"\"\n",
    "    ..."
   ]
  },
  {
   "cell_type": "code",
   "execution_count": null,
   "id": "5a6d897f-9358-4d0c-ab5e-3b67dc0d502a",
   "metadata": {
    "tags": []
   },
   "outputs": [],
   "source": [
    "attributes = patients.drop('Class')\n",
    "attributes.show(3)"
   ]
  },
  {
   "cell_type": "code",
   "execution_count": null,
   "id": "c7bc43b9-15cb-4b87-bacf-deb488cc996c",
   "metadata": {
    "tags": []
   },
   "outputs": [],
   "source": [
    "row_distance(attributes.row(0), attributes.row(1))"
   ]
  },
  {
   "cell_type": "code",
   "execution_count": null,
   "id": "f6714720-e576-4a63-b271-faaf27ca13d4",
   "metadata": {
    "tags": []
   },
   "outputs": [],
   "source": [
    "row_distance(attributes.row(0), attributes.row(2))"
   ]
  },
  {
   "cell_type": "code",
   "execution_count": null,
   "id": "309b8e6e-d32b-490e-9865-9b8bb17dfdf8",
   "metadata": {
    "tags": []
   },
   "outputs": [],
   "source": [
    "row_distance(attributes.row(2), attributes.row(2))"
   ]
  },
  {
   "cell_type": "markdown",
   "id": "f3dba33d-da22-4e28-a559-f80b6650c491",
   "metadata": {
    "slideshow": {
     "slide_type": "fragment"
    }
   },
   "source": [
    "---"
   ]
  },
  {
   "cell_type": "markdown",
   "id": "200fc20e-4515-434f-b094-6b52a306f80b",
   "metadata": {
    "slideshow": {
     "slide_type": "slide"
    }
   },
   "source": [
    "## Nearest Neighbors"
   ]
  },
  {
   "cell_type": "markdown",
   "id": "3dc887a4-602b-4a97-9c35-6b33a5e1a161",
   "metadata": {
    "slideshow": {
     "slide_type": "fragment"
    }
   },
   "source": [
    "---"
   ]
  },
  {
   "cell_type": "markdown",
   "id": "b853c7f2-e4ad-47f0-9d93-0ee16b9e577c",
   "metadata": {
    "slideshow": {
     "slide_type": "slide"
    }
   },
   "source": [
    "### Finding the `k` Nearest Neighbors"
   ]
  },
  {
   "cell_type": "markdown",
   "id": "91e669f5-2b45-4194-ae24-e87a568b3339",
   "metadata": {
    "slideshow": {
     "slide_type": "-"
    }
   },
   "source": [
    "To find the `k` nearest neighbors of an example:\n",
    "* Find the distance between the example and each example in the training set\n",
    "* Augment the training data table with a column containing all the distances\n",
    "* Sort the augmented table in increasing order of the distances\n",
    "* Take the top `k` rows of the sorted table"
   ]
  },
  {
   "cell_type": "markdown",
   "id": "6e0ed3fe-7792-4270-8a48-a3b9a67493ba",
   "metadata": {
    "slideshow": {
     "slide_type": "fragment"
    }
   },
   "source": [
    "---"
   ]
  },
  {
   "cell_type": "markdown",
   "id": "c3554515-77bc-496c-a795-22db4a43e5bf",
   "metadata": {
    "slideshow": {
     "slide_type": "slide"
    }
   },
   "source": [
    "### The Classifier"
   ]
  },
  {
   "cell_type": "markdown",
   "id": "c74251f6-59c6-4ebb-9141-321e4dcedcd3",
   "metadata": {
    "slideshow": {
     "slide_type": "-"
    }
   },
   "source": [
    "To classify a point:\n",
    "* Find its `k` nearest neighbors\n",
    "* Take a majority vote of the `k` nearest neighbors to see which of the two classes appears more often\n",
    "* Assign the point the class that wins the majority vote"
   ]
  },
  {
   "cell_type": "markdown",
   "id": "823cfd8c-e03d-40b9-bc3d-8314a0e7bf1d",
   "metadata": {
    "slideshow": {
     "slide_type": "fragment"
    }
   },
   "source": [
    "---"
   ]
  },
  {
   "cell_type": "markdown",
   "id": "cf873905-be0c-442d-ad29-c8468f668215",
   "metadata": {},
   "source": [
    "### Demo: The Classifier"
   ]
  },
  {
   "attachments": {},
   "cell_type": "markdown",
   "id": "872ca5c2-74e8-484c-8d5d-4b18febac9ea",
   "metadata": {
    "deletable": false,
    "editable": false
   },
   "source": [
    "`distance` calculates the distance between an example row (an individual patient) and every row in the a training set of `patient` data.\n",
    "\n",
    "* Measure the distance between row 21 and every other row in the data set.\n",
    "* Create a function that finds the `k` closest row(s) to the example row. Apply that function to the situation above.\n",
    "* Create a function or functions to report the majority class for the nearest `k` rows to the example row.\n",
    "* Apply this technique to other example rows from the data set."
   ]
  },
  {
   "cell_type": "code",
   "execution_count": null,
   "id": "5e08240b-3ee1-41cb-b946-69069c448382",
   "metadata": {
    "tags": []
   },
   "outputs": [],
   "source": [
    "def distances(training, example):\n",
    "    \"\"\"\n",
    "    Compute distance between example and every row in training.\n",
    "    Return training augmented with Distance column\n",
    "    \"\"\"\n",
    "    distances = make_array()\n",
    "    attributes_only = training.drop('Class')\n",
    "    \n",
    "    for row in attributes_only.rows:\n",
    "        distances = np.append(distances, row_distance(row, example))\n",
    "    \n",
    "#   ^ SAME AS DOING:\n",
    "#\n",
    "#   for i in np.arange(attributes_only.num_rows):\n",
    "#       row = attributes_only.row(i)\n",
    "#       distances = np.append(distances, row_distance(row, example))\n",
    "        \n",
    "    return training.with_column('Distance_to_ex', distances)"
   ]
  },
  {
   "cell_type": "code",
   "execution_count": null,
   "id": "92db8b39-1c80-4b3b-882a-a779b6531a92",
   "metadata": {
    "tags": []
   },
   "outputs": [],
   "source": [
    "example = ...\n",
    "example"
   ]
  },
  {
   "cell_type": "code",
   "execution_count": null,
   "id": "88d73e5a-b573-4dbe-abb7-75b38aef52c6",
   "metadata": {
    "tags": []
   },
   "outputs": [],
   "source": [
    "..."
   ]
  },
  {
   "cell_type": "code",
   "execution_count": null,
   "id": "a5ce5589-ee48-4f79-8943-df6969a48efc",
   "metadata": {
    "tags": []
   },
   "outputs": [],
   "source": [
    "def closest(training, example, k):\n",
    "    \"\"\"\n",
    "    Return a table of the k closest neighbors to example\n",
    "    \"\"\"\n",
    "    ..."
   ]
  },
  {
   "cell_type": "code",
   "execution_count": null,
   "id": "3d3449e9-75cc-4fa7-82d9-a1614a2e0807",
   "metadata": {
    "tags": []
   },
   "outputs": [],
   "source": [
    "closest(patients.exclude(21), example, 5)"
   ]
  },
  {
   "cell_type": "code",
   "execution_count": null,
   "id": "c229f6a6-a072-4b4c-8a9d-57979b5e270b",
   "metadata": {
    "tags": []
   },
   "outputs": [],
   "source": [
    "..."
   ]
  },
  {
   "cell_type": "code",
   "execution_count": null,
   "id": "19fdc160-1f9a-4e72-8617-d47144f3e8f9",
   "metadata": {
    "tags": []
   },
   "outputs": [],
   "source": [
    "def majority_class(topk):\n",
    "    \"\"\"\n",
    "    Return the class with the highest count\n",
    "    \"\"\"\n",
    "    ..."
   ]
  },
  {
   "cell_type": "code",
   "execution_count": null,
   "id": "f873ee86-e65d-47e5-b745-3efa44a40bfd",
   "metadata": {
    "tags": []
   },
   "outputs": [],
   "source": [
    "def classify(training, example, k):\n",
    "    \"\"\"\n",
    "    Return the majority class among the \n",
    "    k nearest neighbors of example\n",
    "    \"\"\"\n",
    "    ..."
   ]
  },
  {
   "cell_type": "code",
   "execution_count": null,
   "id": "a0839ad5-98eb-42d3-86bd-aea3fb480aa4",
   "metadata": {
    "tags": []
   },
   "outputs": [],
   "source": [
    "..."
   ]
  },
  {
   "cell_type": "code",
   "execution_count": null,
   "id": "41e0290e-a961-40c4-ac1f-3d33c14b46d5",
   "metadata": {
    "tags": []
   },
   "outputs": [],
   "source": [
    "patients.take(21)"
   ]
  },
  {
   "cell_type": "code",
   "execution_count": null,
   "id": "4c7d3226-8132-499f-906d-647428423d25",
   "metadata": {
    "tags": []
   },
   "outputs": [],
   "source": [
    "new_example = ...\n",
    "classify(patients.exclude(10), new_example, 5)"
   ]
  },
  {
   "cell_type": "code",
   "execution_count": null,
   "id": "5810528b-10c0-47c7-91ec-530fddb13ed6",
   "metadata": {
    "tags": []
   },
   "outputs": [],
   "source": [
    "patients.take(10)"
   ]
  },
  {
   "cell_type": "code",
   "execution_count": null,
   "id": "094e4891-090e-49b7-80aa-fb8268011f9a",
   "metadata": {
    "tags": []
   },
   "outputs": [],
   "source": [
    "another_example = ...\n",
    "classify(patients.exclude(15), another_example, 5) "
   ]
  },
  {
   "cell_type": "code",
   "execution_count": null,
   "id": "6d51d379-0eb5-4b98-9712-e903e31dda8a",
   "metadata": {
    "tags": []
   },
   "outputs": [],
   "source": [
    "patients.take(15)"
   ]
  },
  {
   "cell_type": "markdown",
   "id": "c5378ce4-420c-4495-8d78-86b6a1600989",
   "metadata": {
    "slideshow": {
     "slide_type": "fragment"
    }
   },
   "source": [
    "---"
   ]
  },
  {
   "cell_type": "markdown",
   "id": "4d7631f7-2be5-4473-a92a-e5ece1ffa8cb",
   "metadata": {},
   "source": [
    "### Review of the Steps"
   ]
  },
  {
   "cell_type": "markdown",
   "id": "15367ad9-77ae-42c9-9955-7aaed78005f9",
   "metadata": {},
   "source": [
    "- `distance(pt1, pt2)`: Returns the distance between the arrays `pt1` and `pt2`\n",
    "- `row_distance(row1, row2)`: Returns the distance between the rows `row1` and `row2`\n",
    "- `distances(training, example)`: Returns a table that is `training` with an additional column `'Distance'` that contains the distance between `example` and each row of `training`\n",
    "- `closest(training, example, k)`: Returns a table of the rows corresponding to the k smallest distances \n",
    "- `majority_class(topk)`: Returns the majority class in the `'Class'` column\n",
    "- `classify(training, example, k)`: Returns the predicted class of `example` based on a `k` nearest neighbors classifier using the historical sample `training`"
   ]
  },
  {
   "cell_type": "markdown",
   "id": "3e481ad4-e8a3-4123-bf4d-27c9f5a6d753",
   "metadata": {
    "slideshow": {
     "slide_type": "fragment"
    }
   },
   "source": [
    "---"
   ]
  },
  {
   "cell_type": "markdown",
   "id": "56f881cc-5bd9-4b26-8084-0ed416b670e5",
   "metadata": {
    "slideshow": {
     "slide_type": "slide"
    }
   },
   "source": [
    "## Evaluation"
   ]
  },
  {
   "cell_type": "markdown",
   "id": "06968868-0738-4f71-b9fd-ff4a0adcbc96",
   "metadata": {
    "slideshow": {
     "slide_type": "fragment"
    }
   },
   "source": [
    "---"
   ]
  },
  {
   "cell_type": "markdown",
   "id": "2fdb9a6c-ec0a-4b31-b047-1cb17ea4e691",
   "metadata": {
    "slideshow": {
     "slide_type": "slide"
    }
   },
   "source": [
    "### Accuracy of a Classifier"
   ]
  },
  {
   "cell_type": "markdown",
   "id": "a422b560-c55d-4994-9be3-138711cbea3c",
   "metadata": {
    "slideshow": {
     "slide_type": "-"
    }
   },
   "source": [
    "* The accuracy of a classifier on a labeled data set is the proportion of examples that are labeled correctly\n",
    "* Need to compare classifier predictions to true labels\n",
    "* If the labeled data set is sampled at random from a population, then we can infer accuracy on that population\n",
    "\n",
    "<img src=\"./train_test_split.png\" width=50%>"
   ]
  },
  {
   "cell_type": "markdown",
   "id": "3f219acb-2611-4087-b839-c091e431d33d",
   "metadata": {
    "slideshow": {
     "slide_type": "fragment"
    }
   },
   "source": [
    "---"
   ]
  },
  {
   "cell_type": "markdown",
   "id": "1a9b8153-9e2f-42a5-bc5f-15d604623fdb",
   "metadata": {},
   "source": [
    "### Demo: Accuracy of a Classifier"
   ]
  },
  {
   "attachments": {},
   "cell_type": "markdown",
   "id": "5e2e3fda-26a7-4ac1-828c-eb3c2a8953a6",
   "metadata": {
    "deletable": false,
    "editable": false
   },
   "source": [
    "* Split up the `patients` data into two tables where approximately 80% of the data is used for training and 20% is used for testing.\n",
    "* Create a function that evaluates the accuracy by returning the proportion of correctly classified examples in the test set."
   ]
  },
  {
   "cell_type": "code",
   "execution_count": null,
   "id": "d0b08043-7bd1-44bf-8662-3ba64e6655e7",
   "metadata": {
    "tags": []
   },
   "outputs": [],
   "source": [
    "..."
   ]
  },
  {
   "cell_type": "code",
   "execution_count": null,
   "id": "82e6d956-4caf-4468-9bbe-aed023dc7b42",
   "metadata": {
    "tags": []
   },
   "outputs": [],
   "source": [
    "shuffled = ...\n",
    "training_set = ...\n",
    "test_set  = ..."
   ]
  },
  {
   "cell_type": "code",
   "execution_count": null,
   "id": "592ab543-42af-454c-b9ad-a44f8ccdb6c7",
   "metadata": {
    "tags": []
   },
   "outputs": [],
   "source": [
    "def evaluate_accuracy(training, test, k):\n",
    "    '''Return the proportion of correctly classified examples \n",
    "    in the test set'''\n",
    "    test_attributes = ...\n",
    "    num_correct = ...\n",
    "    for _ in ...:\n",
    "        c = ...\n",
    "        num_correct = ...\n",
    "    return ..."
   ]
  },
  {
   "cell_type": "code",
   "execution_count": null,
   "id": "4f672eff-3656-46d5-8be6-ea4aa5e65f37",
   "metadata": {
    "tags": []
   },
   "outputs": [],
   "source": [
    "evaluate_accuracy(training_set, test_set, 5)"
   ]
  },
  {
   "cell_type": "code",
   "execution_count": null,
   "id": "a82c647f-9079-46fb-8bf2-162e8e3a85dd",
   "metadata": {
    "tags": []
   },
   "outputs": [],
   "source": [
    "evaluate_accuracy(training_set, test_set, 3)"
   ]
  },
  {
   "cell_type": "code",
   "execution_count": null,
   "id": "22c697ce-b8d6-4ccc-a8e0-c8851caa0ed4",
   "metadata": {
    "tags": []
   },
   "outputs": [],
   "source": [
    "evaluate_accuracy(training_set, test_set, 11)"
   ]
  },
  {
   "cell_type": "code",
   "execution_count": null,
   "id": "08a7ca54-cbfa-4d81-b1f4-c0748ee990cf",
   "metadata": {
    "tags": []
   },
   "outputs": [],
   "source": [
    "evaluate_accuracy(training_set, test_set, 1)"
   ]
  },
  {
   "cell_type": "markdown",
   "id": "57db7232-025c-4bc8-966f-0b66d70383a8",
   "metadata": {
    "slideshow": {
     "slide_type": "fragment"
    }
   },
   "source": [
    "---"
   ]
  },
  {
   "cell_type": "markdown",
   "id": "3e5c2e8a-f004-4ca4-b45e-bf80a5596c9c",
   "metadata": {
    "slideshow": {
     "slide_type": "slide"
    }
   },
   "source": [
    "## Before Classifying"
   ]
  },
  {
   "cell_type": "markdown",
   "id": "d21c8cd6-6100-4f07-9d52-1dffea4e343a",
   "metadata": {
    "slideshow": {
     "slide_type": "fragment"
    }
   },
   "source": [
    "---"
   ]
  },
  {
   "cell_type": "markdown",
   "id": "8197f8b8-6bf3-4c91-b841-81e244221216",
   "metadata": {
    "slideshow": {
     "slide_type": "slide"
    }
   },
   "source": [
    "### Dog or Wolf?"
   ]
  },
  {
   "cell_type": "markdown",
   "id": "859b3fe5-eb07-4a49-9618-ea7b8ddb24fc",
   "metadata": {
    "slideshow": {
     "slide_type": "-"
    }
   },
   "source": [
    "<img src=\"./dog_wolf.png\" width=80%>"
   ]
  },
  {
   "cell_type": "markdown",
   "id": "33140ee7-5eee-4764-90bb-6d9ea2f050b8",
   "metadata": {
    "slideshow": {
     "slide_type": "fragment"
    }
   },
   "source": [
    "---"
   ]
  },
  {
   "cell_type": "markdown",
   "id": "1d23fe4b-59b8-4ba7-b585-c8061fd0b486",
   "metadata": {
    "slideshow": {
     "slide_type": "slide"
    }
   },
   "source": [
    "### Start with a Representative Sample"
   ]
  },
  {
   "cell_type": "markdown",
   "id": "50afd24f-c8fb-4dbc-9bd7-9ab9ca58f932",
   "metadata": {
    "slideshow": {
     "slide_type": "-"
    }
   },
   "source": [
    "* Both the training and test sets must accurately represent the population on which you use your classifier\n",
    "* Overfitting happens when a classifier does very well on the training set, but can't do as well on the test set"
   ]
  },
  {
   "cell_type": "markdown",
   "id": "26bb342c-c2c3-4df9-86a7-20d55b35da39",
   "metadata": {
    "slideshow": {
     "slide_type": "fragment"
    }
   },
   "source": [
    "---"
   ]
  },
  {
   "cell_type": "markdown",
   "id": "b3689abd-6a8a-47c9-839d-6744a0a7eead",
   "metadata": {
    "slideshow": {
     "slide_type": "slide"
    }
   },
   "source": [
    "### Standardize if Necessary"
   ]
  },
  {
   "cell_type": "code",
   "execution_count": null,
   "id": "11fddee1-8547-48c8-b9dc-93ec2ab91966",
   "metadata": {
    "hide_input": true
   },
   "outputs": [],
   "source": [
    "Table().with_columns(\n",
    "    'Glucose', make_array(117, 70, 380, 157),\n",
    "    'Hemoglobin', make_array(11.2, 9.5, 10.8, 5.6),\n",
    "    'White Blood Cell Count', make_array(6700, 12100, 4500, 11000),\n",
    "    'Class', make_array(1, 1, 1, 1)\n",
    ")"
   ]
  },
  {
   "cell_type": "markdown",
   "id": "70174d3b-70ca-4246-a034-28b7ead07814",
   "metadata": {
    "slideshow": {
     "slide_type": "-"
    }
   },
   "source": [
    "* If the attributes are on very different numerical scales, distance can be affected\n",
    "* In such a situation, it is a good idea to convert all the variables to standard units "
   ]
  },
  {
   "cell_type": "markdown",
   "id": "1e945ccc-5150-438f-8d71-634ae233e676",
   "metadata": {
    "slideshow": {
     "slide_type": "fragment"
    }
   },
   "source": [
    "---"
   ]
  },
  {
   "cell_type": "markdown",
   "id": "7117ea06-58be-41ed-88bc-150d70a8acfc",
   "metadata": {},
   "source": [
    "### Demo: Standardize if Necessary"
   ]
  },
  {
   "cell_type": "markdown",
   "id": "01195df5-fbd8-4416-aa66-5bd4e4c38974",
   "metadata": {
    "deletable": false,
    "editable": false
   },
   "source": [
    "Explore what can happen to the classifier's accuracy when the units are not standardized."
   ]
  },
  {
   "cell_type": "code",
   "execution_count": null,
   "id": "d6fc69ac-9db2-41c9-b695-b9c5f5d7b33c",
   "metadata": {
    "tags": []
   },
   "outputs": [],
   "source": [
    "def standard_units(x):\n",
    "    return (x - np.average(x)) / np.std(x)"
   ]
  },
  {
   "cell_type": "code",
   "execution_count": null,
   "id": "699034bb-2d25-4f70-b256-5aff6445433b",
   "metadata": {
    "tags": []
   },
   "outputs": [],
   "source": [
    "ckd_new = ckd.select('Class').with_columns(\n",
    "    'Glucose_su', standard_units(ckd.column('Glucose')),\n",
    "    'Hemoglobin_su', standard_units(ckd.column('Hemoglobin')),\n",
    "    'WBC_su', standard_units(ckd.column('White Blood Cell Count'))\n",
    ")\n",
    "ckd_new"
   ]
  },
  {
   "cell_type": "code",
   "execution_count": null,
   "id": "6dc0c335-1edb-47f0-808e-2a299cc8c58e",
   "metadata": {
    "tags": []
   },
   "outputs": [],
   "source": [
    "percent_80 = ...\n",
    "percent_80"
   ]
  },
  {
   "cell_type": "code",
   "execution_count": null,
   "id": "b4944884-f2f5-488e-a3d6-ce97464b11d2",
   "metadata": {
    "tags": []
   },
   "outputs": [],
   "source": [
    "shuffled = ...\n",
    "training_set = ...\n",
    "test_set  = ..."
   ]
  },
  {
   "cell_type": "code",
   "execution_count": null,
   "id": "65d23670-43b1-4669-a602-cd209850a99b",
   "metadata": {
    "tags": []
   },
   "outputs": [],
   "source": [
    "evaluate_accuracy(training_set, test_set, 3)"
   ]
  },
  {
   "cell_type": "code",
   "execution_count": null,
   "id": "df2cc1d4-a467-4317-8ea9-b7d0a16aef04",
   "metadata": {
    "tags": []
   },
   "outputs": [],
   "source": [
    "shuffled_new = ...\n",
    "training_set_new = ...\n",
    "test_set_new  = ..."
   ]
  },
  {
   "cell_type": "code",
   "execution_count": null,
   "id": "470db437-d93d-4314-93fe-abffa24cc11e",
   "metadata": {
    "tags": []
   },
   "outputs": [],
   "source": [
    "..."
   ]
  },
  {
   "cell_type": "markdown",
   "id": "56316ff4-010a-46f9-b625-dc17fdbf8fc3",
   "metadata": {
    "slideshow": {
     "slide_type": "fragment"
    }
   },
   "source": [
    "---"
   ]
  },
  {
   "cell_type": "markdown",
   "id": "a012e6fc-ff49-4ed7-9337-db7fa36b6600",
   "metadata": {
    "slideshow": {
     "slide_type": "notes"
    }
   },
   "source": [
    "<footer>\n",
    "    <p>Adopted from UC Berkeley DATA 8 course materials.</p>\n",
    "    <p>This content is offered under a <a href=\"https://creativecommons.org/licenses/by-nc-sa/4.0/\">CC Attribution Non-Commercial Share Alike</a> license.</p>\n",
    "</footer>"
   ]
  }
 ],
 "metadata": {
  "kernelspec": {
   "display_name": "Python 3 (ipykernel)",
   "language": "python",
   "name": "python3"
  },
  "language_info": {
   "codemirror_mode": {
    "name": "ipython",
    "version": 3
   },
   "file_extension": ".py",
   "mimetype": "text/x-python",
   "name": "python",
   "nbconvert_exporter": "python",
   "pygments_lexer": "ipython3",
   "version": "3.10.12"
  },
  "otter": {
   "OK_FORMAT": true,
   "tests": {}
  }
 },
 "nbformat": 4,
 "nbformat_minor": 5
}
