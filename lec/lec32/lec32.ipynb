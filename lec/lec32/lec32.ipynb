{
 "cells": [
  {
   "cell_type": "markdown",
   "id": "5356ffad-19a3-455c-a068-74c481fb2add",
   "metadata": {
    "editable": true,
    "slideshow": {
     "slide_type": ""
    },
    "tags": []
   },
   "source": [
    "<div style=\"width: 38.5%;\">\n",
    "    <p><strong>City College of San Francisco</strong><p>\n",
    "    <hr>\n",
    "    <p>MATH 108 - Foundations of Data Science</p>\n",
    "</div>"
   ]
  },
  {
   "cell_type": "markdown",
   "id": "f019ea58-77d2-453e-9cb3-aab8e94b3fb2",
   "metadata": {
    "slideshow": {
     "slide_type": "-"
    }
   },
   "source": [
    "# Lecture 32: Least Squares"
   ]
  },
  {
   "cell_type": "markdown",
   "id": "b5010939-9b42-44f2-8885-6e28d7313e27",
   "metadata": {},
   "source": [
    "Associated Textbook Sections: [15.3, 15.4](https://inferentialthinking.com/chapters/15/3/Method_of_Least_Squares.html)"
   ]
  },
  {
   "cell_type": "markdown",
   "id": "531c899e-5433-4f0d-8587-b4c2e0653208",
   "metadata": {
    "slideshow": {
     "slide_type": "slide"
    }
   },
   "source": [
    "## Outline"
   ]
  },
  {
   "cell_type": "markdown",
   "id": "8b98645d-c67f-4d4a-a1fd-cbf587773608",
   "metadata": {},
   "source": [
    "* [Least Squares](#Least-Squares)\n",
    "* [Numerical Optimization](#Numerical-Optimization)\n",
    "* [Nonlinear Regression](#Nonlinear-Regression)"
   ]
  },
  {
   "cell_type": "markdown",
   "id": "add61c6b-8dee-460a-9b9f-e57405d61c65",
   "metadata": {
    "slideshow": {
     "slide_type": "slide"
    }
   },
   "source": [
    "## Set Up the Notebook"
   ]
  },
  {
   "cell_type": "code",
   "execution_count": null,
   "id": "b1afe21e-98e3-418a-8abe-b62617bd2cda",
   "metadata": {
    "slideshow": {
     "slide_type": "-"
    }
   },
   "outputs": [],
   "source": [
    "from datascience import *\n",
    "import numpy as np\n",
    "%matplotlib inline\n",
    "import matplotlib.pyplot as plt\n",
    "plt.style.use('fivethirtyeight')\n",
    "\n",
    "# Some functions for plotting. You don't have to understand how any\n",
    "# of the functions in this cell work, since they use things we \n",
    "# haven't learned about in this course.\n",
    "\n",
    "def resize_window(lim=3.5):\n",
    "    plt.xlim(-lim, lim)\n",
    "    plt.ylim(-lim, lim)\n",
    "    \n",
    "def draw_line(slope=0, intercept=0, x=make_array(-4, 4), color='r'):\n",
    "    y = x*slope + intercept\n",
    "    plt.plot(x, y, color=color)\n",
    "    \n",
    "def draw_vertical_line(x_position, color='black'):\n",
    "    x = make_array(x_position, x_position)\n",
    "    y = make_array(-4, 4)\n",
    "    plt.plot(x, y, color=color)\n",
    "    \n",
    "def make_correlated_data(r):\n",
    "    x = np.random.normal(0, 1, 1000)\n",
    "    z = np.random.normal(0, 1, 1000)\n",
    "    y = r*x + (np.sqrt(1-r**2))*z\n",
    "    return x, y\n",
    "\n",
    "def r_table(r):\n",
    "    \"\"\"\n",
    "    Generate a table of 1000 x,y data points in standard units\n",
    "    whose correlation is approximately equal to r\n",
    "    \"\"\"\n",
    "    np.random.seed(8)\n",
    "    x, y = make_correlated_data(r)\n",
    "    return Table().with_columns('x', x, 'y', y)\n",
    "\n",
    "def standard_units(x):\n",
    "    \"\"\"Converts an array x to standard units\"\"\"\n",
    "    return (x - np.mean(x)) / np.std(x)\n",
    "\n",
    "def correlation(t, x, y):\n",
    "    x_su = standard_units(t.column(x))\n",
    "    y_su = standard_units(t.column(y))\n",
    "    return np.mean(x_su * y_su)\n",
    "\n",
    "def slope(t, x, y):\n",
    "    return correlation(t, x, y) * np.std(t.column(y)) / np.std(t.column(x)) \n",
    "\n",
    "def intercept(t, x, y):\n",
    "    return np.mean(t.column(y)) - slope(t, x, y) * np.mean(t.column(x)) "
   ]
  },
  {
   "cell_type": "markdown",
   "id": "37070bdc-44a1-484f-8f2e-75ec928cee6a",
   "metadata": {
    "slideshow": {
     "slide_type": "fragment"
    }
   },
   "source": [
    "---"
   ]
  },
  {
   "cell_type": "markdown",
   "id": "b14f6f32-f715-4965-9722-988e025f6c64",
   "metadata": {},
   "source": [
    "## Least Squares"
   ]
  },
  {
   "cell_type": "markdown",
   "id": "ec8408fb-84d0-48da-a7e6-2d506ab17d40",
   "metadata": {
    "slideshow": {
     "slide_type": "fragment"
    }
   },
   "source": [
    "---"
   ]
  },
  {
   "cell_type": "markdown",
   "id": "a42b43a2-f036-4981-9716-4b25bb45523e",
   "metadata": {},
   "source": [
    "### Interpreting a Relationship"
   ]
  },
  {
   "cell_type": "code",
   "execution_count": null,
   "id": "8eb4d7b4-d5d4-4a8b-a004-7dd8690ed7aa",
   "metadata": {},
   "outputs": [],
   "source": [
    "demographics = Table().read_table('district_demographics2016.csv')\n",
    "demographics.scatter('College%', 'Median Income')\n",
    "plt.title('USA Congressional Districts, 2016')\n",
    "plt.show()"
   ]
  },
  {
   "cell_type": "code",
   "execution_count": null,
   "id": "0299d0ed-39b7-4459-946d-3fb51d3a3024",
   "metadata": {},
   "outputs": [],
   "source": [
    "demographics"
   ]
  },
  {
   "cell_type": "markdown",
   "id": "2ef68d82-8afe-4e11-9ca6-0b21f8308e5f",
   "metadata": {},
   "source": [
    "Based only on the above graph, which must be true?\n",
    "1. Going to college causes people to get higher incomes.\n",
    "2. For any district, having more college-educated people live there causes median incomes to rise.\n",
    "3. For any district, having a higher median income causes more college-educated people to move there."
   ]
  },
  {
   "cell_type": "markdown",
   "id": "89044f45-6514-4583-8e79-5dd4724a6cf8",
   "metadata": {
    "slideshow": {
     "slide_type": "fragment"
    }
   },
   "source": [
    "---"
   ]
  },
  {
   "cell_type": "markdown",
   "id": "4d5111a1-04eb-4b34-8117-81c410baf7a7",
   "metadata": {},
   "source": [
    "### Error in Estimation"
   ]
  },
  {
   "cell_type": "markdown",
   "id": "d50e4c5e-0dab-4e78-adad-53276a3fcb2b",
   "metadata": {},
   "source": [
    "* `error = actual value - estimate`\n",
    "* Typically, some errors are positive and some negative\n",
    "* A way to measure the rough size of the errors:\n",
    "    * square the errors to eliminate cancellation\n",
    "    * take the mean of the squared errors\n",
    "    * take the square root to fix the units\n",
    "* This is called the root mean square error (rmse)"
   ]
  },
  {
   "cell_type": "markdown",
   "id": "8ce4bb68-d81c-4456-b496-ad5dae005001",
   "metadata": {
    "slideshow": {
     "slide_type": "fragment"
    }
   },
   "source": [
    "---"
   ]
  },
  {
   "cell_type": "markdown",
   "id": "d65fdcec-d2b7-4acd-b147-4c0a5765119e",
   "metadata": {},
   "source": [
    "### Demo: Regression line vs other lines"
   ]
  },
  {
   "attachments": {},
   "cell_type": "markdown",
   "id": "be47945c-d026-453d-9059-40ee16f1f43d",
   "metadata": {
    "deletable": false,
    "editable": false
   },
   "source": [
    "* Use the following functions with the 2016 demographics data to explore the relationship between Median Income and College completion within the US voting districts.\n",
    "* Determine the slope and intercept for the linear regression line to predict median income values from `\"College%\"` values.\n",
    "* Analyze the errors formed when applying the predictions on the provided `\"College%\"` data values."
   ]
  },
  {
   "cell_type": "code",
   "execution_count": null,
   "id": "ed764095-5b08-47ae-bdef-68bb806e9683",
   "metadata": {
    "tags": []
   },
   "outputs": [],
   "source": [
    "def demographics_errors(slope, intercept):\n",
    "    # Use four convenient points from the original data\n",
    "    sample = [[14.7, 33995], [19.1, 61454], [50.7, 71183], [59.5, 105918]]\n",
    "    demographics.scatter('College%', 'Median Income', alpha=0.5)\n",
    "    xlims = make_array(5, 75)\n",
    "    # Plot a line with the slope and intercept you specified:\n",
    "    plt.plot(xlims, slope * xlims + intercept, lw=4)\n",
    "    # Plot red lines from each of the four points to the line\n",
    "    for x, y in sample:\n",
    "        plt.plot([x, x], [y, slope * x + intercept], color='r', lw=4)"
   ]
  },
  {
   "cell_type": "code",
   "execution_count": null,
   "id": "710c49fd-25d1-4438-ab7d-1a8d34cd06d6",
   "metadata": {
    "tags": []
   },
   "outputs": [],
   "source": [
    "def fitted_values(t, x, y):\n",
    "    \"\"\"Return an array of the regressions estimates at all the x values\"\"\"\n",
    "    a = slope(t, x, y)\n",
    "    b = intercept(t, x, y)\n",
    "    return a*t.column(x) + b"
   ]
  },
  {
   "cell_type": "code",
   "execution_count": null,
   "id": "759c1a5a-9a35-4b2f-aba2-e1d3fc16400c",
   "metadata": {
    "tags": []
   },
   "outputs": [],
   "source": [
    "demographics = demographics.drop(\n",
    "    'State', 'District')\n",
    "demographics.show(5)"
   ]
  },
  {
   "cell_type": "code",
   "execution_count": null,
   "id": "00a8e713-949c-4aec-8e12-5404e8a8040e",
   "metadata": {
    "tags": []
   },
   "outputs": [],
   "source": [
    "demographics.scatter('College%', 'Median Income')"
   ]
  },
  {
   "cell_type": "code",
   "execution_count": null,
   "id": "8fa037d7-69c5-4272-853a-86676a41ae2c",
   "metadata": {
    "tags": []
   },
   "outputs": [],
   "source": [
    "correlation(demographics, 'College%', 'Median Income')"
   ]
  },
  {
   "cell_type": "code",
   "execution_count": null,
   "id": "10509e44-ef81-4dfd-a35f-47ce3a931056",
   "metadata": {
    "tags": []
   },
   "outputs": [],
   "source": [
    "regression_slope = slope(demographics, 'College%', 'Median Income')\n",
    "regression_intercept = intercept(demographics, 'College%', 'Median Income')\n",
    "print(f'The best fit line has a slop of {regression_slope:0.4f} and an intercept of {regression_intercept:0.4f}.')"
   ]
  },
  {
   "cell_type": "code",
   "execution_count": null,
   "id": "11f14af3-7849-4143-b3e2-3953295acaba",
   "metadata": {
    "tags": []
   },
   "outputs": [],
   "source": [
    "predicted = fitted_values(demographics, 'College%', 'Median Income')"
   ]
  },
  {
   "cell_type": "code",
   "execution_count": null,
   "id": "8efc42af-da9d-4842-b819-e53c89007a0e",
   "metadata": {
    "tags": []
   },
   "outputs": [],
   "source": [
    "demographics = demographics.with_column(\n",
    "    'Linear Prediction', predicted)\n",
    "demographics.scatter('College%')"
   ]
  },
  {
   "cell_type": "code",
   "execution_count": null,
   "id": "2e48ca0a-31d8-4a9b-8eb8-cc726a14756d",
   "metadata": {
    "tags": []
   },
   "outputs": [],
   "source": [
    "actual = demographics.column('Median Income') \n",
    "errors = ..."
   ]
  },
  {
   "cell_type": "code",
   "execution_count": null,
   "id": "76528b44-9116-4a7d-92b5-3af76f9de9df",
   "metadata": {
    "tags": []
   },
   "outputs": [],
   "source": [
    "demographics.with_column('Error', errors)"
   ]
  },
  {
   "cell_type": "code",
   "execution_count": null,
   "id": "1f012361-8de4-45f7-bb25-ef6b03a3ef2b",
   "metadata": {
    "tags": []
   },
   "outputs": [],
   "source": [
    "..."
   ]
  },
  {
   "cell_type": "code",
   "execution_count": null,
   "id": "bf9a8a95-81c2-427d-a06c-5142457ca19c",
   "metadata": {
    "tags": []
   },
   "outputs": [],
   "source": [
    "..."
   ]
  },
  {
   "cell_type": "code",
   "execution_count": null,
   "id": "75d15d14-94d1-459f-a247-ca2cc7babbbb",
   "metadata": {
    "tags": []
   },
   "outputs": [],
   "source": [
    "demographics_errors(regression_slope, regression_intercept)"
   ]
  },
  {
   "cell_type": "code",
   "execution_count": null,
   "id": "131e5a06-6440-4010-8425-a96776737e2d",
   "metadata": {
    "tags": []
   },
   "outputs": [],
   "source": [
    "demographics_errors(1500, 20000)"
   ]
  },
  {
   "cell_type": "code",
   "execution_count": null,
   "id": "8a922c4d-6d4e-4cf0-b2a6-aba2849e8a2c",
   "metadata": {
    "tags": []
   },
   "outputs": [],
   "source": [
    "demographics_errors(-1000, 75000)"
   ]
  },
  {
   "cell_type": "markdown",
   "id": "036db114-fa27-4b7a-9d17-d0c1f239c4e8",
   "metadata": {
    "slideshow": {
     "slide_type": "fragment"
    }
   },
   "source": [
    "---"
   ]
  },
  {
   "cell_type": "markdown",
   "id": "3b310388-f98c-467b-b44e-dfa960863a46",
   "metadata": {},
   "source": [
    "### Least Squares Line"
   ]
  },
  {
   "cell_type": "markdown",
   "id": "224a2fb9-43ff-493d-b811-169c391bf845",
   "metadata": {},
   "source": [
    "* Minimizes the root mean squared error (rmse) among all lines\n",
    "* Equivalently, minimizes the mean squared error (mse) among all lines\n",
    "* Common Names:\n",
    "    * \"Best fit\" line\n",
    "    * Least squares line\n",
    "    * Regression line\n"
   ]
  },
  {
   "cell_type": "markdown",
   "id": "13ec9c1c-160f-4c8e-a5d3-00fc24728545",
   "metadata": {
    "slideshow": {
     "slide_type": "fragment"
    }
   },
   "source": [
    "---"
   ]
  },
  {
   "cell_type": "markdown",
   "id": "07e8e118-4b39-41f7-a75a-016fc6c6e41e",
   "metadata": {},
   "source": [
    "### Demo: Root Mean Square Error"
   ]
  },
  {
   "cell_type": "markdown",
   "id": "089cceed-192a-464b-a1e4-278ac649cc38",
   "metadata": {},
   "source": [
    "Explore the root mean square error through the demographics relationship."
   ]
  },
  {
   "cell_type": "code",
   "execution_count": null,
   "id": "6f0015d2-6fc6-4699-96ac-198ab13f8767",
   "metadata": {},
   "outputs": [],
   "source": [
    "def show_demographics_rmse(slope, intercept):\n",
    "    demographics_errors(slope, intercept)\n",
    "    x = demographics.column('College%')\n",
    "    y = demographics.column('Median Income')\n",
    "    prediction = slope * x + intercept\n",
    "    mse = np.mean((y - prediction) ** 2)\n",
    "    print(\"Root mean squared error:\", round(mse ** 0.5, 2))"
   ]
  },
  {
   "cell_type": "code",
   "execution_count": null,
   "id": "a26949e9-cd29-4a00-b462-553784993ecc",
   "metadata": {},
   "outputs": [],
   "source": [
    "show_demographics_rmse(-1000, 75000)"
   ]
  },
  {
   "cell_type": "code",
   "execution_count": null,
   "id": "c00c2c1e-4784-49ed-8037-ea975d85a439",
   "metadata": {},
   "outputs": [],
   "source": [
    "show_demographics_rmse(1500, 20000)"
   ]
  },
  {
   "cell_type": "code",
   "execution_count": null,
   "id": "756e762b-e89d-49d3-9744-cc51e4a8c8cb",
   "metadata": {},
   "outputs": [],
   "source": [
    "show_demographics_rmse(regression_slope, regression_intercept)"
   ]
  },
  {
   "cell_type": "markdown",
   "id": "88ff3a1c-e0b4-4981-a4eb-2ccebf8efb3e",
   "metadata": {},
   "source": [
    "---"
   ]
  },
  {
   "cell_type": "markdown",
   "id": "a04c8df2-061e-407f-ac2e-a0d043f5c9fc",
   "metadata": {},
   "source": [
    "## Numerical Optimization"
   ]
  },
  {
   "cell_type": "markdown",
   "id": "0e2dcd26-0b67-4e16-aaf0-2362c017036c",
   "metadata": {
    "slideshow": {
     "slide_type": "fragment"
    }
   },
   "source": [
    "---"
   ]
  },
  {
   "cell_type": "markdown",
   "id": "6dc9e520-63ae-4af7-9f75-b65944936d33",
   "metadata": {},
   "source": [
    "### Numerical Optimization"
   ]
  },
  {
   "cell_type": "markdown",
   "id": "7350419e-66a5-497a-9ca1-aa14063222cd",
   "metadata": {},
   "source": [
    "* Numerical minimization is approximate but effective\n",
    "* Lots of machine learning uses numerical minimization\n",
    "* If the function `mse(a, b)` returns the mse of estimation using the line `estimate = ax + b`, then `minimize(mse)` returns array `[slope, intercept]`\n",
    "* the values are the slope and the intercept of the line that minimizes the mse among all possible lines."
   ]
  },
  {
   "cell_type": "markdown",
   "id": "d64ed099-c3be-49b8-9cf5-e80e9ded3868",
   "metadata": {
    "slideshow": {
     "slide_type": "fragment"
    }
   },
   "source": [
    "---"
   ]
  },
  {
   "cell_type": "markdown",
   "id": "ae2942aa-ae2d-4be1-89e9-936552217c66",
   "metadata": {},
   "source": [
    "### Demo: Numerical Optimization"
   ]
  },
  {
   "cell_type": "markdown",
   "id": "6d1f7a41-3aa6-42e5-ab38-7e3259924bba",
   "metadata": {
    "deletable": false,
    "editable": false
   },
   "source": [
    "Explore the concept of numerical optimization."
   ]
  },
  {
   "cell_type": "code",
   "execution_count": null,
   "id": "fbeb7a4a-1382-463c-8dec-9a36d2a978dc",
   "metadata": {
    "tags": []
   },
   "outputs": [],
   "source": [
    "x = np.arange(1, 3, 0.1)\n",
    "y = (x-2)**2 + 3\n",
    "Table().with_columns('x', x, 'y', y).plot('x')"
   ]
  },
  {
   "cell_type": "code",
   "execution_count": null,
   "id": "f3a9b501-b876-40f0-a7de-54c429d1962b",
   "metadata": {
    "tags": []
   },
   "outputs": [],
   "source": [
    "def f(x):\n",
    "    return ((x-2)**2) + 3"
   ]
  },
  {
   "cell_type": "code",
   "execution_count": null,
   "id": "92e1e335-7115-49ce-9366-29a2a829ce4a",
   "metadata": {
    "tags": []
   },
   "outputs": [],
   "source": [
    "..."
   ]
  },
  {
   "cell_type": "code",
   "execution_count": null,
   "id": "e6d67515-a9af-4323-9ce8-e8ea115b80a2",
   "metadata": {
    "tags": []
   },
   "outputs": [],
   "source": [
    "x = np.arange(-1.5, 1.5, 0.05)\n",
    "y2 = 2 * np.sin(x*np.pi) + x ** 3 + x ** 4 \n",
    "Table().with_columns('x', x, 'y', y2).plot('x')"
   ]
  },
  {
   "cell_type": "code",
   "execution_count": null,
   "id": "c5334b25-fd36-4acf-bf99-ce62f6a07323",
   "metadata": {
    "tags": []
   },
   "outputs": [],
   "source": [
    "def complicated_function(x):\n",
    "    return 2 * np.sin(x*np.pi) + x ** 3 + x ** 4 "
   ]
  },
  {
   "cell_type": "code",
   "execution_count": null,
   "id": "47d06441-f19e-4713-baf4-7472c319ed33",
   "metadata": {
    "tags": []
   },
   "outputs": [],
   "source": [
    "..."
   ]
  },
  {
   "cell_type": "markdown",
   "id": "98aa2e36-5a09-445c-afba-4823ace87fa9",
   "metadata": {
    "slideshow": {
     "slide_type": "fragment"
    }
   },
   "source": [
    "---"
   ]
  },
  {
   "cell_type": "markdown",
   "id": "6a55b55c-8fcb-4595-b296-48168dcb28e0",
   "metadata": {},
   "source": [
    "### Demo: Minimizing RMSE"
   ]
  },
  {
   "cell_type": "markdown",
   "id": "13e926e0-aff0-48b4-9056-a4d529a2abb0",
   "metadata": {
    "deletable": false,
    "editable": false
   },
   "source": [
    "Show how minimizing on the demographics rmse produces the same slope and intercept values found above. "
   ]
  },
  {
   "cell_type": "code",
   "execution_count": null,
   "id": "619b80a4-3e07-4c84-98c8-4fe2f1d525c5",
   "metadata": {
    "tags": []
   },
   "outputs": [],
   "source": [
    "def demographics_rmse(any_slope, any_intercept):\n",
    "    x = demographics.column('College%')\n",
    "    y = demographics.column('Median Income')\n",
    "    estimate = any_slope*x + any_intercept\n",
    "    return (np.mean((y - estimate) ** 2)) ** 0.5"
   ]
  },
  {
   "cell_type": "code",
   "execution_count": null,
   "id": "9e2681a7-e30d-4b5b-a4c6-d4b4b9d1f4ab",
   "metadata": {
    "tags": []
   },
   "outputs": [],
   "source": [
    "demographics_rmse(1500, 20000)"
   ]
  },
  {
   "cell_type": "code",
   "execution_count": null,
   "id": "5b97ff5f-a804-4183-8ec8-316bfa2b495b",
   "metadata": {
    "tags": []
   },
   "outputs": [],
   "source": [
    "demographics_rmse(-1000, 75000)"
   ]
  },
  {
   "cell_type": "code",
   "execution_count": null,
   "id": "65158093-a56e-43d4-859d-b50ff2add461",
   "metadata": {
    "tags": []
   },
   "outputs": [],
   "source": [
    "..."
   ]
  },
  {
   "cell_type": "code",
   "execution_count": null,
   "id": "408c0785-79e7-41f7-b345-c1388214dbdd",
   "metadata": {
    "tags": []
   },
   "outputs": [],
   "source": [
    "make_array(regression_slope, regression_intercept)"
   ]
  },
  {
   "cell_type": "markdown",
   "id": "ff545cd8-da78-480f-9496-ba21732035ea",
   "metadata": {
    "slideshow": {
     "slide_type": "fragment"
    }
   },
   "source": [
    "---"
   ]
  },
  {
   "cell_type": "markdown",
   "id": "4f596adb-4bf9-4307-a361-fafcf7de42a8",
   "metadata": {},
   "source": [
    "## Nonlinear Regression"
   ]
  },
  {
   "cell_type": "markdown",
   "id": "4bb87620-5948-4b5d-b989-8361f166b2ff",
   "metadata": {
    "slideshow": {
     "slide_type": "fragment"
    }
   },
   "source": [
    "---"
   ]
  },
  {
   "cell_type": "markdown",
   "id": "96cc4d05-8bae-4d01-a66f-b35ce0d424ff",
   "metadata": {
    "deletable": false,
    "editable": false
   },
   "source": [
    "### Demo: Trying Linear Regression"
   ]
  },
  {
   "cell_type": "code",
   "execution_count": null,
   "id": "96e5a79d-982c-4b36-8db5-fbc53208f80b",
   "metadata": {
    "tags": []
   },
   "outputs": [],
   "source": [
    "shotput = Table.read_table('shotput.csv')\n",
    "shotput"
   ]
  },
  {
   "cell_type": "code",
   "execution_count": null,
   "id": "4a710ce5-60a7-44fe-86a2-4fa26a839911",
   "metadata": {
    "tags": []
   },
   "outputs": [],
   "source": [
    "shotput.scatter('Weight Lifted')"
   ]
  },
  {
   "cell_type": "code",
   "execution_count": null,
   "id": "2daf7d76-4a7f-429e-8b25-39c7a71dfd12",
   "metadata": {
    "tags": []
   },
   "outputs": [],
   "source": [
    "def shotput_linear_rmse(any_slope, any_intercept):\n",
    "    x = shotput.column('Weight Lifted')\n",
    "    y = shotput.column('Shot Put Distance')\n",
    "    estimate = ...\n",
    "    ..."
   ]
  },
  {
   "cell_type": "code",
   "execution_count": null,
   "id": "7d6b5cf4-a4a4-4bf5-a85b-8eaceb0cd475",
   "metadata": {
    "tags": []
   },
   "outputs": [],
   "source": [
    "best_line = ...\n",
    "best_line"
   ]
  },
  {
   "cell_type": "code",
   "execution_count": null,
   "id": "f5eb15bc-cdca-494e-a29a-159743e9da43",
   "metadata": {
    "tags": []
   },
   "outputs": [],
   "source": [
    "weights = shotput.column(0)"
   ]
  },
  {
   "cell_type": "code",
   "execution_count": null,
   "id": "5a8ab59a-2c2a-4bd5-8d2a-3eaa0ac5543e",
   "metadata": {
    "tags": []
   },
   "outputs": [],
   "source": [
    "linear_fit = ...\n",
    "\n",
    "shotput_line = shotput.with_column('Best Line', linear_fit)\n",
    "shotput_line.scatter('Weight Lifted')"
   ]
  },
  {
   "cell_type": "code",
   "execution_count": null,
   "id": "526ebe11-bd42-469c-a75c-c2e666a30dc2",
   "metadata": {
    "tags": []
   },
   "outputs": [],
   "source": [
    "rmse_linear = ...\n",
    "rmse_linear"
   ]
  },
  {
   "cell_type": "markdown",
   "id": "46f3766c-4f9b-4389-9af0-9592ddfc7b6d",
   "metadata": {},
   "source": [
    "### Demo: Nonlinear Regression"
   ]
  },
  {
   "cell_type": "markdown",
   "id": "962b1075-e806-4a0a-9de6-d523cc6b9772",
   "metadata": {
    "deletable": false,
    "editable": false
   },
   "source": [
    "Try using a quadratic model instead.\n",
    "* Quadratic models are nonlinear models.\n",
    "* The generic structure for a quadratic model is:\n",
    "$$\n",
    "f(x) ~=~ ax^2 + bx + c\n",
    "$$\n",
    "for constants $a$, $b$, and $c$."
   ]
  },
  {
   "cell_type": "code",
   "execution_count": null,
   "id": "4d373ff5-1f05-43f3-8f49-26f31e53a23c",
   "metadata": {
    "tags": []
   },
   "outputs": [],
   "source": [
    "def shotput_quadratic_rmse(a, b, c):\n",
    "    x = shotput.column('Weight Lifted')\n",
    "    y = shotput.column('Shot Put Distance')\n",
    "    estimate = ...\n",
    "    ..."
   ]
  },
  {
   "cell_type": "code",
   "execution_count": null,
   "id": "e99526a2-5cf4-4824-b140-1b9bafdd3d34",
   "metadata": {
    "tags": []
   },
   "outputs": [],
   "source": [
    "best_quad = ...\n",
    "best_quad"
   ]
  },
  {
   "cell_type": "code",
   "execution_count": null,
   "id": "4f9f6435-e118-416c-bca3-dc448da5fd49",
   "metadata": {
    "tags": []
   },
   "outputs": [],
   "source": [
    "# x = weight lifted = 100 kg\n",
    "# Then predicted shot put distance:\n",
    "a = best_quad.item(0)\n",
    "b = best_quad.item(1)\n",
    "c = best_quad.item(2)\n",
    "\n",
    "prediction_for_100kg = a * (100 ** 2) + b * 100 + c\n",
    "prediction_for_100kg"
   ]
  },
  {
   "cell_type": "code",
   "execution_count": null,
   "id": "350e0330-1ea8-41a0-b670-4ec21f9dc9b0",
   "metadata": {
    "tags": []
   },
   "outputs": [],
   "source": [
    "quad_fit = ..."
   ]
  },
  {
   "cell_type": "code",
   "execution_count": null,
   "id": "c6b38b1a-f0e0-4e82-a0ec-371ec6e6d3c1",
   "metadata": {
    "tags": []
   },
   "outputs": [],
   "source": [
    "shotput_quad = shotput.with_column('Best Quadratic Curve', quad_fit)\n",
    "shotput_quad.scatter('Weight Lifted')"
   ]
  },
  {
   "cell_type": "code",
   "execution_count": null,
   "id": "370beb62-69a9-463a-9cb5-1238843e3f62",
   "metadata": {
    "tags": []
   },
   "outputs": [],
   "source": [
    "rmse_quad = ...\n",
    "rmse_quad"
   ]
  },
  {
   "cell_type": "code",
   "execution_count": null,
   "id": "efeee55d-733b-40c4-beda-ecf76f214bef",
   "metadata": {
    "tags": []
   },
   "outputs": [],
   "source": [
    "percent_improvement = ...\n",
    "print(f'There is a {percent_improvement:.2f}% improvement (reduction) in \\\n",
    "the RMSE using the best quadratic model over the best linear model.')"
   ]
  },
  {
   "cell_type": "markdown",
   "id": "d0991421-61c3-4c91-8215-adf69bf485d9",
   "metadata": {
    "slideshow": {
     "slide_type": "fragment"
    }
   },
   "source": [
    "---"
   ]
  },
  {
   "cell_type": "markdown",
   "id": "d05ccbc5-f228-47ef-9cc2-ed9ff4288df5",
   "metadata": {
    "slideshow": {
     "slide_type": "notes"
    }
   },
   "source": [
    "<footer>\n",
    "    <p>Adopted from UC Berkeley DATA 8 course materials.</p>\n",
    "    <p>This content is offered under a <a href=\"https://creativecommons.org/licenses/by-nc-sa/4.0/\">CC Attribution Non-Commercial Share Alike</a> license.</p>\n",
    "</footer>"
   ]
  }
 ],
 "metadata": {
  "kernelspec": {
   "display_name": "Python 3 (ipykernel)",
   "language": "python",
   "name": "python3"
  },
  "language_info": {
   "codemirror_mode": {
    "name": "ipython",
    "version": 3
   },
   "file_extension": ".py",
   "mimetype": "text/x-python",
   "name": "python",
   "nbconvert_exporter": "python",
   "pygments_lexer": "ipython3",
   "version": "3.10.12"
  },
  "otter": {
   "OK_FORMAT": true,
   "tests": {}
  }
 },
 "nbformat": 4,
 "nbformat_minor": 5
}
