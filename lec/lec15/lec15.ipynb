{
 "cells": [
  {
   "cell_type": "markdown",
   "id": "c13d8f9b-af69-410c-ae1b-b061314c22cf",
   "metadata": {
    "slideshow": {
     "slide_type": "slide"
    }
   },
   "source": [
    "<div style=\"width: 38.5%;\">\n",
    "    <p><strong>City College of San Francisco</strong><p>\n",
    "    <hr>\n",
    "    <p>MATH 108 - Foundations of Data Science</p>\n",
    "</div>"
   ]
  },
  {
   "cell_type": "markdown",
   "id": "a8f0d2e4-73c7-4bf7-9d36-2c8b41d9a28b",
   "metadata": {
    "slideshow": {
     "slide_type": "-"
    }
   },
   "source": [
    "# Lecture 15: Sampling"
   ]
  },
  {
   "cell_type": "markdown",
   "id": "1dd99790-0415-4979-8a5a-bc611423323c",
   "metadata": {
    "slideshow": {
     "slide_type": "-"
    }
   },
   "source": [
    "Associated Textbook Sections: [10.0-10.1](https://inferentialthinking.com/chapters/10/Sampling_and_Empirical_Distributions.html)"
   ]
  },
  {
   "cell_type": "markdown",
   "id": "b4aedabc-1b62-45b5-8491-15ade5e943cd",
   "metadata": {
    "slideshow": {
     "slide_type": "slide"
    }
   },
   "source": [
    "<div style=\"width: 38.5%;\">\n",
    "    <p><strong>City College of San Francisco</strong><p>\n",
    "    <hr>\n",
    "    <p>MATH 108 - Foundations of Data Science</p>\n",
    "</div>"
   ]
  },
  {
   "cell_type": "markdown",
   "id": "377dc20a-3a54-49c0-a10f-182f76ccf663",
   "metadata": {
    "slideshow": {
     "slide_type": "fragment"
    }
   },
   "source": [
    "---"
   ]
  },
  {
   "cell_type": "markdown",
   "id": "af4e0622-b0aa-4cd2-8610-d12e1ccf134f",
   "metadata": {
    "slideshow": {
     "slide_type": "slide"
    }
   },
   "source": [
    "## Outline"
   ]
  },
  {
   "cell_type": "markdown",
   "id": "a2d4a810-f83a-4881-94c4-f7fe79406461",
   "metadata": {
    "slideshow": {
     "slide_type": "-"
    }
   },
   "source": [
    "* [Sampling](#Sampling)\n",
    "* [Sampling with Technology](#Sampling-with-Technology)"
   ]
  },
  {
   "cell_type": "markdown",
   "id": "6e918755-7fcb-4e4b-a13d-4981bd11be59",
   "metadata": {
    "slideshow": {
     "slide_type": "fragment"
    }
   },
   "source": [
    "---"
   ]
  },
  {
   "cell_type": "markdown",
   "id": "72899e80-153b-416c-9d2d-decf2f9f6fb3",
   "metadata": {
    "slideshow": {
     "slide_type": "slide"
    }
   },
   "source": [
    "## Set Up the Notebook"
   ]
  },
  {
   "cell_type": "code",
   "execution_count": null,
   "id": "6a0c9fe7-80a4-4c46-a688-63a9552b546b",
   "metadata": {
    "slideshow": {
     "slide_type": "-"
    }
   },
   "outputs": [],
   "source": [
    "from datascience import *\n",
    "import numpy as np\n",
    "%matplotlib inline\n",
    "import matplotlib.pyplot as plt\n",
    "plt.style.use('fivethirtyeight')"
   ]
  },
  {
   "cell_type": "markdown",
   "id": "24dd2b9c-4db7-4d85-a40c-d22ac3a3a28e",
   "metadata": {
    "slideshow": {
     "slide_type": "fragment"
    }
   },
   "source": [
    "---"
   ]
  },
  {
   "cell_type": "markdown",
   "id": "75369240-7a98-414c-afed-db2e32f46f98",
   "metadata": {
    "slideshow": {
     "slide_type": "slide"
    }
   },
   "source": [
    "## Sampling"
   ]
  },
  {
   "cell_type": "markdown",
   "id": "a0cbcf1e-7d95-4e4c-b09b-4edc50b1c020",
   "metadata": {
    "slideshow": {
     "slide_type": "fragment"
    }
   },
   "source": [
    "---"
   ]
  },
  {
   "cell_type": "markdown",
   "id": "2e9e7c14-fb19-4613-ba71-dc80e62ed241",
   "metadata": {
    "slideshow": {
     "slide_type": "subslide"
    }
   },
   "source": [
    "### Random Samples"
   ]
  },
  {
   "cell_type": "markdown",
   "id": "e064f4be-5f8f-4822-8029-b0d6e2cd7baa",
   "metadata": {
    "slideshow": {
     "slide_type": "-"
    }
   },
   "source": [
    "* Population: Set of all elements from whom a sample will be drawn\n",
    "* Deterministic sample: The sampling scheme doesn't involve chance\n",
    "* Random (Probability) sample: \n",
    "    * Before the sample is drawn, you have to know the selection probability of every group of people in the population\n",
    "    * Not all individuals/groups have to have an equal chance of being selected\n",
    "    * If the chances are equal, then the sample is a simple random sample."
   ]
  },
  {
   "cell_type": "markdown",
   "id": "9d2cd3bc-0c35-4775-8308-6f0cd0a93d8e",
   "metadata": {
    "slideshow": {
     "slide_type": "fragment"
    }
   },
   "source": [
    "---"
   ]
  },
  {
   "cell_type": "markdown",
   "id": "f33a4422-6bf4-4beb-a82d-e62a24fa2c69",
   "metadata": {
    "slideshow": {
     "slide_type": "subslide"
    }
   },
   "source": [
    "### Sample of Convenience"
   ]
  },
  {
   "cell_type": "markdown",
   "id": "311898d8-43e6-47f6-afda-7378154f872c",
   "metadata": {
    "slideshow": {
     "slide_type": "-"
    }
   },
   "source": [
    "* Example: sample consists of whoever walks by\n",
    "* Just because you think you're sampling \"randomly\", doesn't mean you have a random sample.\n",
    "* If you can't figure out the following ahead of time, then you don't have a random sample\n",
    "    * what's the population\n",
    "    * what's the chance of selection, for each group in the population"
   ]
  },
  {
   "cell_type": "markdown",
   "id": "d3cac60c-d631-4349-a877-f7d372f82331",
   "metadata": {
    "slideshow": {
     "slide_type": "fragment"
    }
   },
   "source": [
    "---"
   ]
  },
  {
   "cell_type": "markdown",
   "id": "c56314ae-46f7-4bc0-b630-ff5489bfdc8c",
   "metadata": {},
   "source": [
    "### With and Without Replacement"
   ]
  },
  {
   "cell_type": "markdown",
   "id": "e479c7b1-2d44-410d-b50c-7d572ca24232",
   "metadata": {},
   "source": [
    "* Sampling with Replacement:\n",
    "    * One event happening does not impact the chance of another event happening\n",
    "    * Associated with the concept called independent events.\n",
    "* Sampling without Replacement:\n",
    "    * One event happening may impact the chance of another event happening\n",
    "    * Associated with the concept called dependent events."
   ]
  },
  {
   "cell_type": "markdown",
   "id": "21c17d3e-e4d0-45ba-9170-89414a54d8a3",
   "metadata": {
    "slideshow": {
     "slide_type": "fragment"
    }
   },
   "source": [
    "---"
   ]
  },
  {
   "cell_type": "markdown",
   "id": "9dadb6bc-cc90-4828-9165-16769a85b64d",
   "metadata": {
    "slideshow": {
     "slide_type": "slide"
    }
   },
   "source": [
    "## Sampling with Technology"
   ]
  },
  {
   "cell_type": "markdown",
   "id": "a8f59ea8-afbe-431b-8366-4fa910b3e15c",
   "metadata": {
    "slideshow": {
     "slide_type": "fragment"
    }
   },
   "source": [
    "---"
   ]
  },
  {
   "cell_type": "markdown",
   "id": "57b5a831-bc24-49f3-9523-e825ae7a825b",
   "metadata": {
    "slideshow": {
     "slide_type": "subslide"
    }
   },
   "source": [
    "### Sampling from Arrays and Tables"
   ]
  },
  {
   "cell_type": "markdown",
   "id": "721fa1de-de20-41d3-9e55-6022d3d318b4",
   "metadata": {
    "slideshow": {
     "slide_type": "-"
    }
   },
   "source": [
    "* Sampling from a table\n",
    "    * Use can use `take` to systematically sample data from a table \n",
    "    * `tbl.sample(k=n, with_replacement=True)`:\n",
    "        * Randomly samples with replacement `n` rows from `tbl` and creates a new table\n",
    "        * `k` is `tbl.num_rows` by default\n",
    "        * `with_replacement` is `True` by default\n",
    "* Sampling from an array\n",
    "    * `np.random.choice(a=an_array, size=n, replace=True)`:\n",
    "        * Randomly samples with replacement `n` elements from the elements in `an_array`\n",
    "        * `size` is 1 by default\n",
    "        * `replace` is `True` by default"
   ]
  },
  {
   "cell_type": "markdown",
   "id": "2787bbf7-26d8-4f41-a19c-941d25739ef2",
   "metadata": {
    "slideshow": {
     "slide_type": "fragment"
    }
   },
   "source": [
    "---"
   ]
  },
  {
   "cell_type": "markdown",
   "id": "59353222-ee58-4607-81f0-98034eccba08",
   "metadata": {
    "slideshow": {
     "slide_type": "subslide"
    }
   },
   "source": [
    "### Demo: Sampling from Arrays and Tables"
   ]
  },
  {
   "cell_type": "markdown",
   "id": "c0529fe7-d985-4792-91fc-b3ea388b29ac",
   "metadata": {
    "slideshow": {
     "slide_type": "notes"
    }
   },
   "source": [
    "Load the November 2023 flight delay data in `delay.csv` sourced from the [Bureau of Transportation Statistic's Reporting Carrier On-Time Performance Data](https://www.transtats.bts.gov/DL_SelectFields.aspx?gnoyr_VQ=FGJ&QO_fu146_anzr=b0-gvzr). The variable `ARR_DELAY` contains the difference in minutes between scheduled and actual arrival time at the destination airport `DEST`. Early arrivals show negative numbers, and the airline code is expressed in the variable `OP_CARRIER`."
   ]
  },
  {
   "cell_type": "code",
   "execution_count": null,
   "id": "e990e8e1-796a-4c39-ab9a-5215bf715ae0",
   "metadata": {
    "slideshow": {
     "slide_type": "-"
    }
   },
   "outputs": [],
   "source": [
    "delays = Table.read_table('delays.csv')\n",
    "delays"
   ]
  },
  {
   "cell_type": "markdown",
   "id": "a74866ea-3e5c-403f-8e6d-2d2ee5800e3c",
   "metadata": {
    "slideshow": {
     "slide_type": "fragment"
    }
   },
   "source": [
    "---"
   ]
  },
  {
   "cell_type": "markdown",
   "id": "7f9233e2-044d-4c95-8ef2-c7cff75989a8",
   "metadata": {
    "deletable": false,
    "editable": false,
    "slideshow": {
     "slide_type": "notes"
    }
   },
   "source": [
    "Demonstrate how to use the `take` method to systematically sample the data."
   ]
  },
  {
   "cell_type": "code",
   "execution_count": null,
   "id": "36504fe6-3467-415d-964a-f295e4b470a2",
   "metadata": {
    "slideshow": {
     "slide_type": "fragment"
    },
    "tags": []
   },
   "outputs": [],
   "source": [
    "..."
   ]
  },
  {
   "cell_type": "code",
   "execution_count": null,
   "id": "b466d116-0f90-47ca-b612-1aa8f6a579e8",
   "metadata": {
    "slideshow": {
     "slide_type": "subslide"
    },
    "tags": []
   },
   "outputs": [],
   "source": [
    "..."
   ]
  },
  {
   "cell_type": "code",
   "execution_count": null,
   "id": "3f844725-6be5-47b3-9d79-225dce9d60e9",
   "metadata": {
    "scrolled": true,
    "slideshow": {
     "slide_type": "subslide"
    },
    "tags": []
   },
   "outputs": [],
   "source": [
    "start = ...\n",
    "systematic_sample = ...\n",
    "systematic_sample.show()"
   ]
  },
  {
   "cell_type": "markdown",
   "id": "b7463040-5e96-48c5-88ea-0c3fbd270988",
   "metadata": {
    "slideshow": {
     "slide_type": "fragment"
    }
   },
   "source": [
    "---"
   ]
  },
  {
   "cell_type": "markdown",
   "id": "aef5a02e-d738-4b7e-9d1f-6b0bbc61a8af",
   "metadata": {
    "deletable": false,
    "editable": false
   },
   "source": [
    "Demonstrate how to get a simple random sample of 12 flight delays using `np.random.choice` and `sample`."
   ]
  },
  {
   "cell_type": "code",
   "execution_count": null,
   "id": "6f9c0751-1278-4d85-b2d6-0c04a8e7b853",
   "metadata": {
    "tags": []
   },
   "outputs": [],
   "source": [
    "delays_arr = delays.column('ARR_DELAY')\n",
    "..."
   ]
  },
  {
   "cell_type": "code",
   "execution_count": null,
   "id": "23040841-d269-46fd-aeca-379992928bdf",
   "metadata": {
    "tags": []
   },
   "outputs": [],
   "source": [
    "random_sample = ...\n",
    "random_sample.show()"
   ]
  },
  {
   "cell_type": "markdown",
   "id": "7131f8b2-09c7-4c1e-b7fb-7b7651c15054",
   "metadata": {
    "slideshow": {
     "slide_type": "fragment"
    }
   },
   "source": [
    "---"
   ]
  },
  {
   "cell_type": "markdown",
   "id": "bf1cae3a-5bc5-42d2-b440-90c5809accc9",
   "metadata": {
    "slideshow": {
     "slide_type": "notes"
    }
   },
   "source": [
    "<footer>\n",
    "    <p>Adopted from UC Berkeley DATA 8 course materials.</p>\n",
    "    <p>This content is offered under a <a href=\"https://creativecommons.org/licenses/by-nc-sa/4.0/\">CC Attribution Non-Commercial Share Alike</a> license.</p>\n",
    "</footer>"
   ]
  }
 ],
 "metadata": {
  "kernelspec": {
   "display_name": "Python 3 (ipykernel)",
   "language": "python",
   "name": "python3"
  },
  "language_info": {
   "codemirror_mode": {
    "name": "ipython",
    "version": 3
   },
   "file_extension": ".py",
   "mimetype": "text/x-python",
   "name": "python",
   "nbconvert_exporter": "python",
   "pygments_lexer": "ipython3",
   "version": "3.10.12"
  },
  "otter": {
   "OK_FORMAT": true,
   "tests": {}
  }
 },
 "nbformat": 4,
 "nbformat_minor": 5
}
