{
 "cells": [
  {
   "cell_type": "markdown",
   "id": "f4a1c6e9-0681-4bab-82b5-1b5150e7a386",
   "metadata": {
    "slideshow": {
     "slide_type": "slide"
    }
   },
   "source": [
    "<div style=\"width: 38.5%;\">\n",
    "    <p><strong>City College of San Francisco</strong><p>\n",
    "    <hr>\n",
    "    <p>MATH 108 - Foundations of Data Science</p>\n",
    "</div>"
   ]
  },
  {
   "cell_type": "markdown",
   "id": "77d5c8ab-312b-4345-a133-ee626c08e798",
   "metadata": {
    "slideshow": {
     "slide_type": "-"
    }
   },
   "source": [
    "# Lecture 12: Joins and Examples"
   ]
  },
  {
   "cell_type": "markdown",
   "id": "d248f5bc-27f3-4e9c-ab69-487f997e3b6d",
   "metadata": {
    "slideshow": {
     "slide_type": "-"
    }
   },
   "source": [
    "Associated Textbook Section: [8.4](https://inferentialthinking.com/chapters/08/4/Joining_Tables_by_Columns.html)"
   ]
  },
  {
   "cell_type": "markdown",
   "id": "3a43ddb5-e56e-4396-b87d-b901e29dcd49",
   "metadata": {
    "slideshow": {
     "slide_type": "fragment"
    }
   },
   "source": [
    "---"
   ]
  },
  {
   "cell_type": "markdown",
   "id": "7487e299-0526-4100-8b54-040901a145ab",
   "metadata": {
    "slideshow": {
     "slide_type": "slide"
    }
   },
   "source": [
    "## Overview"
   ]
  },
  {
   "cell_type": "markdown",
   "id": "728ea6e3-1479-486a-8f48-372b562b9556",
   "metadata": {
    "slideshow": {
     "slide_type": "-"
    }
   },
   "source": [
    "* [Joins](#Joins)\n",
    "* [Bay Wheels](#Bay-Wheels)"
   ]
  },
  {
   "cell_type": "markdown",
   "id": "0fb83786-f640-4557-8831-cee6c9e9b647",
   "metadata": {
    "slideshow": {
     "slide_type": "fragment"
    }
   },
   "source": [
    "---"
   ]
  },
  {
   "cell_type": "markdown",
   "id": "ddac35a4-f995-4321-a7ad-bc48f984b57a",
   "metadata": {
    "slideshow": {
     "slide_type": "slide"
    }
   },
   "source": [
    "## Set Up the Notebook"
   ]
  },
  {
   "cell_type": "code",
   "execution_count": null,
   "id": "2e5b1a2e-fada-4f73-a124-e729af2017ca",
   "metadata": {
    "slideshow": {
     "slide_type": "-"
    }
   },
   "outputs": [],
   "source": [
    "from datascience import *\n",
    "import numpy as np\n",
    "%matplotlib inline\n",
    "import matplotlib.pyplot as plt\n",
    "plt.style.use('fivethirtyeight')"
   ]
  },
  {
   "cell_type": "markdown",
   "id": "dd8b6461-0bf0-49dd-83a1-c19f4d7221dc",
   "metadata": {
    "slideshow": {
     "slide_type": "fragment"
    }
   },
   "source": [
    "---"
   ]
  },
  {
   "cell_type": "markdown",
   "id": "3ddfb26e-885b-4c45-b415-3c71364d8ee5",
   "metadata": {
    "slideshow": {
     "slide_type": "slide"
    }
   },
   "source": [
    "## Joins"
   ]
  },
  {
   "cell_type": "markdown",
   "id": "60e82faf-11cf-44e4-b4ad-3fc7ddfec9cb",
   "metadata": {
    "slideshow": {
     "slide_type": "fragment"
    }
   },
   "source": [
    "---"
   ]
  },
  {
   "cell_type": "markdown",
   "id": "0e0bfb76-c2fa-4a82-8388-859c68a80ce0",
   "metadata": {
    "slideshow": {
     "slide_type": "subslide"
    }
   },
   "source": [
    "### Joining Two Tables"
   ]
  },
  {
   "cell_type": "markdown",
   "id": "1b340a0b-4c99-4bdc-892b-7d6c9f45f19a",
   "metadata": {
    "slideshow": {
     "slide_type": "skip"
    }
   },
   "source": [
    "To join information in table called `discounts` with a table called `drinks` where the matching values are in the columns `'location'` and `'cafe'`, respectively, use the command:"
   ]
  },
  {
   "cell_type": "markdown",
   "id": "a9822cdc-a784-4c36-9d56-7e71b2b323f5",
   "metadata": {
    "slideshow": {
     "slide_type": "-"
    }
   },
   "source": [
    "<img src=\"./join_command.png\" alt=\"An example join command with labels\" width = 70%>"
   ]
  },
  {
   "cell_type": "markdown",
   "id": "21fadcca-4f43-4f50-99aa-78fe658d0498",
   "metadata": {
    "slideshow": {
     "slide_type": "fragment"
    }
   },
   "source": [
    "---"
   ]
  },
  {
   "cell_type": "markdown",
   "id": "f39f2cf7-0f3c-4505-a30f-04a7aa67ca90",
   "metadata": {
    "slideshow": {
     "slide_type": "skip"
    }
   },
   "source": [
    "The following graph shows how the `drinks` and `discounts` tables are joined."
   ]
  },
  {
   "cell_type": "markdown",
   "id": "18dee075-17e1-4c20-a5a1-9776fb6943c5",
   "metadata": {
    "slideshow": {
     "slide_type": "fragment"
    }
   },
   "source": [
    "<img src=\"./join_example_table.png\" alt=\"Three tables showing how two were joined into one.\" width = 90%>"
   ]
  },
  {
   "cell_type": "markdown",
   "id": "8e9fea3d-8436-4f82-b3bb-8d92b4425c47",
   "metadata": {
    "slideshow": {
     "slide_type": "fragment"
    }
   },
   "source": [
    "---"
   ]
  },
  {
   "cell_type": "markdown",
   "id": "b20eead5-7114-49db-89b5-a46cf430369e",
   "metadata": {
    "slideshow": {
     "slide_type": "subslide"
    }
   },
   "source": [
    "### Demo: Joins"
   ]
  },
  {
   "cell_type": "markdown",
   "id": "cb928622-4225-4215-a66b-df7a864da15d",
   "metadata": {
    "slideshow": {
     "slide_type": "skip"
    }
   },
   "source": [
    "Create the `drinks` and `discounts` tables."
   ]
  },
  {
   "cell_type": "code",
   "execution_count": null,
   "id": "0faa3b04-7cbb-45be-a801-2ba6d3ca2328",
   "metadata": {
    "slideshow": {
     "slide_type": "-"
    }
   },
   "outputs": [],
   "source": [
    "drinks = Table(['Drink', 'Cafe', 'Price']).with_rows([\n",
    "    ['Milk Tea', 'Asha', 5.5],\n",
    "    ['Espresso', 'Strada',  1.75],\n",
    "    ['Latte',    'Strada',  3.25],\n",
    "    ['Espresso', \"FSM\",   2]\n",
    "])\n",
    "drinks"
   ]
  },
  {
   "cell_type": "code",
   "execution_count": null,
   "id": "6d705e54-d07c-40e8-aa14-61ad163acdf7",
   "metadata": {
    "scrolled": true,
    "slideshow": {
     "slide_type": "subslide"
    }
   },
   "outputs": [],
   "source": [
    "discounts = Table().with_columns(\n",
    "    'Coupon % off', make_array(10, 25, 5),\n",
    "    'Location', make_array('Asha', 'Strada', 'Asha')\n",
    ")\n",
    "discounts"
   ]
  },
  {
   "cell_type": "markdown",
   "id": "9cc6a32e-942e-449f-8714-bf7f5088e283",
   "metadata": {
    "slideshow": {
     "slide_type": "fragment"
    }
   },
   "source": [
    "---"
   ]
  },
  {
   "cell_type": "markdown",
   "id": "cff71ed3-9359-4e0f-896f-22303bae94e9",
   "metadata": {
    "deletable": false,
    "editable": false,
    "slideshow": {
     "slide_type": "skip"
    }
   },
   "source": [
    "Join `discounts` with `drinks` based on the values in `Location` and `Cafe`, respectively."
   ]
  },
  {
   "cell_type": "code",
   "execution_count": null,
   "id": "cf786722-7dce-41ba-88db-6251b1b7f4de",
   "metadata": {
    "slideshow": {
     "slide_type": "subslide"
    },
    "tags": []
   },
   "outputs": [],
   "source": [
    "combined = ...\n",
    "combined"
   ]
  },
  {
   "cell_type": "markdown",
   "id": "c242fec3-e84e-4e9c-a1c3-3f52121558ed",
   "metadata": {
    "slideshow": {
     "slide_type": "fragment"
    }
   },
   "source": [
    "---"
   ]
  },
  {
   "cell_type": "markdown",
   "id": "02b81aac-00ec-41dd-b7ae-79131e7bc377",
   "metadata": {
    "deletable": false,
    "editable": false,
    "slideshow": {
     "slide_type": "skip"
    }
   },
   "source": [
    "Add a `'Discounted Price'` column to the table showing the updated drink price after the coupon has been applied."
   ]
  },
  {
   "cell_type": "code",
   "execution_count": null,
   "id": "182ee2d4-1640-4b3c-97e8-80459ac190ce",
   "metadata": {
    "slideshow": {
     "slide_type": "subslide"
    },
    "tags": []
   },
   "outputs": [],
   "source": [
    "discounted_frac = ...\n",
    "combined.with_column(\n",
    "    'Discounted Price', \n",
    "    combined.column('Price') * discounted_frac\n",
    ")"
   ]
  },
  {
   "cell_type": "markdown",
   "id": "f65277ec-de1c-408f-9abc-89a9f3027856",
   "metadata": {
    "slideshow": {
     "slide_type": "fragment"
    }
   },
   "source": [
    "---"
   ]
  },
  {
   "cell_type": "markdown",
   "id": "e65118a8-b05b-465f-a74a-f80ff19ebe8f",
   "metadata": {
    "deletable": false,
    "editable": false,
    "slideshow": {
     "slide_type": "skip"
    }
   },
   "source": [
    "See what happens when you join tables with the same labels."
   ]
  },
  {
   "cell_type": "code",
   "execution_count": null,
   "id": "78988e19-893d-4962-b142-8eda8d9d6139",
   "metadata": {
    "scrolled": true,
    "slideshow": {
     "slide_type": "subslide"
    },
    "tags": []
   },
   "outputs": [],
   "source": [
    "..."
   ]
  },
  {
   "cell_type": "markdown",
   "id": "9a5e9334-51a1-4b44-ac49-5987f377a8b6",
   "metadata": {
    "slideshow": {
     "slide_type": "fragment"
    }
   },
   "source": [
    "---"
   ]
  },
  {
   "cell_type": "markdown",
   "id": "e7abb714-af7e-43ed-8405-8cadfcf1ddd1",
   "metadata": {},
   "source": [
    "## Bay Wheels"
   ]
  },
  {
   "cell_type": "markdown",
   "id": "eb95b6c5-6cd8-4ce7-b95e-79cfd7a42135",
   "metadata": {
    "slideshow": {
     "slide_type": "fragment"
    }
   },
   "source": [
    "---"
   ]
  },
  {
   "cell_type": "markdown",
   "id": "e3271132-e9bc-4140-b96c-132bdc61c5fa",
   "metadata": {},
   "source": [
    "<img src=\"./baywheels.webp\" alt=\"A person holding balloons next to a Bay Wheels bike\" width=50%>"
   ]
  },
  {
   "cell_type": "markdown",
   "id": "56990415-b350-4105-9127-76d4650d94d4",
   "metadata": {},
   "source": [
    "The Bay Wheels License Agreement outlines that certain system data must be made public. `baywheels.csv` contains all the trips on January 31, 2024, from the [Bay Wheels System Data page](https://www.lyft.com/bikes/bay-wheels/system-data). We've calculated the trip duration (measured in seconds) and included it in the data. Also, we removed any trips that did not have a start or end station name."
   ]
  },
  {
   "cell_type": "markdown",
   "id": "18313a60-b384-4467-aa05-8c011095db29",
   "metadata": {
    "slideshow": {
     "slide_type": "fragment"
    }
   },
   "source": [
    "---"
   ]
  },
  {
   "cell_type": "markdown",
   "id": "3769472f-58c3-4bfe-922d-2c910adb992f",
   "metadata": {
    "tags": []
   },
   "source": [
    "### Demo: Analyzing Bay Wheels"
   ]
  },
  {
   "cell_type": "markdown",
   "id": "a1d07ef1-06c0-4a44-9bd0-189c7fdc8c23",
   "metadata": {
    "deletable": false,
    "editable": false,
    "slideshow": {
     "slide_type": ""
    },
    "tags": []
   },
   "source": [
    "Load that data into a table called `trips`."
   ]
  },
  {
   "cell_type": "code",
   "execution_count": null,
   "id": "20c291ac-35f1-4856-a686-824a11e28b4d",
   "metadata": {
    "editable": true,
    "slideshow": {
     "slide_type": ""
    },
    "tags": []
   },
   "outputs": [],
   "source": [
    "trips = ...\n",
    "trips"
   ]
  },
  {
   "cell_type": "markdown",
   "id": "08238ce1-29ff-4b22-bf3b-167273e21a3b",
   "metadata": {
    "slideshow": {
     "slide_type": "fragment"
    }
   },
   "source": [
    "---"
   ]
  },
  {
   "cell_type": "markdown",
   "id": "bdf3e458-186e-479c-966c-39bf01075129",
   "metadata": {
    "deletable": false,
    "editable": false,
    "slideshow": {
     "slide_type": ""
    },
    "tags": []
   },
   "source": [
    "Create a table showing the top 10 longest (duration) rides."
   ]
  },
  {
   "cell_type": "code",
   "execution_count": null,
   "id": "e31fb9c1-85d8-43b2-8099-afee5a87471e",
   "metadata": {
    "tags": []
   },
   "outputs": [],
   "source": [
    "top10 = ...\n",
    "top10"
   ]
  },
  {
   "cell_type": "code",
   "execution_count": null,
   "id": "d7d9d459-aeb0-4d86-8957-5c63b3261da2",
   "metadata": {
    "tags": []
   },
   "outputs": [],
   "source": [
    "max_duration = ...\n",
    "print(f'The longest ride was {max_duration / (60 * 60):.2f} hours!')"
   ]
  },
  {
   "cell_type": "markdown",
   "id": "2b68d955-552d-426c-811e-c2d079f7e7cd",
   "metadata": {
    "slideshow": {
     "slide_type": "fragment"
    }
   },
   "source": [
    "---"
   ]
  },
  {
   "cell_type": "markdown",
   "id": "d02da65a-74b8-4750-87ae-c088f076391f",
   "metadata": {
    "deletable": false,
    "editable": false,
    "slideshow": {
     "slide_type": ""
    },
    "tags": []
   },
   "source": [
    "Visualize the distribution of ride durations that were less than 1 hour."
   ]
  },
  {
   "cell_type": "code",
   "execution_count": null,
   "id": "505a96a2-7912-4c54-b078-4ffe25f7717c",
   "metadata": {
    "tags": []
   },
   "outputs": [],
   "source": [
    "...\n",
    "\n",
    "plt.title('Ride Durations')\n",
    "plt.show()"
   ]
  },
  {
   "cell_type": "code",
   "execution_count": null,
   "id": "99010cc0-c045-4808-9228-13f301d69cdc",
   "metadata": {
    "tags": []
   },
   "outputs": [],
   "source": [
    "short_trips = ...\n",
    "short_trips"
   ]
  },
  {
   "cell_type": "code",
   "execution_count": null,
   "id": "bdcf1e3d-bcdc-412c-81d4-fb1eefced7f7",
   "metadata": {
    "tags": []
   },
   "outputs": [],
   "source": [
    "...\n",
    "\n",
    "plt.title('Ride Durations Under 1 Hour')\n",
    "plt.show()"
   ]
  },
  {
   "cell_type": "code",
   "execution_count": null,
   "id": "a30d802e-51b6-4fba-8ae0-0188f455ad30",
   "metadata": {
    "tags": []
   },
   "outputs": [],
   "source": [
    "...\n",
    "\n",
    "plt.title('Ride Durations Under 1 Hour')\n",
    "plt.show()"
   ]
  },
  {
   "cell_type": "markdown",
   "id": "f5b3e5e3-e82a-4b4f-abf1-3077c8aa4a33",
   "metadata": {
    "slideshow": {
     "slide_type": "fragment"
    }
   },
   "source": [
    "---"
   ]
  },
  {
   "cell_type": "markdown",
   "id": "1969c954-6cc9-48fc-bed8-03ae29b91ce0",
   "metadata": {
    "deletable": false,
    "editable": false,
    "slideshow": {
     "slide_type": ""
    },
    "tags": []
   },
   "source": [
    "Of the trips lasting under 1 hour, which station had the most rides start from it?"
   ]
  },
  {
   "cell_type": "code",
   "execution_count": null,
   "id": "7b14cf28-adaf-428c-96c6-9005c9e84622",
   "metadata": {
    "tags": []
   },
   "outputs": [],
   "source": [
    "starts = ...\n",
    "starts"
   ]
  },
  {
   "cell_type": "code",
   "execution_count": null,
   "id": "4265fbd8-0c22-4dc9-88e2-ba7aca2044cf",
   "metadata": {
    "tags": []
   },
   "outputs": [],
   "source": [
    "..."
   ]
  },
  {
   "cell_type": "code",
   "execution_count": null,
   "id": "4ae4ba51-7dc9-4e9b-bbbd-09e55d723320",
   "metadata": {
    "scrolled": true,
    "tags": []
   },
   "outputs": [],
   "source": [
    "from IPython.display import IFrame\n",
    "\n",
    "url = 'https://www.google.com/maps/embed?pb=!1m18!1m12!1m3!1d3152\\\n",
    ".8111265440043!2d-122.39737402373477!3d37.794465871980364!2m3!1f0\\\n",
    "!2f0!3f0!3m2!1i1024!2i768!4f13.1!3m3!1m2!1s0x80858066a4c18685%3A0\\\n",
    "xd1df1656cf431ada!2sMarket%20St%20%26%20Steuart%20St%2C%20San%20F\\\n",
    "rancisco%2C%20CA%2094105!5e0!3m2!1sen!2sus!4v1707929255530!5m2!1s\\\n",
    "en!2sus'\n",
    "IFrame(url, width=600, height=450)"
   ]
  },
  {
   "cell_type": "markdown",
   "id": "457f5f2f-8623-4502-a91f-5b9cb2517d77",
   "metadata": {
    "slideshow": {
     "slide_type": "fragment"
    }
   },
   "source": [
    "---"
   ]
  },
  {
   "cell_type": "markdown",
   "id": "b7383477-ed44-4dc1-b9b9-55af9080879c",
   "metadata": {
    "deletable": false,
    "editable": false,
    "slideshow": {
     "slide_type": ""
    },
    "tags": []
   },
   "source": [
    "There is another data file called `stations.csv` that contains just the latitude and longitude for each station. Join that data with the `starts` table."
   ]
  },
  {
   "cell_type": "code",
   "execution_count": null,
   "id": "0a0d3da8-492e-4bf0-849e-0cba77d9d966",
   "metadata": {
    "tags": []
   },
   "outputs": [],
   "source": [
    "stations = Table.read_table('stations.csv')\n",
    "stations"
   ]
  },
  {
   "cell_type": "code",
   "execution_count": null,
   "id": "ccd8c75a-6ae7-4d60-af3b-3251f992c766",
   "metadata": {
    "tags": []
   },
   "outputs": [],
   "source": [
    "starts_geo = ...\n",
    "starts_geo"
   ]
  },
  {
   "cell_type": "markdown",
   "id": "fe50682e-46be-4c2f-8106-6917241d1339",
   "metadata": {
    "slideshow": {
     "slide_type": "fragment"
    }
   },
   "source": [
    "---"
   ]
  },
  {
   "cell_type": "markdown",
   "id": "387c680a-c582-4eea-8c0f-fa754e9c67c8",
   "metadata": {
    "deletable": false,
    "editable": false,
    "slideshow": {
     "slide_type": ""
    },
    "tags": []
   },
   "source": [
    "Use [`Circle`](https://datascience.readthedocs.io/en/master/maps.html#datascience.maps.Circle) to create a map visualization of all the stations with the marker at each station proportional to the number of trips started from that station.\n",
    "\n",
    "Note that `Circle` requires that the table columns used be labeled and ordered in a certain way."
   ]
  },
  {
   "cell_type": "code",
   "execution_count": null,
   "id": "c3bebe13-cc62-42d2-b646-436e19afe375",
   "metadata": {
    "tags": []
   },
   "outputs": [],
   "source": [
    "starts_geo = starts_geo.select('lat', 'lon', 'start_station_name', 'count')\n",
    "starts_geo = starts_geo.relabeled('start_station_name', 'labels')\n",
    "starts_geo = starts_geo.with_column('area', \n",
    " starts_geo.column('count') / sum(starts_geo.column('count')) * 100_000)\n",
    "starts_geo.sort('count', True)"
   ]
  },
  {
   "cell_type": "code",
   "execution_count": null,
   "id": "0a842cfc-0bbe-49a4-970e-599bfed9d695",
   "metadata": {
    "tags": []
   },
   "outputs": [],
   "source": [
    "Circle.map_table(starts_geo)"
   ]
  },
  {
   "cell_type": "markdown",
   "id": "60b58577-6beb-4f9c-8176-7e2b21b77f6c",
   "metadata": {
    "slideshow": {
     "slide_type": "fragment"
    }
   },
   "source": [
    "---"
   ]
  },
  {
   "cell_type": "markdown",
   "id": "7431a35d-a167-4ee9-8a17-c3ba523ffe8c",
   "metadata": {
    "deletable": false,
    "editable": false,
    "slideshow": {
     "slide_type": ""
    },
    "tags": []
   },
   "source": [
    "Of the trips lasting under 1 hour, what is the longest ride for each start/end combination?"
   ]
  },
  {
   "cell_type": "code",
   "execution_count": null,
   "id": "0dd6aaae-0f69-48f4-a8f5-184a6a1ddc89",
   "metadata": {
    "tags": []
   },
   "outputs": [],
   "source": [
    "..."
   ]
  },
  {
   "cell_type": "code",
   "execution_count": null,
   "id": "52e92406-7279-423e-a28f-35d53ce280f1",
   "metadata": {
    "tags": []
   },
   "outputs": [],
   "source": [
    "short_trips_select = ...\n",
    "max_for_each = ...\n",
    "..."
   ]
  },
  {
   "cell_type": "markdown",
   "id": "4127e505-5901-45de-9e91-21b6f5f38f3f",
   "metadata": {
    "slideshow": {
     "slide_type": "fragment"
    }
   },
   "source": [
    "---"
   ]
  },
  {
   "cell_type": "markdown",
   "id": "20af3e6d-5cb0-4be1-a4c7-c272b224a24e",
   "metadata": {
    "slideshow": {
     "slide_type": "fragment"
    }
   },
   "source": [
    "---"
   ]
  },
  {
   "cell_type": "markdown",
   "id": "a4d2385a-8f51-488a-bf29-5c1ec0ccee15",
   "metadata": {
    "deletable": false,
    "editable": false,
    "slideshow": {
     "slide_type": ""
    },
    "tags": []
   },
   "source": [
    "Visualize the distribution of bike type (electric/classic) for members and casual riders. Express the lengths of the bars as a percentage."
   ]
  },
  {
   "cell_type": "code",
   "execution_count": null,
   "id": "53a8d333-ca0d-49c3-a882-93c0d94aa551",
   "metadata": {
    "tags": []
   },
   "outputs": [],
   "source": [
    "...\n",
    "\n",
    "plt.title('Bike Type vs. Membership Type')\n",
    "plt.show()"
   ]
  },
  {
   "cell_type": "markdown",
   "id": "f7996253-8194-462b-91a5-eba2bd488d37",
   "metadata": {
    "slideshow": {
     "slide_type": "fragment"
    }
   },
   "source": [
    "---"
   ]
  },
  {
   "cell_type": "markdown",
   "id": "e053aa6a-5310-4f7c-bbd3-1b32c2fbf067",
   "metadata": {
    "slideshow": {
     "slide_type": "notes"
    }
   },
   "source": [
    "<footer>\n",
    "    <p>Adopted from UC Berkeley DATA 8 course materials.</p>\n",
    "    <p>This content is offered under a <a href=\"https://creativecommons.org/licenses/by-nc-sa/4.0/\">CC Attribution Non-Commercial Share Alike</a> license.</p>\n",
    "</footer>"
   ]
  }
 ],
 "metadata": {
  "kernelspec": {
   "display_name": "Python 3 (ipykernel)",
   "language": "python",
   "name": "python3"
  },
  "language_info": {
   "codemirror_mode": {
    "name": "ipython",
    "version": 3
   },
   "file_extension": ".py",
   "mimetype": "text/x-python",
   "name": "python",
   "nbconvert_exporter": "python",
   "pygments_lexer": "ipython3",
   "version": "3.10.12"
  },
  "otter": {
   "OK_FORMAT": true,
   "tests": {}
  }
 },
 "nbformat": 4,
 "nbformat_minor": 5
}
