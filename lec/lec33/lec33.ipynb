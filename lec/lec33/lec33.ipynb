{
 "cells": [
  {
   "cell_type": "markdown",
   "id": "79dc33dd-fd65-4404-93b2-ecd1c17a3c41",
   "metadata": {
    "editable": true,
    "slideshow": {
     "slide_type": ""
    },
    "tags": []
   },
   "source": [
    "<div style=\"width: 38.5%;\">\n",
    "    <p><strong>City College of San Francisco</strong><p>\n",
    "    <hr>\n",
    "    <p>MATH 108 - Foundations of Data Science</p>\n",
    "</div>"
   ]
  },
  {
   "cell_type": "markdown",
   "id": "89638a68-910c-4e2b-91d3-e2cffd979f8c",
   "metadata": {
    "slideshow": {
     "slide_type": "-"
    }
   },
   "source": [
    "# Lecture 33: Residuals"
   ]
  },
  {
   "cell_type": "markdown",
   "id": "8dc78611-e217-45ee-96c6-afdcd35d967f",
   "metadata": {
    "slideshow": {
     "slide_type": "-"
    }
   },
   "source": [
    "Associated Textbook Sections: [15.5 - 15.6](https://inferentialthinking.com/chapters/15/5/Visual_Diagnostics.html)"
   ]
  },
  {
   "cell_type": "markdown",
   "id": "87cf8797-46ae-417f-9a1c-8018acf73274",
   "metadata": {
    "slideshow": {
     "slide_type": "fragment"
    }
   },
   "source": [
    "---"
   ]
  },
  {
   "cell_type": "markdown",
   "id": "1aa528a1-4c37-426e-a0d1-721aa11d63f4",
   "metadata": {
    "slideshow": {
     "slide_type": "slide"
    }
   },
   "source": [
    "## Outline"
   ]
  },
  {
   "cell_type": "markdown",
   "id": "41790cc0-3141-4464-95eb-d152f3b55791",
   "metadata": {},
   "source": [
    "* [Residuals](#Residuals)\n",
    "* [Regression Diagnostics](#Regression-Diagnostics)\n",
    "* [A Measure of Clustering](#A-Measure-of-Clustering)"
   ]
  },
  {
   "cell_type": "markdown",
   "id": "8f97508b-9b40-4c80-9146-16dcb0ca17c9",
   "metadata": {
    "slideshow": {
     "slide_type": "fragment"
    }
   },
   "source": [
    "---"
   ]
  },
  {
   "cell_type": "markdown",
   "id": "8b367858-f3b5-4afa-ba3e-ac5d3d6d1c33",
   "metadata": {
    "slideshow": {
     "slide_type": "slide"
    }
   },
   "source": [
    "## Set Up the Notebook"
   ]
  },
  {
   "cell_type": "code",
   "execution_count": null,
   "id": "6fcec560-b160-485e-aabd-74bb1cfca071",
   "metadata": {
    "slideshow": {
     "slide_type": "-"
    }
   },
   "outputs": [],
   "source": [
    "from datascience import *\n",
    "import numpy as np\n",
    "%matplotlib inline\n",
    "import matplotlib.pyplot as plt\n",
    "plt.style.use('fivethirtyeight')\n",
    "\n",
    "# Functions defined in previous lectures\n",
    "\n",
    "def standard_units(arr):\n",
    "    \"\"\" Converts an array to standard units \"\"\"\n",
    "    return (arr - np.average(arr))/np.std(arr)\n",
    "\n",
    "def correlation(t, x, y):\n",
    "    \"\"\" Computes correlation: t is a table, and x and y are column names \"\"\"\n",
    "    x_standard = standard_units(t.column(x))\n",
    "    y_standard = standard_units(t.column(y))\n",
    "    return np.average(x_standard * y_standard)\n",
    "\n",
    "def slope(t, x, y):\n",
    "    \"\"\" Computes the slope of the regression line, like correlation above \"\"\"\n",
    "    r = correlation(t, x, y)\n",
    "    y_sd = np.std(t.column(y))\n",
    "    x_sd = np.std(t.column(x))\n",
    "    return r * y_sd / x_sd\n",
    "\n",
    "def intercept(t, x, y):\n",
    "    \"\"\" Computes the intercept of the regression line, like slope above \"\"\"\n",
    "    x_mean = np.mean(t.column(x))\n",
    "    y_mean = np.mean(t.column(y))\n",
    "    return y_mean - slope(t, x, y)*x_mean\n",
    "\n",
    "def fitted_values(t, x, y):\n",
    "    \"\"\"Return an array of the regression estimates (predictions) at all the x values\"\"\"\n",
    "    a = slope(t, x, y)\n",
    "    b = intercept(t, x, y)\n",
    "    return a*t.column(x) + b"
   ]
  },
  {
   "cell_type": "markdown",
   "id": "2d862b5d-b04b-49e5-a2ce-67d681861da7",
   "metadata": {
    "slideshow": {
     "slide_type": "fragment"
    }
   },
   "source": [
    "---"
   ]
  },
  {
   "cell_type": "markdown",
   "id": "60ea1e36-b718-4f98-acb4-f1d2562eaf37",
   "metadata": {
    "slideshow": {
     "slide_type": "slide"
    }
   },
   "source": [
    "## Residuals"
   ]
  },
  {
   "cell_type": "markdown",
   "id": "a3db89be-5d56-4ed1-a1e6-fb08bf093a23",
   "metadata": {
    "slideshow": {
     "slide_type": "fragment"
    }
   },
   "source": [
    "---"
   ]
  },
  {
   "cell_type": "markdown",
   "id": "efa4b10c-4082-4cd0-ae48-c6a845e44e2f",
   "metadata": {
    "slideshow": {
     "slide_type": "subslide"
    },
    "tags": []
   },
   "source": [
    "### Residuals"
   ]
  },
  {
   "cell_type": "markdown",
   "id": "e8957d38-ddf7-465b-940a-68183f9c58a9",
   "metadata": {
    "slideshow": {
     "slide_type": "-"
    }
   },
   "source": [
    "* Error in regression estimate\n",
    "* One residual corresponding to each point (x, y)\n",
    "* residual \n",
    "    * = observed y - regression estimate of y\n",
    "    *  = observed y - height of regression line at x\n",
    "    *  = vertical distance between the point and the best line\n"
   ]
  },
  {
   "cell_type": "markdown",
   "id": "b9bb73e3-79bb-426d-bf36-6d42c724c1db",
   "metadata": {
    "slideshow": {
     "slide_type": "fragment"
    }
   },
   "source": [
    "---"
   ]
  },
  {
   "cell_type": "markdown",
   "id": "92f9d561-cf96-4359-b0e0-79bf534aaae1",
   "metadata": {
    "slideshow": {
     "slide_type": "subslide"
    },
    "tags": []
   },
   "source": [
    "### Demo: Residuals"
   ]
  },
  {
   "cell_type": "markdown",
   "id": "01fbb572-0442-469b-9170-271474d99a69",
   "metadata": {
    "deletable": false,
    "editable": false,
    "slideshow": {
     "slide_type": "notes"
    },
    "tags": []
   },
   "source": [
    "Calculate and visualize the residuals associated with linear regression estimates for `Median Income` values based on `College%` in the `district_demographics2016.csv` data. "
   ]
  },
  {
   "cell_type": "code",
   "execution_count": null,
   "id": "9ab92a7e-b1d7-4249-9a4d-39a653fc8f3d",
   "metadata": {
    "slideshow": {
     "slide_type": "subslide"
    },
    "tags": []
   },
   "outputs": [],
   "source": [
    "demographics = Table.read_table('district_demographics2016.csv')\n",
    "demographics"
   ]
  },
  {
   "cell_type": "code",
   "execution_count": null,
   "id": "111486d5-2af7-4e47-bf0c-6899ac9e752c",
   "metadata": {
    "tags": []
   },
   "outputs": [],
   "source": [
    "predict_income = demographics.select('College%', 'Median Income')\n",
    "predict_income = predict_income.with_columns('Fitted',\n",
    "    fitted_values(demographics, 'College%', 'Median Income'))\n",
    "predict_income.scatter('College%')"
   ]
  },
  {
   "cell_type": "code",
   "execution_count": null,
   "id": "0111246a-76fa-427b-9bfb-7e3089fc0370",
   "metadata": {
    "tags": []
   },
   "outputs": [],
   "source": [
    "demographics = demographics.drop(\n",
    "    'State', 'District')\n",
    "demographics.show(5)"
   ]
  },
  {
   "cell_type": "code",
   "execution_count": null,
   "id": "55e4cf27-fc2e-4eec-8ef7-1064005c5c5c",
   "metadata": {
    "tags": []
   },
   "outputs": [],
   "source": [
    "def residuals(t, x, y):\n",
    "    predictions = ...\n",
    "    ..."
   ]
  },
  {
   "cell_type": "code",
   "execution_count": null,
   "id": "9b3bef1d-975b-49ae-9662-8f1c9ddeec62",
   "metadata": {
    "tags": []
   },
   "outputs": [],
   "source": [
    "demographics = demographics.with_columns(\n",
    "    'Fitted Value', fitted_values(demographics, 'College%', 'Median Income'),\n",
    "    'Residual', residuals(demographics, 'College%', 'Median Income')\n",
    ")\n",
    "demographics"
   ]
  },
  {
   "cell_type": "code",
   "execution_count": null,
   "id": "8776cdd6-42ec-4db4-86f4-d2de0060e3f5",
   "metadata": {
    "tags": []
   },
   "outputs": [],
   "source": [
    "demographics.scatter('College%')"
   ]
  },
  {
   "cell_type": "code",
   "execution_count": null,
   "id": "a407cf20-df42-45e9-80af-ef6c21932758",
   "metadata": {
    "slideshow": {
     "slide_type": "subslide"
    },
    "tags": []
   },
   "outputs": [],
   "source": [
    "def plot_residuals(t, x, y):\n",
    "    tbl = t.with_columns(\n",
    "        'Fitted', fitted_values(t, x, y),\n",
    "        'Residual', residuals(t, x, y)\n",
    "    )\n",
    "    tbl.select(x, y, 'Fitted').scatter(0)\n",
    "    tbl.scatter(x, 'Residual')"
   ]
  },
  {
   "cell_type": "code",
   "execution_count": null,
   "id": "099d634e-9f72-454e-945d-ebfc2cf555b9",
   "metadata": {
    "slideshow": {
     "slide_type": "subslide"
    },
    "tags": []
   },
   "outputs": [],
   "source": [
    "plot_residuals(demographics, 'College%', 'Median Income')"
   ]
  },
  {
   "cell_type": "markdown",
   "id": "3f846376-f178-4da0-adc6-7853bb532520",
   "metadata": {
    "slideshow": {
     "slide_type": "fragment"
    }
   },
   "source": [
    "---"
   ]
  },
  {
   "cell_type": "markdown",
   "id": "ced9fb5a-e79d-4416-8c83-20fe5bf49ba2",
   "metadata": {
    "slideshow": {
     "slide_type": "subslide"
    },
    "tags": []
   },
   "source": [
    "### Demo: More Residuals"
   ]
  },
  {
   "cell_type": "markdown",
   "id": "179db6a9-d827-40d6-a1ed-028bc96d2b7c",
   "metadata": {
    "deletable": false,
    "editable": false
   },
   "source": [
    "Visualize the residuals associated with the `family_heights.csv` data set when predicting `Child` values from `Midparent` values using linear regression."
   ]
  },
  {
   "cell_type": "code",
   "execution_count": null,
   "id": "ea716dd1-a5ca-4458-8354-e44de67241e0",
   "metadata": {
    "slideshow": {
     "slide_type": "subslide"
    },
    "tags": []
   },
   "outputs": [],
   "source": [
    "family_heights = Table.read_table('family_heights.csv')\n",
    "parents = (family_heights.column('father') + family_heights.column('mother'))/2\n",
    "heights = Table().with_columns(\n",
    "    'Parent Average', parents,\n",
    "    'Child', family_heights.column('childHeight')\n",
    "    )\n",
    "plot_residuals(heights, 'Parent Average', 'Child')"
   ]
  },
  {
   "cell_type": "markdown",
   "id": "98b68e7f-1e51-4794-8ebe-e828fbe2120a",
   "metadata": {
    "slideshow": {
     "slide_type": "fragment"
    },
    "tags": []
   },
   "source": [
    "---"
   ]
  },
  {
   "cell_type": "markdown",
   "id": "31cd138c-c7b5-4b9b-8b62-932bb336de69",
   "metadata": {
    "slideshow": {
     "slide_type": "slide"
    }
   },
   "source": [
    "## Regression Diagnostics"
   ]
  },
  {
   "cell_type": "markdown",
   "id": "bbdc5c50-6bc4-43c1-86f7-745f2a9ebb1d",
   "metadata": {
    "slideshow": {
     "slide_type": "fragment"
    }
   },
   "source": [
    "---"
   ]
  },
  {
   "cell_type": "markdown",
   "id": "64a2aa56-1c88-4da5-8fe8-a47c0d7a1cd3",
   "metadata": {
    "slideshow": {
     "slide_type": "subslide"
    },
    "tags": []
   },
   "source": [
    "### Example: Dugongs"
   ]
  },
  {
   "cell_type": "markdown",
   "id": "965bd02e-c3ed-49fc-aa1f-4a1bce605d6d",
   "metadata": {
    "slideshow": {
     "slide_type": "-"
    }
   },
   "source": [
    "<a href=\"https://blogs.oregonstate.edu/gemmlab/2021/09/27/let-me-introduce-you-to-dugongs/\" title=\"OSU Geospatial Ecology of Marine Megafauna Laboratory\"><img src=\"./dugong_OSU.jpeg\" alt=\"A drawing of a dugong\" width=50%></a>"
   ]
  },
  {
   "cell_type": "markdown",
   "id": "2d1dd3dc-5de5-48a7-b8c8-3ae00832320e",
   "metadata": {
    "slideshow": {
     "slide_type": "fragment"
    }
   },
   "source": [
    "---"
   ]
  },
  {
   "cell_type": "markdown",
   "id": "ca09efae-0175-48e1-af2e-141b1f5e48dc",
   "metadata": {
    "slideshow": {
     "slide_type": "subslide"
    },
    "tags": []
   },
   "source": [
    "### Demo: Dugongs"
   ]
  },
  {
   "attachments": {},
   "cell_type": "markdown",
   "id": "44b83ae6-44d7-4a4a-a19b-39f4d857dc5e",
   "metadata": {
    "deletable": false,
    "editable": false,
    "slideshow": {
     "slide_type": "notes"
    },
    "tags": []
   },
   "source": [
    "* Visualize the relationship between a dugong's length and age based on the `dugong.csv` dataset.\n",
    "* Although the data is not linear, calculate the correlation coefficient.\n",
    "* Visualize the residuals associated with the linear regression prediction for a dugong's age based on its height."
   ]
  },
  {
   "cell_type": "code",
   "execution_count": null,
   "id": "d8378848-6937-4529-bb86-52311cce1662",
   "metadata": {
    "scrolled": true,
    "tags": []
   },
   "outputs": [],
   "source": [
    "dugong = Table.read_table('dugong.csv')\n",
    "dugong.show(5)"
   ]
  },
  {
   "cell_type": "code",
   "execution_count": null,
   "id": "3491fadd-2b76-4189-838f-da9a4a620a6e",
   "metadata": {
    "slideshow": {
     "slide_type": "subslide"
    },
    "tags": []
   },
   "outputs": [],
   "source": [
    "..."
   ]
  },
  {
   "cell_type": "code",
   "execution_count": null,
   "id": "e3123173-ae47-41e2-be7d-78a835993d45",
   "metadata": {
    "slideshow": {
     "slide_type": "fragment"
    },
    "tags": []
   },
   "outputs": [],
   "source": [
    "..."
   ]
  },
  {
   "cell_type": "code",
   "execution_count": null,
   "id": "7b23fcdc-cd41-4a05-8307-0fc1e7dc4c2b",
   "metadata": {
    "slideshow": {
     "slide_type": "subslide"
    },
    "tags": []
   },
   "outputs": [],
   "source": [
    "..."
   ]
  },
  {
   "cell_type": "markdown",
   "id": "d422b3af-db53-490d-9147-56ddea488df2",
   "metadata": {
    "slideshow": {
     "slide_type": "fragment"
    }
   },
   "source": [
    "---"
   ]
  },
  {
   "cell_type": "markdown",
   "id": "738d573f-4545-43e7-a251-9788d097743e",
   "metadata": {},
   "source": [
    "### Demo: US Women"
   ]
  },
  {
   "cell_type": "markdown",
   "id": "73651429-5604-4669-81d3-5ed1fc3ed768",
   "metadata": {
    "deletable": false,
    "editable": false
   },
   "source": [
    "Examine the residuals associated with predicted average weight by height for US women based on Census data."
   ]
  },
  {
   "cell_type": "code",
   "execution_count": null,
   "id": "e071c71b-716a-4e51-8ac1-2e8fc3e9dacd",
   "metadata": {
    "tags": []
   },
   "outputs": [],
   "source": [
    "us_women = Table.read_table('us_women.csv')\n",
    "us_women.show(5)"
   ]
  },
  {
   "cell_type": "code",
   "execution_count": null,
   "id": "37ee747a-24c4-410b-8d00-cb88e429fb0e",
   "metadata": {
    "tags": []
   },
   "outputs": [],
   "source": [
    "..."
   ]
  },
  {
   "cell_type": "code",
   "execution_count": null,
   "id": "d1cbd4bb-e024-4829-965e-388c4f5df79c",
   "metadata": {
    "tags": []
   },
   "outputs": [],
   "source": [
    "..."
   ]
  },
  {
   "cell_type": "code",
   "execution_count": null,
   "id": "c708279c-4f76-437d-b2e8-fe9e87d933ba",
   "metadata": {
    "tags": []
   },
   "outputs": [],
   "source": [
    "..."
   ]
  },
  {
   "cell_type": "markdown",
   "id": "db5eb89c-ca8a-43d2-8951-9005ec24083e",
   "metadata": {},
   "source": [
    "_Be careful of the ecological correlation issue we have talked about previously._"
   ]
  },
  {
   "cell_type": "markdown",
   "id": "eaab9bae-1d2c-4e17-845c-71c78bafa768",
   "metadata": {
    "slideshow": {
     "slide_type": "fragment"
    }
   },
   "source": [
    "---"
   ]
  },
  {
   "cell_type": "markdown",
   "id": "7fc57290-0056-4a53-9dac-5e807e01997f",
   "metadata": {
    "slideshow": {
     "slide_type": "subslide"
    },
    "tags": []
   },
   "source": [
    "### Residual Plot"
   ]
  },
  {
   "cell_type": "markdown",
   "id": "899b0ee2-b079-4e75-983a-10aacca33a92",
   "metadata": {
    "slideshow": {
     "slide_type": "-"
    }
   },
   "source": [
    "A scatter diagram of residuals\n",
    "* Should look like an unassociated blob for linear relations\n",
    "* But will show patterns for non-linear relations\n",
    "* Used to check whether linear regression is appropriate\n",
    "* Look for curves, trends, changes in spread, outliers, or any other patterns\n"
   ]
  },
  {
   "cell_type": "markdown",
   "id": "4a499312-fab7-42de-b7cd-415d08eb9f44",
   "metadata": {
    "slideshow": {
     "slide_type": "fragment"
    }
   },
   "source": [
    "---"
   ]
  },
  {
   "cell_type": "markdown",
   "id": "c0d558b6-4b46-41d3-b032-92e0622c0aa3",
   "metadata": {
    "slideshow": {
     "slide_type": "subslide"
    },
    "tags": []
   },
   "source": [
    "### Properties of Residuals"
   ]
  },
  {
   "cell_type": "markdown",
   "id": "1f5ac6d5-d93b-4e4c-9269-3c631ae2da21",
   "metadata": {
    "slideshow": {
     "slide_type": "-"
    }
   },
   "source": [
    "Residuals from a linear regression always have\n",
    "* Zero mean (so rmse = SD of residuals)\n",
    "* Zero correlation with $x$\n",
    "* Zero correlation with the fitted values"
   ]
  },
  {
   "cell_type": "markdown",
   "id": "6c569f5c-1373-44e0-bbb9-19395967c1d6",
   "metadata": {
    "slideshow": {
     "slide_type": "fragment"
    }
   },
   "source": [
    "---"
   ]
  },
  {
   "cell_type": "markdown",
   "id": "4217f2b3-d9e6-49e5-9214-bcb4720b28c0",
   "metadata": {},
   "source": [
    "#### Demo: Properties of Residuals"
   ]
  },
  {
   "cell_type": "code",
   "execution_count": null,
   "id": "6ab9fc9e-ad33-4d63-8fe9-f568c063cc27",
   "metadata": {},
   "outputs": [],
   "source": [
    "round(np.average(residuals(dugong, 'Length', 'Age')), 6)"
   ]
  },
  {
   "cell_type": "code",
   "execution_count": null,
   "id": "d5bbace5-7bbf-4b80-97d5-d0787a725672",
   "metadata": {},
   "outputs": [],
   "source": [
    "round(np.average(residuals(heights, 'Parent Average', 'Child')), 6)"
   ]
  },
  {
   "cell_type": "code",
   "execution_count": null,
   "id": "70859c6b-5676-4778-b32a-b4f10c1c478c",
   "metadata": {},
   "outputs": [],
   "source": [
    "round(np.average(residuals(demographics, 'College%', 'Median Income')), 6)"
   ]
  },
  {
   "cell_type": "code",
   "execution_count": null,
   "id": "29050f8f-5406-41c0-a793-095d0c674369",
   "metadata": {},
   "outputs": [],
   "source": [
    "heights = heights.with_columns(\n",
    "    'Residual', residuals(heights, 'Parent Average', 'Child'),\n",
    "    'Fitted Value', fitted_values(heights, 'Parent Average', 'Child')\n",
    ")"
   ]
  },
  {
   "cell_type": "code",
   "execution_count": null,
   "id": "fd4597fd-eb83-4713-8023-72c602f89cd0",
   "metadata": {},
   "outputs": [],
   "source": [
    "round(correlation(heights, 'Parent Average', 'Residual'), 6)"
   ]
  },
  {
   "cell_type": "code",
   "execution_count": null,
   "id": "f8f0adb9-9635-4a9c-98c9-0ba182b5aef6",
   "metadata": {},
   "outputs": [],
   "source": [
    "round(correlation(heights, 'Fitted Value', 'Residual'), 6)"
   ]
  },
  {
   "cell_type": "markdown",
   "id": "bb3e4a15-1353-4191-b29c-cd4b32493c3e",
   "metadata": {
    "slideshow": {
     "slide_type": "fragment"
    }
   },
   "source": [
    "---"
   ]
  },
  {
   "cell_type": "markdown",
   "id": "65ea1345-0b2d-4d63-a957-ef68d13e4a46",
   "metadata": {
    "slideshow": {
     "slide_type": "notes"
    }
   },
   "source": [
    "<footer>\n",
    "    <p>Adopted from UC Berkeley DATA 8 course materials.</p>\n",
    "    <p>This content is offered under a <a href=\"https://creativecommons.org/licenses/by-nc-sa/4.0/\">CC Attribution Non-Commercial Share Alike</a> license.</p>\n",
    "</footer>"
   ]
  }
 ],
 "metadata": {
  "kernelspec": {
   "display_name": "Python 3 (ipykernel)",
   "language": "python",
   "name": "python3"
  },
  "language_info": {
   "codemirror_mode": {
    "name": "ipython",
    "version": 3
   },
   "file_extension": ".py",
   "mimetype": "text/x-python",
   "name": "python",
   "nbconvert_exporter": "python",
   "pygments_lexer": "ipython3",
   "version": "3.10.12"
  },
  "otter": {
   "OK_FORMAT": true,
   "tests": {}
  }
 },
 "nbformat": 4,
 "nbformat_minor": 5
}
