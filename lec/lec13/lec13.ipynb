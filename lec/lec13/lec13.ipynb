{
 "cells": [
  {
   "cell_type": "markdown",
   "id": "b4efc0db-7532-4518-b9ca-a788bc02cc3f",
   "metadata": {
    "slideshow": {
     "slide_type": "slide"
    }
   },
   "source": [
    "<div style=\"width: 38.5%;\">\n",
    "    <p><strong>City College of San Francisco</strong><p>\n",
    "    <hr>\n",
    "    <p>MATH 108 - Foundations of Data Science</p>\n",
    "</div>"
   ]
  },
  {
   "cell_type": "markdown",
   "id": "e9bc0929-9845-4e95-8ddb-e32b342d3b53",
   "metadata": {
    "slideshow": {
     "slide_type": "-"
    }
   },
   "source": [
    "# Lecture 13: Conditionals and Iteration"
   ]
  },
  {
   "cell_type": "markdown",
   "id": "ac8b0242-ec59-40a9-b010-717ff9e8a560",
   "metadata": {
    "slideshow": {
     "slide_type": "-"
    }
   },
   "source": [
    "Associated Textbook Sections: [9.0, 9.1, 9.2, 9.3](https://inferentialthinking.com/chapters/09/Randomness.html)"
   ]
  },
  {
   "cell_type": "markdown",
   "id": "4fc9ed03-0d57-4f62-9a59-184c6c0e04b4",
   "metadata": {
    "slideshow": {
     "slide_type": "fragment"
    }
   },
   "source": [
    "--- "
   ]
  },
  {
   "cell_type": "markdown",
   "id": "37fac6d7-c2ed-480c-8786-4700b22cfedb",
   "metadata": {
    "slideshow": {
     "slide_type": "slide"
    }
   },
   "source": [
    "## Overview"
   ]
  },
  {
   "cell_type": "markdown",
   "id": "4566071e-f3fa-4906-ae20-cc8172f0becf",
   "metadata": {
    "slideshow": {
     "slide_type": "-"
    }
   },
   "source": [
    "* [Comparison and Booleans](#Comparison-and-Booleans)\n",
    "* [Applying a Function to a Row](#Applying-a-Function-to-a-Row)\n",
    "* [Control Statements](#Control-Statements)\n",
    "* [Random Selection](#Random-Selection)\n",
    "* [Appending Arrays](#Appending-Arrays)\n",
    "* [Iteration](#Iteration)\n",
    "* [`bool` and `where`](#bool-and-where)"
   ]
  },
  {
   "cell_type": "markdown",
   "id": "ad954893-5472-4930-9503-c1ceddf5f821",
   "metadata": {
    "slideshow": {
     "slide_type": "fragment"
    }
   },
   "source": [
    "--- "
   ]
  },
  {
   "cell_type": "markdown",
   "id": "d6bf40a4-26c4-42db-a39e-b98dd85f3f68",
   "metadata": {
    "slideshow": {
     "slide_type": "slide"
    }
   },
   "source": [
    "## Set Up the Notebook"
   ]
  },
  {
   "cell_type": "code",
   "execution_count": null,
   "id": "2b507e41-ba3a-4445-957c-4773db2a1ae4",
   "metadata": {
    "slideshow": {
     "slide_type": "-"
    }
   },
   "outputs": [],
   "source": [
    "from datascience import *\n",
    "import numpy as np\n",
    "%matplotlib inline\n",
    "import matplotlib.pyplot as plt\n",
    "plt.style.use('fivethirtyeight')"
   ]
  },
  {
   "cell_type": "markdown",
   "id": "8502aab3-e2c6-4d69-b430-501721f3add4",
   "metadata": {
    "slideshow": {
     "slide_type": "fragment"
    }
   },
   "source": [
    "--- "
   ]
  },
  {
   "cell_type": "markdown",
   "id": "8b59b55e-19e8-435f-b752-c0e2a0e2e890",
   "metadata": {
    "slideshow": {
     "slide_type": "slide"
    }
   },
   "source": [
    "## Comparison and Booleans"
   ]
  },
  {
   "cell_type": "markdown",
   "id": "f06201bb-6c43-4dde-8fc2-9f2ca62072b7",
   "metadata": {
    "slideshow": {
     "slide_type": "fragment"
    }
   },
   "source": [
    "--- "
   ]
  },
  {
   "cell_type": "markdown",
   "id": "80ed633a-c89d-4f30-813c-58ccf9571238",
   "metadata": {
    "slideshow": {
     "slide_type": "subslide"
    }
   },
   "source": [
    "### Comparison Operators"
   ]
  },
  {
   "cell_type": "markdown",
   "id": "40c19fb1-c7d1-4a7c-9abf-6984502854d7",
   "metadata": {
    "slideshow": {
     "slide_type": "-"
    }
   },
   "source": [
    "* Assignments Statements:\n",
    "    * `x = 6`\n",
    "    * `height = x * 12`\n",
    "* Comparison Expressions:\n",
    "    * `x > 1`\n",
    "    * `x < y`\n",
    "    * `y >= 3`\n",
    "    * `x == y`\n",
    "    * `x != y`\n",
    "    * `2 < x < 5`\n",
    "* The result of a comparison expression is a `bool` value (`True` or `False`)"
   ]
  },
  {
   "cell_type": "markdown",
   "id": "35ef4d17-c84a-48b4-9ade-12d6a167e12b",
   "metadata": {
    "slideshow": {
     "slide_type": "fragment"
    }
   },
   "source": [
    "--- "
   ]
  },
  {
   "cell_type": "markdown",
   "id": "2601c737-8624-4d02-b77c-c77e6c52eab0",
   "metadata": {
    "slideshow": {
     "slide_type": "subslide"
    }
   },
   "source": [
    "### Aggregating Comparisons"
   ]
  },
  {
   "cell_type": "markdown",
   "id": "0d525a93-31c5-403c-aa73-9c9c8414a19d",
   "metadata": {
    "slideshow": {
     "slide_type": "-"
    }
   },
   "source": [
    "* Summing an array or list of `bool` values will count the `True` values only.\n",
    "* The following produce an output of `2`:\n",
    "    * `1 + 0 + 1`\n",
    "    * `True + False + True`\n",
    "    * `sum([1, 0, 1])`\n",
    "    * `sum([True, False, True])`"
   ]
  },
  {
   "cell_type": "markdown",
   "id": "7f9b7d20-9147-4d28-b8ab-5f99dc906a58",
   "metadata": {
    "slideshow": {
     "slide_type": "fragment"
    }
   },
   "source": [
    "--- "
   ]
  },
  {
   "cell_type": "markdown",
   "id": "0ee87cc7-0a6e-4d5e-9543-e0d3e802b74b",
   "metadata": {
    "slideshow": {
     "slide_type": "subslide"
    }
   },
   "source": [
    "### Demo: Comparison"
   ]
  },
  {
   "cell_type": "markdown",
   "id": "c6bcac17-68cd-4b22-8990-84bedd1b861f",
   "metadata": {
    "deletable": false,
    "editable": false,
    "slideshow": {
     "slide_type": "notes"
    }
   },
   "source": [
    "Demonstrate using the comparison operators. "
   ]
  },
  {
   "cell_type": "code",
   "execution_count": null,
   "id": "98a9fba8-07b0-4e82-885c-f31150cf13ea",
   "metadata": {
    "slideshow": {
     "slide_type": "fragment"
    },
    "tags": []
   },
   "outputs": [],
   "source": [
    "..."
   ]
  },
  {
   "cell_type": "code",
   "execution_count": null,
   "id": "a0b1f9f6-f8ad-45c9-9245-7d6d7095dae5",
   "metadata": {
    "slideshow": {
     "slide_type": "fragment"
    },
    "tags": []
   },
   "outputs": [],
   "source": [
    "..."
   ]
  },
  {
   "cell_type": "code",
   "execution_count": null,
   "id": "4d37cd66-838f-4936-b2ad-d9d327675774",
   "metadata": {
    "slideshow": {
     "slide_type": "subslide"
    },
    "tags": []
   },
   "outputs": [],
   "source": [
    "..."
   ]
  },
  {
   "cell_type": "code",
   "execution_count": null,
   "id": "af0cde99-c8e4-4dc9-a276-9b793b3cb12a",
   "metadata": {
    "slideshow": {
     "slide_type": "fragment"
    },
    "tags": []
   },
   "outputs": [],
   "source": [
    "# Creates a NameError\n",
    "..."
   ]
  },
  {
   "cell_type": "code",
   "execution_count": null,
   "id": "a4b5a795-9100-43f8-8ae3-8d7047f2c739",
   "metadata": {
    "slideshow": {
     "slide_type": "subslide"
    },
    "tags": []
   },
   "outputs": [],
   "source": [
    "# Creates a SyntaxError\n",
    "..."
   ]
  },
  {
   "cell_type": "code",
   "execution_count": null,
   "id": "dcb03b5d-2e80-43a8-9735-10132246cc58",
   "metadata": {
    "slideshow": {
     "slide_type": "fragment"
    },
    "tags": []
   },
   "outputs": [],
   "source": [
    "3 = ..."
   ]
  },
  {
   "cell_type": "code",
   "execution_count": null,
   "id": "277afc59-c1bc-45fb-9ed9-584bd4f247ca",
   "metadata": {
    "slideshow": {
     "slide_type": "fragment"
    },
    "tags": []
   },
   "outputs": [],
   "source": [
    "..."
   ]
  },
  {
   "cell_type": "code",
   "execution_count": null,
   "id": "b2c56610-0c03-478b-be12-d8df045ebfc5",
   "metadata": {
    "slideshow": {
     "slide_type": "subslide"
    },
    "tags": []
   },
   "outputs": [],
   "source": [
    "x = 14\n",
    "y = 3"
   ]
  },
  {
   "cell_type": "code",
   "execution_count": null,
   "id": "6e8f4416-6aa7-471a-9e6f-521df2622d9f",
   "metadata": {
    "slideshow": {
     "slide_type": "fragment"
    },
    "tags": []
   },
   "outputs": [],
   "source": [
    "..."
   ]
  },
  {
   "cell_type": "code",
   "execution_count": null,
   "id": "a1a49fda-66cb-4d7e-9f70-e61364088f39",
   "metadata": {
    "slideshow": {
     "slide_type": "fragment"
    },
    "tags": []
   },
   "outputs": [],
   "source": [
    "..."
   ]
  },
  {
   "cell_type": "code",
   "execution_count": null,
   "id": "178c7278-31d5-41fc-a3fb-b12d160fb884",
   "metadata": {
    "slideshow": {
     "slide_type": "fragment"
    },
    "tags": []
   },
   "outputs": [],
   "source": [
    "..."
   ]
  },
  {
   "cell_type": "code",
   "execution_count": null,
   "id": "d9f8d17a-2aa2-4313-ade0-fd6e65e74224",
   "metadata": {
    "slideshow": {
     "slide_type": "subslide"
    },
    "tags": []
   },
   "outputs": [],
   "source": [
    "..."
   ]
  },
  {
   "cell_type": "code",
   "execution_count": null,
   "id": "4b3098d8-dc08-49ba-87e3-396f835c6e77",
   "metadata": {
    "slideshow": {
     "slide_type": "fragment"
    },
    "tags": []
   },
   "outputs": [],
   "source": [
    "..."
   ]
  },
  {
   "cell_type": "code",
   "execution_count": null,
   "id": "2653f5d4-6094-4896-a0b1-132ce0ff388d",
   "metadata": {
    "slideshow": {
     "slide_type": "fragment"
    },
    "tags": []
   },
   "outputs": [],
   "source": [
    "..."
   ]
  },
  {
   "cell_type": "markdown",
   "id": "bef381ae-8711-44dc-83a2-ca1be31f0c6e",
   "metadata": {
    "slideshow": {
     "slide_type": "fragment"
    }
   },
   "source": [
    "--- "
   ]
  },
  {
   "cell_type": "markdown",
   "id": "f023a69e-fd00-4ea6-8c60-0fac8b330f98",
   "metadata": {
    "slideshow": {
     "slide_type": "subslide"
    }
   },
   "source": [
    "### Demo: Comparisons with Arrays"
   ]
  },
  {
   "cell_type": "markdown",
   "id": "b1643927-5b0d-4350-816d-a25ca4cfb9d6",
   "metadata": {
    "deletable": false,
    "editable": false,
    "slideshow": {
     "slide_type": "notes"
    }
   },
   "source": [
    "Demonstrate how comparisons work with arrays."
   ]
  },
  {
   "cell_type": "code",
   "execution_count": null,
   "id": "cee5ec9a-d10d-4d5e-aeb7-86a3cad94c17",
   "metadata": {
    "slideshow": {
     "slide_type": "fragment"
    },
    "tags": []
   },
   "outputs": [],
   "source": [
    "pets = make_array('cat', 'cat', 'dog', 'cat', 'dog', 'rabbit')"
   ]
  },
  {
   "cell_type": "code",
   "execution_count": null,
   "id": "dc93ccf1-a056-45bf-addc-bb591af6f1ed",
   "metadata": {
    "slideshow": {
     "slide_type": "fragment"
    },
    "tags": []
   },
   "outputs": [],
   "source": [
    "pets = ..."
   ]
  },
  {
   "cell_type": "code",
   "execution_count": null,
   "id": "dca92559-53cd-4cde-9486-75f810988f73",
   "metadata": {
    "slideshow": {
     "slide_type": "subslide"
    },
    "tags": []
   },
   "outputs": [],
   "source": [
    "..."
   ]
  },
  {
   "cell_type": "code",
   "execution_count": null,
   "id": "2f07e757-a1bb-44a3-8c5a-6fef1b9d7d61",
   "metadata": {
    "slideshow": {
     "slide_type": "fragment"
    },
    "tags": []
   },
   "outputs": [],
   "source": [
    "..."
   ]
  },
  {
   "cell_type": "code",
   "execution_count": null,
   "id": "30fcb272-43f6-439a-ac05-ad56c391866d",
   "metadata": {
    "slideshow": {
     "slide_type": "subslide"
    },
    "tags": []
   },
   "outputs": [],
   "source": [
    "..."
   ]
  },
  {
   "cell_type": "code",
   "execution_count": null,
   "id": "ad99b79e-63f4-4dcf-b8ff-b93773c4ed41",
   "metadata": {
    "slideshow": {
     "slide_type": "fragment"
    },
    "tags": []
   },
   "outputs": [],
   "source": [
    "..."
   ]
  },
  {
   "cell_type": "code",
   "execution_count": null,
   "id": "6a166e9e-de2f-44eb-a4dc-ff2188ea6e8c",
   "metadata": {
    "slideshow": {
     "slide_type": "subslide"
    },
    "tags": []
   },
   "outputs": [],
   "source": [
    "x = ..."
   ]
  },
  {
   "cell_type": "code",
   "execution_count": null,
   "id": "1848c5fa-41d1-4e08-bed2-e8b025ed8f9e",
   "metadata": {
    "slideshow": {
     "slide_type": "fragment"
    },
    "tags": []
   },
   "outputs": [],
   "source": [
    "..."
   ]
  },
  {
   "cell_type": "markdown",
   "id": "4881c716-1408-4325-9cf3-8aae3acd7808",
   "metadata": {
    "slideshow": {
     "slide_type": "fragment"
    }
   },
   "source": [
    "--- "
   ]
  },
  {
   "cell_type": "markdown",
   "id": "fe7cfc4f-079b-4425-9d2a-51ed7f1dad40",
   "metadata": {
    "slideshow": {
     "slide_type": "slide"
    }
   },
   "source": [
    "## Applying a Function to a Row"
   ]
  },
  {
   "cell_type": "markdown",
   "id": "e11fe01f-d2eb-4975-9759-3a74118a69a9",
   "metadata": {
    "slideshow": {
     "slide_type": "fragment"
    }
   },
   "source": [
    "--- "
   ]
  },
  {
   "cell_type": "markdown",
   "id": "b66c32df-0741-4153-bca1-6643f69d9b28",
   "metadata": {
    "slideshow": {
     "slide_type": "subslide"
    }
   },
   "source": [
    "### Rows"
   ]
  },
  {
   "cell_type": "markdown",
   "id": "b24043e8-fb2c-4c92-bab7-1624062fd682",
   "metadata": {
    "slideshow": {
     "slide_type": "-"
    }
   },
   "source": [
    "A row of a table has items and can be aggregated\n",
    "* `r = t.row(0) # r is the row at index 0`\n",
    "* `r.item(1)    # item can take an index or label`\n",
    "* `sum(r)       # Also: np.average, min, max, etc.`\n"
   ]
  },
  {
   "cell_type": "markdown",
   "id": "a032511a-2b19-4f43-a840-54b1fbc4894b",
   "metadata": {
    "slideshow": {
     "slide_type": "fragment"
    }
   },
   "source": [
    "--- "
   ]
  },
  {
   "cell_type": "markdown",
   "id": "5f291a99-89d5-4947-94e4-f60ded72cada",
   "metadata": {},
   "source": [
    "### Apply with One Argument"
   ]
  },
  {
   "cell_type": "markdown",
   "id": "3924e0fb-f681-4561-a5f0-711a918ad5bd",
   "metadata": {},
   "source": [
    "* `t.apply(f)` for a table `t` and function `f` creates an array of the results of applying `f` to each row of `t`. \n",
    "* E.g., `t.apply(sum)` would return the sum of each row as an array.\n"
   ]
  },
  {
   "cell_type": "markdown",
   "id": "22996254-44cc-4c55-82f4-88af6cd80db6",
   "metadata": {
    "slideshow": {
     "slide_type": "fragment"
    }
   },
   "source": [
    "--- "
   ]
  },
  {
   "cell_type": "markdown",
   "id": "fbf48166-f5fc-4062-9539-2f14e739d145",
   "metadata": {},
   "source": [
    "### Demo: Apply with One Argument"
   ]
  },
  {
   "cell_type": "markdown",
   "id": "cf2b393f-8a57-4a31-b008-03453baea366",
   "metadata": {
    "deletable": false,
    "editable": false
   },
   "source": [
    "Try applying the `np.sum` function to the rows of the following table."
   ]
  },
  {
   "cell_type": "code",
   "execution_count": null,
   "id": "508887d7-9add-415e-ade5-8f52839c96bc",
   "metadata": {
    "tags": []
   },
   "outputs": [],
   "source": [
    "tbl = Table().with_columns(\n",
    "    'Var 1', [2, 5, 8, 2, 3, 10],\n",
    "    'Var 2', ['A', 'B', 'B', 'A', 'A', 'B'],\n",
    "    'Var 3', [80, 20, 10, 14, 18, 102])\n",
    "tbl"
   ]
  },
  {
   "cell_type": "code",
   "execution_count": null,
   "id": "c3192f95-2bb2-4816-90f4-ee3a9b0b0613",
   "metadata": {
    "tags": []
   },
   "outputs": [],
   "source": [
    "# Including the non-numeric column would create a UFuncTypeError with the sum function\n",
    "..."
   ]
  },
  {
   "cell_type": "code",
   "execution_count": null,
   "id": "994ae586-ae5a-4fc3-9754-c03b754d2292",
   "metadata": {
    "tags": []
   },
   "outputs": [],
   "source": [
    "tbl_numeric = ...\n",
    "sums = ...\n",
    "sums"
   ]
  },
  {
   "cell_type": "code",
   "execution_count": null,
   "id": "e636156c-b52a-46f7-965e-26696ed301da",
   "metadata": {
    "tags": []
   },
   "outputs": [],
   "source": [
    "..."
   ]
  },
  {
   "cell_type": "markdown",
   "id": "51995411-6292-4c31-9947-d2d06f82b76b",
   "metadata": {
    "slideshow": {
     "slide_type": "fragment"
    }
   },
   "source": [
    "--- "
   ]
  },
  {
   "cell_type": "markdown",
   "id": "9b859407-6c7e-44b7-acfb-0da7d75b729d",
   "metadata": {
    "slideshow": {
     "slide_type": "slide"
    }
   },
   "source": [
    "## Control Statements"
   ]
  },
  {
   "cell_type": "markdown",
   "id": "f696f7b2-579e-4d84-b82a-be0ac9306fd0",
   "metadata": {
    "slideshow": {
     "slide_type": "fragment"
    }
   },
   "source": [
    "--- "
   ]
  },
  {
   "cell_type": "markdown",
   "id": "c6fd1f69-e988-4a61-84f4-4ea7dc2b0be7",
   "metadata": {
    "slideshow": {
     "slide_type": "subslide"
    }
   },
   "source": [
    "### Control Statements"
   ]
  },
  {
   "cell_type": "markdown",
   "id": "f7b07d27-a154-44f1-a0e3-cb658c0590ae",
   "metadata": {
    "slideshow": {
     "slide_type": "-"
    }
   },
   "source": [
    "These statements control the sequence of computations that are performed in a program\n",
    "\n",
    "* The keywords `if` and `for` begin control statements\n",
    "* The purpose of `if` is to choose different code segments based on their arguments."
   ]
  },
  {
   "cell_type": "markdown",
   "id": "16ace9fd-1f88-464b-953c-41122c4a13e6",
   "metadata": {
    "slideshow": {
     "slide_type": "fragment"
    }
   },
   "source": [
    "--- "
   ]
  },
  {
   "cell_type": "markdown",
   "id": "4b3b137c-1d7e-459e-afb6-f59966da7497",
   "metadata": {
    "slideshow": {
     "slide_type": "subslide"
    }
   },
   "source": [
    "### Demo: Simulation"
   ]
  },
  {
   "cell_type": "markdown",
   "id": "f792974e-943a-44f2-a91a-22892f16ebe4",
   "metadata": {
    "slideshow": {
     "slide_type": "-"
    }
   },
   "source": [
    "Consider the following game where each of 2 players rolls a die. \n",
    "\n",
    "* The player with the smaller value pays the other player one dollar.\n",
    "* If there is a tie, then no one pays anything."
   ]
  },
  {
   "cell_type": "markdown",
   "id": "c7dd58b0-ea02-4b1f-88ce-c47be54707c9",
   "metadata": {
    "deletable": false,
    "editable": false,
    "slideshow": {
     "slide_type": "notes"
    }
   },
   "source": [
    "Find a way to simulate one round of the game where each player rolls a die. It might help to think from the perspective of one of the players."
   ]
  },
  {
   "cell_type": "code",
   "execution_count": null,
   "id": "b8147b78-a0ab-43e9-a0d0-b65fdb09eca5",
   "metadata": {
    "slideshow": {
     "slide_type": "subslide"
    },
    "tags": []
   },
   "outputs": [],
   "source": [
    "# Work in progress\n",
    "...\n"
   ]
  },
  {
   "cell_type": "code",
   "execution_count": null,
   "id": "81bbfdd7-59ce-4ebb-8458-96454093f7d7",
   "metadata": {
    "slideshow": {
     "slide_type": "fragment"
    },
    "tags": []
   },
   "outputs": [],
   "source": [
    "..."
   ]
  },
  {
   "cell_type": "code",
   "execution_count": null,
   "id": "0a5abdff-66db-4717-b876-1d6c3b476761",
   "metadata": {
    "slideshow": {
     "slide_type": "fragment"
    },
    "tags": []
   },
   "outputs": [],
   "source": [
    "..."
   ]
  },
  {
   "cell_type": "code",
   "execution_count": null,
   "id": "161e5486-2236-469d-b378-5d2f2db2053d",
   "metadata": {
    "slideshow": {
     "slide_type": "subslide"
    },
    "tags": []
   },
   "outputs": [],
   "source": [
    "..."
   ]
  },
  {
   "cell_type": "code",
   "execution_count": null,
   "id": "7815be9a-af6a-4d08-b83a-56176cbd7187",
   "metadata": {
    "slideshow": {
     "slide_type": "fragment"
    },
    "tags": []
   },
   "outputs": [],
   "source": [
    "..."
   ]
  },
  {
   "cell_type": "code",
   "execution_count": null,
   "id": "aa6d48d2-c1ee-49a4-ae68-0944194c7b9d",
   "metadata": {
    "slideshow": {
     "slide_type": "fragment"
    },
    "tags": []
   },
   "outputs": [],
   "source": [
    "..."
   ]
  },
  {
   "cell_type": "code",
   "execution_count": null,
   "id": "f4f2fec4-1fc5-45ec-9b02-1291239381f0",
   "metadata": {
    "slideshow": {
     "slide_type": "fragment"
    },
    "tags": []
   },
   "outputs": [],
   "source": [
    "..."
   ]
  },
  {
   "cell_type": "markdown",
   "id": "52b84fdf-b65b-4579-9bd7-4ff7b7c0a1f1",
   "metadata": {
    "slideshow": {
     "slide_type": "fragment"
    }
   },
   "source": [
    "--- "
   ]
  },
  {
   "cell_type": "markdown",
   "id": "fecf5e7c-9948-41a5-afe5-96c38864cb4a",
   "metadata": {
    "slideshow": {
     "slide_type": "slide"
    }
   },
   "source": [
    "## Random Selection"
   ]
  },
  {
   "cell_type": "markdown",
   "id": "f2b2cb7a-6649-427a-b5d3-621e426de052",
   "metadata": {
    "slideshow": {
     "slide_type": "fragment"
    }
   },
   "source": [
    "--- "
   ]
  },
  {
   "cell_type": "markdown",
   "id": "721e5254-e273-42d7-960e-ab2f03436e03",
   "metadata": {
    "slideshow": {
     "slide_type": "subslide"
    }
   },
   "source": [
    "### Random Selection"
   ]
  },
  {
   "cell_type": "markdown",
   "id": "17eaa59a-7fa7-44dc-a26a-4b88a5be086c",
   "metadata": {
    "slideshow": {
     "slide_type": "-"
    }
   },
   "source": [
    "The command \n",
    "\n",
    "`np.random.choice(some_array, sample_size)`\n",
    "\n",
    "creates an array by selecting a number (`sample_size`) of values uniformly at random with replacement from an array (`some_array`)."
   ]
  },
  {
   "cell_type": "markdown",
   "id": "ce9c8911-8a33-4b55-8ab8-57a6123b615d",
   "metadata": {
    "slideshow": {
     "slide_type": "fragment"
    }
   },
   "source": [
    "--- "
   ]
  },
  {
   "cell_type": "markdown",
   "id": "2222cc57-7aaf-480e-b90a-5c6a1cc21b57",
   "metadata": {
    "slideshow": {
     "slide_type": "subslide"
    }
   },
   "source": [
    "### Demo: Random Selection"
   ]
  },
  {
   "cell_type": "markdown",
   "id": "12ad9194-55e3-483b-a9d6-532656822553",
   "metadata": {
    "deletable": false,
    "editable": false,
    "slideshow": {
     "slide_type": "notes"
    }
   },
   "source": [
    "Demonstrate how to use `np.random.choice`."
   ]
  },
  {
   "cell_type": "code",
   "execution_count": null,
   "id": "0a5f9fe9-fc14-4e6d-a207-18af8b6114cd",
   "metadata": {
    "slideshow": {
     "slide_type": "fragment"
    },
    "tags": []
   },
   "outputs": [],
   "source": [
    "mornings = make_array('wake up', 'sleep in')"
   ]
  },
  {
   "cell_type": "code",
   "execution_count": null,
   "id": "d4bf8478-134f-4031-b170-666a17713510",
   "metadata": {
    "slideshow": {
     "slide_type": "fragment"
    },
    "tags": []
   },
   "outputs": [],
   "source": [
    "..."
   ]
  },
  {
   "cell_type": "code",
   "execution_count": null,
   "id": "6665bf26-c2bc-474e-9b0a-b8a0f7bbff8f",
   "metadata": {
    "slideshow": {
     "slide_type": "fragment"
    },
    "tags": []
   },
   "outputs": [],
   "source": [
    "..."
   ]
  },
  {
   "cell_type": "code",
   "execution_count": null,
   "id": "b339e243-a9de-446e-b922-d58ed6e9910c",
   "metadata": {
    "slideshow": {
     "slide_type": "fragment"
    },
    "tags": []
   },
   "outputs": [],
   "source": [
    "..."
   ]
  },
  {
   "cell_type": "code",
   "execution_count": null,
   "id": "831a3799-e88f-445a-bd63-1dfff6107217",
   "metadata": {
    "slideshow": {
     "slide_type": "subslide"
    },
    "tags": []
   },
   "outputs": [],
   "source": [
    "..."
   ]
  },
  {
   "cell_type": "code",
   "execution_count": null,
   "id": "c266739c-2f0b-46ea-bbca-66dd716e717c",
   "metadata": {
    "slideshow": {
     "slide_type": "subslide"
    },
    "tags": []
   },
   "outputs": [],
   "source": [
    "..."
   ]
  },
  {
   "cell_type": "code",
   "execution_count": null,
   "id": "4d8c5c06-b599-4d2a-b4c8-773fc1bf2626",
   "metadata": {
    "slideshow": {
     "slide_type": "fragment"
    },
    "tags": []
   },
   "outputs": [],
   "source": [
    "..."
   ]
  },
  {
   "cell_type": "code",
   "execution_count": null,
   "id": "89c0bb41-e6aa-4bf1-b29a-08dcfa5688de",
   "metadata": {
    "slideshow": {
     "slide_type": "fragment"
    },
    "tags": []
   },
   "outputs": [],
   "source": [
    "morning_week = ...\n",
    "morning_week"
   ]
  },
  {
   "cell_type": "code",
   "execution_count": null,
   "id": "d41783ff-e655-4620-b303-60bb4368a54b",
   "metadata": {
    "slideshow": {
     "slide_type": "subslide"
    },
    "tags": []
   },
   "outputs": [],
   "source": [
    "..."
   ]
  },
  {
   "cell_type": "code",
   "execution_count": null,
   "id": "0bcc2e19-9fe0-4122-8c7b-a240a3b2f232",
   "metadata": {
    "slideshow": {
     "slide_type": "fragment"
    },
    "tags": []
   },
   "outputs": [],
   "source": [
    "..."
   ]
  },
  {
   "cell_type": "markdown",
   "id": "4f1742be-97f7-456b-898d-2717755717f4",
   "metadata": {
    "slideshow": {
     "slide_type": "fragment"
    }
   },
   "source": [
    "--- "
   ]
  },
  {
   "cell_type": "markdown",
   "id": "73388efb-edc1-4b08-a5b3-ffcafe87b403",
   "metadata": {
    "deletable": false,
    "editable": false,
    "slideshow": {
     "slide_type": "notes"
    }
   },
   "source": [
    "Create a function that simulates one round of the game described earlier by randomly generating the rolls."
   ]
  },
  {
   "cell_type": "code",
   "execution_count": null,
   "id": "6746f4a5-4994-49d0-bb0f-0e5f8e64f451",
   "metadata": {
    "slideshow": {
     "slide_type": "subslide"
    },
    "tags": []
   },
   "outputs": [],
   "source": [
    "die_faces = ..."
   ]
  },
  {
   "cell_type": "code",
   "execution_count": null,
   "id": "4978f0c4-4bd6-4b03-8dca-6e22d4c66c42",
   "metadata": {
    "slideshow": {
     "slide_type": "fragment"
    },
    "tags": []
   },
   "outputs": [],
   "source": [
    "..."
   ]
  },
  {
   "cell_type": "code",
   "execution_count": null,
   "id": "2b26dbbe-332d-4719-be6a-f0c60db15d47",
   "metadata": {
    "slideshow": {
     "slide_type": "subslide"
    },
    "tags": []
   },
   "outputs": [],
   "source": [
    "..."
   ]
  },
  {
   "cell_type": "code",
   "execution_count": null,
   "id": "928b160f-84c7-4e6b-8b66-ab3131948907",
   "metadata": {
    "slideshow": {
     "slide_type": "fragment"
    },
    "tags": []
   },
   "outputs": [],
   "source": [
    "..."
   ]
  },
  {
   "cell_type": "markdown",
   "id": "046bbad5-e33b-4410-835c-d4b449efdc78",
   "metadata": {
    "slideshow": {
     "slide_type": "fragment"
    }
   },
   "source": [
    "--- "
   ]
  },
  {
   "cell_type": "markdown",
   "id": "225c6441-dd1e-497b-9af8-e7d05c1a5b08",
   "metadata": {
    "slideshow": {
     "slide_type": "slide"
    }
   },
   "source": [
    "## Appending Arrays"
   ]
  },
  {
   "cell_type": "markdown",
   "id": "40f09d37-eaf5-4996-bfb9-0833f754c7bd",
   "metadata": {
    "slideshow": {
     "slide_type": "fragment"
    }
   },
   "source": [
    "--- "
   ]
  },
  {
   "cell_type": "markdown",
   "id": "e97e5479-b552-48e7-8fbc-c965462fb31a",
   "metadata": {
    "slideshow": {
     "slide_type": "subslide"
    }
   },
   "source": [
    "### A Longer Array"
   ]
  },
  {
   "cell_type": "markdown",
   "id": "a6fc0620-9197-4540-b553-b1d23402b2da",
   "metadata": {
    "slideshow": {
     "slide_type": "-"
    }
   },
   "source": [
    "* `np.append(array_1, value)`\n",
    "    * new array with value appended to `array_1`\n",
    "    * `value` has to be of the same type as elements of `array_1`\n",
    "* `np.append(array_1, array_2)`\n",
    "    * new array with `array_2` appended to `array_1`\n",
    "    * `array_2` elements must have the same type as `array_1` elements"
   ]
  },
  {
   "cell_type": "markdown",
   "id": "edd75d24-3efa-4f0e-b9e4-3c40ebab21ed",
   "metadata": {
    "slideshow": {
     "slide_type": "fragment"
    }
   },
   "source": [
    "--- "
   ]
  },
  {
   "cell_type": "markdown",
   "id": "0892e7b7-bd37-476c-882b-614f87609d95",
   "metadata": {
    "slideshow": {
     "slide_type": "subslide"
    }
   },
   "source": [
    "### Demo: Appending Arrays"
   ]
  },
  {
   "cell_type": "markdown",
   "id": "738e83ec-1352-4831-8f48-6d22f97c3086",
   "metadata": {
    "deletable": false,
    "editable": false,
    "slideshow": {
     "slide_type": "notes"
    }
   },
   "source": [
    "Demonstrate how to append values to an array."
   ]
  },
  {
   "cell_type": "code",
   "execution_count": null,
   "id": "22e6d2d9-d818-4a94-ac54-64437d5a1073",
   "metadata": {
    "slideshow": {
     "slide_type": "fragment"
    },
    "tags": []
   },
   "outputs": [],
   "source": [
    "first = ...\n",
    "second = ..."
   ]
  },
  {
   "cell_type": "code",
   "execution_count": null,
   "id": "bbc232ce-db62-44ee-866d-c3c4277383c6",
   "metadata": {
    "slideshow": {
     "slide_type": "fragment"
    },
    "tags": []
   },
   "outputs": [],
   "source": [
    "..."
   ]
  },
  {
   "cell_type": "code",
   "execution_count": null,
   "id": "ecdd671e-69d3-4cf3-9d06-f51b7ead9b7b",
   "metadata": {
    "slideshow": {
     "slide_type": "fragment"
    },
    "tags": []
   },
   "outputs": [],
   "source": [
    "..."
   ]
  },
  {
   "cell_type": "code",
   "execution_count": null,
   "id": "3ec56616-6dc2-47f2-afb1-632de62ac3b0",
   "metadata": {
    "slideshow": {
     "slide_type": "subslide"
    },
    "tags": []
   },
   "outputs": [],
   "source": [
    "..."
   ]
  },
  {
   "cell_type": "code",
   "execution_count": null,
   "id": "ce129480-5a97-43b8-8c36-7761b413d02a",
   "metadata": {
    "slideshow": {
     "slide_type": "fragment"
    },
    "tags": []
   },
   "outputs": [],
   "source": [
    "first"
   ]
  },
  {
   "cell_type": "code",
   "execution_count": null,
   "id": "492e9dac-71c2-4048-a118-65e5020bc373",
   "metadata": {
    "slideshow": {
     "slide_type": "fragment"
    },
    "tags": []
   },
   "outputs": [],
   "source": [
    "second"
   ]
  },
  {
   "cell_type": "markdown",
   "id": "5eb0a961-f037-4e19-9af8-682413052f1e",
   "metadata": {
    "slideshow": {
     "slide_type": "fragment"
    }
   },
   "source": [
    "--- "
   ]
  },
  {
   "cell_type": "markdown",
   "id": "fd10032c-de06-454f-af08-f9b8430be3e6",
   "metadata": {
    "slideshow": {
     "slide_type": "subslide"
    }
   },
   "source": [
    "### Demo: Repeated Betting"
   ]
  },
  {
   "cell_type": "markdown",
   "id": "46ca1dd8-605b-4dda-ab8d-1c7a467c4252",
   "metadata": {
    "deletable": false,
    "editable": false,
    "slideshow": {
     "slide_type": "notes"
    }
   },
   "source": [
    "Store the results of the simulated game in an array for each player. First, create an empty array."
   ]
  },
  {
   "cell_type": "code",
   "execution_count": null,
   "id": "164ad028-6940-431c-936e-af65cb73d68e",
   "metadata": {
    "slideshow": {
     "slide_type": "fragment"
    },
    "tags": []
   },
   "outputs": [],
   "source": [
    "player1_results = ...\n",
    "player1_results"
   ]
  },
  {
   "cell_type": "code",
   "execution_count": null,
   "id": "408b36e1-529a-459b-8aa4-2ffd680eed56",
   "metadata": {
    "slideshow": {
     "slide_type": "fragment"
    },
    "tags": []
   },
   "outputs": [],
   "source": [
    "player1_results = ...\n",
    "player1_results"
   ]
  },
  {
   "cell_type": "markdown",
   "id": "5cd2e4fb-f15d-410f-a321-fa1bea3c2ce2",
   "metadata": {
    "slideshow": {
     "slide_type": "fragment"
    }
   },
   "source": [
    "--- "
   ]
  },
  {
   "cell_type": "markdown",
   "id": "9a2e9279-2f1e-43bb-8ab4-21cbce7ad691",
   "metadata": {
    "slideshow": {
     "slide_type": "slide"
    }
   },
   "source": [
    "## Iteration"
   ]
  },
  {
   "cell_type": "markdown",
   "id": "fe9581ff-f5d9-48d5-9def-974e490bc275",
   "metadata": {
    "slideshow": {
     "slide_type": "fragment"
    }
   },
   "source": [
    "--- "
   ]
  },
  {
   "cell_type": "markdown",
   "id": "9f74a9f5-0f34-4817-bd7c-548a87837484",
   "metadata": {
    "slideshow": {
     "slide_type": "subslide"
    }
   },
   "source": [
    "### `for` Statements"
   ]
  },
  {
   "cell_type": "markdown",
   "id": "4c4277e2-c279-41ac-9b9d-37a53e6cb2f6",
   "metadata": {
    "slideshow": {
     "slide_type": "-"
    }
   },
   "source": [
    "* `for` is a keyword that begins a control statement\n",
    "* The purpose of `for` is to perform a computation for every element in a list or array"
   ]
  },
  {
   "cell_type": "markdown",
   "id": "702c60f5-eba9-4669-92c9-27b643ae7a49",
   "metadata": {
    "slideshow": {
     "slide_type": "fragment"
    }
   },
   "source": [
    "--- "
   ]
  },
  {
   "cell_type": "markdown",
   "id": "8b66bc1b-7086-4978-acf2-61ffc721766e",
   "metadata": {},
   "source": [
    "### Anatomy of a for loop"
   ]
  },
  {
   "cell_type": "markdown",
   "id": "ef730ec8-024b-445a-84be-16fb42b44288",
   "metadata": {},
   "source": [
    "<img src=\"./for_loop_anatomy.png\" alt=\"A description of the parts of an example for loop statement\" width=50%></img>"
   ]
  },
  {
   "cell_type": "markdown",
   "id": "b71bb0c9-1246-4071-b487-46f39ff16b88",
   "metadata": {
    "slideshow": {
     "slide_type": "fragment"
    }
   },
   "source": [
    "--- "
   ]
  },
  {
   "cell_type": "markdown",
   "id": "e00b0db1-0ca1-49e9-bd66-b4904d5651a0",
   "metadata": {
    "slideshow": {
     "slide_type": "subslide"
    }
   },
   "source": [
    "### Demo: `for` Statements"
   ]
  },
  {
   "cell_type": "markdown",
   "id": "851d7f13-8b80-4a02-9d3c-814301e5b9e3",
   "metadata": {
    "deletable": false,
    "editable": false,
    "slideshow": {
     "slide_type": "notes"
    }
   },
   "source": [
    "Demonstrate how `for` statements work."
   ]
  },
  {
   "cell_type": "code",
   "execution_count": null,
   "id": "e24e914c-6765-4525-aaed-36a92229aef6",
   "metadata": {
    "slideshow": {
     "slide_type": "fragment"
    },
    "tags": []
   },
   "outputs": [],
   "source": [
    "..."
   ]
  },
  {
   "cell_type": "code",
   "execution_count": null,
   "id": "53bf2fda-f2d5-409c-aec4-c228a7226c37",
   "metadata": {
    "slideshow": {
     "slide_type": "fragment"
    },
    "tags": []
   },
   "outputs": [],
   "source": [
    "pet = make_array('cat', 'dog', 'rabbit').item(0)\n",
    "print('I love my ' + pet)\n",
    "\n",
    "pet = make_array('cat', 'dog', 'rabbit').item(1)\n",
    "print('I love my ' + pet)\n",
    "\n",
    "pet = make_array('cat', 'dog', 'rabbit').item(2)\n",
    "print('I love my ' + pet)"
   ]
  },
  {
   "cell_type": "markdown",
   "id": "c0f2ec7a-60a9-4f11-81ee-c9c0c5cacbc8",
   "metadata": {
    "slideshow": {
     "slide_type": "fragment"
    }
   },
   "source": [
    "--- "
   ]
  },
  {
   "cell_type": "markdown",
   "id": "014ce79d-1a76-4078-a38e-5a7f765b370e",
   "metadata": {
    "deletable": false,
    "editable": false,
    "slideshow": {
     "slide_type": "notes"
    }
   },
   "source": [
    "Simulate and the store results of 10,000 iterations of the game described earlier."
   ]
  },
  {
   "cell_type": "code",
   "execution_count": null,
   "id": "58a6cb1a-7ab0-4303-b122-8647347f7b59",
   "metadata": {
    "slideshow": {
     "slide_type": "subslide"
    },
    "tags": []
   },
   "outputs": [],
   "source": [
    "..."
   ]
  },
  {
   "cell_type": "code",
   "execution_count": null,
   "id": "3859acb2-1d73-4b92-8965-52db189ff66b",
   "metadata": {
    "slideshow": {
     "slide_type": "subslide"
    },
    "tags": []
   },
   "outputs": [],
   "source": [
    "..."
   ]
  },
  {
   "cell_type": "code",
   "execution_count": null,
   "id": "6cf7d2fb-be27-4e58-a114-35131b9f14e1",
   "metadata": {
    "slideshow": {
     "slide_type": "fragment"
    },
    "tags": []
   },
   "outputs": [],
   "source": [
    "..."
   ]
  },
  {
   "cell_type": "markdown",
   "id": "82216fd4-fa62-44ba-8246-0f1eac5cc71d",
   "metadata": {
    "slideshow": {
     "slide_type": "fragment"
    }
   },
   "source": [
    "--- "
   ]
  },
  {
   "cell_type": "markdown",
   "id": "3c539ad6-59f9-421f-bf22-5e28fcbbd89b",
   "metadata": {
    "deletable": false,
    "editable": false,
    "slideshow": {
     "slide_type": "notes"
    }
   },
   "source": [
    "Create a table with the results of the game and visualize the results for Player 1."
   ]
  },
  {
   "cell_type": "code",
   "execution_count": null,
   "id": "d2506bc0-6456-44e7-af13-71f095bb524c",
   "metadata": {
    "slideshow": {
     "slide_type": "subslide"
    },
    "tags": []
   },
   "outputs": [],
   "source": [
    "..."
   ]
  },
  {
   "cell_type": "code",
   "execution_count": null,
   "id": "f6ac3876-d5b4-4b4e-a156-3eeac74e3fab",
   "metadata": {
    "slideshow": {
     "slide_type": "subslide"
    },
    "tags": []
   },
   "outputs": [],
   "source": [
    "results.group('Player 1 Outcome').barh('Player 1 Outcome')"
   ]
  },
  {
   "cell_type": "markdown",
   "id": "288db24e-50f6-482e-a8ec-df948f277fdb",
   "metadata": {
    "slideshow": {
     "slide_type": "fragment"
    }
   },
   "source": [
    "--- "
   ]
  },
  {
   "cell_type": "markdown",
   "id": "7405cd4b-fc36-4e85-b36c-7c538c1fd6e2",
   "metadata": {
    "slideshow": {
     "slide_type": "subslide"
    }
   },
   "source": [
    "### Demo: Simulating Heads in 100 Coin Tosses"
   ]
  },
  {
   "cell_type": "markdown",
   "id": "dc976773-6c82-4366-a142-799586c0b7f2",
   "metadata": {
    "deletable": false,
    "editable": false,
    "slideshow": {
     "slide_type": "notes"
    }
   },
   "source": [
    "Create a fair coin and develop the components to simulate flipping the coin 100 times. Make sure to keep track of the results where the simulation is repeated 10,000 times."
   ]
  },
  {
   "cell_type": "code",
   "execution_count": null,
   "id": "4fb16764-72d1-48a5-ba41-83968213d2cd",
   "metadata": {
    "slideshow": {
     "slide_type": "fragment"
    },
    "tags": []
   },
   "outputs": [],
   "source": [
    "coin = ..."
   ]
  },
  {
   "cell_type": "code",
   "execution_count": null,
   "id": "9b796261-a6cf-4e7b-ab07-35c278e4befd",
   "metadata": {
    "slideshow": {
     "slide_type": "fragment"
    },
    "tags": []
   },
   "outputs": [],
   "source": [
    "..."
   ]
  },
  {
   "cell_type": "code",
   "execution_count": null,
   "id": "a2aeb5a8-f916-4e7b-b399-b316a594ff1f",
   "metadata": {
    "slideshow": {
     "slide_type": "subslide"
    },
    "tags": []
   },
   "outputs": [],
   "source": [
    "# Simulate one outcome\n",
    "..."
   ]
  },
  {
   "cell_type": "code",
   "execution_count": null,
   "id": "8482b364-84a0-4076-b511-7d19221b704c",
   "metadata": {
    "slideshow": {
     "slide_type": "fragment"
    },
    "tags": []
   },
   "outputs": [],
   "source": [
    "# Decide how many times you want to repeat the experiment\n",
    "repetitions = ..."
   ]
  },
  {
   "cell_type": "code",
   "execution_count": null,
   "id": "f40b02bb-2d05-4ab8-af86-bcbaa448ff68",
   "metadata": {
    "slideshow": {
     "slide_type": "subslide"
    },
    "tags": []
   },
   "outputs": [],
   "source": [
    "# Simulate that many outcomes\n",
    "..."
   ]
  },
  {
   "cell_type": "code",
   "execution_count": null,
   "id": "9d554b53-fac5-4f67-a66b-b17ec90ebd45",
   "metadata": {
    "slideshow": {
     "slide_type": "subslide"
    },
    "tags": []
   },
   "outputs": [],
   "source": [
    "heads = Table().with_column('Heads', outcomes)\n",
    "heads.hist(bins = np.arange(29.5, 70.6))"
   ]
  },
  {
   "cell_type": "markdown",
   "id": "720057e8-70bd-40b8-90c5-b46ee25e8c92",
   "metadata": {
    "slideshow": {
     "slide_type": "fragment"
    }
   },
   "source": [
    "--- "
   ]
  },
  {
   "cell_type": "markdown",
   "id": "44746eb9-0db6-4d6e-b761-040cf0fd2f5c",
   "metadata": {
    "slideshow": {
     "slide_type": "slide"
    }
   },
   "source": [
    "## `bool` and `where`"
   ]
  },
  {
   "cell_type": "markdown",
   "id": "4e665ab6-800b-461c-b074-0aeb01a187c1",
   "metadata": {
    "slideshow": {
     "slide_type": "fragment"
    }
   },
   "source": [
    "--- "
   ]
  },
  {
   "cell_type": "markdown",
   "id": "611c7fcf-d248-4b38-9245-b67fe58bf159",
   "metadata": {
    "slideshow": {
     "slide_type": "subslide"
    }
   },
   "source": [
    "### A Closer Look at `where`"
   ]
  },
  {
   "cell_type": "markdown",
   "id": "8c324e2f-70fe-47bd-8c7d-842cacb37a47",
   "metadata": {
    "slideshow": {
     "slide_type": "-"
    }
   },
   "source": [
    "The command\n",
    "\n",
    "`t.where(array_of_bool_values)`\n",
    "\n",
    "returns a table with only the rows of `t` for which the corresponding `bool` is `True`."
   ]
  },
  {
   "cell_type": "markdown",
   "id": "40537fc8-9d48-4243-ba96-9de75d2bf4dc",
   "metadata": {
    "slideshow": {
     "slide_type": "fragment"
    }
   },
   "source": [
    "--- "
   ]
  },
  {
   "cell_type": "markdown",
   "id": "8e05d5fe-6227-4231-bd40-63f759852a09",
   "metadata": {
    "slideshow": {
     "slide_type": "subslide"
    }
   },
   "source": [
    "### Demo: Advanced `where`"
   ]
  },
  {
   "cell_type": "markdown",
   "id": "4d22c298-a28e-4aca-958b-9af4a2d9d145",
   "metadata": {
    "deletable": false,
    "editable": false,
    "slideshow": {
     "slide_type": "notes"
    }
   },
   "source": [
    "Demonstrate how to use conditionals with the `where` method."
   ]
  },
  {
   "cell_type": "code",
   "execution_count": null,
   "id": "9b979671-a53f-44da-a785-15b2bca3326e",
   "metadata": {
    "slideshow": {
     "slide_type": "fragment"
    },
    "tags": []
   },
   "outputs": [],
   "source": [
    "ages = make_array(16, 22, 18, 15, 19, 15, 16, 21)\n",
    "age = Table().with_column('Age', ages)\n",
    "age"
   ]
  },
  {
   "cell_type": "code",
   "execution_count": null,
   "id": "1fca9304-6494-426d-ae5c-7714232b586f",
   "metadata": {
    "slideshow": {
     "slide_type": "fragment"
    },
    "tags": []
   },
   "outputs": [],
   "source": [
    "..."
   ]
  },
  {
   "cell_type": "code",
   "execution_count": null,
   "id": "0973bb88-7939-425e-a3f3-95cf451a7341",
   "metadata": {
    "slideshow": {
     "slide_type": "subslide"
    },
    "tags": []
   },
   "outputs": [],
   "source": [
    "voter = ...\n",
    "voter"
   ]
  },
  {
   "cell_type": "code",
   "execution_count": null,
   "id": "0839b090-5e97-41ff-ad15-ef4e19c77c8e",
   "metadata": {
    "slideshow": {
     "slide_type": "fragment"
    },
    "tags": []
   },
   "outputs": [],
   "source": [
    "..."
   ]
  },
  {
   "cell_type": "code",
   "execution_count": null,
   "id": "77357e81-61c3-499b-8ce4-2832603c2143",
   "metadata": {
    "slideshow": {
     "slide_type": "subslide"
    },
    "tags": []
   },
   "outputs": [],
   "source": [
    "is_voter = ..."
   ]
  },
  {
   "cell_type": "code",
   "execution_count": null,
   "id": "5bf2ca22-546f-4aac-adac-76a0697b918d",
   "metadata": {
    "slideshow": {
     "slide_type": "fragment"
    },
    "tags": []
   },
   "outputs": [],
   "source": [
    "..."
   ]
  },
  {
   "cell_type": "code",
   "execution_count": null,
   "id": "ebf3e23c-4da6-44a4-99ea-126ca372c783",
   "metadata": {
    "slideshow": {
     "slide_type": "subslide"
    },
    "tags": []
   },
   "outputs": [],
   "source": [
    "..."
   ]
  },
  {
   "cell_type": "code",
   "execution_count": null,
   "id": "376c484d-edf8-4e6d-a157-3764db11fe0d",
   "metadata": {
    "slideshow": {
     "slide_type": "fragment"
    },
    "tags": []
   },
   "outputs": [],
   "source": [
    "..."
   ]
  },
  {
   "cell_type": "code",
   "execution_count": null,
   "id": "031a653b-052c-421e-9d74-2234348e23f6",
   "metadata": {
    "slideshow": {
     "slide_type": "subslide"
    },
    "tags": []
   },
   "outputs": [],
   "source": [
    "..."
   ]
  },
  {
   "cell_type": "code",
   "execution_count": null,
   "id": "d266b854-ee3b-4202-a49c-e84f866bfee1",
   "metadata": {
    "slideshow": {
     "slide_type": "fragment"
    },
    "tags": []
   },
   "outputs": [],
   "source": [
    "..."
   ]
  },
  {
   "cell_type": "code",
   "execution_count": null,
   "id": "8f4484e4-7bdd-4cb3-85cb-1b09655d65fc",
   "metadata": {
    "slideshow": {
     "slide_type": "fragment"
    },
    "tags": []
   },
   "outputs": [],
   "source": [
    "..."
   ]
  },
  {
   "cell_type": "code",
   "execution_count": null,
   "id": "ba5e3970-6e8c-4275-98d1-768096198cec",
   "metadata": {
    "slideshow": {
     "slide_type": "subslide"
    },
    "tags": []
   },
   "outputs": [],
   "source": [
    "def my_voter_function(x):\n",
    "    return x >= 18"
   ]
  },
  {
   "cell_type": "code",
   "execution_count": null,
   "id": "ebf6f257-a568-421e-aa7e-bf3986d15af0",
   "metadata": {
    "slideshow": {
     "slide_type": "subslide"
    },
    "tags": []
   },
   "outputs": [],
   "source": [
    "..."
   ]
  },
  {
   "cell_type": "code",
   "execution_count": null,
   "id": "c5c68a42-f7a9-4707-92a0-45e0561a8253",
   "metadata": {
    "slideshow": {
     "slide_type": "fragment"
    },
    "tags": []
   },
   "outputs": [],
   "source": [
    "..."
   ]
  },
  {
   "cell_type": "code",
   "execution_count": null,
   "id": "2d3d1ce6-9177-4209-b491-a7742007ca74",
   "metadata": {
    "slideshow": {
     "slide_type": "fragment"
    },
    "tags": []
   },
   "outputs": [],
   "source": [
    "..."
   ]
  },
  {
   "cell_type": "markdown",
   "id": "49bd3caf-87d4-48c8-96b5-cf7d50397f1a",
   "metadata": {
    "slideshow": {
     "slide_type": "fragment"
    }
   },
   "source": [
    "--- "
   ]
  },
  {
   "cell_type": "markdown",
   "id": "65c84091-dc79-4501-82b8-b149f07a6d16",
   "metadata": {
    "slideshow": {
     "slide_type": "notes"
    }
   },
   "source": [
    "<footer>\n",
    "    <p>Adopted from UC Berkeley DATA 8 course materials.</p>\n",
    "    <p>This content is offered under a <a href=\"https://creativecommons.org/licenses/by-nc-sa/4.0/\">CC Attribution Non-Commercial Share Alike</a> license.</p>\n",
    "</footer>"
   ]
  }
 ],
 "metadata": {
  "kernelspec": {
   "display_name": "Python 3 (ipykernel)",
   "language": "python",
   "name": "python3"
  },
  "language_info": {
   "codemirror_mode": {
    "name": "ipython",
    "version": 3
   },
   "file_extension": ".py",
   "mimetype": "text/x-python",
   "name": "python",
   "nbconvert_exporter": "python",
   "pygments_lexer": "ipython3",
   "version": "3.10.12"
  },
  "otter": {
   "OK_FORMAT": true,
   "tests": {}
  }
 },
 "nbformat": 4,
 "nbformat_minor": 5
}
