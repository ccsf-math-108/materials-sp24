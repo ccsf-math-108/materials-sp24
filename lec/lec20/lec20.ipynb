{
 "cells": [
  {
   "cell_type": "markdown",
   "id": "d44805ca-7e7f-4660-b580-76e9d2b4eebe",
   "metadata": {
    "editable": true,
    "slideshow": {
     "slide_type": ""
    },
    "tags": []
   },
   "source": [
    "<div style=\"width: 38.5%;\">\n",
    "    <p><strong>City College of San Francisco</strong><p>\n",
    "    <hr>\n",
    "    <p>MATH 108 - Foundations of Data Science</p>\n",
    "</div>"
   ]
  },
  {
   "cell_type": "markdown",
   "id": "0f24d8d4-65d1-45cb-876d-bb506013de73",
   "metadata": {
    "slideshow": {
     "slide_type": "-"
    }
   },
   "source": [
    "# Lecture 20: A/B Testing"
   ]
  },
  {
   "cell_type": "markdown",
   "id": "20d96554-83bf-4e71-b330-532b2b36d9e9",
   "metadata": {
    "slideshow": {
     "slide_type": "-"
    }
   },
   "source": [
    "Associated Textbook Sections: [12.0, 12.1](https://inferentialthinking.com/chapters/12/Comparing_Two_Samples.html)"
   ]
  },
  {
   "cell_type": "markdown",
   "id": "ea2fd1e5-fe33-4ce2-ac00-dbaea3d97cae",
   "metadata": {
    "slideshow": {
     "slide_type": "slide"
    }
   },
   "source": [
    "<div style=\"width: 38.5%;\">\n",
    "    <p><strong>City College of San Francisco</strong><p>\n",
    "    <hr>\n",
    "    <p>MATH 108 - Foundations of Data Science</p>\n",
    "</div>"
   ]
  },
  {
   "cell_type": "markdown",
   "id": "b3b65a7d-9c9b-4a22-9c3b-20c1c6014c7b",
   "metadata": {
    "slideshow": {
     "slide_type": "fragment"
    }
   },
   "source": [
    "---"
   ]
  },
  {
   "cell_type": "markdown",
   "id": "7853bbb8-5827-4af6-bbf9-486afa4039f1",
   "metadata": {
    "slideshow": {
     "slide_type": "slide"
    }
   },
   "source": [
    "## Outline"
   ]
  },
  {
   "cell_type": "markdown",
   "id": "825db760-599e-4c80-958c-5f940da2e3ee",
   "metadata": {
    "slideshow": {
     "slide_type": "-"
    }
   },
   "source": [
    "* [A/B Testing](#A/B-Testing)\n",
    "* [Digital Experiments](#Digital-Experiments)\n",
    "* [Hypothesis Testing Review](#Hypothesis-Testing-Review)"
   ]
  },
  {
   "cell_type": "markdown",
   "id": "d52484cc-f7ac-4cd0-9535-feee53ec5c2f",
   "metadata": {
    "slideshow": {
     "slide_type": "fragment"
    }
   },
   "source": [
    "---"
   ]
  },
  {
   "cell_type": "markdown",
   "id": "c81f7c40-f35f-44ac-817b-6e139edff3dc",
   "metadata": {
    "slideshow": {
     "slide_type": "slide"
    }
   },
   "source": [
    "## Set Up the Notebook"
   ]
  },
  {
   "cell_type": "code",
   "execution_count": null,
   "id": "5d23debc-9a19-4bf9-bfac-b7bc09d401c6",
   "metadata": {
    "slideshow": {
     "slide_type": "-"
    }
   },
   "outputs": [],
   "source": [
    "from datascience import *\n",
    "import numpy as np\n",
    "%matplotlib inline\n",
    "import matplotlib.pyplot as plt\n",
    "plt.style.use('fivethirtyeight')"
   ]
  },
  {
   "cell_type": "markdown",
   "id": "aab985f7-2c8f-472f-b399-9cd01f0f803f",
   "metadata": {
    "slideshow": {
     "slide_type": "fragment"
    }
   },
   "source": [
    "---"
   ]
  },
  {
   "cell_type": "markdown",
   "id": "1dd76120-bd8c-4315-9f29-1aa44c0a44ac",
   "metadata": {
    "slideshow": {
     "slide_type": "slide"
    }
   },
   "source": [
    "## A/B Testing"
   ]
  },
  {
   "cell_type": "markdown",
   "id": "5412301b-e05b-42b0-b2c3-4c1a9f5f417b",
   "metadata": {
    "slideshow": {
     "slide_type": "fragment"
    }
   },
   "source": [
    "---"
   ]
  },
  {
   "cell_type": "markdown",
   "id": "448f1c50-0920-40ff-804e-996886c20aaf",
   "metadata": {
    "slideshow": {
     "slide_type": "subslide"
    }
   },
   "source": [
    "### Comparing Two Samples"
   ]
  },
  {
   "cell_type": "markdown",
   "id": "ab5bdffa-2e3b-4fe8-abb3-697fc02cd6f2",
   "metadata": {},
   "source": [
    "<img src=\"a_b_testing_billboard.jpg\" width=60% alt=\"A billboard near Palo Alto referencing A/B testing.\">"
   ]
  },
  {
   "cell_type": "markdown",
   "id": "7c978d33-858e-4e3e-8ad1-e9c518cb0664",
   "metadata": {
    "slideshow": {
     "slide_type": "-"
    }
   },
   "source": [
    "* Compare values of sampled individuals in Group A with values of sampled individuals in Group B.\n",
    "* Question: Do the two sets of values come from the same underlying distribution?\n",
    "* Answering this question by performing a statistical test is called A/B testing."
   ]
  },
  {
   "cell_type": "markdown",
   "id": "e0e3421e-f3c3-4e15-b998-a95d06fd3196",
   "metadata": {
    "slideshow": {
     "slide_type": "fragment"
    }
   },
   "source": [
    "---"
   ]
  },
  {
   "cell_type": "markdown",
   "id": "360d9cd2-65f2-447b-af15-ed9354f103fb",
   "metadata": {
    "slideshow": {
     "slide_type": "subslide"
    }
   },
   "source": [
    "### Demo: Smoking and Birth Weight"
   ]
  },
  {
   "attachments": {},
   "cell_type": "markdown",
   "id": "cd330539-e1d5-43d5-8d9f-9ec9f753c544",
   "metadata": {
    "deletable": false,
    "editable": false
   },
   "source": [
    "* Load the data in `baby.csv`. This data contains information on 1174 pregnancies and was part of a larger study of all the births form 1960 to 1967 among women in the Kaiser Foundation Health Plan in Oakland, California.\n",
    "* Explore the relationship between the values of `'Maternal Smoker'` and `'Birth Weight'`."
   ]
  },
  {
   "cell_type": "code",
   "execution_count": null,
   "id": "64a765d0-6abc-465d-8fb9-99499415b219",
   "metadata": {
    "slideshow": {
     "slide_type": "-"
    },
    "tags": []
   },
   "outputs": [],
   "source": [
    "births = Table().read_table(\"baby.csv\")\n",
    "births"
   ]
  },
  {
   "cell_type": "code",
   "execution_count": null,
   "id": "48c6ca5c-3749-412a-a093-7e6e47123fbb",
   "metadata": {
    "slideshow": {
     "slide_type": "subslide"
    },
    "tags": []
   },
   "outputs": [],
   "source": [
    "smoking_and_birthweight = births.select('Maternal Smoker', 'Birth Weight')\n",
    "smoking_and_birthweight.show(2)"
   ]
  },
  {
   "cell_type": "code",
   "execution_count": null,
   "id": "ca60dab6-98c5-42f5-b1fa-648afbc15b3c",
   "metadata": {
    "slideshow": {
     "slide_type": "subslide"
    },
    "tags": []
   },
   "outputs": [],
   "source": [
    "..."
   ]
  },
  {
   "cell_type": "code",
   "execution_count": null,
   "id": "c7c87670-c10d-478a-be10-db99911f576f",
   "metadata": {
    "slideshow": {
     "slide_type": "fragment"
    },
    "tags": []
   },
   "outputs": [],
   "source": [
    "smoking_and_birthweight.group('Maternal Smoker', ...)"
   ]
  },
  {
   "cell_type": "code",
   "execution_count": null,
   "id": "71c1f2d8-cee1-4a0b-a84c-fe233dcc5a3e",
   "metadata": {
    "slideshow": {
     "slide_type": "fragment"
    },
    "tags": []
   },
   "outputs": [],
   "source": [
    "smoking_and_birthweight.group('Maternal Smoker', ...)"
   ]
  },
  {
   "cell_type": "code",
   "execution_count": null,
   "id": "3a950eeb-ba82-46e4-9fd2-c6414afffecc",
   "metadata": {
    "slideshow": {
     "slide_type": "subslide"
    },
    "tags": []
   },
   "outputs": [],
   "source": [
    "..."
   ]
  },
  {
   "cell_type": "markdown",
   "id": "2e04b79e-5d13-4b8b-9afb-273391639941",
   "metadata": {
    "slideshow": {
     "slide_type": "fragment"
    }
   },
   "source": [
    "---"
   ]
  },
  {
   "cell_type": "markdown",
   "id": "f8cf8a3c-5f1b-4631-9d02-1048268d7cd0",
   "metadata": {
    "slideshow": {
     "slide_type": "subslide"
    }
   },
   "source": [
    "### The Groups and the Question"
   ]
  },
  {
   "cell_type": "markdown",
   "id": "ef0c6032-3bff-4b75-bac9-4620a24ec81e",
   "metadata": {
    "slideshow": {
     "slide_type": "-"
    }
   },
   "source": [
    "* Sample of mothers of newborns. Compare:\n",
    "    * Birth weights of babies of mothers who didn't smoke\n",
    "    * Birth weights of babies of mothers who smoked during pregnancy \n",
    "* Question: Could the differences we are observing be due to chance alone?\n"
   ]
  },
  {
   "cell_type": "markdown",
   "id": "73f8e2f9-2b66-46d6-a4d5-2ea22fa8e799",
   "metadata": {
    "slideshow": {
     "slide_type": "fragment"
    }
   },
   "source": [
    "---"
   ]
  },
  {
   "cell_type": "markdown",
   "id": "cd9ac7ef-6ea8-48c7-aca2-c91da854319f",
   "metadata": {
    "slideshow": {
     "slide_type": "subslide"
    }
   },
   "source": [
    "### Hypotheses"
   ]
  },
  {
   "cell_type": "markdown",
   "id": "1277ed25-b22c-4e12-8a9c-50f091ee8c86",
   "metadata": {
    "slideshow": {
     "slide_type": "-"
    }
   },
   "source": [
    "* Null Hypothesis: In the population, the distributions of the birth weights of the babies in the two groups are the same. (They are different in the sample just due to chance.)\n",
    "* Alternative Hypothesis: In the population, the babies of the mothers who smoked during pregnancy weigh less, on average, than the babies of the non-smokers.\n"
   ]
  },
  {
   "cell_type": "markdown",
   "id": "20e20be9-a269-417e-9d35-65a5aae06dc5",
   "metadata": {
    "slideshow": {
     "slide_type": "fragment"
    }
   },
   "source": [
    "---"
   ]
  },
  {
   "cell_type": "markdown",
   "id": "b2815381-7264-4100-b43a-8f30133577d0",
   "metadata": {
    "slideshow": {
     "slide_type": "subslide"
    }
   },
   "source": [
    "### Test Statistic"
   ]
  },
  {
   "cell_type": "markdown",
   "id": "ca6b1cf9-c84a-4179-b5b8-b89aa42ab716",
   "metadata": {
    "slideshow": {
     "slide_type": "-"
    }
   },
   "source": [
    "* Group A: non-smokers\n",
    "* Group B: smokers\n",
    "* Statistic: Difference between average weights: `group_B_mean - group_A_mean`  \n",
    "* Negative values of this statistic favor the alternative\n"
   ]
  },
  {
   "cell_type": "markdown",
   "id": "48c7b0a2-9628-4a1b-8d28-7163e205dcb6",
   "metadata": {
    "slideshow": {
     "slide_type": "fragment"
    }
   },
   "source": [
    "---"
   ]
  },
  {
   "cell_type": "markdown",
   "id": "f6f9d1b9-2084-44a0-bc7a-8e6813570e52",
   "metadata": {},
   "source": [
    "#### Demo: Test Statistic"
   ]
  },
  {
   "cell_type": "markdown",
   "id": "f48624ef-0579-45ec-ae37-2ef3836d0359",
   "metadata": {
    "deletable": false,
    "editable": false,
    "slideshow": {
     "slide_type": "notes"
    }
   },
   "source": [
    "Determine the average difference in the birth weights associated with mothers that did and didn't smoke during pregnancy."
   ]
  },
  {
   "cell_type": "markdown",
   "id": "e81a9d77-db69-43ef-9f89-b61f19e2db5b",
   "metadata": {
    "deletable": false,
    "editable": false,
    "slideshow": {
     "slide_type": "notes"
    }
   },
   "source": [
    "Create a function that take name of table, column label of numerical variable, column label of group-label variable and returns the difference of means of the two groups."
   ]
  },
  {
   "cell_type": "code",
   "execution_count": null,
   "id": "a0383c59-f229-4c66-9a03-3cca9cfa5922",
   "metadata": {
    "slideshow": {
     "slide_type": "subslide"
    },
    "tags": []
   },
   "outputs": [],
   "source": [
    "means_table = smoking_and_birthweight.group('Maternal Smoker', np.mean)\n",
    "means_table"
   ]
  },
  {
   "cell_type": "code",
   "execution_count": null,
   "id": "7f6c0c56-c5cc-4251-82f0-ff2836804ef5",
   "metadata": {
    "slideshow": {
     "slide_type": "fragment"
    },
    "tags": []
   },
   "outputs": [],
   "source": [
    "means = ...\n",
    "observed_difference = ...\n",
    "observed_difference"
   ]
  },
  {
   "cell_type": "code",
   "execution_count": null,
   "id": "30c487a5-b381-42fb-b9a1-da5bed911b39",
   "metadata": {
    "slideshow": {
     "slide_type": "subslide"
    },
    "tags": []
   },
   "outputs": [],
   "source": [
    "def difference_of_means(table, value_label, group_label):\n",
    "    \"\"\"Takes: name of table, column value_label of numerical values,\n",
    "    column group_label of group-label values (True/False)\n",
    "    Returns: Difference (False_mean - True_mean) of means\"\"\"\n",
    "    \n",
    "    #table with the two relevant columns\n",
    "    reduced = ...\n",
    "    \n",
    "    # table containing group means\n",
    "    means_table = ...\n",
    "    \n",
    "    # array of group means\n",
    "    means = ...\n",
    "    \n",
    "    ..."
   ]
  },
  {
   "cell_type": "code",
   "execution_count": null,
   "id": "901155be-1dfb-4e8f-bf81-5fcde36dc8ab",
   "metadata": {
    "slideshow": {
     "slide_type": "fragment"
    },
    "tags": []
   },
   "outputs": [],
   "source": [
    "difference_of_means(..., ..., ...)"
   ]
  },
  {
   "cell_type": "markdown",
   "id": "340c9a07-07cc-4ebd-9c88-7de4ad4974f0",
   "metadata": {
    "slideshow": {
     "slide_type": "fragment"
    }
   },
   "source": [
    "---"
   ]
  },
  {
   "cell_type": "markdown",
   "id": "4e9f3a43-f61c-4165-af96-9dea9ac6723d",
   "metadata": {
    "slideshow": {
     "slide_type": "subslide"
    }
   },
   "source": [
    "### The Data"
   ]
  },
  {
   "cell_type": "markdown",
   "id": "db9a05af-67fc-48f4-97c5-942aced8f38a",
   "metadata": {
    "slideshow": {
     "slide_type": "-"
    }
   },
   "source": [
    "<img src=\"./the_data.png\" alt=\"a sequence of cribs with the data listed\" width=80%>"
   ]
  },
  {
   "cell_type": "markdown",
   "id": "729e0ecf-33f9-426f-a60f-6872a4d0bd1e",
   "metadata": {
    "slideshow": {
     "slide_type": "fragment"
    }
   },
   "source": [
    "---"
   ]
  },
  {
   "cell_type": "markdown",
   "id": "fe61d1a8-a31f-4215-b9d5-e7c96e97c8c7",
   "metadata": {
    "slideshow": {
     "slide_type": "subslide"
    }
   },
   "source": [
    "### Shuffling Labels Under the Null"
   ]
  },
  {
   "cell_type": "markdown",
   "id": "48cbfa1d-9808-4902-afbc-0da2c3532714",
   "metadata": {
    "slideshow": {
     "slide_type": "-"
    }
   },
   "source": [
    "<img src=\"./shuffling_labels.png\" alt=\"a sequence of cribs with the shuffled data listed\" width=80%>"
   ]
  },
  {
   "cell_type": "markdown",
   "id": "b8c33cb7-f645-4cac-ac30-815e1cec8401",
   "metadata": {
    "slideshow": {
     "slide_type": "fragment"
    }
   },
   "source": [
    "---"
   ]
  },
  {
   "cell_type": "markdown",
   "id": "a62650c3-100c-4c02-a34f-142b2d1a80d3",
   "metadata": {
    "slideshow": {
     "slide_type": "subslide"
    }
   },
   "source": [
    "### Shuffling Rows"
   ]
  },
  {
   "cell_type": "markdown",
   "id": "4774b79f-8cae-4af0-bfec-9ce747498dc1",
   "metadata": {
    "slideshow": {
     "slide_type": "fragment"
    }
   },
   "source": [
    "---"
   ]
  },
  {
   "cell_type": "markdown",
   "id": "5f370da8-97d2-4dd9-97c4-2cd7b39aa7ad",
   "metadata": {
    "slideshow": {
     "slide_type": "subslide"
    }
   },
   "source": [
    "#### The `sample` table method."
   ]
  },
  {
   "cell_type": "markdown",
   "id": "aefbd8bc-e344-4378-90bd-18f4e184efc9",
   "metadata": {
    "slideshow": {
     "slide_type": "-"
    }
   },
   "source": [
    "* `tbl.sample(n)`: Table of `n` rows picked randomly with replacement\n",
    "* `tbl.sample()`: Table with same number of rows as original `tbl`, picked randomly with replacement\n",
    "* `tbl.sample(n, with_replacement = False)`: Table of `n` rows picked randomly without replacement\n",
    "* `tbl.sample(with_replacement = False)`: All rows of `tbl`, in random order"
   ]
  },
  {
   "cell_type": "markdown",
   "id": "c693ed2e-f336-4c4f-a631-e8622e64c974",
   "metadata": {
    "slideshow": {
     "slide_type": "fragment"
    }
   },
   "source": [
    "---"
   ]
  },
  {
   "cell_type": "markdown",
   "id": "c57b97d6-6720-4654-84c9-cb68c91f5fbc",
   "metadata": {
    "slideshow": {
     "slide_type": "subslide"
    }
   },
   "source": [
    "#### Demo: Shuffling"
   ]
  },
  {
   "cell_type": "markdown",
   "id": "20119161-2565-4dd3-a0dd-777c07c73dbd",
   "metadata": {
    "deletable": false,
    "editable": false,
    "slideshow": {
     "slide_type": "notes"
    }
   },
   "source": [
    "Demonstrate how to perform a random permutation using the `sample` method."
   ]
  },
  {
   "cell_type": "code",
   "execution_count": null,
   "id": "979b6548-a9a6-47a7-9aea-434e271eeaf8",
   "metadata": {
    "slideshow": {
     "slide_type": "-"
    },
    "tags": []
   },
   "outputs": [],
   "source": [
    "letters = Table().with_column('Letter', make_array('a', 'b', 'c', 'd', 'e'))\n",
    "letters"
   ]
  },
  {
   "cell_type": "code",
   "execution_count": null,
   "id": "2b022d35-5a1a-445a-85e0-e324aa40b816",
   "metadata": {
    "slideshow": {
     "slide_type": "subslide"
    },
    "tags": []
   },
   "outputs": [],
   "source": [
    "# most likely not a permutation\n",
    "..."
   ]
  },
  {
   "cell_type": "code",
   "execution_count": null,
   "id": "ac660b75-2a0d-4f36-ac3b-80e2cc5583c2",
   "metadata": {
    "slideshow": {
     "slide_type": "fragment"
    },
    "tags": []
   },
   "outputs": [],
   "source": [
    "# a random permutation\n",
    "..."
   ]
  },
  {
   "cell_type": "code",
   "execution_count": null,
   "id": "38d5f301-02ec-40ac-9353-18d45c323312",
   "metadata": {
    "scrolled": true,
    "slideshow": {
     "slide_type": "subslide"
    },
    "tags": []
   },
   "outputs": [],
   "source": [
    "shuffled_letters = letters.sample(with_replacement = False).column('Letter')\n",
    "letters.with_column('Shuffled Letter', shuffled_letters)"
   ]
  },
  {
   "cell_type": "markdown",
   "id": "48d142c0-639c-4aaf-a985-d9848e3129f3",
   "metadata": {
    "slideshow": {
     "slide_type": "fragment"
    }
   },
   "source": [
    "---"
   ]
  },
  {
   "cell_type": "markdown",
   "id": "994df91d-b596-4924-b34b-adea87c2d778",
   "metadata": {
    "slideshow": {
     "slide_type": "subslide"
    }
   },
   "source": [
    "### Simulating Under the Null Hypothesis"
   ]
  },
  {
   "cell_type": "markdown",
   "id": "441dcb64-f2a1-4fd6-a862-33e825706342",
   "metadata": {
    "slideshow": {
     "slide_type": "-"
    }
   },
   "source": [
    "* If the null is true, all rearrangements of labels are equally likely\n",
    "* Plan:\n",
    "    1. Shuffle all group labels\n",
    "    1. Assign each shuffled label to a birth weight\n",
    "    1. Find the difference between the averages of the two shuffled groups\n",
    "    1. Repeat\n",
    "* This process is generally called a permutation test.\n"
   ]
  },
  {
   "cell_type": "markdown",
   "id": "bb432f51-2df4-478c-b2eb-48f8f8a1dc81",
   "metadata": {
    "slideshow": {
     "slide_type": "fragment"
    }
   },
   "source": [
    "---"
   ]
  },
  {
   "cell_type": "markdown",
   "id": "d81b2c61-f06d-49af-a7c4-53de926d5f45",
   "metadata": {
    "slideshow": {
     "slide_type": "subslide"
    }
   },
   "source": [
    "#### Demo: Simulation Under Null Hypothesis"
   ]
  },
  {
   "attachments": {},
   "cell_type": "markdown",
   "id": "bbc15f4a-2e8c-4885-b98c-f9e17889d0e0",
   "metadata": {
    "deletable": false,
    "editable": false,
    "slideshow": {
     "slide_type": "notes"
    }
   },
   "source": [
    "* Perform a random permutation on the table containing a Boolean-valued column representing whether or not the mother smoked during pregnancy and a integer-valued column of their baby's birth weight.\n",
    "* Calculate the difference of the birth weight means for the two smoking groups based on the shuffled data and the original data."
   ]
  },
  {
   "cell_type": "code",
   "execution_count": null,
   "id": "d68437dc-e84c-4435-88b7-0ffde1a6e707",
   "metadata": {
    "slideshow": {
     "slide_type": "-"
    },
    "tags": []
   },
   "outputs": [],
   "source": [
    "smoking_and_birthweight.show(3)"
   ]
  },
  {
   "cell_type": "code",
   "execution_count": null,
   "id": "3edf2ebc-b50b-4c10-9b6a-e9c341910861",
   "metadata": {
    "slideshow": {
     "slide_type": "subslide"
    },
    "tags": []
   },
   "outputs": [],
   "source": [
    "shuffled_labels = ..."
   ]
  },
  {
   "cell_type": "code",
   "execution_count": null,
   "id": "10b18dff-e57d-4e45-befc-b5ac47fab3f8",
   "metadata": {
    "slideshow": {
     "slide_type": "fragment"
    },
    "tags": []
   },
   "outputs": [],
   "source": [
    "original_and_shuffled = smoking_and_birthweight.with_column(\n",
    "    'Shuffled Label', shuffled_labels)\n",
    "\n",
    "original_and_shuffled"
   ]
  },
  {
   "cell_type": "code",
   "execution_count": null,
   "id": "60c7be89-33de-4437-9276-af72b8e137d7",
   "metadata": {
    "slideshow": {
     "slide_type": "subslide"
    },
    "tags": []
   },
   "outputs": [],
   "source": [
    "..."
   ]
  },
  {
   "cell_type": "code",
   "execution_count": null,
   "id": "f26c57cf-a033-4b74-9797-6375fb8bfd8a",
   "metadata": {
    "slideshow": {
     "slide_type": "fragment"
    },
    "tags": []
   },
   "outputs": [],
   "source": [
    "..."
   ]
  },
  {
   "cell_type": "markdown",
   "id": "7a3c2695-8067-449f-98e9-2f7ce0219046",
   "metadata": {
    "slideshow": {
     "slide_type": "fragment"
    }
   },
   "source": [
    "---"
   ]
  },
  {
   "cell_type": "markdown",
   "id": "31240640-2cc8-4d09-a6cf-1ebc53803163",
   "metadata": {
    "slideshow": {
     "slide_type": "subslide"
    }
   },
   "source": [
    "### Demo: Permutation Test"
   ]
  },
  {
   "attachments": {},
   "cell_type": "markdown",
   "id": "15edcb8c-78ac-43d3-b7e1-ed99274e29ec",
   "metadata": {
    "deletable": false,
    "editable": false,
    "slideshow": {
     "slide_type": "notes"
    }
   },
   "source": [
    "* Perform a permutation test using 2500 simulations to determine how likely it is to see the observed birth weights if it is assumed that there was no impact on birth weight due to the mother smoking or not during pregnancy. *This might take a few minutes to run.*\n",
    "* Calculate the p-value."
   ]
  },
  {
   "cell_type": "code",
   "execution_count": null,
   "id": "37239355-4c3d-47cf-8ddb-29db01f1d03b",
   "metadata": {
    "slideshow": {
     "slide_type": "-"
    },
    "tags": []
   },
   "outputs": [],
   "source": [
    "def one_simulated_difference(table, value_label, group_label):\n",
    "    '''Takes: name of table, column value_label of numerical variable,\n",
    "    column group_label of group-label variable\n",
    "    Returns: Difference of means of the two groups after shuffling group_labels'''\n",
    "    \n",
    "    # array of shuffled labels\n",
    "    shuffled_labels = ...\n",
    "    \n",
    "    # table of numerical variable and shuffled labels\n",
    "    shuffled_table = ...\n",
    "    \n",
    "    return ...   "
   ]
  },
  {
   "cell_type": "code",
   "execution_count": null,
   "id": "0e6fd7bf-cdcf-44f4-80b7-d7aa7f5d0061",
   "metadata": {
    "slideshow": {
     "slide_type": "fragment"
    },
    "tags": []
   },
   "outputs": [],
   "source": [
    "..."
   ]
  },
  {
   "cell_type": "code",
   "execution_count": null,
   "id": "edd657f3-87f0-4c7a-b7e1-9e7d90580905",
   "metadata": {
    "slideshow": {
     "slide_type": "subslide"
    },
    "tags": []
   },
   "outputs": [],
   "source": [
    "differences = make_array()\n",
    "\n",
    "for i in np.arange(2500):\n",
    "    new_difference = ...\n",
    "    differences = np.append(differences, new_difference)"
   ]
  },
  {
   "cell_type": "code",
   "execution_count": null,
   "id": "2b24d903-c438-4a59-a5bb-d21bf46375e5",
   "metadata": {
    "slideshow": {
     "slide_type": "subslide"
    },
    "tags": []
   },
   "outputs": [],
   "source": [
    "Table().with_column('Difference Between Group Means', differences).hist()\n",
    "print('Observed Difference:', observed_difference)\n",
    "plt.scatter(observed_difference, 0, color='red', s=60, zorder=3)\n",
    "plt.title('Prediction Under the Null Hypothesis');"
   ]
  },
  {
   "cell_type": "code",
   "execution_count": null,
   "id": "241fce41-70d8-4521-891e-9cfb3ff34173",
   "metadata": {
    "slideshow": {
     "slide_type": "subslide"
    },
    "tags": []
   },
   "outputs": [],
   "source": [
    "p_value = ...\n",
    "p_value"
   ]
  },
  {
   "cell_type": "markdown",
   "id": "fa51514e-6dea-4db4-bc1e-bc2ec03228cd",
   "metadata": {
    "slideshow": {
     "slide_type": "fragment"
    }
   },
   "source": [
    "---"
   ]
  },
  {
   "cell_type": "markdown",
   "id": "b8a8f515-56fd-4199-af23-54542d91fc8a",
   "metadata": {},
   "source": [
    "### Conclusion"
   ]
  },
  {
   "cell_type": "markdown",
   "id": "0237e50a-2f70-4fbe-bd53-5ea3808629e0",
   "metadata": {
    "slideshow": {
     "slide_type": "fragment"
    }
   },
   "source": [
    "* With a p-value approximately 0%, we reject the null hypothesis and accept the alternative. \n",
    "* That is, in the population, the babies of the mothers who smoked during pregnancy weigh less, on average, than the babies of the non-smokers."
   ]
  },
  {
   "cell_type": "markdown",
   "id": "b7eef920-a47b-4fdc-a123-db993f85994c",
   "metadata": {
    "slideshow": {
     "slide_type": "fragment"
    }
   },
   "source": [
    "---"
   ]
  },
  {
   "cell_type": "markdown",
   "id": "e69d3cd1-03ee-4831-bfda-180572269416",
   "metadata": {
    "slideshow": {
     "slide_type": "slide"
    }
   },
   "source": [
    "## Digital Experiments"
   ]
  },
  {
   "cell_type": "markdown",
   "id": "1b9fb326-5252-49f5-af61-f3b4150b1258",
   "metadata": {
    "slideshow": {
     "slide_type": "fragment"
    }
   },
   "source": [
    "---"
   ]
  },
  {
   "cell_type": "markdown",
   "id": "b1d52c67-f995-45c7-a65d-0c56c9443bce",
   "metadata": {},
   "source": [
    "* A/B tests are used in digital experiments. \n",
    "* Since they are typically easy to implement, it is common to find that multiple tests are actually run over a period of time.\n",
    "* They can provide a methodical way to measure whether some new feature is having a statistically significant impact.\n",
    "    * Advertising revenue\n",
    "    * Click rate\n",
    "    * etc.\n"
   ]
  },
  {
   "cell_type": "markdown",
   "id": "e5eae8ab-7523-4504-a2a4-7d2529db8442",
   "metadata": {
    "slideshow": {
     "slide_type": "subslide"
    }
   },
   "source": [
    "<center>\n",
    "    <a href=\"https://en.wikipedia.org/wiki/A/B_testing\" title=\"Wikipedia - A/B Testing\"><img src=\"./A-B_testing_example.png\" alt=\"A comparision of two versions of a website design showing how the design might impact the click rate.\" width=60%></a>\n",
    "</center>"
   ]
  },
  {
   "cell_type": "markdown",
   "id": "7e0521c3-feb4-4974-ab4f-40d0f73b0adf",
   "metadata": {
    "slideshow": {
     "slide_type": "fragment"
    }
   },
   "source": [
    "---"
   ]
  },
  {
   "cell_type": "markdown",
   "id": "0010a210-236b-413e-909a-e4d47e13428c",
   "metadata": {
    "slideshow": {
     "slide_type": "slide"
    }
   },
   "source": [
    "## Hypothesis Testing Review"
   ]
  },
  {
   "cell_type": "markdown",
   "id": "768d7faf-2d68-4e3d-8d82-30b3d301a433",
   "metadata": {
    "slideshow": {
     "slide_type": "subslide"
    }
   },
   "source": [
    "### Some Hypothesis Testing Situations"
   ]
  },
  {
   "cell_type": "markdown",
   "id": "5a3d75f5-09d9-4ada-986b-f5990903ddcc",
   "metadata": {
    "slideshow": {
     "slide_type": "-"
    }
   },
   "source": [
    "* 1 Sample: One Category (e.g. percent of flowers that are purple)\n",
    "    * Test Statistic: `empirical_percent`, `abs(empirical_percent - null_percent)`\n",
    "    * How to Simulate: `sample_proportions(n, null_dist)`\n",
    "* 1 Sample: Multiple Categories (e.g. ethnicity distribution of jury panel)\n",
    "    * Test Statistic: `tvd(empirical_dist, null_dist)`\n",
    "    * How to Simulate: `sample_proportions(n, null_dist)`\n",
    "* 1 Sample: Numerical Data (e.g. scores in a lab section)\n",
    "    * Test Statistic: `empirical_mean`, `abs(empirical_mean - null_mean)`\n",
    "    * How to Simulate: `population_data.sample(n, with_replacement=False)`\n",
    "* 2 Samples: Numerical Data (e.g. birth weights of smokers vs. non-smokers)\n",
    "    * Test Statistic: `group_a_mean - group_b_mean`, `group_b_mean - group_a_mean`, `abs(group_a_mean - group_b_mean)`\n",
    "    * How to Simulate: `empirical_data.sample(with_replacement=False)`\n"
   ]
  },
  {
   "cell_type": "markdown",
   "id": "779b1a4b-2355-4760-8751-11dd828c6bad",
   "metadata": {
    "slideshow": {
     "slide_type": "fragment"
    }
   },
   "source": [
    "---"
   ]
  },
  {
   "cell_type": "markdown",
   "id": "37c3e412-b4fb-429f-8b63-fd948c88ce66",
   "metadata": {
    "slideshow": {
     "slide_type": "notes"
    }
   },
   "source": [
    "<footer>\n",
    "    <p>Adopted from UC Berkeley DATA 8 course materials.</p>\n",
    "    <p>This content is offered under a <a href=\"https://creativecommons.org/licenses/by-nc-sa/4.0/\">CC Attribution Non-Commercial Share Alike</a> license.</p>\n",
    "</footer>"
   ]
  }
 ],
 "metadata": {
  "kernelspec": {
   "display_name": "Python 3 (ipykernel)",
   "language": "python",
   "name": "python3"
  },
  "language_info": {
   "codemirror_mode": {
    "name": "ipython",
    "version": 3
   },
   "file_extension": ".py",
   "mimetype": "text/x-python",
   "name": "python",
   "nbconvert_exporter": "python",
   "pygments_lexer": "ipython3",
   "version": "3.10.12"
  },
  "otter": {
   "OK_FORMAT": true,
   "tests": {}
  }
 },
 "nbformat": 4,
 "nbformat_minor": 5
}
