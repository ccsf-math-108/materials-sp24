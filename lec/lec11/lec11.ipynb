{
 "cells": [
  {
   "cell_type": "markdown",
   "id": "fafe88f5-6a74-4262-bbe6-eaf4382f15c5",
   "metadata": {
    "slideshow": {
     "slide_type": "slide"
    }
   },
   "source": [
    "<div style=\"width: 38.5%;\">\n",
    "    <p><strong>City College of San Francisco</strong><p>\n",
    "    <hr>\n",
    "    <p>MATH 108 - Foundations of Data Science</p>\n",
    "</div>"
   ]
  },
  {
   "cell_type": "markdown",
   "id": "e7a5b3d7-d71a-4849-ac14-42c0fd3f4cfa",
   "metadata": {
    "slideshow": {
     "slide_type": "-"
    }
   },
   "source": [
    "# Lecture 11: Groups and Pivots"
   ]
  },
  {
   "cell_type": "markdown",
   "id": "803989b6-8bc8-4b55-a22b-e17757a1cb04",
   "metadata": {
    "slideshow": {
     "slide_type": "-"
    }
   },
   "source": [
    "Associated Textbook Sections: [8.2, 8.3](https://inferentialthinking.com/chapters/08/2/Classifying_by_One_Variable.html)"
   ]
  },
  {
   "cell_type": "markdown",
   "id": "d60074c1-da9e-419a-a4f0-db98488d64f1",
   "metadata": {
    "slideshow": {
     "slide_type": "fragment"
    }
   },
   "source": [
    "---"
   ]
  },
  {
   "cell_type": "markdown",
   "id": "e30a834d-0a85-4157-95ab-9e19e0679552",
   "metadata": {
    "slideshow": {
     "slide_type": "slide"
    }
   },
   "source": [
    "## Overview"
   ]
  },
  {
   "cell_type": "markdown",
   "id": "3840b161-a3a1-42d0-b492-95016ff9cf6c",
   "metadata": {
    "slideshow": {
     "slide_type": "-"
    }
   },
   "source": [
    "* [Francis Galton](#Francis-Galton)\n",
    "* [Prediction](#Prediction)\n",
    "* [Prediction Accuracy](#Prediction-Accuracy)\n",
    "* [Grouping](#Grouping)\n",
    "* [Pivot Tables](#Pivot-Tables)\n",
    "* [Cross-Classification](#Cross-Classification)"
   ]
  },
  {
   "cell_type": "markdown",
   "id": "38579637-4570-497e-8278-e6862a03157e",
   "metadata": {
    "slideshow": {
     "slide_type": "fragment"
    }
   },
   "source": [
    "---"
   ]
  },
  {
   "cell_type": "markdown",
   "id": "1fc9aec6-a973-44ed-9407-22bae6704f87",
   "metadata": {
    "slideshow": {
     "slide_type": "slide"
    }
   },
   "source": [
    "## Set Up the Notebook"
   ]
  },
  {
   "cell_type": "code",
   "execution_count": null,
   "id": "4152e11f-ff70-4ac4-9e88-1b7c1e235f8e",
   "metadata": {
    "slideshow": {
     "slide_type": "-"
    }
   },
   "outputs": [],
   "source": [
    "from datascience import *\n",
    "import numpy as np\n",
    "%matplotlib inline\n",
    "import matplotlib.pyplot as plt\n",
    "plt.style.use('fivethirtyeight')"
   ]
  },
  {
   "cell_type": "markdown",
   "id": "3e042e2d-23a2-4cbd-b2ed-628b720f9ae3",
   "metadata": {
    "slideshow": {
     "slide_type": "fragment"
    }
   },
   "source": [
    "---"
   ]
  },
  {
   "cell_type": "markdown",
   "id": "a2a6b7aa-b1b8-47e2-8683-91fe6ab6a0e7",
   "metadata": {
    "slideshow": {
     "slide_type": "slide"
    }
   },
   "source": [
    "## Francis Galton"
   ]
  },
  {
   "cell_type": "markdown",
   "id": "35f46239-d486-4158-9b0d-47952a495efb",
   "metadata": {
    "slideshow": {
     "slide_type": "-"
    }
   },
   "source": [
    "* 1822 - 1911 (knighted in 1909)\n",
    "* Charles Darwin's half-cousin\n",
    "* Developed systems for making predictions in several fields\n",
    "* An advocate for eugenics and scientific racism\n",
    "\n",
    "<img src=\"galton.jpg\" alt=\"Francis Galton\" width = 20%>"
   ]
  },
  {
   "cell_type": "markdown",
   "id": "9a38b923-8f2b-4542-b3d4-e726c4824d2a",
   "metadata": {
    "slideshow": {
     "slide_type": "fragment"
    }
   },
   "source": [
    "---"
   ]
  },
  {
   "cell_type": "markdown",
   "id": "42dae634-c9c9-4d09-8559-849aa4ad852c",
   "metadata": {
    "slideshow": {
     "slide_type": "subslide"
    }
   },
   "source": [
    "If you are not familiar with the concept of eugenics or scientific racism, you might consider watching the following TED-Ed video _The movement that inspired the Holocaust - Alexandra Minna Stern and Natalie Lira_. \n",
    "\n",
    "**Keep in mind that the content in this video references forced reproductive sterilization and the Holocaust.**"
   ]
  },
  {
   "cell_type": "code",
   "execution_count": null,
   "id": "89980e60-3dd4-4612-b600-352a5d7e85fc",
   "metadata": {
    "slideshow": {
     "slide_type": "-"
    }
   },
   "outputs": [],
   "source": [
    "from IPython.display import IFrame\n",
    "\n",
    "IFrame(src=\"https://www.youtube.com/embed/6zCpRVP1DgQ\\\n",
    "?rel=0&amp;controls=0&amp;showinfo=0\", \n",
    "       width=\"560\", height=\"315\")"
   ]
  },
  {
   "cell_type": "markdown",
   "id": "66976e83-d123-40d5-a78d-05d0b140c4c7",
   "metadata": {
    "slideshow": {
     "slide_type": "fragment"
    }
   },
   "source": [
    "---"
   ]
  },
  {
   "cell_type": "markdown",
   "id": "fb3d7671-1f74-4776-8ee7-172d2dade394",
   "metadata": {
    "slideshow": {
     "slide_type": "slide"
    }
   },
   "source": [
    "## Prediction"
   ]
  },
  {
   "cell_type": "markdown",
   "id": "f091d2c5-9eab-471f-b1c1-5d893518463e",
   "metadata": {
    "slideshow": {
     "slide_type": "fragment"
    }
   },
   "source": [
    "---"
   ]
  },
  {
   "cell_type": "markdown",
   "id": "e399982b-1e29-46a4-9e32-9ff10a6d216d",
   "metadata": {
    "slideshow": {
     "slide_type": "subslide"
    }
   },
   "source": [
    "### Demo: Prediction"
   ]
  },
  {
   "cell_type": "markdown",
   "id": "1ef685fb-ccef-4a61-a71f-ed5c86954fbc",
   "metadata": {
    "deletable": false,
    "editable": false,
    "slideshow": {
     "slide_type": "skip"
    }
   },
   "source": [
    "Load the Galton's data and visualize the relationship between `midparentHeight` and `childHeight`."
   ]
  },
  {
   "cell_type": "code",
   "execution_count": null,
   "id": "390e3c74-b37b-4bdf-84c7-d5162826b30d",
   "metadata": {
    "slideshow": {
     "slide_type": "fragment"
    },
    "tags": []
   },
   "outputs": [],
   "source": [
    "galton = Table.read_table('galton.csv')\n",
    "galton"
   ]
  },
  {
   "cell_type": "code",
   "execution_count": null,
   "id": "e836c2bc-2d90-4174-b106-632bd9e447a0",
   "metadata": {
    "scrolled": true,
    "slideshow": {
     "slide_type": "subslide"
    },
    "tags": []
   },
   "outputs": [],
   "source": [
    "..."
   ]
  },
  {
   "cell_type": "markdown",
   "id": "4d1890c5-d730-4d38-8544-a0aced588e28",
   "metadata": {
    "slideshow": {
     "slide_type": "fragment"
    }
   },
   "source": [
    "---"
   ]
  },
  {
   "cell_type": "markdown",
   "id": "231116cd-5a21-422c-a69e-855467c189a4",
   "metadata": {
    "deletable": false,
    "editable": false,
    "slideshow": {
     "slide_type": "skip"
    }
   },
   "source": [
    "Identify points that are within 0.5 of the `midparentHeight` value of 68."
   ]
  },
  {
   "cell_type": "code",
   "execution_count": null,
   "id": "dd374894-5d95-4a23-a1e1-ad98115367fa",
   "metadata": {
    "slideshow": {
     "slide_type": "subslide"
    },
    "tags": []
   },
   "outputs": [],
   "source": [
    "galton.scatter('midparentHeight', 'childHeight')\n",
    "plt.plot([67.5, 67.5], [50, 85], color='red', lw=2)\n",
    "plt.plot([68.5, 68.5], [50, 85], color='red', lw=2);"
   ]
  },
  {
   "cell_type": "code",
   "execution_count": null,
   "id": "d69c8c02-0949-47e1-a2fc-8eb432054aed",
   "metadata": {
    "slideshow": {
     "slide_type": "subslide"
    },
    "tags": []
   },
   "outputs": [],
   "source": [
    "nearby = ...\n",
    "nearby_mean = ...\n",
    "nearby_mean"
   ]
  },
  {
   "cell_type": "code",
   "execution_count": null,
   "id": "04e16949-a71e-4ea7-8dec-4ca51e89f9cf",
   "metadata": {
    "slideshow": {
     "slide_type": "subslide"
    },
    "tags": []
   },
   "outputs": [],
   "source": [
    "galton.scatter('midparentHeight', 'childHeight')\n",
    "plt.plot([67.5, 67.5], [50, 85], color='red', lw=2)\n",
    "plt.plot([68.5, 68.5], [50, 85], color='red', lw=2)\n",
    "plt.scatter(68, nearby_mean, color='red', s=50);"
   ]
  },
  {
   "cell_type": "markdown",
   "id": "35118a2e-a916-4c70-9047-59eaa1c89847",
   "metadata": {
    "slideshow": {
     "slide_type": "fragment"
    }
   },
   "source": [
    "---"
   ]
  },
  {
   "cell_type": "markdown",
   "id": "fcfb60b2-a25d-46c0-ba2f-3dd0be10dee2",
   "metadata": {
    "deletable": false,
    "editable": false,
    "slideshow": {
     "slide_type": "skip"
    }
   },
   "source": [
    "Create a function to predict the height of a child based on the average `childHeight` associated with the points within 0.5 of the given child's `midparentHeight` value."
   ]
  },
  {
   "cell_type": "code",
   "execution_count": null,
   "id": "0ee05dec-cb05-4398-b5c7-1bd24f2d8b8f",
   "metadata": {
    "slideshow": {
     "slide_type": "subslide"
    },
    "tags": []
   },
   "outputs": [],
   "source": [
    "..."
   ]
  },
  {
   "cell_type": "code",
   "execution_count": null,
   "id": "28b3dc76-ab5e-4791-acec-724793b1474c",
   "metadata": {
    "slideshow": {
     "slide_type": "fragment"
    },
    "tags": []
   },
   "outputs": [],
   "source": [
    "predict(68)"
   ]
  },
  {
   "cell_type": "code",
   "execution_count": null,
   "id": "5dbac1cb-11a3-4335-8c3a-d81084668ed9",
   "metadata": {
    "slideshow": {
     "slide_type": "fragment"
    },
    "tags": []
   },
   "outputs": [],
   "source": [
    "predict(70)"
   ]
  },
  {
   "cell_type": "code",
   "execution_count": null,
   "id": "b6f33b3e-1660-4837-8cd0-de3637e8d288",
   "metadata": {
    "slideshow": {
     "slide_type": "fragment"
    },
    "tags": []
   },
   "outputs": [],
   "source": [
    "predict(73)"
   ]
  },
  {
   "cell_type": "markdown",
   "id": "b837a8b3-cca4-4eb2-b11c-cc25c04c26fe",
   "metadata": {
    "slideshow": {
     "slide_type": "fragment"
    }
   },
   "source": [
    "---"
   ]
  },
  {
   "cell_type": "markdown",
   "id": "7dd30b62-6353-4999-a2b0-48785add3d11",
   "metadata": {
    "deletable": false,
    "editable": false,
    "slideshow": {
     "slide_type": "skip"
    }
   },
   "source": [
    "Apply the function to the `galton` table."
   ]
  },
  {
   "cell_type": "code",
   "execution_count": null,
   "id": "af60e2f2-6b45-438f-901d-e36cf4d4b438",
   "metadata": {
    "slideshow": {
     "slide_type": "subslide"
    },
    "tags": []
   },
   "outputs": [],
   "source": [
    "predicted_heights = ...\n",
    "predicted_heights"
   ]
  },
  {
   "cell_type": "code",
   "execution_count": null,
   "id": "a89c9260-0950-4601-b870-7576c58cb809",
   "metadata": {
    "slideshow": {
     "slide_type": "subslide"
    },
    "tags": []
   },
   "outputs": [],
   "source": [
    "galton = ...\n",
    "galton"
   ]
  },
  {
   "cell_type": "markdown",
   "id": "7664afc2-66fe-45ba-a678-a21594d2a8b0",
   "metadata": {
    "slideshow": {
     "slide_type": "fragment"
    }
   },
   "source": [
    "---"
   ]
  },
  {
   "cell_type": "markdown",
   "id": "92ba9973-2fdd-4718-a9fb-99e5d362bc46",
   "metadata": {
    "deletable": false,
    "editable": false,
    "slideshow": {
     "slide_type": "skip"
    }
   },
   "source": [
    "Visualize the predictions."
   ]
  },
  {
   "cell_type": "code",
   "execution_count": null,
   "id": "9945241d-858b-48af-a62e-77eb808cda49",
   "metadata": {
    "slideshow": {
     "slide_type": "subslide"
    },
    "tags": []
   },
   "outputs": [],
   "source": [
    "..."
   ]
  },
  {
   "cell_type": "markdown",
   "id": "e70a4f95-3324-41e4-b1e4-eaea65fc6ec4",
   "metadata": {
    "slideshow": {
     "slide_type": "fragment"
    }
   },
   "source": [
    "---"
   ]
  },
  {
   "cell_type": "markdown",
   "id": "8dcdce57-0891-435f-86ed-c53371254ba0",
   "metadata": {
    "slideshow": {
     "slide_type": "slide"
    }
   },
   "source": [
    "## Prediction Accuracy"
   ]
  },
  {
   "cell_type": "markdown",
   "id": "41562224-ab1f-4615-923a-c8db46a2e323",
   "metadata": {
    "slideshow": {
     "slide_type": "fragment"
    }
   },
   "source": [
    "---"
   ]
  },
  {
   "cell_type": "markdown",
   "id": "05c13ab9-ac01-4bbc-b1e9-6d885cc78b1e",
   "metadata": {
    "slideshow": {
     "slide_type": "subslide"
    }
   },
   "source": [
    "### Demo: Prediction Accuracy"
   ]
  },
  {
   "cell_type": "markdown",
   "id": "ecdf0685-f603-499f-8d89-be86e11fda98",
   "metadata": {
    "deletable": false,
    "editable": false,
    "slideshow": {
     "slide_type": "skip"
    }
   },
   "source": [
    "Define a function to compute the difference `x - y` between two values `x` and `y`."
   ]
  },
  {
   "cell_type": "code",
   "execution_count": null,
   "id": "6543a735-a259-4506-a95b-23513b00a34e",
   "metadata": {
    "slideshow": {
     "slide_type": "-"
    },
    "tags": []
   },
   "outputs": [],
   "source": [
    "..."
   ]
  },
  {
   "cell_type": "markdown",
   "id": "397e3afb-23df-4106-af99-50dced1cd089",
   "metadata": {
    "slideshow": {
     "slide_type": "fragment"
    }
   },
   "source": [
    "---"
   ]
  },
  {
   "cell_type": "markdown",
   "id": "d5d4a30e-84e2-472b-b2e4-933c383af342",
   "metadata": {
    "deletable": false,
    "editable": false,
    "slideshow": {
     "slide_type": "skip"
    }
   },
   "source": [
    "Apply the function to the `galton` table to measure the difference between the `predictedHeight` and `childHeight` values. Add the results to the table."
   ]
  },
  {
   "cell_type": "code",
   "execution_count": null,
   "id": "a83fb36e-7343-42de-b5d0-d88a19201ae7",
   "metadata": {
    "slideshow": {
     "slide_type": "fragment"
    },
    "tags": []
   },
   "outputs": [],
   "source": [
    "pred_errs = ...\n",
    "pred_errs"
   ]
  },
  {
   "cell_type": "code",
   "execution_count": null,
   "id": "6118822e-b539-445f-909d-0582591ae81d",
   "metadata": {
    "slideshow": {
     "slide_type": "subslide"
    },
    "tags": []
   },
   "outputs": [],
   "source": [
    "galton = ...\n",
    "galton"
   ]
  },
  {
   "cell_type": "markdown",
   "id": "a8e15167-cf3c-4690-a1f4-67e287a6d670",
   "metadata": {
    "slideshow": {
     "slide_type": "fragment"
    }
   },
   "source": [
    "---"
   ]
  },
  {
   "cell_type": "markdown",
   "id": "9caa9e75-1a34-4389-a843-fb42efe66897",
   "metadata": {
    "deletable": false,
    "editable": false,
    "slideshow": {
     "slide_type": "skip"
    }
   },
   "source": [
    "Visualize the errors in prediction."
   ]
  },
  {
   "cell_type": "code",
   "execution_count": null,
   "id": "365f168e-0c72-4c33-90b0-a71ab7c6c4f9",
   "metadata": {
    "slideshow": {
     "slide_type": "subslide"
    },
    "tags": []
   },
   "outputs": [],
   "source": [
    "..."
   ]
  },
  {
   "cell_type": "code",
   "execution_count": null,
   "id": "be6a78ac-ebab-41a2-ab99-b9f560043c90",
   "metadata": {
    "scrolled": true,
    "slideshow": {
     "slide_type": "subslide"
    },
    "tags": []
   },
   "outputs": [],
   "source": [
    "..."
   ]
  },
  {
   "cell_type": "markdown",
   "id": "3a2e2f8d-f7a4-4436-a998-95a05fbf334b",
   "metadata": {
    "slideshow": {
     "slide_type": "fragment"
    }
   },
   "source": [
    "---"
   ]
  },
  {
   "cell_type": "markdown",
   "id": "cc285ac2-b725-48c8-a205-468901ad68a0",
   "metadata": {
    "slideshow": {
     "slide_type": "slide"
    }
   },
   "source": [
    "## Grouping"
   ]
  },
  {
   "cell_type": "markdown",
   "id": "b708399c-3cc0-4418-9129-9c7ea23da57b",
   "metadata": {
    "slideshow": {
     "slide_type": "fragment"
    }
   },
   "source": [
    "---"
   ]
  },
  {
   "cell_type": "markdown",
   "id": "d351e242-4894-4379-b499-aa07df39c4b3",
   "metadata": {
    "slideshow": {
     "slide_type": "subslide"
    }
   },
   "source": [
    "### Grouping by One Column"
   ]
  },
  {
   "cell_type": "markdown",
   "id": "9b7ed896-8e9f-4ec4-b7d7-7e6585b0e4e2",
   "metadata": {
    "slideshow": {
     "slide_type": "-"
    }
   },
   "source": [
    "The group method aggregates all rows with the same value for a column into a single row in the resulting table.\n",
    "* First argument: Which column to group by\n",
    "* Second argument: (Optional) How to combine values\n",
    "    * `len` — number of grouped values (default)\n",
    "    * `list` — list of all grouped values\n",
    "    * `sum`  — total of all grouped values\n",
    "    * ...\n"
   ]
  },
  {
   "cell_type": "markdown",
   "id": "f05467e5-6f4e-4698-8ec9-729385f8a6e7",
   "metadata": {
    "slideshow": {
     "slide_type": "fragment"
    }
   },
   "source": [
    "---"
   ]
  },
  {
   "cell_type": "code",
   "execution_count": null,
   "id": "605b08cf-a133-440d-9722-2dd21b75cb82",
   "metadata": {
    "scrolled": true
   },
   "outputs": [],
   "source": [
    "from IPython.display import IFrame\n",
    "IFrame('https://docs.google.com/presentation/d/e/2PACX-1vT5DQDrDs21XnYnUD1000G97wukT1oj9N_ePPTdmGTp2vPh88jW_JCLcoK2yaWmmLjKjXelJDnT4m-J/embed?start=false&loop=false&delayms=3000', 800, 600)"
   ]
  },
  {
   "cell_type": "markdown",
   "id": "5b2ebed7-edb3-4e89-8197-79991a50d5e1",
   "metadata": {
    "slideshow": {
     "slide_type": "fragment"
    }
   },
   "source": [
    "---"
   ]
  },
  {
   "cell_type": "markdown",
   "id": "4dc47c65-ddf1-4df4-a562-ee1335bb3b4f",
   "metadata": {
    "slideshow": {
     "slide_type": "subslide"
    }
   },
   "source": [
    "### Demo: Grouping by One Column"
   ]
  },
  {
   "cell_type": "markdown",
   "id": "a7d16f5f-f0ca-4fc5-bb63-4fe3b7ff23c5",
   "metadata": {
    "editable": true,
    "slideshow": {
     "slide_type": ""
    },
    "tags": []
   },
   "source": [
    "The San Francisco [Existing Buildings Energy Performance Ordinance](https://data.sfgov.org/Energy-and-Environment/Existing-Buildings-Energy-Performance-Ordinance-Re/96ck-qcfe/about_data) (Environment Code Chapter 20) requires that each non-residential building with at least 10,000 square feet of conditioned (heated or cooled) space and each residential building with at least 50,000 square feet of conditioned space must be benchmarked annually using Energy Star Portfolio Manager. Each non-residential building specified above is also required to undergo an energy audit, retrocommissioning, or develop a plan for decarbonization at least once every 5 years.\n",
    "\n",
    "The table `energy` contains this data (as of February 7, 2024)."
   ]
  },
  {
   "cell_type": "code",
   "execution_count": null,
   "id": "f02bf8ee-9c6e-485a-b674-2cecee48f27e",
   "metadata": {
    "editable": true,
    "slideshow": {
     "slide_type": ""
    },
    "tags": []
   },
   "outputs": [],
   "source": [
    "energy = Table().read_table('energy.csv')\n",
    "energy"
   ]
  },
  {
   "cell_type": "markdown",
   "id": "0dd1b936-0504-41a3-9ea1-e10928cb32f7",
   "metadata": {
    "deletable": false,
    "editable": false,
    "slideshow": {
     "slide_type": "skip"
    }
   },
   "source": [
    "Explore the `energy` data using the `group` method."
   ]
  },
  {
   "cell_type": "code",
   "execution_count": null,
   "id": "7d61f848-b0da-4e59-83f8-e5ba3674f8ed",
   "metadata": {
    "tags": []
   },
   "outputs": [],
   "source": [
    "..."
   ]
  },
  {
   "cell_type": "code",
   "execution_count": null,
   "id": "fe897b09-0ab6-4ce8-a82a-540d012ed8f9",
   "metadata": {
    "tags": []
   },
   "outputs": [],
   "source": [
    "..."
   ]
  },
  {
   "cell_type": "code",
   "execution_count": null,
   "id": "befa63f2-e26b-42e5-9af4-086b075625f7",
   "metadata": {
    "tags": []
   },
   "outputs": [],
   "source": [
    "..."
   ]
  },
  {
   "cell_type": "markdown",
   "id": "c3914135-bcf5-45bd-86a0-1be4a16007f0",
   "metadata": {
    "slideshow": {
     "slide_type": "fragment"
    }
   },
   "source": [
    "---"
   ]
  },
  {
   "cell_type": "markdown",
   "id": "6036172b-406b-4fe3-a9c1-8b648b79ecd3",
   "metadata": {
    "slideshow": {
     "slide_type": "subslide"
    }
   },
   "source": [
    "### Grouping by Two Columns"
   ]
  },
  {
   "cell_type": "markdown",
   "id": "98abcbdc-b619-4229-88e3-83693e43e8ca",
   "metadata": {
    "slideshow": {
     "slide_type": "-"
    }
   },
   "source": [
    "The group method can also aggregate all rows that share the combination of values in multiple columns\n",
    "* First argument: A list of which columns to group by\n",
    "* Second argument: (Optional) How to combine values"
   ]
  },
  {
   "cell_type": "markdown",
   "id": "52e7f56b-4c8a-4ecc-9518-1dc16ffa7768",
   "metadata": {
    "slideshow": {
     "slide_type": "fragment"
    }
   },
   "source": [
    "---"
   ]
  },
  {
   "cell_type": "markdown",
   "id": "6f05a37f-5dd9-4a37-97a9-dfea7d678bed",
   "metadata": {
    "slideshow": {
     "slide_type": "subslide"
    }
   },
   "source": [
    "### Demo: Grouping by Two Columns"
   ]
  },
  {
   "cell_type": "markdown",
   "id": "e2da1035-2393-440c-9546-1526c1229f92",
   "metadata": {
    "deletable": false,
    "editable": false
   },
   "source": [
    "The variable `'weather_normalized_site_eui'` in `energy` reflects the energy use (measured in kBtu/ft2) the building would have consumed during 30-year average weather conditions. Determine what category (Office, Retail Store, etc.) and postal code combination the city has the highest average energy use consumed during 30-year average weather conditions. Since some of the values are not available `nan`, filter the energy data to exclude such values."
   ]
  },
  {
   "cell_type": "code",
   "execution_count": null,
   "id": "1f1d502b-019b-4baf-afdb-cc5bf9970a5e",
   "metadata": {
    "tags": []
   },
   "outputs": [],
   "source": [
    "energy_reduced = energy.select('category', 'postal_code', 'weather_normalized_site_eui') \n",
    "energy_filtered = energy_reduced.where('weather_normalized_site_eui', are.above(0))\n",
    "energy_filtered"
   ]
  },
  {
   "cell_type": "code",
   "execution_count": null,
   "id": "08bfacc3-ffeb-4fc6-86bf-47b6fa463f4c",
   "metadata": {
    "tags": []
   },
   "outputs": [],
   "source": [
    "..."
   ]
  },
  {
   "cell_type": "code",
   "execution_count": null,
   "id": "5e5041f5-2f1e-465f-9b9e-2d314f130c61",
   "metadata": {
    "tags": []
   },
   "outputs": [],
   "source": [
    "..."
   ]
  },
  {
   "cell_type": "code",
   "execution_count": null,
   "id": "0ea2dc48-07c7-4d39-b242-1cfca34face8",
   "metadata": {
    "tags": []
   },
   "outputs": [],
   "source": [
    "energy_by_cat_and_postal = ...\n",
    "..."
   ]
  },
  {
   "cell_type": "markdown",
   "id": "74248d31-a6ab-49c7-b4f6-be27de4af2c8",
   "metadata": {
    "slideshow": {
     "slide_type": "fragment"
    }
   },
   "source": [
    "---"
   ]
  },
  {
   "cell_type": "markdown",
   "id": "af7d231b-c2dc-44e7-8bb5-8905b37e3277",
   "metadata": {
    "slideshow": {
     "slide_type": "slide"
    }
   },
   "source": [
    "## Pivot Tables"
   ]
  },
  {
   "cell_type": "markdown",
   "id": "8e0ca5b8-dfca-45c3-8beb-959101512ea9",
   "metadata": {
    "slideshow": {
     "slide_type": "fragment"
    }
   },
   "source": [
    "---"
   ]
  },
  {
   "cell_type": "markdown",
   "id": "9ce5b764-148b-456b-ba00-51ba14c3cd08",
   "metadata": {
    "slideshow": {
     "slide_type": "subslide"
    }
   },
   "source": [
    "### Pivot"
   ]
  },
  {
   "cell_type": "markdown",
   "id": "e3ddf346-cf22-4f82-8a9c-62c0f27220e7",
   "metadata": {
    "slideshow": {
     "slide_type": "-"
    }
   },
   "source": [
    "* Produces a grid of counts or aggregated values based on two categorical variables\n",
    "* Two required arguments:\n",
    "    * First: variable that forms column labels of grid\n",
    "    * Second: variable that forms row labels of grid\n",
    "* Two optional arguments (include both or neither)\n",
    "    * `values=’column_label_to_aggregate’`\n",
    "    * `collect=function_to_aggregate_with`"
   ]
  },
  {
   "cell_type": "markdown",
   "id": "046d44c8-2bd7-4a78-9ecd-272f4f3cd714",
   "metadata": {
    "slideshow": {
     "slide_type": "fragment"
    }
   },
   "source": [
    "---"
   ]
  },
  {
   "cell_type": "markdown",
   "id": "2f59e5fe-3ed9-4294-8e8e-f81d3e0b37a1",
   "metadata": {
    "slideshow": {
     "slide_type": "subslide"
    }
   },
   "source": [
    "### Demo: Pivot Tables"
   ]
  },
  {
   "cell_type": "markdown",
   "id": "36227404-8eeb-40cc-b5b2-801207482af6",
   "metadata": {
    "deletable": false,
    "editable": false,
    "slideshow": {
     "slide_type": ""
    },
    "tags": []
   },
   "source": [
    "Using the `pivot` table method, summarize the average energy use consumed during 30-year average weather conditions across categories (Office, Retail Store, etc.) and postal code combinations."
   ]
  },
  {
   "cell_type": "code",
   "execution_count": null,
   "id": "e0119bf9-921e-45f9-8d96-ced5868b14d2",
   "metadata": {
    "tags": []
   },
   "outputs": [],
   "source": [
    "..."
   ]
  },
  {
   "cell_type": "code",
   "execution_count": null,
   "id": "e9b68ee7-a59c-4ff2-977a-2a3321df0dc2",
   "metadata": {
    "editable": true,
    "slideshow": {
     "slide_type": ""
    },
    "tags": []
   },
   "outputs": [],
   "source": [
    "..."
   ]
  },
  {
   "cell_type": "markdown",
   "id": "f2867f49-26e5-41fe-a899-ec1b0835f3b3",
   "metadata": {
    "slideshow": {
     "slide_type": "fragment"
    }
   },
   "source": [
    "---"
   ]
  },
  {
   "cell_type": "markdown",
   "id": "90b67b60-70ea-46f9-8a82-e672675eafbc",
   "metadata": {
    "slideshow": {
     "slide_type": "slide"
    }
   },
   "source": [
    "## Cross-Classification"
   ]
  },
  {
   "cell_type": "markdown",
   "id": "516f809e-3686-4cd0-8d39-6121048ff9bb",
   "metadata": {
    "slideshow": {
     "slide_type": "fragment"
    }
   },
   "source": [
    "---"
   ]
  },
  {
   "cell_type": "markdown",
   "id": "40c19efa-58e3-4f59-9b93-ed25e900b32c",
   "metadata": {},
   "source": [
    "### Group and Pivot Tables"
   ]
  },
  {
   "cell_type": "markdown",
   "id": "75c2b4a6-7775-4ef7-b2b3-5a551dd92901",
   "metadata": {
    "slideshow": {
     "slide_type": "-"
    }
   },
   "source": [
    "Cross-classification is to put individuals into groups based on the values of 2 or more variables."
   ]
  },
  {
   "cell_type": "markdown",
   "id": "e9e0b046-f883-4f27-bcc1-4910ef86d084",
   "metadata": {
    "slideshow": {
     "slide_type": "subslide"
    }
   },
   "source": [
    "For cross-classification:\n",
    "\n",
    "* Grouped Table\n",
    "    * One combo of grouping variables per row\n",
    "    * Any number of grouping variables\n",
    "    * Aggregate values of all other columns in table\n",
    "    * Missing combos absent\n",
    "* Pivot Table\n",
    "    * One combo of grouping variables per entry\n",
    "    * Two grouping variables: columns and rows\n",
    "    * Aggregate values of values column\n",
    "    * Missing combos = 0 (or empty string)"
   ]
  },
  {
   "cell_type": "markdown",
   "id": "3c027792-6d95-4273-854a-f8a36e540f74",
   "metadata": {
    "slideshow": {
     "slide_type": "fragment"
    }
   },
   "source": [
    "---"
   ]
  },
  {
   "cell_type": "markdown",
   "id": "42721033-b6cc-458a-a6ba-3b589a50b22e",
   "metadata": {
    "slideshow": {
     "slide_type": "subslide"
    }
   },
   "source": [
    "### Table Function Visualizer"
   ]
  },
  {
   "cell_type": "markdown",
   "id": "13ab5029-9332-47d3-883d-9fe5b3bbb997",
   "metadata": {},
   "source": [
    "Check out UC Berkeley's [Table Function Visualizer](https://www.data8.org/interactive_table_functions/) to better understand the `group` and `pivot` table methods."
   ]
  },
  {
   "cell_type": "markdown",
   "id": "48414fb5-fd97-4c8f-baab-a197b61d29a2",
   "metadata": {
    "slideshow": {
     "slide_type": "fragment"
    }
   },
   "source": [
    "---"
   ]
  },
  {
   "cell_type": "markdown",
   "id": "7a44c256-64e6-4406-8728-dcb0bb6dedf6",
   "metadata": {
    "slideshow": {
     "slide_type": "notes"
    }
   },
   "source": [
    "<footer>\n",
    "    <p>Adopted from UC Berkeley DATA 8 course materials.</p>\n",
    "    <p>This content is offered under a <a href=\"https://creativecommons.org/licenses/by-nc-sa/4.0/\">CC Attribution Non-Commercial Share Alike</a> license.</p>\n",
    "</footer>"
   ]
  }
 ],
 "metadata": {
  "kernelspec": {
   "display_name": "Python 3 (ipykernel)",
   "language": "python",
   "name": "python3"
  },
  "language_info": {
   "codemirror_mode": {
    "name": "ipython",
    "version": 3
   },
   "file_extension": ".py",
   "mimetype": "text/x-python",
   "name": "python",
   "nbconvert_exporter": "python",
   "pygments_lexer": "ipython3",
   "version": "3.10.12"
  },
  "otter": {
   "OK_FORMAT": true,
   "tests": {}
  }
 },
 "nbformat": 4,
 "nbformat_minor": 5
}
