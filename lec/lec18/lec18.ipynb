{
 "cells": [
  {
   "cell_type": "markdown",
   "id": "a41d5f95-cfb1-4f46-9cab-aa95e94c2ea3",
   "metadata": {
    "slideshow": {
     "slide_type": "slide"
    }
   },
   "source": [
    "<div style=\"width: 38.5%;\">\n",
    "    <p><strong>City College of San Francisco</strong><p>\n",
    "    <hr>\n",
    "    <p>MATH 108 - Foundations of Data Science</p>\n",
    "</div>"
   ]
  },
  {
   "cell_type": "markdown",
   "id": "cccc589a-8102-4d59-94cd-066c92a542dc",
   "metadata": {
    "slideshow": {
     "slide_type": "-"
    }
   },
   "source": [
    "# Lecture 18: Comparing Distributions"
   ]
  },
  {
   "cell_type": "markdown",
   "id": "8e71f42b-1ee3-4861-9868-db7cebeeea75",
   "metadata": {
    "slideshow": {
     "slide_type": "-"
    }
   },
   "source": [
    "Associated Textbook Sections: [11.1, 11.2](https://inferentialthinking.com/chapters/11/2/Multiple_Categories.html)"
   ]
  },
  {
   "cell_type": "markdown",
   "id": "f94c54f0-3605-4439-b91f-391da5dc3126",
   "metadata": {
    "slideshow": {
     "slide_type": "slide"
    }
   },
   "source": [
    "<div style=\"width: 38.5%;\">\n",
    "    <p><strong>City College of San Francisco</strong><p>\n",
    "    <hr>\n",
    "    <p>MATH 108 - Foundations of Data Science</p>\n",
    "</div>"
   ]
  },
  {
   "cell_type": "markdown",
   "id": "3fd1a2c1-3978-45a4-83a9-bb98407ac7ad",
   "metadata": {
    "slideshow": {
     "slide_type": "slide"
    }
   },
   "source": [
    "## Outline"
   ]
  },
  {
   "cell_type": "markdown",
   "id": "030f231d-4713-4418-b747-b5f2a66dafb9",
   "metadata": {
    "slideshow": {
     "slide_type": "-"
    }
   },
   "source": [
    "* [Comparing Distributions](#Comparing-Distributions)\n",
    "* [A New Statistic](#A-New-Statistic)\n",
    "* [Testing Hypotheses](#Testing-Hypotheses)"
   ]
  },
  {
   "cell_type": "markdown",
   "id": "1e710a28-a3c0-4c27-84a4-62a559add16b",
   "metadata": {
    "slideshow": {
     "slide_type": "slide"
    }
   },
   "source": [
    "## Set Up the Notebook"
   ]
  },
  {
   "cell_type": "code",
   "execution_count": null,
   "id": "f4de8cbd-d9fd-4087-ba56-ce0ebd7ab5c3",
   "metadata": {
    "slideshow": {
     "slide_type": "-"
    }
   },
   "outputs": [],
   "source": [
    "from datascience import *\n",
    "import numpy as np\n",
    "%matplotlib inline\n",
    "import matplotlib.pyplot as plt\n",
    "plt.style.use('fivethirtyeight')"
   ]
  },
  {
   "cell_type": "markdown",
   "id": "f39cdc0a-0e3d-41ef-ba15-d31a8ba31d6e",
   "metadata": {
    "slideshow": {
     "slide_type": "fragment"
    }
   },
   "source": [
    "---"
   ]
  },
  {
   "cell_type": "markdown",
   "id": "538fe619-6341-411e-8dfa-fda087721bb9",
   "metadata": {
    "slideshow": {
     "slide_type": "slide"
    }
   },
   "source": [
    "## Comparing Distributions"
   ]
  },
  {
   "cell_type": "markdown",
   "id": "9ce01712-8951-42b3-8d3f-cb502bae305a",
   "metadata": {
    "slideshow": {
     "slide_type": "subslide"
    }
   },
   "source": [
    "### Jury Selection in Alameda County"
   ]
  },
  {
   "cell_type": "markdown",
   "id": "9e2c8bbc-ba60-476c-bafb-05267728bdfc",
   "metadata": {
    "slideshow": {
     "slide_type": "-"
    }
   },
   "source": [
    "<img src=\"./ACLU_report.png\" alt=\"ACLU Report\" width=40%>"
   ]
  },
  {
   "cell_type": "markdown",
   "id": "a5f03e7c-d00e-4064-bc18-c8a6a63edd73",
   "metadata": {
    "slideshow": {
     "slide_type": "notes"
    }
   },
   "source": [
    "Report Source: [ACLU of Northern California - RACIAL AND ETHNIC DISPARITIES IN ALAMEDA COUNTY JURY POOLS (2010)](https://www.aclunc.org/sites/default/files/racial_and_ethnic_disparities_in_alameda_county_jury_pools.pdf)"
   ]
  },
  {
   "cell_type": "markdown",
   "id": "1664089a-f6b5-44de-874c-1dd003eea648",
   "metadata": {
    "slideshow": {
     "slide_type": "subslide"
    }
   },
   "source": [
    "### Jury Panels"
   ]
  },
  {
   "cell_type": "markdown",
   "id": "2b88a280-238f-45dc-b337-f6eb5829ed14",
   "metadata": {
    "slideshow": {
     "slide_type": "-"
    }
   },
   "source": [
    "<img src=\"./jury_selection_process.png\" alt=\"jury selection process\" width = 80%>\n",
    "\n",
    "Section 197 of California's Code of Civil Procedure says, \n",
    "> \"All persons selected for jury service shall be selected at random, from a source or sources inclusive of a representative cross section of the population of the area served by the court.\""
   ]
  },
  {
   "cell_type": "markdown",
   "id": "05f2260c-7262-44e0-b963-9b642a960d4e",
   "metadata": {
    "slideshow": {
     "slide_type": "subslide"
    }
   },
   "source": [
    "### Demo: Alameda County Jury Panels"
   ]
  },
  {
   "attachments": {},
   "cell_type": "markdown",
   "id": "f972e7c7-58d9-42fb-b060-b7dc32c2b699",
   "metadata": {
    "deletable": false,
    "editable": false,
    "slideshow": {
     "slide_type": "notes"
    }
   },
   "source": [
    "* Visualize the the eligible and panel distributions of ethnicities based on the Totals in the report.\n",
    "* Under the model, define an array that represents the distribution of people from which the jurors are randomly sampled\n",
    "* Simulate a random draw of 1423 jurors from this distribution\n",
    "* The actual observed distribution (Panels) looks quite different from the simulation -- try simulating this several times to confirm!\n",
    "* Visualize the results of the last simulation."
   ]
  },
  {
   "cell_type": "code",
   "execution_count": null,
   "id": "ecd9ad15-17c7-43ab-a8b5-54a9471c2d8a",
   "metadata": {
    "slideshow": {
     "slide_type": "-"
    },
    "tags": []
   },
   "outputs": [],
   "source": [
    "jury = Table().with_columns(\n",
    "    'Ethnicity', make_array('Asian/PI ', 'Black/AA', 'Hispanic ', 'Caucasian', 'Other'),\n",
    "    'Eligible', make_array(0.15, 0.18, 0.12, 0.54, 0.01),\n",
    "    'Panels', make_array(0.26, 0.08, 0.08, 0.54, 0.04)\n",
    ")\n",
    "\n",
    "jury"
   ]
  },
  {
   "cell_type": "code",
   "execution_count": null,
   "id": "bc4b34fe-cf06-41d3-ad6b-344cff8b8391",
   "metadata": {
    "slideshow": {
     "slide_type": "subslide"
    },
    "tags": []
   },
   "outputs": [],
   "source": [
    "..."
   ]
  },
  {
   "cell_type": "code",
   "execution_count": null,
   "id": "e7d71ac8-142d-4391-98c9-964b6935336e",
   "metadata": {
    "slideshow": {
     "slide_type": "subslide"
    },
    "tags": []
   },
   "outputs": [],
   "source": [
    "model = ..."
   ]
  },
  {
   "cell_type": "code",
   "execution_count": null,
   "id": "13b6b2a2-9c21-4c90-8caa-18447b209d8b",
   "metadata": {
    "scrolled": true,
    "slideshow": {
     "slide_type": "subslide"
    },
    "tags": []
   },
   "outputs": [],
   "source": [
    "simulated = ...\n",
    "simulated"
   ]
  },
  {
   "cell_type": "code",
   "execution_count": null,
   "id": "1c486503-ee30-4b34-803f-12058da27e2f",
   "metadata": {
    "slideshow": {
     "slide_type": "subslide"
    },
    "tags": []
   },
   "outputs": [],
   "source": [
    "jury_with_simulated = ...\n",
    "jury_with_simulated"
   ]
  },
  {
   "cell_type": "code",
   "execution_count": null,
   "id": "e5ec2889-fb21-4f71-8018-d8a3c859ee2a",
   "metadata": {
    "slideshow": {
     "slide_type": "subslide"
    },
    "tags": []
   },
   "outputs": [],
   "source": [
    "..."
   ]
  },
  {
   "cell_type": "markdown",
   "id": "ae06c26b-c745-494a-8d5f-624c05057bc7",
   "metadata": {
    "slideshow": {
     "slide_type": "slide"
    }
   },
   "source": [
    "## A New Statistic"
   ]
  },
  {
   "cell_type": "markdown",
   "id": "d886e95d-4fef-4150-8993-8bf07168ca1d",
   "metadata": {
    "slideshow": {
     "slide_type": "subslide"
    }
   },
   "source": [
    "### Distance Between Distributions"
   ]
  },
  {
   "cell_type": "markdown",
   "id": "dc72b734-117b-440d-9a9d-06c4f9ae0c35",
   "metadata": {
    "slideshow": {
     "slide_type": "-"
    }
   },
   "source": [
    "* People on the panels are of multiple ethnicities\n",
    "* Distribution of ethnicities is categorical\n",
    "* To see whether the distribution of ethnicities of the panels is close to that of the eligible jurors, we have to measure the distance between two categorical distributions\n"
   ]
  },
  {
   "cell_type": "markdown",
   "id": "77c5a6f3-09b3-486e-9044-3fb958317a56",
   "metadata": {
    "slideshow": {
     "slide_type": "subslide"
    }
   },
   "source": [
    "### Demo: Distance Between Distributions"
   ]
  },
  {
   "cell_type": "markdown",
   "id": "e7fbea43-7610-4d04-9571-351ead42158b",
   "metadata": {
    "slideshow": {
     "slide_type": "notes"
    }
   },
   "source": [
    "In the last lecture, the difference between observed black/purple and their expected values (26%/75%) was our statistic. In this case, we need to understand how each of the 5 categories differ from their expected values according to the model."
   ]
  },
  {
   "cell_type": "markdown",
   "id": "60bd3368-aa29-456a-b04e-8995d3a5105c",
   "metadata": {
    "deletable": false,
    "editable": false
   },
   "source": [
    "Add a column to the `jury` table with the difference between the eligible and actual percentages for each ethnicity category."
   ]
  },
  {
   "cell_type": "code",
   "execution_count": null,
   "id": "7f5215ff-2e33-46a1-8c98-ff30cc2f7bf4",
   "metadata": {
    "slideshow": {
     "slide_type": "-"
    },
    "tags": []
   },
   "outputs": [],
   "source": [
    "diffs = ...\n",
    "jury_with_difference = jury.with_column('Difference', diffs)\n",
    "jury_with_difference"
   ]
  },
  {
   "cell_type": "markdown",
   "id": "84db7f48-0bf3-4e31-a78d-92a382291686",
   "metadata": {
    "slideshow": {
     "slide_type": "subslide"
    }
   },
   "source": [
    "### Total Variation Distance"
   ]
  },
  {
   "cell_type": "markdown",
   "id": "ce34dfe2-34ac-4d4b-9b10-e597de9f2749",
   "metadata": {
    "slideshow": {
     "slide_type": "-"
    }
   },
   "source": [
    "Total Variation Distance (TVD) Recipe:\n",
    "* For each category, compute the difference in proportions between two distributions\n",
    "* Take the absolute value of each difference\n",
    "* Sum, and then divide the sum by 2\n"
   ]
  },
  {
   "cell_type": "markdown",
   "id": "815bc3b6-ad18-431f-b262-e2698da03a54",
   "metadata": {
    "slideshow": {
     "slide_type": "subslide"
    }
   },
   "source": [
    "### Demo: Total Variation Distance"
   ]
  },
  {
   "attachments": {},
   "cell_type": "markdown",
   "id": "3e3fb101-8ee1-4fea-9751-062976ff433e",
   "metadata": {
    "deletable": false,
    "editable": false,
    "slideshow": {
     "slide_type": "notes"
    }
   },
   "source": [
    "* Define a function that calculates the TVD for two provided distribution arrays.\n",
    "* Calculate the TVD of our observed data (Panels) from their expected values assuming the model is true (Eligible)\n",
    "* Calculate the TVD of a model simulation from its expected values\n",
    "* Replicate creating sample juries and calculate the TVD in relation to the model 10000 times.\n",
    "* Visualize how the observed statistic fits in the distribution formed from those simulated TVD values."
   ]
  },
  {
   "cell_type": "code",
   "execution_count": null,
   "id": "bb96bf60-46dd-452a-a95b-8254801f48f8",
   "metadata": {
    "slideshow": {
     "slide_type": "-"
    },
    "tags": []
   },
   "outputs": [],
   "source": [
    "def tvd(dist1, dist2):\n",
    "    ..."
   ]
  },
  {
   "cell_type": "code",
   "execution_count": null,
   "id": "37a79c25-53e8-4bc2-9505-f39a2c21d99e",
   "metadata": {
    "slideshow": {
     "slide_type": "fragment"
    },
    "tags": []
   },
   "outputs": [],
   "source": [
    "dist1 = make_array(1, 2, 3)\n",
    "dist2 = make_array(0, 2, 4)\n",
    "tvd(dist1, dist2)"
   ]
  },
  {
   "cell_type": "code",
   "execution_count": null,
   "id": "71f58622-2b84-47df-a39e-cfe05a3b9d7d",
   "metadata": {
    "slideshow": {
     "slide_type": "subslide"
    },
    "tags": []
   },
   "outputs": [],
   "source": [
    "observed_proportions = ...\n",
    "obsvd_tvd = ...\n",
    "obsvd_tvd"
   ]
  },
  {
   "cell_type": "code",
   "execution_count": null,
   "id": "679c1eb6-12be-4d0c-90f7-76b3cf0f9e8b",
   "metadata": {
    "slideshow": {
     "slide_type": "subslide"
    },
    "tags": []
   },
   "outputs": [],
   "source": [
    "simulated_proportions = ...\n",
    "tvd(simulated_proportions, model)"
   ]
  },
  {
   "cell_type": "code",
   "execution_count": null,
   "id": "94d41736-2265-4052-a015-da48723cecb7",
   "metadata": {
    "slideshow": {
     "slide_type": "subslide"
    },
    "tags": []
   },
   "outputs": [],
   "source": [
    "def simulated_tvd():\n",
    "    simulated_proportions = ...\n",
    "    ...\n",
    "\n",
    "tvds = ...\n",
    "num_simulations = ...\n",
    "\n",
    "...\n",
    "    new_tvd = ...\n",
    "    tvds = ..."
   ]
  },
  {
   "cell_type": "code",
   "execution_count": null,
   "id": "e5565847-44a7-4b0e-ac54-12eb935d65f3",
   "metadata": {
    "slideshow": {
     "slide_type": "subslide"
    },
    "tags": []
   },
   "outputs": [],
   "source": [
    "title = 'Simulated TVDs (if model is true)'\n",
    "bins = np.arange(0, .05, .005)\n",
    "\n",
    "Table().with_column(title, tvds).hist(bins = bins)\n",
    "plt.scatter(0.14, 0, color='red', s=60, zorder=3)\n",
    "print('Observed TVD: ' + str(obsvd_tvd))"
   ]
  },
  {
   "cell_type": "markdown",
   "id": "c6b6f952-9fcf-41b8-be9a-52092b68b7a0",
   "metadata": {
    "slideshow": {
     "slide_type": "subslide"
    }
   },
   "source": [
    "### Summary of the Method"
   ]
  },
  {
   "cell_type": "markdown",
   "id": "2d687790-0502-43cc-8e6c-3af7cc218bfc",
   "metadata": {
    "slideshow": {
     "slide_type": "-"
    }
   },
   "source": [
    "To assess whether a sample was drawn randomly from a known categorical distribution:\n",
    "* Use TVD as the statistic because it measures the distance between categorical distributions\n",
    "* Sample at random from the population and compute the TVD from the random sample; repeat numerous times\n",
    "* Compare:\n",
    "    * Empirical distribution of simulated TVDs\n",
    "    * Actual TVD from the sample in the study\n"
   ]
  },
  {
   "cell_type": "markdown",
   "id": "8d555c7c-cb27-4217-9134-a4ef18fb4d51",
   "metadata": {
    "slideshow": {
     "slide_type": "slide"
    }
   },
   "source": [
    "## Testing Hypotheses"
   ]
  },
  {
   "cell_type": "markdown",
   "id": "215c0aa9-e2c3-44bb-b1e4-0dbf8a27f802",
   "metadata": {
    "slideshow": {
     "slide_type": "subslide"
    }
   },
   "source": [
    "### Testing Hypotheses"
   ]
  },
  {
   "cell_type": "markdown",
   "id": "9f6825fe-bf9d-411f-aa00-7555966ed31a",
   "metadata": {
    "slideshow": {
     "slide_type": "-"
    }
   },
   "source": [
    "* A test chooses between two views of how data were generated\n",
    "* The views are called hypotheses\n",
    "* The test picks the hypothesis that is better supported by the observed data\n"
   ]
  },
  {
   "cell_type": "markdown",
   "id": "d211f7f3-16fb-4a56-9f53-39d4bc2c74d9",
   "metadata": {
    "slideshow": {
     "slide_type": "subslide"
    }
   },
   "source": [
    "### Null and Alternative"
   ]
  },
  {
   "cell_type": "markdown",
   "id": "6a3da318-8049-4c52-ac61-91a0222eaff9",
   "metadata": {
    "slideshow": {
     "slide_type": "-"
    }
   },
   "source": [
    "The method only works if we can simulate data under one of the hypotheses.\n",
    "* Null hypothesis:\n",
    "    * A well defined chance model about how the data were generated\n",
    "    * We can simulate data under the assumptions of this model – “under the null hypothesis”\n",
    "* Alternative hypothesis: A different view about the origin of the data\n"
   ]
  },
  {
   "cell_type": "markdown",
   "id": "07e0fc86-6308-4023-a05b-ad93d3eb561a",
   "metadata": {
    "slideshow": {
     "slide_type": "subslide"
    }
   },
   "source": [
    "### Test Statistic"
   ]
  },
  {
   "cell_type": "markdown",
   "id": "1289fc55-ad0c-4a86-8766-c93fa4e26eb2",
   "metadata": {
    "slideshow": {
     "slide_type": "-"
    }
   },
   "source": [
    "* The statistic that we choose to simulate, to decide between the two hypotheses\n",
    "* Questions before choosing the statistic:\n",
    "    * What values of the statistic will make us lean towards the null hypothesis?\n",
    "    * What values will make us lean towards the alternative? Preferably, the answer should be just \"high\". Try to avoid \"both high and low\".\n"
   ]
  },
  {
   "cell_type": "markdown",
   "id": "09b5be28-31fa-41b4-8746-85fdd0f16481",
   "metadata": {
    "slideshow": {
     "slide_type": "subslide"
    }
   },
   "source": [
    "### Prediction Under the Null Hypothesis"
   ]
  },
  {
   "cell_type": "markdown",
   "id": "79a4548e-8d73-4b7d-b25d-5f781a988a1b",
   "metadata": {
    "slideshow": {
     "slide_type": "-"
    }
   },
   "source": [
    "* Simulate the test statistic under the null hypothesis; draw the histogram of the simulated values\n",
    "* This displays the **empirical distribution of the statistic under the null hypothesis**\n",
    "* It is a prediction about the statistic, made by the null hypothesis \n",
    "    * It shows all the likely values of the statistic\n",
    "    * Also how likely they are (**if the null hypothesis is true**)\n",
    "* The probabilities are approximate, because we can't generate all the possible random samples\n"
   ]
  },
  {
   "cell_type": "markdown",
   "id": "1772e743-6bd9-460a-a38c-b6dad3c64de2",
   "metadata": {
    "slideshow": {
     "slide_type": "subslide"
    }
   },
   "source": [
    "### Conclusion of the Test"
   ]
  },
  {
   "cell_type": "markdown",
   "id": "1295ac69-b265-4535-b877-91edb433fd77",
   "metadata": {
    "slideshow": {
     "slide_type": "-"
    }
   },
   "source": [
    "* Resolve choice between null and alternative hypotheses\n",
    "    * Compare the **observed test statistic** and its empirical distribution under the null hypothesis\n",
    "    * If the observed value is **not consistent** with the distribution, then the test favors the alternative (\"data is more consistent with the alternative\")\n",
    "* Whether a value is consistent with a distribution:\n",
    "    * A visualization may be sufficient\n",
    "    * If not, there are conventions about \"consistency\""
   ]
  },
  {
   "cell_type": "markdown",
   "id": "e0afc901-7ac0-43c5-bcd4-6b817562aac5",
   "metadata": {
    "slideshow": {
     "slide_type": "fragment"
    }
   },
   "source": [
    "---"
   ]
  },
  {
   "cell_type": "markdown",
   "id": "84489813-4186-4ebc-8821-fcbb8b5d4d09",
   "metadata": {
    "slideshow": {
     "slide_type": "notes"
    }
   },
   "source": [
    "<footer>\n",
    "    <p>Adopted from UC Berkeley DATA 8 course materials.</p>\n",
    "    <p>This content is offered under a <a href=\"https://creativecommons.org/licenses/by-nc-sa/4.0/\">CC Attribution Non-Commercial Share Alike</a> license.</p>\n",
    "</footer>"
   ]
  }
 ],
 "metadata": {
  "kernelspec": {
   "display_name": "Python 3 (ipykernel)",
   "language": "python",
   "name": "python3"
  },
  "language_info": {
   "codemirror_mode": {
    "name": "ipython",
    "version": 3
   },
   "file_extension": ".py",
   "mimetype": "text/x-python",
   "name": "python",
   "nbconvert_exporter": "python",
   "pygments_lexer": "ipython3",
   "version": "3.10.12"
  },
  "otter": {
   "OK_FORMAT": true,
   "tests": {}
  }
 },
 "nbformat": 4,
 "nbformat_minor": 5
}
