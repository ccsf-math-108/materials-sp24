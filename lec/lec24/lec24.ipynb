{
 "cells": [
  {
   "cell_type": "markdown",
   "id": "2b8a7000-c6cd-405c-9ca5-1b9e7e826aad",
   "metadata": {
    "editable": true,
    "slideshow": {
     "slide_type": ""
    },
    "tags": []
   },
   "source": [
    "<div style=\"width: 38.5%;\">\n",
    "    <p><strong>City College of San Francisco</strong><p>\n",
    "    <hr>\n",
    "    <p>MATH 108 - Foundations of Data Science</p>\n",
    "</div>"
   ]
  },
  {
   "cell_type": "markdown",
   "id": "11cebf3d-97d3-4fe7-92ec-b6d5f6880acd",
   "metadata": {
    "slideshow": {
     "slide_type": "-"
    }
   },
   "source": [
    "# Lecture 24: Confidence Intervals"
   ]
  },
  {
   "cell_type": "markdown",
   "id": "6df5d557-eddf-4cda-bbd3-e3f64a5ff645",
   "metadata": {
    "slideshow": {
     "slide_type": "-"
    }
   },
   "source": [
    "Associated Textbook Sections: [13.0, 13.1, 13.2](https://inferentialthinking.com/chapters/13/Estimation.html)"
   ]
  },
  {
   "cell_type": "markdown",
   "id": "d01e19ce-6f7f-4ef9-9008-61d9c3c1b811",
   "metadata": {},
   "source": [
    "---"
   ]
  },
  {
   "cell_type": "markdown",
   "id": "298c402c-831b-4b5d-8a90-e241b0b79afd",
   "metadata": {
    "slideshow": {
     "slide_type": "slide"
    }
   },
   "source": [
    "## Outline"
   ]
  },
  {
   "cell_type": "markdown",
   "id": "9231a98f-ee8e-4a51-893a-3d0141f35aa8",
   "metadata": {
    "slideshow": {
     "slide_type": "-"
    }
   },
   "source": [
    "* [Percentiles](#Percentiles)\n",
    "* [Estimation](#Estimation)\n",
    "* [The Bootstrap](#The-Bootstrap)\n",
    "* [Confidence Intervals](#Confidence-Intervals)"
   ]
  },
  {
   "cell_type": "markdown",
   "id": "50777a53-aa2d-4e26-8897-548ca7f9bcc0",
   "metadata": {},
   "source": [
    "---"
   ]
  },
  {
   "cell_type": "markdown",
   "id": "de318e1b-d6fb-462d-a6f8-e4671af0cfdd",
   "metadata": {
    "slideshow": {
     "slide_type": "slide"
    }
   },
   "source": [
    "## Set Up the Notebook"
   ]
  },
  {
   "cell_type": "code",
   "execution_count": null,
   "id": "fd31ba61-b6fc-42f1-aa0a-a61a6a2ccb2c",
   "metadata": {
    "slideshow": {
     "slide_type": "-"
    }
   },
   "outputs": [],
   "source": [
    "from datascience import *\n",
    "import numpy as np\n",
    "%matplotlib inline\n",
    "import matplotlib.pyplot as plt\n",
    "plt.style.use('fivethirtyeight')"
   ]
  },
  {
   "cell_type": "markdown",
   "id": "afa7771b-c84c-4afc-b67e-bdb4cc42b4c6",
   "metadata": {},
   "source": [
    "---"
   ]
  },
  {
   "cell_type": "markdown",
   "id": "5e9ba1b9-1056-40e2-9cf1-d64f00efbfa1",
   "metadata": {
    "slideshow": {
     "slide_type": "slide"
    }
   },
   "source": [
    "## Percentiles"
   ]
  },
  {
   "cell_type": "markdown",
   "id": "26eaaf51-3eee-47c6-bf3f-657c53d5f0d5",
   "metadata": {},
   "source": [
    "---"
   ]
  },
  {
   "cell_type": "markdown",
   "id": "0a3640f3-6ccd-4aff-b5ac-f03af0d21191",
   "metadata": {
    "slideshow": {
     "slide_type": "subslide"
    }
   },
   "source": [
    "### Computing Percentiles"
   ]
  },
  {
   "cell_type": "markdown",
   "id": "8b2712f7-8128-42bb-8cf2-683d06cdcaf2",
   "metadata": {
    "slideshow": {
     "slide_type": "-"
    }
   },
   "source": [
    "The $p$-th percentile is the first value on the sorted list that is at least as large as $p$% of the elements. "
   ]
  },
  {
   "cell_type": "markdown",
   "id": "4850a3f8-69b0-4e1b-91b3-4c639fea933c",
   "metadata": {
    "slideshow": {
     "slide_type": "fragment"
    }
   },
   "source": [
    "* The 80th percentile of `[1, 7, 3, 9, 5]` is the 4th ordered (`[1, 3, 5, 7, 9]`) element, 7:\n",
    "* The 4th element is used because $(80/100) \\cdot 5 = 4$\n",
    "* For a percentile that does not exactly correspond to an element, take the next greater element instead"
   ]
  },
  {
   "cell_type": "markdown",
   "id": "6dc260e7-972e-49db-a098-37f523d447c2",
   "metadata": {},
   "source": [
    "---"
   ]
  },
  {
   "cell_type": "markdown",
   "id": "4849bed6-18ad-4000-ad36-bd7ed0498b52",
   "metadata": {
    "slideshow": {
     "slide_type": "subslide"
    }
   },
   "source": [
    "### The percentile Function"
   ]
  },
  {
   "cell_type": "markdown",
   "id": "731c4a1c-9c97-4308-b03b-c8bc7e1507c5",
   "metadata": {
    "slideshow": {
     "slide_type": "-"
    },
    "tags": []
   },
   "source": [
    "* Function in the `datascience` module: `percentile(p, values)`\n",
    "    * `p` is between 0 and 100\n",
    "    * `values` is an array, list, etc.\n",
    "    * Returns the `p`-th percentile of the array\n",
    "* `percentile(80, s)` returns `7`"
   ]
  },
  {
   "cell_type": "markdown",
   "id": "3f964b64-c219-4a42-b2a2-0c9772edaed2",
   "metadata": {},
   "source": [
    "---"
   ]
  },
  {
   "cell_type": "markdown",
   "id": "ffb46c87-ea74-4c5e-b1bf-692f3d058e9d",
   "metadata": {
    "slideshow": {
     "slide_type": "subslide"
    }
   },
   "source": [
    "### Demo: Percentiles"
   ]
  },
  {
   "attachments": {},
   "cell_type": "markdown",
   "id": "466032a8-512b-4b27-bba5-13e91bfbe305",
   "metadata": {
    "deletable": false,
    "editable": false,
    "slideshow": {
     "slide_type": "notes"
    }
   },
   "source": [
    "Compute the 55th percentile of the following array."
   ]
  },
  {
   "cell_type": "code",
   "execution_count": null,
   "id": "b724b790-3c29-4e7a-aab9-9b9a0bc8e7ec",
   "metadata": {
    "slideshow": {
     "slide_type": "-"
    },
    "tags": []
   },
   "outputs": [],
   "source": [
    "x = make_array(43, 20, 51, 7, 28, 34)"
   ]
  },
  {
   "cell_type": "code",
   "execution_count": null,
   "id": "ab0861a4-2f16-4d65-8800-8fa4386ab0b9",
   "metadata": {
    "slideshow": {
     "slide_type": "fragment"
    },
    "tags": []
   },
   "outputs": [],
   "source": [
    "..."
   ]
  },
  {
   "cell_type": "markdown",
   "id": "a8fa6a13-6eef-427b-913f-11d4365edd1f",
   "metadata": {},
   "source": [
    "---"
   ]
  },
  {
   "cell_type": "markdown",
   "id": "14c91f95-37a0-42ed-88d6-d938617d0735",
   "metadata": {
    "deletable": false,
    "editable": false
   },
   "source": [
    "Show the idea behind the `percentile` function:\n",
    "* Sort the array\n",
    "* Calculate the value of the index corresponding to the percentile. Round up the value."
   ]
  },
  {
   "cell_type": "code",
   "execution_count": null,
   "id": "35c5e91c-cc6a-4232-8113-d63cb149e0c9",
   "metadata": {
    "slideshow": {
     "slide_type": "fragment"
    },
    "tags": []
   },
   "outputs": [],
   "source": [
    "np.sort(x)"
   ]
  },
  {
   "cell_type": "code",
   "execution_count": null,
   "id": "5fb7e72b-aef8-4044-91ed-16a67c7782b8",
   "metadata": {
    "tags": []
   },
   "outputs": [],
   "source": [
    "# item corresponding to the 55th percentile\n",
    "np.ceil(55 / 100 * len(x))"
   ]
  },
  {
   "cell_type": "code",
   "execution_count": null,
   "id": "9c2e0d8c-2f9a-49fb-8ca7-dc324cd74f45",
   "metadata": {
    "slideshow": {
     "slide_type": "fragment"
    },
    "tags": []
   },
   "outputs": [],
   "source": [
    "# index of the item\n",
    "index = int(np.ceil(55 / 100 * len(x))) + 1\n",
    "index"
   ]
  },
  {
   "cell_type": "code",
   "execution_count": null,
   "id": "8bf3b8b4-e857-4e20-9d1d-daefc0f00941",
   "metadata": {
    "tags": []
   },
   "outputs": [],
   "source": [
    "x.item(index)"
   ]
  },
  {
   "cell_type": "markdown",
   "id": "7277a5bb-ce9f-40e8-93ba-53b506b4cdc7",
   "metadata": {},
   "source": [
    "---"
   ]
  },
  {
   "cell_type": "markdown",
   "id": "23a885e4-8d7a-4d51-a5cb-51b440055d05",
   "metadata": {
    "slideshow": {
     "slide_type": "slide"
    }
   },
   "source": [
    "## Estimation"
   ]
  },
  {
   "cell_type": "markdown",
   "id": "ba95c2c6-e406-4106-bddb-5c866b7def20",
   "metadata": {},
   "source": [
    "---"
   ]
  },
  {
   "cell_type": "markdown",
   "id": "9cd83eb1-ce82-4b61-beba-c528423c7d91",
   "metadata": {
    "slideshow": {
     "slide_type": "subslide"
    }
   },
   "source": [
    "### Inference: Estimation"
   ]
  },
  {
   "cell_type": "markdown",
   "id": "1a6a8a00-6f3a-434f-b4fc-75dba8b471f2",
   "metadata": {
    "slideshow": {
     "slide_type": "-"
    }
   },
   "source": [
    "How do we calculate the value of an unknown parameter?\n",
    "* If you have a census (that is, the whole population): Just calculate the parameter and you're done\n",
    "* If you don't have a census:\n",
    "    * Take a random sample from the population\n",
    "    * Use a statistic as an estimate of the parameter"
   ]
  },
  {
   "cell_type": "markdown",
   "id": "36867277-3ae1-4b5c-a84a-083e255c7af7",
   "metadata": {},
   "source": [
    "---"
   ]
  },
  {
   "cell_type": "markdown",
   "id": "e91111f1-8509-4a30-8da4-f5844cde86e1",
   "metadata": {
    "slideshow": {
     "slide_type": "subslide"
    }
   },
   "source": [
    "### Demo: Sample Median Estimation"
   ]
  },
  {
   "attachments": {},
   "cell_type": "markdown",
   "id": "7b71c74f-ef50-4871-aae3-1161bd59be6f",
   "metadata": {
    "deletable": false,
    "editable": false,
    "slideshow": {
     "slide_type": "notes"
    }
   },
   "source": [
    "* Load the [2023 Employee Compensation data from data.sfgov.org](https://data.sfgov.org/City-Management-and-Ethics/Employee-Compensation/88g8-5mnd).\n",
    "* Reduce the table to the `job`, `total_salary`, and `total_compensation` columns.\n",
    "* Visually explore the distribution of compensations.\n",
    "* Filter out the bottom 5% and top 5% of compensations.\n",
    "* Calculate the median total compensation of this population.\n",
    "* Randomly sample 400 employees from the population and calculate the sample median total compensation.\n",
    "* Visually compare the distribution of total compensation values for the population and random sample."
   ]
  },
  {
   "cell_type": "code",
   "execution_count": null,
   "id": "9450ba22-962c-44d9-ba75-225c588008ae",
   "metadata": {
    "tags": []
   },
   "outputs": [],
   "source": [
    "sf = Table.read_table('https://data.sfgov.org/resource/88g8-5mnd.csv?year=2023')\n",
    "sf.show(3)"
   ]
  },
  {
   "cell_type": "code",
   "execution_count": null,
   "id": "bbbc7efe-26b6-44d0-b508-586cf8bf9d10",
   "metadata": {
    "slideshow": {
     "slide_type": "subslide"
    },
    "tags": []
   },
   "outputs": [],
   "source": [
    "sf = sf.select('job', 'total_salary', 'total_compensation')\n",
    "sf.show(3)"
   ]
  },
  {
   "cell_type": "code",
   "execution_count": null,
   "id": "dac73f6d-01a9-416b-8b4b-e845d5db8f2b",
   "metadata": {
    "slideshow": {
     "slide_type": "subslide"
    },
    "tags": []
   },
   "outputs": [],
   "source": [
    "sf.sort('total_compensation', descending=True).show(5)"
   ]
  },
  {
   "cell_type": "code",
   "execution_count": null,
   "id": "dc766b69-463c-4d88-963b-c80b69c5415a",
   "metadata": {
    "slideshow": {
     "slide_type": "subslide"
    },
    "tags": []
   },
   "outputs": [],
   "source": [
    "..."
   ]
  },
  {
   "cell_type": "code",
   "execution_count": null,
   "id": "9a2a34c5-d3bf-4a0f-b0e0-de7178f79d42",
   "metadata": {
    "slideshow": {
     "slide_type": "subslide"
    },
    "tags": []
   },
   "outputs": [],
   "source": [
    "bottom_5 = ...\n",
    "top_5 = ...\n",
    "sf = ...\n",
    "..."
   ]
  },
  {
   "cell_type": "code",
   "execution_count": null,
   "id": "6d26d836-7901-4f96-8b27-688d2b9bd06f",
   "metadata": {
    "slideshow": {
     "slide_type": "subslide"
    },
    "tags": []
   },
   "outputs": [],
   "source": [
    "pop_median = ...\n",
    "pop_median"
   ]
  },
  {
   "cell_type": "code",
   "execution_count": null,
   "id": "5dca4f0a-2653-4667-a9a4-2201cc0d3f31",
   "metadata": {
    "slideshow": {
     "slide_type": "subslide"
    },
    "tags": []
   },
   "outputs": [],
   "source": [
    "our_sample = ...\n",
    "our_sample.show(5)"
   ]
  },
  {
   "cell_type": "code",
   "execution_count": null,
   "id": "3b2c93f0-2f06-46eb-badc-2c2bd2d503cc",
   "metadata": {
    "slideshow": {
     "slide_type": "fragment"
    },
    "tags": []
   },
   "outputs": [],
   "source": [
    "..."
   ]
  },
  {
   "cell_type": "code",
   "execution_count": null,
   "id": "f260b762-ea1d-4991-9965-f5e2f9aeb357",
   "metadata": {
    "slideshow": {
     "slide_type": "subslide"
    },
    "tags": []
   },
   "outputs": [],
   "source": [
    "sf.hist('total_compensation', bins=10)\n",
    "plt.title('Population Distribution')\n",
    "plt.show()"
   ]
  },
  {
   "cell_type": "code",
   "execution_count": null,
   "id": "63d8bc71-e55c-4f30-a426-4d329d39436e",
   "metadata": {
    "slideshow": {
     "slide_type": "subslide"
    },
    "tags": []
   },
   "outputs": [],
   "source": [
    "our_sample.hist('total_compensation', bins=10)\n",
    "plt.title('Sample Distribution')\n",
    "plt.show()"
   ]
  },
  {
   "cell_type": "markdown",
   "id": "784f0c29-550d-4c73-a8be-1015e4e4d635",
   "metadata": {},
   "source": [
    "---"
   ]
  },
  {
   "cell_type": "markdown",
   "id": "d25af9f2-27d7-4e84-8b40-090e8905e1ac",
   "metadata": {
    "slideshow": {
     "slide_type": "subslide"
    }
   },
   "source": [
    "### Variability of the Estimate"
   ]
  },
  {
   "cell_type": "markdown",
   "id": "d62556bd-5d63-4e24-bff1-236f7acbcf93",
   "metadata": {
    "slideshow": {
     "slide_type": "-"
    }
   },
   "source": [
    "* One sample $\\implies$ One estimate\n",
    "* But the random sample could have come out differently\n",
    "* And so the estimate could have been different\n",
    "* **Big question**: How different would it be if we did it again?\n"
   ]
  },
  {
   "cell_type": "markdown",
   "id": "274bdb4f-b774-4599-8821-93b51d4c4605",
   "metadata": {},
   "source": [
    "---"
   ]
  },
  {
   "cell_type": "markdown",
   "id": "394ff814-a3c1-4e65-ae92-e121f349142d",
   "metadata": {
    "slideshow": {
     "slide_type": "subslide"
    }
   },
   "source": [
    "### Demo: Variability of the Estimate"
   ]
  },
  {
   "cell_type": "markdown",
   "id": "8aa61688-19b0-4a4e-80db-cf13dfae2574",
   "metadata": {
    "deletable": false,
    "editable": false,
    "slideshow": {
     "slide_type": "notes"
    }
   },
   "source": [
    "Create a function that samples randomly from the `sf` table and returns the sample median for `total_compensation`."
   ]
  },
  {
   "cell_type": "code",
   "execution_count": null,
   "id": "a3e7c378-c16c-4f2b-9ef3-47ca364c1296",
   "metadata": {
    "slideshow": {
     "slide_type": "-"
    },
    "tags": []
   },
   "outputs": [],
   "source": [
    "def generate_sample_median(samp_size):\n",
    "    our_sample = ...\n",
    "    ..."
   ]
  },
  {
   "cell_type": "code",
   "execution_count": null,
   "id": "12e6a23a-df88-4d79-9b08-cc14e1541e39",
   "metadata": {
    "slideshow": {
     "slide_type": "fragment"
    },
    "tags": []
   },
   "outputs": [],
   "source": [
    "sample_median = generate_sample_median(400)\n",
    "sample_median"
   ]
  },
  {
   "cell_type": "markdown",
   "id": "bf668171-d2c2-405f-bf08-a5823e4216b9",
   "metadata": {},
   "source": [
    "---"
   ]
  },
  {
   "cell_type": "markdown",
   "id": "448484f1-6fe0-4c74-a7fe-6095e164a244",
   "metadata": {
    "slideshow": {
     "slide_type": "subslide"
    }
   },
   "source": [
    "### Quantifying Uncertainty"
   ]
  },
  {
   "cell_type": "markdown",
   "id": "2867614d-4aa2-4d4f-bec1-02db9a8de3ce",
   "metadata": {
    "slideshow": {
     "slide_type": "-"
    }
   },
   "source": [
    "* The estimate is usually not exactly right: `Estimate = Parameter + Error`\n",
    "* How accurate is the estimate, usually?\n",
    "* When we have a census, we can do this by simulation\n"
   ]
  },
  {
   "cell_type": "markdown",
   "id": "d29327ae-5f50-4c83-81dc-8bd356c83ef0",
   "metadata": {},
   "source": [
    "---"
   ]
  },
  {
   "cell_type": "markdown",
   "id": "e745d86c-54a0-46c2-864b-f5975174a687",
   "metadata": {
    "slideshow": {
     "slide_type": "subslide"
    }
   },
   "source": [
    "### Demo: Quantifying Uncertainty"
   ]
  },
  {
   "attachments": {},
   "cell_type": "markdown",
   "id": "16f90e36-3f3a-4bc0-a74f-6ab47a03e4c5",
   "metadata": {
    "deletable": false,
    "editable": false,
    "slideshow": {
     "slide_type": "notes"
    }
   },
   "source": [
    "* Compute the error if the sample median is used to estimate the population median for total compensation. Re-run the above function to see how the error varies.\n",
    "* Generate 1000 random samples of size 400 and calculate the total compensation median for each sample. Store the median values in an array and visualize the sample distribution along with the population median.\n",
    "* Visualize the distribution of errors found from using the sample medians to estimate the population median."
   ]
  },
  {
   "cell_type": "code",
   "execution_count": null,
   "id": "964ca99c-1b68-42c9-b7dd-116de63dd11e",
   "metadata": {
    "slideshow": {
     "slide_type": "subslide"
    },
    "tags": []
   },
   "outputs": [],
   "source": [
    "error = ...\n",
    "error"
   ]
  },
  {
   "cell_type": "code",
   "execution_count": null,
   "id": "5f291d5f-7102-4556-bff1-c39980615800",
   "metadata": {
    "slideshow": {
     "slide_type": "subslide"
    },
    "tags": []
   },
   "outputs": [],
   "source": [
    "sample_medians = make_array()\n",
    "\n",
    "for i in np.arange(1000):\n",
    "    new_median = generate_sample_median(400)\n",
    "    sample_medians = np.append(sample_medians, new_median)"
   ]
  },
  {
   "cell_type": "code",
   "execution_count": null,
   "id": "6206183f-25ac-44b0-8491-bc5209cf9c5d",
   "metadata": {
    "slideshow": {
     "slide_type": "subslide"
    },
    "tags": []
   },
   "outputs": [],
   "source": [
    "Table().with_column(\n",
    "    'Sample Medians', sample_medians\n",
    ").hist(bins = 20)\n",
    "\n",
    "plt.ylim(-0.000005, 0.00014)\n",
    "plt.scatter(pop_median, 0, color=\"red\", s=60)\n",
    "plt.show()"
   ]
  },
  {
   "cell_type": "code",
   "execution_count": null,
   "id": "069f1371-fa6e-458a-9fe2-2bf8d0031878",
   "metadata": {
    "slideshow": {
     "slide_type": "subslide"
    },
    "tags": []
   },
   "outputs": [],
   "source": [
    "Table().with_column(\n",
    "    ...\n",
    ").hist(bins=20)\n",
    "\n",
    "plt.ylim(-0.000005, 0.0002)\n",
    "plt.scatter(0, 0, color=\"red\", s=60)\n",
    "plt.show()"
   ]
  },
  {
   "cell_type": "markdown",
   "id": "5f7a228e-92e4-42bf-8dce-e5bbb403bcda",
   "metadata": {},
   "source": [
    "---"
   ]
  },
  {
   "cell_type": "markdown",
   "id": "ff049c30-4c22-4e58-a36c-e81039b42c9c",
   "metadata": {
    "slideshow": {
     "slide_type": "subslide"
    }
   },
   "source": [
    "### Where to Get Another Sample?"
   ]
  },
  {
   "cell_type": "markdown",
   "id": "adbe0640-17b5-41e0-8bab-b2f5735deae1",
   "metadata": {
    "slideshow": {
     "slide_type": "-"
    }
   },
   "source": [
    "* We want to understand the variability of our estimate\n",
    "* Given the population, we could simulate... but we only have the sample!\n",
    "* To get many values of the estimate, we needed many random samples\n",
    "* We can't go back and sample again from the population:\n",
    "    * No time, no money\n",
    "* Stuck?\n"
   ]
  },
  {
   "cell_type": "markdown",
   "id": "a8eb753c-b787-4671-b6ef-03ca3288d9a2",
   "metadata": {},
   "source": [
    "---"
   ]
  },
  {
   "cell_type": "markdown",
   "id": "bb6ed3ce-0e17-4c8e-8b9c-d4b2b2f2488f",
   "metadata": {
    "slideshow": {
     "slide_type": "slide"
    }
   },
   "source": [
    "## The Bootstrap"
   ]
  },
  {
   "cell_type": "markdown",
   "id": "10391dc3-9021-4351-8f2a-6d900c3ddccb",
   "metadata": {},
   "source": [
    "---"
   ]
  },
  {
   "cell_type": "markdown",
   "id": "69ab6266-a9d0-4e29-bccc-11b322256a1b",
   "metadata": {
    "slideshow": {
     "slide_type": "subslide"
    }
   },
   "source": [
    "### The Bootstrap"
   ]
  },
  {
   "cell_type": "markdown",
   "id": "0ba85ce4-afb0-42bd-8192-c8b48a243a1c",
   "metadata": {
    "slideshow": {
     "slide_type": "-"
    }
   },
   "source": [
    "* A technique for simulating repeated random sampling\n",
    "* All that we have is the original sample... which is large and random\n",
    "* Therefore, it probably resembles the population\n",
    "* So we sample at random from the original sample!"
   ]
  },
  {
   "cell_type": "markdown",
   "id": "043739f3-e75b-4bec-8993-5f43d646a4a5",
   "metadata": {},
   "source": [
    "---"
   ]
  },
  {
   "cell_type": "markdown",
   "id": "f048e80e-5d9d-4977-b802-39adcf68dc5b",
   "metadata": {
    "slideshow": {
     "slide_type": "subslide"
    }
   },
   "source": [
    "### The Problem"
   ]
  },
  {
   "cell_type": "markdown",
   "id": "05e52931-ff78-4bac-baec-85c3e8cfd610",
   "metadata": {
    "slideshow": {
     "slide_type": "-"
    }
   },
   "source": [
    "* All we have is the random sample\n",
    "* We know it could have come out differently\n",
    "* We need to know how different, to quantify the variability in estimates based on the sample\n",
    "* So we need to create another sample ... or two ... or more\n",
    "\n",
    "\n",
    "<img src=\"./the_problem.png\" width=55%>"
   ]
  },
  {
   "cell_type": "markdown",
   "id": "b490f965-e070-428a-8fc9-9316cf140a47",
   "metadata": {},
   "source": [
    "---"
   ]
  },
  {
   "cell_type": "markdown",
   "id": "8a7cf809-d7a7-4f53-9755-ae2e8aef82eb",
   "metadata": {
    "slideshow": {
     "slide_type": "subslide"
    }
   },
   "source": [
    "### Why the Bootstrap Works"
   ]
  },
  {
   "cell_type": "markdown",
   "id": "b075b867-bcaf-465b-9420-68c0d8122904",
   "metadata": {
    "slideshow": {
     "slide_type": "-"
    }
   },
   "source": [
    "All of the resamples look pretty **similar**, most likely.\n",
    "\n",
    "<img src=\"./why_the_bootstrap_works.png\" width=90%>"
   ]
  },
  {
   "cell_type": "markdown",
   "id": "7a640456-f642-414f-945e-dc25923f15a6",
   "metadata": {},
   "source": [
    "---"
   ]
  },
  {
   "cell_type": "markdown",
   "id": "3b0df76b-d2e0-4227-aa1f-b3f1e3a04ff8",
   "metadata": {
    "slideshow": {
     "slide_type": "subslide"
    }
   },
   "source": [
    "### Why We Need the Bootstrap"
   ]
  },
  {
   "cell_type": "markdown",
   "id": "555ae79d-7b17-4af7-98c5-b76aed2a1f74",
   "metadata": {
    "slideshow": {
     "slide_type": "-"
    }
   },
   "source": [
    "<img src=\"./why_we_need_the_bootstrap.png\" width=90%>"
   ]
  },
  {
   "cell_type": "markdown",
   "id": "a7832dd2-8389-442a-9468-3bdd97511268",
   "metadata": {},
   "source": [
    "---"
   ]
  },
  {
   "cell_type": "markdown",
   "id": "cf946db8-4fe7-4a46-aa22-478d0a5c59ef",
   "metadata": {
    "slideshow": {
     "slide_type": "subslide"
    }
   },
   "source": [
    "### The Bootstrap Principle"
   ]
  },
  {
   "cell_type": "markdown",
   "id": "403d3876-d3c7-4570-ad6c-86ba115ec82e",
   "metadata": {
    "slideshow": {
     "slide_type": "-"
    }
   },
   "source": [
    "Resampling from the original random sample $\\approx$ Sampling from the population ... with high probability\n",
    "* Useful method for estimating many parameters if the original random sample is large enough\n",
    "* But doesn't work well for estimating some parameters\n",
    "\n",
    "\n"
   ]
  },
  {
   "cell_type": "markdown",
   "id": "fad35cdf-12d3-4554-913b-d2cfcd717608",
   "metadata": {},
   "source": [
    "---"
   ]
  },
  {
   "cell_type": "markdown",
   "id": "0cc4fedd-e0a3-41d4-8a19-7bde5e28f395",
   "metadata": {
    "slideshow": {
     "slide_type": "subslide"
    }
   },
   "source": [
    "### Key to Resampling"
   ]
  },
  {
   "cell_type": "markdown",
   "id": "0fa12523-f952-4210-b871-4902a54ff7f6",
   "metadata": {
    "slideshow": {
     "slide_type": "-"
    }
   },
   "source": [
    "* From the original sample,\n",
    "    * draw at random\n",
    "    * with replacement\n",
    "    * as many values as the original sample contained\n",
    "* The size of the new sample has to be the same as the original one, so that the two estimates are comparable\n"
   ]
  },
  {
   "cell_type": "markdown",
   "id": "b4f3ff17-4399-4162-b1f1-8201c957318e",
   "metadata": {},
   "source": [
    "---"
   ]
  },
  {
   "cell_type": "markdown",
   "id": "6de8af20-c9af-41f2-88ba-02821ef7b62c",
   "metadata": {
    "slideshow": {
     "slide_type": "subslide"
    }
   },
   "source": [
    "### The Bootstrap Process"
   ]
  },
  {
   "cell_type": "markdown",
   "id": "14a6c046-1697-4adb-93c6-66160824f62e",
   "metadata": {},
   "source": [
    "---"
   ]
  },
  {
   "cell_type": "markdown",
   "id": "46a1cf53-9fb7-47fd-b163-a0660d088887",
   "metadata": {
    "slideshow": {
     "slide_type": "fragment"
    }
   },
   "source": [
    "#### One Random Sample"
   ]
  },
  {
   "cell_type": "markdown",
   "id": "694757a9-5ee3-4f5e-b4aa-40da4712c25d",
   "metadata": {},
   "source": [
    "True but unknown distribution (population) → Random sample (the original sample)\n",
    "\n"
   ]
  },
  {
   "cell_type": "markdown",
   "id": "9a0a869f-71ba-4ea7-80a7-9b93e685a608",
   "metadata": {},
   "source": [
    "---"
   ]
  },
  {
   "cell_type": "markdown",
   "id": "5054984f-3924-4d42-b896-d92bb7241a0c",
   "metadata": {
    "slideshow": {
     "slide_type": "fragment"
    }
   },
   "source": [
    "#### Bootstrap"
   ]
  },
  {
   "cell_type": "markdown",
   "id": "a303a2cf-2deb-429f-acbd-2ce72109db8a",
   "metadata": {},
   "source": [
    "Empirical distribution of original sample (“population”) → Bootstrap sample 1\n",
    "* → Estimate 1\n",
    "* → Bootstrap sample 2\n",
    "* → Estimate 2\n",
    "* ...\n",
    "* → Bootstrap sample 1000\n",
    "* → Estimate 1000"
   ]
  },
  {
   "cell_type": "markdown",
   "id": "7e717614-ca0b-4de0-83dc-4687c52808ba",
   "metadata": {},
   "source": [
    "---"
   ]
  },
  {
   "cell_type": "markdown",
   "id": "d640f6ac-4fd1-4144-ba9c-e50b7d2cc227",
   "metadata": {
    "slideshow": {
     "slide_type": "subslide"
    }
   },
   "source": [
    "### Demo: Bootstrap"
   ]
  },
  {
   "attachments": {},
   "cell_type": "markdown",
   "id": "a6e27ee2-630b-4e82-950e-f604bd24ff7f",
   "metadata": {
    "deletable": false,
    "editable": false,
    "slideshow": {
     "slide_type": "notes"
    }
   },
   "source": [
    "* Take a bootstrap (re)sample (**WITH replacement**) of size 400 from the last sf sample.\n",
    "* Explore the distribution of 1000 bootstrap resamples from the one sample in relation to the sample median and population median."
   ]
  },
  {
   "cell_type": "code",
   "execution_count": null,
   "id": "17ba7fb0-cfec-49dc-867a-1b3fa132c4a9",
   "metadata": {
    "slideshow": {
     "slide_type": "-"
    },
    "tags": []
   },
   "outputs": [],
   "source": [
    "boot_sample = ...\n",
    "boot_sample.hist('total_compensation', bins=20)\n",
    "plt.title('Bootstrap sample')\n",
    "plt.show()\n",
    " \n",
    "print(\"Population Median =       \", pop_median)\n",
    "print(\"Our Sample Median =       \", sample_median)\n",
    "print(\"Bootstrap Sample Median = \", \n",
    "      np.median(boot_sample.column('total_compensation')))"
   ]
  },
  {
   "cell_type": "code",
   "execution_count": null,
   "id": "1f97b585-af3d-4661-9e23-9dd56b59ac48",
   "metadata": {
    "slideshow": {
     "slide_type": "subslide"
    },
    "tags": []
   },
   "outputs": [],
   "source": [
    "def one_bootstrap_median():\n",
    "    single_sample = ...\n",
    "    ..."
   ]
  },
  {
   "cell_type": "code",
   "execution_count": null,
   "id": "818cc23e-3718-4327-8c00-84a626a12ef4",
   "metadata": {
    "tags": []
   },
   "outputs": [],
   "source": [
    "one_bootstrap_median()"
   ]
  },
  {
   "cell_type": "code",
   "execution_count": null,
   "id": "7e7d5450-4629-44a1-9014-f6f7b3a3cea4",
   "metadata": {
    "slideshow": {
     "slide_type": "subslide"
    },
    "tags": []
   },
   "outputs": [],
   "source": [
    "bootstrap_medians = make_array()\n",
    "for i in np.arange(1000):\n",
    "    new_median = one_bootstrap_median()\n",
    "    bootstrap_medians = np.append(bootstrap_medians, new_median)"
   ]
  },
  {
   "cell_type": "code",
   "execution_count": null,
   "id": "f445e639-1c91-4b28-a6c0-c1b748e1ca15",
   "metadata": {
    "slideshow": {
     "slide_type": "subslide"
    },
    "tags": []
   },
   "outputs": [],
   "source": [
    "resampled_medians = Table().with_column(\n",
    "    'Bootstrap Medians', bootstrap_medians)\n",
    "median_bins=np.arange(120000, 160000, 2000)\n",
    "resampled_medians.hist('Bootstrap Medians', bins=median_bins)\n",
    "\n",
    "# Plotting parameters; you can ignore this code\n",
    "parameter_green = '#32CD32'\n",
    "plt.ylim(-0.000005, 0.000175)\n",
    "plt.scatter(pop_median, 0, color=parameter_green, s=60)\n",
    "plt.title('Bootstrap Medians and the Parameter (Green Dot)');\n",
    "plt.show()"
   ]
  },
  {
   "cell_type": "markdown",
   "id": "f8c4c28a-705e-472e-9a70-7d410fcbd09e",
   "metadata": {},
   "source": [
    "---"
   ]
  },
  {
   "cell_type": "markdown",
   "id": "1492ee9c-7372-457a-bb93-5f0af4867632",
   "metadata": {
    "slideshow": {
     "slide_type": "slide"
    }
   },
   "source": [
    "## Confidence Intervals"
   ]
  },
  {
   "cell_type": "markdown",
   "id": "4c17e81b-2520-40cd-89e2-749050e8ecf6",
   "metadata": {},
   "source": [
    "---"
   ]
  },
  {
   "cell_type": "markdown",
   "id": "31c89bcc-4001-4fcc-a9f9-6cc7b60c269f",
   "metadata": {
    "slideshow": {
     "slide_type": "subslide"
    }
   },
   "source": [
    "### 95% Confidence Interval"
   ]
  },
  {
   "cell_type": "markdown",
   "id": "7b300bb6-3135-49b1-a9be-69c544879314",
   "metadata": {
    "slideshow": {
     "slide_type": "-"
    }
   },
   "source": [
    "* Interval of estimates of a parameter\n",
    "* Based on random sampling\n",
    "* 95% is called the confidence level\n",
    "    * Could be any percent between 0 and 100\n",
    "    * Higher level means wider intervals\n",
    "* The confidence is in the process that gives the interval: It generates a \"good\" interval about 95% of the time."
   ]
  },
  {
   "cell_type": "markdown",
   "id": "cf50eac5-16be-4393-933b-1cf79a04c7fd",
   "metadata": {},
   "source": [
    "---"
   ]
  },
  {
   "cell_type": "markdown",
   "id": "29fd8995-0369-4fe2-90e2-4966ef1b6fb8",
   "metadata": {
    "slideshow": {
     "slide_type": "subslide"
    }
   },
   "source": [
    "### Demo: Confidence Intervals"
   ]
  },
  {
   "cell_type": "markdown",
   "id": "83035b3d-7e5a-41cf-be7b-b93798572bbc",
   "metadata": {
    "deletable": false,
    "editable": false,
    "slideshow": {
     "slide_type": "notes"
    }
   },
   "source": [
    "Make an interval based on the middle 95% of bootstrap samples."
   ]
  },
  {
   "cell_type": "code",
   "execution_count": null,
   "id": "c79d6f08-7f96-4e93-b2a8-06375a4c5aaa",
   "metadata": {
    "slideshow": {
     "slide_type": "-"
    },
    "tags": []
   },
   "outputs": [],
   "source": [
    "left = ...\n",
    "right = ...\n",
    "\n",
    "resampled_medians.hist('Bootstrap Medians', bins=median_bins)\n",
    "\n",
    "plt.ylim(-0.000005, 0.00015)\n",
    "plt.plot([left, right], [0,0], color=\"yellow\",lw=3, zorder=1)\n",
    "plt.scatter(pop_median, 0, color=parameter_green, s=60, zorder=2)\n",
    "plt.title('A 95% CI (Yellow) and the Parameter (Green)')\n",
    "plt.show()"
   ]
  },
  {
   "cell_type": "markdown",
   "id": "b2955423-b313-4c0d-a9e4-fabba85e0ef1",
   "metadata": {
    "slideshow": {
     "slide_type": "fragment"
    }
   },
   "source": [
    "---"
   ]
  },
  {
   "cell_type": "markdown",
   "id": "d752907f-e4d7-4710-8202-c0dbf549deac",
   "metadata": {
    "slideshow": {
     "slide_type": "notes"
    }
   },
   "source": [
    "<footer>\n",
    "    <p>Adopted from UC Berkeley DATA 8 course materials.</p>\n",
    "    <p>This content is offered under a <a href=\"https://creativecommons.org/licenses/by-nc-sa/4.0/\">CC Attribution Non-Commercial Share Alike</a> license.</p>\n",
    "</footer>"
   ]
  }
 ],
 "metadata": {
  "kernelspec": {
   "display_name": "Python 3 (ipykernel)",
   "language": "python",
   "name": "python3"
  },
  "language_info": {
   "codemirror_mode": {
    "name": "ipython",
    "version": 3
   },
   "file_extension": ".py",
   "mimetype": "text/x-python",
   "name": "python",
   "nbconvert_exporter": "python",
   "pygments_lexer": "ipython3",
   "version": "3.10.12"
  },
  "otter": {
   "OK_FORMAT": true,
   "tests": {}
  }
 },
 "nbformat": 4,
 "nbformat_minor": 5
}
