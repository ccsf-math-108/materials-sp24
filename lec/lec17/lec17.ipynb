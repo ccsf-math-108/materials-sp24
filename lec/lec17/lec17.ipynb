{
 "cells": [
  {
   "cell_type": "markdown",
   "id": "f13141aa-d780-43b0-91cd-8cce0ce534d0",
   "metadata": {
    "slideshow": {
     "slide_type": "slide"
    }
   },
   "source": [
    "<div style=\"width: 38.5%;\">\n",
    "    <p><strong>City College of San Francisco</strong><p>\n",
    "    <hr>\n",
    "    <p>MATH 108 - Foundations of Data Science</p>\n",
    "</div>"
   ]
  },
  {
   "cell_type": "markdown",
   "id": "ce0c1e27-97aa-488b-8296-4ef4546b52a6",
   "metadata": {
    "slideshow": {
     "slide_type": "-"
    }
   },
   "source": [
    "# Lecture 17: Models"
   ]
  },
  {
   "cell_type": "markdown",
   "id": "ef0c831e-9059-499e-a9d4-fc9b9b2ac2b2",
   "metadata": {
    "slideshow": {
     "slide_type": "-"
    }
   },
   "source": [
    "Associated Textbook Sections: [10.4, 11.0, 11.1](https://inferentialthinking.com/chapters/10/4/Random_Sampling_in_Python.html)"
   ]
  },
  {
   "cell_type": "markdown",
   "id": "ef735788-bed8-421c-a1c4-e9f72aa3a8c1",
   "metadata": {
    "slideshow": {
     "slide_type": "slide"
    }
   },
   "source": [
    "<div style=\"width: 38.5%;\">\n",
    "    <p><strong>City College of San Francisco</strong><p>\n",
    "    <hr>\n",
    "    <p>MATH 108 - Foundations of Data Science</p>\n",
    "</div>"
   ]
  },
  {
   "cell_type": "markdown",
   "id": "209c3081-9f4c-461c-b4c6-6f69c648e484",
   "metadata": {
    "slideshow": {
     "slide_type": "slide"
    }
   },
   "source": [
    "## Outline"
   ]
  },
  {
   "cell_type": "markdown",
   "id": "52b48b9b-b761-43cf-8bfa-d65a791044ca",
   "metadata": {
    "slideshow": {
     "slide_type": "-"
    }
   },
   "source": [
    "* [Assessing Models](#Assessing-Models)\n",
    "* [Jury-Selection](#Jury-Selection)\n",
    "* [A Genetic Model](#A-Genetic-Model)\n",
    "* [Two Viewpoints](#Two-Viewpoints)"
   ]
  },
  {
   "cell_type": "markdown",
   "id": "ee473e33-5c98-4283-b002-211d4138eb47",
   "metadata": {
    "slideshow": {
     "slide_type": "slide"
    }
   },
   "source": [
    "## Set Up the Notebook"
   ]
  },
  {
   "cell_type": "code",
   "execution_count": null,
   "id": "765e7556-f484-4737-a8b5-85a1719088d0",
   "metadata": {
    "slideshow": {
     "slide_type": "-"
    }
   },
   "outputs": [],
   "source": [
    "from datascience import *\n",
    "import numpy as np\n",
    "%matplotlib inline\n",
    "import matplotlib.pyplot as plt\n",
    "plt.style.use('fivethirtyeight')"
   ]
  },
  {
   "cell_type": "markdown",
   "id": "d31410b6-d63c-414e-9cbd-eee301875762",
   "metadata": {
    "slideshow": {
     "slide_type": "fragment"
    }
   },
   "source": [
    "---"
   ]
  },
  {
   "cell_type": "markdown",
   "id": "210e78df-b428-41a9-be01-8cd640b6324a",
   "metadata": {
    "slideshow": {
     "slide_type": "slide"
    }
   },
   "source": [
    "## Assessing Models"
   ]
  },
  {
   "cell_type": "markdown",
   "id": "d279fa0b-1a2f-49f0-b68b-6d8c69fae62c",
   "metadata": {
    "slideshow": {
     "slide_type": "slide"
    }
   },
   "source": [
    "### Models"
   ]
  },
  {
   "cell_type": "markdown",
   "id": "92c72b7b-f49a-40e6-9728-7b1d0e9f9326",
   "metadata": {
    "slideshow": {
     "slide_type": "-"
    }
   },
   "source": [
    "* A model is a set of assumptions about the data\n",
    "* In data science, many models involve assumptions about processes that involve randomness (\"Chance models\")\n",
    "* Key question: Does the model fit the data?"
   ]
  },
  {
   "cell_type": "markdown",
   "id": "c08c0718-23cd-48e6-8930-a65ab7408d33",
   "metadata": {
    "slideshow": {
     "slide_type": "slide"
    }
   },
   "source": [
    "### Approach to Assessment"
   ]
  },
  {
   "cell_type": "markdown",
   "id": "81c140eb-d59e-460a-ba0e-ca8475870c50",
   "metadata": {
    "slideshow": {
     "slide_type": "-"
    }
   },
   "source": [
    "* If we can simulate data according to the assumptions of the model, we can learn what the model predicts.\n",
    "* We can then compare the predictions to the data that were observed.\n",
    "* If the data and the model's predictions are not consistent, that is evidence against the model."
   ]
  },
  {
   "cell_type": "markdown",
   "id": "7fce85b1-29cd-4e02-b227-aef9cd5aac38",
   "metadata": {
    "slideshow": {
     "slide_type": "fragment"
    }
   },
   "source": [
    "---"
   ]
  },
  {
   "cell_type": "markdown",
   "id": "fe9c13be-6ba3-4a28-a848-2e32430bb3d5",
   "metadata": {
    "slideshow": {
     "slide_type": "slide"
    }
   },
   "source": [
    "## Jury Selection"
   ]
  },
  {
   "cell_type": "markdown",
   "id": "fc2780af-49fb-4af8-b82c-01a1083e60de",
   "metadata": {
    "slideshow": {
     "slide_type": "subslide"
    }
   },
   "source": [
    "### Swain vs. Alabama, 1965"
   ]
  },
  {
   "cell_type": "markdown",
   "id": "6cb58fc3-b424-4e4a-97d2-1d50a074f218",
   "metadata": {
    "slideshow": {
     "slide_type": "-"
    }
   },
   "source": [
    "* Talladega County, Alabama\n",
    "* Robert Swain, Black man convicted of crime\n",
    "* Appeal: one factor was all-White jury\n",
    "* Only men 21 years or older were allowed to serve\n",
    "* 26% of this population were Black\n",
    "* Swain's jury panel consisted of 100 men\n",
    "* 8 men on the panel were Black"
   ]
  },
  {
   "cell_type": "markdown",
   "id": "3a32704f-929f-4e02-82c4-087eac8a1146",
   "metadata": {
    "slideshow": {
     "slide_type": "subslide"
    }
   },
   "source": [
    "### Supreme Court Ruling (In English ... of the time)"
   ]
  },
  {
   "cell_type": "markdown",
   "id": "641d0796-20cb-4b49-ba9e-129e6745aaa6",
   "metadata": {
    "slideshow": {
     "slide_type": "-"
    }
   },
   "source": [
    "* About disparities between the percentages in the eligible population and the jury panel, the Supreme Court wrote: \n",
    "> \"... the overall percentage disparity has been small and reflects no studied attempt to include or exclude a specified number of Negroes\"\n",
    "* The Supreme Court denied Robert Swain’s appeal\n"
   ]
  },
  {
   "cell_type": "markdown",
   "id": "6c55efd6-a621-4e54-97bc-e4ab006ea288",
   "metadata": {
    "slideshow": {
     "slide_type": "subslide"
    }
   },
   "source": [
    "### Supreme Court Ruling (in Data)"
   ]
  },
  {
   "cell_type": "markdown",
   "id": "7de1f10b-7423-4336-a465-c1d93ba6045c",
   "metadata": {
    "slideshow": {
     "slide_type": "-"
    }
   },
   "source": [
    "* Paraphrase: 8/100 is less than 26%, but not different enough to show Black men were systematically excluded\n",
    "* Question: is 8/100 a realistic outcome if the jury panel selection process were truly unbiased?"
   ]
  },
  {
   "cell_type": "markdown",
   "id": "e76a5498-586f-4540-bfc3-ed21a9b4bd13",
   "metadata": {
    "slideshow": {
     "slide_type": "subslide"
    }
   },
   "source": [
    "### Sampling from a Distribution"
   ]
  },
  {
   "cell_type": "markdown",
   "id": "eb7ad6b5-8cad-4b12-9c7c-d7cd1d4f2f29",
   "metadata": {
    "slideshow": {
     "slide_type": "-"
    }
   },
   "source": [
    "* Sample at random from a categorical distribution using `sample_proportions(sample_size, pop_distribution)`\n",
    "* Samples at random from the population returns an array containing the distribution of the categories in the sample\n"
   ]
  },
  {
   "cell_type": "markdown",
   "id": "c7ccf993-21fb-4c95-9d52-bca80ad1fd56",
   "metadata": {
    "slideshow": {
     "slide_type": "subslide"
    }
   },
   "source": [
    "### Demo: Swain vs. Alabama"
   ]
  },
  {
   "cell_type": "markdown",
   "id": "0201f05f-9605-4e32-bf55-efdf36c5b40a",
   "metadata": {
    "deletable": false,
    "editable": false,
    "slideshow": {
     "slide_type": "notes"
    }
   },
   "source": [
    "* Create an 2-valued array that reflects the proportion of the population that is Black and not Black.\n",
    "* Use `sample_proportions` to create the proportions of a sample of size 100 from the population defined by the above array values.\n",
    "* Define a function to return the proportion Black individuals in a random sample of size 100 from the given population.\n",
    "* Visualize the distribution form from calling that function 1000 times."
   ]
  },
  {
   "cell_type": "code",
   "execution_count": null,
   "id": "47b2457d-5140-4282-b216-8dfed75f8733",
   "metadata": {
    "slideshow": {
     "slide_type": "-"
    },
    "tags": []
   },
   "outputs": [],
   "source": [
    "population_proportions = ...\n",
    "population_proportions"
   ]
  },
  {
   "cell_type": "code",
   "execution_count": null,
   "id": "b24129c3-c6e4-4485-8cfd-4f07e85eeb12",
   "metadata": {
    "slideshow": {
     "slide_type": "subslide"
    },
    "tags": []
   },
   "outputs": [],
   "source": [
    "..."
   ]
  },
  {
   "cell_type": "code",
   "execution_count": null,
   "id": "be64680c-a242-4901-b286-71e73344b385",
   "metadata": {
    "slideshow": {
     "slide_type": "subslide"
    },
    "tags": []
   },
   "outputs": [],
   "source": [
    "def panel_proportion():\n",
    "    ..."
   ]
  },
  {
   "cell_type": "code",
   "execution_count": null,
   "id": "b70f84a4-4793-4172-8753-58ae729bf9ce",
   "metadata": {
    "slideshow": {
     "slide_type": "fragment"
    },
    "tags": []
   },
   "outputs": [],
   "source": [
    "panel_proportion()"
   ]
  },
  {
   "cell_type": "code",
   "execution_count": null,
   "id": "f0e45115-172e-413a-a3c1-796a3d37e195",
   "metadata": {
    "slideshow": {
     "slide_type": "subslide"
    },
    "tags": []
   },
   "outputs": [],
   "source": [
    "panels = ...\n",
    "\n",
    "for ...:\n",
    "    new_panel = ...\n",
    "    panels = ..."
   ]
  },
  {
   "cell_type": "code",
   "execution_count": null,
   "id": "06beea30-571a-41b0-bbed-838ecc8a6fc0",
   "metadata": {
    "slideshow": {
     "slide_type": "fragment"
    },
    "tags": []
   },
   "outputs": [],
   "source": [
    "(Table().with_column('Number of Black Men on Panel of 100', ...)\n",
    "        .hist(bins=np.arange(5.5,40.)))"
   ]
  },
  {
   "cell_type": "markdown",
   "id": "ae0059ac-c8c0-479a-9a6f-b7108de1291e",
   "metadata": {
    "slideshow": {
     "slide_type": "fragment"
    }
   },
   "source": [
    "---"
   ]
  },
  {
   "cell_type": "markdown",
   "id": "fbd63d50-6bc4-4ce9-b1a0-211f893899fa",
   "metadata": {
    "slideshow": {
     "slide_type": "slide"
    }
   },
   "source": [
    "## A Genetic Model"
   ]
  },
  {
   "cell_type": "markdown",
   "id": "d6bf52be-137b-40d6-8362-d85f97c89c3a",
   "metadata": {
    "slideshow": {
     "slide_type": "subslide"
    }
   },
   "source": [
    "### Gregor Mendel, 1822-1884"
   ]
  },
  {
   "cell_type": "markdown",
   "id": "bda350c7-9302-4b50-9a98-db25130d78e7",
   "metadata": {
    "slideshow": {
     "slide_type": "-"
    }
   },
   "source": [
    "<a href=\"https://en.wikipedia.org/wiki/Gregor_Mendel\" title=\"Wikipedia - Gregor Mendel\"><img src=\"./Gregor_Mendel.jpeg\" alt=\"Gregor Mendel\"\n",
    "width = 30%></a>"
   ]
  },
  {
   "cell_type": "markdown",
   "id": "9986f591-5831-4879-8703-f6e0968266ce",
   "metadata": {
    "slideshow": {
     "slide_type": "subslide"
    }
   },
   "source": [
    "### A Model"
   ]
  },
  {
   "cell_type": "markdown",
   "id": "a4c1a53f-c749-4434-87e6-ad3855ce100f",
   "metadata": {
    "slideshow": {
     "slide_type": "-"
    }
   },
   "source": [
    "* Pea plants of a particular kind\n",
    "* Each one has either purple flowers or white flowers\n",
    "* Mendel’s model: Each plant is purple-flowering with chance 75%, regardless of the colors of the other plants\n",
    "* Question: Is the model good, or not?\n"
   ]
  },
  {
   "cell_type": "markdown",
   "id": "ce7e0b83-374e-4fcf-9e6e-6ba536098c5b",
   "metadata": {
    "slideshow": {
     "slide_type": "subslide"
    }
   },
   "source": [
    "### Choosing a Statistic"
   ]
  },
  {
   "cell_type": "markdown",
   "id": "c3c832d6-8867-434f-98c5-7df6b6ebec6a",
   "metadata": {
    "slideshow": {
     "slide_type": "-"
    }
   },
   "source": [
    "* Take a sample, see what percent are purple-flowering\n",
    "* If that percent is much larger or much smaller than 75, that is evidence against the model\n",
    "* Distance from 75 is the key\n",
    "* Statistic: `abs(sample_percent_of_purple_flowering_plants - 75)`\n",
    "* If the statistic is large, that is evidence against the model\n"
   ]
  },
  {
   "cell_type": "markdown",
   "id": "14a1196a-0c60-43b4-9ba9-469f29ef5860",
   "metadata": {
    "slideshow": {
     "slide_type": "subslide"
    }
   },
   "source": [
    "### Demo: Mendel and Pea Flowers"
   ]
  },
  {
   "attachments": {},
   "cell_type": "markdown",
   "id": "b07a2dc2-6aa8-4bc8-8eb8-dd07f007bbf1",
   "metadata": {
    "deletable": false,
    "editable": false,
    "slideshow": {
     "slide_type": "notes"
    }
   },
   "source": [
    "Mendel had 929 plants, of which 709 had purple flowers:\n",
    "\n",
    "* Define the observed proportion of purple flowers in Mendel's data and the predicted population proportions for purple and non-purple flowers.\n",
    "* Simulate sampling 929 plants from a population with the proportions predicted by Mendel.\n",
    "* Simulate randomly selecting samples of 929 plants based on Mendel's model.\n",
    "* Repeat this process 10000 times and visualize the distribution of the sample proportions.\n",
    "* Visualize the distribution of the test statistics created from the simulations and identify where the observed statistic fits in the distribution."
   ]
  },
  {
   "cell_type": "code",
   "execution_count": null,
   "id": "151afd36-564f-4bc7-8632-46b15662a45f",
   "metadata": {
    "scrolled": true,
    "slideshow": {
     "slide_type": "-"
    },
    "tags": []
   },
   "outputs": [],
   "source": [
    "observed_purples = ...\n",
    "observed_purples"
   ]
  },
  {
   "cell_type": "code",
   "execution_count": null,
   "id": "ee781974-9a18-41d6-b6c5-7c6055043f2c",
   "metadata": {
    "scrolled": true,
    "slideshow": {
     "slide_type": "fragment"
    },
    "tags": []
   },
   "outputs": [],
   "source": [
    "predicted_proportions = ...\n",
    "predicted_proportions"
   ]
  },
  {
   "cell_type": "code",
   "execution_count": null,
   "id": "60d46af4-1e52-4990-979b-d28ee44bc783",
   "metadata": {
    "scrolled": true,
    "slideshow": {
     "slide_type": "subslide"
    },
    "tags": []
   },
   "outputs": [],
   "source": [
    "..."
   ]
  },
  {
   "cell_type": "code",
   "execution_count": null,
   "id": "2eb54a52-1163-4f5a-ab1f-506ac7330e5c",
   "metadata": {
    "slideshow": {
     "slide_type": "subslide"
    },
    "tags": []
   },
   "outputs": [],
   "source": [
    "def purple_flowers():\n",
    "    ..."
   ]
  },
  {
   "cell_type": "code",
   "execution_count": null,
   "id": "3b2ff47f-43cf-47ff-af81-b3b3eeb158b0",
   "metadata": {
    "slideshow": {
     "slide_type": "fragment"
    },
    "tags": []
   },
   "outputs": [],
   "source": [
    "purple_flowers()"
   ]
  },
  {
   "cell_type": "code",
   "execution_count": null,
   "id": "e2d04fc6-27a5-4098-be84-5bf55fecdb1e",
   "metadata": {
    "slideshow": {
     "slide_type": "subslide"
    },
    "tags": []
   },
   "outputs": [],
   "source": [
    "purples = ...\n",
    "\n",
    "for ...:\n",
    "    new_purple = ...\n",
    "    purples = ..."
   ]
  },
  {
   "cell_type": "code",
   "execution_count": null,
   "id": "e4b23656-47d2-4f31-900e-38df773cef5f",
   "metadata": {
    "slideshow": {
     "slide_type": "fragment"
    },
    "tags": []
   },
   "outputs": [],
   "source": [
    "(Table().with_column('Percent of purple flowers in sample of 929', ...)\n",
    "        .hist())"
   ]
  },
  {
   "cell_type": "code",
   "execution_count": null,
   "id": "f2806626-4376-45a9-ac35-97d5899baefb",
   "metadata": {
    "slideshow": {
     "slide_type": "subslide"
    },
    "tags": []
   },
   "outputs": [],
   "source": [
    "test_statistics = ...\n",
    "test_statistics"
   ]
  },
  {
   "cell_type": "code",
   "execution_count": null,
   "id": "ab7c7f27-c805-47a0-83cd-931c0fa8c0b5",
   "metadata": {
    "slideshow": {
     "slide_type": "subslide"
    },
    "tags": []
   },
   "outputs": [],
   "source": [
    "..."
   ]
  },
  {
   "cell_type": "code",
   "execution_count": null,
   "id": "11433550-5a1d-48f9-b67d-4fa8f0be1ba6",
   "metadata": {
    "slideshow": {
     "slide_type": "subslide"
    },
    "tags": []
   },
   "outputs": [],
   "source": [
    "observed_statistic = ...\n",
    "observed_statistic"
   ]
  },
  {
   "cell_type": "code",
   "execution_count": null,
   "id": "b27e3c82-4e9c-4b7c-8af1-bbf1990c0ebc",
   "metadata": {
    "slideshow": {
     "slide_type": "fragment"
    },
    "tags": []
   },
   "outputs": [],
   "source": [
    "test_statistics.hist()\n",
    "plt.scatter(observed_statistic, 0, color='red', s=60, zorder=3)\n",
    "plt.show()"
   ]
  },
  {
   "cell_type": "markdown",
   "id": "b4b3c076-4520-473e-ae6f-941ae747175f",
   "metadata": {
    "slideshow": {
     "slide_type": "fragment"
    }
   },
   "source": [
    "---"
   ]
  },
  {
   "cell_type": "markdown",
   "id": "c83d3bab-77c2-4f4b-ae77-e46c2ada62a4",
   "metadata": {
    "slideshow": {
     "slide_type": "slide"
    }
   },
   "source": [
    "## Two Viewpoints"
   ]
  },
  {
   "cell_type": "markdown",
   "id": "c58fa027-470b-44b7-8b8e-7ded848db02f",
   "metadata": {
    "slideshow": {
     "slide_type": "subslide"
    }
   },
   "source": [
    "### Model and Alternative"
   ]
  },
  {
   "cell_type": "markdown",
   "id": "3a3eaad0-2d80-469b-8e62-058e1ec73884",
   "metadata": {
    "slideshow": {
     "slide_type": "-"
    }
   },
   "source": [
    "* Jury selection:\n",
    "    * Model: The people on the jury panels were selected at random from the eligible population\n",
    "    * Alternative viewpoint: No, they weren't\n",
    "* Genetics:\n",
    "    * Model: Each plant has a 75% chance of having purple flowers\n",
    "    * Alternative viewpoint: No, it doesn't"
   ]
  },
  {
   "cell_type": "markdown",
   "id": "f1db8897-b2b6-49b7-a048-fe34ac5ae9ff",
   "metadata": {
    "slideshow": {
     "slide_type": "slide"
    }
   },
   "source": [
    "### Steps in Assessing a Model"
   ]
  },
  {
   "cell_type": "markdown",
   "id": "c1176cd2-ba18-48d5-94c1-8db8fff189d0",
   "metadata": {
    "slideshow": {
     "slide_type": "-"
    }
   },
   "source": [
    "* Choose a statistic to measure discrepancy between model and data\n",
    "* Simulate the statistic under the model’s assumptions\n",
    "* Compare the data to the model’s predictions:\n",
    "    * Draw a histogram of simulated values of the statistic\n",
    "    * Compute the observed statistic from the real sample\n",
    "    * If the observed statistic is far from the histogram, that is evidence against the model\n"
   ]
  },
  {
   "cell_type": "markdown",
   "id": "59215624-40f9-497a-a3ec-cdfeab56c059",
   "metadata": {
    "slideshow": {
     "slide_type": "fragment"
    }
   },
   "source": [
    "---"
   ]
  },
  {
   "cell_type": "markdown",
   "id": "f7955179-26ae-4d1f-9df6-e78a6543138d",
   "metadata": {
    "slideshow": {
     "slide_type": "notes"
    }
   },
   "source": [
    "<footer>\n",
    "    <p>Adopted from UC Berkeley DATA 8 course materials.</p>\n",
    "    <p>This content is offered under a <a href=\"https://creativecommons.org/licenses/by-nc-sa/4.0/\">CC Attribution Non-Commercial Share Alike</a> license.</p>\n",
    "</footer>"
   ]
  }
 ],
 "metadata": {
  "kernelspec": {
   "display_name": "Python 3 (ipykernel)",
   "language": "python",
   "name": "python3"
  },
  "language_info": {
   "codemirror_mode": {
    "name": "ipython",
    "version": 3
   },
   "file_extension": ".py",
   "mimetype": "text/x-python",
   "name": "python",
   "nbconvert_exporter": "python",
   "pygments_lexer": "ipython3",
   "version": "3.10.12"
  },
  "otter": {
   "OK_FORMAT": true,
   "tests": {}
  }
 },
 "nbformat": 4,
 "nbformat_minor": 5
}
