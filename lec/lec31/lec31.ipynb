{
 "cells": [
  {
   "cell_type": "markdown",
   "id": "ed7096a1-6a24-413f-9c26-2c03f8ee5f3f",
   "metadata": {
    "editable": true,
    "slideshow": {
     "slide_type": ""
    },
    "tags": []
   },
   "source": [
    "<div style=\"width: 38.5%;\">\n",
    "    <p><strong>City College of San Francisco</strong><p>\n",
    "    <hr>\n",
    "    <p>MATH 108 - Foundations of Data Science</p>\n",
    "</div>"
   ]
  },
  {
   "cell_type": "markdown",
   "id": "12d5e762-1109-4c77-b362-8cdd4680344b",
   "metadata": {
    "slideshow": {
     "slide_type": "-"
    }
   },
   "source": [
    "# Lecture 31: Linear Regression"
   ]
  },
  {
   "cell_type": "markdown",
   "id": "197304d1-9312-47bd-aaee-43a869892f5b",
   "metadata": {},
   "source": [
    "Associated Textbook Sections: [15.2](https://inferentialthinking.com/chapters/15/2/Regression_Line.html)"
   ]
  },
  {
   "cell_type": "markdown",
   "id": "023d870f-9bc3-4839-8d42-560359ce1ecc",
   "metadata": {},
   "source": [
    "---"
   ]
  },
  {
   "cell_type": "markdown",
   "id": "c918a74e-943f-49ff-8710-63187e5a274c",
   "metadata": {
    "slideshow": {
     "slide_type": "slide"
    }
   },
   "source": [
    "## Outline"
   ]
  },
  {
   "cell_type": "markdown",
   "id": "331130b3-d473-4847-8e92-c6a2275af4e9",
   "metadata": {},
   "source": [
    "* [Prediction](#Prediction)\n",
    "* [Linear Regression](#Linear-Regression)\n",
    "* [Slope & Intercept](#Slope-&-Intercept)"
   ]
  },
  {
   "cell_type": "markdown",
   "id": "0384ed07-7479-453f-8897-9304c9c4a8b3",
   "metadata": {},
   "source": [
    "---"
   ]
  },
  {
   "cell_type": "markdown",
   "id": "74412dde-f206-4f11-a946-8f7679e43735",
   "metadata": {
    "slideshow": {
     "slide_type": "slide"
    }
   },
   "source": [
    "## Set Up the Notebook"
   ]
  },
  {
   "cell_type": "code",
   "execution_count": null,
   "id": "9cf928ce-809a-4044-80d9-b9fe95713e43",
   "metadata": {
    "slideshow": {
     "slide_type": "-"
    }
   },
   "outputs": [],
   "source": [
    "from datascience import *\n",
    "import numpy as np\n",
    "%matplotlib inline\n",
    "import matplotlib.pyplot as plt\n",
    "plt.style.use('fivethirtyeight')\n",
    "\n",
    "# Some functions for plotting. You are not required to understand how these work.\n",
    "def resize_window(lim=3.5):\n",
    "    plt.xlim(-lim, lim)\n",
    "    plt.ylim(-lim, lim)\n",
    "\n",
    "def draw_line(slope=0, intercept=0, x=make_array(-4, 4), color='r'):\n",
    "    y = x*slope + intercept\n",
    "    plt.plot(x, y, color=color, lw=2)\n",
    "    \n",
    "def draw_vertical_line(x_position, color='black'):\n",
    "    x = make_array(x_position, x_position)\n",
    "    y = make_array(-4, 4)\n",
    "    plt.plot(x, y, color=color, lw=2)\n",
    "    \n",
    "def make_correlated_data(r):\n",
    "    x = np.random.normal(0, 1, 1000)\n",
    "    z = np.random.normal(0, 1, 1000)\n",
    "    y = r*x + (np.sqrt(1-r**2))*z\n",
    "    return x, y\n",
    "\n",
    "def r_scatter(r):\n",
    "    \"\"\"Generate a scatter plot with a correlation approximately r\"\"\"\n",
    "    plt.figure(figsize=(5,5))\n",
    "    x, y = make_correlated_data(r)\n",
    "    plt.scatter(x, y, color='darkblue', s=20)\n",
    "    plt.xlim(-4, 4)\n",
    "    plt.ylim(-4, 4)\n",
    "    \n",
    "def r_table(r):\n",
    "    \"\"\"\n",
    "    Generate a table of 1000 data points with a correlation approximately r\n",
    "    \"\"\"\n",
    "    np.random.seed(8)\n",
    "    x, y = make_correlated_data(r)\n",
    "    return Table().with_columns('x', x, 'y', y)\n",
    "\n",
    "def nn_prediction_galton(h):\n",
    "    \"\"\"Return a prediction of the height of a child \n",
    "    whose parents have a midparent height of h.\n",
    "    \n",
    "    The prediction is the average height of the children \n",
    "    whose midparent height is in the range h plus or minus 0.5 inches.\n",
    "    \"\"\"\n",
    "    neighbors = heights.where(\n",
    "        'midparentHeight', are.between(h - 0.5, h + 0.5))\n",
    "    return np.mean(neighbors.column('childHeight'))"
   ]
  },
  {
   "cell_type": "markdown",
   "id": "e0029fcc-a489-4fcd-abd9-234b2588d8b3",
   "metadata": {
    "slideshow": {
     "slide_type": "fragment"
    }
   },
   "source": [
    "---"
   ]
  },
  {
   "cell_type": "markdown",
   "id": "9f5bbe20-ea58-46f0-a2d7-7702b0c3e9f0",
   "metadata": {},
   "source": [
    "## Prediction"
   ]
  },
  {
   "cell_type": "markdown",
   "id": "9aabd697-f914-458a-9533-feaef827eec2",
   "metadata": {},
   "source": [
    "---"
   ]
  },
  {
   "cell_type": "markdown",
   "id": "c025f3fa-4451-4cb8-9834-9f99ba2a030c",
   "metadata": {},
   "source": [
    "### Galton's Heights (`child` vs. `midParent`)"
   ]
  },
  {
   "cell_type": "code",
   "execution_count": null,
   "id": "57cbc10d-a3e2-4145-a696-51d6f57fe027",
   "metadata": {},
   "outputs": [],
   "source": [
    "heights = (Table.read_table('galton.csv')\n",
    "                .select('midparentHeight', 'childHeight'))\n",
    "heights.scatter('midparentHeight')"
   ]
  },
  {
   "cell_type": "markdown",
   "id": "e722c17d-d187-4d7c-9deb-dc182effd397",
   "metadata": {},
   "source": [
    "* Oval shaped\n",
    "* Moderate positive correlation\n",
    "* How can we predict child height from mid-parent height?"
   ]
  },
  {
   "cell_type": "markdown",
   "id": "1f3867bc-ee4f-4902-a7fd-6b134acdc3de",
   "metadata": {},
   "source": [
    "---"
   ]
  },
  {
   "cell_type": "markdown",
   "id": "8afc0602-8aa2-4575-bf3b-6ae7eea90585",
   "metadata": {},
   "source": [
    "### Galton's Heights (within 0.5 of `midParentHeight`)\n"
   ]
  },
  {
   "cell_type": "code",
   "execution_count": null,
   "id": "9e3c84d4-010e-4417-b5ae-2aa4be8782ae",
   "metadata": {},
   "outputs": [],
   "source": [
    "heights.scatter('midparentHeight')\n",
    "plt.plot([68-0.5, 68-0.5], [55, 80], color=\"red\", lw=2)\n",
    "plt.plot([68+0.5, 68+0.5], [55, 80], color=\"red\", lw=2)\n",
    "plt.scatter(68, nn_prediction_galton(68), color=\"gold\", s=60, zorder=3)\n",
    "plt.show()"
   ]
  },
  {
   "cell_type": "markdown",
   "id": "934150cf-84f0-4ab8-b193-346dd6d4c57f",
   "metadata": {},
   "source": [
    "---"
   ]
  },
  {
   "cell_type": "markdown",
   "id": "4eada230-d649-4ab2-89c1-452b59795705",
   "metadata": {},
   "source": [
    "### Galton's Heights (predictions)\n"
   ]
  },
  {
   "cell_type": "code",
   "execution_count": null,
   "id": "84310bff-844f-4560-8723-d29447768eac",
   "metadata": {},
   "outputs": [],
   "source": [
    "predicted_child_heights = heights.apply(nn_prediction_galton, 'midparentHeight')\n",
    "heights_with_predictions = heights.with_column('predicted_ChildHeight', predicted_child_heights)\n",
    "heights_with_predictions.scatter('midparentHeight')"
   ]
  },
  {
   "cell_type": "markdown",
   "id": "9721d515-117e-423c-9488-11847ff3fb75",
   "metadata": {},
   "source": [
    "---"
   ]
  },
  {
   "cell_type": "markdown",
   "id": "ec9f375c-4709-4715-9282-d58ba8ac0500",
   "metadata": {},
   "source": [
    "### Nearest Neighbor Regression"
   ]
  },
  {
   "cell_type": "markdown",
   "id": "9fabe3e0-88d9-4d35-ba8f-53547279c1f7",
   "metadata": {},
   "source": [
    "* A method for prediction:\n",
    "    * Group each x with similar (nearby) x values\n",
    "    * Average the corresponding y values for each group\n",
    "    * For each x value, the prediction is the average of the y values in its nearby group.\n",
    "* The graph of these predictions is the \"graph of averages\".\n",
    "* If the association between x and y is linear, then points in the graph of averages tend to fall on a line.\n"
   ]
  },
  {
   "cell_type": "markdown",
   "id": "bb9e34e1-cf09-46af-85e0-9dfcaacefe97",
   "metadata": {},
   "source": [
    "---"
   ]
  },
  {
   "cell_type": "markdown",
   "id": "32c0d7bc-600e-4c84-8b21-d59ac5d7aca7",
   "metadata": {},
   "source": [
    "### Where is the prediction line? (`r=0.99`)\n"
   ]
  },
  {
   "cell_type": "code",
   "execution_count": null,
   "id": "c2a25695-0ea1-47d1-a484-6b69258c05bd",
   "metadata": {},
   "outputs": [],
   "source": [
    "r_scatter(0.99)"
   ]
  },
  {
   "cell_type": "markdown",
   "id": "e2c82d2b-da3f-48e7-bb76-ad9bd7db021c",
   "metadata": {},
   "source": [
    "---"
   ]
  },
  {
   "cell_type": "markdown",
   "id": "ea23d829-1583-4237-aa7d-10bed9cdc9ba",
   "metadata": {},
   "source": [
    "### Where is the prediction line? (`r=0`)\n"
   ]
  },
  {
   "cell_type": "code",
   "execution_count": null,
   "id": "9eee9690-2eb2-407a-a0eb-ddc5b11aa61a",
   "metadata": {},
   "outputs": [],
   "source": [
    "r_scatter(0)"
   ]
  },
  {
   "cell_type": "markdown",
   "id": "41ccf955-4ca6-46f8-bdde-05fd21938a26",
   "metadata": {},
   "source": [
    "---"
   ]
  },
  {
   "cell_type": "markdown",
   "id": "fa394cd0-52dc-4ee8-a38d-cea3107b3959",
   "metadata": {},
   "source": [
    "### Demo: Prediction lines `r = 0.99`"
   ]
  },
  {
   "cell_type": "markdown",
   "id": "746cf50a-d860-431a-8c2b-3616da4317a4",
   "metadata": {},
   "source": [
    "Identify the best fit line in relation to the nearest neighbor predictions with data showing an r value of 0.99."
   ]
  },
  {
   "cell_type": "code",
   "execution_count": null,
   "id": "359501aa-4830-4e89-8230-f9f2c3a1423a",
   "metadata": {},
   "outputs": [],
   "source": [
    "example = r_table(0.99)\n",
    "example.show(3)"
   ]
  },
  {
   "cell_type": "code",
   "execution_count": null,
   "id": "1106a3fa-7a0c-4dff-ac87-af179766b828",
   "metadata": {},
   "outputs": [],
   "source": [
    "example.scatter('x', 'y')"
   ]
  },
  {
   "cell_type": "code",
   "execution_count": null,
   "id": "1b3599d9-bc6f-4f9b-a5b7-85bf3e3bda99",
   "metadata": {},
   "outputs": [],
   "source": [
    "example.scatter('x', 'y')\n",
    "resize_window()"
   ]
  },
  {
   "cell_type": "code",
   "execution_count": null,
   "id": "1666b106-0abe-45cd-86a4-c28bde1c6d02",
   "metadata": {},
   "outputs": [],
   "source": [
    "def nn_prediction_example(x_val):\n",
    "    \"\"\" Predicts y-value for x based on the example table \"\"\"\n",
    "    neighbors = example.where('x', are.between(x_val - .25, x_val + .25))\n",
    "    return np.mean(neighbors.column('y'))\n",
    "    "
   ]
  },
  {
   "cell_type": "code",
   "execution_count": null,
   "id": "12d5de8e-5c00-4af7-ae68-0a2166dc9eff",
   "metadata": {},
   "outputs": [],
   "source": [
    "nn_prediction_example(-2.25)"
   ]
  },
  {
   "cell_type": "code",
   "execution_count": null,
   "id": "13b0e5b8-f795-4259-8c83-66919bf751b5",
   "metadata": {},
   "outputs": [],
   "source": [
    "example = example.with_columns(\n",
    "    'Predicted y', \n",
    "    example.apply(nn_prediction_example, 'x'))"
   ]
  },
  {
   "cell_type": "code",
   "execution_count": null,
   "id": "bf772da9-f55d-4329-ad98-476c6224668b",
   "metadata": {},
   "outputs": [],
   "source": [
    "example.scatter('x')\n",
    "resize_window()"
   ]
  },
  {
   "cell_type": "code",
   "execution_count": null,
   "id": "3b6db0cc-35a0-41fa-bf24-10d8397efab9",
   "metadata": {},
   "outputs": [],
   "source": [
    "example.scatter('x')\n",
    "draw_line(slope=1, color='dodgerblue')\n",
    "resize_window()"
   ]
  },
  {
   "cell_type": "markdown",
   "id": "d5841b36-ffe4-4e61-9380-c382d081e3ef",
   "metadata": {},
   "source": [
    "### Demo: Prediction lines `r = 0`"
   ]
  },
  {
   "cell_type": "markdown",
   "id": "13ca710b-9881-4e37-b7d9-0b542d680918",
   "metadata": {},
   "source": [
    "Identify the best fit line in relation to the nearest neighbor predictions with data showing an r value of 0."
   ]
  },
  {
   "cell_type": "code",
   "execution_count": null,
   "id": "35cc9fcd-e7a0-41c3-b14a-96cb456b6fde",
   "metadata": {},
   "outputs": [],
   "source": [
    "example = r_table(0)\n",
    "example.scatter('x', 'y')\n",
    "resize_window()"
   ]
  },
  {
   "cell_type": "code",
   "execution_count": null,
   "id": "467dd2d6-2d24-4ee0-986d-0e1549a61350",
   "metadata": {},
   "outputs": [],
   "source": [
    "example = example.with_columns(\n",
    "    'Predicted y', \n",
    "    example.apply(nn_prediction_example, 'x'))"
   ]
  },
  {
   "cell_type": "code",
   "execution_count": null,
   "id": "9a0aeaca-bdd6-4234-aceb-d211be5d1e37",
   "metadata": {},
   "outputs": [],
   "source": [
    "example = example.with_column(\n",
    "    'Predicted y', example.apply(nn_prediction_example, 'x'))\n",
    "example.scatter('x')\n",
    "draw_line(slope = 0)\n",
    "resize_window()"
   ]
  },
  {
   "cell_type": "code",
   "execution_count": null,
   "id": "608473ed-5117-4c24-b3b1-56b6a4188e93",
   "metadata": {},
   "outputs": [],
   "source": []
  },
  {
   "cell_type": "markdown",
   "id": "2f56964f-dc61-4af1-8746-9a1c27481276",
   "metadata": {},
   "source": [
    "### Demo: Prediction lines `r = 0.5`"
   ]
  },
  {
   "cell_type": "markdown",
   "id": "024f627a-7268-4a5f-b1c9-a060e9049379",
   "metadata": {},
   "source": [
    "Identify the best fit line in relation to the nearest neighbor predictions with data showing an r value of 0.5."
   ]
  },
  {
   "cell_type": "code",
   "execution_count": null,
   "id": "73819589-ce47-4266-8645-1c88631d3fa4",
   "metadata": {},
   "outputs": [],
   "source": [
    "example = r_table(0.5)\n",
    "example.scatter('x', 'y')\n",
    "resize_window()"
   ]
  },
  {
   "cell_type": "code",
   "execution_count": null,
   "id": "e67d9990-a3fc-4b0f-a5bf-15560d2dfe96",
   "metadata": {},
   "outputs": [],
   "source": [
    "example = r_table(0.5)\n",
    "example.scatter('x', 'y')\n",
    "resize_window()\n",
    "draw_line(slope=1, intercept=0)"
   ]
  },
  {
   "cell_type": "code",
   "execution_count": null,
   "id": "43518d4f-c6ba-47c6-b401-175c71f10eb1",
   "metadata": {},
   "outputs": [],
   "source": [
    "example = example.with_column('Predicted y', example.apply(nn_prediction_example, 'x'))\n",
    "example.scatter('x')\n",
    "draw_line(slope=1)\n",
    "resize_window()"
   ]
  },
  {
   "cell_type": "code",
   "execution_count": null,
   "id": "c8902dc8-d720-4f4b-8416-aace46f7bfa1",
   "metadata": {},
   "outputs": [],
   "source": [
    "example.scatter('x')\n",
    "draw_line(slope=1, intercept=0, color='red')\n",
    "draw_line(slope=0.5, intercept=0, color='dodgerblue')\n",
    "resize_window()"
   ]
  },
  {
   "cell_type": "markdown",
   "id": "6e205170-d89e-4c91-9de9-5b6339f1bb9a",
   "metadata": {},
   "source": [
    "---"
   ]
  },
  {
   "cell_type": "markdown",
   "id": "3a1a319f-a235-4a8d-a231-a360b1a02f22",
   "metadata": {},
   "source": [
    "## Linear Regression"
   ]
  },
  {
   "cell_type": "markdown",
   "id": "79708c0f-cad9-43b9-be58-d98ecbd1de02",
   "metadata": {},
   "source": [
    "---"
   ]
  },
  {
   "cell_type": "markdown",
   "id": "f00c70c9-0bb0-45d5-8a5d-202bdafc6fa7",
   "metadata": {},
   "source": [
    "### Linear Regression"
   ]
  },
  {
   "cell_type": "markdown",
   "id": "ee67edc5-7cd6-413c-9ecb-12075fa33cdb",
   "metadata": {},
   "source": [
    "* A statement about x and y pairs\n",
    "    * Measured in standard units\n",
    "    * Describing the deviation of $x$ from 0 (the average of $x$'s)\n",
    "    * And the deviation of $y$ from 0 (the average of $y$'s)\n",
    "* On average, $y$ deviates from 0 less than $x$ deviates from 0\n",
    "* Regression Line Equation: $y_{\\text{su}} = r \\times x_{\\text{su}}$\n",
    "* Not true for all points — a statement about averages"
   ]
  },
  {
   "cell_type": "markdown",
   "id": "1eeb8f04-5f05-45cd-a060-57c1382ee6b4",
   "metadata": {},
   "source": [
    "---"
   ]
  },
  {
   "cell_type": "markdown",
   "id": "3400e664-5ff8-4423-b483-1281e24a7c4a",
   "metadata": {},
   "source": [
    "## Slope & Intercept"
   ]
  },
  {
   "cell_type": "markdown",
   "id": "34d7b603-798c-4ec3-811b-9a73108b0ed5",
   "metadata": {},
   "source": [
    "---"
   ]
  },
  {
   "cell_type": "markdown",
   "id": "ee56bf91-d86a-482a-8146-a537e1b24545",
   "metadata": {},
   "source": [
    "### Regression Line Equation"
   ]
  },
  {
   "cell_type": "markdown",
   "id": "fc4f7973-3a83-469d-b26f-80631b750901",
   "metadata": {},
   "source": [
    "* In original units, the regression line has this equation: $$\\frac{\\text{estimate of } y - \\text{average of } y}{\\text{SD of } y} = r \\times \\frac{\\text{the given } x - \\text{average of } x}{\\text{SD of } x}$$\n",
    "* Lines can be expressed by slope & intercept as: $y = \\text{slope} \\times x + \\text{intercept}$"
   ]
  },
  {
   "cell_type": "markdown",
   "id": "56fd05c1-4621-4b3c-9d6f-8f3d339fe781",
   "metadata": {},
   "source": [
    "---"
   ]
  },
  {
   "cell_type": "markdown",
   "id": "616162be-e04c-43d6-bc59-9cc99f7aec9f",
   "metadata": {},
   "source": [
    "### Regression Line"
   ]
  },
  {
   "cell_type": "markdown",
   "id": "f5459822-75ed-4764-a6d3-f24c0e131073",
   "metadata": {},
   "source": [
    "<img src=\"./regression_line.png\" width=60%>"
   ]
  },
  {
   "cell_type": "markdown",
   "id": "bb94f8f2-19c3-48a9-931f-9935bd6ebe28",
   "metadata": {},
   "source": [
    "---"
   ]
  },
  {
   "cell_type": "markdown",
   "id": "c0d3c6a9-e7a5-4232-ae51-d9c5f2abb384",
   "metadata": {},
   "source": [
    "### Slope and Intercept"
   ]
  },
  {
   "cell_type": "markdown",
   "id": "d04a54ec-9d1d-449c-b4b5-ccec5ea6c78c",
   "metadata": {},
   "source": [
    "* `estimate_of_y = slope * x + intercept`\n",
    "* `slope = r * (SD_y / SD_x)`\n",
    "* `intercept = mean_y - slope * mean_x`"
   ]
  },
  {
   "cell_type": "markdown",
   "id": "de116caa-4c2f-4213-b0f8-4a24054b5727",
   "metadata": {},
   "source": [
    "---"
   ]
  },
  {
   "cell_type": "markdown",
   "id": "56ed41c4-7d49-4500-aef0-d2552b048a11",
   "metadata": {},
   "source": [
    "### Demo: Defining the line"
   ]
  },
  {
   "cell_type": "markdown",
   "id": "0b865132-26a5-43f0-8f49-af5725ad71ab",
   "metadata": {
    "deletable": false,
    "editable": false
   },
   "source": [
    "Use the `standard_units` and `correlation` functions (copied from above) to define functions `slope` and `intercept`. "
   ]
  },
  {
   "cell_type": "code",
   "execution_count": null,
   "id": "b4a170d5-9c21-4a37-af55-c144a512b7ae",
   "metadata": {
    "tags": []
   },
   "outputs": [],
   "source": [
    "def standard_units(x):\n",
    "    \"\"\"Converts an array x to standard units\"\"\"\n",
    "    return (x - np.mean(x)) / np.std(x)\n",
    "\n",
    "def correlation(t, x, y):\n",
    "    x_su = standard_units(t.column(x))\n",
    "    y_su = standard_units(t.column(y))\n",
    "    return np.mean(x_su * y_su)"
   ]
  },
  {
   "cell_type": "code",
   "execution_count": null,
   "id": "0c721382-a465-4de2-84b7-0cb280192a6a",
   "metadata": {
    "tags": []
   },
   "outputs": [],
   "source": [
    "def slope(t, x, y):\n",
    "    ...\n",
    "\n",
    "def intercept(t, x, y):\n",
    "    ..."
   ]
  },
  {
   "cell_type": "code",
   "execution_count": null,
   "id": "aed66aab-e6c2-4453-8a6c-768d88fa367c",
   "metadata": {
    "tags": []
   },
   "outputs": [],
   "source": [
    "example = r_table(0.5)\n",
    "slope(example, 'x', 'y'), intercept(example, 'x', 'y')"
   ]
  },
  {
   "cell_type": "markdown",
   "id": "b4837e51-dad2-467a-9b86-c26f943ba721",
   "metadata": {},
   "source": [
    "---"
   ]
  },
  {
   "cell_type": "markdown",
   "id": "95cbbd5b-509b-49d4-9663-9d87ca3d5038",
   "metadata": {},
   "source": [
    "### Units"
   ]
  },
  {
   "cell_type": "markdown",
   "id": "74f8e0fc-8738-47c6-9fd0-5fe24cddbe73",
   "metadata": {},
   "source": [
    "Suppose we use linear regression to predict candy prices (in dollars) from sugar content (in grams). The units of the following are:\n",
    "\n",
    "* $r$ - no units\n",
    "* The slope - dollars/grams\n",
    "* The intercept - dollars"
   ]
  },
  {
   "cell_type": "markdown",
   "id": "37877164-94d6-46d4-bb65-e2ef947825db",
   "metadata": {},
   "source": [
    "---"
   ]
  },
  {
   "cell_type": "markdown",
   "id": "ac892348-ab11-4625-ab77-6b4f6f92ada5",
   "metadata": {},
   "source": [
    "### Linear Prediction Example"
   ]
  },
  {
   "cell_type": "markdown",
   "id": "07abfb79-2467-499d-a442-241863d56c62",
   "metadata": {
    "deletable": false,
    "editable": false
   },
   "source": [
    "* A course has a midterm (average 70; standard deviation 10)\n",
    "and a really hard final (average 50; standard deviation 12)\n",
    "* If the scatter diagram comparing midterm & final scores for students has an oval shape with correlation 0.75, then... \n",
    "    1. What do you expect the average final score would be for students who scored 90 on the midterm?\n",
    "    2. How about 60 on the midterm?"
   ]
  },
  {
   "cell_type": "code",
   "execution_count": null,
   "id": "8e89473b-bd83-4b6b-b714-f55e0fb10374",
   "metadata": {
    "tags": []
   },
   "outputs": [],
   "source": [
    "def predict(midterm_score):\n",
    "    r = ...\n",
    "    mean_x = ...\n",
    "    SD_x = ...\n",
    "    mean_y = ...\n",
    "    SD_y = ...\n",
    "    slope = ...\n",
    "    intercept = ...\n",
    "    prediction = ...\n",
    "    ..."
   ]
  },
  {
   "cell_type": "code",
   "execution_count": null,
   "id": "3f7c684d-b3dc-401b-8bcf-bd070af2ae86",
   "metadata": {
    "tags": []
   },
   "outputs": [],
   "source": [
    "..."
   ]
  },
  {
   "cell_type": "code",
   "execution_count": null,
   "id": "db50d7ed-c424-4f56-98d7-26c8ff610c6c",
   "metadata": {
    "tags": []
   },
   "outputs": [],
   "source": [
    "..."
   ]
  },
  {
   "cell_type": "markdown",
   "id": "adf82764-a944-4f09-a77a-b2fb405ea8fc",
   "metadata": {
    "slideshow": {
     "slide_type": "fragment"
    }
   },
   "source": [
    "---"
   ]
  },
  {
   "cell_type": "markdown",
   "id": "c2d2f9e8-ac81-49ec-8f33-3dcce098ea35",
   "metadata": {
    "slideshow": {
     "slide_type": "notes"
    }
   },
   "source": [
    "<footer>\n",
    "    <p>Adopted from UC Berkeley DATA 8 course materials.</p>\n",
    "    <p>This content is offered under a <a href=\"https://creativecommons.org/licenses/by-nc-sa/4.0/\">CC Attribution Non-Commercial Share Alike</a> license.</p>\n",
    "</footer>"
   ]
  }
 ],
 "metadata": {
  "kernelspec": {
   "display_name": "Python 3 (ipykernel)",
   "language": "python",
   "name": "python3"
  },
  "language_info": {
   "codemirror_mode": {
    "name": "ipython",
    "version": 3
   },
   "file_extension": ".py",
   "mimetype": "text/x-python",
   "name": "python",
   "nbconvert_exporter": "python",
   "pygments_lexer": "ipython3",
   "version": "3.10.12"
  },
  "otter": {
   "OK_FORMAT": true,
   "tests": {}
  }
 },
 "nbformat": 4,
 "nbformat_minor": 5
}
