{
 "cells": [
  {
   "cell_type": "markdown",
   "id": "1cb240fa-9c25-4028-a18e-659dc469ac37",
   "metadata": {
    "slideshow": {
     "slide_type": "slide"
    }
   },
   "source": [
    "<div style=\"width: 38.5%;\">\n",
    "    <p><strong>City College of San Francisco</strong><p>\n",
    "    <hr>\n",
    "    <p>MATH 108 - Foundations of Data Science</p>\n",
    "</div>"
   ]
  },
  {
   "cell_type": "markdown",
   "id": "bfd6cabb-3136-4d4d-baa1-d0ba792efb0b",
   "metadata": {
    "slideshow": {
     "slide_type": "-"
    }
   },
   "source": [
    "# Lecture 19: Decisions and Uncertainty"
   ]
  },
  {
   "cell_type": "markdown",
   "id": "ed437d9b-1ef6-4653-b9ee-4b9a70afcf4a",
   "metadata": {
    "slideshow": {
     "slide_type": "-"
    }
   },
   "source": [
    "Associated Textbook Sections: [11.3, 11.4](https://inferentialthinking.com/chapters/11/3/Decisions_and_Uncertainty.html)"
   ]
  },
  {
   "cell_type": "markdown",
   "id": "2bc1443a-ca2a-4c5e-8f8b-1e61b7651304",
   "metadata": {
    "slideshow": {
     "slide_type": "slide"
    }
   },
   "source": [
    "<div style=\"width: 38.5%;\">\n",
    "    <p><strong>City College of San Francisco</strong><p>\n",
    "    <hr>\n",
    "    <p>MATH 108 - Foundations of Data Science</p>\n",
    "</div>"
   ]
  },
  {
   "cell_type": "markdown",
   "id": "afa474af-efc8-4768-93ac-9b89e5f83db0",
   "metadata": {
    "slideshow": {
     "slide_type": "slide"
    }
   },
   "source": [
    "## Outline"
   ]
  },
  {
   "cell_type": "markdown",
   "id": "687449a7-c6a5-4005-8dc2-12ec4db79b6e",
   "metadata": {
    "slideshow": {
     "slide_type": "-"
    }
   },
   "source": [
    "* [Decisions and Uncertainty](#Decisions-and-Uncertainty)\n",
    "* [Review: Terminology](#Review:-Terminology)\n",
    "* [A Low Midterm Average](#A-Low-Midterm-Average)\n",
    "* [Statistical Significance](#Statistical-Significance)\n",
    "* [How We’ve Tested Thus Far](#How-We’ve-Tested-Thus-Far)"
   ]
  },
  {
   "cell_type": "markdown",
   "id": "6edc01b1-e2dd-4988-a4c5-f908f2d6c620",
   "metadata": {
    "slideshow": {
     "slide_type": "slide"
    }
   },
   "source": [
    "## Set Up the Notebook"
   ]
  },
  {
   "cell_type": "code",
   "execution_count": null,
   "id": "780da9af-1a76-4591-ad7b-be83dbe0253e",
   "metadata": {
    "slideshow": {
     "slide_type": "-"
    }
   },
   "outputs": [],
   "source": [
    "from datascience import *\n",
    "import numpy as np\n",
    "%matplotlib inline\n",
    "import matplotlib.pyplot as plt\n",
    "plt.style.use('fivethirtyeight')"
   ]
  },
  {
   "cell_type": "markdown",
   "id": "ae6bc560-07f1-42c8-a7af-9a7d8bb207d9",
   "metadata": {
    "slideshow": {
     "slide_type": "fragment"
    }
   },
   "source": [
    "---"
   ]
  },
  {
   "cell_type": "markdown",
   "id": "673586ee-ef51-4a28-ba0b-41074d69577f",
   "metadata": {
    "slideshow": {
     "slide_type": "slide"
    }
   },
   "source": [
    "## Decisions and Uncertainty"
   ]
  },
  {
   "cell_type": "markdown",
   "id": "863cf44b-b60f-4147-9141-816b3462201b",
   "metadata": {
    "slideshow": {
     "slide_type": "subslide"
    }
   },
   "source": [
    "### Incomplete Information"
   ]
  },
  {
   "cell_type": "markdown",
   "id": "4e43faae-894e-4bb6-85d0-653f833a9e00",
   "metadata": {
    "slideshow": {
     "slide_type": "-"
    }
   },
   "source": [
    "* We are trying to choose between two views of the world, based on data in a sample.\n",
    "* It is not always clear whether the data are consistent with one view or the other.\n",
    "* Random samples can turn out quite extreme. It is unlikely, but possible."
   ]
  },
  {
   "cell_type": "markdown",
   "id": "fec75cd4-ad18-414d-8086-cc71ddb6f5f7",
   "metadata": {
    "slideshow": {
     "slide_type": "fragment"
    }
   },
   "source": [
    "---"
   ]
  },
  {
   "cell_type": "markdown",
   "id": "20363c4b-1ae6-4e2c-9c2a-47277c969695",
   "metadata": {
    "slideshow": {
     "slide_type": "slide"
    }
   },
   "source": [
    "## Review: Terminology"
   ]
  },
  {
   "cell_type": "markdown",
   "id": "a1c9ee26-fce3-4814-8aa7-382beeed5f0f",
   "metadata": {
    "slideshow": {
     "slide_type": "subslide"
    }
   },
   "source": [
    "### Testing Hypotheses"
   ]
  },
  {
   "cell_type": "markdown",
   "id": "9f4ee385-6612-4c61-bf10-a7a435a85732",
   "metadata": {
    "slideshow": {
     "slide_type": "-"
    }
   },
   "source": [
    "* A test chooses between two views of how data were generated\n",
    "* The views are called hypotheses\n",
    "* The test picks the hypothesis that is better supported by the observed data\n"
   ]
  },
  {
   "cell_type": "markdown",
   "id": "7b23871d-89c8-4e8a-ada0-4a00192b0358",
   "metadata": {
    "slideshow": {
     "slide_type": "subslide"
    }
   },
   "source": [
    "### Null and Alternative"
   ]
  },
  {
   "cell_type": "markdown",
   "id": "33e76eed-941f-4b31-83d2-b5186b619fec",
   "metadata": {
    "slideshow": {
     "slide_type": "-"
    }
   },
   "source": [
    "The method only works if we can simulate data under one of the hypotheses.\n",
    "* Null hypothesis:\n",
    "    * A well defined chance model about how the data were generated\n",
    "    * We can simulate data under the assumptions of this model – “under the null hypothesis”\n",
    "* Alternative hypothesis: A different view about the origin of the data\n"
   ]
  },
  {
   "cell_type": "markdown",
   "id": "5f69f609-2c85-4607-ac5d-79a5c96cabd5",
   "metadata": {
    "slideshow": {
     "slide_type": "subslide"
    }
   },
   "source": [
    "### Test Statistic"
   ]
  },
  {
   "cell_type": "markdown",
   "id": "e198ebbf-b18c-41e9-89ca-8f9cde530cc2",
   "metadata": {
    "slideshow": {
     "slide_type": "-"
    }
   },
   "source": [
    "* The statistic that we choose to simulate, to decide between the two hypotheses\n",
    "* Questions before choosing the statistic:\n",
    "    * What values of the statistic will make us lean towards the null hypothesis?\n",
    "    * What values will make us lean towards the alternative? Preferably, the answer should be just \"high\". Try to avoid \"both high and low\".\n"
   ]
  },
  {
   "cell_type": "markdown",
   "id": "ea4d649f-6d30-4d2e-953f-b9c6718bfe01",
   "metadata": {
    "slideshow": {
     "slide_type": "subslide"
    }
   },
   "source": [
    "### Prediction Under the Null Hypothesis"
   ]
  },
  {
   "cell_type": "markdown",
   "id": "82519c7e-da18-4f28-8a3a-6d5c5e1f02a2",
   "metadata": {
    "slideshow": {
     "slide_type": "-"
    }
   },
   "source": [
    "* Simulate the test statistic under the null hypothesis; draw the histogram of the simulated values\n",
    "* This displays the **empirical distribution of the statistic under the null hypothesis**\n",
    "* It is a prediction about the statistic, made by the null hypothesis \n",
    "    * It shows all the likely values of the statistic\n",
    "    * Also how likely they are (**if the null hypothesis is true**)\n",
    "* The probabilities are approximate, because we can't generate all the possible random samples\n"
   ]
  },
  {
   "cell_type": "markdown",
   "id": "98dfd43f-6551-42ef-899b-b3e851a23a4a",
   "metadata": {
    "slideshow": {
     "slide_type": "subslide"
    }
   },
   "source": [
    "### Conclusion of the Test"
   ]
  },
  {
   "cell_type": "markdown",
   "id": "d4a9d9d5-fda5-4556-979a-a4d4cf901fda",
   "metadata": {
    "slideshow": {
     "slide_type": "-"
    }
   },
   "source": [
    "* Resolve choice between null and alternative hypotheses\n",
    "    * Compare the **observed test statistic** and its empirical distribution under the null hypothesis\n",
    "    * If the observed value is **not consistent** with the distribution, then the test favors the alternative (\"data is more consistent with the alternative\")\n",
    "* Whether a value is consistent with a distribution:\n",
    "    * A visualization may be sufficient\n",
    "    * If not, there are conventions about \"consistency\""
   ]
  },
  {
   "cell_type": "markdown",
   "id": "c3648613-c84d-4cf6-b5b3-6450ccd43b2c",
   "metadata": {
    "slideshow": {
     "slide_type": "fragment"
    }
   },
   "source": [
    "---"
   ]
  },
  {
   "cell_type": "markdown",
   "id": "f4845669-1f54-446b-bafe-c32b294f52af",
   "metadata": {
    "slideshow": {
     "slide_type": "slide"
    }
   },
   "source": [
    "## A Low Midterm Average"
   ]
  },
  {
   "cell_type": "markdown",
   "id": "4adc878b-769c-4cdf-8fc1-bc66aafd4d81",
   "metadata": {
    "slideshow": {
     "slide_type": "subslide"
    }
   },
   "source": [
    "### The Set Up"
   ]
  },
  {
   "cell_type": "markdown",
   "id": "2580a83b-c806-451f-80b9-6e24614b1996",
   "metadata": {
    "slideshow": {
     "slide_type": "-"
    }
   },
   "source": [
    "* Large(-ish) Data Science class divided into 12 discussion sections\n",
    "* After the midterm, students in Section 3 notice that the average score in their section is lower than in others"
   ]
  },
  {
   "cell_type": "markdown",
   "id": "4883573f-c777-4f9b-acff-26f6525016f1",
   "metadata": {
    "slideshow": {
     "slide_type": "subslide"
    }
   },
   "source": [
    "### The Instructor's Defense"
   ]
  },
  {
   "cell_type": "markdown",
   "id": "cf674504-b543-4ad0-abd4-3225168fabf6",
   "metadata": {
    "slideshow": {
     "slide_type": "-"
    }
   },
   "source": [
    "* Section 3 Instructor's position (Null Hypothesis): If we had picked my section at random from the whole class, we could have got an average like this one.\n",
    "* Alternative Hypothesis: No, the average score is too low. Randomness is not the only reason for the low scores.\n"
   ]
  },
  {
   "cell_type": "markdown",
   "id": "3e47a47b-6acd-4ada-ad64-47cef1814d47",
   "metadata": {
    "slideshow": {
     "slide_type": "subslide"
    }
   },
   "source": [
    "### Demo: A Low Midterm Average"
   ]
  },
  {
   "attachments": {},
   "cell_type": "markdown",
   "id": "bc613b3f-6d66-4bcc-b4d8-871977f2a5a3",
   "metadata": {
    "deletable": false,
    "editable": false,
    "slideshow": {
     "slide_type": "notes"
    }
   },
   "source": [
    "* Load the `scores_by_section.csv` data, identify the average Midterm score for each section, make sure to store the value of the Section 3 average Midterm score.\n",
    "* Randomly sample 27 students (same as section 3) from the population (without replacement) and compute the sample average Midterm score.\n",
    "* Simulate one value of the test statistic under the hypothesis that the section is like a random sample from the class.\n",
    "* Simulate 50,000 copies of the test statistic and compare the simulated distribution of the statistic and the actual observed statistic.\n",
    "* Visualize the distribution.\n",
    "* Calculate the area in the left tail of the histogram."
   ]
  },
  {
   "cell_type": "code",
   "execution_count": null,
   "id": "ffe96597-ac5c-4d01-bcd2-dbccd7ae98d5",
   "metadata": {
    "scrolled": true,
    "slideshow": {
     "slide_type": "-"
    },
    "tags": []
   },
   "outputs": [],
   "source": [
    "scores = Table.read_table('scores_by_section.csv')\n",
    "scores"
   ]
  },
  {
   "cell_type": "code",
   "execution_count": null,
   "id": "6f477b73-3c62-41be-b793-5ed1ab239319",
   "metadata": {
    "slideshow": {
     "slide_type": "subslide"
    },
    "tags": []
   },
   "outputs": [],
   "source": [
    "..."
   ]
  },
  {
   "cell_type": "code",
   "execution_count": null,
   "id": "ff3658ad-c7ad-4c83-b09f-2e2a4579c1ac",
   "metadata": {
    "slideshow": {
     "slide_type": "subslide"
    },
    "tags": []
   },
   "outputs": [],
   "source": [
    "..."
   ]
  },
  {
   "cell_type": "code",
   "execution_count": null,
   "id": "a3dd67d7-1f4f-4685-a4aa-1b9cae042105",
   "metadata": {
    "slideshow": {
     "slide_type": "fragment"
    },
    "tags": []
   },
   "outputs": [],
   "source": [
    "observed_average = ...\n",
    "observed_average"
   ]
  },
  {
   "cell_type": "code",
   "execution_count": null,
   "id": "30c2f0c7-4235-4d0e-acc4-e3a53d88ab96",
   "metadata": {
    "slideshow": {
     "slide_type": "subslide"
    },
    "tags": []
   },
   "outputs": [],
   "source": [
    "random_sample = ...\n",
    "random_sample"
   ]
  },
  {
   "cell_type": "code",
   "execution_count": null,
   "id": "42efd650-b3ec-4536-928a-cd2526c20dd2",
   "metadata": {
    "slideshow": {
     "slide_type": "fragment"
    },
    "tags": []
   },
   "outputs": [],
   "source": [
    "np.average(random_sample.column('Midterm'))"
   ]
  },
  {
   "cell_type": "code",
   "execution_count": null,
   "id": "bcf2879e-508f-4c4a-8492-0db2400ead31",
   "metadata": {
    "slideshow": {
     "slide_type": "subslide"
    },
    "tags": []
   },
   "outputs": [],
   "source": [
    "def random_sample_midterm_avg():\n",
    "    random_sample = ...\n",
    "    ..."
   ]
  },
  {
   "cell_type": "code",
   "execution_count": null,
   "id": "5b530703-059a-49b4-897d-0ab6fc1d5fa5",
   "metadata": {
    "slideshow": {
     "slide_type": "fragment"
    },
    "tags": []
   },
   "outputs": [],
   "source": [
    "random_sample_midterm_avg()"
   ]
  },
  {
   "cell_type": "code",
   "execution_count": null,
   "id": "fe630593-a63d-4e4e-a89e-a1f9531fa6c4",
   "metadata": {
    "slideshow": {
     "slide_type": "subslide"
    },
    "tags": []
   },
   "outputs": [],
   "source": [
    "sample_averages = ...\n",
    "\n",
    "for ...\n",
    "    random_sample_average = ...\n",
    "    sample_averages = ..."
   ]
  },
  {
   "cell_type": "code",
   "execution_count": null,
   "id": "6ee3c7db-8f94-4b2f-9f99-5f6d3b6c9494",
   "metadata": {
    "slideshow": {
     "slide_type": "subslide"
    },
    "tags": []
   },
   "outputs": [],
   "source": [
    "averages_tbl = Table().with_column('Random Sample Average', sample_averages)\n",
    "averages_tbl.hist(bins = 20)\n",
    "plt.scatter(observed_average, 0, color = 'red', s=60, zorder=3)\n",
    "plt.show()"
   ]
  },
  {
   "cell_type": "code",
   "execution_count": null,
   "id": "c5dcdce4-bf37-4d6d-b8b7-d399d7b5f864",
   "metadata": {
    "slideshow": {
     "slide_type": "fragment"
    },
    "tags": []
   },
   "outputs": [],
   "source": [
    "area_in_left_tail = ...\n",
    "area_in_left_tail"
   ]
  },
  {
   "cell_type": "markdown",
   "id": "95325b3d-76c6-4561-a738-ca20389078d2",
   "metadata": {
    "slideshow": {
     "slide_type": "fragment"
    }
   },
   "source": [
    "---"
   ]
  },
  {
   "cell_type": "markdown",
   "id": "ec470fc7-946f-494b-abcb-ed6a7478abe4",
   "metadata": {
    "slideshow": {
     "slide_type": "slide"
    }
   },
   "source": [
    "## Statistical Significance"
   ]
  },
  {
   "cell_type": "markdown",
   "id": "50713819-6b34-48b5-a56f-88ecbc887004",
   "metadata": {
    "slideshow": {
     "slide_type": "subslide"
    }
   },
   "source": [
    "### Tail Areas"
   ]
  },
  {
   "cell_type": "markdown",
   "id": "72c0ccdd-aa58-46b5-981e-b3a0388e989b",
   "metadata": {
    "slideshow": {
     "slide_type": "-"
    }
   },
   "source": [
    "<img src=\"./tail_areas.png\" alt=\"comparison of distributions\" width=80%>"
   ]
  },
  {
   "cell_type": "markdown",
   "id": "44859e15-6851-4655-93fb-dfad38190c92",
   "metadata": {
    "slideshow": {
     "slide_type": "subslide"
    }
   },
   "source": [
    "### Conventions About Inconsistency"
   ]
  },
  {
   "cell_type": "markdown",
   "id": "f552156b-792c-4a00-9db5-769c76dd9bb8",
   "metadata": {
    "slideshow": {
     "slide_type": "-"
    }
   },
   "source": [
    "* \"Inconsistent with the null\": The test statistic is in the tail of the empirical distribution under the null hypothesis\n",
    "* \"In the tail,\" first convention:\n",
    "    * The area in the tail is less than 5%\n",
    "    * The result is \"statistically significant\"\n",
    "* \"In the tail,\" second convention:\n",
    "    * The area in the tail is less than 1%\n",
    "    * The result is \"highly statistically significant\"\n"
   ]
  },
  {
   "cell_type": "markdown",
   "id": "f7d8c89c-b7fc-4cf2-bde3-797e37b3d778",
   "metadata": {
    "slideshow": {
     "slide_type": "subslide"
    }
   },
   "source": [
    "### Demo: Conventions About Inconsistency"
   ]
  },
  {
   "cell_type": "markdown",
   "id": "cf77fa27-1946-43b0-93e2-5e315cb2fc34",
   "metadata": {
    "deletable": false,
    "editable": false,
    "slideshow": {
     "slide_type": "notes"
    }
   },
   "source": [
    "Using the fact that 5% of 50,000 is 2500, identify the 2500th data value in the sorted (ascending) table of averages."
   ]
  },
  {
   "cell_type": "markdown",
   "id": "e70d62b1-e7e2-4467-bd77-c81ac1764a1e",
   "metadata": {
    "deletable": false,
    "editable": false,
    "slideshow": {
     "slide_type": "notes"
    }
   },
   "source": [
    "Visualize the distribution of sample averages along with a vertical line marking the 2500th data value."
   ]
  },
  {
   "cell_type": "code",
   "execution_count": null,
   "id": "b548576b-4207-4caa-b31b-cff432deaee0",
   "metadata": {
    "tags": []
   },
   "outputs": [],
   "source": [
    "0.05 * 50_000"
   ]
  },
  {
   "cell_type": "code",
   "execution_count": null,
   "id": "5c1f8edb-5b3a-4da9-893c-532705332211",
   "metadata": {
    "slideshow": {
     "slide_type": "-"
    },
    "tags": []
   },
   "outputs": [],
   "source": [
    "five_percent_point = averages_tbl.sort(0).column(0).item(2500)\n",
    "five_percent_point"
   ]
  },
  {
   "cell_type": "code",
   "execution_count": null,
   "id": "0696ca41-d675-410f-9569-7afdd3951bb1",
   "metadata": {
    "scrolled": true,
    "slideshow": {
     "slide_type": "subslide"
    },
    "tags": []
   },
   "outputs": [],
   "source": [
    "averages_tbl.hist(bins = 20)\n",
    "plt.plot([five_percent_point, five_percent_point], [0, 0.35], color='gold', lw=2)\n",
    "plt.title('Area to the left of the gold line: 5%');"
   ]
  },
  {
   "cell_type": "markdown",
   "id": "28c10bf2-a21e-4052-8427-338a5ae0286b",
   "metadata": {
    "slideshow": {
     "slide_type": "subslide"
    }
   },
   "source": [
    "### The P-Value as an Area"
   ]
  },
  {
   "cell_type": "code",
   "execution_count": null,
   "id": "cc8f384d-8a48-406e-ad24-d5b1e93079e8",
   "metadata": {
    "slideshow": {
     "slide_type": "subslide"
    }
   },
   "outputs": [],
   "source": [
    "averages_tbl.hist(bins = np.arange(10, 21, 0.5), right_end=five_percent_point)\n",
    "plt.plot([five_percent_point, five_percent_point], [0, 0.35], color='gold', lw=2)\n",
    "plt.scatter(observed_average, 0, color = 'red', s=60, zorder=3);"
   ]
  },
  {
   "cell_type": "markdown",
   "id": "6a818be4-b0ac-4793-be65-857f2e30acb7",
   "metadata": {
    "slideshow": {
     "slide_type": "fragment"
    }
   },
   "source": [
    "* Empirical distribution of the test statistic under the null hypothesis\n",
    "* The red dot is the observed statistic.\n",
    "* The P-value is represented by the shaded region of the histogram determined by the definition of the alternative hypothesis."
   ]
  },
  {
   "cell_type": "markdown",
   "id": "e16b6a24-300f-45d2-b775-9089ba9872d6",
   "metadata": {
    "slideshow": {
     "slide_type": "subslide"
    }
   },
   "source": [
    "### Definition of the P-value"
   ]
  },
  {
   "cell_type": "markdown",
   "id": "12cd4833-4c4e-41b5-a6d1-d4e0fb3ef1ad",
   "metadata": {
    "slideshow": {
     "slide_type": "-"
    }
   },
   "source": [
    "* The P-value is the chance, \n",
    "    * under the null hypothesis, \n",
    "    * that the test statistic \n",
    "    * is equal to the value that was observed in the data\n",
    "    * or is even further in the direction of the alternative.\n",
    "* Also known as the observed significance level\n"
   ]
  },
  {
   "cell_type": "markdown",
   "id": "a1c9ba91-631e-4f8d-8ca1-e4994f3fbbc6",
   "metadata": {
    "slideshow": {
     "slide_type": "-"
    }
   },
   "source": [
    "### Demo: Calculating the P-value"
   ]
  },
  {
   "cell_type": "markdown",
   "id": "424dad65-40f9-4282-a607-58ad9597226b",
   "metadata": {
    "deletable": false,
    "editable": false,
    "slideshow": {
     "slide_type": "notes"
    }
   },
   "source": [
    "Calculate the P-value using the distribution of simulated statistics."
   ]
  },
  {
   "cell_type": "code",
   "execution_count": null,
   "id": "5e4e00db-a5e0-4bc0-bf08-ff998d95c8f9",
   "metadata": {
    "slideshow": {
     "slide_type": "fragment"
    },
    "tags": []
   },
   "outputs": [],
   "source": [
    "averages_tbl"
   ]
  },
  {
   "cell_type": "code",
   "execution_count": null,
   "id": "506b3632-dfe2-439f-ab03-e2612c3ad26e",
   "metadata": {
    "tags": []
   },
   "outputs": [],
   "source": [
    "observed_average"
   ]
  },
  {
   "cell_type": "code",
   "execution_count": null,
   "id": "124e3096-df6e-4a73-b1dd-34a8b8c68c7d",
   "metadata": {
    "tags": []
   },
   "outputs": [],
   "source": [
    "p_value = ...\n",
    "p_value"
   ]
  },
  {
   "cell_type": "markdown",
   "id": "17e65405-1706-4aae-9b85-8fa0466d92bb",
   "metadata": {
    "slideshow": {
     "slide_type": "fragment"
    }
   },
   "source": [
    "---"
   ]
  },
  {
   "cell_type": "markdown",
   "id": "058683f8-37e4-4269-9821-68e288cd14e9",
   "metadata": {
    "slideshow": {
     "slide_type": "slide"
    }
   },
   "source": [
    "## How We’ve Tested Thus Far"
   ]
  },
  {
   "cell_type": "markdown",
   "id": "b0a909f7-7950-4bd9-baa1-f252f9cbd1a9",
   "metadata": {
    "slideshow": {
     "slide_type": "subslide"
    }
   },
   "source": [
    "### Hypothesis Testing Review"
   ]
  },
  {
   "cell_type": "markdown",
   "id": "50e0f438-e189-448c-ad87-95fadba37122",
   "metadata": {
    "slideshow": {
     "slide_type": "-"
    }
   },
   "source": [
    "* One Category (*ex: percent of flowers that are purple*)\n",
    "    * Test Statistic (1): `empirical_percentage`\n",
    "    * Test Statistic (2): `abs(empirical_percentage - null_percentage)`\n",
    "    * How to Simulate: sample_proportions(n, null_dist)\n",
    "* Multiple Categories (*ex: ethnicity distribution of jury panel*)\n",
    "    * Test Statistic: `tvd(empirical_dist, null_dist)`\n",
    "    * How to Simulate: `sample_proportions(n, null_dist)`\n",
    "* Numerical Data (*ex: scores in a lab section*)\n",
    "    * Test Statistic: `empirical_mean`\n",
    "    * How to Simulate: `population_data.sample(n, with_replacement=False)`"
   ]
  },
  {
   "cell_type": "markdown",
   "id": "8fafd78a-a619-46b7-bd77-a1f73586e29d",
   "metadata": {
    "slideshow": {
     "slide_type": "fragment"
    }
   },
   "source": [
    "---"
   ]
  },
  {
   "cell_type": "markdown",
   "id": "75607e75-d5ac-44d7-a9a8-ce05f44c531a",
   "metadata": {
    "slideshow": {
     "slide_type": "notes"
    }
   },
   "source": [
    "<footer>\n",
    "    <p>Adopted from UC Berkeley DATA 8 course materials.</p>\n",
    "    <p>This content is offered under a <a href=\"https://creativecommons.org/licenses/by-nc-sa/4.0/\">CC Attribution Non-Commercial Share Alike</a> license.</p>\n",
    "</footer>"
   ]
  }
 ],
 "metadata": {
  "kernelspec": {
   "display_name": "Python 3 (ipykernel)",
   "language": "python",
   "name": "python3"
  },
  "language_info": {
   "codemirror_mode": {
    "name": "ipython",
    "version": 3
   },
   "file_extension": ".py",
   "mimetype": "text/x-python",
   "name": "python",
   "nbconvert_exporter": "python",
   "pygments_lexer": "ipython3",
   "version": "3.10.12"
  },
  "otter": {
   "OK_FORMAT": true,
   "tests": {}
  }
 },
 "nbformat": 4,
 "nbformat_minor": 5
}
