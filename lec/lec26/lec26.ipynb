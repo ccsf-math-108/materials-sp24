{
 "cells": [
  {
   "cell_type": "markdown",
   "id": "f523bc76-e20c-43da-896f-4017a29facd4",
   "metadata": {
    "editable": true,
    "slideshow": {
     "slide_type": ""
    },
    "tags": []
   },
   "source": [
    "<div style=\"width: 38.5%;\">\n",
    "    <p><strong>City College of San Francisco</strong><p>\n",
    "    <hr>\n",
    "    <p>MATH 108 - Foundations of Data Science</p>\n",
    "</div>"
   ]
  },
  {
   "cell_type": "markdown",
   "id": "602bde14-0633-4c23-8629-a87831d7d807",
   "metadata": {
    "slideshow": {
     "slide_type": "-"
    }
   },
   "source": [
    "# Lecture 26: Center and Spread"
   ]
  },
  {
   "cell_type": "markdown",
   "id": "8e884230-8d2d-4819-aff0-1619c88a2ac9",
   "metadata": {
    "slideshow": {
     "slide_type": "-"
    }
   },
   "source": [
    "Associated Textbook Sections: [14.0 - 14.2](https://inferentialthinking.com/chapters/14/Why_the_Mean_Matters.html)"
   ]
  },
  {
   "cell_type": "markdown",
   "id": "04615d6d-0a0f-499e-adb2-81dbde7f05a1",
   "metadata": {},
   "source": [
    "---"
   ]
  },
  {
   "cell_type": "markdown",
   "id": "5a322ab6-280f-410f-b276-8dd1b087588b",
   "metadata": {
    "slideshow": {
     "slide_type": "slide"
    }
   },
   "source": [
    "## Outline"
   ]
  },
  {
   "cell_type": "markdown",
   "id": "a2e987d5-762c-4908-ab42-5731a9c0041f",
   "metadata": {},
   "source": [
    "* [Center and Spread](#Center-and-Spread)\n",
    "* [Average](#Average)\n",
    "* [Standard Deviation](#Standard-Deviation)\n",
    "* [Chebyshev's Inequality](#Chebyshev's-Inequality)\n",
    "* [Standard Units](#Standard-Units)"
   ]
  },
  {
   "cell_type": "markdown",
   "id": "6bcc30a9-b078-4d76-9902-f3aadc47e262",
   "metadata": {},
   "source": [
    "---"
   ]
  },
  {
   "cell_type": "markdown",
   "id": "4754d718-b934-4329-9d4a-4894681eabd5",
   "metadata": {
    "slideshow": {
     "slide_type": "slide"
    }
   },
   "source": [
    "## Set Up the Notebook"
   ]
  },
  {
   "cell_type": "code",
   "execution_count": null,
   "id": "d1ecfa43-e7c2-4022-9758-c41b783ccc62",
   "metadata": {
    "slideshow": {
     "slide_type": "-"
    }
   },
   "outputs": [],
   "source": [
    "from datascience import *\n",
    "import numpy as np\n",
    "%matplotlib inline\n",
    "import matplotlib.pyplot as plt\n",
    "plt.style.use('fivethirtyeight')"
   ]
  },
  {
   "cell_type": "markdown",
   "id": "32740cce-034c-4417-b55c-50e0168cb5cf",
   "metadata": {
    "slideshow": {
     "slide_type": "fragment"
    }
   },
   "source": [
    "---"
   ]
  },
  {
   "cell_type": "markdown",
   "id": "2b62c189-10a4-4395-b148-6f6cce1b5169",
   "metadata": {
    "slideshow": {
     "slide_type": "slide"
    }
   },
   "source": [
    "## Center and Spread"
   ]
  },
  {
   "cell_type": "markdown",
   "id": "a770a6c0-7b87-4f2e-bf94-d5b8791dc7f5",
   "metadata": {},
   "source": [
    "---"
   ]
  },
  {
   "cell_type": "markdown",
   "id": "bda5027c-55f4-4204-846a-9728de88f217",
   "metadata": {
    "slideshow": {
     "slide_type": "subslide"
    }
   },
   "source": [
    "### Topic Motivation"
   ]
  },
  {
   "cell_type": "markdown",
   "id": "440fb2be-d15b-4b80-a0da-a15c8e92b594",
   "metadata": {
    "slideshow": {
     "slide_type": "-"
    }
   },
   "source": [
    "* How can we quantify natural concepts like \"center\" and \"variability\"?\n",
    "* Why do many of the empirical distributions that we generate come out bell shaped?\n",
    "* How is sample size related to the accuracy of an estimate?"
   ]
  },
  {
   "cell_type": "markdown",
   "id": "17f286c7-7a2c-4510-8629-01782a7c3c43",
   "metadata": {
    "slideshow": {
     "slide_type": "fragment"
    }
   },
   "source": [
    "---"
   ]
  },
  {
   "cell_type": "markdown",
   "id": "15d49eb8-4cc3-4a5c-8723-c27256a3d16b",
   "metadata": {
    "slideshow": {
     "slide_type": "slide"
    }
   },
   "source": [
    "## Average"
   ]
  },
  {
   "cell_type": "markdown",
   "id": "1239f785-c9b4-4d06-ae8b-dd5925d0a6ad",
   "metadata": {},
   "source": [
    "---"
   ]
  },
  {
   "cell_type": "markdown",
   "id": "5638b7bb-20d5-48ed-a969-1da30da56777",
   "metadata": {
    "slideshow": {
     "slide_type": "subslide"
    }
   },
   "source": [
    "### The Average (or Mean)"
   ]
  },
  {
   "cell_type": "markdown",
   "id": "2bb677b0-68c3-4afb-b053-7ca2119c59b4",
   "metadata": {
    "slideshow": {
     "slide_type": "-"
    }
   },
   "source": [
    "* Example\n",
    "    * Data: 2, 3, 3, 9    \n",
    "    * The average of 4.25 is calculated as $\\frac{2+3+3+9}{4}$\n",
    "* Need not be a value in the collection\n",
    "* Need not be an integer even if the data are integers\n",
    "* Somewhere between min and max, but not necessarily halfway in between\n",
    "* Same units as the data\n",
    "* Smoothing operator: collect all the contributions in one big pot, then split evenly"
   ]
  },
  {
   "cell_type": "markdown",
   "id": "734bdfa8-e7d2-4798-9017-12f36e47e600",
   "metadata": {},
   "source": [
    "---"
   ]
  },
  {
   "cell_type": "markdown",
   "id": "d27cbafd-06cd-424b-b975-3b4958f5ec24",
   "metadata": {
    "slideshow": {
     "slide_type": "subslide"
    }
   },
   "source": [
    "### Demo: Average (Mean)"
   ]
  },
  {
   "cell_type": "markdown",
   "id": "ea498671-6e9f-4c23-a83c-1016e78a4f9c",
   "metadata": {
    "deletable": false,
    "editable": false,
    "slideshow": {
     "slide_type": "notes"
    }
   },
   "source": [
    "Explore various ways to calculate and interpret the average."
   ]
  },
  {
   "cell_type": "code",
   "execution_count": null,
   "id": "872bfebe-f617-4b5e-ae0d-470047a0211c",
   "metadata": {
    "slideshow": {
     "slide_type": "-"
    },
    "tags": []
   },
   "outputs": [],
   "source": [
    "values = make_array(2, 3, 3, 9)"
   ]
  },
  {
   "cell_type": "code",
   "execution_count": null,
   "id": "fd879e8e-4cc2-4a9c-a089-a322595dcabb",
   "metadata": {
    "slideshow": {
     "slide_type": "fragment"
    },
    "tags": []
   },
   "outputs": [],
   "source": [
    "np.average(values)"
   ]
  },
  {
   "cell_type": "code",
   "execution_count": null,
   "id": "b907bc5c-d5e4-43d5-bd47-4d7c10d74ef4",
   "metadata": {
    "slideshow": {
     "slide_type": "fragment"
    },
    "tags": []
   },
   "outputs": [],
   "source": [
    "np.mean(values)"
   ]
  },
  {
   "cell_type": "code",
   "execution_count": null,
   "id": "a4904941-561a-4d45-963d-d8f45c66222f",
   "metadata": {
    "slideshow": {
     "slide_type": "fragment"
    },
    "tags": []
   },
   "outputs": [],
   "source": [
    "sum(values) / len(values)"
   ]
  },
  {
   "cell_type": "code",
   "execution_count": null,
   "id": "99c41f07-0cb6-4fb7-b19d-2d1dd90457e0",
   "metadata": {
    "slideshow": {
     "slide_type": "subslide"
    },
    "tags": []
   },
   "outputs": [],
   "source": [
    "(2 + 3 + 3 + 9) / 4"
   ]
  },
  {
   "cell_type": "code",
   "execution_count": null,
   "id": "dcd5b61e-9f77-490c-b035-bc31d5002169",
   "metadata": {
    "slideshow": {
     "slide_type": "fragment"
    },
    "tags": []
   },
   "outputs": [],
   "source": [
    "..."
   ]
  },
  {
   "cell_type": "markdown",
   "id": "86a4c59b-be0e-4419-a804-5b38894a6a2b",
   "metadata": {},
   "source": [
    "---"
   ]
  },
  {
   "cell_type": "markdown",
   "id": "ef6c7c97-2ee0-4c18-8aee-6d4be114a706",
   "metadata": {
    "deletable": false,
    "editable": false,
    "slideshow": {
     "slide_type": "notes"
    }
   },
   "source": [
    "Notice how the average reflects a physical balancing point for the data visualized through a histogram."
   ]
  },
  {
   "cell_type": "code",
   "execution_count": null,
   "id": "0b338735-2547-4ddc-8133-1b946d3e2b68",
   "metadata": {
    "slideshow": {
     "slide_type": "subslide"
    },
    "tags": []
   },
   "outputs": [],
   "source": [
    "values_table = Table().with_columns('value', values)\n",
    "values_table"
   ]
  },
  {
   "cell_type": "code",
   "execution_count": null,
   "id": "a9f9e092-40fb-428a-943e-c435b10db1aa",
   "metadata": {
    "slideshow": {
     "slide_type": "fragment"
    },
    "tags": []
   },
   "outputs": [],
   "source": [
    "bins_for_display = np.arange(0.5, 10.6, 1)\n",
    "values_table.hist(0, bins = bins_for_display)"
   ]
  },
  {
   "cell_type": "code",
   "execution_count": null,
   "id": "6c6bac0d-9f91-4c09-9074-c1aa5be7e596",
   "metadata": {
    "slideshow": {
     "slide_type": "subslide"
    },
    "tags": []
   },
   "outputs": [],
   "source": [
    "..."
   ]
  },
  {
   "cell_type": "code",
   "execution_count": null,
   "id": "5bdcf8bf-2c7c-4131-82fb-a41f9403947d",
   "metadata": {
    "slideshow": {
     "slide_type": "subslide"
    },
    "tags": []
   },
   "outputs": [],
   "source": [
    "new_vals = make_array(2, 2, 2, 2, 2, 2, 2, 2, 2, 2,\n",
    "                      3, 3, 3, 3, 3, 3, 3, 3, 3, 3, 3, 3, 3, 3, 3, 3, 3, 3, 3, 3,\n",
    "                      9, 9, 9, 9, 9, 9, 9, 9, 9, 9)"
   ]
  },
  {
   "cell_type": "code",
   "execution_count": null,
   "id": "48514b37-d2b2-4935-997f-481b8cca6295",
   "metadata": {
    "slideshow": {
     "slide_type": "fragment"
    },
    "tags": []
   },
   "outputs": [],
   "source": [
    "Table().with_column('value', new_vals).hist(bins = bins_for_display)"
   ]
  },
  {
   "cell_type": "code",
   "execution_count": null,
   "id": "36082135-926c-4699-99a9-c2a60210fa7c",
   "metadata": {
    "slideshow": {
     "slide_type": "fragment"
    },
    "tags": []
   },
   "outputs": [],
   "source": [
    "..."
   ]
  },
  {
   "cell_type": "markdown",
   "id": "78c0f1d5-666f-4066-bd1f-871e1bd6c830",
   "metadata": {},
   "source": [
    "---"
   ]
  },
  {
   "cell_type": "markdown",
   "id": "27e9e8e4-6832-4fe2-b89c-690914855f23",
   "metadata": {
    "slideshow": {
     "slide_type": "subslide"
    }
   },
   "source": [
    "### Reflection"
   ]
  },
  {
   "cell_type": "markdown",
   "id": "55d052bb-5205-40f6-8303-888db50ee227",
   "metadata": {
    "slideshow": {
     "slide_type": "-"
    }
   },
   "source": [
    "<img src=\"./histograms.png\" width = 80%>\n",
    "\n",
    "* Are the medians of these two distributions the same or different? \n",
    "* Are the means the same or different? \n",
    "* If you say \"different,\" then say which one is bigger."
   ]
  },
  {
   "cell_type": "markdown",
   "id": "ea2df40f-da5b-4f1e-b98f-c47049707ff8",
   "metadata": {},
   "source": [
    "---"
   ]
  },
  {
   "cell_type": "markdown",
   "id": "dede06eb-de49-4288-83ae-b01072a0ece5",
   "metadata": {
    "slideshow": {
     "slide_type": "subslide"
    }
   },
   "source": [
    "### Comparing Mean and Median "
   ]
  },
  {
   "cell_type": "markdown",
   "id": "c7dd1b2c-88db-49f5-9fef-fbd5b98f0f42",
   "metadata": {
    "slideshow": {
     "slide_type": "-"
    }
   },
   "source": [
    "* Mean: Balance point of the histogram\n",
    "* Median: Half-way point of data; half the area of histogram is on either side of median\n",
    "* If the distribution is symmetric about a value, then that value is both the average and the median.\n",
    "* If the histogram is skewed, then the mean is pulled away from the median in the direction of the tail."
   ]
  },
  {
   "cell_type": "markdown",
   "id": "03d0c4f4-f4e1-4e9d-9fd2-86ba9caf4b70",
   "metadata": {},
   "source": [
    "---"
   ]
  },
  {
   "cell_type": "markdown",
   "id": "aa9ecf0c-ad6b-42e6-a7be-78d9c696a193",
   "metadata": {
    "slideshow": {
     "slide_type": "subslide"
    }
   },
   "source": [
    "### Reflection"
   ]
  },
  {
   "cell_type": "markdown",
   "id": "06dee758-ba44-4607-a14e-8a00db4cc684",
   "metadata": {
    "slideshow": {
     "slide_type": "-"
    }
   },
   "source": [
    "<img src=\"./nba.png\" width = 50%>\n",
    "\n",
    "Is the mean or median larger for the distribution of NBA player heights?"
   ]
  },
  {
   "cell_type": "markdown",
   "id": "b0dc9018-c503-4658-a7f5-79ec18e0b758",
   "metadata": {},
   "source": [
    "---"
   ]
  },
  {
   "cell_type": "markdown",
   "id": "2db8ef7b-cf8d-434e-a7fa-2207c0db8e93",
   "metadata": {
    "slideshow": {
     "slide_type": "slide"
    }
   },
   "source": [
    "## Standard Deviation"
   ]
  },
  {
   "cell_type": "markdown",
   "id": "152140ac-a28b-46dd-9ac1-3d7f5c1b7e59",
   "metadata": {},
   "source": [
    "---"
   ]
  },
  {
   "cell_type": "markdown",
   "id": "284a0271-f58e-48dd-9ce7-935e84fb5d32",
   "metadata": {
    "slideshow": {
     "slide_type": "subslide"
    }
   },
   "source": [
    "### Defining Variability"
   ]
  },
  {
   "cell_type": "markdown",
   "id": "5a1d0e40-e6a7-4627-a6af-a99905ab148a",
   "metadata": {
    "slideshow": {
     "slide_type": "-"
    }
   },
   "source": [
    "* Plan A: “biggest value - smallest value”\n",
    "    * Doesn’t tell us much about the shape of the distribution\n",
    "* Plan B:\n",
    "    * Measure variability around the mean\n",
    "    * Need to figure out a way to quantify this\n"
   ]
  },
  {
   "cell_type": "markdown",
   "id": "b40e99da-142b-4269-ba44-9eb555574bc0",
   "metadata": {},
   "source": [
    "---"
   ]
  },
  {
   "cell_type": "markdown",
   "id": "341e57a2-0fd0-485b-abd6-4e62f899a856",
   "metadata": {
    "slideshow": {
     "slide_type": "subslide"
    }
   },
   "source": [
    "### Demo: Standard Deviation"
   ]
  },
  {
   "cell_type": "markdown",
   "id": "34508d5c-f986-4b1e-8f1b-9ba95f5ac57e",
   "metadata": {
    "deletable": false,
    "editable": false,
    "slideshow": {
     "slide_type": "notes"
    }
   },
   "source": [
    "Develop the standard deviation formula."
   ]
  },
  {
   "cell_type": "code",
   "execution_count": null,
   "id": "85d0ecb7-f85a-4aa0-8be8-86ffe714fb50",
   "metadata": {
    "tags": []
   },
   "outputs": [],
   "source": [
    "values = make_array(2, 3, 3, 9)"
   ]
  },
  {
   "cell_type": "code",
   "execution_count": null,
   "id": "d4050050-eee9-430c-b15b-cfb30112b408",
   "metadata": {
    "slideshow": {
     "slide_type": "fragment"
    },
    "tags": []
   },
   "outputs": [],
   "source": [
    "sd_table = Table().with_columns('Value', values)\n",
    "sd_table"
   ]
  },
  {
   "cell_type": "code",
   "execution_count": null,
   "id": "a3b0f7b7-72a6-48ce-8bf2-2cefa5ab0a3a",
   "metadata": {
    "slideshow": {
     "slide_type": "fragment"
    },
    "tags": []
   },
   "outputs": [],
   "source": [
    "average_value = ...\n",
    "average_value"
   ]
  },
  {
   "cell_type": "code",
   "execution_count": null,
   "id": "f18fbbb4-eaea-4daa-b29d-52e58c3c5e2d",
   "metadata": {
    "slideshow": {
     "slide_type": "subslide"
    },
    "tags": []
   },
   "outputs": [],
   "source": [
    "deviations = ...\n",
    "sd_table = sd_table.with_column('Deviation', deviations)\n",
    "sd_table"
   ]
  },
  {
   "cell_type": "code",
   "execution_count": null,
   "id": "f285d053-220b-4421-80a4-c20eea239990",
   "metadata": {
    "slideshow": {
     "slide_type": "fragment"
    },
    "tags": []
   },
   "outputs": [],
   "source": [
    "..."
   ]
  },
  {
   "cell_type": "code",
   "execution_count": null,
   "id": "3ed368e5-b713-4938-b15c-b2dbf63819e8",
   "metadata": {
    "slideshow": {
     "slide_type": "subslide"
    },
    "tags": []
   },
   "outputs": [],
   "source": [
    "sd_table = ...\n",
    "sd_table"
   ]
  },
  {
   "cell_type": "code",
   "execution_count": null,
   "id": "fbaf3104-ce83-4c25-9dbe-0f64cfa738d7",
   "metadata": {
    "slideshow": {
     "slide_type": "subslide"
    },
    "tags": []
   },
   "outputs": [],
   "source": [
    "variance = ...\n",
    "variance"
   ]
  },
  {
   "cell_type": "code",
   "execution_count": null,
   "id": "e94dcd69-d580-497a-ae58-d50821c54453",
   "metadata": {
    "slideshow": {
     "slide_type": "subslide"
    },
    "tags": []
   },
   "outputs": [],
   "source": [
    "sd = ...\n",
    "sd"
   ]
  },
  {
   "cell_type": "code",
   "execution_count": null,
   "id": "0fe7cf17-1090-45fb-897d-477a3d94810e",
   "metadata": {
    "slideshow": {
     "slide_type": "fragment"
    },
    "tags": []
   },
   "outputs": [],
   "source": [
    "..."
   ]
  },
  {
   "cell_type": "markdown",
   "id": "27f2b093-8832-4cbd-bde2-4dcd798693b9",
   "metadata": {},
   "source": [
    "---"
   ]
  },
  {
   "cell_type": "markdown",
   "id": "e5b0fdf1-f79d-4d54-972c-fda9f52f5167",
   "metadata": {
    "slideshow": {
     "slide_type": "subslide"
    }
   },
   "source": [
    "### How Far from the Average?"
   ]
  },
  {
   "cell_type": "markdown",
   "id": "6ff28d24-3506-4e74-bc45-665566ea2643",
   "metadata": {
    "slideshow": {
     "slide_type": "-"
    }
   },
   "source": [
    "* Standard deviation (SD) measures roughly how far the data are from their average\n",
    "* SD = root mean square of deviations from average\n",
    "* SD has the same units as the data"
   ]
  },
  {
   "cell_type": "markdown",
   "id": "5afd7e6a-38e2-47c2-b737-406eb1c92516",
   "metadata": {},
   "source": [
    "---"
   ]
  },
  {
   "cell_type": "markdown",
   "id": "41956202-5033-4717-835c-7be19c563d6e",
   "metadata": {
    "slideshow": {
     "slide_type": "subslide"
    }
   },
   "source": [
    "### Why Use the SD?"
   ]
  },
  {
   "cell_type": "markdown",
   "id": "ff4f47c4-fbbc-44f5-bbb1-b10325d26b20",
   "metadata": {
    "slideshow": {
     "slide_type": "-"
    }
   },
   "source": [
    "There are two main reasons for us.\n",
    "\n",
    "1. No matter what the shape of the distribution, the bulk of the data are in the range \"average ± a few SDs\" (Chebyshev's Inequality)\n",
    "2. ... coming up in a future lecture."
   ]
  },
  {
   "cell_type": "markdown",
   "id": "a8d6979a-714b-4eee-94ab-05b123eef082",
   "metadata": {
    "slideshow": {
     "slide_type": "fragment"
    }
   },
   "source": [
    "---"
   ]
  },
  {
   "cell_type": "markdown",
   "id": "31c6edcb-a5f9-45d8-82bf-333076156814",
   "metadata": {
    "slideshow": {
     "slide_type": "slide"
    }
   },
   "source": [
    "## Chebyshev's Inequality"
   ]
  },
  {
   "cell_type": "markdown",
   "id": "4f87230d-8bdb-4a8a-9844-da13292ec847",
   "metadata": {},
   "source": [
    "---"
   ]
  },
  {
   "cell_type": "markdown",
   "id": "fcd30697-c98f-4b54-b915-0e85257a0fda",
   "metadata": {
    "slideshow": {
     "slide_type": "subslide"
    }
   },
   "source": [
    "### How Big are Most of the Values?"
   ]
  },
  {
   "cell_type": "markdown",
   "id": "98ccea8e-96f9-432c-ab3f-24f22da62621",
   "metadata": {
    "slideshow": {
     "slide_type": "-"
    }
   },
   "source": [
    "* No matter what the shape of the distribution, the bulk of the data are in the range \"average ± a few SDs\"\n",
    "* Chebyshev’s Inequality\n",
    "    * No matter what the shape of the distribution, the proportion of values in the range \"average ± $z$ SDs\" is at least $1 - 1/z^2$\n",
    "\n"
   ]
  },
  {
   "cell_type": "markdown",
   "id": "dc0213bd-cd05-4cbf-b267-30ed77bfe86f",
   "metadata": {},
   "source": [
    "---"
   ]
  },
  {
   "cell_type": "markdown",
   "id": "15be9808-6049-427f-aebe-2f2b015d6700",
   "metadata": {
    "slideshow": {
     "slide_type": "subslide"
    }
   },
   "source": [
    "### Chebyshev's Bounds\n"
   ]
  },
  {
   "cell_type": "markdown",
   "id": "fc4fcb02-3e36-4d29-8164-be3f956d7bd4",
   "metadata": {
    "slideshow": {
     "slide_type": "-"
    }
   },
   "source": [
    "No matter what the distribution looks like, the proportion of data values follows:\n",
    "\n",
    "<img src=\"./cheby_bounds.png\" width=50%>"
   ]
  },
  {
   "cell_type": "markdown",
   "id": "f3ade7e9-fce0-40ce-b65d-8569f3bce1aa",
   "metadata": {},
   "source": [
    "---"
   ]
  },
  {
   "cell_type": "markdown",
   "id": "4ee6429a-6e4d-471f-bb08-4a662f51155a",
   "metadata": {
    "slideshow": {
     "slide_type": "subslide"
    }
   },
   "source": [
    "### Demo: Chebyshev's Bound"
   ]
  },
  {
   "cell_type": "markdown",
   "id": "30121ce6-3670-4f89-a404-f1fb8ec44cb3",
   "metadata": {
    "deletable": false,
    "editable": false,
    "slideshow": {
     "slide_type": "notes"
    }
   },
   "source": [
    "Demonstrate Chebyshev's bounds through a data set."
   ]
  },
  {
   "cell_type": "code",
   "execution_count": null,
   "id": "c59b362d-c01d-4e84-b0ff-3a76b6cf79bb",
   "metadata": {
    "tags": []
   },
   "outputs": [],
   "source": [
    "births = Table.read_table('baby.csv')\n",
    "births.show(3)"
   ]
  },
  {
   "cell_type": "code",
   "execution_count": null,
   "id": "b14787b1-8040-4bb0-90c9-c7f325c3560b",
   "metadata": {
    "tags": []
   },
   "outputs": [],
   "source": [
    "# [:-1] excludes the last column label\n",
    "numerical_labels = births.labels[:-1]\n",
    "numerical_labels"
   ]
  },
  {
   "cell_type": "code",
   "execution_count": null,
   "id": "ac94d52e-3228-45b0-8901-e09e1ead457b",
   "metadata": {
    "slideshow": {
     "slide_type": "subslide"
    },
    "tags": []
   },
   "outputs": [],
   "source": [
    "for column_label in numerical_labels: \n",
    "    births.hist(column_label)"
   ]
  },
  {
   "cell_type": "code",
   "execution_count": null,
   "id": "399fd042-939b-4499-b7f6-65f972baf82f",
   "metadata": {
    "slideshow": {
     "slide_type": "subslide"
    },
    "tags": []
   },
   "outputs": [],
   "source": [
    "# Maternal Pregnancy Weight\n",
    "mpw = ...\n",
    "mean = ...\n",
    "sd = ...\n",
    "print(f'The mean maternal pregnancy weight is {mean:.2f} kgs and the standard deviation for those weights is {sd:.2f} kgs.')"
   ]
  },
  {
   "cell_type": "code",
   "execution_count": null,
   "id": "5f553197-720b-4dc1-be4a-f44479330471",
   "metadata": {
    "slideshow": {
     "slide_type": "subslide"
    },
    "tags": []
   },
   "outputs": [],
   "source": [
    "within_3_SDs = ..."
   ]
  },
  {
   "cell_type": "code",
   "execution_count": null,
   "id": "a2678566-41d1-44b7-a5c5-8b06402d81a2",
   "metadata": {
    "slideshow": {
     "slide_type": "fragment"
    },
    "tags": []
   },
   "outputs": [],
   "source": [
    "# Proportion within 3 SDs of the mean\n",
    "actual_prop_3SD = ...\n",
    "actual_prop_3SD"
   ]
  },
  {
   "cell_type": "code",
   "execution_count": null,
   "id": "8faf0c92-6e4b-4a5e-83bc-2c5c46a5fb4f",
   "metadata": {
    "slideshow": {
     "slide_type": "fragment"
    },
    "tags": []
   },
   "outputs": [],
   "source": [
    "# Chebyshev's bound: The proportion we calculated above should be at least\n",
    "chebyshev_prop_3SD = 1 - 1/(3**2)\n",
    "chebyshev_prop_3SD"
   ]
  },
  {
   "cell_type": "code",
   "execution_count": null,
   "id": "00a76d29-737e-4bf3-a3f4-471f5a2152b7",
   "metadata": {
    "tags": []
   },
   "outputs": [],
   "source": [
    "# Interpreting \"at least ...\"\n",
    "actual_prop_3SD >= chebyshev_prop_3SD"
   ]
  },
  {
   "cell_type": "code",
   "execution_count": null,
   "id": "ea61bd26-5bf3-4541-98ae-dd5fc2e2b828",
   "metadata": {
    "slideshow": {
     "slide_type": "fragment"
    },
    "tags": []
   },
   "outputs": [],
   "source": [
    "for feature in numerical_labels:\n",
    "    values = births.column(feature)\n",
    "    mean = np.mean(values)\n",
    "    sd = np.std(values)\n",
    "    print()\n",
    "    print(feature)\n",
    "    for z in make_array(2, 3, 4, 5):\n",
    "        chosen = births.where(feature, are.between(mean - z*sd, mean + z*sd))\n",
    "        proportion = chosen.num_rows / births.num_rows\n",
    "        percent = round(proportion * 100, 2)\n",
    "        print('Average plus or minus', z, 'SDs:', percent, '% of the data')"
   ]
  },
  {
   "cell_type": "markdown",
   "id": "a16d4e14-9754-4364-849c-2c8c5520d4dc",
   "metadata": {},
   "source": [
    "---"
   ]
  },
  {
   "cell_type": "markdown",
   "id": "674f6947-018e-4639-bd13-e9c8fea47ccd",
   "metadata": {
    "slideshow": {
     "slide_type": "slide"
    }
   },
   "source": [
    "## Standard Units"
   ]
  },
  {
   "cell_type": "markdown",
   "id": "52c4cfaf-2e98-4379-9164-f9f852a05645",
   "metadata": {},
   "source": [
    "---"
   ]
  },
  {
   "cell_type": "markdown",
   "id": "9b151f44-f25a-461c-aea8-6529c8ff03e2",
   "metadata": {
    "slideshow": {
     "slide_type": "subslide"
    }
   },
   "source": [
    "### Standard Units"
   ]
  },
  {
   "cell_type": "markdown",
   "id": "9a62a733-c469-4a75-8db7-079cee7c98be",
   "metadata": {
    "slideshow": {
     "slide_type": "-"
    }
   },
   "source": [
    "* How many SDs above average?\n",
    "* `z = (value - average)/SD`\n",
    "    * Negative z: value below average\n",
    "    * Positive z: value above average\n",
    "    * z = 0: value equal to average\n",
    "* When values are in standard units: average = 0, SD = 1\n",
    "* Gives us a way to compare/understand data no matter what the original units\n"
   ]
  },
  {
   "cell_type": "markdown",
   "id": "f4447efa-d59f-4037-aa02-dd0b80ce1f6b",
   "metadata": {},
   "source": [
    "---"
   ]
  },
  {
   "cell_type": "markdown",
   "id": "b106c7da-58dd-4df6-96f4-b22a48c8993a",
   "metadata": {
    "slideshow": {
     "slide_type": "subslide"
    }
   },
   "source": [
    "### Demo: Standard Units"
   ]
  },
  {
   "cell_type": "markdown",
   "id": "c9790df0-7ad7-4760-8c4c-5a2f7f0b8249",
   "metadata": {
    "deletable": false,
    "editable": false,
    "slideshow": {
     "slide_type": "notes"
    }
   },
   "source": [
    "Create a function to convert a measurement to standard units and apply it to the previous data set."
   ]
  },
  {
   "cell_type": "code",
   "execution_count": null,
   "id": "df02e9d6-9932-44e6-b758-01e3b48850f8",
   "metadata": {
    "slideshow": {
     "slide_type": "subslide"
    },
    "tags": []
   },
   "outputs": [],
   "source": [
    "def standard_units(x):\n",
    "    \"\"\"Convert array x to standard units.\"\"\"\n",
    "    ..."
   ]
  },
  {
   "cell_type": "code",
   "execution_count": null,
   "id": "ac76d4bd-3e46-488b-b9d3-d493adfac872",
   "metadata": {
    "slideshow": {
     "slide_type": "subslide"
    },
    "tags": []
   },
   "outputs": [],
   "source": [
    "ages = births.column('Maternal Age')"
   ]
  },
  {
   "cell_type": "code",
   "execution_count": null,
   "id": "5abbdd93-dd9b-496b-aa38-135aea065d4f",
   "metadata": {
    "slideshow": {
     "slide_type": "subslide"
    },
    "tags": []
   },
   "outputs": [],
   "source": [
    "np.mean(ages), np.std(ages)"
   ]
  },
  {
   "cell_type": "code",
   "execution_count": null,
   "id": "a59d2f15-6f34-4a7e-8a14-3f5916966d06",
   "metadata": {
    "slideshow": {
     "slide_type": "fragment"
    },
    "tags": []
   },
   "outputs": [],
   "source": [
    "ages_standard_units = ..."
   ]
  },
  {
   "cell_type": "code",
   "execution_count": null,
   "id": "b0a623ec-7e03-4ef5-a750-4235b629d2b8",
   "metadata": {
    "slideshow": {
     "slide_type": "fragment"
    },
    "tags": []
   },
   "outputs": [],
   "source": [
    "np.mean(ages_standard_units), np.std(ages_standard_units)"
   ]
  },
  {
   "cell_type": "code",
   "execution_count": null,
   "id": "aeb9117e-ba75-4f83-bf89-f403748925b5",
   "metadata": {
    "slideshow": {
     "slide_type": "subslide"
    },
    "tags": []
   },
   "outputs": [],
   "source": [
    "both = Table().with_columns(\n",
    "    'Age in Years', ages,\n",
    "    'Age in Standard Units', ages_standard_units\n",
    ")\n",
    "both"
   ]
  },
  {
   "cell_type": "code",
   "execution_count": null,
   "id": "6e5e7431-9ca9-4e56-8eaa-179c07726fe6",
   "metadata": {
    "slideshow": {
     "slide_type": "subslide"
    },
    "tags": []
   },
   "outputs": [],
   "source": [
    "both.hist('Age in Years', bins = np.arange(15, 46, 2))\n",
    "plt.show()"
   ]
  },
  {
   "cell_type": "code",
   "execution_count": null,
   "id": "f75943a8-2538-4bbe-9d60-1df7bed6df7d",
   "metadata": {
    "slideshow": {
     "slide_type": "subslide"
    },
    "tags": []
   },
   "outputs": [],
   "source": [
    "both.hist('Age in Standard Units', bins = np.arange(-2.2, 3.4, 0.35))\n",
    "plt.xlim(-2, 3.1)\n",
    "plt.show()"
   ]
  },
  {
   "cell_type": "markdown",
   "id": "7698f50b-ac09-4347-bee2-e953315913de",
   "metadata": {},
   "source": [
    "---"
   ]
  },
  {
   "cell_type": "markdown",
   "id": "03fd70cd-0cd7-475f-a710-703c3925e271",
   "metadata": {
    "slideshow": {
     "slide_type": "subslide"
    }
   },
   "source": [
    "### The SD and the Histogram"
   ]
  },
  {
   "cell_type": "markdown",
   "id": "973a66a6-6bae-49e4-ad3c-c1957d88131a",
   "metadata": {
    "slideshow": {
     "slide_type": "-"
    }
   },
   "source": [
    "* Usually, it's not easy to estimate the SD by looking at a histogram.\n",
    "* But if the histogram has a bell shape, then you can.\n"
   ]
  },
  {
   "cell_type": "markdown",
   "id": "d5227558-056b-42f4-8953-2bb2d64d0792",
   "metadata": {},
   "source": [
    "---"
   ]
  },
  {
   "cell_type": "markdown",
   "id": "a2a23b5d-f574-47d6-a8ae-f27583b0e687",
   "metadata": {
    "slideshow": {
     "slide_type": "subslide"
    }
   },
   "source": [
    "### The SD and Bell-Shaped Curves"
   ]
  },
  {
   "cell_type": "markdown",
   "id": "89759350-809b-4a24-b35a-d6bc58527293",
   "metadata": {
    "slideshow": {
     "slide_type": "-"
    }
   },
   "source": [
    "If a histogram is bell-shaped, then\n",
    "* the average is at the center\n",
    "* the SD is the distance between the average and the points of inflection on either side\n"
   ]
  },
  {
   "cell_type": "markdown",
   "id": "b00b98be-5dc6-4b7d-ab90-86360661e1cc",
   "metadata": {},
   "source": [
    "---"
   ]
  },
  {
   "cell_type": "markdown",
   "id": "48b4c6c4-a672-489d-a237-b7477400972b",
   "metadata": {
    "slideshow": {
     "slide_type": "subslide"
    }
   },
   "source": [
    "### Demo: The SD and Bell Shaped Curves"
   ]
  },
  {
   "cell_type": "markdown",
   "id": "85df8d74-be6d-46ff-88f6-fb86d2468eba",
   "metadata": {
    "deletable": false,
    "editable": false,
    "slideshow": {
     "slide_type": "notes"
    }
   },
   "source": [
    "Notice the way the distribution changes around $\\pm 1$ of the mean."
   ]
  },
  {
   "cell_type": "code",
   "execution_count": null,
   "id": "dcd6f480-220d-4f9d-8d55-13cf31bcef9b",
   "metadata": {
    "slideshow": {
     "slide_type": "-"
    },
    "tags": []
   },
   "outputs": [],
   "source": [
    "births.hist('Maternal Height', bins = np.arange(56.5, 72.6, 1))"
   ]
  },
  {
   "cell_type": "code",
   "execution_count": null,
   "id": "b9a10935-fb50-4657-9ae0-7572d58b1e7e",
   "metadata": {
    "slideshow": {
     "slide_type": "fragment"
    },
    "tags": []
   },
   "outputs": [],
   "source": [
    "heights = births.column('Maternal Height')\n",
    "np.mean(heights), np.std(heights)"
   ]
  },
  {
   "cell_type": "code",
   "execution_count": null,
   "id": "9d914fe4-2711-4fc3-b4e6-c0688b609bef",
   "metadata": {
    "slideshow": {
     "slide_type": "fragment"
    },
    "tags": []
   },
   "outputs": [],
   "source": [
    "one_SD_above_mean = ...\n",
    "one_SD_below_mean = ...\n",
    "one_SD_above_mean, one_SD_below_mean"
   ]
  },
  {
   "cell_type": "markdown",
   "id": "afaad9ad-2c4d-4609-9b60-35ab639d6987",
   "metadata": {},
   "source": [
    "---"
   ]
  },
  {
   "cell_type": "markdown",
   "id": "3e920c25-1a84-4862-8224-be79af287d4b",
   "metadata": {
    "slideshow": {
     "slide_type": "subslide"
    }
   },
   "source": [
    "### Point of Inflection"
   ]
  },
  {
   "cell_type": "markdown",
   "id": "66ca4c3c-ec8b-49e0-b513-a1e6de882940",
   "metadata": {
    "slideshow": {
     "slide_type": "-"
    }
   },
   "source": [
    "<img src=\"./inflection_points.png\" width =50%>"
   ]
  },
  {
   "cell_type": "markdown",
   "id": "4f734c96-c16b-4927-a10f-b642770e2bfd",
   "metadata": {},
   "source": [
    "The curvature of shape of the histogram changes at one standard deviation below the mean and one standard deviation above the mean."
   ]
  },
  {
   "cell_type": "markdown",
   "id": "bdb677ff-2d6e-4e5d-8b2c-d2eb8fde287d",
   "metadata": {
    "slideshow": {
     "slide_type": "fragment"
    }
   },
   "source": [
    "---"
   ]
  },
  {
   "cell_type": "markdown",
   "id": "65640172-1b12-4b3a-b471-be6472a84cf4",
   "metadata": {
    "slideshow": {
     "slide_type": "notes"
    }
   },
   "source": [
    "<footer>\n",
    "    <p>Adopted from UC Berkeley DATA 8 course materials.</p>\n",
    "    <p>This content is offered under a <a href=\"https://creativecommons.org/licenses/by-nc-sa/4.0/\">CC Attribution Non-Commercial Share Alike</a> license.</p>\n",
    "</footer>"
   ]
  }
 ],
 "metadata": {
  "kernelspec": {
   "display_name": "Python 3 (ipykernel)",
   "language": "python",
   "name": "python3"
  },
  "language_info": {
   "codemirror_mode": {
    "name": "ipython",
    "version": 3
   },
   "file_extension": ".py",
   "mimetype": "text/x-python",
   "name": "python",
   "nbconvert_exporter": "python",
   "pygments_lexer": "ipython3",
   "version": "3.10.12"
  },
  "otter": {
   "OK_FORMAT": true,
   "tests": {}
  }
 },
 "nbformat": 4,
 "nbformat_minor": 5
}
