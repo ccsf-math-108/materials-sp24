{
 "cells": [
  {
   "cell_type": "markdown",
   "id": "e9a320bf-28cc-4016-bfb0-4a3a71ea65c1",
   "metadata": {
    "editable": true,
    "slideshow": {
     "slide_type": ""
    },
    "tags": []
   },
   "source": [
    "<div style=\"width: 38.5%;\">\n",
    "    <p><strong>City College of San Francisco</strong><p>\n",
    "    <hr>\n",
    "    <p>MATH 108 - Foundations of Data Science</p>\n",
    "</div>"
   ]
  },
  {
   "cell_type": "markdown",
   "id": "b328be51-22c6-43af-a66d-d700f39797de",
   "metadata": {
    "slideshow": {
     "slide_type": "-"
    }
   },
   "source": [
    "# Lecture 35: Classification"
   ]
  },
  {
   "cell_type": "markdown",
   "id": "85d691d2-4e61-4357-be5a-9455bf7d32c5",
   "metadata": {
    "slideshow": {
     "slide_type": "-"
    }
   },
   "source": [
    "Associated Textbook Sections: [17.0 - 17.3](https://inferentialthinking.com/chapters/17/Classification.html)"
   ]
  },
  {
   "cell_type": "markdown",
   "id": "2aca52de-ac9a-4110-a29a-0518f41e780e",
   "metadata": {
    "slideshow": {
     "slide_type": "fragment"
    }
   },
   "source": [
    "---"
   ]
  },
  {
   "cell_type": "markdown",
   "id": "0861fcf1-5053-4737-a022-89b07aa9b0d5",
   "metadata": {
    "slideshow": {
     "slide_type": "slide"
    }
   },
   "source": [
    "## Outline"
   ]
  },
  {
   "cell_type": "markdown",
   "id": "2bb4d57e-c8ce-4b1b-8d90-b3294d216f1e",
   "metadata": {},
   "source": [
    "* [Prediction](#Prediction)\n",
    "* [Classification](#Classification)"
   ]
  },
  {
   "cell_type": "markdown",
   "id": "82aad254-5157-41a3-9d33-2c6ac26c92ef",
   "metadata": {
    "slideshow": {
     "slide_type": "fragment"
    }
   },
   "source": [
    "---"
   ]
  },
  {
   "cell_type": "markdown",
   "id": "d25169f1-c3ae-4f01-b922-365404c2c774",
   "metadata": {
    "slideshow": {
     "slide_type": "slide"
    }
   },
   "source": [
    "## Set Up the Notebook"
   ]
  },
  {
   "cell_type": "code",
   "execution_count": null,
   "id": "47fa483d-da58-499c-89a1-3f13039452ff",
   "metadata": {
    "slideshow": {
     "slide_type": "-"
    }
   },
   "outputs": [],
   "source": [
    "from datascience import *\n",
    "import numpy as np\n",
    "%matplotlib inline\n",
    "import matplotlib.pyplot as plt\n",
    "plt.style.use('fivethirtyeight')\n",
    "\n",
    "from mpl_toolkits.mplot3d import Axes3D"
   ]
  },
  {
   "cell_type": "markdown",
   "id": "8e64e3ca-6c9b-4db1-b8e6-72e1b31fa22f",
   "metadata": {
    "slideshow": {
     "slide_type": "fragment"
    }
   },
   "source": [
    "---"
   ]
  },
  {
   "cell_type": "markdown",
   "id": "35bdf28a-059c-4c19-83f4-dc379606b42b",
   "metadata": {
    "slideshow": {
     "slide_type": "slide"
    }
   },
   "source": [
    "## Prediction"
   ]
  },
  {
   "cell_type": "markdown",
   "id": "ba18270d-02b6-4398-91db-3856a2386ab1",
   "metadata": {
    "slideshow": {
     "slide_type": "fragment"
    }
   },
   "source": [
    "---"
   ]
  },
  {
   "cell_type": "markdown",
   "id": "df74d06c-e42f-43c5-9a29-c521ff440ad8",
   "metadata": {
    "slideshow": {
     "slide_type": "slide"
    }
   },
   "source": [
    "### Guessing the Value of an Attribute"
   ]
  },
  {
   "cell_type": "markdown",
   "id": "2885cced-9ede-42cd-9345-dbb7166c94af",
   "metadata": {
    "slideshow": {
     "slide_type": "-"
    }
   },
   "source": [
    "* Based on incomplete information\n",
    "* One way of making predictions: \n",
    "    * To predict an outcome for an individual, \n",
    "    * find others who are like that individual\n",
    "    * and whose outcomes you know. \n",
    "    * Use those outcomes as the basis of your prediction.\n",
    "* Two Types of Prediction\n",
    "    * Classification = Categorical\n",
    "    * Regression = Numeric\n"
   ]
  },
  {
   "cell_type": "markdown",
   "id": "6636b13d-bc3a-49ad-a3a5-65de08d14c34",
   "metadata": {
    "slideshow": {
     "slide_type": "fragment"
    }
   },
   "source": [
    "---"
   ]
  },
  {
   "cell_type": "markdown",
   "id": "b9315d02-7f55-49f9-bd01-660e00bc8832",
   "metadata": {
    "slideshow": {
     "slide_type": "slide"
    }
   },
   "source": [
    "### Prediction Example: Visual Plant Identification"
   ]
  },
  {
   "cell_type": "markdown",
   "id": "01707132-723c-45f1-96bd-8131bc98c7e8",
   "metadata": {
    "slideshow": {
     "slide_type": "-"
    }
   },
   "source": [
    "<a href=\"https://unsplash.com/photos/purple-flower-in-tilt-shift-lens-OBtrCoiKlZo\" title=\"purple flower in tilt shift lens\"><img src=\"./iris.avif\" alt=\"an iris plant\" width=40%></a>\n",
    "\n",
    "* What type of plant is this?\n",
    "* How do we train a computer to make this decision?"
   ]
  },
  {
   "cell_type": "markdown",
   "id": "20aa244d-f53a-4bdc-ad69-3b042a42a4f6",
   "metadata": {
    "slideshow": {
     "slide_type": "fragment"
    }
   },
   "source": [
    "---"
   ]
  },
  {
   "cell_type": "markdown",
   "id": "c3a8f4e5-134d-4c3a-b947-4897f4c0eabf",
   "metadata": {
    "slideshow": {
     "slide_type": "slide"
    }
   },
   "source": [
    "### Machine Learning Algorithm"
   ]
  },
  {
   "cell_type": "markdown",
   "id": "a60b5699-2fa6-478c-8ed7-67435305c272",
   "metadata": {
    "slideshow": {
     "slide_type": "-"
    }
   },
   "source": [
    "* A mathematical model\n",
    "* calculated based on sample data (\"training data\")\n",
    "* that makes predictions or decisions without being explicitly programmed to perform the task"
   ]
  },
  {
   "cell_type": "markdown",
   "id": "674f6252-4ce2-41e4-8f66-fc49f3afbb85",
   "metadata": {
    "slideshow": {
     "slide_type": "fragment"
    }
   },
   "source": [
    "---"
   ]
  },
  {
   "cell_type": "markdown",
   "id": "c7ac4bd0-5acc-475e-9356-e03664cb3e3d",
   "metadata": {
    "slideshow": {
     "slide_type": "slide"
    }
   },
   "source": [
    "## Classification"
   ]
  },
  {
   "cell_type": "markdown",
   "id": "0ed832ca-b7b7-4dc5-806a-b1a8a28b55b4",
   "metadata": {
    "slideshow": {
     "slide_type": "fragment"
    }
   },
   "source": [
    "---"
   ]
  },
  {
   "cell_type": "markdown",
   "id": "859f2987-ae8c-42f1-a9cc-3ae6164b1b01",
   "metadata": {
    "slideshow": {
     "slide_type": "slide"
    }
   },
   "source": [
    "### Classification Example: Playlist Sorting"
   ]
  },
  {
   "cell_type": "markdown",
   "id": "89e05e46-322d-492c-a365-2647dd873a31",
   "metadata": {
    "slideshow": {
     "slide_type": "-"
    }
   },
   "source": [
    "* 2 Fall 2021 MATH 108 students (Lil Cabrera and Olga Aronov) analyzed music by exploring song attributes from [Spotify's API](https://developer.spotify.com/documentation/web-api/reference/#/operations/get-several-audio-features)\n",
    "* Spotify's API response to requesting a track's audio features:\n",
    "\n",
    "```json\n",
    "{\n",
    "  \"audio_features\": [\n",
    "    {\n",
    "      \"acousticness\": 0.00242,\n",
    "      \"analysis_url\": \"https://api.spotify.com/v1/audio-analysis/2takcwOaAZWiXQijPHIx7B\\n\",\n",
    "      \"danceability\": 0.585,\n",
    "      \"duration_ms\": 237040,\n",
    "      \"energy\": 0.842,\n",
    "      \"id\": \"2takcwOaAZWiXQijPHIx7B\",\n",
    "      \"instrumentalness\": 0.00686,\n",
    "      \"key\": 9,\n",
    "      \"liveness\": 0.0866,\n",
    "      \"loudness\": -5.883,\n",
    "      \"mode\": 0,\n",
    "      \"speechiness\": 0.0556,\n",
    "      \"tempo\": 118.211,\n",
    "      \"time_signature\": 4,\n",
    "      \"track_href\": \"https://api.spotify.com/v1/tracks/2takcwOaAZWiXQijPHIx7B\\n\",\n",
    "      \"type\": \"audio_features\",\n",
    "      \"uri\": \"spotify:track:2takcwOaAZWiXQijPHIx7B\",\n",
    "      \"valence\": 0.428\n",
    "    }\n",
    "  ]\n",
    "}\n",
    "```\n",
    "* They classified songs by assigning a song to one of two playlists (Workout or Relax) based on which playlist shared similar attributes."
   ]
  },
  {
   "cell_type": "markdown",
   "id": "3bb4830b-cfab-431b-bb22-3b4c051918ae",
   "metadata": {
    "slideshow": {
     "slide_type": "fragment"
    }
   },
   "source": [
    "---"
   ]
  },
  {
   "cell_type": "markdown",
   "id": "71885a1a-f6ed-4f5e-9995-86249209f074",
   "metadata": {
    "slideshow": {
     "slide_type": "slide"
    }
   },
   "source": [
    "### Classification Example: Targeted Advertising"
   ]
  },
  {
   "cell_type": "markdown",
   "id": "ed20b7ca-6ae7-40e5-8d9a-ce650f2e526a",
   "metadata": {
    "slideshow": {
     "slide_type": "-"
    }
   },
   "source": [
    "> Andrew Pole had just started working as a statistician for Target in 2002, when two colleagues from the marketing department stopped by his desk to ask an odd question: \"If we wanted to figure out if a customer is pregnant, even if she didn't want us to know, can you do that?\" - [How Companies Learn Your Secrets (The New York Times Magazine)](https://www.nytimes.com/2012/02/19/magazine/shopping-habits.html)"
   ]
  },
  {
   "cell_type": "markdown",
   "id": "657d0779-9b78-45f5-9a84-d871e3477aea",
   "metadata": {
    "slideshow": {
     "slide_type": "fragment"
    }
   },
   "source": [
    "---"
   ]
  },
  {
   "cell_type": "markdown",
   "id": "be2ed33a-d4ee-4bf0-a5c3-dfc0dff402e4",
   "metadata": {
    "slideshow": {
     "slide_type": "slide"
    }
   },
   "source": [
    "### Classification Example: Sentiment Analysis"
   ]
  },
  {
   "cell_type": "markdown",
   "id": "4dca3c14-f12b-48cf-857a-140626f26d60",
   "metadata": {
    "slideshow": {
     "slide_type": "-"
    }
   },
   "source": [
    "<a href=\"https://unsplash.com/photos/decorative-egg-and-egg-shells-xcSGMHsaLio\" title=\"egg and egg shells\"><img width = 50% src=\"./happy_sad_eggs.jpeg\" alt=\"egg and egg shells with faces drawn on them\"></a>\n",
    "\n",
    "* Sentiment analysis is a type of classification that focuses on extracting subjective information. For example, a statement can be classified as positive, negative, or neutral. \n",
    "\n",
    "* The following is an example of using a sentiment analysis model from [text-processing.com](http://text-processing.com/docs/sentiment.html). \n",
    "\n",
    "_You don't need to know about the [`requests` library](https://requests.readthedocs.io/en/latest/), JSON files, or how to make HTTP POSTs, but you might want to one day!_"
   ]
  },
  {
   "cell_type": "code",
   "execution_count": null,
   "id": "4068b8a1-23af-4ec8-8286-339aa8f6ecb7",
   "metadata": {},
   "outputs": [],
   "source": [
    "import requests\n",
    "\n",
    "text_list = [\"I love CCSF!\", \n",
    "             \"I hate CCSF!\", \n",
    "             \"I attend classes at CCSF.\"] # Statements to classify\n",
    "\n",
    "url = 'http://text-processing.com/api/sentiment/' # The classification app\n",
    "for text in text_list:\n",
    "    data = 'text='+text\n",
    "    # Send the text to classify to the web app\n",
    "    response = requests.post(url, data)\n",
    "    text_label = response.json()['label'] # The returned label for the text\n",
    "    print(f\"'{text}' was labeled as {text_label}.\")"
   ]
  },
  {
   "cell_type": "markdown",
   "id": "208df12c-f4a2-486c-aa8a-05aea803abf6",
   "metadata": {
    "slideshow": {
     "slide_type": "fragment"
    }
   },
   "source": [
    "---"
   ]
  },
  {
   "cell_type": "markdown",
   "id": "d7b536d0-11e7-4503-87c3-c680aeddc417",
   "metadata": {
    "slideshow": {
     "slide_type": "slide"
    }
   },
   "source": [
    "### Classification through Feature Relationships"
   ]
  },
  {
   "cell_type": "markdown",
   "id": "e3ef4802-981e-4ded-b93e-0ad6e0337f77",
   "metadata": {
    "slideshow": {
     "slide_type": "-"
    }
   },
   "source": [
    "* How can data be used to perform classification?\n",
    "* The relationship between various attributes (features) might reveal patterns! \n",
    "* The choice of attributes and the number of attributes can have a big impact on identifying classes."
   ]
  },
  {
   "cell_type": "markdown",
   "id": "7c4d84b0-1e6e-4f78-869d-ae85130636fc",
   "metadata": {
    "slideshow": {
     "slide_type": "fragment"
    }
   },
   "source": [
    "---"
   ]
  },
  {
   "cell_type": "markdown",
   "id": "9534b335-4033-4fb7-9a18-7ba51136b4f9",
   "metadata": {},
   "source": [
    "### Demo: Classifying Banknotes"
   ]
  },
  {
   "attachments": {},
   "cell_type": "markdown",
   "id": "72860260-f3e9-45a8-b2a3-bd8b7dd9a97e",
   "metadata": {
    "deletable": false,
    "editable": false
   },
   "source": [
    "The `banknote.csv` dataset contains wavelet transformation (image processing) information on banknotes (bills) that have been used to [classify banknotes](https://www.researchgate.net/publication/220929082_Feature_Extraction_for_Bank_Note_Classification_Using_Wavelet_Transform).\n",
    "\n",
    "* Notice that the dataset has two classes of banknotes.\n",
    "* Explore the relationship between `WaveletVar` and `WaveletCurt` to see if they are helpful features for classifying the banknotes.\n",
    "* Explore the relationship between `WaveletSkew` and `Entropy` to see if they are helpful features for classifying the banknotes.\n",
    "* Sometimes you need to adjust the number of features you relate to identify clear separation in the data! Let's see how all three wavelet features can be used to identify the class visually (in 4D)."
   ]
  },
  {
   "cell_type": "code",
   "execution_count": null,
   "id": "1792bc25-a45c-4a5a-ac6a-0d521b46f391",
   "metadata": {
    "tags": []
   },
   "outputs": [],
   "source": [
    "banknotes = Table.read_table('banknote.csv')\n",
    "banknotes"
   ]
  },
  {
   "cell_type": "code",
   "execution_count": null,
   "id": "651db21a-a52a-4b6f-9741-df563c5a928f",
   "metadata": {
    "tags": []
   },
   "outputs": [],
   "source": [
    "..."
   ]
  },
  {
   "cell_type": "code",
   "execution_count": null,
   "id": "5087de38-63d8-4171-b509-09618541a9fb",
   "metadata": {
    "tags": []
   },
   "outputs": [],
   "source": [
    "..."
   ]
  },
  {
   "cell_type": "code",
   "execution_count": null,
   "id": "f914f4c4-2c37-442b-8728-b91f9e16b1aa",
   "metadata": {
    "tags": []
   },
   "outputs": [],
   "source": [
    "..."
   ]
  },
  {
   "cell_type": "code",
   "execution_count": null,
   "id": "c4b6ec2d-7141-4766-9fd4-24083fed1d1d",
   "metadata": {
    "tags": []
   },
   "outputs": [],
   "source": [
    "fig = plt.figure(figsize=(8,8))\n",
    "ax = Axes3D(fig, auto_add_to_figure=False)\n",
    "fig.add_axes(ax)\n",
    "ax.scatter(banknotes.column('WaveletSkew'), \n",
    "           banknotes.column('WaveletVar'), \n",
    "           banknotes.column('WaveletCurt'), \n",
    "           c=banknotes.column('Class'),\n",
    "           cmap='viridis',\n",
    "          s=50);"
   ]
  },
  {
   "cell_type": "markdown",
   "id": "9f69c7d6-478b-4372-912d-76a8a5dc3343",
   "metadata": {
    "slideshow": {
     "slide_type": "fragment"
    }
   },
   "source": [
    "---"
   ]
  },
  {
   "cell_type": "markdown",
   "id": "a5102591-9a4a-4bf9-bdd2-ff524ba1949a",
   "metadata": {},
   "source": [
    "### Demo: Classifying Patients (Chronic Kidney Disease)"
   ]
  },
  {
   "attachments": {},
   "cell_type": "markdown",
   "id": "d7a8f222-0097-459b-ae6a-4af9c6e3503d",
   "metadata": {
    "deletable": false,
    "editable": false
   },
   "source": [
    "* Load the `ckd.csv` data that shows patient data. Group the data by class to see how many patients have been labeled as having chronic kidney disease (`1`) or not (`0`).\n",
    "* Visualize the relationship between `'White Blood Cell Count'` and `'Glucose'` to see if these features might be helpful to identify CKD. Look for separation in the colored points.\n",
    "* Visualize the relationship between `'Hemoglobin'` and `'Glucose'` to see if these features might be helpful to identify CKD.\n",
    "* Explore how the natural boundaries in the scatterplot can be used to classify a patient as having CKD or not. Create a function to predict a patient's class based on their hemoglobin and glucose levels based on the visualized boundaries.\n",
    "* Try out the classifier and think about its limitations."
   ]
  },
  {
   "cell_type": "code",
   "execution_count": null,
   "id": "5ee89c0c-f075-4989-8f67-2bb0dba48d5f",
   "metadata": {
    "tags": []
   },
   "outputs": [],
   "source": [
    "ckd = (Table.read_table('ckd.csv')\n",
    "            .relabeled('Blood Glucose Random', 'Glucose'))\n",
    "ckd.show(3)"
   ]
  },
  {
   "cell_type": "code",
   "execution_count": null,
   "id": "10d0d29b-262c-4a07-847b-2e5ff8510754",
   "metadata": {
    "tags": []
   },
   "outputs": [],
   "source": [
    "..."
   ]
  },
  {
   "cell_type": "code",
   "execution_count": null,
   "id": "df829608-2649-4176-8934-b216f0942752",
   "metadata": {
    "tags": []
   },
   "outputs": [],
   "source": [
    "..."
   ]
  },
  {
   "cell_type": "code",
   "execution_count": null,
   "id": "7b86edd4-acad-4c8d-ade0-e59fc5d80e2c",
   "metadata": {
    "tags": []
   },
   "outputs": [],
   "source": [
    "..."
   ]
  },
  {
   "cell_type": "code",
   "execution_count": null,
   "id": "2fe8ca3d-85ed-4975-8aa0-940526671dee",
   "metadata": {
    "tags": []
   },
   "outputs": [],
   "source": [
    "class_0 = ckd.where('Class',are.equal_to(0))\n",
    "max_glucose_for_0 = ...\n",
    "min_hemoglobin_for_0 = ..."
   ]
  },
  {
   "cell_type": "code",
   "execution_count": null,
   "id": "bb457a74-6d5b-4215-9f7a-0a2ff93748d8",
   "metadata": {
    "tags": []
   },
   "outputs": [],
   "source": [
    "def classify(hemoglobin, glucose):\n",
    "    ...\n",
    "        ...\n",
    "    else:\n",
    "        ..."
   ]
  },
  {
   "cell_type": "code",
   "execution_count": null,
   "id": "aee2581c-8b3f-4209-8829-589e858378df",
   "metadata": {
    "tags": []
   },
   "outputs": [],
   "source": [
    "classify(15, 100)"
   ]
  },
  {
   "cell_type": "code",
   "execution_count": null,
   "id": "34714824-dc6b-4a7c-8e10-a3b3b569c3d7",
   "metadata": {
    "tags": []
   },
   "outputs": [],
   "source": [
    "classify(10, 300)"
   ]
  },
  {
   "cell_type": "markdown",
   "id": "c66909ae-f418-415f-a04e-bfc8634c7286",
   "metadata": {
    "slideshow": {
     "slide_type": "fragment"
    }
   },
   "source": [
    "---"
   ]
  },
  {
   "cell_type": "markdown",
   "id": "debe0e04-4af2-4afd-8546-5e55443dc843",
   "metadata": {
    "slideshow": {
     "slide_type": "notes"
    }
   },
   "source": [
    "<footer>\n",
    "    <p>Adopted from UC Berkeley DATA 8 course materials.</p>\n",
    "    <p>This content is offered under a <a href=\"https://creativecommons.org/licenses/by-nc-sa/4.0/\">CC Attribution Non-Commercial Share Alike</a> license.</p>\n",
    "</footer>"
   ]
  }
 ],
 "metadata": {
  "kernelspec": {
   "display_name": "Python 3 (ipykernel)",
   "language": "python",
   "name": "python3"
  },
  "language_info": {
   "codemirror_mode": {
    "name": "ipython",
    "version": 3
   },
   "file_extension": ".py",
   "mimetype": "text/x-python",
   "name": "python",
   "nbconvert_exporter": "python",
   "pygments_lexer": "ipython3",
   "version": "3.10.12"
  },
  "otter": {
   "OK_FORMAT": true,
   "tests": {}
  }
 },
 "nbformat": 4,
 "nbformat_minor": 5
}
