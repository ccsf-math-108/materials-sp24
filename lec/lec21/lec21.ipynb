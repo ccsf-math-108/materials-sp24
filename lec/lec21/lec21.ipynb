{
 "cells": [
  {
   "cell_type": "markdown",
   "id": "f4fced1b-76b7-43d4-b72f-890bc22326f7",
   "metadata": {
    "editable": true,
    "slideshow": {
     "slide_type": ""
    },
    "tags": []
   },
   "source": [
    "<div style=\"width: 38.5%;\">\n",
    "    <p><strong>City College of San Francisco</strong><p>\n",
    "    <hr>\n",
    "    <p>MATH 108 - Foundations of Data Science</p>\n",
    "</div>"
   ]
  },
  {
   "cell_type": "markdown",
   "id": "41d54908-3356-43bc-9be0-f17b5c503d5e",
   "metadata": {
    "slideshow": {
     "slide_type": "-"
    }
   },
   "source": [
    "# Lecture 21: Causality"
   ]
  },
  {
   "cell_type": "markdown",
   "id": "28fe885e-74cf-4824-b05f-a565cbbee4d4",
   "metadata": {
    "slideshow": {
     "slide_type": "-"
    }
   },
   "source": [
    "Associated Textbook Sections: [12.2](https://inferentialthinking.com/chapters/12/2/Causality.html)"
   ]
  },
  {
   "cell_type": "markdown",
   "id": "c6e09783-ff69-43cd-a981-01edb2495d6f",
   "metadata": {
    "slideshow": {
     "slide_type": "slide"
    }
   },
   "source": [
    "<div style=\"width: 38.5%;\">\n",
    "    <p><strong>City College of San Francisco</strong><p>\n",
    "    <hr>\n",
    "    <p>MATH 108 - Foundations of Data Science</p>\n",
    "</div>"
   ]
  },
  {
   "cell_type": "markdown",
   "id": "99628499-c12e-489f-98c0-6afe755a8986",
   "metadata": {
    "slideshow": {
     "slide_type": "fragment"
    }
   },
   "source": [
    "---"
   ]
  },
  {
   "cell_type": "markdown",
   "id": "ce5642b7-2f83-453c-b8b0-0ec96dd0fd9b",
   "metadata": {
    "slideshow": {
     "slide_type": "slide"
    }
   },
   "source": [
    "## Outline"
   ]
  },
  {
   "cell_type": "markdown",
   "id": "ec00bcd6-a690-4afc-a7e0-df32e07fa097",
   "metadata": {
    "slideshow": {
     "slide_type": "-"
    }
   },
   "source": [
    "* [Causality](#Causality)\n",
    "* [An Error Probability](#An-Error-Probability)"
   ]
  },
  {
   "cell_type": "markdown",
   "id": "47ca1d09-c6c3-44c5-a909-5a36525f9ee2",
   "metadata": {
    "slideshow": {
     "slide_type": "fragment"
    }
   },
   "source": [
    "---"
   ]
  },
  {
   "cell_type": "markdown",
   "id": "cbef6791-743c-4af2-bd27-3f05e0872b3d",
   "metadata": {
    "slideshow": {
     "slide_type": "slide"
    }
   },
   "source": [
    "## Set Up the Notebook"
   ]
  },
  {
   "cell_type": "code",
   "execution_count": null,
   "id": "b1adc5ac-9188-4ab4-97d4-911c8db69a86",
   "metadata": {
    "slideshow": {
     "slide_type": "-"
    }
   },
   "outputs": [],
   "source": [
    "from datascience import *\n",
    "import numpy as np\n",
    "%matplotlib inline\n",
    "import matplotlib.pyplot as plt\n",
    "plt.style.use('fivethirtyeight')"
   ]
  },
  {
   "cell_type": "markdown",
   "id": "c2db4cfd-7f78-4253-a81b-d2baf0dcf3d9",
   "metadata": {
    "slideshow": {
     "slide_type": "fragment"
    }
   },
   "source": [
    "---"
   ]
  },
  {
   "cell_type": "markdown",
   "id": "727279e3-4bbf-4d2d-b20f-1472bf800ce8",
   "metadata": {
    "slideshow": {
     "slide_type": "slide"
    }
   },
   "source": [
    "## Causality"
   ]
  },
  {
   "cell_type": "markdown",
   "id": "e94ea3fc-c9f0-454a-805e-9cc48e4c856e",
   "metadata": {
    "slideshow": {
     "slide_type": "fragment"
    }
   },
   "source": [
    "---"
   ]
  },
  {
   "cell_type": "markdown",
   "id": "37f95916-64cd-45b3-9939-7bb4ab181181",
   "metadata": {
    "slideshow": {
     "slide_type": "subslide"
    }
   },
   "source": [
    "### Randomized Controlled Experiment"
   ]
  },
  {
   "cell_type": "markdown",
   "id": "d67dc302-6677-428f-ba23-ec1e8d0a85c6",
   "metadata": {
    "slideshow": {
     "slide_type": "-"
    }
   },
   "source": [
    "* Sample A: control group\n",
    "* Sample B: treatment group\n",
    "* If the treatment and control groups are selected at random, then you can make causal conclusions.\n",
    "* Any difference in outcomes between the two groups could be due to chance or the treatment.\n"
   ]
  },
  {
   "cell_type": "markdown",
   "id": "8b8532bd-45bc-4e2d-9086-f6b7e2677cde",
   "metadata": {
    "slideshow": {
     "slide_type": "fragment"
    }
   },
   "source": [
    "---"
   ]
  },
  {
   "cell_type": "markdown",
   "id": "3f6da0ea-9103-459e-8007-37827246327e",
   "metadata": {
    "slideshow": {
     "slide_type": "subslide"
    }
   },
   "source": [
    "### Demo: Randomized Control Experiment"
   ]
  },
  {
   "attachments": {},
   "cell_type": "markdown",
   "id": "4436fb17-9d47-4c94-b06c-d7049c9b5822",
   "metadata": {
    "deletable": false,
    "editable": false,
    "slideshow": {
     "slide_type": "notes"
    }
   },
   "source": [
    "* Load the data in `bta.csv` that is associated with [an experiment to assess whether or not Botox can be used to reduce pain](https://journals.lww.com/clinicalpain/Abstract/2006/01000/The_Effect_of_Small_Doses_of_Botulinum_Toxin_A_on.11.aspx) (Neck-Shoulder Myofascial Pain Syndrome). The control group received a saline solution, while the treatment group received botulinum toxin type A. A 1 result means that there was a reduction in pain, and a 0 result means that there wasn't a reduction in pain.\n",
    "* Compare the results for the two groups."
   ]
  },
  {
   "cell_type": "code",
   "execution_count": null,
   "id": "45f87c09-d11e-4864-b547-8fd1ca3a6605",
   "metadata": {
    "slideshow": {
     "slide_type": "-"
    },
    "tags": []
   },
   "outputs": [],
   "source": [
    "botox = Table.read_table('bta.csv')\n",
    "botox"
   ]
  },
  {
   "cell_type": "code",
   "execution_count": null,
   "id": "2525ecc5-90ae-4188-8cf9-0c121c4e1961",
   "metadata": {
    "slideshow": {
     "slide_type": "subslide"
    },
    "tags": []
   },
   "outputs": [],
   "source": [
    "..."
   ]
  },
  {
   "cell_type": "code",
   "execution_count": null,
   "id": "68a71045-617e-4ab7-86e9-3fb9da96df4e",
   "metadata": {
    "slideshow": {
     "slide_type": "fragment"
    },
    "tags": []
   },
   "outputs": [],
   "source": [
    "..."
   ]
  },
  {
   "cell_type": "markdown",
   "id": "03af1c45-c6fa-427f-a6d2-e6b4d3fc1b62",
   "metadata": {
    "slideshow": {
     "slide_type": "fragment"
    }
   },
   "source": [
    "---"
   ]
  },
  {
   "cell_type": "markdown",
   "id": "1d557cfd-179c-432f-9ef2-b640c980c457",
   "metadata": {
    "slideshow": {
     "slide_type": "subslide"
    }
   },
   "source": [
    "### Before the Randomization"
   ]
  },
  {
   "attachments": {},
   "cell_type": "markdown",
   "id": "1756ef54-2b81-4512-a74a-51ed6f95740f",
   "metadata": {
    "slideshow": {
     "slide_type": "-"
    }
   },
   "source": [
    "* In the population there is one imaginary ticket for each of the 31 participants in the experiment.\n",
    "* The distribution of these 31 tickets could be represented as:\n",
    "\n",
    "    * 16 tickets showing:\n",
    "\n",
    "    <img src=\"./16_tickets.png\" alt=\"control group ticket\" width=50%>\n",
    "\n",
    "    * 15 tickets showing:\n",
    "\n",
    "    <img src=\"./15_remaining.png\" alt=\"treatment group ticket\" width=50%>\n",
    "\n",
    "* The tickets are randomly selected to create that group assignments."
   ]
  },
  {
   "cell_type": "markdown",
   "id": "4efaba48-408d-4037-93c8-b23228ceeb6c",
   "metadata": {
    "slideshow": {
     "slide_type": "fragment"
    }
   },
   "source": [
    "---"
   ]
  },
  {
   "cell_type": "markdown",
   "id": "f84ed0f7-99c5-43e0-be72-891f67c5a1a4",
   "metadata": {
    "slideshow": {
     "slide_type": "subslide"
    }
   },
   "source": [
    "### The Hypotheses"
   ]
  },
  {
   "cell_type": "markdown",
   "id": "83b008ab-9857-49c3-bb1f-c537893bd7c0",
   "metadata": {
    "slideshow": {
     "slide_type": "-"
    }
   },
   "source": [
    "* Null: In the population, the distribution of all potential control scores is the same as the distribution of all potential treatment scores. (The treatment has no effect.)\n",
    "* Alternative: In the population, more of the potential treatment scores are 1 (pain improves) than the potential control scores."
   ]
  },
  {
   "cell_type": "markdown",
   "id": "9bd216ac-2e34-4aa6-9f21-9d35473325fe",
   "metadata": {
    "slideshow": {
     "slide_type": "fragment"
    }
   },
   "source": [
    "---"
   ]
  },
  {
   "cell_type": "markdown",
   "id": "159419e5-27d7-408c-8310-181b4a1dd640",
   "metadata": {
    "slideshow": {
     "slide_type": "subslide"
    }
   },
   "source": [
    "### Demo: Testing the Hypothesis"
   ]
  },
  {
   "attachments": {},
   "cell_type": "markdown",
   "id": "31291e0c-5c01-4c17-9c52-45ea2d2a6100",
   "metadata": {
    "deletable": false,
    "editable": false,
    "slideshow": {
     "slide_type": "notes"
    }
   },
   "source": [
    "* Compute the observed difference in results for the treatment and control groups using the `difference_of_means` function.\n",
    "* Use `one_simulated_difference` to determine the chance of observing the above sample data if it were true that Botox had no impact on pain reduction."
   ]
  },
  {
   "cell_type": "code",
   "execution_count": null,
   "id": "9aff30ff-a324-4933-8e91-58a08ad24bba",
   "metadata": {
    "slideshow": {
     "slide_type": "-"
    },
    "tags": []
   },
   "outputs": [],
   "source": [
    "def difference_of_means(table, numeric_label, group_label):\n",
    "    '''\n",
    "    Takes: name of table, column label of numerical variable,\n",
    "    column label of group-label variable\n",
    "    \n",
    "    Returns: Difference of means of the two groups\n",
    "    '''\n",
    "    \n",
    "    #table with the two relevant columns\n",
    "    reduced = ...\n",
    "    \n",
    "    # table containing group means\n",
    "    means_table = ...\n",
    "    \n",
    "    # array of group means\n",
    "    means = ...\n",
    "    \n",
    "    return ..."
   ]
  },
  {
   "cell_type": "code",
   "execution_count": null,
   "id": "07e956f7-2e1b-49e3-bb61-b4936136245d",
   "metadata": {
    "slideshow": {
     "slide_type": "fragment"
    },
    "tags": []
   },
   "outputs": [],
   "source": [
    "observed_diff = ...\n",
    "observed_diff"
   ]
  },
  {
   "cell_type": "code",
   "execution_count": null,
   "id": "f0ce4361-a1b0-4d47-a794-30a77a95176f",
   "metadata": {
    "slideshow": {
     "slide_type": "subslide"
    },
    "tags": []
   },
   "outputs": [],
   "source": [
    "def one_simulated_difference(table, numeric_label, group_label):\n",
    "    '''\n",
    "    Takes: name of table, column label of numerical variable,\n",
    "    column label of group-label variable\n",
    "    \n",
    "    Returns: Difference of means of the two groups after shuffling labels\n",
    "    '''\n",
    "    \n",
    "    # array of shuffled labels\n",
    "    shuffled_labels = ...\n",
    "    \n",
    "    # table of numerical variable and shuffled labels\n",
    "    shuffled_table = ...\n",
    "    \n",
    "    return ...  "
   ]
  },
  {
   "cell_type": "code",
   "execution_count": null,
   "id": "5df51891-2c3b-426a-8ed9-7bedc126854c",
   "metadata": {
    "slideshow": {
     "slide_type": "notes"
    },
    "tags": []
   },
   "outputs": [],
   "source": [
    "one_simulated_difference(botox, 'Result', 'Group')"
   ]
  },
  {
   "cell_type": "code",
   "execution_count": null,
   "id": "05d1e89e-54ba-4c30-98d2-65c59fdbe903",
   "metadata": {
    "slideshow": {
     "slide_type": "subslide"
    },
    "tags": []
   },
   "outputs": [],
   "source": [
    "simulated_diffs = make_array()\n",
    "reps = 10_000\n",
    "\n",
    "for i in np.arange(reps):\n",
    "    sim_diff = ...\n",
    "    simulated_diffs = np.append(simulated_diffs, sim_diff)"
   ]
  },
  {
   "cell_type": "code",
   "execution_count": null,
   "id": "a888a2dc-1a9a-49af-ae5c-96a89da2ebaa",
   "metadata": {
    "slideshow": {
     "slide_type": "subslide"
    },
    "tags": []
   },
   "outputs": [],
   "source": [
    "col_name = 'Distances between groups'\n",
    "Table().with_column(col_name, simulated_diffs).hist(col_name)\n",
    "plt.scatter(observed_diff, 0, color=\"red\", s=60, zorder=3);"
   ]
  },
  {
   "cell_type": "code",
   "execution_count": null,
   "id": "1ce577aa-359b-4004-acfb-a08266107f08",
   "metadata": {
    "scrolled": true,
    "slideshow": {
     "slide_type": "fragment"
    },
    "tags": []
   },
   "outputs": [],
   "source": [
    "p_value = ...\n",
    "np.round(p_value, 3)"
   ]
  },
  {
   "cell_type": "markdown",
   "id": "33b9b5c7-8260-4ac9-9e15-accbf4e1abba",
   "metadata": {
    "slideshow": {
     "slide_type": "fragment"
    }
   },
   "source": [
    "---"
   ]
  },
  {
   "cell_type": "markdown",
   "id": "4984a06f-6e4c-4bee-b50b-fffd305969aa",
   "metadata": {
    "slideshow": {
     "slide_type": "subslide"
    }
   },
   "source": [
    "### Random Assignment & Shuffling"
   ]
  },
  {
   "cell_type": "markdown",
   "id": "c0ebc8c5-dab1-4fd8-b115-310ebbc48038",
   "metadata": {
    "slideshow": {
     "slide_type": "-"
    }
   },
   "source": [
    "<img src=\"./random_assignment_and_shuffling.png\" width=80%>"
   ]
  },
  {
   "cell_type": "markdown",
   "id": "c9ece099-533b-4a14-b568-c994ba77c25b",
   "metadata": {
    "slideshow": {
     "slide_type": "fragment"
    }
   },
   "source": [
    "---"
   ]
  },
  {
   "cell_type": "markdown",
   "id": "c5a2949a-1c63-4049-a97d-3b64886e3d6a",
   "metadata": {
    "slideshow": {
     "slide_type": "slide"
    }
   },
   "source": [
    "## An Error Probability"
   ]
  },
  {
   "cell_type": "markdown",
   "id": "301222a4-8cef-47c2-8776-e701f523dd6d",
   "metadata": {
    "slideshow": {
     "slide_type": "fragment"
    }
   },
   "source": [
    "---"
   ]
  },
  {
   "cell_type": "markdown",
   "id": "2b04737c-1ede-4a96-98aa-5309cc07d6bc",
   "metadata": {
    "slideshow": {
     "slide_type": "subslide"
    }
   },
   "source": [
    "### Can the Conclusion be Wrong?"
   ]
  },
  {
   "cell_type": "markdown",
   "id": "7eced2b8-57e4-42ff-9e29-6c53f9a1dafa",
   "metadata": {
    "slideshow": {
     "slide_type": "fragment"
    }
   },
   "source": [
    "| | Null is True | Alternative is True | \n",
    "| --- | ----------- | ---|\n",
    "| (Type I Error) Test favors the Null | ✅ | ❌ |\n",
    "| (Type II Error) Test favors the Alternative | ❌ | ✅ |"
   ]
  },
  {
   "cell_type": "markdown",
   "id": "26989ccf-4405-4149-821b-a75ce93469d0",
   "metadata": {
    "slideshow": {
     "slide_type": "fragment"
    }
   },
   "source": [
    "* Type I Error - False Positive\n",
    "* Type II Error - False Negative"
   ]
  },
  {
   "cell_type": "markdown",
   "id": "f2669caf-8e78-4cd5-9e84-3a3a14af866d",
   "metadata": {
    "slideshow": {
     "slide_type": "fragment"
    }
   },
   "source": [
    "---"
   ]
  },
  {
   "cell_type": "markdown",
   "id": "90043342-663c-4c0b-85ae-905de33da66a",
   "metadata": {
    "slideshow": {
     "slide_type": "subslide"
    }
   },
   "source": [
    "### An Error Probability"
   ]
  },
  {
   "cell_type": "markdown",
   "id": "ed3a896f-1baa-47d2-9079-a59b015369fe",
   "metadata": {
    "slideshow": {
     "slide_type": "-"
    }
   },
   "source": [
    "* The cutoff for the P-value is the Type I error probability.\n",
    "* If your cutoff is 5% and the null hypothesis happens to be true, then there is about a 5% chance that your test will reject the null hypothesis. (Type I Error: 5%)\n",
    "* The chance of making a Type II error is the complement value to the statistical power of the test. You are not expected to know about the power of a test or what the chance of making a Type II error is in this class."
   ]
  },
  {
   "cell_type": "markdown",
   "id": "c594ac17-3672-4219-ae16-cd03bc248aed",
   "metadata": {
    "slideshow": {
     "slide_type": "fragment"
    }
   },
   "source": [
    "---"
   ]
  },
  {
   "cell_type": "markdown",
   "id": "6065f143-1bb2-4985-b48d-5d8b30d28c3b",
   "metadata": {
    "slideshow": {
     "slide_type": "subslide"
    }
   },
   "source": [
    "### P-value cutoff vs P-value"
   ]
  },
  {
   "cell_type": "markdown",
   "id": "923916df-9062-45a1-86ef-12cf466d6da8",
   "metadata": {
    "slideshow": {
     "slide_type": "-"
    }
   },
   "source": [
    "* P-value cutoff\n",
    "    * Does not depend on observed data or simulation\n",
    "    * Decide on it before seeing the results\n",
    "    * Conventional values at 5% and 1%\n",
    "    * Probability of hypothesis testing making an error\n",
    "* P-value\n",
    "    * Depends on the observed data and simulation\n",
    "    * Probability under the null hypothesis that the test statistic is the observed value or further towards the alternative\n"
   ]
  },
  {
   "cell_type": "markdown",
   "id": "81e1d460-5598-418e-a53b-a07731519f38",
   "metadata": {
    "slideshow": {
     "slide_type": "fragment"
    }
   },
   "source": [
    "---"
   ]
  },
  {
   "cell_type": "markdown",
   "id": "3ad95751-f396-4e62-b618-ee26cda10d52",
   "metadata": {
    "slideshow": {
     "slide_type": "notes"
    }
   },
   "source": [
    "<footer>\n",
    "    <p>Adopted from UC Berkeley DATA 8 course materials.</p>\n",
    "    <p>This content is offered under a <a href=\"https://creativecommons.org/licenses/by-nc-sa/4.0/\">CC Attribution Non-Commercial Share Alike</a> license.</p>\n",
    "</footer>"
   ]
  }
 ],
 "metadata": {
  "kernelspec": {
   "display_name": "Python 3 (ipykernel)",
   "language": "python",
   "name": "python3"
  },
  "language_info": {
   "codemirror_mode": {
    "name": "ipython",
    "version": 3
   },
   "file_extension": ".py",
   "mimetype": "text/x-python",
   "name": "python",
   "nbconvert_exporter": "python",
   "pygments_lexer": "ipython3",
   "version": "3.10.12"
  },
  "otter": {
   "OK_FORMAT": true,
   "tests": {}
  }
 },
 "nbformat": 4,
 "nbformat_minor": 5
}
