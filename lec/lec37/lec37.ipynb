{
 "cells": [
  {
   "cell_type": "markdown",
   "id": "d6050d50-2cf3-43bb-a4d6-c1e561a6ce01",
   "metadata": {
    "editable": true,
    "slideshow": {
     "slide_type": ""
    },
    "tags": []
   },
   "source": [
    "<div style=\"width: 38.5%;\">\n",
    "    <p><strong>City College of San Francisco</strong><p>\n",
    "    <hr>\n",
    "    <p>MATH 108 - Foundations of Data Science</p>\n",
    "</div>"
   ]
  },
  {
   "cell_type": "markdown",
   "id": "49006ab8-e5bd-4ffb-a166-691fdb2e1802",
   "metadata": {
    "slideshow": {
     "slide_type": "-"
    }
   },
   "source": [
    "# Lecture 37: Updating Predictions"
   ]
  },
  {
   "cell_type": "markdown",
   "id": "614fb1b6-ea33-419d-b153-f1cc6d2d6d99",
   "metadata": {
    "slideshow": {
     "slide_type": "-"
    }
   },
   "source": [
    "Associated Textbook Sections: [18.0 - 18.2](https://inferentialthinking.com/chapters/18/Updating_Predictions.html)"
   ]
  },
  {
   "cell_type": "markdown",
   "id": "6731da0d-c2e6-4c3f-b8c1-a7636906275a",
   "metadata": {
    "slideshow": {
     "slide_type": "fragment"
    }
   },
   "source": [
    "---"
   ]
  },
  {
   "cell_type": "markdown",
   "id": "c7a285a4-50fd-4b09-98e6-d0bad91e54de",
   "metadata": {
    "slideshow": {
     "slide_type": "slide"
    }
   },
   "source": [
    "## Outline"
   ]
  },
  {
   "cell_type": "markdown",
   "id": "6c142495-7652-41bc-b3cb-17a95c50fd6b",
   "metadata": {},
   "source": [
    "* [Decisions](#Decisions)\n",
    "* [Conditional Probability](#Conditional-Probability)\n",
    "* [Tree Diagrams](#Tree-Diagrams)\n",
    "* [Bayes' Rule](#Bayes'-Rule)\n",
    "* [Subjective Probabilities](#Subjective-Probabilities)"
   ]
  },
  {
   "cell_type": "markdown",
   "id": "016ad1f0-a88e-4977-8a0b-18ac3aec8083",
   "metadata": {
    "slideshow": {
     "slide_type": "fragment"
    }
   },
   "source": [
    "---"
   ]
  },
  {
   "cell_type": "markdown",
   "id": "1432a900-923e-49c6-a2c2-ec15a1a09768",
   "metadata": {
    "slideshow": {
     "slide_type": "slide"
    }
   },
   "source": [
    "## Set Up the Notebook"
   ]
  },
  {
   "cell_type": "code",
   "execution_count": null,
   "id": "6757b308-64f4-4514-8483-bd17f695034d",
   "metadata": {
    "slideshow": {
     "slide_type": "-"
    }
   },
   "outputs": [],
   "source": [
    "from datascience import *\n",
    "import numpy as np\n",
    "%matplotlib inline\n",
    "import matplotlib.pyplot as plt\n",
    "plt.style.use('fivethirtyeight')"
   ]
  },
  {
   "cell_type": "markdown",
   "id": "79a8325a-4ad6-4a2e-ab56-e9e6ecc1cc88",
   "metadata": {
    "slideshow": {
     "slide_type": "fragment"
    }
   },
   "source": [
    "---"
   ]
  },
  {
   "cell_type": "markdown",
   "id": "9d8a7ff2-ab14-48b8-972c-e1d1cdf5cb48",
   "metadata": {
    "slideshow": {
     "slide_type": "slide"
    }
   },
   "source": [
    "## Decisions"
   ]
  },
  {
   "cell_type": "markdown",
   "id": "dd788b01-cd5f-48f0-874c-091285a6b9cf",
   "metadata": {
    "slideshow": {
     "slide_type": "fragment"
    }
   },
   "source": [
    "---"
   ]
  },
  {
   "cell_type": "markdown",
   "id": "0e3c3b95-959d-4638-b75d-552ff31ce696",
   "metadata": {
    "slideshow": {
     "slide_type": "subslide"
    },
    "tags": []
   },
   "source": [
    "### Decisions Under Uncertainty"
   ]
  },
  {
   "cell_type": "markdown",
   "id": "d3bb76be-27ee-4d52-998f-2349c05cd3db",
   "metadata": {
    "slideshow": {
     "slide_type": "-"
    }
   },
   "source": [
    "[*Interpretation by Physicians of Clinical Laboratory Results (1978)*](https://www.nejm.org/doi/full/10.1056/nejm197811022991808)\n",
    "\n",
    "> We asked 20 house officers, 20 fourth-year medical students and 20 attending physicians, selected in 67 consecutive hallway encounters at four Harvard Medical School teaching hospitals, the following question:\n",
    ">\n",
    "> _If a test to detect a disease whose prevalence is 1/1000 has a false positive rate of 5%, what is the chance that a person found to have a positive result actually has the disease, assuming that you know nothing about the person's symptoms or signs?_\n",
    ">\n",
    "> Eleven of 60 participants, or 18%, gave the correct answer. These participants included four of 20 fourth-year students, three of 20 residents in internal medicine and four of 20 attending physicians. The most common answer, given by 27, was that \\[the chance that a person found to have a positive result actually has the disease\\] was 95%."
   ]
  },
  {
   "cell_type": "markdown",
   "id": "d417ebdc-41bc-430f-a195-343ef94bdff4",
   "metadata": {
    "slideshow": {
     "slide_type": "fragment"
    }
   },
   "source": [
    "---"
   ]
  },
  {
   "cell_type": "markdown",
   "id": "412c619c-7f66-4943-9d86-5ccd80f7b9b9",
   "metadata": {
    "slideshow": {
     "slide_type": "subslide"
    },
    "tags": []
   },
   "source": [
    "### Medical Testing Scenario"
   ]
  },
  {
   "cell_type": "markdown",
   "id": "b6e0cbbd-2c4b-4284-a3a3-ed1383ab9ae9",
   "metadata": {},
   "source": [
    "* Rare disease with prevalence of 1/1000 in population\n",
    "* There is a test (e.g., antigen test) with the following properties\n",
    "    * False Positive Rate of 5%: If you do NOT have the disease then 5% of the time, the test says you do.\n",
    "    * False Negative Rate of 1%: If you DO have the disease then 1% of the time, the test says you do not have the disease.\n",
    "* If you sample a person at random and they test positive, what is the chance they have the rare disease?"
   ]
  },
  {
   "cell_type": "markdown",
   "id": "e955711e-a7dc-4c7a-a240-07c1a5a62db2",
   "metadata": {
    "slideshow": {
     "slide_type": "fragment"
    }
   },
   "source": [
    "---"
   ]
  },
  {
   "cell_type": "markdown",
   "id": "0d2d2f81-97d8-4f86-bb39-60cce4595005",
   "metadata": {
    "slideshow": {
     "slide_type": "subslide"
    },
    "tags": []
   },
   "source": [
    "### Truth and Test Results"
   ]
  },
  {
   "cell_type": "markdown",
   "id": "c5a475b5-c7e7-4f7a-9c5f-47cfdf9553c1",
   "metadata": {},
   "source": [
    "All patients fall into one of 4 categories:\n",
    "\n",
    "<img src=\"./truth_and_test_results.png\" alt=\"Table showing the 4 possible outcomes for the patient.\" width=70%>"
   ]
  },
  {
   "cell_type": "markdown",
   "id": "5eebc184-1fbc-439a-9a62-492dba8d3f2b",
   "metadata": {
    "slideshow": {
     "slide_type": "fragment"
    }
   },
   "source": [
    "---"
   ]
  },
  {
   "cell_type": "markdown",
   "id": "422a81bf-f934-4b2e-8875-b6b970a10011",
   "metadata": {
    "slideshow": {
     "slide_type": "subslide"
    },
    "tags": []
   },
   "source": [
    "### False Positive Rate"
   ]
  },
  {
   "cell_type": "markdown",
   "id": "e8c5a8c5-b878-474c-8ba9-ae889b6365d0",
   "metadata": {},
   "source": [
    "<img src=\"./false_positive_rate.png\" alt=\"Same table focusing on the first row as if they test indicated positive.\"  width=70%>"
   ]
  },
  {
   "cell_type": "markdown",
   "id": "93a05369-ae56-43ab-b950-2b9b98130d63",
   "metadata": {
    "slideshow": {
     "slide_type": "fragment"
    }
   },
   "source": [
    "---"
   ]
  },
  {
   "cell_type": "markdown",
   "id": "ef320e3b-f1b8-4382-b20e-2bcb73ee8198",
   "metadata": {
    "slideshow": {
     "slide_type": "subslide"
    },
    "tags": []
   },
   "source": [
    "### False Negative Rate"
   ]
  },
  {
   "cell_type": "markdown",
   "id": "22f12b13-be04-4310-a691-7160e3118b93",
   "metadata": {},
   "source": [
    "<img src=\"./false_negative_rate.png\" alt=\"Same table focusing on the first row as if they test indicated negative.\"  width=70%>"
   ]
  },
  {
   "cell_type": "markdown",
   "id": "b0694e3e-3ead-4e13-9fa8-1f84dae43ec7",
   "metadata": {
    "slideshow": {
     "slide_type": "fragment"
    }
   },
   "source": [
    "---"
   ]
  },
  {
   "cell_type": "markdown",
   "id": "d702ceaa-a00f-43d5-a563-c613a6c60acd",
   "metadata": {
    "slideshow": {
     "slide_type": "subslide"
    },
    "tags": []
   },
   "source": [
    "### Example: Unconditional Probabilities"
   ]
  },
  {
   "cell_type": "markdown",
   "id": "2c3d8bd1-b8ec-425f-b324-8cbd7f87d8ef",
   "metadata": {
    "slideshow": {
     "slide_type": "-"
    }
   },
   "source": [
    "* Class consists of Freshmen (60%) and Sophomores (40%)\n",
    "* Some of the students have declared their major\n",
    "    * 50% of the Freshmen have declared their major\n",
    "    * 80% of the Sophomores have declared their major\n",
    "* I pick one student at random ... \n",
    "* Which is more likely: Freshman or Sophomore?\n",
    "    * The probability that the student is a sophomore is 40%.\n",
    "    * Unconditional probability, given no additional information"
   ]
  },
  {
   "cell_type": "markdown",
   "id": "f1fe7bef-28a6-47f1-b8aa-96ed27c9170f",
   "metadata": {
    "slideshow": {
     "slide_type": "subslide"
    },
    "tags": []
   },
   "source": [
    "### Example: Conditional Probabilities"
   ]
  },
  {
   "cell_type": "markdown",
   "id": "9fe43f00-2659-4e27-9d56-c673828e68da",
   "metadata": {
    "slideshow": {
     "slide_type": "-"
    }
   },
   "source": [
    "* Class consists of Freshmen (60%) and Sophomores (40%)\n",
    "* Some of the students have declared their major\n",
    "    * 50% of the Freshmen have declared their major\n",
    "    * 80% of the Sophomores have declared their major\n",
    "* I pick one student at random ... \n",
    "* **Given Information: That student has declared a major!**\n",
    "* Which is more likely: Freshman or Sophomore?\n",
    "    * The probability that the student (who declared a major) is a sophomore is 50%.\n",
    "    * Conditional probability, given that the student has declared a major."
   ]
  },
  {
   "cell_type": "markdown",
   "id": "85fa73ac-a77b-4bec-9df4-633db22fb9ac",
   "metadata": {
    "slideshow": {
     "slide_type": "fragment"
    }
   },
   "source": [
    "---"
   ]
  },
  {
   "cell_type": "markdown",
   "id": "08e1832e-2f64-486b-96d8-f13d8678d875",
   "metadata": {
    "slideshow": {
     "slide_type": "subslide"
    },
    "tags": []
   },
   "source": [
    "### What do these scenarios have in common?"
   ]
  },
  {
   "cell_type": "markdown",
   "id": "523589cf-0719-4a22-9b64-52f17f06887d",
   "metadata": {},
   "source": [
    "* There is some chance event that I am interested in \n",
    "    * person has a disease\n",
    "    * the student's year\n",
    "* I start with some prior (before observing anything) information about that quantity:\n",
    "    * P(Disease)\n",
    "    * P(Year)\n",
    "* I then observe something whose value depends probabilistically on the original chance event:\n",
    "    * Test is Positive\n",
    "    * Student has declared\n",
    "    * Neither piece of information exactly determines the original event\n",
    "* How do I update the probability of the original event given the additional information?"
   ]
  },
  {
   "cell_type": "markdown",
   "id": "dc3de5f6-fcf5-408f-abc1-b88e0422ec31",
   "metadata": {
    "slideshow": {
     "slide_type": "fragment"
    }
   },
   "source": [
    "---"
   ]
  },
  {
   "cell_type": "markdown",
   "id": "f8903925-faeb-4c77-8d2f-0c1f4a733884",
   "metadata": {
    "slideshow": {
     "slide_type": "slide"
    }
   },
   "source": [
    "## Conditional Probability"
   ]
  },
  {
   "cell_type": "markdown",
   "id": "8eebb96b-faec-4027-8551-f7e80937d7be",
   "metadata": {
    "slideshow": {
     "slide_type": "fragment"
    }
   },
   "source": [
    "---"
   ]
  },
  {
   "cell_type": "markdown",
   "id": "ee439ce3-7158-474f-b7de-b1484142f4e1",
   "metadata": {
    "slideshow": {
     "slide_type": "subslide"
    },
    "tags": []
   },
   "source": [
    "### Conditional Probability"
   ]
  },
  {
   "cell_type": "markdown",
   "id": "500019a5-748b-4509-86ee-c78712be975e",
   "metadata": {},
   "source": [
    "Probability of an event given some information (it is conditioned on the information)\n",
    "\n",
    "Example: \n",
    "* “80% of Sophomores are Declared” \n",
    "* P(Declared | Sophomore) = 0.8 <--- Notation\n",
    "\n"
   ]
  },
  {
   "cell_type": "markdown",
   "id": "712415f3-84f0-4631-9f7f-f98d14dfa0b5",
   "metadata": {
    "slideshow": {
     "slide_type": "fragment"
    }
   },
   "source": [
    "---"
   ]
  },
  {
   "cell_type": "markdown",
   "id": "5a04f7a7-5202-4e98-91b1-c89d5c281739",
   "metadata": {
    "slideshow": {
     "slide_type": "subslide"
    },
    "tags": []
   },
   "source": [
    "### Conditional vs Joint Probabilities "
   ]
  },
  {
   "cell_type": "markdown",
   "id": "f7087b2e-325d-4350-a64c-09c5095e9371",
   "metadata": {},
   "source": [
    "* Recall the joint probability of two events: \n",
    "    * P(Declared, Sophomore) = chance of a random student being a declared and a Sophomore\n",
    "* Conditional probability (the stuff after | is given):\n",
    "    * P(Declared | Sophomore) = chance of a random Sophomore student being declared \n",
    "* Which one is bigger?"
   ]
  },
  {
   "cell_type": "markdown",
   "id": "c7068cf4-9a8e-4434-9c92-3ae1efbd51b6",
   "metadata": {
    "slideshow": {
     "slide_type": "fragment"
    }
   },
   "source": [
    "---"
   ]
  },
  {
   "cell_type": "markdown",
   "id": "aad651ff-d974-4096-a5e1-9038ffb27201",
   "metadata": {
    "slideshow": {
     "slide_type": "subslide"
    },
    "tags": []
   },
   "source": [
    "### An Example"
   ]
  },
  {
   "cell_type": "code",
   "execution_count": null,
   "id": "1ef952e4-9667-496d-b719-bd9b4adceb01",
   "metadata": {},
   "outputs": [],
   "source": [
    "from IPython.display import IFrame\n",
    "IFrame('https://docs.google.com/presentation/d/e/2PACX-1vRiLsFDsuuT\\\n",
    "_fGEkjNJJ5Yv6MdEkWshYniIDyrzR4F4vN7UkAUgwT-MrhUTy8_gxwyhLv3rTleNScXw\\\n",
    "/embed?start=false&loop=false&delayms=3000', 960, 569)"
   ]
  },
  {
   "cell_type": "markdown",
   "id": "7a7dd278-8730-401e-9fef-c0eec5766696",
   "metadata": {
    "slideshow": {
     "slide_type": "fragment"
    }
   },
   "source": [
    "---"
   ]
  },
  {
   "cell_type": "markdown",
   "id": "6e7ed333-a297-4ce1-9d82-75d3bdc71ced",
   "metadata": {
    "slideshow": {
     "slide_type": "slide"
    },
    "tags": []
   },
   "source": [
    "## Tree Diagrams"
   ]
  },
  {
   "cell_type": "markdown",
   "id": "919a71f7-b0a3-4696-afc3-f62220c8254f",
   "metadata": {
    "slideshow": {
     "slide_type": "fragment"
    }
   },
   "source": [
    "---"
   ]
  },
  {
   "cell_type": "markdown",
   "id": "d7542da2-d3ab-4608-b994-3327c8fa8fb6",
   "metadata": {
    "slideshow": {
     "slide_type": "subslide"
    },
    "tags": []
   },
   "source": [
    "### Tree Diagrams"
   ]
  },
  {
   "cell_type": "code",
   "execution_count": null,
   "id": "b7ce2506-3bdf-4418-bc83-e6c769a44fd3",
   "metadata": {},
   "outputs": [],
   "source": [
    "from IPython.display import IFrame\n",
    "IFrame('https://docs.google.com/presentation/d/e/2PACX-1vTYqt2\\\n",
    "-0qckaBNAHfug29S4o0IV-tCrPkOp3a01wWsx65iyAmpFX3gI9ROkaZ21Syf77\\\n",
    "xyiIIDrGAgS/embed?start=false&loop=false&delayms=3000', 960, 569)"
   ]
  },
  {
   "cell_type": "markdown",
   "id": "62cfbc62-1d86-4b95-86c6-2f7779e1881d",
   "metadata": {
    "slideshow": {
     "slide_type": "fragment"
    }
   },
   "source": [
    "---"
   ]
  },
  {
   "cell_type": "markdown",
   "id": "18773d75-d446-45db-bc5e-2b66ad0e21a8",
   "metadata": {
    "slideshow": {
     "slide_type": "slide"
    }
   },
   "source": [
    "## Bayes' Rule"
   ]
  },
  {
   "cell_type": "markdown",
   "id": "85d09293-1ea1-4fe5-bafb-4a56e707b7d0",
   "metadata": {
    "slideshow": {
     "slide_type": "fragment"
    }
   },
   "source": [
    "---"
   ]
  },
  {
   "cell_type": "markdown",
   "id": "6ba2417d-40d8-4ccf-aed0-42012c221105",
   "metadata": {
    "slideshow": {
     "slide_type": "subslide"
    },
    "tags": []
   },
   "source": [
    "### Bayes' Rule"
   ]
  },
  {
   "cell_type": "code",
   "execution_count": null,
   "id": "deeb03e0-b240-4afb-b6f8-a4666b5cc2c4",
   "metadata": {
    "slideshow": {
     "slide_type": "-"
    }
   },
   "outputs": [],
   "source": [
    "from IPython.display import IFrame\n",
    "IFrame('https://docs.google.com/presentation/d/e/2PACX-1vSTI_AHfonqA-\\\n",
    "ww_uTioJOpF_sy8PHvEkaZ1B0ahy-KdKXygejBtQeQpIACZ0xNLnEYCfTbfkSC3Klw/\\\n",
    "embed?start=false&loop=false&delayms=3000', 960, 569)"
   ]
  },
  {
   "cell_type": "markdown",
   "id": "b24d7301-189a-4471-8b60-5dd1fa93fd8d",
   "metadata": {
    "slideshow": {
     "slide_type": "fragment"
    }
   },
   "source": [
    "---"
   ]
  },
  {
   "cell_type": "markdown",
   "id": "408bef32-3b42-41d4-bf3c-e8a9b8eea0ea",
   "metadata": {
    "slideshow": {
     "slide_type": "subslide"
    },
    "tags": []
   },
   "source": [
    "### A Closer Look at the Answer"
   ]
  },
  {
   "cell_type": "markdown",
   "id": "98803fa7-a46f-494f-bb89-3959c93b5e30",
   "metadata": {},
   "source": [
    "Assume a patient is picked at random.\n",
    "* Prior probability of disease \n",
    "    * P(Disease) = 0.001 = one-tenth of 1%\n",
    "* Posterior probability of disease given positive test\n",
    "    * P(Disease | Test positive) = 0.0194... ≅ 2%\n",
    "* Bigger than the prior, but still pretty small\n",
    "* Should we approve such a test?\n",
    "    * The test has low error rates compared to most tests\n",
    "* How can this be?\n"
   ]
  },
  {
   "cell_type": "markdown",
   "id": "f4042c52-e864-4d19-8c14-21c2391a00f4",
   "metadata": {
    "slideshow": {
     "slide_type": "fragment"
    }
   },
   "source": [
    "---"
   ]
  },
  {
   "cell_type": "markdown",
   "id": "2fd5c73f-a5f0-48e5-b8c2-4d9819150400",
   "metadata": {
    "slideshow": {
     "slide_type": "subslide"
    },
    "tags": []
   },
   "source": [
    "### Assumptions Matter"
   ]
  },
  {
   "cell_type": "markdown",
   "id": "e4c0ac37-5428-4c49-b32a-f31c901cbb2b",
   "metadata": {},
   "source": [
    "* \"Assume a patient is picked at random.\"\n",
    "    * But usually, people aren’t picked at random for medical tests\n",
    "    * So our intuition about randomly picked patients may not be great\n",
    "* For a randomly picked patient, the result does make sense, because the disease is very rare.\n",
    "* What if the doctor believes there is a 10% chance the patient has the disease?"
   ]
  },
  {
   "cell_type": "markdown",
   "id": "721b64f3-5915-4fac-8089-fe678026017d",
   "metadata": {
    "slideshow": {
     "slide_type": "fragment"
    }
   },
   "source": [
    "---"
   ]
  },
  {
   "cell_type": "markdown",
   "id": "876e9059-2545-424f-9468-804e757b7c5b",
   "metadata": {
    "slideshow": {
     "slide_type": "subslide"
    },
    "tags": []
   },
   "source": [
    "### Bayes' Rule and Covid Testing"
   ]
  },
  {
   "cell_type": "markdown",
   "id": "ed7147f4-8e40-4991-ab74-ba82713777c7",
   "metadata": {
    "slideshow": {
     "slide_type": "-"
    }
   },
   "source": [
    "<a href=\"https://www.theguardian.com/world/2021/apr/18/obscure-maths-bayes-theorem-reliability-covid-lateral-flow-tests-probability\" title=\"The obscure maths theorem that governs the reliability of Covid testing - The Guardian\"><img src=\"./bayes.png\" width=50%></a>\n",
    "\n",
    "> \"Without knowing the prior probability, you don't know how likely it is that a result is false or true.\"\n",
    "\n",
    "> The government says – accurately – that the “false positive rate”, the chance of a test returning a positive result in a person who does not have the disease, is less than one in 1,000. And that’s where we came in: you might think that that means, if you’ve had a positive result, that there’s a less than one in 1,000 chance that it’s false."
   ]
  },
  {
   "cell_type": "markdown",
   "id": "c03f25f9-76fb-4e4d-a12a-338d6d84b92b",
   "metadata": {
    "slideshow": {
     "slide_type": "fragment"
    }
   },
   "source": [
    "---"
   ]
  },
  {
   "cell_type": "markdown",
   "id": "fd92b238-b3b7-4149-90c8-40aa0024f599",
   "metadata": {
    "slideshow": {
     "slide_type": "subslide"
    },
    "tags": []
   },
   "source": [
    "### Demo: Bayes' Rule"
   ]
  },
  {
   "attachments": {},
   "cell_type": "markdown",
   "id": "4fcedaae-adc0-4d48-be27-65f0e9107e8a",
   "metadata": {
    "deletable": false,
    "editable": false,
    "slideshow": {
     "slide_type": "notes"
    },
    "tags": []
   },
   "source": [
    "* Create a function that calculates $P(A \\mid B) = \\frac{P(A) \\cdot P(B\\mid A)}{P(B)}$\n",
    "* Use `bayes_rule` to calculate the probability for the original medical question.\n",
    "* How does the conditional probability change when the prior is larger?\n",
    "* Notice how quickly the Posterior probability climbs as the Prior probability increases."
   ]
  },
  {
   "cell_type": "code",
   "execution_count": null,
   "id": "caecafba-6340-420c-b540-1997f9094f5d",
   "metadata": {
    "tags": []
   },
   "outputs": [],
   "source": [
    "def bayes_rule(pr_a, pr_b_given_a, pr_b_given_not_a):\n",
    "    \"\"\"\n",
    "    Bayes' Rule\n",
    "    P(A | B) = P(A)P(B|A) / P(B)\n",
    "    \n",
    "    To Compute P(B)\n",
    "        P(B) = P(B, A) + P(B, Not A) \n",
    "             = P(A)P(B|A) + P(Not A)P(B | Not A)\n",
    "    \"\"\"\n",
    "    pr_b = ...\n",
    "    ..."
   ]
  },
  {
   "cell_type": "code",
   "execution_count": null,
   "id": "5cdf0886-3ad5-4863-87d3-3949efe25e21",
   "metadata": {
    "tags": []
   },
   "outputs": [],
   "source": [
    "pr_disease = ...\n",
    "pr_pos_given_disease = ...\n",
    "pr_pos_given_no_disease = ...\n",
    "\n",
    "..."
   ]
  },
  {
   "cell_type": "code",
   "execution_count": null,
   "id": "e15e921a-d66a-43b1-8d74-36a8373de1a4",
   "metadata": {
    "tags": []
   },
   "outputs": [],
   "source": [
    "pr_disease_update = ...\n",
    "pr_pos_given_disease = ...\n",
    "pr_pos_given_no_disease = ...\n",
    "\n",
    "..."
   ]
  },
  {
   "cell_type": "code",
   "execution_count": null,
   "id": "1217cd02-bcfc-4daf-9e0e-f355825a6383",
   "metadata": {
    "tags": []
   },
   "outputs": [],
   "source": [
    "pr_disease = np.arange(1,999)/1000\n",
    "pr_pos_given_disease = 0.99\n",
    "pr_pos_given_no_disease = 0.05\n",
    "\n",
    "post = bayes_rule(pr_disease, pr_pos_given_disease, pr_pos_given_no_disease)\n",
    "Table().with_columns(\n",
    "    \"Prior Pr(Disease)\", pr_disease, \n",
    "    \"Posterior Pr(Disease | Pos. Test)\", post).iplot(\"Prior Pr(Disease)\")"
   ]
  },
  {
   "cell_type": "markdown",
   "id": "cc52bda2-8485-4af7-8c23-ef8d3110df8e",
   "metadata": {
    "slideshow": {
     "slide_type": "fragment"
    }
   },
   "source": [
    "---"
   ]
  },
  {
   "cell_type": "markdown",
   "id": "ab7a1c48-f6bc-4408-94df-d55d106ca4b5",
   "metadata": {
    "slideshow": {
     "slide_type": "slide"
    }
   },
   "source": [
    "## Subjective Probabilities"
   ]
  },
  {
   "cell_type": "markdown",
   "id": "6eec362b-bd9d-40c9-998b-cc83b4c7af71",
   "metadata": {
    "slideshow": {
     "slide_type": "fragment"
    }
   },
   "source": [
    "---"
   ]
  },
  {
   "cell_type": "markdown",
   "id": "dd286519-ab00-4d05-a771-c956968cfb13",
   "metadata": {},
   "source": [
    "### Optinions"
   ]
  },
  {
   "cell_type": "markdown",
   "id": "64706744-96b0-4b78-9f06-f1814f2e0f7f",
   "metadata": {},
   "source": [
    "The probability of an outcome can be defined in two ways:\n",
    "\n",
    "* _Frequentist_: The frequency with which it will occur in repeated trials\n",
    "* _Bayesian_: Someone's subjective degree of belief that it will occur\n",
    "\n",
    "Why use subjective probabilities?\n",
    "\n",
    "To quantify your degree of uncertainty about an outcome, even when there is no physical randomization\n",
    "chance of the “Big One” in the next 30 years\n"
   ]
  },
  {
   "cell_type": "markdown",
   "id": "db4fb723-eb26-48b5-b5d2-ddef36b952f5",
   "metadata": {
    "slideshow": {
     "slide_type": "fragment"
    }
   },
   "source": [
    "---"
   ]
  },
  {
   "cell_type": "markdown",
   "id": "9ee55fbc-dd59-4896-a00b-8d0b677e8f3e",
   "metadata": {
    "slideshow": {
     "slide_type": "subslide"
    },
    "tags": []
   },
   "source": [
    "### Subjective Probabilities"
   ]
  },
  {
   "cell_type": "markdown",
   "id": "89c3072a-42e9-426f-8309-2a2ca95d0b60",
   "metadata": {
    "slideshow": {
     "slide_type": "-"
    }
   },
   "source": [
    "* A probability of an outcome can be thought of as:\n",
    "    * A Perspective: The frequency with which it will occur in repeated trials\n",
    "    * Another Perspective: The **subjective** degree of belief that it will (or has) occurred\n",
    "* Why use **subjective** priors?\n",
    "    * In order to quantify a belief that is relevant to a decision\n",
    "    * If the subject of your prediction was not selected randomly from the population\n"
   ]
  },
  {
   "cell_type": "markdown",
   "id": "1b2e07f9-b528-4d01-82aa-744818689580",
   "metadata": {
    "slideshow": {
     "slide_type": "fragment"
    }
   },
   "source": [
    "---"
   ]
  },
  {
   "cell_type": "markdown",
   "id": "9488f28d-7d39-4dc7-9f82-4b277711dd8a",
   "metadata": {
    "slideshow": {
     "slide_type": "notes"
    }
   },
   "source": [
    "<footer>\n",
    "    <p>Adopted from UC Berkeley DATA 8 course materials.</p>\n",
    "    <p>This content is offered under a <a href=\"https://creativecommons.org/licenses/by-nc-sa/4.0/\">CC Attribution Non-Commercial Share Alike</a> license.</p>\n",
    "</footer>"
   ]
  }
 ],
 "metadata": {
  "kernelspec": {
   "display_name": "Python 3 (ipykernel)",
   "language": "python",
   "name": "python3"
  },
  "language_info": {
   "codemirror_mode": {
    "name": "ipython",
    "version": 3
   },
   "file_extension": ".py",
   "mimetype": "text/x-python",
   "name": "python",
   "nbconvert_exporter": "python",
   "pygments_lexer": "ipython3",
   "version": "3.10.12"
  },
  "otter": {
   "OK_FORMAT": true,
   "tests": {}
  }
 },
 "nbformat": 4,
 "nbformat_minor": 5
}
